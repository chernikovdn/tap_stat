{
 "cells": [
  {
   "cell_type": "code",
   "execution_count": 1,
   "metadata": {},
   "outputs": [],
   "source": [
    "# Метрики:\n",
    "# RPU - rub per uet - стоимость 1 УЕТы\n",
    "# FPV - filling per visit - отношение числа пломб к числу приемов\n",
    "# DPV - devitalization per vizit - отношение числа мышьяков к числу приемов\n",
    "# Плановое среднее значение стоимости 1 УЕТы в 2021 году = 166,26 руб.\n",
    "# Плановое среднее значение стоимости 1 УЕТы в 2022 году = 167,70 руб."
   ]
  },
  {
   "cell_type": "code",
   "execution_count": 2,
   "metadata": {},
   "outputs": [],
   "source": [
    "# PRVS:\n",
    "# 72 - хирурги\n",
    "# 87 - физио"
   ]
  },
  {
   "cell_type": "code",
   "execution_count": 163,
   "metadata": {},
   "outputs": [],
   "source": [
    "import os\n",
    "import shutil\n",
    "import numpy as np\n",
    "import pandas as pd\n",
    "from simpledbf import Dbf5\n",
    "import seaborn as sns\n",
    "import matplotlib.pyplot as plt\n",
    "import plotly.express as px\n",
    "import plotly.io as pio\n",
    "from plotly.colors import n_colors\n",
    "\n",
    "import hashlib\n",
    "\n",
    "from openpyxl import load_workbook\n",
    "from openpyxl import worksheet\n",
    "\n",
    "%matplotlib inline"
   ]
  },
  {
   "cell_type": "code",
   "execution_count": 170,
   "metadata": {},
   "outputs": [],
   "source": [
    "# Определим максимальный период, уже находящийся в директории для загрузки\n",
    "\n",
    "def get_max_loaded_period(cur_path):\n",
    "    \n",
    "    max_period = 0\n",
    "    max_loaded_period = ''\n",
    "    \n",
    "    for dr in os.listdir(cur_path):\n",
    "        if int(dr[-5:-1]) > max_period:\n",
    "            max_period = int(dr[-5:-1])\n",
    "            max_loaded_period = dr\n",
    "            \n",
    "    return max_loaded_period"
   ]
  },
  {
   "cell_type": "code",
   "execution_count": 171,
   "metadata": {},
   "outputs": [],
   "source": [
    "# Рекурсивный обход директории и поиск u файлов, возврат списка u файлов\n",
    "# Узкое место: при чтении u и d файлов берется не только первый символ для проверки, \n",
    "# но и длина названия файла в 11 символов\n",
    "def read_u_files(cur_path, dbf_files):\n",
    "    \n",
    "    for dr in os.listdir(cur_path):\n",
    "        \n",
    "        abs_path = os.path.join(cur_path, dr)\n",
    "\n",
    "        if os.path.isdir(abs_path):\n",
    "            read_u_files(abs_path, dbf_files)\n",
    "        elif 'u' in dr[0].lower() and dr[-4:].lower() == '.dbf':\n",
    "            dbf_files.append(abs_path)\n",
    "\n",
    "    return dbf_files"
   ]
  },
  {
   "cell_type": "code",
   "execution_count": 172,
   "metadata": {},
   "outputs": [],
   "source": [
    "# Рекурсивный обход директории и поиск d файлов, возврат списка d файлов\n",
    "# Узкое место: при чтении u и d файлов берется не только первый символ для проверки, \n",
    "# но и длина названия файла в 11 символов\n",
    "def read_d_files(cur_path, dbf_files):\n",
    "    \n",
    "    for dr in os.listdir(cur_path):\n",
    "        \n",
    "        abs_path = os.path.join(cur_path, dr)\n",
    "        \n",
    "        if os.path.isdir(abs_path):\n",
    "            read_d_files(abs_path, dbf_files)\n",
    "        elif 'd' in dr[0].lower() and dr[-4:].lower() == '.dbf':\n",
    "            dbf_files.append(abs_path)\n",
    "\n",
    "    return dbf_files"
   ]
  },
  {
   "cell_type": "code",
   "execution_count": 173,
   "metadata": {},
   "outputs": [],
   "source": [
    "# Загрузим u-файлы, выберем только нужные колонки\n",
    "def read_u_dbf(year=0):\n",
    "#     Передаем путь, по которому найдем все dbf файлы для загрузки  \n",
    "    if year == 0:  \n",
    "        u_files_to_load = read_u_files(dbf_path_all, [])\n",
    "    else:\n",
    "        u_files_to_load = read_u_files(dbf_path_year, [])\n",
    "    df_u = pd.DataFrame()\n",
    "    for f in u_files_to_load:\n",
    "        # Сразу забираем только нужные колонки\n",
    "        df_tmp = Dbf5(f, codec='cp866').to_dataframe()\n",
    "        df_tmp = df_tmp[['OT_PER', 'MSK_OT', 'PERSCODE', 'NHISTORY', 'PROFIL', 'MKB1', 'MKB2', 'MKB3', 'CODE_USL',\n",
    "                         'CODE_MD', 'DATE_IN', 'KOL_USL', 'RES_GOSP', 'ISH_MOV', 'TARIF_B', 'SUM_RUB', 'CODE_OTD',\n",
    "                         'P_CEL', 'MKB0', 'C_ZAB', 'OT_PER_U', 'IDCASE']]\n",
    "        df_u = pd.concat([df_u, df_tmp], ignore_index=True)\n",
    "        # Этот вариант на 50% дольше\n",
    "        # df_u = pd.concat([df_u, Dbf5(f, codec='cp866').to_dataframe()], ignore_index=True)\n",
    "        # break\n",
    "    return df_u"
   ]
  },
  {
   "cell_type": "code",
   "execution_count": 174,
   "metadata": {},
   "outputs": [],
   "source": [
    "# 0 - загрузим все года\n",
    "def read_d_dbf(year=0):\n",
    "#     Передаем путь, по которому найдем все dbf файлы для загрузки\n",
    "    if year == 0:\n",
    "        d_files_to_load = read_d_files(dbf_path_all, [])\n",
    "    else:\n",
    "        d_files_to_load = read_d_files(dbf_path_year, [])\n",
    "    df_d = pd.DataFrame()\n",
    "    for f in d_files_to_load:\n",
    "        df_tmp = Dbf5(f, codec='cp866').to_dataframe()\n",
    "        df_tmp = df_tmp[['OT_PER', 'CODE_MD', 'FIO_MD', 'KATEG_MD', 'SPEC_MD', 'MD_SS', 'PRVS']]\n",
    "        df_tmp['MSK_OT'] = f[-10:-8]  # Добавим код страховой для верного объединения с u-файлом\n",
    "        df_d = pd.concat([df_d, df_tmp], ignore_index=True)\n",
    "    return df_d"
   ]
  },
  {
   "cell_type": "code",
   "execution_count": 175,
   "metadata": {},
   "outputs": [],
   "source": [
    "# year - загрузим только нужный год\n",
    "# year = 0 - загрузим все года\n",
    "year = 2022\n",
    "\n",
    "# структура папок должна соответствовать (.../dbf/year/.../*.dbf, например .../dbf/2022/.../*.dbf)\n",
    "dbf_path_all = '../no_mkb2_u0621/dbf'\n",
    "dbf_path_year = f'../no_mkb2_u0621/dbf/{year}'"
   ]
  },
  {
   "cell_type": "code",
   "execution_count": 176,
   "metadata": {},
   "outputs": [],
   "source": [
    "# Перезапишем максимальный период (этот период периодически пересобирается)\n",
    "# Предыдущие периоды не трогаем, если вдруг нужно их перезаписать, то копируем руками выборочно нужный период\n",
    "# Новый период появляется уже в новом месяце, когда предыдущий период уже собран полностью и не требует перезаписи\n",
    "\n",
    "# Создадим временную заглушку для year == 0, нужно будет продумать загрузку всех периодов и нужно ли?\n",
    "if year == 0:\n",
    "    year = 2022\n",
    "\n",
    "reestr_path = 'D:/Электронная регистратура/BIN_MIS/bin_mo/Reestr/TFOMS_1/'\n",
    "\n",
    "max_loaded_period = get_max_loaded_period(dbf_path_year)\n",
    "\n",
    "shutil.copytree(src=os.path.join(reestr_path, max_loaded_period), \n",
    "                dst=f'{dbf_path_year}/{max_loaded_period}', \n",
    "                dirs_exist_ok=True,\n",
    "                ignore = shutil.ignore_patterns('*.zip', '*.xls', '*.enc', '*.pdf'))\n",
    "\n",
    "# Смотрим, появился ли в каталоге реестров новый период, больше чем уже загруженный\n",
    "# Директории имеют название \"REESTR_3613015005221\", где:\n",
    "# REESTR_+{код=361301}+{регион=50}+{период_ММГГ=0522}+{номер_пакета=1}\n",
    "# Тогда добавляя 1000 к численной части названия директории мы по сути будем итерироваться по месяцам\n",
    "next_period = f'REESTR_{int(max_loaded_period[-13:]) + 1000}'\n",
    "next_period_path = os.path.join(reestr_path, next_period)\n",
    "\n",
    "# Мало ли мы не запускали скрипт несколько месяцев, тогда в цикле подгрузим все директории,\n",
    "# более поздние относительно уже загруженной\n",
    "while os.path.isdir(os.path.join(reestr_path, next_period)):\n",
    "    shutil.copytree(src=next_period_path, \n",
    "                    dst=f'{dbf_path_year}/{next_period}', \n",
    "                    dirs_exist_ok=True,\n",
    "                    ignore = shutil.ignore_patterns('*.zip', '*.xls', '*.enc', '*.pdf'))\n",
    "    next_period = f'REESTR_{int(next_period[-13:]) + 1000}'\n",
    "    next_period_path = os.path.join(reestr_path, next_period)"
   ]
  },
  {
   "cell_type": "code",
   "execution_count": 177,
   "metadata": {},
   "outputs": [
    {
     "data": {
      "text/plain": [
       "'0522'"
      ]
     },
     "execution_count": 177,
     "metadata": {},
     "output_type": "execute_result"
    }
   ],
   "source": [
    "# Получим актуальный максимальный период в исходных загружаемых данных\n",
    "current_max_period = get_max_loaded_period(dbf_path_year)[-5:-1]\n",
    "current_max_period"
   ]
  },
  {
   "cell_type": "code",
   "execution_count": null,
   "metadata": {},
   "outputs": [],
   "source": []
  },
  {
   "cell_type": "code",
   "execution_count": 178,
   "metadata": {},
   "outputs": [],
   "source": [
    "df_all_u = read_u_dbf(year)\n",
    "df_all_d = read_d_dbf(year)"
   ]
  },
  {
   "cell_type": "code",
   "execution_count": 179,
   "metadata": {},
   "outputs": [],
   "source": [
    "# Плановая средняя стоимость 1 УЕТ\n",
    "# Стоимости УЕТ разнятся в зависимости от типа услуги\n",
    "\n",
    "mean_uet = 0\n",
    "if year == 2021:\n",
    "    mean_uet = 166.26\n",
    "elif year == 2022:\n",
    "    mean_uet = 167.7"
   ]
  },
  {
   "cell_type": "code",
   "execution_count": 180,
   "metadata": {},
   "outputs": [],
   "source": [
    "# В OT_PER_U == OT_PER попадают перевыставленные случаи, а значит присутсвуют в прошлых периодах\n",
    "df_all_u = df_all_u[df_all_u['OT_PER'] == df_all_u['OT_PER_U']]\n",
    "\n",
    "df_all_u['DATE_IN'] = pd.to_datetime(df_all_u['DATE_IN'])\n",
    "\n",
    "# Загрузим тарифы в УЕТ (берем октябрь 2021, так как в течение 2021 года тарифы в УЕТ не изменялись\n",
    "# для верности будем брать mdu посвежее, хотя изменений по стоматологии там и не было\n",
    "# и объеденим с u-датафреймом\n",
    "# df_mdu = pd.read_excel('../no_mkb2_u0621/dbf/mdu1021_dbf.xlsx')\n",
    "df_mdu = pd.read_excel('../no_mkb2_u0621/dbf/mdu0122_dbf.xlsx')\n",
    "df_mdu = df_mdu[df_mdu['KOL_UET'] > 0]\n",
    "df_all_u_uet = pd.merge(df_all_u, df_mdu[['CODE_USL', 'NAME_USL', 'KOL_UET']], how='left', on='CODE_USL')\n",
    "df_all = pd.merge(df_all_u_uet, df_all_d[['OT_PER', 'MSK_OT', 'CODE_MD', 'FIO_MD', 'SPEC_MD', 'MD_SS', 'PRVS']],\n",
    "                  how='left', on=['OT_PER', 'MSK_OT', 'CODE_MD'])\n",
    "df_all['SUM_UET'] = df_all['KOL_UET']*df_all['KOL_USL']\n",
    "\n",
    "df_all['SUM_RUB'] = np.around(df_all['SUM_RUB'], decimals=2)\n",
    "# Отметим физио отдельно\n",
    "df_all.loc[df_all['PRVS'] == 87, 'FIO_MD'] += ' физио'\n",
    "\n",
    "# В 2021 была корректировка ФИО\n",
    "df_all['FIO_MD'] = df_all['FIO_MD'].str.replace(pat='Горбикова Элла Рашитовна',\n",
    "                                                repl='Горбикова Эльфия Рашитовна')\n",
    "df_all['FIO_MD'] = df_all['FIO_MD'].str.replace(pat='Камынова Наталия Валерьевна',\n",
    "                                                repl='Камынова Наталия Валериевна')"
   ]
  },
  {
   "cell_type": "code",
   "execution_count": 181,
   "metadata": {},
   "outputs": [],
   "source": [
    "# Обозначение типа специальности\n",
    "\n",
    "df_all['spec'] = df_all \\\n",
    "                    .PRVS \\\n",
    "                    .map({208: 'тер', 72: 'хир', 69: 'тер', 71: 'тер', 87: 'физио'})"
   ]
  },
  {
   "cell_type": "code",
   "execution_count": 182,
   "metadata": {},
   "outputs": [],
   "source": [
    "# Этот вариант компактный, но что если будет врач без ФИО, плюс физио (добавка после отчества) не выделяется\n",
    "\n",
    "# fio_map = {x: x.split()[0][0:5] + x.split()[1][0:1] + x.split()[2][0:1] for x in df_all.FIO_MD.unique()}\n",
    "# fio_map"
   ]
  },
  {
   "cell_type": "code",
   "execution_count": 183,
   "metadata": {},
   "outputs": [],
   "source": [
    "# Добавим сокращенное ФИО для выгрузки в дашборд\n",
    "\n",
    "fio_map = {}\n",
    "for fio in df_all.FIO_MD.unique():\n",
    "    short_fio = ''\n",
    "    f = True  # У первого элемента (фамилии) нужно оставить 5 символов, у остальных по 1\n",
    "    for part_fio in fio.split():\n",
    "        if f:\n",
    "            short_fio += part_fio[0:3]\n",
    "            f = False  # Все остальные уже не первые\n",
    "        else:\n",
    "            short_fio += part_fio[0:1]\n",
    "    fio_map.update({fio: short_fio})\n",
    "fio_map\n",
    "\n",
    "df_all['fio_short'] = df_all \\\n",
    "                        .FIO_MD \\\n",
    "                        .map(fio_map)"
   ]
  },
  {
   "cell_type": "code",
   "execution_count": 185,
   "metadata": {},
   "outputs": [],
   "source": [
    "# Запись Excel выгрузок со статистиками по средним значениям УЕТ и ТАП\n",
    "\n",
    "# 1. total_usl - анализ услуг по их стоимости и отклолнению от среднего значения 1 УЕТ\n",
    "df_to_excel = df_all.groupby(['CODE_USL', 'NAME_USL'], as_index=False) \\\n",
    "    .agg({'KOL_USL': 'sum', 'SUM_RUB': 'sum', 'SUM_UET': 'sum', 'KOL_UET': 'max', 'TARIF_B': 'max'})\n",
    "\n",
    "# DEVIATION - отклонение в рублях по услуге от средней плановой стоимости 1 УЕТы\n",
    "df_to_excel['DEVIATION'] = df_to_excel['SUM_RUB']-df_to_excel['KOL_USL']*mean_uet*df_to_excel['KOL_UET']\n",
    "\n",
    "# Доля услуги в общем доходе и выработке\n",
    "total_rub = df_to_excel['SUM_RUB'].sum()\n",
    "total_uet = df_to_excel['SUM_UET'].sum()\n",
    "df_to_excel['part_rub'] = np.around(df_to_excel['SUM_RUB']*100/total_rub, decimals=2)\n",
    "df_to_excel['part_uet'] = np.around(df_to_excel['SUM_UET']*100/total_uet, decimals=2)\n",
    "df_to_excel['part_diff'] = df_to_excel['part_rub'] - df_to_excel['part_uet']\n",
    "df_to_excel.to_excel('total_usl.xlsx')\n",
    "\n",
    "# 2. total_usl_by_doc - аналогично п.1, но в разбивке по врачу (позволит найти существенные проблемы)\n",
    "df_to_excel = df_all.groupby(['FIO_MD', 'CODE_USL', 'NAME_USL'], as_index=False).\\\n",
    "    agg({'KOL_USL': 'sum', 'SUM_RUB': 'sum', 'SUM_UET': 'sum', 'KOL_UET': 'max', 'TARIF_B': 'max'})\n",
    "df_to_excel['DEVIATION'] = df_to_excel['SUM_RUB']-df_to_excel['KOL_USL']*mean_uet*df_to_excel['KOL_UET']\n",
    "df_to_excel['part_rub'] = np.around(df_to_excel['SUM_RUB']*100/total_rub, decimals=2)\n",
    "df_to_excel['part_uet'] = np.around(df_to_excel['SUM_UET']*100/total_uet, decimals=2)\n",
    "df_to_excel['part_diff'] = df_to_excel['part_rub'] - df_to_excel['part_uet']\n",
    "df_to_excel.to_excel('total_usl_by_doc.xlsx')\n",
    "\n",
    "# 3. total_usl_by_doc_period - аналогично п.2, но еще и в разбивке по месяцам\n",
    "df_mean_tap = df_all.groupby(['OT_PER', 'FIO_MD', 'NHISTORY'], as_index=False) \\\n",
    "    .agg({'SUM_UET': 'sum'}) \\\n",
    "    .groupby(['OT_PER', 'FIO_MD'], as_index=False) \\\n",
    "    .agg({'SUM_UET': 'mean'}) \\\n",
    "    .rename(columns={'SUM_UET': 'MEAN_TAP'})\n",
    "df_to_excel = df_all.groupby(['OT_PER', 'FIO_MD'], as_index=False) \\\n",
    "    .agg({'SUM_RUB': 'sum', 'SUM_UET': 'sum'})\n",
    "df_to_excel = pd.merge(df_to_excel, df_mean_tap, how='left', on=['OT_PER', 'FIO_MD'])\n",
    "df_to_excel['DEVIATION'] = df_to_excel['SUM_RUB']-df_to_excel['SUM_UET']*mean_uet\n",
    "df_to_excel = df_to_excel.pivot(index='FIO_MD', columns='OT_PER', values=['DEVIATION', 'MEAN_TAP'])\n",
    "\n",
    "# По каждой колонке добавим строку с итогами\n",
    "columns = [column for column in df_to_excel.columns]\n",
    "data = []\n",
    "for column in columns:\n",
    "    data.append(df_to_excel[column].sum())\n",
    "itog = pd.DataFrame(data=[data], columns=columns, index=['ИТОГО:'])\n",
    "df_to_excel = pd.concat([df_to_excel, itog])\n",
    "df_to_excel.to_excel(\"total_usl_by_doc_period.xlsx\", float_format='%.1f', index_label='ФИО врача')\n",
    "wb = load_workbook(\"total_usl_by_doc_period.xlsx\")\n",
    "ws = wb.active\n",
    "\n",
    "# Установим ширину столбца с ФИО\n",
    "ws.column_dimensions['A'] = worksheet.dimensions.ColumnDimension(ws, index='A', width=38)\n",
    "wb.save(\"total_usl_by_doc_period.xlsx\")\n",
    "\n",
    "# 4. total_usl_cheapest_by_doc - 10 самых \"дешевых\" услуг по каждлому врачу\n",
    "\n",
    "df_to_excel = df_all.groupby(['FIO_MD', 'CODE_USL', 'NAME_USL'], as_index=False).\\\n",
    "    agg({'KOL_USL': 'sum', 'SUM_RUB': 'sum', 'SUM_UET': 'sum', 'KOL_UET': 'max', 'TARIF_B': 'max'})\n",
    "df_to_excel['DEVIATION'] = df_to_excel['SUM_RUB']-df_to_excel['KOL_USL']*mean_uet*df_to_excel['KOL_UET']\n",
    "df_to_excel['part_rub'] = np.around(df_to_excel['SUM_RUB']*100/total_rub, decimals=2)\n",
    "df_to_excel['part_uet'] = np.around(df_to_excel['SUM_UET']*100/total_uet, decimals=2)\n",
    "df_to_excel['part_diff'] = df_to_excel['part_rub'] - df_to_excel['part_uet']\n",
    "df_to_xls = df_to_excel.sort_values(['FIO_MD', 'DEVIATION']).groupby('FIO_MD', as_index=False).head(10)\n",
    "df_to_xls \\\n",
    "    .rename(columns={'FIO_MD': 'ФИО', 'CODE_USL': 'Код', 'NAME_USL': 'Услуга', 'KOL_USL': 'Кол-во',\n",
    "                     'SUM_RUB': 'Всего Руб', 'SUM_UET': 'Всего УЕТ', 'KOL_UET': 'Тариф УЕТ', 'TARIF_B': 'Тариф Руб',\n",
    "                     'DEVIATION': 'Отклонение', 'part_rub': 'Доля в руб', 'part_uet': 'Доля в УЕТ',\n",
    "                     'part_diff': 'Доля отклонения'}) \\\n",
    "    .to_excel('total_usl_cheapest_by_doc.xlsx')\n",
    "\n",
    "# 5. total_usl_expensive_by_doc - 10 самых \"дешевых\" услуг по каждлому врачу\n",
    "\n",
    "df_to_excel = df_all.groupby(['FIO_MD', 'CODE_USL', 'NAME_USL'], as_index=False) \\\n",
    "    .agg({'KOL_USL': 'sum', 'SUM_RUB': 'sum', 'SUM_UET': 'sum', 'KOL_UET': 'max', 'TARIF_B': 'max'})\n",
    "df_to_excel['DEVIATION'] = df_to_excel['SUM_RUB']-df_to_excel['KOL_USL']*mean_uet*df_to_excel['KOL_UET']\n",
    "df_to_excel['part_rub'] = np.around(df_to_excel['SUM_RUB']*100/total_rub, decimals=2)\n",
    "df_to_excel['part_uet'] = np.around(df_to_excel['SUM_UET']*100/total_uet, decimals=2)\n",
    "df_to_excel['part_diff'] = df_to_excel['part_rub'] - df_to_excel['part_uet']\n",
    "df_to_xls = df_to_excel \\\n",
    "    .sort_values(['FIO_MD', 'DEVIATION'], ascending=['True', 'False']) \\\n",
    "    .groupby('FIO_MD', as_index=False) \\\n",
    "    .tail(10)\n",
    "df_to_xls \\\n",
    "    .rename(columns={'FIO_MD': 'ФИО', 'CODE_USL': 'Код', 'NAME_USL': 'Услуга', 'KOL_USL': 'Кол-во',\n",
    "                     'SUM_RUB': 'Всего Руб', 'SUM_UET': 'Всего УЕТ', 'KOL_UET': 'Тариф УЕТ', 'TARIF_B': 'Тариф Руб',\n",
    "                     'DEVIATION': 'Отклонение', 'part_rub': 'Доля в руб', 'part_uet': 'Доля в УЕТ',\n",
    "                     'part_diff': 'Доля отклонения'}) \\\n",
    "    .to_excel('total_usl_expensive_by_doc.xlsx')"
   ]
  },
  {
   "cell_type": "code",
   "execution_count": 186,
   "metadata": {},
   "outputs": [],
   "source": [
    "# Услуги приема\n",
    "\n",
    "priem = ['B01.065.007V', 'B01.065.008V', 'B01.065.001V', 'B01.065.002V', 'B01.065.003V', 'B01.065.004V', \\\n",
    "         'B01.067.001V', 'B01.067.002V', 'B04.065.006V', 'B04.065.002V', 'B04.065.004V', 'B01.065.005V', \\\n",
    "         'B01.065.006V']"
   ]
  },
  {
   "cell_type": "code",
   "execution_count": 187,
   "metadata": {},
   "outputs": [],
   "source": [
    "# Услуги первичного приема\n",
    "\n",
    "priem_first = ['B01.065.007V', 'B01.065.001V', 'B01.065.003V', 'B01.067.001V', 'В01.003.001V', 'B01.065.005V']"
   ]
  },
  {
   "cell_type": "code",
   "execution_count": 188,
   "metadata": {},
   "outputs": [],
   "source": [
    "# Услуги установки пломбы\n",
    "\n",
    "filling = ['A16.07.002.001V', 'A16.07.002.002V', 'A16.07.002.003V', 'A16.07.002.004V', 'A16.07.002.005V', \\\n",
    "           'A16.07.002.006V', 'A16.07.002.007V', 'A16.07.002.008V', 'A16.07.002.010V', 'A16.07.002.011V', \\\n",
    "           'A16.07.002.012V']"
   ]
  },
  {
   "cell_type": "code",
   "execution_count": 189,
   "metadata": {},
   "outputs": [],
   "source": [
    "# Услуга установки мышьяка\n",
    "\n",
    "devit = 'A11.07.027V'"
   ]
  },
  {
   "cell_type": "code",
   "execution_count": 190,
   "metadata": {},
   "outputs": [],
   "source": [
    "# Услуга стоматоскопии\n",
    "\n",
    "stomatoskop = 'A03.07.001V'"
   ]
  },
  {
   "cell_type": "code",
   "execution_count": 191,
   "metadata": {},
   "outputs": [],
   "source": [
    "# Приемы по врачу\n",
    "\n",
    "priem_by_doc = df_all \\\n",
    "                .query('CODE_USL in @priem') \\\n",
    "                .groupby('FIO_MD') \\\n",
    "                .agg({'KOL_USL': 'count'}) \\\n",
    "                .rename(columns={'KOL_USL': 'preim'})"
   ]
  },
  {
   "cell_type": "code",
   "execution_count": 192,
   "metadata": {},
   "outputs": [],
   "source": [
    "# Приемы по врачу и месяцу\n",
    "\n",
    "priem_by_doc_month = df_all \\\n",
    "                        .query('CODE_USL in @priem') \\\n",
    "                        .groupby(['FIO_MD', 'OT_PER_U']) \\\n",
    "                        .agg({'KOL_USL': 'count'}) \\\n",
    "                        .rename(columns={'KOL_USL': 'preim'}) "
   ]
  },
  {
   "cell_type": "code",
   "execution_count": 193,
   "metadata": {},
   "outputs": [],
   "source": [
    "# Первичные приемы и стоматоскопии по врачу и месяцу\n",
    "\n",
    "stomatoskop_by_doc_month = df_all \\\n",
    "                            .query('CODE_USL in @priem_first') \\\n",
    "                            .groupby(['FIO_MD', 'OT_PER_U']) \\\n",
    "                            .agg({'KOL_USL': 'count'}) \\\n",
    "                            .rename(columns={'KOL_USL': 'Первичных приемов'}) \\\n",
    "                            .merge(df_all\n",
    "                                        .query('CODE_USL in @stomatoskop')\n",
    "                                        .groupby(['FIO_MD', 'OT_PER_U'])\n",
    "                                        .agg({'KOL_USL': 'count'})\n",
    "                                        .rename(columns={'KOL_USL': 'Люмин. стоматоскопий'}), \n",
    "                                   left_index=True, \n",
    "                                   right_index=True, \n",
    "                                   how='left') \\\n",
    "                            .reset_index() \\\n",
    "                            .pivot(index='FIO_MD', columns='OT_PER_U', values=['Первичных приемов', 'Люмин. стоматоскопий']) \\\n",
    "                            .fillna(0) \\\n",
    "                            .astype('int')\n",
    "stomatoskop_by_doc_month \\\n",
    "    .to_excel(f'Стоматоскопии_{year}.xlsx')"
   ]
  },
  {
   "cell_type": "code",
   "execution_count": 194,
   "metadata": {},
   "outputs": [],
   "source": [
    "# Пломбы по врачу\n",
    "\n",
    "filling_by_doc = df_all \\\n",
    "                    .query('CODE_USL in @filling') \\\n",
    "                    .groupby('FIO_MD') \\\n",
    "                    .agg({'KOL_USL': 'sum'}) \\\n",
    "                    .rename(columns={'KOL_USL': 'filling'})"
   ]
  },
  {
   "cell_type": "code",
   "execution_count": 195,
   "metadata": {},
   "outputs": [],
   "source": [
    "# Пломбы по врачу и месяцу\n",
    "\n",
    "filling_by_doc_month = df_all \\\n",
    "                        .query('CODE_USL in @filling') \\\n",
    "                        .groupby(['FIO_MD', 'OT_PER_U']) \\\n",
    "                        .agg({'KOL_USL': 'sum'}) \\\n",
    "                        .rename(columns={'KOL_USL': 'filling'})"
   ]
  },
  {
   "cell_type": "code",
   "execution_count": 196,
   "metadata": {},
   "outputs": [],
   "source": [
    "# Наложение девит пасты по врачу\n",
    "\n",
    "devit_by_doc = df_all \\\n",
    "                    .query('CODE_USL == @devit') \\\n",
    "                    .groupby('FIO_MD') \\\n",
    "                    .agg({'KOL_USL': 'sum'}) \\\n",
    "                    .rename(columns={'KOL_USL': 'devit'})"
   ]
  },
  {
   "cell_type": "code",
   "execution_count": 197,
   "metadata": {},
   "outputs": [],
   "source": [
    "# Наложение девит пасты по врачу и месяцу\n",
    "\n",
    "devit_by_doc_month = df_all \\\n",
    "                        .query('CODE_USL == @devit') \\\n",
    "                        .groupby(['FIO_MD', 'OT_PER_U']) \\\n",
    "                        .agg({'KOL_USL': 'sum'}) \\\n",
    "                        .rename(columns={'KOL_USL': 'devit'})"
   ]
  },
  {
   "cell_type": "code",
   "execution_count": 198,
   "metadata": {},
   "outputs": [],
   "source": [
    "# Диагнозы (основной диагноз из ТАП) по врачу\n",
    "\n",
    "diag_by_doc = df_all \\\n",
    "                .groupby(['FIO_MD', 'MKB1', 'NHISTORY'], as_index=False) \\\n",
    "                .agg({'NHISTORY': 'count'}) \\\n",
    "                .rename(columns={'NHISTORY': 'diag_count'}) \\\n",
    "                .groupby(['FIO_MD', 'MKB1'], as_index=False) \\\n",
    "                .agg({'diag_count': 'count'}) \\\n",
    "                .sort_values(['FIO_MD', 'diag_count'], ascending=[True, False])"
   ]
  },
  {
   "cell_type": "code",
   "execution_count": 199,
   "metadata": {},
   "outputs": [],
   "source": [
    "# Диагнозы (основной диагноз из ТАП) по врачу и месяцу\n",
    "\n",
    "diag_by_doc_month = df_all \\\n",
    "                        .groupby(['FIO_MD', 'MKB1', 'NHISTORY', 'OT_PER_U'], as_index=False) \\\n",
    "                        .agg({'NHISTORY': 'count'}) \\\n",
    "                        .rename(columns={'NHISTORY': 'diag_count'}) \\\n",
    "                        .groupby(['FIO_MD', 'MKB1', 'OT_PER_U'], as_index=False) \\\n",
    "                        .agg({'diag_count': 'count'}) \\\n",
    "                        .sort_values(['FIO_MD', 'diag_count'], ascending=[True, False])"
   ]
  },
  {
   "cell_type": "code",
   "execution_count": 200,
   "metadata": {},
   "outputs": [],
   "source": [
    "# Самые частые диагнозы\n",
    "\n",
    "top_mkb = diag_by_doc \\\n",
    "                .groupby('MKB1', as_index=False) \\\n",
    "                .agg({'diag_count': 'sum'}) \\\n",
    "                .sort_values('diag_count', ascending=False) \\\n",
    "                .head(8) \\\n",
    "                .MKB1.tolist()"
   ]
  },
  {
   "cell_type": "code",
   "execution_count": 201,
   "metadata": {},
   "outputs": [],
   "source": [
    "# Выборка по списку самых частых диагнозов в разрезе врачей\n",
    "\n",
    "top_diag_by_doc = diag_by_doc \\\n",
    "                    .query('MKB1 in @top_mkb') \\\n",
    "                    .pivot(index='FIO_MD', columns='MKB1', values='diag_count') \\\n",
    "                    .fillna(0) \\\n",
    "                    .astype('int')"
   ]
  },
  {
   "cell_type": "code",
   "execution_count": 202,
   "metadata": {},
   "outputs": [],
   "source": [
    "# Выборка по списку самых частых диагнозов в разрезе врачей и месяцев\n",
    "\n",
    "top_diag_by_doc_month = diag_by_doc_month \\\n",
    "                            .query('MKB1 in @top_mkb') \\\n",
    "                            .pivot(index=['FIO_MD', 'OT_PER_U'], columns='MKB1', values='diag_count') \\\n",
    "                            .fillna(0) \\\n",
    "                            .astype('int')"
   ]
  },
  {
   "cell_type": "code",
   "execution_count": 203,
   "metadata": {},
   "outputs": [],
   "source": [
    "# Средняя стоимость ТАП в УЕТ\n",
    "\n",
    "avg_uet_by_doc = df_all \\\n",
    "                    .groupby(['FIO_MD', 'NHISTORY'], as_index=False) \\\n",
    "                    .agg({'SUM_UET': 'sum'}) \\\n",
    "                    .groupby('FIO_MD') \\\n",
    "                    .agg({'SUM_UET': 'mean'}) \\\n",
    "                    .round(2) \\\n",
    "                    .rename(columns={'SUM_UET': 'avg_uet'})"
   ]
  },
  {
   "cell_type": "code",
   "execution_count": 204,
   "metadata": {},
   "outputs": [],
   "source": [
    "# Средняя стоимость ТАП в УЕТ по месяцам\n",
    "\n",
    "avg_uet_by_doc_month = df_all \\\n",
    "                        .groupby(['FIO_MD', 'NHISTORY', 'OT_PER_U'], as_index=False) \\\n",
    "                        .agg({'SUM_UET': 'sum'}) \\\n",
    "                        .groupby(['FIO_MD', 'OT_PER_U']) \\\n",
    "                        .agg({'SUM_UET': 'mean'}) \\\n",
    "                        .round(2) \\\n",
    "                        .rename(columns={'SUM_UET': 'avg_uet'})"
   ]
  },
  {
   "cell_type": "code",
   "execution_count": 205,
   "metadata": {},
   "outputs": [],
   "source": [
    "# Средняя стоимость ТАП в рублях\n",
    "\n",
    "avg_rub_by_doc = df_all \\\n",
    "                    .groupby(['FIO_MD', 'NHISTORY'], as_index=False) \\\n",
    "                    .agg({'SUM_RUB': 'sum'}) \\\n",
    "                    .groupby('FIO_MD') \\\n",
    "                    .agg({'SUM_RUB': 'mean'}) \\\n",
    "                    .round() \\\n",
    "                    .astype(int) \\\n",
    "                    .rename(columns={'SUM_RUB': 'avg_rub'})"
   ]
  },
  {
   "cell_type": "code",
   "execution_count": 206,
   "metadata": {},
   "outputs": [],
   "source": [
    "# Средняя стоимость ТАП в рублях по месяцам\n",
    "\n",
    "avg_rub_by_doc_month = df_all \\\n",
    "                        .groupby(['FIO_MD', 'NHISTORY', 'OT_PER_U'], as_index=False) \\\n",
    "                        .agg({'SUM_RUB': 'sum'}) \\\n",
    "                        .groupby(['FIO_MD', 'OT_PER_U']) \\\n",
    "                        .agg({'SUM_RUB': 'mean'}) \\\n",
    "                        .round() \\\n",
    "                        .astype(int) \\\n",
    "                        .rename(columns={'SUM_RUB': 'avg_rub'})"
   ]
  },
  {
   "cell_type": "code",
   "execution_count": 207,
   "metadata": {},
   "outputs": [],
   "source": [
    "# Средняя стоимость УЕТ\n",
    "# RPU - rub per uet - стоимость 1 УЕТы\n",
    "\n",
    "avg_uet_rub = df_all \\\n",
    "                    .groupby('FIO_MD', as_index=False) \\\n",
    "                    .agg({'SUM_RUB': 'sum', 'SUM_UET': 'sum'})\n",
    "avg_uet_rub['RPU'] = round(avg_uet_rub['SUM_RUB'] / avg_uet_rub['SUM_UET'], 1)"
   ]
  },
  {
   "cell_type": "code",
   "execution_count": 208,
   "metadata": {},
   "outputs": [],
   "source": [
    "# Средняя стоимость УЕТ по месяцам\n",
    "# RPU - rub per uet - стоимость 1 УЕТы\n",
    "\n",
    "avg_uet_rub_month = df_all \\\n",
    "                        .groupby(['FIO_MD', 'OT_PER_U'], as_index=False) \\\n",
    "                        .agg({'SUM_RUB': 'sum', 'SUM_UET': 'sum'})\n",
    "avg_uet_rub_month['RPU'] = round(avg_uet_rub_month['SUM_RUB'] / avg_uet_rub_month['SUM_UET'], 1)"
   ]
  },
  {
   "cell_type": "code",
   "execution_count": 237,
   "metadata": {},
   "outputs": [
    {
     "name": "stderr",
     "output_type": "stream",
     "text": [
      "<ipython-input-237-4d4d46bca0b6>:5: SettingWithCopyWarning:\n",
      "\n",
      "\n",
      "A value is trying to be set on a copy of a slice from a DataFrame.\n",
      "Try using .loc[row_indexer,col_indexer] = value instead\n",
      "\n",
      "See the caveats in the documentation: https://pandas.pydata.org/pandas-docs/stable/user_guide/indexing.html#returning-a-view-versus-a-copy\n",
      "\n"
     ]
    }
   ],
   "source": [
    "# Зашифруем IDCASE, выгрузим csv для даша\n",
    "\n",
    "df_to_dash = df_all[['OT_PER', 'CODE_USL', 'DATE_IN', 'KOL_USL', 'TARIF_B', 'SUM_RUB',\n",
    "                     'MSK_OT', 'CODE_OTD', 'KOL_UET', 'fio_short', 'SUM_UET', 'spec', 'IDCASE']]\n",
    "df_to_dash['IDCASE'] = df_to_dash['IDCASE'].apply(lambda x: hashlib.sha1(str(x).encode()).hexdigest())\n",
    "df_to_dash.rename(columns={'IDCASE': 'id'}) \\\n",
    "    .to_csv('st_data.csv', sep=';', index=False)"
   ]
  },
  {
   "cell_type": "code",
   "execution_count": 213,
   "metadata": {},
   "outputs": [
    {
     "name": "stderr",
     "output_type": "stream",
     "text": [
      "C:\\Users\\chernikov_d\\anaconda3\\lib\\site-packages\\seaborn\\distributions.py:2551: FutureWarning:\n",
      "\n",
      "`distplot` is a deprecated function and will be removed in a future version. Please adapt your code to use either `displot` (a figure-level function with similar flexibility) or `histplot` (an axes-level function for histograms).\n",
      "\n"
     ]
    },
    {
     "data": {
      "text/plain": [
       "<AxesSubplot:>"
      ]
     },
     "execution_count": 213,
     "metadata": {},
     "output_type": "execute_result"
    },
    {
     "data": {
      "image/png": "[encoded data removed]",
      "text/plain": [
       "<Figure size 432x288 with 1 Axes>"
      ]
     },
     "metadata": {
      "needs_background": "light"
     },
     "output_type": "display_data"
    }
   ],
   "source": [
    "sns.distplot(df_all.groupby(['FIO_MD', 'NHISTORY']).agg({'SUM_UET': 'sum'}), kde=False)"
   ]
  },
  {
   "cell_type": "code",
   "execution_count": 214,
   "metadata": {},
   "outputs": [
    {
     "data": {
      "text/plain": [
       "<AxesSubplot:>"
      ]
     },
     "execution_count": 214,
     "metadata": {},
     "output_type": "execute_result"
    },
    {
     "data": {
      "image/png": "[encoded data removed]",
      "text/plain": [
       "<Figure size 432x288 with 1 Axes>"
      ]
     },
     "metadata": {
      "needs_background": "light"
     },
     "output_type": "display_data"
    }
   ],
   "source": [
    "sns.distplot(np.log(df_all.groupby(['FIO_MD', 'NHISTORY']).agg({'SUM_UET': 'sum'})), kde=False)"
   ]
  },
  {
   "cell_type": "code",
   "execution_count": 215,
   "metadata": {},
   "outputs": [],
   "source": [
    "# Объединим все в итоговую таблицу, в качестве базы возьмем уникальных врачей из исходных данных"
   ]
  },
  {
   "cell_type": "code",
   "execution_count": 216,
   "metadata": {},
   "outputs": [],
   "source": [
    "df_result = df_all.groupby('FIO_MD').agg({'NHISTORY': 'nunique'}).rename(columns={'NHISTORY': 'tap_count'})\n",
    "df_result = df_result \\\n",
    "                .merge(priem_by_doc, how='left', left_index=True, right_index=True) \\\n",
    "                .merge(filling_by_doc, how='left', left_index=True, right_index=True) \\\n",
    "                .merge(devit_by_doc, how='left', left_index=True, right_index=True) \\\n",
    "                .merge(top_diag_by_doc, how='left', left_index=True, right_index=True) \\\n",
    "                .merge(avg_rub_by_doc, how='left', left_index=True, right_index=True) \\\n",
    "                .fillna(0) \\\n",
    "                .astype(int) \\\n",
    "                .merge(avg_uet_by_doc, how='left', left_index=True, right_index=True) \\\n",
    "                .drop(columns='tap_count') \\\n",
    "                .reset_index() \\\n",
    "                .merge(avg_uet_rub[['FIO_MD', 'RPU']], on='FIO_MD') \\\n",
    "                .rename(columns={'FIO_MD': 'Врач', 'preim': 'Приемов', 'filling': 'Пломб', 'devit': 'Мышьяков'})"
   ]
  },
  {
   "cell_type": "code",
   "execution_count": 217,
   "metadata": {},
   "outputs": [],
   "source": [
    "df_result_by_month = df_all \\\n",
    "                        .groupby(['FIO_MD', 'OT_PER_U']) \\\n",
    "                        .agg({'NHISTORY': 'nunique'}) \\\n",
    "                        .rename(columns={'NHISTORY': 'tap_count'}) \\\n",
    "                        .merge(priem_by_doc_month, how='left', left_index=True, right_index=True) \\\n",
    "                        .merge(filling_by_doc_month, how='left', left_index=True, right_index=True) \\\n",
    "                        .merge(devit_by_doc_month, how='left', left_index=True, right_index=True) \\\n",
    "                        .merge(top_diag_by_doc_month, how='left', left_index=True, right_index=True) \\\n",
    "                        .merge(avg_rub_by_doc_month, how='left', left_index=True, right_index=True) \\\n",
    "                        .fillna(0) \\\n",
    "                        .astype(int) \\\n",
    "                        .merge(avg_uet_by_doc_month, how='left', left_index=True, right_index=True) \\\n",
    "                        .drop(columns='tap_count') \\\n",
    "                        .reset_index() \\\n",
    "                        .merge(avg_uet_rub_month[['FIO_MD', 'OT_PER_U', 'RPU']], on=['FIO_MD', 'OT_PER_U']) \\\n",
    "                        .rename(columns={'FIO_MD': 'Врач', 'preim': 'Приемов', 'filling': 'Пломб', \n",
    "                                         'devit': 'Мышьяков', 'OT_PER_U': 'Месяц'})                        "
   ]
  },
  {
   "cell_type": "code",
   "execution_count": 218,
   "metadata": {},
   "outputs": [],
   "source": [
    "# FPV - filling per visit - отношение числа пломб к числу приемов\n",
    "# DPV - devitalization per vizit - отношение числа мышьяков к числу приемов\n",
    "\n",
    "df_result['FPV'] = df_result['Пломб'] / df_result['Приемов']\n",
    "df_result['DPV'] = df_result['Мышьяков'] / df_result['Приемов']\n",
    "df_result['DPV %'] = df_result['DPV'] * 100"
   ]
  },
  {
   "cell_type": "code",
   "execution_count": 219,
   "metadata": {},
   "outputs": [
    {
     "data": {
      "text/html": [
       "<div>\n",
       "<style scoped>\n",
       "    .dataframe tbody tr th:only-of-type {\n",
       "        vertical-align: middle;\n",
       "    }\n",
       "\n",
       "    .dataframe tbody tr th {\n",
       "        vertical-align: top;\n",
       "    }\n",
       "\n",
       "    .dataframe thead th {\n",
       "        text-align: right;\n",
       "    }\n",
       "</style>\n",
       "<table border=\"1\" class=\"dataframe\">\n",
       "  <thead>\n",
       "    <tr style=\"text-align: right;\">\n",
       "      <th></th>\n",
       "      <th>Врач</th>\n",
       "      <th>Приемов</th>\n",
       "      <th>Пломб</th>\n",
       "      <th>Мышьяков</th>\n",
       "      <th>K02.1</th>\n",
       "      <th>K02.8</th>\n",
       "      <th>K04.0</th>\n",
       "      <th>K04.5</th>\n",
       "      <th>K05.1</th>\n",
       "      <th>K05.3</th>\n",
       "      <th>K10.2</th>\n",
       "      <th>Z01.2</th>\n",
       "      <th>avg_rub</th>\n",
       "      <th>avg_uet</th>\n",
       "      <th>RPU</th>\n",
       "      <th>FPV</th>\n",
       "      <th>DPV</th>\n",
       "      <th>DPV %</th>\n",
       "    </tr>\n",
       "  </thead>\n",
       "  <tbody>\n",
       "    <tr>\n",
       "      <th>0</th>\n",
       "      <td>Александрова Светлана Викторовна</td>\n",
       "      <td>564</td>\n",
       "      <td>570</td>\n",
       "      <td>5</td>\n",
       "      <td>229</td>\n",
       "      <td>81</td>\n",
       "      <td>102</td>\n",
       "      <td>89</td>\n",
       "      <td>4</td>\n",
       "      <td>2</td>\n",
       "      <td>0</td>\n",
       "      <td>25</td>\n",
       "      <td>1882</td>\n",
       "      <td>10.96</td>\n",
       "      <td>171.7</td>\n",
       "      <td>1.010638</td>\n",
       "      <td>0.008865</td>\n",
       "      <td>0.886525</td>\n",
       "    </tr>\n",
       "    <tr>\n",
       "      <th>1</th>\n",
       "      <td>Арутюнян Арутюн Левонович</td>\n",
       "      <td>865</td>\n",
       "      <td>0</td>\n",
       "      <td>0</td>\n",
       "      <td>7</td>\n",
       "      <td>1</td>\n",
       "      <td>26</td>\n",
       "      <td>303</td>\n",
       "      <td>2</td>\n",
       "      <td>87</td>\n",
       "      <td>77</td>\n",
       "      <td>0</td>\n",
       "      <td>791</td>\n",
       "      <td>4.49</td>\n",
       "      <td>176.1</td>\n",
       "      <td>0.000000</td>\n",
       "      <td>0.000000</td>\n",
       "      <td>0.000000</td>\n",
       "    </tr>\n",
       "    <tr>\n",
       "      <th>2</th>\n",
       "      <td>Власова Альфия Лябибовна</td>\n",
       "      <td>600</td>\n",
       "      <td>452</td>\n",
       "      <td>11</td>\n",
       "      <td>169</td>\n",
       "      <td>45</td>\n",
       "      <td>122</td>\n",
       "      <td>90</td>\n",
       "      <td>7</td>\n",
       "      <td>101</td>\n",
       "      <td>1</td>\n",
       "      <td>31</td>\n",
       "      <td>2064</td>\n",
       "      <td>12.21</td>\n",
       "      <td>169.1</td>\n",
       "      <td>0.753333</td>\n",
       "      <td>0.018333</td>\n",
       "      <td>1.833333</td>\n",
       "    </tr>\n",
       "    <tr>\n",
       "      <th>3</th>\n",
       "      <td>Володин Павел Юрьевич</td>\n",
       "      <td>502</td>\n",
       "      <td>679</td>\n",
       "      <td>67</td>\n",
       "      <td>163</td>\n",
       "      <td>43</td>\n",
       "      <td>127</td>\n",
       "      <td>82</td>\n",
       "      <td>3</td>\n",
       "      <td>26</td>\n",
       "      <td>0</td>\n",
       "      <td>39</td>\n",
       "      <td>2563</td>\n",
       "      <td>14.56</td>\n",
       "      <td>176.0</td>\n",
       "      <td>1.352590</td>\n",
       "      <td>0.133466</td>\n",
       "      <td>13.346614</td>\n",
       "    </tr>\n",
       "    <tr>\n",
       "      <th>4</th>\n",
       "      <td>Володько Валентина Ивановна</td>\n",
       "      <td>1007</td>\n",
       "      <td>0</td>\n",
       "      <td>0</td>\n",
       "      <td>6</td>\n",
       "      <td>3</td>\n",
       "      <td>26</td>\n",
       "      <td>577</td>\n",
       "      <td>1</td>\n",
       "      <td>141</td>\n",
       "      <td>102</td>\n",
       "      <td>0</td>\n",
       "      <td>892</td>\n",
       "      <td>4.94</td>\n",
       "      <td>180.4</td>\n",
       "      <td>0.000000</td>\n",
       "      <td>0.000000</td>\n",
       "      <td>0.000000</td>\n",
       "    </tr>\n",
       "    <tr>\n",
       "      <th>5</th>\n",
       "      <td>Гвоздева Татьяна Анатольевна</td>\n",
       "      <td>431</td>\n",
       "      <td>431</td>\n",
       "      <td>24</td>\n",
       "      <td>131</td>\n",
       "      <td>43</td>\n",
       "      <td>125</td>\n",
       "      <td>84</td>\n",
       "      <td>0</td>\n",
       "      <td>10</td>\n",
       "      <td>0</td>\n",
       "      <td>22</td>\n",
       "      <td>2005</td>\n",
       "      <td>11.50</td>\n",
       "      <td>174.4</td>\n",
       "      <td>1.000000</td>\n",
       "      <td>0.055684</td>\n",
       "      <td>5.568445</td>\n",
       "    </tr>\n",
       "    <tr>\n",
       "      <th>6</th>\n",
       "      <td>Горбикова Эльфия Рашитовна</td>\n",
       "      <td>531</td>\n",
       "      <td>429</td>\n",
       "      <td>22</td>\n",
       "      <td>179</td>\n",
       "      <td>83</td>\n",
       "      <td>129</td>\n",
       "      <td>80</td>\n",
       "      <td>1</td>\n",
       "      <td>9</td>\n",
       "      <td>0</td>\n",
       "      <td>11</td>\n",
       "      <td>1918</td>\n",
       "      <td>11.89</td>\n",
       "      <td>161.3</td>\n",
       "      <td>0.807910</td>\n",
       "      <td>0.041431</td>\n",
       "      <td>4.143126</td>\n",
       "    </tr>\n",
       "    <tr>\n",
       "      <th>7</th>\n",
       "      <td>Завгородный Сергей Валерианович</td>\n",
       "      <td>862</td>\n",
       "      <td>0</td>\n",
       "      <td>0</td>\n",
       "      <td>0</td>\n",
       "      <td>0</td>\n",
       "      <td>7</td>\n",
       "      <td>628</td>\n",
       "      <td>1</td>\n",
       "      <td>131</td>\n",
       "      <td>8</td>\n",
       "      <td>0</td>\n",
       "      <td>921</td>\n",
       "      <td>5.05</td>\n",
       "      <td>182.4</td>\n",
       "      <td>0.000000</td>\n",
       "      <td>0.000000</td>\n",
       "      <td>0.000000</td>\n",
       "    </tr>\n",
       "    <tr>\n",
       "      <th>8</th>\n",
       "      <td>Захаров Иван Владимирович</td>\n",
       "      <td>472</td>\n",
       "      <td>366</td>\n",
       "      <td>14</td>\n",
       "      <td>144</td>\n",
       "      <td>48</td>\n",
       "      <td>111</td>\n",
       "      <td>77</td>\n",
       "      <td>2</td>\n",
       "      <td>15</td>\n",
       "      <td>0</td>\n",
       "      <td>49</td>\n",
       "      <td>1895</td>\n",
       "      <td>11.48</td>\n",
       "      <td>165.0</td>\n",
       "      <td>0.775424</td>\n",
       "      <td>0.029661</td>\n",
       "      <td>2.966102</td>\n",
       "    </tr>\n",
       "    <tr>\n",
       "      <th>9</th>\n",
       "      <td>Камынова Наталия Валериевна</td>\n",
       "      <td>468</td>\n",
       "      <td>478</td>\n",
       "      <td>34</td>\n",
       "      <td>156</td>\n",
       "      <td>60</td>\n",
       "      <td>121</td>\n",
       "      <td>63</td>\n",
       "      <td>9</td>\n",
       "      <td>22</td>\n",
       "      <td>0</td>\n",
       "      <td>22</td>\n",
       "      <td>2211</td>\n",
       "      <td>12.80</td>\n",
       "      <td>172.7</td>\n",
       "      <td>1.021368</td>\n",
       "      <td>0.072650</td>\n",
       "      <td>7.264957</td>\n",
       "    </tr>\n",
       "    <tr>\n",
       "      <th>10</th>\n",
       "      <td>Коваленко Ольга Эдуардовна</td>\n",
       "      <td>421</td>\n",
       "      <td>624</td>\n",
       "      <td>0</td>\n",
       "      <td>137</td>\n",
       "      <td>65</td>\n",
       "      <td>102</td>\n",
       "      <td>62</td>\n",
       "      <td>9</td>\n",
       "      <td>27</td>\n",
       "      <td>0</td>\n",
       "      <td>1</td>\n",
       "      <td>2850</td>\n",
       "      <td>15.72</td>\n",
       "      <td>181.3</td>\n",
       "      <td>1.482185</td>\n",
       "      <td>0.000000</td>\n",
       "      <td>0.000000</td>\n",
       "    </tr>\n",
       "    <tr>\n",
       "      <th>11</th>\n",
       "      <td>Коваленко Ольга Эдуардовна физио</td>\n",
       "      <td>1159</td>\n",
       "      <td>1</td>\n",
       "      <td>0</td>\n",
       "      <td>9</td>\n",
       "      <td>0</td>\n",
       "      <td>32</td>\n",
       "      <td>97</td>\n",
       "      <td>255</td>\n",
       "      <td>460</td>\n",
       "      <td>25</td>\n",
       "      <td>0</td>\n",
       "      <td>374</td>\n",
       "      <td>3.17</td>\n",
       "      <td>118.2</td>\n",
       "      <td>0.000863</td>\n",
       "      <td>0.000000</td>\n",
       "      <td>0.000000</td>\n",
       "    </tr>\n",
       "    <tr>\n",
       "      <th>12</th>\n",
       "      <td>Ковшов Александр Александрович</td>\n",
       "      <td>411</td>\n",
       "      <td>354</td>\n",
       "      <td>17</td>\n",
       "      <td>144</td>\n",
       "      <td>42</td>\n",
       "      <td>108</td>\n",
       "      <td>61</td>\n",
       "      <td>0</td>\n",
       "      <td>2</td>\n",
       "      <td>0</td>\n",
       "      <td>35</td>\n",
       "      <td>2148</td>\n",
       "      <td>12.63</td>\n",
       "      <td>170.1</td>\n",
       "      <td>0.861314</td>\n",
       "      <td>0.041363</td>\n",
       "      <td>4.136253</td>\n",
       "    </tr>\n",
       "    <tr>\n",
       "      <th>13</th>\n",
       "      <td>Колесова Наталья Викторовна</td>\n",
       "      <td>1072</td>\n",
       "      <td>0</td>\n",
       "      <td>0</td>\n",
       "      <td>0</td>\n",
       "      <td>22</td>\n",
       "      <td>70</td>\n",
       "      <td>629</td>\n",
       "      <td>1</td>\n",
       "      <td>119</td>\n",
       "      <td>66</td>\n",
       "      <td>0</td>\n",
       "      <td>1132</td>\n",
       "      <td>5.79</td>\n",
       "      <td>195.4</td>\n",
       "      <td>0.000000</td>\n",
       "      <td>0.000000</td>\n",
       "      <td>0.000000</td>\n",
       "    </tr>\n",
       "    <tr>\n",
       "      <th>14</th>\n",
       "      <td>Кукушкина Лариса Рамзановна</td>\n",
       "      <td>451</td>\n",
       "      <td>237</td>\n",
       "      <td>32</td>\n",
       "      <td>90</td>\n",
       "      <td>30</td>\n",
       "      <td>176</td>\n",
       "      <td>62</td>\n",
       "      <td>3</td>\n",
       "      <td>6</td>\n",
       "      <td>0</td>\n",
       "      <td>54</td>\n",
       "      <td>1907</td>\n",
       "      <td>11.56</td>\n",
       "      <td>165.0</td>\n",
       "      <td>0.525499</td>\n",
       "      <td>0.070953</td>\n",
       "      <td>7.095344</td>\n",
       "    </tr>\n",
       "    <tr>\n",
       "      <th>15</th>\n",
       "      <td>Литвинова Нина Алексеевна</td>\n",
       "      <td>491</td>\n",
       "      <td>584</td>\n",
       "      <td>0</td>\n",
       "      <td>207</td>\n",
       "      <td>63</td>\n",
       "      <td>129</td>\n",
       "      <td>45</td>\n",
       "      <td>0</td>\n",
       "      <td>9</td>\n",
       "      <td>0</td>\n",
       "      <td>27</td>\n",
       "      <td>2211</td>\n",
       "      <td>12.16</td>\n",
       "      <td>181.8</td>\n",
       "      <td>1.189409</td>\n",
       "      <td>0.000000</td>\n",
       "      <td>0.000000</td>\n",
       "    </tr>\n",
       "    <tr>\n",
       "      <th>16</th>\n",
       "      <td>Лопаткина Алёна Сергеевна</td>\n",
       "      <td>468</td>\n",
       "      <td>477</td>\n",
       "      <td>33</td>\n",
       "      <td>200</td>\n",
       "      <td>45</td>\n",
       "      <td>119</td>\n",
       "      <td>55</td>\n",
       "      <td>2</td>\n",
       "      <td>9</td>\n",
       "      <td>0</td>\n",
       "      <td>18</td>\n",
       "      <td>2148</td>\n",
       "      <td>12.51</td>\n",
       "      <td>171.7</td>\n",
       "      <td>1.019231</td>\n",
       "      <td>0.070513</td>\n",
       "      <td>7.051282</td>\n",
       "    </tr>\n",
       "    <tr>\n",
       "      <th>17</th>\n",
       "      <td>Максимец Ирина Ивановна</td>\n",
       "      <td>528</td>\n",
       "      <td>817</td>\n",
       "      <td>23</td>\n",
       "      <td>260</td>\n",
       "      <td>38</td>\n",
       "      <td>108</td>\n",
       "      <td>57</td>\n",
       "      <td>3</td>\n",
       "      <td>9</td>\n",
       "      <td>0</td>\n",
       "      <td>46</td>\n",
       "      <td>2069</td>\n",
       "      <td>10.75</td>\n",
       "      <td>192.4</td>\n",
       "      <td>1.547348</td>\n",
       "      <td>0.043561</td>\n",
       "      <td>4.356061</td>\n",
       "    </tr>\n",
       "    <tr>\n",
       "      <th>18</th>\n",
       "      <td>Мкртчян Тарон Арсенович</td>\n",
       "      <td>510</td>\n",
       "      <td>288</td>\n",
       "      <td>19</td>\n",
       "      <td>100</td>\n",
       "      <td>34</td>\n",
       "      <td>139</td>\n",
       "      <td>121</td>\n",
       "      <td>0</td>\n",
       "      <td>0</td>\n",
       "      <td>0</td>\n",
       "      <td>36</td>\n",
       "      <td>2533</td>\n",
       "      <td>14.69</td>\n",
       "      <td>172.5</td>\n",
       "      <td>0.564706</td>\n",
       "      <td>0.037255</td>\n",
       "      <td>3.725490</td>\n",
       "    </tr>\n",
       "    <tr>\n",
       "      <th>19</th>\n",
       "      <td>Морошенкова Гульмира Абылкаковна</td>\n",
       "      <td>513</td>\n",
       "      <td>424</td>\n",
       "      <td>38</td>\n",
       "      <td>131</td>\n",
       "      <td>71</td>\n",
       "      <td>154</td>\n",
       "      <td>80</td>\n",
       "      <td>2</td>\n",
       "      <td>28</td>\n",
       "      <td>0</td>\n",
       "      <td>14</td>\n",
       "      <td>1858</td>\n",
       "      <td>11.31</td>\n",
       "      <td>164.2</td>\n",
       "      <td>0.826511</td>\n",
       "      <td>0.074074</td>\n",
       "      <td>7.407407</td>\n",
       "    </tr>\n",
       "    <tr>\n",
       "      <th>20</th>\n",
       "      <td>Николаева Надежда Григорьевна</td>\n",
       "      <td>773</td>\n",
       "      <td>997</td>\n",
       "      <td>54</td>\n",
       "      <td>214</td>\n",
       "      <td>119</td>\n",
       "      <td>206</td>\n",
       "      <td>152</td>\n",
       "      <td>8</td>\n",
       "      <td>3</td>\n",
       "      <td>1</td>\n",
       "      <td>36</td>\n",
       "      <td>2218</td>\n",
       "      <td>11.77</td>\n",
       "      <td>188.4</td>\n",
       "      <td>1.289780</td>\n",
       "      <td>0.069858</td>\n",
       "      <td>6.985770</td>\n",
       "    </tr>\n",
       "    <tr>\n",
       "      <th>21</th>\n",
       "      <td>Ольховская Альбина Владимировна</td>\n",
       "      <td>545</td>\n",
       "      <td>382</td>\n",
       "      <td>26</td>\n",
       "      <td>167</td>\n",
       "      <td>27</td>\n",
       "      <td>149</td>\n",
       "      <td>72</td>\n",
       "      <td>0</td>\n",
       "      <td>26</td>\n",
       "      <td>0</td>\n",
       "      <td>65</td>\n",
       "      <td>1893</td>\n",
       "      <td>11.58</td>\n",
       "      <td>163.4</td>\n",
       "      <td>0.700917</td>\n",
       "      <td>0.047706</td>\n",
       "      <td>4.770642</td>\n",
       "    </tr>\n",
       "    <tr>\n",
       "      <th>22</th>\n",
       "      <td>Пузанова Лидия Сергеевна</td>\n",
       "      <td>511</td>\n",
       "      <td>340</td>\n",
       "      <td>26</td>\n",
       "      <td>136</td>\n",
       "      <td>54</td>\n",
       "      <td>117</td>\n",
       "      <td>89</td>\n",
       "      <td>36</td>\n",
       "      <td>16</td>\n",
       "      <td>0</td>\n",
       "      <td>26</td>\n",
       "      <td>2377</td>\n",
       "      <td>14.90</td>\n",
       "      <td>159.5</td>\n",
       "      <td>0.665362</td>\n",
       "      <td>0.050881</td>\n",
       "      <td>5.088063</td>\n",
       "    </tr>\n",
       "    <tr>\n",
       "      <th>23</th>\n",
       "      <td>Рыбак Лилия Сергеевна</td>\n",
       "      <td>1126</td>\n",
       "      <td>0</td>\n",
       "      <td>0</td>\n",
       "      <td>8</td>\n",
       "      <td>1</td>\n",
       "      <td>36</td>\n",
       "      <td>759</td>\n",
       "      <td>0</td>\n",
       "      <td>6</td>\n",
       "      <td>136</td>\n",
       "      <td>0</td>\n",
       "      <td>737</td>\n",
       "      <td>4.26</td>\n",
       "      <td>173.3</td>\n",
       "      <td>0.000000</td>\n",
       "      <td>0.000000</td>\n",
       "      <td>0.000000</td>\n",
       "    </tr>\n",
       "    <tr>\n",
       "      <th>24</th>\n",
       "      <td>Скалкович Инна Валерьевна</td>\n",
       "      <td>111</td>\n",
       "      <td>145</td>\n",
       "      <td>2</td>\n",
       "      <td>24</td>\n",
       "      <td>6</td>\n",
       "      <td>25</td>\n",
       "      <td>26</td>\n",
       "      <td>3</td>\n",
       "      <td>1</td>\n",
       "      <td>0</td>\n",
       "      <td>2</td>\n",
       "      <td>2620</td>\n",
       "      <td>14.55</td>\n",
       "      <td>180.1</td>\n",
       "      <td>1.306306</td>\n",
       "      <td>0.018018</td>\n",
       "      <td>1.801802</td>\n",
       "    </tr>\n",
       "    <tr>\n",
       "      <th>25</th>\n",
       "      <td>Чижова Елена Владимировна</td>\n",
       "      <td>524</td>\n",
       "      <td>444</td>\n",
       "      <td>20</td>\n",
       "      <td>173</td>\n",
       "      <td>58</td>\n",
       "      <td>121</td>\n",
       "      <td>95</td>\n",
       "      <td>24</td>\n",
       "      <td>11</td>\n",
       "      <td>0</td>\n",
       "      <td>21</td>\n",
       "      <td>2511</td>\n",
       "      <td>15.15</td>\n",
       "      <td>165.8</td>\n",
       "      <td>0.847328</td>\n",
       "      <td>0.038168</td>\n",
       "      <td>3.816794</td>\n",
       "    </tr>\n",
       "    <tr>\n",
       "      <th>26</th>\n",
       "      <td>Чичикина Галина Павловна</td>\n",
       "      <td>961</td>\n",
       "      <td>0</td>\n",
       "      <td>0</td>\n",
       "      <td>5</td>\n",
       "      <td>0</td>\n",
       "      <td>53</td>\n",
       "      <td>604</td>\n",
       "      <td>0</td>\n",
       "      <td>133</td>\n",
       "      <td>45</td>\n",
       "      <td>0</td>\n",
       "      <td>843</td>\n",
       "      <td>4.62</td>\n",
       "      <td>182.5</td>\n",
       "      <td>0.000000</td>\n",
       "      <td>0.000000</td>\n",
       "      <td>0.000000</td>\n",
       "    </tr>\n",
       "  </tbody>\n",
       "</table>\n",
       "</div>"
      ],
      "text/plain": [
       "                                Врач  Приемов  Пломб  Мышьяков  K02.1  K02.8  \\\n",
       "0   Александрова Светлана Викторовна      564    570         5    229     81   \n",
       "1          Арутюнян Арутюн Левонович      865      0         0      7      1   \n",
       "2           Власова Альфия Лябибовна      600    452        11    169     45   \n",
       "3              Володин Павел Юрьевич      502    679        67    163     43   \n",
       "4        Володько Валентина Ивановна     1007      0         0      6      3   \n",
       "5       Гвоздева Татьяна Анатольевна      431    431        24    131     43   \n",
       "6         Горбикова Эльфия Рашитовна      531    429        22    179     83   \n",
       "7    Завгородный Сергей Валерианович      862      0         0      0      0   \n",
       "8          Захаров Иван Владимирович      472    366        14    144     48   \n",
       "9        Камынова Наталия Валериевна      468    478        34    156     60   \n",
       "10        Коваленко Ольга Эдуардовна      421    624         0    137     65   \n",
       "11  Коваленко Ольга Эдуардовна физио     1159      1         0      9      0   \n",
       "12    Ковшов Александр Александрович      411    354        17    144     42   \n",
       "13       Колесова Наталья Викторовна     1072      0         0      0     22   \n",
       "14       Кукушкина Лариса Рамзановна      451    237        32     90     30   \n",
       "15         Литвинова Нина Алексеевна      491    584         0    207     63   \n",
       "16         Лопаткина Алёна Сергеевна      468    477        33    200     45   \n",
       "17           Максимец Ирина Ивановна      528    817        23    260     38   \n",
       "18           Мкртчян Тарон Арсенович      510    288        19    100     34   \n",
       "19  Морошенкова Гульмира Абылкаковна      513    424        38    131     71   \n",
       "20     Николаева Надежда Григорьевна      773    997        54    214    119   \n",
       "21   Ольховская Альбина Владимировна      545    382        26    167     27   \n",
       "22          Пузанова Лидия Сергеевна      511    340        26    136     54   \n",
       "23             Рыбак Лилия Сергеевна     1126      0         0      8      1   \n",
       "24         Скалкович Инна Валерьевна      111    145         2     24      6   \n",
       "25         Чижова Елена Владимировна      524    444        20    173     58   \n",
       "26          Чичикина Галина Павловна      961      0         0      5      0   \n",
       "\n",
       "    K04.0  K04.5  K05.1  K05.3  K10.2  Z01.2  avg_rub  avg_uet    RPU  \\\n",
       "0     102     89      4      2      0     25     1882    10.96  171.7   \n",
       "1      26    303      2     87     77      0      791     4.49  176.1   \n",
       "2     122     90      7    101      1     31     2064    12.21  169.1   \n",
       "3     127     82      3     26      0     39     2563    14.56  176.0   \n",
       "4      26    577      1    141    102      0      892     4.94  180.4   \n",
       "5     125     84      0     10      0     22     2005    11.50  174.4   \n",
       "6     129     80      1      9      0     11     1918    11.89  161.3   \n",
       "7       7    628      1    131      8      0      921     5.05  182.4   \n",
       "8     111     77      2     15      0     49     1895    11.48  165.0   \n",
       "9     121     63      9     22      0     22     2211    12.80  172.7   \n",
       "10    102     62      9     27      0      1     2850    15.72  181.3   \n",
       "11     32     97    255    460     25      0      374     3.17  118.2   \n",
       "12    108     61      0      2      0     35     2148    12.63  170.1   \n",
       "13     70    629      1    119     66      0     1132     5.79  195.4   \n",
       "14    176     62      3      6      0     54     1907    11.56  165.0   \n",
       "15    129     45      0      9      0     27     2211    12.16  181.8   \n",
       "16    119     55      2      9      0     18     2148    12.51  171.7   \n",
       "17    108     57      3      9      0     46     2069    10.75  192.4   \n",
       "18    139    121      0      0      0     36     2533    14.69  172.5   \n",
       "19    154     80      2     28      0     14     1858    11.31  164.2   \n",
       "20    206    152      8      3      1     36     2218    11.77  188.4   \n",
       "21    149     72      0     26      0     65     1893    11.58  163.4   \n",
       "22    117     89     36     16      0     26     2377    14.90  159.5   \n",
       "23     36    759      0      6    136      0      737     4.26  173.3   \n",
       "24     25     26      3      1      0      2     2620    14.55  180.1   \n",
       "25    121     95     24     11      0     21     2511    15.15  165.8   \n",
       "26     53    604      0    133     45      0      843     4.62  182.5   \n",
       "\n",
       "         FPV       DPV      DPV %  \n",
       "0   1.010638  0.008865   0.886525  \n",
       "1   0.000000  0.000000   0.000000  \n",
       "2   0.753333  0.018333   1.833333  \n",
       "3   1.352590  0.133466  13.346614  \n",
       "4   0.000000  0.000000   0.000000  \n",
       "5   1.000000  0.055684   5.568445  \n",
       "6   0.807910  0.041431   4.143126  \n",
       "7   0.000000  0.000000   0.000000  \n",
       "8   0.775424  0.029661   2.966102  \n",
       "9   1.021368  0.072650   7.264957  \n",
       "10  1.482185  0.000000   0.000000  \n",
       "11  0.000863  0.000000   0.000000  \n",
       "12  0.861314  0.041363   4.136253  \n",
       "13  0.000000  0.000000   0.000000  \n",
       "14  0.525499  0.070953   7.095344  \n",
       "15  1.189409  0.000000   0.000000  \n",
       "16  1.019231  0.070513   7.051282  \n",
       "17  1.547348  0.043561   4.356061  \n",
       "18  0.564706  0.037255   3.725490  \n",
       "19  0.826511  0.074074   7.407407  \n",
       "20  1.289780  0.069858   6.985770  \n",
       "21  0.700917  0.047706   4.770642  \n",
       "22  0.665362  0.050881   5.088063  \n",
       "23  0.000000  0.000000   0.000000  \n",
       "24  1.306306  0.018018   1.801802  \n",
       "25  0.847328  0.038168   3.816794  \n",
       "26  0.000000  0.000000   0.000000  "
      ]
     },
     "execution_count": 219,
     "metadata": {},
     "output_type": "execute_result"
    }
   ],
   "source": [
    "df_result"
   ]
  },
  {
   "cell_type": "code",
   "execution_count": 220,
   "metadata": {},
   "outputs": [],
   "source": [
    "# Метрики мо месяцам\n",
    "# FPV - filling per visit - отношение числа пломб к числу приемов\n",
    "# DPV - devitalization per vizit - отношение числа мышьяков к числу приемов\n",
    "\n",
    "df_result_by_month['FPV'] = df_result_by_month['Пломб'] / df_result_by_month['Приемов']\n",
    "df_result_by_month['DPV'] = df_result_by_month['Мышьяков'] / df_result_by_month['Приемов']\n",
    "df_result_by_month['DPV %'] = df_result_by_month['DPV'] * 100"
   ]
  },
  {
   "cell_type": "code",
   "execution_count": 221,
   "metadata": {},
   "outputs": [
    {
     "data": {
      "text/html": [
       "<div>\n",
       "<style scoped>\n",
       "    .dataframe tbody tr th:only-of-type {\n",
       "        vertical-align: middle;\n",
       "    }\n",
       "\n",
       "    .dataframe tbody tr th {\n",
       "        vertical-align: top;\n",
       "    }\n",
       "\n",
       "    .dataframe thead th {\n",
       "        text-align: right;\n",
       "    }\n",
       "</style>\n",
       "<table border=\"1\" class=\"dataframe\">\n",
       "  <thead>\n",
       "    <tr style=\"text-align: right;\">\n",
       "      <th></th>\n",
       "      <th>Врач</th>\n",
       "      <th>Месяц</th>\n",
       "      <th>Приемов</th>\n",
       "      <th>Пломб</th>\n",
       "      <th>Мышьяков</th>\n",
       "      <th>K02.1</th>\n",
       "      <th>K02.8</th>\n",
       "      <th>K04.0</th>\n",
       "      <th>K04.5</th>\n",
       "      <th>K05.1</th>\n",
       "      <th>K05.3</th>\n",
       "      <th>K10.2</th>\n",
       "      <th>Z01.2</th>\n",
       "      <th>avg_rub</th>\n",
       "      <th>avg_uet</th>\n",
       "      <th>RPU</th>\n",
       "      <th>FPV</th>\n",
       "      <th>DPV</th>\n",
       "      <th>DPV %</th>\n",
       "    </tr>\n",
       "  </thead>\n",
       "  <tbody>\n",
       "    <tr>\n",
       "      <th>0</th>\n",
       "      <td>Александрова Светлана Викторовна</td>\n",
       "      <td>0122</td>\n",
       "      <td>119</td>\n",
       "      <td>125</td>\n",
       "      <td>1</td>\n",
       "      <td>58</td>\n",
       "      <td>17</td>\n",
       "      <td>14</td>\n",
       "      <td>17</td>\n",
       "      <td>0</td>\n",
       "      <td>2</td>\n",
       "      <td>0</td>\n",
       "      <td>7</td>\n",
       "      <td>1930</td>\n",
       "      <td>11.56</td>\n",
       "      <td>167.0</td>\n",
       "      <td>1.050420</td>\n",
       "      <td>0.008403</td>\n",
       "      <td>0.840336</td>\n",
       "    </tr>\n",
       "    <tr>\n",
       "      <th>1</th>\n",
       "      <td>Александрова Светлана Викторовна</td>\n",
       "      <td>0222</td>\n",
       "      <td>124</td>\n",
       "      <td>153</td>\n",
       "      <td>0</td>\n",
       "      <td>52</td>\n",
       "      <td>13</td>\n",
       "      <td>21</td>\n",
       "      <td>29</td>\n",
       "      <td>0</td>\n",
       "      <td>0</td>\n",
       "      <td>0</td>\n",
       "      <td>0</td>\n",
       "      <td>2102</td>\n",
       "      <td>11.33</td>\n",
       "      <td>185.6</td>\n",
       "      <td>1.233871</td>\n",
       "      <td>0.000000</td>\n",
       "      <td>0.000000</td>\n",
       "    </tr>\n",
       "    <tr>\n",
       "      <th>2</th>\n",
       "      <td>Александрова Светлана Викторовна</td>\n",
       "      <td>0322</td>\n",
       "      <td>173</td>\n",
       "      <td>153</td>\n",
       "      <td>1</td>\n",
       "      <td>64</td>\n",
       "      <td>27</td>\n",
       "      <td>34</td>\n",
       "      <td>26</td>\n",
       "      <td>2</td>\n",
       "      <td>0</td>\n",
       "      <td>0</td>\n",
       "      <td>10</td>\n",
       "      <td>1799</td>\n",
       "      <td>10.71</td>\n",
       "      <td>168.0</td>\n",
       "      <td>0.884393</td>\n",
       "      <td>0.005780</td>\n",
       "      <td>0.578035</td>\n",
       "    </tr>\n",
       "    <tr>\n",
       "      <th>3</th>\n",
       "      <td>Александрова Светлана Викторовна</td>\n",
       "      <td>0422</td>\n",
       "      <td>86</td>\n",
       "      <td>80</td>\n",
       "      <td>0</td>\n",
       "      <td>29</td>\n",
       "      <td>18</td>\n",
       "      <td>18</td>\n",
       "      <td>10</td>\n",
       "      <td>2</td>\n",
       "      <td>0</td>\n",
       "      <td>0</td>\n",
       "      <td>5</td>\n",
       "      <td>1856</td>\n",
       "      <td>11.28</td>\n",
       "      <td>164.5</td>\n",
       "      <td>0.930233</td>\n",
       "      <td>0.000000</td>\n",
       "      <td>0.000000</td>\n",
       "    </tr>\n",
       "    <tr>\n",
       "      <th>4</th>\n",
       "      <td>Александрова Светлана Викторовна</td>\n",
       "      <td>0522</td>\n",
       "      <td>62</td>\n",
       "      <td>59</td>\n",
       "      <td>3</td>\n",
       "      <td>26</td>\n",
       "      <td>6</td>\n",
       "      <td>15</td>\n",
       "      <td>7</td>\n",
       "      <td>0</td>\n",
       "      <td>0</td>\n",
       "      <td>0</td>\n",
       "      <td>3</td>\n",
       "      <td>1615</td>\n",
       "      <td>9.32</td>\n",
       "      <td>173.3</td>\n",
       "      <td>0.951613</td>\n",
       "      <td>0.048387</td>\n",
       "      <td>4.838710</td>\n",
       "    </tr>\n",
       "    <tr>\n",
       "      <th>...</th>\n",
       "      <td>...</td>\n",
       "      <td>...</td>\n",
       "      <td>...</td>\n",
       "      <td>...</td>\n",
       "      <td>...</td>\n",
       "      <td>...</td>\n",
       "      <td>...</td>\n",
       "      <td>...</td>\n",
       "      <td>...</td>\n",
       "      <td>...</td>\n",
       "      <td>...</td>\n",
       "      <td>...</td>\n",
       "      <td>...</td>\n",
       "      <td>...</td>\n",
       "      <td>...</td>\n",
       "      <td>...</td>\n",
       "      <td>...</td>\n",
       "      <td>...</td>\n",
       "      <td>...</td>\n",
       "    </tr>\n",
       "    <tr>\n",
       "      <th>129</th>\n",
       "      <td>Чичикина Галина Павловна</td>\n",
       "      <td>0122</td>\n",
       "      <td>167</td>\n",
       "      <td>0</td>\n",
       "      <td>0</td>\n",
       "      <td>0</td>\n",
       "      <td>0</td>\n",
       "      <td>14</td>\n",
       "      <td>100</td>\n",
       "      <td>0</td>\n",
       "      <td>21</td>\n",
       "      <td>8</td>\n",
       "      <td>0</td>\n",
       "      <td>852</td>\n",
       "      <td>4.68</td>\n",
       "      <td>182.0</td>\n",
       "      <td>0.000000</td>\n",
       "      <td>0.000000</td>\n",
       "      <td>0.000000</td>\n",
       "    </tr>\n",
       "    <tr>\n",
       "      <th>130</th>\n",
       "      <td>Чичикина Галина Павловна</td>\n",
       "      <td>0222</td>\n",
       "      <td>254</td>\n",
       "      <td>0</td>\n",
       "      <td>0</td>\n",
       "      <td>0</td>\n",
       "      <td>0</td>\n",
       "      <td>9</td>\n",
       "      <td>159</td>\n",
       "      <td>0</td>\n",
       "      <td>37</td>\n",
       "      <td>10</td>\n",
       "      <td>0</td>\n",
       "      <td>849</td>\n",
       "      <td>4.64</td>\n",
       "      <td>182.7</td>\n",
       "      <td>0.000000</td>\n",
       "      <td>0.000000</td>\n",
       "      <td>0.000000</td>\n",
       "    </tr>\n",
       "    <tr>\n",
       "      <th>131</th>\n",
       "      <td>Чичикина Галина Павловна</td>\n",
       "      <td>0322</td>\n",
       "      <td>286</td>\n",
       "      <td>0</td>\n",
       "      <td>0</td>\n",
       "      <td>4</td>\n",
       "      <td>0</td>\n",
       "      <td>19</td>\n",
       "      <td>176</td>\n",
       "      <td>0</td>\n",
       "      <td>39</td>\n",
       "      <td>15</td>\n",
       "      <td>0</td>\n",
       "      <td>849</td>\n",
       "      <td>4.64</td>\n",
       "      <td>183.0</td>\n",
       "      <td>0.000000</td>\n",
       "      <td>0.000000</td>\n",
       "      <td>0.000000</td>\n",
       "    </tr>\n",
       "    <tr>\n",
       "      <th>132</th>\n",
       "      <td>Чичикина Галина Павловна</td>\n",
       "      <td>0422</td>\n",
       "      <td>185</td>\n",
       "      <td>0</td>\n",
       "      <td>0</td>\n",
       "      <td>1</td>\n",
       "      <td>0</td>\n",
       "      <td>10</td>\n",
       "      <td>117</td>\n",
       "      <td>0</td>\n",
       "      <td>26</td>\n",
       "      <td>9</td>\n",
       "      <td>0</td>\n",
       "      <td>796</td>\n",
       "      <td>4.38</td>\n",
       "      <td>181.7</td>\n",
       "      <td>0.000000</td>\n",
       "      <td>0.000000</td>\n",
       "      <td>0.000000</td>\n",
       "    </tr>\n",
       "    <tr>\n",
       "      <th>133</th>\n",
       "      <td>Чичикина Галина Павловна</td>\n",
       "      <td>0522</td>\n",
       "      <td>69</td>\n",
       "      <td>0</td>\n",
       "      <td>0</td>\n",
       "      <td>0</td>\n",
       "      <td>0</td>\n",
       "      <td>1</td>\n",
       "      <td>52</td>\n",
       "      <td>0</td>\n",
       "      <td>10</td>\n",
       "      <td>3</td>\n",
       "      <td>0</td>\n",
       "      <td>899</td>\n",
       "      <td>4.93</td>\n",
       "      <td>182.5</td>\n",
       "      <td>0.000000</td>\n",
       "      <td>0.000000</td>\n",
       "      <td>0.000000</td>\n",
       "    </tr>\n",
       "  </tbody>\n",
       "</table>\n",
       "<p>134 rows × 19 columns</p>\n",
       "</div>"
      ],
      "text/plain": [
       "                                 Врач Месяц  Приемов  Пломб  Мышьяков  K02.1  \\\n",
       "0    Александрова Светлана Викторовна  0122      119    125         1     58   \n",
       "1    Александрова Светлана Викторовна  0222      124    153         0     52   \n",
       "2    Александрова Светлана Викторовна  0322      173    153         1     64   \n",
       "3    Александрова Светлана Викторовна  0422       86     80         0     29   \n",
       "4    Александрова Светлана Викторовна  0522       62     59         3     26   \n",
       "..                                ...   ...      ...    ...       ...    ...   \n",
       "129          Чичикина Галина Павловна  0122      167      0         0      0   \n",
       "130          Чичикина Галина Павловна  0222      254      0         0      0   \n",
       "131          Чичикина Галина Павловна  0322      286      0         0      4   \n",
       "132          Чичикина Галина Павловна  0422      185      0         0      1   \n",
       "133          Чичикина Галина Павловна  0522       69      0         0      0   \n",
       "\n",
       "     K02.8  K04.0  K04.5  K05.1  K05.3  K10.2  Z01.2  avg_rub  avg_uet    RPU  \\\n",
       "0       17     14     17      0      2      0      7     1930    11.56  167.0   \n",
       "1       13     21     29      0      0      0      0     2102    11.33  185.6   \n",
       "2       27     34     26      2      0      0     10     1799    10.71  168.0   \n",
       "3       18     18     10      2      0      0      5     1856    11.28  164.5   \n",
       "4        6     15      7      0      0      0      3     1615     9.32  173.3   \n",
       "..     ...    ...    ...    ...    ...    ...    ...      ...      ...    ...   \n",
       "129      0     14    100      0     21      8      0      852     4.68  182.0   \n",
       "130      0      9    159      0     37     10      0      849     4.64  182.7   \n",
       "131      0     19    176      0     39     15      0      849     4.64  183.0   \n",
       "132      0     10    117      0     26      9      0      796     4.38  181.7   \n",
       "133      0      1     52      0     10      3      0      899     4.93  182.5   \n",
       "\n",
       "          FPV       DPV     DPV %  \n",
       "0    1.050420  0.008403  0.840336  \n",
       "1    1.233871  0.000000  0.000000  \n",
       "2    0.884393  0.005780  0.578035  \n",
       "3    0.930233  0.000000  0.000000  \n",
       "4    0.951613  0.048387  4.838710  \n",
       "..        ...       ...       ...  \n",
       "129  0.000000  0.000000  0.000000  \n",
       "130  0.000000  0.000000  0.000000  \n",
       "131  0.000000  0.000000  0.000000  \n",
       "132  0.000000  0.000000  0.000000  \n",
       "133  0.000000  0.000000  0.000000  \n",
       "\n",
       "[134 rows x 19 columns]"
      ]
     },
     "execution_count": 221,
     "metadata": {},
     "output_type": "execute_result"
    }
   ],
   "source": [
    "df_result_by_month"
   ]
  },
  {
   "cell_type": "code",
   "execution_count": 222,
   "metadata": {},
   "outputs": [],
   "source": [
    "df_result.to_excel(f'Лечение_{year}.xlsx', index=False)\n",
    "df_result_by_month.to_excel(f'Лечение_по_месяцам_{year}.xlsx', index=False)"
   ]
  },
  {
   "cell_type": "code",
   "execution_count": 223,
   "metadata": {},
   "outputs": [
    {
     "data": {
      "text/html": [
       "<div>\n",
       "<style scoped>\n",
       "    .dataframe tbody tr th:only-of-type {\n",
       "        vertical-align: middle;\n",
       "    }\n",
       "\n",
       "    .dataframe tbody tr th {\n",
       "        vertical-align: top;\n",
       "    }\n",
       "\n",
       "    .dataframe thead th {\n",
       "        text-align: right;\n",
       "    }\n",
       "</style>\n",
       "<table border=\"1\" class=\"dataframe\">\n",
       "  <thead>\n",
       "    <tr style=\"text-align: right;\">\n",
       "      <th></th>\n",
       "      <th>MKB1</th>\n",
       "      <th>diag_count</th>\n",
       "    </tr>\n",
       "  </thead>\n",
       "  <tbody>\n",
       "    <tr>\n",
       "      <th>30</th>\n",
       "      <td>K04.5</td>\n",
       "      <td>5139</td>\n",
       "    </tr>\n",
       "    <tr>\n",
       "      <th>21</th>\n",
       "      <td>K02.1</td>\n",
       "      <td>3189</td>\n",
       "    </tr>\n",
       "    <tr>\n",
       "      <th>28</th>\n",
       "      <td>K04.0</td>\n",
       "      <td>2740</td>\n",
       "    </tr>\n",
       "    <tr>\n",
       "      <th>36</th>\n",
       "      <td>K05.3</td>\n",
       "      <td>1409</td>\n",
       "    </tr>\n",
       "    <tr>\n",
       "      <th>23</th>\n",
       "      <td>K02.8</td>\n",
       "      <td>1082</td>\n",
       "    </tr>\n",
       "    <tr>\n",
       "      <th>96</th>\n",
       "      <td>Z01.2</td>\n",
       "      <td>580</td>\n",
       "    </tr>\n",
       "    <tr>\n",
       "      <th>54</th>\n",
       "      <td>K10.2</td>\n",
       "      <td>461</td>\n",
       "    </tr>\n",
       "    <tr>\n",
       "      <th>34</th>\n",
       "      <td>K05.1</td>\n",
       "      <td>376</td>\n",
       "    </tr>\n",
       "    <tr>\n",
       "      <th>25</th>\n",
       "      <td>K03.6</td>\n",
       "      <td>248</td>\n",
       "    </tr>\n",
       "    <tr>\n",
       "      <th>18</th>\n",
       "      <td>K01.0</td>\n",
       "      <td>197</td>\n",
       "    </tr>\n",
       "  </tbody>\n",
       "</table>\n",
       "</div>"
      ],
      "text/plain": [
       "     MKB1  diag_count\n",
       "30  K04.5        5139\n",
       "21  K02.1        3189\n",
       "28  K04.0        2740\n",
       "36  K05.3        1409\n",
       "23  K02.8        1082\n",
       "96  Z01.2         580\n",
       "54  K10.2         461\n",
       "34  K05.1         376\n",
       "25  K03.6         248\n",
       "18  K01.0         197"
      ]
     },
     "execution_count": 223,
     "metadata": {},
     "output_type": "execute_result"
    }
   ],
   "source": [
    "diag_by_doc.groupby('MKB1', as_index=False) \\\n",
    "    .agg({'diag_count': 'sum'}) \\\n",
    "    .sort_values('diag_count', ascending=False) \\\n",
    "    .head(10)"
   ]
  },
  {
   "cell_type": "code",
   "execution_count": 224,
   "metadata": {
    "scrolled": false
   },
   "outputs": [
    {
     "data": {
      "application/vnd.plotly.v1+json": {
       "config": {
        "plotlyServerURL": "https://plot.ly"
       },
       "data": [
        {
         "alignmentgroup": "True",
         "hovertemplate": "Врач=%{x}<br>FPV=%{y}<extra></extra>",
         "legendgroup": "",
         "marker": {
          "color": "#636efa",
          "pattern": {
           "shape": ""
          }
         },
         "name": "",
         "offsetgroup": "",
         "orientation": "v",
         "showlegend": false,
         "textposition": "auto",
         "type": "bar",
         "x": [
          "Максимец Ирина Ивановна",
          "Коваленко Ольга Эдуардовна",
          "Володин Павел Юрьевич",
          "Скалкович Инна Валерьевна",
          "Николаева Надежда Григорьевна",
          "Литвинова Нина Алексеевна",
          "Камынова Наталия Валериевна",
          "Лопаткина Алёна Сергеевна",
          "Александрова Светлана Викторовна",
          "Гвоздева Татьяна Анатольевна",
          "Ковшов Александр Александрович",
          "Чижова Елена Владимировна",
          "Морошенкова Гульмира Абылкаковна",
          "Горбикова Эльфия Рашитовна",
          "Захаров Иван Владимирович",
          "Власова Альфия Лябибовна",
          "Ольховская Альбина Владимировна",
          "Пузанова Лидия Сергеевна",
          "Мкртчян Тарон Арсенович",
          "Кукушкина Лариса Рамзановна",
          "Коваленко Ольга Эдуардовна физио"
         ],
         "xaxis": "x",
         "y": [
          1.5473484848484849,
          1.482185273159145,
          1.3525896414342629,
          1.3063063063063063,
          1.2897800776196637,
          1.189409368635438,
          1.0213675213675213,
          1.0192307692307692,
          1.0106382978723405,
          1,
          0.8613138686131386,
          0.8473282442748091,
          0.8265107212475633,
          0.807909604519774,
          0.7754237288135594,
          0.7533333333333333,
          0.7009174311926606,
          0.6653620352250489,
          0.5647058823529412,
          0.5254988913525499,
          0.0008628127696289905
         ],
         "yaxis": "y"
        }
       ],
       "layout": {
        "barmode": "relative",
        "legend": {
         "tracegroupgap": 0
        },
        "template": {
         "data": {
          "bar": [
           {
            "error_x": {
             "color": "#2a3f5f"
            },
            "error_y": {
             "color": "#2a3f5f"
            },
            "marker": {
             "line": {
              "color": "#E5ECF6",
              "width": 0.5
             },
             "pattern": {
              "fillmode": "overlay",
              "size": 10,
              "solidity": 0.2
             }
            },
            "type": "bar"
           }
          ],
          "barpolar": [
           {
            "marker": {
             "line": {
              "color": "#E5ECF6",
              "width": 0.5
             },
             "pattern": {
              "fillmode": "overlay",
              "size": 10,
              "solidity": 0.2
             }
            },
            "type": "barpolar"
           }
          ],
          "carpet": [
           {
            "aaxis": {
             "endlinecolor": "#2a3f5f",
             "gridcolor": "white",
             "linecolor": "white",
             "minorgridcolor": "white",
             "startlinecolor": "#2a3f5f"
            },
            "baxis": {
             "endlinecolor": "#2a3f5f",
             "gridcolor": "white",
             "linecolor": "white",
             "minorgridcolor": "white",
             "startlinecolor": "#2a3f5f"
            },
            "type": "carpet"
           }
          ],
          "choropleth": [
           {
            "colorbar": {
             "outlinewidth": 0,
             "ticks": ""
            },
            "type": "choropleth"
           }
          ],
          "contour": [
           {
            "colorbar": {
             "outlinewidth": 0,
             "ticks": ""
            },
            "colorscale": [
             [
              0,
              "#0d0887"
             ],
             [
              0.1111111111111111,
              "#46039f"
             ],
             [
              0.2222222222222222,
              "#7201a8"
             ],
             [
              0.3333333333333333,
              "#9c179e"
             ],
             [
              0.4444444444444444,
              "#bd3786"
             ],
             [
              0.5555555555555556,
              "#d8576b"
             ],
             [
              0.6666666666666666,
              "#ed7953"
             ],
             [
              0.7777777777777778,
              "#fb9f3a"
             ],
             [
              0.8888888888888888,
              "#fdca26"
             ],
             [
              1,
              "#f0f921"
             ]
            ],
            "type": "contour"
           }
          ],
          "contourcarpet": [
           {
            "colorbar": {
             "outlinewidth": 0,
             "ticks": ""
            },
            "type": "contourcarpet"
           }
          ],
          "heatmap": [
           {
            "colorbar": {
             "outlinewidth": 0,
             "ticks": ""
            },
            "colorscale": [
             [
              0,
              "#0d0887"
             ],
             [
              0.1111111111111111,
              "#46039f"
             ],
             [
              0.2222222222222222,
              "#7201a8"
             ],
             [
              0.3333333333333333,
              "#9c179e"
             ],
             [
              0.4444444444444444,
              "#bd3786"
             ],
             [
              0.5555555555555556,
              "#d8576b"
             ],
             [
              0.6666666666666666,
              "#ed7953"
             ],
             [
              0.7777777777777778,
              "#fb9f3a"
             ],
             [
              0.8888888888888888,
              "#fdca26"
             ],
             [
              1,
              "#f0f921"
             ]
            ],
            "type": "heatmap"
           }
          ],
          "heatmapgl": [
           {
            "colorbar": {
             "outlinewidth": 0,
             "ticks": ""
            },
            "colorscale": [
             [
              0,
              "#0d0887"
             ],
             [
              0.1111111111111111,
              "#46039f"
             ],
             [
              0.2222222222222222,
              "#7201a8"
             ],
             [
              0.3333333333333333,
              "#9c179e"
             ],
             [
              0.4444444444444444,
              "#bd3786"
             ],
             [
              0.5555555555555556,
              "#d8576b"
             ],
             [
              0.6666666666666666,
              "#ed7953"
             ],
             [
              0.7777777777777778,
              "#fb9f3a"
             ],
             [
              0.8888888888888888,
              "#fdca26"
             ],
             [
              1,
              "#f0f921"
             ]
            ],
            "type": "heatmapgl"
           }
          ],
          "histogram": [
           {
            "marker": {
             "pattern": {
              "fillmode": "overlay",
              "size": 10,
              "solidity": 0.2
             }
            },
            "type": "histogram"
           }
          ],
          "histogram2d": [
           {
            "colorbar": {
             "outlinewidth": 0,
             "ticks": ""
            },
            "colorscale": [
             [
              0,
              "#0d0887"
             ],
             [
              0.1111111111111111,
              "#46039f"
             ],
             [
              0.2222222222222222,
              "#7201a8"
             ],
             [
              0.3333333333333333,
              "#9c179e"
             ],
             [
              0.4444444444444444,
              "#bd3786"
             ],
             [
              0.5555555555555556,
              "#d8576b"
             ],
             [
              0.6666666666666666,
              "#ed7953"
             ],
             [
              0.7777777777777778,
              "#fb9f3a"
             ],
             [
              0.8888888888888888,
              "#fdca26"
             ],
             [
              1,
              "#f0f921"
             ]
            ],
            "type": "histogram2d"
           }
          ],
          "histogram2dcontour": [
           {
            "colorbar": {
             "outlinewidth": 0,
             "ticks": ""
            },
            "colorscale": [
             [
              0,
              "#0d0887"
             ],
             [
              0.1111111111111111,
              "#46039f"
             ],
             [
              0.2222222222222222,
              "#7201a8"
             ],
             [
              0.3333333333333333,
              "#9c179e"
             ],
             [
              0.4444444444444444,
              "#bd3786"
             ],
             [
              0.5555555555555556,
              "#d8576b"
             ],
             [
              0.6666666666666666,
              "#ed7953"
             ],
             [
              0.7777777777777778,
              "#fb9f3a"
             ],
             [
              0.8888888888888888,
              "#fdca26"
             ],
             [
              1,
              "#f0f921"
             ]
            ],
            "type": "histogram2dcontour"
           }
          ],
          "mesh3d": [
           {
            "colorbar": {
             "outlinewidth": 0,
             "ticks": ""
            },
            "type": "mesh3d"
           }
          ],
          "parcoords": [
           {
            "line": {
             "colorbar": {
              "outlinewidth": 0,
              "ticks": ""
             }
            },
            "type": "parcoords"
           }
          ],
          "pie": [
           {
            "automargin": true,
            "type": "pie"
           }
          ],
          "scatter": [
           {
            "marker": {
             "colorbar": {
              "outlinewidth": 0,
              "ticks": ""
             }
            },
            "type": "scatter"
           }
          ],
          "scatter3d": [
           {
            "line": {
             "colorbar": {
              "outlinewidth": 0,
              "ticks": ""
             }
            },
            "marker": {
             "colorbar": {
              "outlinewidth": 0,
              "ticks": ""
             }
            },
            "type": "scatter3d"
           }
          ],
          "scattercarpet": [
           {
            "marker": {
             "colorbar": {
              "outlinewidth": 0,
              "ticks": ""
             }
            },
            "type": "scattercarpet"
           }
          ],
          "scattergeo": [
           {
            "marker": {
             "colorbar": {
              "outlinewidth": 0,
              "ticks": ""
             }
            },
            "type": "scattergeo"
           }
          ],
          "scattergl": [
           {
            "marker": {
             "colorbar": {
              "outlinewidth": 0,
              "ticks": ""
             }
            },
            "type": "scattergl"
           }
          ],
          "scattermapbox": [
           {
            "marker": {
             "colorbar": {
              "outlinewidth": 0,
              "ticks": ""
             }
            },
            "type": "scattermapbox"
           }
          ],
          "scatterpolar": [
           {
            "marker": {
             "colorbar": {
              "outlinewidth": 0,
              "ticks": ""
             }
            },
            "type": "scatterpolar"
           }
          ],
          "scatterpolargl": [
           {
            "marker": {
             "colorbar": {
              "outlinewidth": 0,
              "ticks": ""
             }
            },
            "type": "scatterpolargl"
           }
          ],
          "scatterternary": [
           {
            "marker": {
             "colorbar": {
              "outlinewidth": 0,
              "ticks": ""
             }
            },
            "type": "scatterternary"
           }
          ],
          "surface": [
           {
            "colorbar": {
             "outlinewidth": 0,
             "ticks": ""
            },
            "colorscale": [
             [
              0,
              "#0d0887"
             ],
             [
              0.1111111111111111,
              "#46039f"
             ],
             [
              0.2222222222222222,
              "#7201a8"
             ],
             [
              0.3333333333333333,
              "#9c179e"
             ],
             [
              0.4444444444444444,
              "#bd3786"
             ],
             [
              0.5555555555555556,
              "#d8576b"
             ],
             [
              0.6666666666666666,
              "#ed7953"
             ],
             [
              0.7777777777777778,
              "#fb9f3a"
             ],
             [
              0.8888888888888888,
              "#fdca26"
             ],
             [
              1,
              "#f0f921"
             ]
            ],
            "type": "surface"
           }
          ],
          "table": [
           {
            "cells": {
             "fill": {
              "color": "#EBF0F8"
             },
             "line": {
              "color": "white"
             }
            },
            "header": {
             "fill": {
              "color": "#C8D4E3"
             },
             "line": {
              "color": "white"
             }
            },
            "type": "table"
           }
          ]
         },
         "layout": {
          "annotationdefaults": {
           "arrowcolor": "#2a3f5f",
           "arrowhead": 0,
           "arrowwidth": 1
          },
          "autotypenumbers": "strict",
          "coloraxis": {
           "colorbar": {
            "outlinewidth": 0,
            "ticks": ""
           }
          },
          "colorscale": {
           "diverging": [
            [
             0,
             "#8e0152"
            ],
            [
             0.1,
             "#c51b7d"
            ],
            [
             0.2,
             "#de77ae"
            ],
            [
             0.3,
             "#f1b6da"
            ],
            [
             0.4,
             "#fde0ef"
            ],
            [
             0.5,
             "#f7f7f7"
            ],
            [
             0.6,
             "#e6f5d0"
            ],
            [
             0.7,
             "#b8e186"
            ],
            [
             0.8,
             "#7fbc41"
            ],
            [
             0.9,
             "#4d9221"
            ],
            [
             1,
             "#276419"
            ]
           ],
           "sequential": [
            [
             0,
             "#0d0887"
            ],
            [
             0.1111111111111111,
             "#46039f"
            ],
            [
             0.2222222222222222,
             "#7201a8"
            ],
            [
             0.3333333333333333,
             "#9c179e"
            ],
            [
             0.4444444444444444,
             "#bd3786"
            ],
            [
             0.5555555555555556,
             "#d8576b"
            ],
            [
             0.6666666666666666,
             "#ed7953"
            ],
            [
             0.7777777777777778,
             "#fb9f3a"
            ],
            [
             0.8888888888888888,
             "#fdca26"
            ],
            [
             1,
             "#f0f921"
            ]
           ],
           "sequentialminus": [
            [
             0,
             "#0d0887"
            ],
            [
             0.1111111111111111,
             "#46039f"
            ],
            [
             0.2222222222222222,
             "#7201a8"
            ],
            [
             0.3333333333333333,
             "#9c179e"
            ],
            [
             0.4444444444444444,
             "#bd3786"
            ],
            [
             0.5555555555555556,
             "#d8576b"
            ],
            [
             0.6666666666666666,
             "#ed7953"
            ],
            [
             0.7777777777777778,
             "#fb9f3a"
            ],
            [
             0.8888888888888888,
             "#fdca26"
            ],
            [
             1,
             "#f0f921"
            ]
           ]
          },
          "colorway": [
           "#636efa",
           "#EF553B",
           "#00cc96",
           "#ab63fa",
           "#FFA15A",
           "#19d3f3",
           "#FF6692",
           "#B6E880",
           "#FF97FF",
           "#FECB52"
          ],
          "font": {
           "color": "#2a3f5f"
          },
          "geo": {
           "bgcolor": "white",
           "lakecolor": "white",
           "landcolor": "#E5ECF6",
           "showlakes": true,
           "showland": true,
           "subunitcolor": "white"
          },
          "hoverlabel": {
           "align": "left"
          },
          "hovermode": "closest",
          "mapbox": {
           "style": "light"
          },
          "paper_bgcolor": "white",
          "plot_bgcolor": "#E5ECF6",
          "polar": {
           "angularaxis": {
            "gridcolor": "white",
            "linecolor": "white",
            "ticks": ""
           },
           "bgcolor": "#E5ECF6",
           "radialaxis": {
            "gridcolor": "white",
            "linecolor": "white",
            "ticks": ""
           }
          },
          "scene": {
           "xaxis": {
            "backgroundcolor": "#E5ECF6",
            "gridcolor": "white",
            "gridwidth": 2,
            "linecolor": "white",
            "showbackground": true,
            "ticks": "",
            "zerolinecolor": "white"
           },
           "yaxis": {
            "backgroundcolor": "#E5ECF6",
            "gridcolor": "white",
            "gridwidth": 2,
            "linecolor": "white",
            "showbackground": true,
            "ticks": "",
            "zerolinecolor": "white"
           },
           "zaxis": {
            "backgroundcolor": "#E5ECF6",
            "gridcolor": "white",
            "gridwidth": 2,
            "linecolor": "white",
            "showbackground": true,
            "ticks": "",
            "zerolinecolor": "white"
           }
          },
          "shapedefaults": {
           "line": {
            "color": "#2a3f5f"
           }
          },
          "ternary": {
           "aaxis": {
            "gridcolor": "white",
            "linecolor": "white",
            "ticks": ""
           },
           "baxis": {
            "gridcolor": "white",
            "linecolor": "white",
            "ticks": ""
           },
           "bgcolor": "#E5ECF6",
           "caxis": {
            "gridcolor": "white",
            "linecolor": "white",
            "ticks": ""
           }
          },
          "title": {
           "x": 0.05
          },
          "xaxis": {
           "automargin": true,
           "gridcolor": "white",
           "linecolor": "white",
           "ticks": "",
           "title": {
            "standoff": 15
           },
           "zerolinecolor": "white",
           "zerolinewidth": 2
          },
          "yaxis": {
           "automargin": true,
           "gridcolor": "white",
           "linecolor": "white",
           "ticks": "",
           "title": {
            "standoff": 15
           },
           "zerolinecolor": "white",
           "zerolinewidth": 2
          }
         }
        },
        "title": {
         "text": "Число пломб на приеме в 2022 году"
        },
        "xaxis": {
         "anchor": "y",
         "domain": [
          0,
          1
         ],
         "title": {
          "text": "Врач"
         }
        },
        "yaxis": {
         "anchor": "x",
         "domain": [
          0,
          1
         ],
         "title": {
          "text": "FPV"
         }
        }
       }
      },
      "text/html": [
       "<div>                            <div id=\"1af4f05f-74e9-4361-ba6c-e025d25a6775\" class=\"plotly-graph-div\" style=\"height:525px; width:100%;\"></div>            <script type=\"text/javascript\">                require([\"plotly\"], function(Plotly) {                    window.PLOTLYENV=window.PLOTLYENV || {};                                    if (document.getElementById(\"1af4f05f-74e9-4361-ba6c-e025d25a6775\")) {                    Plotly.newPlot(                        \"1af4f05f-74e9-4361-ba6c-e025d25a6775\",                        [{\"alignmentgroup\":\"True\",\"hovertemplate\":\"\\u0412\\u0440\\u0430\\u0447=%{x}<br>FPV=%{y}<extra></extra>\",\"legendgroup\":\"\",\"marker\":{\"color\":\"#636efa\",\"pattern\":{\"shape\":\"\"}},\"name\":\"\",\"offsetgroup\":\"\",\"orientation\":\"v\",\"showlegend\":false,\"textposition\":\"auto\",\"type\":\"bar\",\"x\":[\"\\u041c\\u0430\\u043a\\u0441\\u0438\\u043c\\u0435\\u0446 \\u0418\\u0440\\u0438\\u043d\\u0430 \\u0418\\u0432\\u0430\\u043d\\u043e\\u0432\\u043d\\u0430\",\"\\u041a\\u043e\\u0432\\u0430\\u043b\\u0435\\u043d\\u043a\\u043e \\u041e\\u043b\\u044c\\u0433\\u0430 \\u042d\\u0434\\u0443\\u0430\\u0440\\u0434\\u043e\\u0432\\u043d\\u0430\",\"\\u0412\\u043e\\u043b\\u043e\\u0434\\u0438\\u043d \\u041f\\u0430\\u0432\\u0435\\u043b \\u042e\\u0440\\u044c\\u0435\\u0432\\u0438\\u0447\",\"\\u0421\\u043a\\u0430\\u043b\\u043a\\u043e\\u0432\\u0438\\u0447 \\u0418\\u043d\\u043d\\u0430 \\u0412\\u0430\\u043b\\u0435\\u0440\\u044c\\u0435\\u0432\\u043d\\u0430\",\"\\u041d\\u0438\\u043a\\u043e\\u043b\\u0430\\u0435\\u0432\\u0430 \\u041d\\u0430\\u0434\\u0435\\u0436\\u0434\\u0430 \\u0413\\u0440\\u0438\\u0433\\u043e\\u0440\\u044c\\u0435\\u0432\\u043d\\u0430\",\"\\u041b\\u0438\\u0442\\u0432\\u0438\\u043d\\u043e\\u0432\\u0430 \\u041d\\u0438\\u043d\\u0430 \\u0410\\u043b\\u0435\\u043a\\u0441\\u0435\\u0435\\u0432\\u043d\\u0430\",\"\\u041a\\u0430\\u043c\\u044b\\u043d\\u043e\\u0432\\u0430 \\u041d\\u0430\\u0442\\u0430\\u043b\\u0438\\u044f \\u0412\\u0430\\u043b\\u0435\\u0440\\u0438\\u0435\\u0432\\u043d\\u0430\",\"\\u041b\\u043e\\u043f\\u0430\\u0442\\u043a\\u0438\\u043d\\u0430 \\u0410\\u043b\\u0451\\u043d\\u0430 \\u0421\\u0435\\u0440\\u0433\\u0435\\u0435\\u0432\\u043d\\u0430\",\"\\u0410\\u043b\\u0435\\u043a\\u0441\\u0430\\u043d\\u0434\\u0440\\u043e\\u0432\\u0430 \\u0421\\u0432\\u0435\\u0442\\u043b\\u0430\\u043d\\u0430 \\u0412\\u0438\\u043a\\u0442\\u043e\\u0440\\u043e\\u0432\\u043d\\u0430\",\"\\u0413\\u0432\\u043e\\u0437\\u0434\\u0435\\u0432\\u0430 \\u0422\\u0430\\u0442\\u044c\\u044f\\u043d\\u0430 \\u0410\\u043d\\u0430\\u0442\\u043e\\u043b\\u044c\\u0435\\u0432\\u043d\\u0430\",\"\\u041a\\u043e\\u0432\\u0448\\u043e\\u0432 \\u0410\\u043b\\u0435\\u043a\\u0441\\u0430\\u043d\\u0434\\u0440 \\u0410\\u043b\\u0435\\u043a\\u0441\\u0430\\u043d\\u0434\\u0440\\u043e\\u0432\\u0438\\u0447\",\"\\u0427\\u0438\\u0436\\u043e\\u0432\\u0430 \\u0415\\u043b\\u0435\\u043d\\u0430 \\u0412\\u043b\\u0430\\u0434\\u0438\\u043c\\u0438\\u0440\\u043e\\u0432\\u043d\\u0430\",\"\\u041c\\u043e\\u0440\\u043e\\u0448\\u0435\\u043d\\u043a\\u043e\\u0432\\u0430 \\u0413\\u0443\\u043b\\u044c\\u043c\\u0438\\u0440\\u0430 \\u0410\\u0431\\u044b\\u043b\\u043a\\u0430\\u043a\\u043e\\u0432\\u043d\\u0430\",\"\\u0413\\u043e\\u0440\\u0431\\u0438\\u043a\\u043e\\u0432\\u0430 \\u042d\\u043b\\u044c\\u0444\\u0438\\u044f \\u0420\\u0430\\u0448\\u0438\\u0442\\u043e\\u0432\\u043d\\u0430\",\"\\u0417\\u0430\\u0445\\u0430\\u0440\\u043e\\u0432 \\u0418\\u0432\\u0430\\u043d \\u0412\\u043b\\u0430\\u0434\\u0438\\u043c\\u0438\\u0440\\u043e\\u0432\\u0438\\u0447\",\"\\u0412\\u043b\\u0430\\u0441\\u043e\\u0432\\u0430 \\u0410\\u043b\\u044c\\u0444\\u0438\\u044f \\u041b\\u044f\\u0431\\u0438\\u0431\\u043e\\u0432\\u043d\\u0430\",\"\\u041e\\u043b\\u044c\\u0445\\u043e\\u0432\\u0441\\u043a\\u0430\\u044f \\u0410\\u043b\\u044c\\u0431\\u0438\\u043d\\u0430 \\u0412\\u043b\\u0430\\u0434\\u0438\\u043c\\u0438\\u0440\\u043e\\u0432\\u043d\\u0430\",\"\\u041f\\u0443\\u0437\\u0430\\u043d\\u043e\\u0432\\u0430 \\u041b\\u0438\\u0434\\u0438\\u044f \\u0421\\u0435\\u0440\\u0433\\u0435\\u0435\\u0432\\u043d\\u0430\",\"\\u041c\\u043a\\u0440\\u0442\\u0447\\u044f\\u043d \\u0422\\u0430\\u0440\\u043e\\u043d \\u0410\\u0440\\u0441\\u0435\\u043d\\u043e\\u0432\\u0438\\u0447\",\"\\u041a\\u0443\\u043a\\u0443\\u0448\\u043a\\u0438\\u043d\\u0430 \\u041b\\u0430\\u0440\\u0438\\u0441\\u0430 \\u0420\\u0430\\u043c\\u0437\\u0430\\u043d\\u043e\\u0432\\u043d\\u0430\",\"\\u041a\\u043e\\u0432\\u0430\\u043b\\u0435\\u043d\\u043a\\u043e \\u041e\\u043b\\u044c\\u0433\\u0430 \\u042d\\u0434\\u0443\\u0430\\u0440\\u0434\\u043e\\u0432\\u043d\\u0430 \\u0444\\u0438\\u0437\\u0438\\u043e\"],\"xaxis\":\"x\",\"y\":[1.5473484848484849,1.482185273159145,1.3525896414342629,1.3063063063063063,1.2897800776196637,1.189409368635438,1.0213675213675213,1.0192307692307692,1.0106382978723405,1.0,0.8613138686131386,0.8473282442748091,0.8265107212475633,0.807909604519774,0.7754237288135594,0.7533333333333333,0.7009174311926606,0.6653620352250489,0.5647058823529412,0.5254988913525499,0.0008628127696289905],\"yaxis\":\"y\"}],                        {\"barmode\":\"relative\",\"legend\":{\"tracegroupgap\":0},\"template\":{\"data\":{\"bar\":[{\"error_x\":{\"color\":\"#2a3f5f\"},\"error_y\":{\"color\":\"#2a3f5f\"},\"marker\":{\"line\":{\"color\":\"#E5ECF6\",\"width\":0.5},\"pattern\":{\"fillmode\":\"overlay\",\"size\":10,\"solidity\":0.2}},\"type\":\"bar\"}],\"barpolar\":[{\"marker\":{\"line\":{\"color\":\"#E5ECF6\",\"width\":0.5},\"pattern\":{\"fillmode\":\"overlay\",\"size\":10,\"solidity\":0.2}},\"type\":\"barpolar\"}],\"carpet\":[{\"aaxis\":{\"endlinecolor\":\"#2a3f5f\",\"gridcolor\":\"white\",\"linecolor\":\"white\",\"minorgridcolor\":\"white\",\"startlinecolor\":\"#2a3f5f\"},\"baxis\":{\"endlinecolor\":\"#2a3f5f\",\"gridcolor\":\"white\",\"linecolor\":\"white\",\"minorgridcolor\":\"white\",\"startlinecolor\":\"#2a3f5f\"},\"type\":\"carpet\"}],\"choropleth\":[{\"colorbar\":{\"outlinewidth\":0,\"ticks\":\"\"},\"type\":\"choropleth\"}],\"contour\":[{\"colorbar\":{\"outlinewidth\":0,\"ticks\":\"\"},\"colorscale\":[[0.0,\"#0d0887\"],[0.1111111111111111,\"#46039f\"],[0.2222222222222222,\"#7201a8\"],[0.3333333333333333,\"#9c179e\"],[0.4444444444444444,\"#bd3786\"],[0.5555555555555556,\"#d8576b\"],[0.6666666666666666,\"#ed7953\"],[0.7777777777777778,\"#fb9f3a\"],[0.8888888888888888,\"#fdca26\"],[1.0,\"#f0f921\"]],\"type\":\"contour\"}],\"contourcarpet\":[{\"colorbar\":{\"outlinewidth\":0,\"ticks\":\"\"},\"type\":\"contourcarpet\"}],\"heatmap\":[{\"colorbar\":{\"outlinewidth\":0,\"ticks\":\"\"},\"colorscale\":[[0.0,\"#0d0887\"],[0.1111111111111111,\"#46039f\"],[0.2222222222222222,\"#7201a8\"],[0.3333333333333333,\"#9c179e\"],[0.4444444444444444,\"#bd3786\"],[0.5555555555555556,\"#d8576b\"],[0.6666666666666666,\"#ed7953\"],[0.7777777777777778,\"#fb9f3a\"],[0.8888888888888888,\"#fdca26\"],[1.0,\"#f0f921\"]],\"type\":\"heatmap\"}],\"heatmapgl\":[{\"colorbar\":{\"outlinewidth\":0,\"ticks\":\"\"},\"colorscale\":[[0.0,\"#0d0887\"],[0.1111111111111111,\"#46039f\"],[0.2222222222222222,\"#7201a8\"],[0.3333333333333333,\"#9c179e\"],[0.4444444444444444,\"#bd3786\"],[0.5555555555555556,\"#d8576b\"],[0.6666666666666666,\"#ed7953\"],[0.7777777777777778,\"#fb9f3a\"],[0.8888888888888888,\"#fdca26\"],[1.0,\"#f0f921\"]],\"type\":\"heatmapgl\"}],\"histogram\":[{\"marker\":{\"pattern\":{\"fillmode\":\"overlay\",\"size\":10,\"solidity\":0.2}},\"type\":\"histogram\"}],\"histogram2d\":[{\"colorbar\":{\"outlinewidth\":0,\"ticks\":\"\"},\"colorscale\":[[0.0,\"#0d0887\"],[0.1111111111111111,\"#46039f\"],[0.2222222222222222,\"#7201a8\"],[0.3333333333333333,\"#9c179e\"],[0.4444444444444444,\"#bd3786\"],[0.5555555555555556,\"#d8576b\"],[0.6666666666666666,\"#ed7953\"],[0.7777777777777778,\"#fb9f3a\"],[0.8888888888888888,\"#fdca26\"],[1.0,\"#f0f921\"]],\"type\":\"histogram2d\"}],\"histogram2dcontour\":[{\"colorbar\":{\"outlinewidth\":0,\"ticks\":\"\"},\"colorscale\":[[0.0,\"#0d0887\"],[0.1111111111111111,\"#46039f\"],[0.2222222222222222,\"#7201a8\"],[0.3333333333333333,\"#9c179e\"],[0.4444444444444444,\"#bd3786\"],[0.5555555555555556,\"#d8576b\"],[0.6666666666666666,\"#ed7953\"],[0.7777777777777778,\"#fb9f3a\"],[0.8888888888888888,\"#fdca26\"],[1.0,\"#f0f921\"]],\"type\":\"histogram2dcontour\"}],\"mesh3d\":[{\"colorbar\":{\"outlinewidth\":0,\"ticks\":\"\"},\"type\":\"mesh3d\"}],\"parcoords\":[{\"line\":{\"colorbar\":{\"outlinewidth\":0,\"ticks\":\"\"}},\"type\":\"parcoords\"}],\"pie\":[{\"automargin\":true,\"type\":\"pie\"}],\"scatter\":[{\"marker\":{\"colorbar\":{\"outlinewidth\":0,\"ticks\":\"\"}},\"type\":\"scatter\"}],\"scatter3d\":[{\"line\":{\"colorbar\":{\"outlinewidth\":0,\"ticks\":\"\"}},\"marker\":{\"colorbar\":{\"outlinewidth\":0,\"ticks\":\"\"}},\"type\":\"scatter3d\"}],\"scattercarpet\":[{\"marker\":{\"colorbar\":{\"outlinewidth\":0,\"ticks\":\"\"}},\"type\":\"scattercarpet\"}],\"scattergeo\":[{\"marker\":{\"colorbar\":{\"outlinewidth\":0,\"ticks\":\"\"}},\"type\":\"scattergeo\"}],\"scattergl\":[{\"marker\":{\"colorbar\":{\"outlinewidth\":0,\"ticks\":\"\"}},\"type\":\"scattergl\"}],\"scattermapbox\":[{\"marker\":{\"colorbar\":{\"outlinewidth\":0,\"ticks\":\"\"}},\"type\":\"scattermapbox\"}],\"scatterpolar\":[{\"marker\":{\"colorbar\":{\"outlinewidth\":0,\"ticks\":\"\"}},\"type\":\"scatterpolar\"}],\"scatterpolargl\":[{\"marker\":{\"colorbar\":{\"outlinewidth\":0,\"ticks\":\"\"}},\"type\":\"scatterpolargl\"}],\"scatterternary\":[{\"marker\":{\"colorbar\":{\"outlinewidth\":0,\"ticks\":\"\"}},\"type\":\"scatterternary\"}],\"surface\":[{\"colorbar\":{\"outlinewidth\":0,\"ticks\":\"\"},\"colorscale\":[[0.0,\"#0d0887\"],[0.1111111111111111,\"#46039f\"],[0.2222222222222222,\"#7201a8\"],[0.3333333333333333,\"#9c179e\"],[0.4444444444444444,\"#bd3786\"],[0.5555555555555556,\"#d8576b\"],[0.6666666666666666,\"#ed7953\"],[0.7777777777777778,\"#fb9f3a\"],[0.8888888888888888,\"#fdca26\"],[1.0,\"#f0f921\"]],\"type\":\"surface\"}],\"table\":[{\"cells\":{\"fill\":{\"color\":\"#EBF0F8\"},\"line\":{\"color\":\"white\"}},\"header\":{\"fill\":{\"color\":\"#C8D4E3\"},\"line\":{\"color\":\"white\"}},\"type\":\"table\"}]},\"layout\":{\"annotationdefaults\":{\"arrowcolor\":\"#2a3f5f\",\"arrowhead\":0,\"arrowwidth\":1},\"autotypenumbers\":\"strict\",\"coloraxis\":{\"colorbar\":{\"outlinewidth\":0,\"ticks\":\"\"}},\"colorscale\":{\"diverging\":[[0,\"#8e0152\"],[0.1,\"#c51b7d\"],[0.2,\"#de77ae\"],[0.3,\"#f1b6da\"],[0.4,\"#fde0ef\"],[0.5,\"#f7f7f7\"],[0.6,\"#e6f5d0\"],[0.7,\"#b8e186\"],[0.8,\"#7fbc41\"],[0.9,\"#4d9221\"],[1,\"#276419\"]],\"sequential\":[[0.0,\"#0d0887\"],[0.1111111111111111,\"#46039f\"],[0.2222222222222222,\"#7201a8\"],[0.3333333333333333,\"#9c179e\"],[0.4444444444444444,\"#bd3786\"],[0.5555555555555556,\"#d8576b\"],[0.6666666666666666,\"#ed7953\"],[0.7777777777777778,\"#fb9f3a\"],[0.8888888888888888,\"#fdca26\"],[1.0,\"#f0f921\"]],\"sequentialminus\":[[0.0,\"#0d0887\"],[0.1111111111111111,\"#46039f\"],[0.2222222222222222,\"#7201a8\"],[0.3333333333333333,\"#9c179e\"],[0.4444444444444444,\"#bd3786\"],[0.5555555555555556,\"#d8576b\"],[0.6666666666666666,\"#ed7953\"],[0.7777777777777778,\"#fb9f3a\"],[0.8888888888888888,\"#fdca26\"],[1.0,\"#f0f921\"]]},\"colorway\":[\"#636efa\",\"#EF553B\",\"#00cc96\",\"#ab63fa\",\"#FFA15A\",\"#19d3f3\",\"#FF6692\",\"#B6E880\",\"#FF97FF\",\"#FECB52\"],\"font\":{\"color\":\"#2a3f5f\"},\"geo\":{\"bgcolor\":\"white\",\"lakecolor\":\"white\",\"landcolor\":\"#E5ECF6\",\"showlakes\":true,\"showland\":true,\"subunitcolor\":\"white\"},\"hoverlabel\":{\"align\":\"left\"},\"hovermode\":\"closest\",\"mapbox\":{\"style\":\"light\"},\"paper_bgcolor\":\"white\",\"plot_bgcolor\":\"#E5ECF6\",\"polar\":{\"angularaxis\":{\"gridcolor\":\"white\",\"linecolor\":\"white\",\"ticks\":\"\"},\"bgcolor\":\"#E5ECF6\",\"radialaxis\":{\"gridcolor\":\"white\",\"linecolor\":\"white\",\"ticks\":\"\"}},\"scene\":{\"xaxis\":{\"backgroundcolor\":\"#E5ECF6\",\"gridcolor\":\"white\",\"gridwidth\":2,\"linecolor\":\"white\",\"showbackground\":true,\"ticks\":\"\",\"zerolinecolor\":\"white\"},\"yaxis\":{\"backgroundcolor\":\"#E5ECF6\",\"gridcolor\":\"white\",\"gridwidth\":2,\"linecolor\":\"white\",\"showbackground\":true,\"ticks\":\"\",\"zerolinecolor\":\"white\"},\"zaxis\":{\"backgroundcolor\":\"#E5ECF6\",\"gridcolor\":\"white\",\"gridwidth\":2,\"linecolor\":\"white\",\"showbackground\":true,\"ticks\":\"\",\"zerolinecolor\":\"white\"}},\"shapedefaults\":{\"line\":{\"color\":\"#2a3f5f\"}},\"ternary\":{\"aaxis\":{\"gridcolor\":\"white\",\"linecolor\":\"white\",\"ticks\":\"\"},\"baxis\":{\"gridcolor\":\"white\",\"linecolor\":\"white\",\"ticks\":\"\"},\"bgcolor\":\"#E5ECF6\",\"caxis\":{\"gridcolor\":\"white\",\"linecolor\":\"white\",\"ticks\":\"\"}},\"title\":{\"x\":0.05},\"xaxis\":{\"automargin\":true,\"gridcolor\":\"white\",\"linecolor\":\"white\",\"ticks\":\"\",\"title\":{\"standoff\":15},\"zerolinecolor\":\"white\",\"zerolinewidth\":2},\"yaxis\":{\"automargin\":true,\"gridcolor\":\"white\",\"linecolor\":\"white\",\"ticks\":\"\",\"title\":{\"standoff\":15},\"zerolinecolor\":\"white\",\"zerolinewidth\":2}}},\"title\":{\"text\":\"\\u0427\\u0438\\u0441\\u043b\\u043e \\u043f\\u043b\\u043e\\u043c\\u0431 \\u043d\\u0430 \\u043f\\u0440\\u0438\\u0435\\u043c\\u0435 \\u0432 2022 \\u0433\\u043e\\u0434\\u0443\"},\"xaxis\":{\"anchor\":\"y\",\"domain\":[0.0,1.0],\"title\":{\"text\":\"\\u0412\\u0440\\u0430\\u0447\"}},\"yaxis\":{\"anchor\":\"x\",\"domain\":[0.0,1.0],\"title\":{\"text\":\"FPV\"}}},                        {\"responsive\": true}                    ).then(function(){\n",
       "                            \n",
       "var gd = document.getElementById('1af4f05f-74e9-4361-ba6c-e025d25a6775');\n",
       "var x = new MutationObserver(function (mutations, observer) {{\n",
       "        var display = window.getComputedStyle(gd).display;\n",
       "        if (!display || display === 'none') {{\n",
       "            console.log([gd, 'removed!']);\n",
       "            Plotly.purge(gd);\n",
       "            observer.disconnect();\n",
       "        }}\n",
       "}});\n",
       "\n",
       "// Listen for the removal of the full notebook cells\n",
       "var notebookContainer = gd.closest('#notebook-container');\n",
       "if (notebookContainer) {{\n",
       "    x.observe(notebookContainer, {childList: true});\n",
       "}}\n",
       "\n",
       "// Listen for the clearing of the current output cell\n",
       "var outputEl = gd.closest('.output');\n",
       "if (outputEl) {{\n",
       "    x.observe(outputEl, {childList: true});\n",
       "}}\n",
       "\n",
       "                        })                };                });            </script>        </div>"
      ]
     },
     "metadata": {},
     "output_type": "display_data"
    }
   ],
   "source": [
    "# Число пломб на приеме по врачу (средний FPV за год)\n",
    "\n",
    "px.bar(df_result.query('(FPV > 0) & (Врач != \"Коваленко Ольга Эдуардовна физио\")').sort_values('FPV', ascending=False), \n",
    "       x='Врач',\n",
    "       y='FPV',\n",
    "       title=f\"Число пломб на приеме в {year} году\")"
   ]
  },
  {
   "cell_type": "code",
   "execution_count": 225,
   "metadata": {},
   "outputs": [],
   "source": [
    "# Сделать grayscale\n",
    "\n",
    "greys = n_colors('rgb(100, 100, 100)', 'rgb(255, 255, 255)', len(df_result_by_month['Месяц'].unique())+1, colortype='rgb')"
   ]
  },
  {
   "cell_type": "code",
   "execution_count": 226,
   "metadata": {
    "scrolled": false
   },
   "outputs": [
    {
     "data": {
      "application/vnd.plotly.v1+json": {
       "config": {
        "plotlyServerURL": "https://plot.ly"
       },
       "data": [
        {
         "alignmentgroup": "True",
         "hovertemplate": "Месяц=0122<br>Врач=%{x}<br>FPV=%{y}<extra></extra>",
         "legendgroup": "0122",
         "marker": {
          "color": "rgb(100.0, 100.0, 100.0)",
          "pattern": {
           "shape": ""
          }
         },
         "name": "0122",
         "offsetgroup": "0122",
         "orientation": "v",
         "showlegend": true,
         "textposition": "auto",
         "type": "bar",
         "x": [
          "Александрова Светлана Викторовна",
          "Власова Альфия Лябибовна",
          "Володин Павел Юрьевич",
          "Гвоздева Татьяна Анатольевна",
          "Горбикова Эльфия Рашитовна",
          "Захаров Иван Владимирович",
          "Камынова Наталия Валериевна",
          "Коваленко Ольга Эдуардовна",
          "Ковшов Александр Александрович",
          "Кукушкина Лариса Рамзановна",
          "Литвинова Нина Алексеевна",
          "Лопаткина Алёна Сергеевна",
          "Максимец Ирина Ивановна",
          "Мкртчян Тарон Арсенович",
          "Морошенкова Гульмира Абылкаковна",
          "Николаева Надежда Григорьевна",
          "Ольховская Альбина Владимировна",
          "Пузанова Лидия Сергеевна",
          "Скалкович Инна Валерьевна",
          "Чижова Елена Владимировна"
         ],
         "xaxis": "x",
         "y": [
          1.050420168067227,
          0.6240601503759399,
          0.6526315789473685,
          1.073394495412844,
          0.7603305785123967,
          0.8596491228070176,
          0.8461538461538461,
          1.5,
          0.8775510204081632,
          0.3333333333333333,
          1.2252252252252251,
          1.025974025974026,
          1.981981981981982,
          0.546875,
          0.8108108108108109,
          0.9456521739130435,
          0.5932203389830508,
          0.7875,
          0.75,
          0.8857142857142857
         ],
         "yaxis": "y"
        },
        {
         "alignmentgroup": "True",
         "hovertemplate": "Месяц=0222<br>Врач=%{x}<br>FPV=%{y}<extra></extra>",
         "legendgroup": "0222",
         "marker": {
          "color": "rgb(131.0, 131.0, 131.0)",
          "pattern": {
           "shape": ""
          }
         },
         "name": "0222",
         "offsetgroup": "0222",
         "orientation": "v",
         "showlegend": true,
         "textposition": "auto",
         "type": "bar",
         "x": [
          "Александрова Светлана Викторовна",
          "Власова Альфия Лябибовна",
          "Володин Павел Юрьевич",
          "Гвоздева Татьяна Анатольевна",
          "Горбикова Эльфия Рашитовна",
          "Захаров Иван Владимирович",
          "Камынова Наталия Валериевна",
          "Коваленко Ольга Эдуардовна",
          "Ковшов Александр Александрович",
          "Кукушкина Лариса Рамзановна",
          "Литвинова Нина Алексеевна",
          "Лопаткина Алёна Сергеевна",
          "Максимец Ирина Ивановна",
          "Мкртчян Тарон Арсенович",
          "Морошенкова Гульмира Абылкаковна",
          "Николаева Надежда Григорьевна",
          "Ольховская Альбина Владимировна",
          "Пузанова Лидия Сергеевна",
          "Скалкович Инна Валерьевна",
          "Чижова Елена Владимировна"
         ],
         "xaxis": "x",
         "y": [
          1.2338709677419355,
          0.7,
          1.5217391304347827,
          1.1744186046511629,
          0.890625,
          0.8135593220338984,
          1.043956043956044,
          1.6097560975609757,
          0.9090909090909091,
          0.39759036144578314,
          1.2540983606557377,
          1.053763440860215,
          1.6643835616438356,
          0.8783783783783784,
          0.8468468468468469,
          1.4026845637583893,
          0.9051094890510949,
          0.832,
          1.56,
          0.8559322033898306
         ],
         "yaxis": "y"
        },
        {
         "alignmentgroup": "True",
         "hovertemplate": "Месяц=0322<br>Врач=%{x}<br>FPV=%{y}<extra></extra>",
         "legendgroup": "0322",
         "marker": {
          "color": "rgb(162.0, 162.0, 162.0)",
          "pattern": {
           "shape": ""
          }
         },
         "name": "0322",
         "offsetgroup": "0322",
         "orientation": "v",
         "showlegend": true,
         "textposition": "auto",
         "type": "bar",
         "x": [
          "Александрова Светлана Викторовна",
          "Власова Альфия Лябибовна",
          "Володин Павел Юрьевич",
          "Гвоздева Татьяна Анатольевна",
          "Горбикова Эльфия Рашитовна",
          "Захаров Иван Владимирович",
          "Камынова Наталия Валериевна",
          "Коваленко Ольга Эдуардовна",
          "Коваленко Ольга Эдуардовна физио",
          "Ковшов Александр Александрович",
          "Кукушкина Лариса Рамзановна",
          "Литвинова Нина Алексеевна",
          "Лопаткина Алёна Сергеевна",
          "Максимец Ирина Ивановна",
          "Мкртчян Тарон Арсенович",
          "Морошенкова Гульмира Абылкаковна",
          "Николаева Надежда Григорьевна",
          "Ольховская Альбина Владимировна",
          "Пузанова Лидия Сергеевна",
          "Скалкович Инна Валерьевна",
          "Чижова Елена Владимировна"
         ],
         "xaxis": "x",
         "y": [
          0.884393063583815,
          0.8071428571428572,
          1.5583333333333333,
          0.934640522875817,
          0.8466666666666667,
          0.740506329113924,
          1.186046511627907,
          1.7444444444444445,
          0.0028169014084507044,
          0.8387096774193549,
          0.39473684210526316,
          1.1812080536912752,
          1.010752688172043,
          1.3571428571428572,
          0.5759493670886076,
          0.9130434782608695,
          1.3738317757009346,
          0.7368421052631579,
          0.576,
          1.1904761904761905,
          0.8661971830985915
         ],
         "yaxis": "y"
        },
        {
         "alignmentgroup": "True",
         "hovertemplate": "Месяц=0422<br>Врач=%{x}<br>FPV=%{y}<extra></extra>",
         "legendgroup": "0422",
         "marker": {
          "color": "rgb(193.0, 193.0, 193.0)",
          "pattern": {
           "shape": ""
          }
         },
         "name": "0422",
         "offsetgroup": "0422",
         "orientation": "v",
         "showlegend": true,
         "textposition": "auto",
         "type": "bar",
         "x": [
          "Александрова Светлана Викторовна",
          "Власова Альфия Лябибовна",
          "Володин Павел Юрьевич",
          "Гвоздева Татьяна Анатольевна",
          "Горбикова Эльфия Рашитовна",
          "Захаров Иван Владимирович",
          "Камынова Наталия Валериевна",
          "Коваленко Ольга Эдуардовна",
          "Ковшов Александр Александрович",
          "Кукушкина Лариса Рамзановна",
          "Литвинова Нина Алексеевна",
          "Лопаткина Алёна Сергеевна",
          "Максимец Ирина Ивановна",
          "Мкртчян Тарон Арсенович",
          "Морошенкова Гульмира Абылкаковна",
          "Николаева Надежда Григорьевна",
          "Ольховская Альбина Владимировна",
          "Пузанова Лидия Сергеевна",
          "Скалкович Инна Валерьевна",
          "Чижова Елена Владимировна"
         ],
         "xaxis": "x",
         "y": [
          0.9302325581395349,
          0.6852791878172588,
          1.3866666666666667,
          0.8433734939759037,
          0.7307692307692307,
          0.6838709677419355,
          0.9791666666666666,
          1.316831683168317,
          0.8571428571428571,
          0.70625,
          0.9861111111111112,
          0.9867549668874173,
          1.2826086956521738,
          0.4585987261146497,
          0.7784431137724551,
          1.3244444444444445,
          0.6206896551724138,
          0.5354330708661418,
          1.75,
          0.8285714285714286
         ],
         "yaxis": "y"
        },
        {
         "alignmentgroup": "True",
         "hovertemplate": "Месяц=0522<br>Врач=%{x}<br>FPV=%{y}<extra></extra>",
         "legendgroup": "0522",
         "marker": {
          "color": "rgb(224.0, 224.0, 224.0)",
          "pattern": {
           "shape": ""
          }
         },
         "name": "0522",
         "offsetgroup": "0522",
         "orientation": "v",
         "showlegend": true,
         "textposition": "auto",
         "type": "bar",
         "x": [
          "Александрова Светлана Викторовна",
          "Власова Альфия Лябибовна",
          "Володин Павел Юрьевич",
          "Горбикова Эльфия Рашитовна",
          "Захаров Иван Владимирович",
          "Камынова Наталия Валериевна",
          "Коваленко Ольга Эдуардовна",
          "Ковшов Александр Александрович",
          "Кукушкина Лариса Рамзановна",
          "Литвинова Нина Алексеевна",
          "Лопаткина Алёна Сергеевна",
          "Максимец Ирина Ивановна",
          "Мкртчян Тарон Арсенович",
          "Морошенкова Гульмира Абылкаковна",
          "Николаева Надежда Григорьевна",
          "Ольховская Альбина Владимировна",
          "Пузанова Лидия Сергеевна",
          "Скалкович Инна Валерьевна",
          "Чижова Елена Владимировна"
         ],
         "xaxis": "x",
         "y": [
          0.9516129032258065,
          1.2,
          2.1363636363636362,
          0.7222222222222222,
          1.069767441860465,
          1.2093023255813953,
          0.9444444444444444,
          0.75,
          0.5737704918032787,
          1.2972972972972974,
          1.0555555555555556,
          1.08,
          0.43859649122807015,
          0.6086956521739131,
          1.1720430107526882,
          0.43137254901960786,
          0.6111111111111112,
          1.3333333333333333,
          0.7407407407407407
         ],
         "yaxis": "y"
        }
       ],
       "layout": {
        "barmode": "group",
        "legend": {
         "title": {
          "text": "Месяц"
         },
         "tracegroupgap": 0
        },
        "plot_bgcolor": "rgb(255,255,255)",
        "template": {
         "data": {
          "bar": [
           {
            "error_x": {
             "color": "#2a3f5f"
            },
            "error_y": {
             "color": "#2a3f5f"
            },
            "marker": {
             "line": {
              "color": "#E5ECF6",
              "width": 0.5
             },
             "pattern": {
              "fillmode": "overlay",
              "size": 10,
              "solidity": 0.2
             }
            },
            "type": "bar"
           }
          ],
          "barpolar": [
           {
            "marker": {
             "line": {
              "color": "#E5ECF6",
              "width": 0.5
             },
             "pattern": {
              "fillmode": "overlay",
              "size": 10,
              "solidity": 0.2
             }
            },
            "type": "barpolar"
           }
          ],
          "carpet": [
           {
            "aaxis": {
             "endlinecolor": "#2a3f5f",
             "gridcolor": "white",
             "linecolor": "white",
             "minorgridcolor": "white",
             "startlinecolor": "#2a3f5f"
            },
            "baxis": {
             "endlinecolor": "#2a3f5f",
             "gridcolor": "white",
             "linecolor": "white",
             "minorgridcolor": "white",
             "startlinecolor": "#2a3f5f"
            },
            "type": "carpet"
           }
          ],
          "choropleth": [
           {
            "colorbar": {
             "outlinewidth": 0,
             "ticks": ""
            },
            "type": "choropleth"
           }
          ],
          "contour": [
           {
            "colorbar": {
             "outlinewidth": 0,
             "ticks": ""
            },
            "colorscale": [
             [
              0,
              "#0d0887"
             ],
             [
              0.1111111111111111,
              "#46039f"
             ],
             [
              0.2222222222222222,
              "#7201a8"
             ],
             [
              0.3333333333333333,
              "#9c179e"
             ],
             [
              0.4444444444444444,
              "#bd3786"
             ],
             [
              0.5555555555555556,
              "#d8576b"
             ],
             [
              0.6666666666666666,
              "#ed7953"
             ],
             [
              0.7777777777777778,
              "#fb9f3a"
             ],
             [
              0.8888888888888888,
              "#fdca26"
             ],
             [
              1,
              "#f0f921"
             ]
            ],
            "type": "contour"
           }
          ],
          "contourcarpet": [
           {
            "colorbar": {
             "outlinewidth": 0,
             "ticks": ""
            },
            "type": "contourcarpet"
           }
          ],
          "heatmap": [
           {
            "colorbar": {
             "outlinewidth": 0,
             "ticks": ""
            },
            "colorscale": [
             [
              0,
              "#0d0887"
             ],
             [
              0.1111111111111111,
              "#46039f"
             ],
             [
              0.2222222222222222,
              "#7201a8"
             ],
             [
              0.3333333333333333,
              "#9c179e"
             ],
             [
              0.4444444444444444,
              "#bd3786"
             ],
             [
              0.5555555555555556,
              "#d8576b"
             ],
             [
              0.6666666666666666,
              "#ed7953"
             ],
             [
              0.7777777777777778,
              "#fb9f3a"
             ],
             [
              0.8888888888888888,
              "#fdca26"
             ],
             [
              1,
              "#f0f921"
             ]
            ],
            "type": "heatmap"
           }
          ],
          "heatmapgl": [
           {
            "colorbar": {
             "outlinewidth": 0,
             "ticks": ""
            },
            "colorscale": [
             [
              0,
              "#0d0887"
             ],
             [
              0.1111111111111111,
              "#46039f"
             ],
             [
              0.2222222222222222,
              "#7201a8"
             ],
             [
              0.3333333333333333,
              "#9c179e"
             ],
             [
              0.4444444444444444,
              "#bd3786"
             ],
             [
              0.5555555555555556,
              "#d8576b"
             ],
             [
              0.6666666666666666,
              "#ed7953"
             ],
             [
              0.7777777777777778,
              "#fb9f3a"
             ],
             [
              0.8888888888888888,
              "#fdca26"
             ],
             [
              1,
              "#f0f921"
             ]
            ],
            "type": "heatmapgl"
           }
          ],
          "histogram": [
           {
            "marker": {
             "pattern": {
              "fillmode": "overlay",
              "size": 10,
              "solidity": 0.2
             }
            },
            "type": "histogram"
           }
          ],
          "histogram2d": [
           {
            "colorbar": {
             "outlinewidth": 0,
             "ticks": ""
            },
            "colorscale": [
             [
              0,
              "#0d0887"
             ],
             [
              0.1111111111111111,
              "#46039f"
             ],
             [
              0.2222222222222222,
              "#7201a8"
             ],
             [
              0.3333333333333333,
              "#9c179e"
             ],
             [
              0.4444444444444444,
              "#bd3786"
             ],
             [
              0.5555555555555556,
              "#d8576b"
             ],
             [
              0.6666666666666666,
              "#ed7953"
             ],
             [
              0.7777777777777778,
              "#fb9f3a"
             ],
             [
              0.8888888888888888,
              "#fdca26"
             ],
             [
              1,
              "#f0f921"
             ]
            ],
            "type": "histogram2d"
           }
          ],
          "histogram2dcontour": [
           {
            "colorbar": {
             "outlinewidth": 0,
             "ticks": ""
            },
            "colorscale": [
             [
              0,
              "#0d0887"
             ],
             [
              0.1111111111111111,
              "#46039f"
             ],
             [
              0.2222222222222222,
              "#7201a8"
             ],
             [
              0.3333333333333333,
              "#9c179e"
             ],
             [
              0.4444444444444444,
              "#bd3786"
             ],
             [
              0.5555555555555556,
              "#d8576b"
             ],
             [
              0.6666666666666666,
              "#ed7953"
             ],
             [
              0.7777777777777778,
              "#fb9f3a"
             ],
             [
              0.8888888888888888,
              "#fdca26"
             ],
             [
              1,
              "#f0f921"
             ]
            ],
            "type": "histogram2dcontour"
           }
          ],
          "mesh3d": [
           {
            "colorbar": {
             "outlinewidth": 0,
             "ticks": ""
            },
            "type": "mesh3d"
           }
          ],
          "parcoords": [
           {
            "line": {
             "colorbar": {
              "outlinewidth": 0,
              "ticks": ""
             }
            },
            "type": "parcoords"
           }
          ],
          "pie": [
           {
            "automargin": true,
            "type": "pie"
           }
          ],
          "scatter": [
           {
            "marker": {
             "colorbar": {
              "outlinewidth": 0,
              "ticks": ""
             }
            },
            "type": "scatter"
           }
          ],
          "scatter3d": [
           {
            "line": {
             "colorbar": {
              "outlinewidth": 0,
              "ticks": ""
             }
            },
            "marker": {
             "colorbar": {
              "outlinewidth": 0,
              "ticks": ""
             }
            },
            "type": "scatter3d"
           }
          ],
          "scattercarpet": [
           {
            "marker": {
             "colorbar": {
              "outlinewidth": 0,
              "ticks": ""
             }
            },
            "type": "scattercarpet"
           }
          ],
          "scattergeo": [
           {
            "marker": {
             "colorbar": {
              "outlinewidth": 0,
              "ticks": ""
             }
            },
            "type": "scattergeo"
           }
          ],
          "scattergl": [
           {
            "marker": {
             "colorbar": {
              "outlinewidth": 0,
              "ticks": ""
             }
            },
            "type": "scattergl"
           }
          ],
          "scattermapbox": [
           {
            "marker": {
             "colorbar": {
              "outlinewidth": 0,
              "ticks": ""
             }
            },
            "type": "scattermapbox"
           }
          ],
          "scatterpolar": [
           {
            "marker": {
             "colorbar": {
              "outlinewidth": 0,
              "ticks": ""
             }
            },
            "type": "scatterpolar"
           }
          ],
          "scatterpolargl": [
           {
            "marker": {
             "colorbar": {
              "outlinewidth": 0,
              "ticks": ""
             }
            },
            "type": "scatterpolargl"
           }
          ],
          "scatterternary": [
           {
            "marker": {
             "colorbar": {
              "outlinewidth": 0,
              "ticks": ""
             }
            },
            "type": "scatterternary"
           }
          ],
          "surface": [
           {
            "colorbar": {
             "outlinewidth": 0,
             "ticks": ""
            },
            "colorscale": [
             [
              0,
              "#0d0887"
             ],
             [
              0.1111111111111111,
              "#46039f"
             ],
             [
              0.2222222222222222,
              "#7201a8"
             ],
             [
              0.3333333333333333,
              "#9c179e"
             ],
             [
              0.4444444444444444,
              "#bd3786"
             ],
             [
              0.5555555555555556,
              "#d8576b"
             ],
             [
              0.6666666666666666,
              "#ed7953"
             ],
             [
              0.7777777777777778,
              "#fb9f3a"
             ],
             [
              0.8888888888888888,
              "#fdca26"
             ],
             [
              1,
              "#f0f921"
             ]
            ],
            "type": "surface"
           }
          ],
          "table": [
           {
            "cells": {
             "fill": {
              "color": "#EBF0F8"
             },
             "line": {
              "color": "white"
             }
            },
            "header": {
             "fill": {
              "color": "#C8D4E3"
             },
             "line": {
              "color": "white"
             }
            },
            "type": "table"
           }
          ]
         },
         "layout": {
          "annotationdefaults": {
           "arrowcolor": "#2a3f5f",
           "arrowhead": 0,
           "arrowwidth": 1
          },
          "autotypenumbers": "strict",
          "coloraxis": {
           "colorbar": {
            "outlinewidth": 0,
            "ticks": ""
           }
          },
          "colorscale": {
           "diverging": [
            [
             0,
             "#8e0152"
            ],
            [
             0.1,
             "#c51b7d"
            ],
            [
             0.2,
             "#de77ae"
            ],
            [
             0.3,
             "#f1b6da"
            ],
            [
             0.4,
             "#fde0ef"
            ],
            [
             0.5,
             "#f7f7f7"
            ],
            [
             0.6,
             "#e6f5d0"
            ],
            [
             0.7,
             "#b8e186"
            ],
            [
             0.8,
             "#7fbc41"
            ],
            [
             0.9,
             "#4d9221"
            ],
            [
             1,
             "#276419"
            ]
           ],
           "sequential": [
            [
             0,
             "#0d0887"
            ],
            [
             0.1111111111111111,
             "#46039f"
            ],
            [
             0.2222222222222222,
             "#7201a8"
            ],
            [
             0.3333333333333333,
             "#9c179e"
            ],
            [
             0.4444444444444444,
             "#bd3786"
            ],
            [
             0.5555555555555556,
             "#d8576b"
            ],
            [
             0.6666666666666666,
             "#ed7953"
            ],
            [
             0.7777777777777778,
             "#fb9f3a"
            ],
            [
             0.8888888888888888,
             "#fdca26"
            ],
            [
             1,
             "#f0f921"
            ]
           ],
           "sequentialminus": [
            [
             0,
             "#0d0887"
            ],
            [
             0.1111111111111111,
             "#46039f"
            ],
            [
             0.2222222222222222,
             "#7201a8"
            ],
            [
             0.3333333333333333,
             "#9c179e"
            ],
            [
             0.4444444444444444,
             "#bd3786"
            ],
            [
             0.5555555555555556,
             "#d8576b"
            ],
            [
             0.6666666666666666,
             "#ed7953"
            ],
            [
             0.7777777777777778,
             "#fb9f3a"
            ],
            [
             0.8888888888888888,
             "#fdca26"
            ],
            [
             1,
             "#f0f921"
            ]
           ]
          },
          "colorway": [
           "#636efa",
           "#EF553B",
           "#00cc96",
           "#ab63fa",
           "#FFA15A",
           "#19d3f3",
           "#FF6692",
           "#B6E880",
           "#FF97FF",
           "#FECB52"
          ],
          "font": {
           "color": "#2a3f5f"
          },
          "geo": {
           "bgcolor": "white",
           "lakecolor": "white",
           "landcolor": "#E5ECF6",
           "showlakes": true,
           "showland": true,
           "subunitcolor": "white"
          },
          "hoverlabel": {
           "align": "left"
          },
          "hovermode": "closest",
          "mapbox": {
           "style": "light"
          },
          "paper_bgcolor": "white",
          "plot_bgcolor": "#E5ECF6",
          "polar": {
           "angularaxis": {
            "gridcolor": "white",
            "linecolor": "white",
            "ticks": ""
           },
           "bgcolor": "#E5ECF6",
           "radialaxis": {
            "gridcolor": "white",
            "linecolor": "white",
            "ticks": ""
           }
          },
          "scene": {
           "xaxis": {
            "backgroundcolor": "#E5ECF6",
            "gridcolor": "white",
            "gridwidth": 2,
            "linecolor": "white",
            "showbackground": true,
            "ticks": "",
            "zerolinecolor": "white"
           },
           "yaxis": {
            "backgroundcolor": "#E5ECF6",
            "gridcolor": "white",
            "gridwidth": 2,
            "linecolor": "white",
            "showbackground": true,
            "ticks": "",
            "zerolinecolor": "white"
           },
           "zaxis": {
            "backgroundcolor": "#E5ECF6",
            "gridcolor": "white",
            "gridwidth": 2,
            "linecolor": "white",
            "showbackground": true,
            "ticks": "",
            "zerolinecolor": "white"
           }
          },
          "shapedefaults": {
           "line": {
            "color": "#2a3f5f"
           }
          },
          "ternary": {
           "aaxis": {
            "gridcolor": "white",
            "linecolor": "white",
            "ticks": ""
           },
           "baxis": {
            "gridcolor": "white",
            "linecolor": "white",
            "ticks": ""
           },
           "bgcolor": "#E5ECF6",
           "caxis": {
            "gridcolor": "white",
            "linecolor": "white",
            "ticks": ""
           }
          },
          "title": {
           "x": 0.05
          },
          "xaxis": {
           "automargin": true,
           "gridcolor": "white",
           "linecolor": "white",
           "ticks": "",
           "title": {
            "standoff": 15
           },
           "zerolinecolor": "white",
           "zerolinewidth": 2
          },
          "yaxis": {
           "automargin": true,
           "gridcolor": "white",
           "linecolor": "white",
           "ticks": "",
           "title": {
            "standoff": 15
           },
           "zerolinecolor": "white",
           "zerolinewidth": 2
          }
         }
        },
        "title": {
         "text": "Число пломб на приеме в 2022 году"
        },
        "xaxis": {
         "anchor": "y",
         "categoryorder": "total descending",
         "domain": [
          0,
          1
         ],
         "title": {
          "text": "Врач"
         }
        },
        "yaxis": {
         "anchor": "x",
         "domain": [
          0,
          1
         ],
         "gridcolor": "grey",
         "title": {
          "text": "FPV"
         }
        }
       }
      },
      "text/html": [
       "<div>                            <div id=\"1698ea27-2ae9-4db7-8c13-c026ae872ef3\" class=\"plotly-graph-div\" style=\"height:525px; width:100%;\"></div>            <script type=\"text/javascript\">                require([\"plotly\"], function(Plotly) {                    window.PLOTLYENV=window.PLOTLYENV || {};                                    if (document.getElementById(\"1698ea27-2ae9-4db7-8c13-c026ae872ef3\")) {                    Plotly.newPlot(                        \"1698ea27-2ae9-4db7-8c13-c026ae872ef3\",                        [{\"alignmentgroup\":\"True\",\"hovertemplate\":\"\\u041c\\u0435\\u0441\\u044f\\u0446=0122<br>\\u0412\\u0440\\u0430\\u0447=%{x}<br>FPV=%{y}<extra></extra>\",\"legendgroup\":\"0122\",\"marker\":{\"color\":\"rgb(100.0, 100.0, 100.0)\",\"pattern\":{\"shape\":\"\"}},\"name\":\"0122\",\"offsetgroup\":\"0122\",\"orientation\":\"v\",\"showlegend\":true,\"textposition\":\"auto\",\"type\":\"bar\",\"x\":[\"\\u0410\\u043b\\u0435\\u043a\\u0441\\u0430\\u043d\\u0434\\u0440\\u043e\\u0432\\u0430 \\u0421\\u0432\\u0435\\u0442\\u043b\\u0430\\u043d\\u0430 \\u0412\\u0438\\u043a\\u0442\\u043e\\u0440\\u043e\\u0432\\u043d\\u0430\",\"\\u0412\\u043b\\u0430\\u0441\\u043e\\u0432\\u0430 \\u0410\\u043b\\u044c\\u0444\\u0438\\u044f \\u041b\\u044f\\u0431\\u0438\\u0431\\u043e\\u0432\\u043d\\u0430\",\"\\u0412\\u043e\\u043b\\u043e\\u0434\\u0438\\u043d \\u041f\\u0430\\u0432\\u0435\\u043b \\u042e\\u0440\\u044c\\u0435\\u0432\\u0438\\u0447\",\"\\u0413\\u0432\\u043e\\u0437\\u0434\\u0435\\u0432\\u0430 \\u0422\\u0430\\u0442\\u044c\\u044f\\u043d\\u0430 \\u0410\\u043d\\u0430\\u0442\\u043e\\u043b\\u044c\\u0435\\u0432\\u043d\\u0430\",\"\\u0413\\u043e\\u0440\\u0431\\u0438\\u043a\\u043e\\u0432\\u0430 \\u042d\\u043b\\u044c\\u0444\\u0438\\u044f \\u0420\\u0430\\u0448\\u0438\\u0442\\u043e\\u0432\\u043d\\u0430\",\"\\u0417\\u0430\\u0445\\u0430\\u0440\\u043e\\u0432 \\u0418\\u0432\\u0430\\u043d \\u0412\\u043b\\u0430\\u0434\\u0438\\u043c\\u0438\\u0440\\u043e\\u0432\\u0438\\u0447\",\"\\u041a\\u0430\\u043c\\u044b\\u043d\\u043e\\u0432\\u0430 \\u041d\\u0430\\u0442\\u0430\\u043b\\u0438\\u044f \\u0412\\u0430\\u043b\\u0435\\u0440\\u0438\\u0435\\u0432\\u043d\\u0430\",\"\\u041a\\u043e\\u0432\\u0430\\u043b\\u0435\\u043d\\u043a\\u043e \\u041e\\u043b\\u044c\\u0433\\u0430 \\u042d\\u0434\\u0443\\u0430\\u0440\\u0434\\u043e\\u0432\\u043d\\u0430\",\"\\u041a\\u043e\\u0432\\u0448\\u043e\\u0432 \\u0410\\u043b\\u0435\\u043a\\u0441\\u0430\\u043d\\u0434\\u0440 \\u0410\\u043b\\u0435\\u043a\\u0441\\u0430\\u043d\\u0434\\u0440\\u043e\\u0432\\u0438\\u0447\",\"\\u041a\\u0443\\u043a\\u0443\\u0448\\u043a\\u0438\\u043d\\u0430 \\u041b\\u0430\\u0440\\u0438\\u0441\\u0430 \\u0420\\u0430\\u043c\\u0437\\u0430\\u043d\\u043e\\u0432\\u043d\\u0430\",\"\\u041b\\u0438\\u0442\\u0432\\u0438\\u043d\\u043e\\u0432\\u0430 \\u041d\\u0438\\u043d\\u0430 \\u0410\\u043b\\u0435\\u043a\\u0441\\u0435\\u0435\\u0432\\u043d\\u0430\",\"\\u041b\\u043e\\u043f\\u0430\\u0442\\u043a\\u0438\\u043d\\u0430 \\u0410\\u043b\\u0451\\u043d\\u0430 \\u0421\\u0435\\u0440\\u0433\\u0435\\u0435\\u0432\\u043d\\u0430\",\"\\u041c\\u0430\\u043a\\u0441\\u0438\\u043c\\u0435\\u0446 \\u0418\\u0440\\u0438\\u043d\\u0430 \\u0418\\u0432\\u0430\\u043d\\u043e\\u0432\\u043d\\u0430\",\"\\u041c\\u043a\\u0440\\u0442\\u0447\\u044f\\u043d \\u0422\\u0430\\u0440\\u043e\\u043d \\u0410\\u0440\\u0441\\u0435\\u043d\\u043e\\u0432\\u0438\\u0447\",\"\\u041c\\u043e\\u0440\\u043e\\u0448\\u0435\\u043d\\u043a\\u043e\\u0432\\u0430 \\u0413\\u0443\\u043b\\u044c\\u043c\\u0438\\u0440\\u0430 \\u0410\\u0431\\u044b\\u043b\\u043a\\u0430\\u043a\\u043e\\u0432\\u043d\\u0430\",\"\\u041d\\u0438\\u043a\\u043e\\u043b\\u0430\\u0435\\u0432\\u0430 \\u041d\\u0430\\u0434\\u0435\\u0436\\u0434\\u0430 \\u0413\\u0440\\u0438\\u0433\\u043e\\u0440\\u044c\\u0435\\u0432\\u043d\\u0430\",\"\\u041e\\u043b\\u044c\\u0445\\u043e\\u0432\\u0441\\u043a\\u0430\\u044f \\u0410\\u043b\\u044c\\u0431\\u0438\\u043d\\u0430 \\u0412\\u043b\\u0430\\u0434\\u0438\\u043c\\u0438\\u0440\\u043e\\u0432\\u043d\\u0430\",\"\\u041f\\u0443\\u0437\\u0430\\u043d\\u043e\\u0432\\u0430 \\u041b\\u0438\\u0434\\u0438\\u044f \\u0421\\u0435\\u0440\\u0433\\u0435\\u0435\\u0432\\u043d\\u0430\",\"\\u0421\\u043a\\u0430\\u043b\\u043a\\u043e\\u0432\\u0438\\u0447 \\u0418\\u043d\\u043d\\u0430 \\u0412\\u0430\\u043b\\u0435\\u0440\\u044c\\u0435\\u0432\\u043d\\u0430\",\"\\u0427\\u0438\\u0436\\u043e\\u0432\\u0430 \\u0415\\u043b\\u0435\\u043d\\u0430 \\u0412\\u043b\\u0430\\u0434\\u0438\\u043c\\u0438\\u0440\\u043e\\u0432\\u043d\\u0430\"],\"xaxis\":\"x\",\"y\":[1.050420168067227,0.6240601503759399,0.6526315789473685,1.073394495412844,0.7603305785123967,0.8596491228070176,0.8461538461538461,1.5,0.8775510204081632,0.3333333333333333,1.2252252252252251,1.025974025974026,1.981981981981982,0.546875,0.8108108108108109,0.9456521739130435,0.5932203389830508,0.7875,0.75,0.8857142857142857],\"yaxis\":\"y\"},{\"alignmentgroup\":\"True\",\"hovertemplate\":\"\\u041c\\u0435\\u0441\\u044f\\u0446=0222<br>\\u0412\\u0440\\u0430\\u0447=%{x}<br>FPV=%{y}<extra></extra>\",\"legendgroup\":\"0222\",\"marker\":{\"color\":\"rgb(131.0, 131.0, 131.0)\",\"pattern\":{\"shape\":\"\"}},\"name\":\"0222\",\"offsetgroup\":\"0222\",\"orientation\":\"v\",\"showlegend\":true,\"textposition\":\"auto\",\"type\":\"bar\",\"x\":[\"\\u0410\\u043b\\u0435\\u043a\\u0441\\u0430\\u043d\\u0434\\u0440\\u043e\\u0432\\u0430 \\u0421\\u0432\\u0435\\u0442\\u043b\\u0430\\u043d\\u0430 \\u0412\\u0438\\u043a\\u0442\\u043e\\u0440\\u043e\\u0432\\u043d\\u0430\",\"\\u0412\\u043b\\u0430\\u0441\\u043e\\u0432\\u0430 \\u0410\\u043b\\u044c\\u0444\\u0438\\u044f \\u041b\\u044f\\u0431\\u0438\\u0431\\u043e\\u0432\\u043d\\u0430\",\"\\u0412\\u043e\\u043b\\u043e\\u0434\\u0438\\u043d \\u041f\\u0430\\u0432\\u0435\\u043b \\u042e\\u0440\\u044c\\u0435\\u0432\\u0438\\u0447\",\"\\u0413\\u0432\\u043e\\u0437\\u0434\\u0435\\u0432\\u0430 \\u0422\\u0430\\u0442\\u044c\\u044f\\u043d\\u0430 \\u0410\\u043d\\u0430\\u0442\\u043e\\u043b\\u044c\\u0435\\u0432\\u043d\\u0430\",\"\\u0413\\u043e\\u0440\\u0431\\u0438\\u043a\\u043e\\u0432\\u0430 \\u042d\\u043b\\u044c\\u0444\\u0438\\u044f \\u0420\\u0430\\u0448\\u0438\\u0442\\u043e\\u0432\\u043d\\u0430\",\"\\u0417\\u0430\\u0445\\u0430\\u0440\\u043e\\u0432 \\u0418\\u0432\\u0430\\u043d \\u0412\\u043b\\u0430\\u0434\\u0438\\u043c\\u0438\\u0440\\u043e\\u0432\\u0438\\u0447\",\"\\u041a\\u0430\\u043c\\u044b\\u043d\\u043e\\u0432\\u0430 \\u041d\\u0430\\u0442\\u0430\\u043b\\u0438\\u044f \\u0412\\u0430\\u043b\\u0435\\u0440\\u0438\\u0435\\u0432\\u043d\\u0430\",\"\\u041a\\u043e\\u0432\\u0430\\u043b\\u0435\\u043d\\u043a\\u043e \\u041e\\u043b\\u044c\\u0433\\u0430 \\u042d\\u0434\\u0443\\u0430\\u0440\\u0434\\u043e\\u0432\\u043d\\u0430\",\"\\u041a\\u043e\\u0432\\u0448\\u043e\\u0432 \\u0410\\u043b\\u0435\\u043a\\u0441\\u0430\\u043d\\u0434\\u0440 \\u0410\\u043b\\u0435\\u043a\\u0441\\u0430\\u043d\\u0434\\u0440\\u043e\\u0432\\u0438\\u0447\",\"\\u041a\\u0443\\u043a\\u0443\\u0448\\u043a\\u0438\\u043d\\u0430 \\u041b\\u0430\\u0440\\u0438\\u0441\\u0430 \\u0420\\u0430\\u043c\\u0437\\u0430\\u043d\\u043e\\u0432\\u043d\\u0430\",\"\\u041b\\u0438\\u0442\\u0432\\u0438\\u043d\\u043e\\u0432\\u0430 \\u041d\\u0438\\u043d\\u0430 \\u0410\\u043b\\u0435\\u043a\\u0441\\u0435\\u0435\\u0432\\u043d\\u0430\",\"\\u041b\\u043e\\u043f\\u0430\\u0442\\u043a\\u0438\\u043d\\u0430 \\u0410\\u043b\\u0451\\u043d\\u0430 \\u0421\\u0435\\u0440\\u0433\\u0435\\u0435\\u0432\\u043d\\u0430\",\"\\u041c\\u0430\\u043a\\u0441\\u0438\\u043c\\u0435\\u0446 \\u0418\\u0440\\u0438\\u043d\\u0430 \\u0418\\u0432\\u0430\\u043d\\u043e\\u0432\\u043d\\u0430\",\"\\u041c\\u043a\\u0440\\u0442\\u0447\\u044f\\u043d \\u0422\\u0430\\u0440\\u043e\\u043d \\u0410\\u0440\\u0441\\u0435\\u043d\\u043e\\u0432\\u0438\\u0447\",\"\\u041c\\u043e\\u0440\\u043e\\u0448\\u0435\\u043d\\u043a\\u043e\\u0432\\u0430 \\u0413\\u0443\\u043b\\u044c\\u043c\\u0438\\u0440\\u0430 \\u0410\\u0431\\u044b\\u043b\\u043a\\u0430\\u043a\\u043e\\u0432\\u043d\\u0430\",\"\\u041d\\u0438\\u043a\\u043e\\u043b\\u0430\\u0435\\u0432\\u0430 \\u041d\\u0430\\u0434\\u0435\\u0436\\u0434\\u0430 \\u0413\\u0440\\u0438\\u0433\\u043e\\u0440\\u044c\\u0435\\u0432\\u043d\\u0430\",\"\\u041e\\u043b\\u044c\\u0445\\u043e\\u0432\\u0441\\u043a\\u0430\\u044f \\u0410\\u043b\\u044c\\u0431\\u0438\\u043d\\u0430 \\u0412\\u043b\\u0430\\u0434\\u0438\\u043c\\u0438\\u0440\\u043e\\u0432\\u043d\\u0430\",\"\\u041f\\u0443\\u0437\\u0430\\u043d\\u043e\\u0432\\u0430 \\u041b\\u0438\\u0434\\u0438\\u044f \\u0421\\u0435\\u0440\\u0433\\u0435\\u0435\\u0432\\u043d\\u0430\",\"\\u0421\\u043a\\u0430\\u043b\\u043a\\u043e\\u0432\\u0438\\u0447 \\u0418\\u043d\\u043d\\u0430 \\u0412\\u0430\\u043b\\u0435\\u0440\\u044c\\u0435\\u0432\\u043d\\u0430\",\"\\u0427\\u0438\\u0436\\u043e\\u0432\\u0430 \\u0415\\u043b\\u0435\\u043d\\u0430 \\u0412\\u043b\\u0430\\u0434\\u0438\\u043c\\u0438\\u0440\\u043e\\u0432\\u043d\\u0430\"],\"xaxis\":\"x\",\"y\":[1.2338709677419355,0.7,1.5217391304347827,1.1744186046511629,0.890625,0.8135593220338984,1.043956043956044,1.6097560975609757,0.9090909090909091,0.39759036144578314,1.2540983606557377,1.053763440860215,1.6643835616438356,0.8783783783783784,0.8468468468468469,1.4026845637583893,0.9051094890510949,0.832,1.56,0.8559322033898306],\"yaxis\":\"y\"},{\"alignmentgroup\":\"True\",\"hovertemplate\":\"\\u041c\\u0435\\u0441\\u044f\\u0446=0322<br>\\u0412\\u0440\\u0430\\u0447=%{x}<br>FPV=%{y}<extra></extra>\",\"legendgroup\":\"0322\",\"marker\":{\"color\":\"rgb(162.0, 162.0, 162.0)\",\"pattern\":{\"shape\":\"\"}},\"name\":\"0322\",\"offsetgroup\":\"0322\",\"orientation\":\"v\",\"showlegend\":true,\"textposition\":\"auto\",\"type\":\"bar\",\"x\":[\"\\u0410\\u043b\\u0435\\u043a\\u0441\\u0430\\u043d\\u0434\\u0440\\u043e\\u0432\\u0430 \\u0421\\u0432\\u0435\\u0442\\u043b\\u0430\\u043d\\u0430 \\u0412\\u0438\\u043a\\u0442\\u043e\\u0440\\u043e\\u0432\\u043d\\u0430\",\"\\u0412\\u043b\\u0430\\u0441\\u043e\\u0432\\u0430 \\u0410\\u043b\\u044c\\u0444\\u0438\\u044f \\u041b\\u044f\\u0431\\u0438\\u0431\\u043e\\u0432\\u043d\\u0430\",\"\\u0412\\u043e\\u043b\\u043e\\u0434\\u0438\\u043d \\u041f\\u0430\\u0432\\u0435\\u043b \\u042e\\u0440\\u044c\\u0435\\u0432\\u0438\\u0447\",\"\\u0413\\u0432\\u043e\\u0437\\u0434\\u0435\\u0432\\u0430 \\u0422\\u0430\\u0442\\u044c\\u044f\\u043d\\u0430 \\u0410\\u043d\\u0430\\u0442\\u043e\\u043b\\u044c\\u0435\\u0432\\u043d\\u0430\",\"\\u0413\\u043e\\u0440\\u0431\\u0438\\u043a\\u043e\\u0432\\u0430 \\u042d\\u043b\\u044c\\u0444\\u0438\\u044f \\u0420\\u0430\\u0448\\u0438\\u0442\\u043e\\u0432\\u043d\\u0430\",\"\\u0417\\u0430\\u0445\\u0430\\u0440\\u043e\\u0432 \\u0418\\u0432\\u0430\\u043d \\u0412\\u043b\\u0430\\u0434\\u0438\\u043c\\u0438\\u0440\\u043e\\u0432\\u0438\\u0447\",\"\\u041a\\u0430\\u043c\\u044b\\u043d\\u043e\\u0432\\u0430 \\u041d\\u0430\\u0442\\u0430\\u043b\\u0438\\u044f \\u0412\\u0430\\u043b\\u0435\\u0440\\u0438\\u0435\\u0432\\u043d\\u0430\",\"\\u041a\\u043e\\u0432\\u0430\\u043b\\u0435\\u043d\\u043a\\u043e \\u041e\\u043b\\u044c\\u0433\\u0430 \\u042d\\u0434\\u0443\\u0430\\u0440\\u0434\\u043e\\u0432\\u043d\\u0430\",\"\\u041a\\u043e\\u0432\\u0430\\u043b\\u0435\\u043d\\u043a\\u043e \\u041e\\u043b\\u044c\\u0433\\u0430 \\u042d\\u0434\\u0443\\u0430\\u0440\\u0434\\u043e\\u0432\\u043d\\u0430 \\u0444\\u0438\\u0437\\u0438\\u043e\",\"\\u041a\\u043e\\u0432\\u0448\\u043e\\u0432 \\u0410\\u043b\\u0435\\u043a\\u0441\\u0430\\u043d\\u0434\\u0440 \\u0410\\u043b\\u0435\\u043a\\u0441\\u0430\\u043d\\u0434\\u0440\\u043e\\u0432\\u0438\\u0447\",\"\\u041a\\u0443\\u043a\\u0443\\u0448\\u043a\\u0438\\u043d\\u0430 \\u041b\\u0430\\u0440\\u0438\\u0441\\u0430 \\u0420\\u0430\\u043c\\u0437\\u0430\\u043d\\u043e\\u0432\\u043d\\u0430\",\"\\u041b\\u0438\\u0442\\u0432\\u0438\\u043d\\u043e\\u0432\\u0430 \\u041d\\u0438\\u043d\\u0430 \\u0410\\u043b\\u0435\\u043a\\u0441\\u0435\\u0435\\u0432\\u043d\\u0430\",\"\\u041b\\u043e\\u043f\\u0430\\u0442\\u043a\\u0438\\u043d\\u0430 \\u0410\\u043b\\u0451\\u043d\\u0430 \\u0421\\u0435\\u0440\\u0433\\u0435\\u0435\\u0432\\u043d\\u0430\",\"\\u041c\\u0430\\u043a\\u0441\\u0438\\u043c\\u0435\\u0446 \\u0418\\u0440\\u0438\\u043d\\u0430 \\u0418\\u0432\\u0430\\u043d\\u043e\\u0432\\u043d\\u0430\",\"\\u041c\\u043a\\u0440\\u0442\\u0447\\u044f\\u043d \\u0422\\u0430\\u0440\\u043e\\u043d \\u0410\\u0440\\u0441\\u0435\\u043d\\u043e\\u0432\\u0438\\u0447\",\"\\u041c\\u043e\\u0440\\u043e\\u0448\\u0435\\u043d\\u043a\\u043e\\u0432\\u0430 \\u0413\\u0443\\u043b\\u044c\\u043c\\u0438\\u0440\\u0430 \\u0410\\u0431\\u044b\\u043b\\u043a\\u0430\\u043a\\u043e\\u0432\\u043d\\u0430\",\"\\u041d\\u0438\\u043a\\u043e\\u043b\\u0430\\u0435\\u0432\\u0430 \\u041d\\u0430\\u0434\\u0435\\u0436\\u0434\\u0430 \\u0413\\u0440\\u0438\\u0433\\u043e\\u0440\\u044c\\u0435\\u0432\\u043d\\u0430\",\"\\u041e\\u043b\\u044c\\u0445\\u043e\\u0432\\u0441\\u043a\\u0430\\u044f \\u0410\\u043b\\u044c\\u0431\\u0438\\u043d\\u0430 \\u0412\\u043b\\u0430\\u0434\\u0438\\u043c\\u0438\\u0440\\u043e\\u0432\\u043d\\u0430\",\"\\u041f\\u0443\\u0437\\u0430\\u043d\\u043e\\u0432\\u0430 \\u041b\\u0438\\u0434\\u0438\\u044f \\u0421\\u0435\\u0440\\u0433\\u0435\\u0435\\u0432\\u043d\\u0430\",\"\\u0421\\u043a\\u0430\\u043b\\u043a\\u043e\\u0432\\u0438\\u0447 \\u0418\\u043d\\u043d\\u0430 \\u0412\\u0430\\u043b\\u0435\\u0440\\u044c\\u0435\\u0432\\u043d\\u0430\",\"\\u0427\\u0438\\u0436\\u043e\\u0432\\u0430 \\u0415\\u043b\\u0435\\u043d\\u0430 \\u0412\\u043b\\u0430\\u0434\\u0438\\u043c\\u0438\\u0440\\u043e\\u0432\\u043d\\u0430\"],\"xaxis\":\"x\",\"y\":[0.884393063583815,0.8071428571428572,1.5583333333333333,0.934640522875817,0.8466666666666667,0.740506329113924,1.186046511627907,1.7444444444444445,0.0028169014084507044,0.8387096774193549,0.39473684210526316,1.1812080536912752,1.010752688172043,1.3571428571428572,0.5759493670886076,0.9130434782608695,1.3738317757009346,0.7368421052631579,0.576,1.1904761904761905,0.8661971830985915],\"yaxis\":\"y\"},{\"alignmentgroup\":\"True\",\"hovertemplate\":\"\\u041c\\u0435\\u0441\\u044f\\u0446=0422<br>\\u0412\\u0440\\u0430\\u0447=%{x}<br>FPV=%{y}<extra></extra>\",\"legendgroup\":\"0422\",\"marker\":{\"color\":\"rgb(193.0, 193.0, 193.0)\",\"pattern\":{\"shape\":\"\"}},\"name\":\"0422\",\"offsetgroup\":\"0422\",\"orientation\":\"v\",\"showlegend\":true,\"textposition\":\"auto\",\"type\":\"bar\",\"x\":[\"\\u0410\\u043b\\u0435\\u043a\\u0441\\u0430\\u043d\\u0434\\u0440\\u043e\\u0432\\u0430 \\u0421\\u0432\\u0435\\u0442\\u043b\\u0430\\u043d\\u0430 \\u0412\\u0438\\u043a\\u0442\\u043e\\u0440\\u043e\\u0432\\u043d\\u0430\",\"\\u0412\\u043b\\u0430\\u0441\\u043e\\u0432\\u0430 \\u0410\\u043b\\u044c\\u0444\\u0438\\u044f \\u041b\\u044f\\u0431\\u0438\\u0431\\u043e\\u0432\\u043d\\u0430\",\"\\u0412\\u043e\\u043b\\u043e\\u0434\\u0438\\u043d \\u041f\\u0430\\u0432\\u0435\\u043b \\u042e\\u0440\\u044c\\u0435\\u0432\\u0438\\u0447\",\"\\u0413\\u0432\\u043e\\u0437\\u0434\\u0435\\u0432\\u0430 \\u0422\\u0430\\u0442\\u044c\\u044f\\u043d\\u0430 \\u0410\\u043d\\u0430\\u0442\\u043e\\u043b\\u044c\\u0435\\u0432\\u043d\\u0430\",\"\\u0413\\u043e\\u0440\\u0431\\u0438\\u043a\\u043e\\u0432\\u0430 \\u042d\\u043b\\u044c\\u0444\\u0438\\u044f \\u0420\\u0430\\u0448\\u0438\\u0442\\u043e\\u0432\\u043d\\u0430\",\"\\u0417\\u0430\\u0445\\u0430\\u0440\\u043e\\u0432 \\u0418\\u0432\\u0430\\u043d \\u0412\\u043b\\u0430\\u0434\\u0438\\u043c\\u0438\\u0440\\u043e\\u0432\\u0438\\u0447\",\"\\u041a\\u0430\\u043c\\u044b\\u043d\\u043e\\u0432\\u0430 \\u041d\\u0430\\u0442\\u0430\\u043b\\u0438\\u044f \\u0412\\u0430\\u043b\\u0435\\u0440\\u0438\\u0435\\u0432\\u043d\\u0430\",\"\\u041a\\u043e\\u0432\\u0430\\u043b\\u0435\\u043d\\u043a\\u043e \\u041e\\u043b\\u044c\\u0433\\u0430 \\u042d\\u0434\\u0443\\u0430\\u0440\\u0434\\u043e\\u0432\\u043d\\u0430\",\"\\u041a\\u043e\\u0432\\u0448\\u043e\\u0432 \\u0410\\u043b\\u0435\\u043a\\u0441\\u0430\\u043d\\u0434\\u0440 \\u0410\\u043b\\u0435\\u043a\\u0441\\u0430\\u043d\\u0434\\u0440\\u043e\\u0432\\u0438\\u0447\",\"\\u041a\\u0443\\u043a\\u0443\\u0448\\u043a\\u0438\\u043d\\u0430 \\u041b\\u0430\\u0440\\u0438\\u0441\\u0430 \\u0420\\u0430\\u043c\\u0437\\u0430\\u043d\\u043e\\u0432\\u043d\\u0430\",\"\\u041b\\u0438\\u0442\\u0432\\u0438\\u043d\\u043e\\u0432\\u0430 \\u041d\\u0438\\u043d\\u0430 \\u0410\\u043b\\u0435\\u043a\\u0441\\u0435\\u0435\\u0432\\u043d\\u0430\",\"\\u041b\\u043e\\u043f\\u0430\\u0442\\u043a\\u0438\\u043d\\u0430 \\u0410\\u043b\\u0451\\u043d\\u0430 \\u0421\\u0435\\u0440\\u0433\\u0435\\u0435\\u0432\\u043d\\u0430\",\"\\u041c\\u0430\\u043a\\u0441\\u0438\\u043c\\u0435\\u0446 \\u0418\\u0440\\u0438\\u043d\\u0430 \\u0418\\u0432\\u0430\\u043d\\u043e\\u0432\\u043d\\u0430\",\"\\u041c\\u043a\\u0440\\u0442\\u0447\\u044f\\u043d \\u0422\\u0430\\u0440\\u043e\\u043d \\u0410\\u0440\\u0441\\u0435\\u043d\\u043e\\u0432\\u0438\\u0447\",\"\\u041c\\u043e\\u0440\\u043e\\u0448\\u0435\\u043d\\u043a\\u043e\\u0432\\u0430 \\u0413\\u0443\\u043b\\u044c\\u043c\\u0438\\u0440\\u0430 \\u0410\\u0431\\u044b\\u043b\\u043a\\u0430\\u043a\\u043e\\u0432\\u043d\\u0430\",\"\\u041d\\u0438\\u043a\\u043e\\u043b\\u0430\\u0435\\u0432\\u0430 \\u041d\\u0430\\u0434\\u0435\\u0436\\u0434\\u0430 \\u0413\\u0440\\u0438\\u0433\\u043e\\u0440\\u044c\\u0435\\u0432\\u043d\\u0430\",\"\\u041e\\u043b\\u044c\\u0445\\u043e\\u0432\\u0441\\u043a\\u0430\\u044f \\u0410\\u043b\\u044c\\u0431\\u0438\\u043d\\u0430 \\u0412\\u043b\\u0430\\u0434\\u0438\\u043c\\u0438\\u0440\\u043e\\u0432\\u043d\\u0430\",\"\\u041f\\u0443\\u0437\\u0430\\u043d\\u043e\\u0432\\u0430 \\u041b\\u0438\\u0434\\u0438\\u044f \\u0421\\u0435\\u0440\\u0433\\u0435\\u0435\\u0432\\u043d\\u0430\",\"\\u0421\\u043a\\u0430\\u043b\\u043a\\u043e\\u0432\\u0438\\u0447 \\u0418\\u043d\\u043d\\u0430 \\u0412\\u0430\\u043b\\u0435\\u0440\\u044c\\u0435\\u0432\\u043d\\u0430\",\"\\u0427\\u0438\\u0436\\u043e\\u0432\\u0430 \\u0415\\u043b\\u0435\\u043d\\u0430 \\u0412\\u043b\\u0430\\u0434\\u0438\\u043c\\u0438\\u0440\\u043e\\u0432\\u043d\\u0430\"],\"xaxis\":\"x\",\"y\":[0.9302325581395349,0.6852791878172588,1.3866666666666667,0.8433734939759037,0.7307692307692307,0.6838709677419355,0.9791666666666666,1.316831683168317,0.8571428571428571,0.70625,0.9861111111111112,0.9867549668874173,1.2826086956521738,0.4585987261146497,0.7784431137724551,1.3244444444444445,0.6206896551724138,0.5354330708661418,1.75,0.8285714285714286],\"yaxis\":\"y\"},{\"alignmentgroup\":\"True\",\"hovertemplate\":\"\\u041c\\u0435\\u0441\\u044f\\u0446=0522<br>\\u0412\\u0440\\u0430\\u0447=%{x}<br>FPV=%{y}<extra></extra>\",\"legendgroup\":\"0522\",\"marker\":{\"color\":\"rgb(224.0, 224.0, 224.0)\",\"pattern\":{\"shape\":\"\"}},\"name\":\"0522\",\"offsetgroup\":\"0522\",\"orientation\":\"v\",\"showlegend\":true,\"textposition\":\"auto\",\"type\":\"bar\",\"x\":[\"\\u0410\\u043b\\u0435\\u043a\\u0441\\u0430\\u043d\\u0434\\u0440\\u043e\\u0432\\u0430 \\u0421\\u0432\\u0435\\u0442\\u043b\\u0430\\u043d\\u0430 \\u0412\\u0438\\u043a\\u0442\\u043e\\u0440\\u043e\\u0432\\u043d\\u0430\",\"\\u0412\\u043b\\u0430\\u0441\\u043e\\u0432\\u0430 \\u0410\\u043b\\u044c\\u0444\\u0438\\u044f \\u041b\\u044f\\u0431\\u0438\\u0431\\u043e\\u0432\\u043d\\u0430\",\"\\u0412\\u043e\\u043b\\u043e\\u0434\\u0438\\u043d \\u041f\\u0430\\u0432\\u0435\\u043b \\u042e\\u0440\\u044c\\u0435\\u0432\\u0438\\u0447\",\"\\u0413\\u043e\\u0440\\u0431\\u0438\\u043a\\u043e\\u0432\\u0430 \\u042d\\u043b\\u044c\\u0444\\u0438\\u044f \\u0420\\u0430\\u0448\\u0438\\u0442\\u043e\\u0432\\u043d\\u0430\",\"\\u0417\\u0430\\u0445\\u0430\\u0440\\u043e\\u0432 \\u0418\\u0432\\u0430\\u043d \\u0412\\u043b\\u0430\\u0434\\u0438\\u043c\\u0438\\u0440\\u043e\\u0432\\u0438\\u0447\",\"\\u041a\\u0430\\u043c\\u044b\\u043d\\u043e\\u0432\\u0430 \\u041d\\u0430\\u0442\\u0430\\u043b\\u0438\\u044f \\u0412\\u0430\\u043b\\u0435\\u0440\\u0438\\u0435\\u0432\\u043d\\u0430\",\"\\u041a\\u043e\\u0432\\u0430\\u043b\\u0435\\u043d\\u043a\\u043e \\u041e\\u043b\\u044c\\u0433\\u0430 \\u042d\\u0434\\u0443\\u0430\\u0440\\u0434\\u043e\\u0432\\u043d\\u0430\",\"\\u041a\\u043e\\u0432\\u0448\\u043e\\u0432 \\u0410\\u043b\\u0435\\u043a\\u0441\\u0430\\u043d\\u0434\\u0440 \\u0410\\u043b\\u0435\\u043a\\u0441\\u0430\\u043d\\u0434\\u0440\\u043e\\u0432\\u0438\\u0447\",\"\\u041a\\u0443\\u043a\\u0443\\u0448\\u043a\\u0438\\u043d\\u0430 \\u041b\\u0430\\u0440\\u0438\\u0441\\u0430 \\u0420\\u0430\\u043c\\u0437\\u0430\\u043d\\u043e\\u0432\\u043d\\u0430\",\"\\u041b\\u0438\\u0442\\u0432\\u0438\\u043d\\u043e\\u0432\\u0430 \\u041d\\u0438\\u043d\\u0430 \\u0410\\u043b\\u0435\\u043a\\u0441\\u0435\\u0435\\u0432\\u043d\\u0430\",\"\\u041b\\u043e\\u043f\\u0430\\u0442\\u043a\\u0438\\u043d\\u0430 \\u0410\\u043b\\u0451\\u043d\\u0430 \\u0421\\u0435\\u0440\\u0433\\u0435\\u0435\\u0432\\u043d\\u0430\",\"\\u041c\\u0430\\u043a\\u0441\\u0438\\u043c\\u0435\\u0446 \\u0418\\u0440\\u0438\\u043d\\u0430 \\u0418\\u0432\\u0430\\u043d\\u043e\\u0432\\u043d\\u0430\",\"\\u041c\\u043a\\u0440\\u0442\\u0447\\u044f\\u043d \\u0422\\u0430\\u0440\\u043e\\u043d \\u0410\\u0440\\u0441\\u0435\\u043d\\u043e\\u0432\\u0438\\u0447\",\"\\u041c\\u043e\\u0440\\u043e\\u0448\\u0435\\u043d\\u043a\\u043e\\u0432\\u0430 \\u0413\\u0443\\u043b\\u044c\\u043c\\u0438\\u0440\\u0430 \\u0410\\u0431\\u044b\\u043b\\u043a\\u0430\\u043a\\u043e\\u0432\\u043d\\u0430\",\"\\u041d\\u0438\\u043a\\u043e\\u043b\\u0430\\u0435\\u0432\\u0430 \\u041d\\u0430\\u0434\\u0435\\u0436\\u0434\\u0430 \\u0413\\u0440\\u0438\\u0433\\u043e\\u0440\\u044c\\u0435\\u0432\\u043d\\u0430\",\"\\u041e\\u043b\\u044c\\u0445\\u043e\\u0432\\u0441\\u043a\\u0430\\u044f \\u0410\\u043b\\u044c\\u0431\\u0438\\u043d\\u0430 \\u0412\\u043b\\u0430\\u0434\\u0438\\u043c\\u0438\\u0440\\u043e\\u0432\\u043d\\u0430\",\"\\u041f\\u0443\\u0437\\u0430\\u043d\\u043e\\u0432\\u0430 \\u041b\\u0438\\u0434\\u0438\\u044f \\u0421\\u0435\\u0440\\u0433\\u0435\\u0435\\u0432\\u043d\\u0430\",\"\\u0421\\u043a\\u0430\\u043b\\u043a\\u043e\\u0432\\u0438\\u0447 \\u0418\\u043d\\u043d\\u0430 \\u0412\\u0430\\u043b\\u0435\\u0440\\u044c\\u0435\\u0432\\u043d\\u0430\",\"\\u0427\\u0438\\u0436\\u043e\\u0432\\u0430 \\u0415\\u043b\\u0435\\u043d\\u0430 \\u0412\\u043b\\u0430\\u0434\\u0438\\u043c\\u0438\\u0440\\u043e\\u0432\\u043d\\u0430\"],\"xaxis\":\"x\",\"y\":[0.9516129032258065,1.2,2.1363636363636362,0.7222222222222222,1.069767441860465,1.2093023255813953,0.9444444444444444,0.75,0.5737704918032787,1.2972972972972974,1.0555555555555556,1.08,0.43859649122807015,0.6086956521739131,1.1720430107526882,0.43137254901960786,0.6111111111111112,1.3333333333333333,0.7407407407407407],\"yaxis\":\"y\"}],                        {\"barmode\":\"group\",\"legend\":{\"title\":{\"text\":\"\\u041c\\u0435\\u0441\\u044f\\u0446\"},\"tracegroupgap\":0},\"plot_bgcolor\":\"rgb(255,255,255)\",\"template\":{\"data\":{\"bar\":[{\"error_x\":{\"color\":\"#2a3f5f\"},\"error_y\":{\"color\":\"#2a3f5f\"},\"marker\":{\"line\":{\"color\":\"#E5ECF6\",\"width\":0.5},\"pattern\":{\"fillmode\":\"overlay\",\"size\":10,\"solidity\":0.2}},\"type\":\"bar\"}],\"barpolar\":[{\"marker\":{\"line\":{\"color\":\"#E5ECF6\",\"width\":0.5},\"pattern\":{\"fillmode\":\"overlay\",\"size\":10,\"solidity\":0.2}},\"type\":\"barpolar\"}],\"carpet\":[{\"aaxis\":{\"endlinecolor\":\"#2a3f5f\",\"gridcolor\":\"white\",\"linecolor\":\"white\",\"minorgridcolor\":\"white\",\"startlinecolor\":\"#2a3f5f\"},\"baxis\":{\"endlinecolor\":\"#2a3f5f\",\"gridcolor\":\"white\",\"linecolor\":\"white\",\"minorgridcolor\":\"white\",\"startlinecolor\":\"#2a3f5f\"},\"type\":\"carpet\"}],\"choropleth\":[{\"colorbar\":{\"outlinewidth\":0,\"ticks\":\"\"},\"type\":\"choropleth\"}],\"contour\":[{\"colorbar\":{\"outlinewidth\":0,\"ticks\":\"\"},\"colorscale\":[[0.0,\"#0d0887\"],[0.1111111111111111,\"#46039f\"],[0.2222222222222222,\"#7201a8\"],[0.3333333333333333,\"#9c179e\"],[0.4444444444444444,\"#bd3786\"],[0.5555555555555556,\"#d8576b\"],[0.6666666666666666,\"#ed7953\"],[0.7777777777777778,\"#fb9f3a\"],[0.8888888888888888,\"#fdca26\"],[1.0,\"#f0f921\"]],\"type\":\"contour\"}],\"contourcarpet\":[{\"colorbar\":{\"outlinewidth\":0,\"ticks\":\"\"},\"type\":\"contourcarpet\"}],\"heatmap\":[{\"colorbar\":{\"outlinewidth\":0,\"ticks\":\"\"},\"colorscale\":[[0.0,\"#0d0887\"],[0.1111111111111111,\"#46039f\"],[0.2222222222222222,\"#7201a8\"],[0.3333333333333333,\"#9c179e\"],[0.4444444444444444,\"#bd3786\"],[0.5555555555555556,\"#d8576b\"],[0.6666666666666666,\"#ed7953\"],[0.7777777777777778,\"#fb9f3a\"],[0.8888888888888888,\"#fdca26\"],[1.0,\"#f0f921\"]],\"type\":\"heatmap\"}],\"heatmapgl\":[{\"colorbar\":{\"outlinewidth\":0,\"ticks\":\"\"},\"colorscale\":[[0.0,\"#0d0887\"],[0.1111111111111111,\"#46039f\"],[0.2222222222222222,\"#7201a8\"],[0.3333333333333333,\"#9c179e\"],[0.4444444444444444,\"#bd3786\"],[0.5555555555555556,\"#d8576b\"],[0.6666666666666666,\"#ed7953\"],[0.7777777777777778,\"#fb9f3a\"],[0.8888888888888888,\"#fdca26\"],[1.0,\"#f0f921\"]],\"type\":\"heatmapgl\"}],\"histogram\":[{\"marker\":{\"pattern\":{\"fillmode\":\"overlay\",\"size\":10,\"solidity\":0.2}},\"type\":\"histogram\"}],\"histogram2d\":[{\"colorbar\":{\"outlinewidth\":0,\"ticks\":\"\"},\"colorscale\":[[0.0,\"#0d0887\"],[0.1111111111111111,\"#46039f\"],[0.2222222222222222,\"#7201a8\"],[0.3333333333333333,\"#9c179e\"],[0.4444444444444444,\"#bd3786\"],[0.5555555555555556,\"#d8576b\"],[0.6666666666666666,\"#ed7953\"],[0.7777777777777778,\"#fb9f3a\"],[0.8888888888888888,\"#fdca26\"],[1.0,\"#f0f921\"]],\"type\":\"histogram2d\"}],\"histogram2dcontour\":[{\"colorbar\":{\"outlinewidth\":0,\"ticks\":\"\"},\"colorscale\":[[0.0,\"#0d0887\"],[0.1111111111111111,\"#46039f\"],[0.2222222222222222,\"#7201a8\"],[0.3333333333333333,\"#9c179e\"],[0.4444444444444444,\"#bd3786\"],[0.5555555555555556,\"#d8576b\"],[0.6666666666666666,\"#ed7953\"],[0.7777777777777778,\"#fb9f3a\"],[0.8888888888888888,\"#fdca26\"],[1.0,\"#f0f921\"]],\"type\":\"histogram2dcontour\"}],\"mesh3d\":[{\"colorbar\":{\"outlinewidth\":0,\"ticks\":\"\"},\"type\":\"mesh3d\"}],\"parcoords\":[{\"line\":{\"colorbar\":{\"outlinewidth\":0,\"ticks\":\"\"}},\"type\":\"parcoords\"}],\"pie\":[{\"automargin\":true,\"type\":\"pie\"}],\"scatter\":[{\"marker\":{\"colorbar\":{\"outlinewidth\":0,\"ticks\":\"\"}},\"type\":\"scatter\"}],\"scatter3d\":[{\"line\":{\"colorbar\":{\"outlinewidth\":0,\"ticks\":\"\"}},\"marker\":{\"colorbar\":{\"outlinewidth\":0,\"ticks\":\"\"}},\"type\":\"scatter3d\"}],\"scattercarpet\":[{\"marker\":{\"colorbar\":{\"outlinewidth\":0,\"ticks\":\"\"}},\"type\":\"scattercarpet\"}],\"scattergeo\":[{\"marker\":{\"colorbar\":{\"outlinewidth\":0,\"ticks\":\"\"}},\"type\":\"scattergeo\"}],\"scattergl\":[{\"marker\":{\"colorbar\":{\"outlinewidth\":0,\"ticks\":\"\"}},\"type\":\"scattergl\"}],\"scattermapbox\":[{\"marker\":{\"colorbar\":{\"outlinewidth\":0,\"ticks\":\"\"}},\"type\":\"scattermapbox\"}],\"scatterpolar\":[{\"marker\":{\"colorbar\":{\"outlinewidth\":0,\"ticks\":\"\"}},\"type\":\"scatterpolar\"}],\"scatterpolargl\":[{\"marker\":{\"colorbar\":{\"outlinewidth\":0,\"ticks\":\"\"}},\"type\":\"scatterpolargl\"}],\"scatterternary\":[{\"marker\":{\"colorbar\":{\"outlinewidth\":0,\"ticks\":\"\"}},\"type\":\"scatterternary\"}],\"surface\":[{\"colorbar\":{\"outlinewidth\":0,\"ticks\":\"\"},\"colorscale\":[[0.0,\"#0d0887\"],[0.1111111111111111,\"#46039f\"],[0.2222222222222222,\"#7201a8\"],[0.3333333333333333,\"#9c179e\"],[0.4444444444444444,\"#bd3786\"],[0.5555555555555556,\"#d8576b\"],[0.6666666666666666,\"#ed7953\"],[0.7777777777777778,\"#fb9f3a\"],[0.8888888888888888,\"#fdca26\"],[1.0,\"#f0f921\"]],\"type\":\"surface\"}],\"table\":[{\"cells\":{\"fill\":{\"color\":\"#EBF0F8\"},\"line\":{\"color\":\"white\"}},\"header\":{\"fill\":{\"color\":\"#C8D4E3\"},\"line\":{\"color\":\"white\"}},\"type\":\"table\"}]},\"layout\":{\"annotationdefaults\":{\"arrowcolor\":\"#2a3f5f\",\"arrowhead\":0,\"arrowwidth\":1},\"autotypenumbers\":\"strict\",\"coloraxis\":{\"colorbar\":{\"outlinewidth\":0,\"ticks\":\"\"}},\"colorscale\":{\"diverging\":[[0,\"#8e0152\"],[0.1,\"#c51b7d\"],[0.2,\"#de77ae\"],[0.3,\"#f1b6da\"],[0.4,\"#fde0ef\"],[0.5,\"#f7f7f7\"],[0.6,\"#e6f5d0\"],[0.7,\"#b8e186\"],[0.8,\"#7fbc41\"],[0.9,\"#4d9221\"],[1,\"#276419\"]],\"sequential\":[[0.0,\"#0d0887\"],[0.1111111111111111,\"#46039f\"],[0.2222222222222222,\"#7201a8\"],[0.3333333333333333,\"#9c179e\"],[0.4444444444444444,\"#bd3786\"],[0.5555555555555556,\"#d8576b\"],[0.6666666666666666,\"#ed7953\"],[0.7777777777777778,\"#fb9f3a\"],[0.8888888888888888,\"#fdca26\"],[1.0,\"#f0f921\"]],\"sequentialminus\":[[0.0,\"#0d0887\"],[0.1111111111111111,\"#46039f\"],[0.2222222222222222,\"#7201a8\"],[0.3333333333333333,\"#9c179e\"],[0.4444444444444444,\"#bd3786\"],[0.5555555555555556,\"#d8576b\"],[0.6666666666666666,\"#ed7953\"],[0.7777777777777778,\"#fb9f3a\"],[0.8888888888888888,\"#fdca26\"],[1.0,\"#f0f921\"]]},\"colorway\":[\"#636efa\",\"#EF553B\",\"#00cc96\",\"#ab63fa\",\"#FFA15A\",\"#19d3f3\",\"#FF6692\",\"#B6E880\",\"#FF97FF\",\"#FECB52\"],\"font\":{\"color\":\"#2a3f5f\"},\"geo\":{\"bgcolor\":\"white\",\"lakecolor\":\"white\",\"landcolor\":\"#E5ECF6\",\"showlakes\":true,\"showland\":true,\"subunitcolor\":\"white\"},\"hoverlabel\":{\"align\":\"left\"},\"hovermode\":\"closest\",\"mapbox\":{\"style\":\"light\"},\"paper_bgcolor\":\"white\",\"plot_bgcolor\":\"#E5ECF6\",\"polar\":{\"angularaxis\":{\"gridcolor\":\"white\",\"linecolor\":\"white\",\"ticks\":\"\"},\"bgcolor\":\"#E5ECF6\",\"radialaxis\":{\"gridcolor\":\"white\",\"linecolor\":\"white\",\"ticks\":\"\"}},\"scene\":{\"xaxis\":{\"backgroundcolor\":\"#E5ECF6\",\"gridcolor\":\"white\",\"gridwidth\":2,\"linecolor\":\"white\",\"showbackground\":true,\"ticks\":\"\",\"zerolinecolor\":\"white\"},\"yaxis\":{\"backgroundcolor\":\"#E5ECF6\",\"gridcolor\":\"white\",\"gridwidth\":2,\"linecolor\":\"white\",\"showbackground\":true,\"ticks\":\"\",\"zerolinecolor\":\"white\"},\"zaxis\":{\"backgroundcolor\":\"#E5ECF6\",\"gridcolor\":\"white\",\"gridwidth\":2,\"linecolor\":\"white\",\"showbackground\":true,\"ticks\":\"\",\"zerolinecolor\":\"white\"}},\"shapedefaults\":{\"line\":{\"color\":\"#2a3f5f\"}},\"ternary\":{\"aaxis\":{\"gridcolor\":\"white\",\"linecolor\":\"white\",\"ticks\":\"\"},\"baxis\":{\"gridcolor\":\"white\",\"linecolor\":\"white\",\"ticks\":\"\"},\"bgcolor\":\"#E5ECF6\",\"caxis\":{\"gridcolor\":\"white\",\"linecolor\":\"white\",\"ticks\":\"\"}},\"title\":{\"x\":0.05},\"xaxis\":{\"automargin\":true,\"gridcolor\":\"white\",\"linecolor\":\"white\",\"ticks\":\"\",\"title\":{\"standoff\":15},\"zerolinecolor\":\"white\",\"zerolinewidth\":2},\"yaxis\":{\"automargin\":true,\"gridcolor\":\"white\",\"linecolor\":\"white\",\"ticks\":\"\",\"title\":{\"standoff\":15},\"zerolinecolor\":\"white\",\"zerolinewidth\":2}}},\"title\":{\"text\":\"\\u0427\\u0438\\u0441\\u043b\\u043e \\u043f\\u043b\\u043e\\u043c\\u0431 \\u043d\\u0430 \\u043f\\u0440\\u0438\\u0435\\u043c\\u0435 \\u0432 2022 \\u0433\\u043e\\u0434\\u0443\"},\"xaxis\":{\"anchor\":\"y\",\"categoryorder\":\"total descending\",\"domain\":[0.0,1.0],\"title\":{\"text\":\"\\u0412\\u0440\\u0430\\u0447\"}},\"yaxis\":{\"anchor\":\"x\",\"domain\":[0.0,1.0],\"gridcolor\":\"grey\",\"title\":{\"text\":\"FPV\"}}},                        {\"responsive\": true}                    ).then(function(){\n",
       "                            \n",
       "var gd = document.getElementById('1698ea27-2ae9-4db7-8c13-c026ae872ef3');\n",
       "var x = new MutationObserver(function (mutations, observer) {{\n",
       "        var display = window.getComputedStyle(gd).display;\n",
       "        if (!display || display === 'none') {{\n",
       "            console.log([gd, 'removed!']);\n",
       "            Plotly.purge(gd);\n",
       "            observer.disconnect();\n",
       "        }}\n",
       "}});\n",
       "\n",
       "// Listen for the removal of the full notebook cells\n",
       "var notebookContainer = gd.closest('#notebook-container');\n",
       "if (notebookContainer) {{\n",
       "    x.observe(notebookContainer, {childList: true});\n",
       "}}\n",
       "\n",
       "// Listen for the clearing of the current output cell\n",
       "var outputEl = gd.closest('.output');\n",
       "if (outputEl) {{\n",
       "    x.observe(outputEl, {childList: true});\n",
       "}}\n",
       "\n",
       "                        })                };                });            </script>        </div>"
      ]
     },
     "metadata": {},
     "output_type": "display_data"
    }
   ],
   "source": [
    "# Средний FPV по месяцам и врачу (ч/б)\n",
    "\n",
    "px.bar(df_result_by_month.query('(FPV > 0) & (Врач != \"Коваленко Ольга Эдуардовна физио\")'), \n",
    "       x='Врач',\n",
    "       y='FPV',\n",
    "       color='Месяц',\n",
    "       barmode='group',\n",
    "       color_discrete_sequence=greys,\n",
    "       title=f\"Число пломб на приеме в {year} году\").update_xaxes(categoryorder='total descending') \\\n",
    "    .update_layout(plot_bgcolor='rgb(255,255,255)') \\\n",
    "    .update_yaxes(gridcolor='grey')"
   ]
  },
  {
   "cell_type": "code",
   "execution_count": 227,
   "metadata": {},
   "outputs": [
    {
     "data": {
      "application/vnd.plotly.v1+json": {
       "config": {
        "plotlyServerURL": "https://plot.ly"
       },
       "data": [
        {
         "alignmentgroup": "True",
         "hovertemplate": "Месяц=0122<br>Врач=%{x}<br>FPV=%{y}<extra></extra>",
         "legendgroup": "0122",
         "marker": {
          "color": "#636efa",
          "pattern": {
           "shape": ""
          }
         },
         "name": "0122",
         "offsetgroup": "0122",
         "orientation": "v",
         "showlegend": true,
         "textposition": "auto",
         "type": "bar",
         "x": [
          "Александрова Светлана Викторовна",
          "Власова Альфия Лябибовна",
          "Володин Павел Юрьевич",
          "Гвоздева Татьяна Анатольевна",
          "Горбикова Эльфия Рашитовна",
          "Захаров Иван Владимирович",
          "Камынова Наталия Валериевна",
          "Коваленко Ольга Эдуардовна",
          "Ковшов Александр Александрович",
          "Кукушкина Лариса Рамзановна",
          "Литвинова Нина Алексеевна",
          "Лопаткина Алёна Сергеевна",
          "Максимец Ирина Ивановна",
          "Мкртчян Тарон Арсенович",
          "Морошенкова Гульмира Абылкаковна",
          "Николаева Надежда Григорьевна",
          "Ольховская Альбина Владимировна",
          "Пузанова Лидия Сергеевна",
          "Скалкович Инна Валерьевна",
          "Чижова Елена Владимировна"
         ],
         "xaxis": "x",
         "y": [
          1.050420168067227,
          0.6240601503759399,
          0.6526315789473685,
          1.073394495412844,
          0.7603305785123967,
          0.8596491228070176,
          0.8461538461538461,
          1.5,
          0.8775510204081632,
          0.3333333333333333,
          1.2252252252252251,
          1.025974025974026,
          1.981981981981982,
          0.546875,
          0.8108108108108109,
          0.9456521739130435,
          0.5932203389830508,
          0.7875,
          0.75,
          0.8857142857142857
         ],
         "yaxis": "y"
        },
        {
         "alignmentgroup": "True",
         "hovertemplate": "Месяц=0222<br>Врач=%{x}<br>FPV=%{y}<extra></extra>",
         "legendgroup": "0222",
         "marker": {
          "color": "#EF553B",
          "pattern": {
           "shape": ""
          }
         },
         "name": "0222",
         "offsetgroup": "0222",
         "orientation": "v",
         "showlegend": true,
         "textposition": "auto",
         "type": "bar",
         "x": [
          "Александрова Светлана Викторовна",
          "Власова Альфия Лябибовна",
          "Володин Павел Юрьевич",
          "Гвоздева Татьяна Анатольевна",
          "Горбикова Эльфия Рашитовна",
          "Захаров Иван Владимирович",
          "Камынова Наталия Валериевна",
          "Коваленко Ольга Эдуардовна",
          "Ковшов Александр Александрович",
          "Кукушкина Лариса Рамзановна",
          "Литвинова Нина Алексеевна",
          "Лопаткина Алёна Сергеевна",
          "Максимец Ирина Ивановна",
          "Мкртчян Тарон Арсенович",
          "Морошенкова Гульмира Абылкаковна",
          "Николаева Надежда Григорьевна",
          "Ольховская Альбина Владимировна",
          "Пузанова Лидия Сергеевна",
          "Скалкович Инна Валерьевна",
          "Чижова Елена Владимировна"
         ],
         "xaxis": "x",
         "y": [
          1.2338709677419355,
          0.7,
          1.5217391304347827,
          1.1744186046511629,
          0.890625,
          0.8135593220338984,
          1.043956043956044,
          1.6097560975609757,
          0.9090909090909091,
          0.39759036144578314,
          1.2540983606557377,
          1.053763440860215,
          1.6643835616438356,
          0.8783783783783784,
          0.8468468468468469,
          1.4026845637583893,
          0.9051094890510949,
          0.832,
          1.56,
          0.8559322033898306
         ],
         "yaxis": "y"
        },
        {
         "alignmentgroup": "True",
         "hovertemplate": "Месяц=0322<br>Врач=%{x}<br>FPV=%{y}<extra></extra>",
         "legendgroup": "0322",
         "marker": {
          "color": "#00cc96",
          "pattern": {
           "shape": ""
          }
         },
         "name": "0322",
         "offsetgroup": "0322",
         "orientation": "v",
         "showlegend": true,
         "textposition": "auto",
         "type": "bar",
         "x": [
          "Александрова Светлана Викторовна",
          "Власова Альфия Лябибовна",
          "Володин Павел Юрьевич",
          "Гвоздева Татьяна Анатольевна",
          "Горбикова Эльфия Рашитовна",
          "Захаров Иван Владимирович",
          "Камынова Наталия Валериевна",
          "Коваленко Ольга Эдуардовна",
          "Коваленко Ольга Эдуардовна физио",
          "Ковшов Александр Александрович",
          "Кукушкина Лариса Рамзановна",
          "Литвинова Нина Алексеевна",
          "Лопаткина Алёна Сергеевна",
          "Максимец Ирина Ивановна",
          "Мкртчян Тарон Арсенович",
          "Морошенкова Гульмира Абылкаковна",
          "Николаева Надежда Григорьевна",
          "Ольховская Альбина Владимировна",
          "Пузанова Лидия Сергеевна",
          "Скалкович Инна Валерьевна",
          "Чижова Елена Владимировна"
         ],
         "xaxis": "x",
         "y": [
          0.884393063583815,
          0.8071428571428572,
          1.5583333333333333,
          0.934640522875817,
          0.8466666666666667,
          0.740506329113924,
          1.186046511627907,
          1.7444444444444445,
          0.0028169014084507044,
          0.8387096774193549,
          0.39473684210526316,
          1.1812080536912752,
          1.010752688172043,
          1.3571428571428572,
          0.5759493670886076,
          0.9130434782608695,
          1.3738317757009346,
          0.7368421052631579,
          0.576,
          1.1904761904761905,
          0.8661971830985915
         ],
         "yaxis": "y"
        },
        {
         "alignmentgroup": "True",
         "hovertemplate": "Месяц=0422<br>Врач=%{x}<br>FPV=%{y}<extra></extra>",
         "legendgroup": "0422",
         "marker": {
          "color": "#ab63fa",
          "pattern": {
           "shape": ""
          }
         },
         "name": "0422",
         "offsetgroup": "0422",
         "orientation": "v",
         "showlegend": true,
         "textposition": "auto",
         "type": "bar",
         "x": [
          "Александрова Светлана Викторовна",
          "Власова Альфия Лябибовна",
          "Володин Павел Юрьевич",
          "Гвоздева Татьяна Анатольевна",
          "Горбикова Эльфия Рашитовна",
          "Захаров Иван Владимирович",
          "Камынова Наталия Валериевна",
          "Коваленко Ольга Эдуардовна",
          "Ковшов Александр Александрович",
          "Кукушкина Лариса Рамзановна",
          "Литвинова Нина Алексеевна",
          "Лопаткина Алёна Сергеевна",
          "Максимец Ирина Ивановна",
          "Мкртчян Тарон Арсенович",
          "Морошенкова Гульмира Абылкаковна",
          "Николаева Надежда Григорьевна",
          "Ольховская Альбина Владимировна",
          "Пузанова Лидия Сергеевна",
          "Скалкович Инна Валерьевна",
          "Чижова Елена Владимировна"
         ],
         "xaxis": "x",
         "y": [
          0.9302325581395349,
          0.6852791878172588,
          1.3866666666666667,
          0.8433734939759037,
          0.7307692307692307,
          0.6838709677419355,
          0.9791666666666666,
          1.316831683168317,
          0.8571428571428571,
          0.70625,
          0.9861111111111112,
          0.9867549668874173,
          1.2826086956521738,
          0.4585987261146497,
          0.7784431137724551,
          1.3244444444444445,
          0.6206896551724138,
          0.5354330708661418,
          1.75,
          0.8285714285714286
         ],
         "yaxis": "y"
        },
        {
         "alignmentgroup": "True",
         "hovertemplate": "Месяц=0522<br>Врач=%{x}<br>FPV=%{y}<extra></extra>",
         "legendgroup": "0522",
         "marker": {
          "color": "#FFA15A",
          "pattern": {
           "shape": ""
          }
         },
         "name": "0522",
         "offsetgroup": "0522",
         "orientation": "v",
         "showlegend": true,
         "textposition": "auto",
         "type": "bar",
         "x": [
          "Александрова Светлана Викторовна",
          "Власова Альфия Лябибовна",
          "Володин Павел Юрьевич",
          "Горбикова Эльфия Рашитовна",
          "Захаров Иван Владимирович",
          "Камынова Наталия Валериевна",
          "Коваленко Ольга Эдуардовна",
          "Ковшов Александр Александрович",
          "Кукушкина Лариса Рамзановна",
          "Литвинова Нина Алексеевна",
          "Лопаткина Алёна Сергеевна",
          "Максимец Ирина Ивановна",
          "Мкртчян Тарон Арсенович",
          "Морошенкова Гульмира Абылкаковна",
          "Николаева Надежда Григорьевна",
          "Ольховская Альбина Владимировна",
          "Пузанова Лидия Сергеевна",
          "Скалкович Инна Валерьевна",
          "Чижова Елена Владимировна"
         ],
         "xaxis": "x",
         "y": [
          0.9516129032258065,
          1.2,
          2.1363636363636362,
          0.7222222222222222,
          1.069767441860465,
          1.2093023255813953,
          0.9444444444444444,
          0.75,
          0.5737704918032787,
          1.2972972972972974,
          1.0555555555555556,
          1.08,
          0.43859649122807015,
          0.6086956521739131,
          1.1720430107526882,
          0.43137254901960786,
          0.6111111111111112,
          1.3333333333333333,
          0.7407407407407407
         ],
         "yaxis": "y"
        }
       ],
       "layout": {
        "barmode": "group",
        "legend": {
         "title": {
          "text": "Месяц"
         },
         "tracegroupgap": 0
        },
        "template": {
         "data": {
          "bar": [
           {
            "error_x": {
             "color": "#2a3f5f"
            },
            "error_y": {
             "color": "#2a3f5f"
            },
            "marker": {
             "line": {
              "color": "#E5ECF6",
              "width": 0.5
             },
             "pattern": {
              "fillmode": "overlay",
              "size": 10,
              "solidity": 0.2
             }
            },
            "type": "bar"
           }
          ],
          "barpolar": [
           {
            "marker": {
             "line": {
              "color": "#E5ECF6",
              "width": 0.5
             },
             "pattern": {
              "fillmode": "overlay",
              "size": 10,
              "solidity": 0.2
             }
            },
            "type": "barpolar"
           }
          ],
          "carpet": [
           {
            "aaxis": {
             "endlinecolor": "#2a3f5f",
             "gridcolor": "white",
             "linecolor": "white",
             "minorgridcolor": "white",
             "startlinecolor": "#2a3f5f"
            },
            "baxis": {
             "endlinecolor": "#2a3f5f",
             "gridcolor": "white",
             "linecolor": "white",
             "minorgridcolor": "white",
             "startlinecolor": "#2a3f5f"
            },
            "type": "carpet"
           }
          ],
          "choropleth": [
           {
            "colorbar": {
             "outlinewidth": 0,
             "ticks": ""
            },
            "type": "choropleth"
           }
          ],
          "contour": [
           {
            "colorbar": {
             "outlinewidth": 0,
             "ticks": ""
            },
            "colorscale": [
             [
              0,
              "#0d0887"
             ],
             [
              0.1111111111111111,
              "#46039f"
             ],
             [
              0.2222222222222222,
              "#7201a8"
             ],
             [
              0.3333333333333333,
              "#9c179e"
             ],
             [
              0.4444444444444444,
              "#bd3786"
             ],
             [
              0.5555555555555556,
              "#d8576b"
             ],
             [
              0.6666666666666666,
              "#ed7953"
             ],
             [
              0.7777777777777778,
              "#fb9f3a"
             ],
             [
              0.8888888888888888,
              "#fdca26"
             ],
             [
              1,
              "#f0f921"
             ]
            ],
            "type": "contour"
           }
          ],
          "contourcarpet": [
           {
            "colorbar": {
             "outlinewidth": 0,
             "ticks": ""
            },
            "type": "contourcarpet"
           }
          ],
          "heatmap": [
           {
            "colorbar": {
             "outlinewidth": 0,
             "ticks": ""
            },
            "colorscale": [
             [
              0,
              "#0d0887"
             ],
             [
              0.1111111111111111,
              "#46039f"
             ],
             [
              0.2222222222222222,
              "#7201a8"
             ],
             [
              0.3333333333333333,
              "#9c179e"
             ],
             [
              0.4444444444444444,
              "#bd3786"
             ],
             [
              0.5555555555555556,
              "#d8576b"
             ],
             [
              0.6666666666666666,
              "#ed7953"
             ],
             [
              0.7777777777777778,
              "#fb9f3a"
             ],
             [
              0.8888888888888888,
              "#fdca26"
             ],
             [
              1,
              "#f0f921"
             ]
            ],
            "type": "heatmap"
           }
          ],
          "heatmapgl": [
           {
            "colorbar": {
             "outlinewidth": 0,
             "ticks": ""
            },
            "colorscale": [
             [
              0,
              "#0d0887"
             ],
             [
              0.1111111111111111,
              "#46039f"
             ],
             [
              0.2222222222222222,
              "#7201a8"
             ],
             [
              0.3333333333333333,
              "#9c179e"
             ],
             [
              0.4444444444444444,
              "#bd3786"
             ],
             [
              0.5555555555555556,
              "#d8576b"
             ],
             [
              0.6666666666666666,
              "#ed7953"
             ],
             [
              0.7777777777777778,
              "#fb9f3a"
             ],
             [
              0.8888888888888888,
              "#fdca26"
             ],
             [
              1,
              "#f0f921"
             ]
            ],
            "type": "heatmapgl"
           }
          ],
          "histogram": [
           {
            "marker": {
             "pattern": {
              "fillmode": "overlay",
              "size": 10,
              "solidity": 0.2
             }
            },
            "type": "histogram"
           }
          ],
          "histogram2d": [
           {
            "colorbar": {
             "outlinewidth": 0,
             "ticks": ""
            },
            "colorscale": [
             [
              0,
              "#0d0887"
             ],
             [
              0.1111111111111111,
              "#46039f"
             ],
             [
              0.2222222222222222,
              "#7201a8"
             ],
             [
              0.3333333333333333,
              "#9c179e"
             ],
             [
              0.4444444444444444,
              "#bd3786"
             ],
             [
              0.5555555555555556,
              "#d8576b"
             ],
             [
              0.6666666666666666,
              "#ed7953"
             ],
             [
              0.7777777777777778,
              "#fb9f3a"
             ],
             [
              0.8888888888888888,
              "#fdca26"
             ],
             [
              1,
              "#f0f921"
             ]
            ],
            "type": "histogram2d"
           }
          ],
          "histogram2dcontour": [
           {
            "colorbar": {
             "outlinewidth": 0,
             "ticks": ""
            },
            "colorscale": [
             [
              0,
              "#0d0887"
             ],
             [
              0.1111111111111111,
              "#46039f"
             ],
             [
              0.2222222222222222,
              "#7201a8"
             ],
             [
              0.3333333333333333,
              "#9c179e"
             ],
             [
              0.4444444444444444,
              "#bd3786"
             ],
             [
              0.5555555555555556,
              "#d8576b"
             ],
             [
              0.6666666666666666,
              "#ed7953"
             ],
             [
              0.7777777777777778,
              "#fb9f3a"
             ],
             [
              0.8888888888888888,
              "#fdca26"
             ],
             [
              1,
              "#f0f921"
             ]
            ],
            "type": "histogram2dcontour"
           }
          ],
          "mesh3d": [
           {
            "colorbar": {
             "outlinewidth": 0,
             "ticks": ""
            },
            "type": "mesh3d"
           }
          ],
          "parcoords": [
           {
            "line": {
             "colorbar": {
              "outlinewidth": 0,
              "ticks": ""
             }
            },
            "type": "parcoords"
           }
          ],
          "pie": [
           {
            "automargin": true,
            "type": "pie"
           }
          ],
          "scatter": [
           {
            "marker": {
             "colorbar": {
              "outlinewidth": 0,
              "ticks": ""
             }
            },
            "type": "scatter"
           }
          ],
          "scatter3d": [
           {
            "line": {
             "colorbar": {
              "outlinewidth": 0,
              "ticks": ""
             }
            },
            "marker": {
             "colorbar": {
              "outlinewidth": 0,
              "ticks": ""
             }
            },
            "type": "scatter3d"
           }
          ],
          "scattercarpet": [
           {
            "marker": {
             "colorbar": {
              "outlinewidth": 0,
              "ticks": ""
             }
            },
            "type": "scattercarpet"
           }
          ],
          "scattergeo": [
           {
            "marker": {
             "colorbar": {
              "outlinewidth": 0,
              "ticks": ""
             }
            },
            "type": "scattergeo"
           }
          ],
          "scattergl": [
           {
            "marker": {
             "colorbar": {
              "outlinewidth": 0,
              "ticks": ""
             }
            },
            "type": "scattergl"
           }
          ],
          "scattermapbox": [
           {
            "marker": {
             "colorbar": {
              "outlinewidth": 0,
              "ticks": ""
             }
            },
            "type": "scattermapbox"
           }
          ],
          "scatterpolar": [
           {
            "marker": {
             "colorbar": {
              "outlinewidth": 0,
              "ticks": ""
             }
            },
            "type": "scatterpolar"
           }
          ],
          "scatterpolargl": [
           {
            "marker": {
             "colorbar": {
              "outlinewidth": 0,
              "ticks": ""
             }
            },
            "type": "scatterpolargl"
           }
          ],
          "scatterternary": [
           {
            "marker": {
             "colorbar": {
              "outlinewidth": 0,
              "ticks": ""
             }
            },
            "type": "scatterternary"
           }
          ],
          "surface": [
           {
            "colorbar": {
             "outlinewidth": 0,
             "ticks": ""
            },
            "colorscale": [
             [
              0,
              "#0d0887"
             ],
             [
              0.1111111111111111,
              "#46039f"
             ],
             [
              0.2222222222222222,
              "#7201a8"
             ],
             [
              0.3333333333333333,
              "#9c179e"
             ],
             [
              0.4444444444444444,
              "#bd3786"
             ],
             [
              0.5555555555555556,
              "#d8576b"
             ],
             [
              0.6666666666666666,
              "#ed7953"
             ],
             [
              0.7777777777777778,
              "#fb9f3a"
             ],
             [
              0.8888888888888888,
              "#fdca26"
             ],
             [
              1,
              "#f0f921"
             ]
            ],
            "type": "surface"
           }
          ],
          "table": [
           {
            "cells": {
             "fill": {
              "color": "#EBF0F8"
             },
             "line": {
              "color": "white"
             }
            },
            "header": {
             "fill": {
              "color": "#C8D4E3"
             },
             "line": {
              "color": "white"
             }
            },
            "type": "table"
           }
          ]
         },
         "layout": {
          "annotationdefaults": {
           "arrowcolor": "#2a3f5f",
           "arrowhead": 0,
           "arrowwidth": 1
          },
          "autotypenumbers": "strict",
          "coloraxis": {
           "colorbar": {
            "outlinewidth": 0,
            "ticks": ""
           }
          },
          "colorscale": {
           "diverging": [
            [
             0,
             "#8e0152"
            ],
            [
             0.1,
             "#c51b7d"
            ],
            [
             0.2,
             "#de77ae"
            ],
            [
             0.3,
             "#f1b6da"
            ],
            [
             0.4,
             "#fde0ef"
            ],
            [
             0.5,
             "#f7f7f7"
            ],
            [
             0.6,
             "#e6f5d0"
            ],
            [
             0.7,
             "#b8e186"
            ],
            [
             0.8,
             "#7fbc41"
            ],
            [
             0.9,
             "#4d9221"
            ],
            [
             1,
             "#276419"
            ]
           ],
           "sequential": [
            [
             0,
             "#0d0887"
            ],
            [
             0.1111111111111111,
             "#46039f"
            ],
            [
             0.2222222222222222,
             "#7201a8"
            ],
            [
             0.3333333333333333,
             "#9c179e"
            ],
            [
             0.4444444444444444,
             "#bd3786"
            ],
            [
             0.5555555555555556,
             "#d8576b"
            ],
            [
             0.6666666666666666,
             "#ed7953"
            ],
            [
             0.7777777777777778,
             "#fb9f3a"
            ],
            [
             0.8888888888888888,
             "#fdca26"
            ],
            [
             1,
             "#f0f921"
            ]
           ],
           "sequentialminus": [
            [
             0,
             "#0d0887"
            ],
            [
             0.1111111111111111,
             "#46039f"
            ],
            [
             0.2222222222222222,
             "#7201a8"
            ],
            [
             0.3333333333333333,
             "#9c179e"
            ],
            [
             0.4444444444444444,
             "#bd3786"
            ],
            [
             0.5555555555555556,
             "#d8576b"
            ],
            [
             0.6666666666666666,
             "#ed7953"
            ],
            [
             0.7777777777777778,
             "#fb9f3a"
            ],
            [
             0.8888888888888888,
             "#fdca26"
            ],
            [
             1,
             "#f0f921"
            ]
           ]
          },
          "colorway": [
           "#636efa",
           "#EF553B",
           "#00cc96",
           "#ab63fa",
           "#FFA15A",
           "#19d3f3",
           "#FF6692",
           "#B6E880",
           "#FF97FF",
           "#FECB52"
          ],
          "font": {
           "color": "#2a3f5f"
          },
          "geo": {
           "bgcolor": "white",
           "lakecolor": "white",
           "landcolor": "#E5ECF6",
           "showlakes": true,
           "showland": true,
           "subunitcolor": "white"
          },
          "hoverlabel": {
           "align": "left"
          },
          "hovermode": "closest",
          "mapbox": {
           "style": "light"
          },
          "paper_bgcolor": "white",
          "plot_bgcolor": "#E5ECF6",
          "polar": {
           "angularaxis": {
            "gridcolor": "white",
            "linecolor": "white",
            "ticks": ""
           },
           "bgcolor": "#E5ECF6",
           "radialaxis": {
            "gridcolor": "white",
            "linecolor": "white",
            "ticks": ""
           }
          },
          "scene": {
           "xaxis": {
            "backgroundcolor": "#E5ECF6",
            "gridcolor": "white",
            "gridwidth": 2,
            "linecolor": "white",
            "showbackground": true,
            "ticks": "",
            "zerolinecolor": "white"
           },
           "yaxis": {
            "backgroundcolor": "#E5ECF6",
            "gridcolor": "white",
            "gridwidth": 2,
            "linecolor": "white",
            "showbackground": true,
            "ticks": "",
            "zerolinecolor": "white"
           },
           "zaxis": {
            "backgroundcolor": "#E5ECF6",
            "gridcolor": "white",
            "gridwidth": 2,
            "linecolor": "white",
            "showbackground": true,
            "ticks": "",
            "zerolinecolor": "white"
           }
          },
          "shapedefaults": {
           "line": {
            "color": "#2a3f5f"
           }
          },
          "ternary": {
           "aaxis": {
            "gridcolor": "white",
            "linecolor": "white",
            "ticks": ""
           },
           "baxis": {
            "gridcolor": "white",
            "linecolor": "white",
            "ticks": ""
           },
           "bgcolor": "#E5ECF6",
           "caxis": {
            "gridcolor": "white",
            "linecolor": "white",
            "ticks": ""
           }
          },
          "title": {
           "x": 0.05
          },
          "xaxis": {
           "automargin": true,
           "gridcolor": "white",
           "linecolor": "white",
           "ticks": "",
           "title": {
            "standoff": 15
           },
           "zerolinecolor": "white",
           "zerolinewidth": 2
          },
          "yaxis": {
           "automargin": true,
           "gridcolor": "white",
           "linecolor": "white",
           "ticks": "",
           "title": {
            "standoff": 15
           },
           "zerolinecolor": "white",
           "zerolinewidth": 2
          }
         }
        },
        "title": {
         "text": "Число пломб на приеме в 2022 году"
        },
        "xaxis": {
         "anchor": "y",
         "categoryorder": "total descending",
         "domain": [
          0,
          1
         ],
         "title": {
          "text": "Врач"
         }
        },
        "yaxis": {
         "anchor": "x",
         "domain": [
          0,
          1
         ],
         "title": {
          "text": "FPV"
         }
        }
       }
      },
      "text/html": [
       "<div>                            <div id=\"e3eb463f-1904-4588-8764-8d022e5e9d21\" class=\"plotly-graph-div\" style=\"height:525px; width:100%;\"></div>            <script type=\"text/javascript\">                require([\"plotly\"], function(Plotly) {                    window.PLOTLYENV=window.PLOTLYENV || {};                                    if (document.getElementById(\"e3eb463f-1904-4588-8764-8d022e5e9d21\")) {                    Plotly.newPlot(                        \"e3eb463f-1904-4588-8764-8d022e5e9d21\",                        [{\"alignmentgroup\":\"True\",\"hovertemplate\":\"\\u041c\\u0435\\u0441\\u044f\\u0446=0122<br>\\u0412\\u0440\\u0430\\u0447=%{x}<br>FPV=%{y}<extra></extra>\",\"legendgroup\":\"0122\",\"marker\":{\"color\":\"#636efa\",\"pattern\":{\"shape\":\"\"}},\"name\":\"0122\",\"offsetgroup\":\"0122\",\"orientation\":\"v\",\"showlegend\":true,\"textposition\":\"auto\",\"type\":\"bar\",\"x\":[\"\\u0410\\u043b\\u0435\\u043a\\u0441\\u0430\\u043d\\u0434\\u0440\\u043e\\u0432\\u0430 \\u0421\\u0432\\u0435\\u0442\\u043b\\u0430\\u043d\\u0430 \\u0412\\u0438\\u043a\\u0442\\u043e\\u0440\\u043e\\u0432\\u043d\\u0430\",\"\\u0412\\u043b\\u0430\\u0441\\u043e\\u0432\\u0430 \\u0410\\u043b\\u044c\\u0444\\u0438\\u044f \\u041b\\u044f\\u0431\\u0438\\u0431\\u043e\\u0432\\u043d\\u0430\",\"\\u0412\\u043e\\u043b\\u043e\\u0434\\u0438\\u043d \\u041f\\u0430\\u0432\\u0435\\u043b \\u042e\\u0440\\u044c\\u0435\\u0432\\u0438\\u0447\",\"\\u0413\\u0432\\u043e\\u0437\\u0434\\u0435\\u0432\\u0430 \\u0422\\u0430\\u0442\\u044c\\u044f\\u043d\\u0430 \\u0410\\u043d\\u0430\\u0442\\u043e\\u043b\\u044c\\u0435\\u0432\\u043d\\u0430\",\"\\u0413\\u043e\\u0440\\u0431\\u0438\\u043a\\u043e\\u0432\\u0430 \\u042d\\u043b\\u044c\\u0444\\u0438\\u044f \\u0420\\u0430\\u0448\\u0438\\u0442\\u043e\\u0432\\u043d\\u0430\",\"\\u0417\\u0430\\u0445\\u0430\\u0440\\u043e\\u0432 \\u0418\\u0432\\u0430\\u043d \\u0412\\u043b\\u0430\\u0434\\u0438\\u043c\\u0438\\u0440\\u043e\\u0432\\u0438\\u0447\",\"\\u041a\\u0430\\u043c\\u044b\\u043d\\u043e\\u0432\\u0430 \\u041d\\u0430\\u0442\\u0430\\u043b\\u0438\\u044f \\u0412\\u0430\\u043b\\u0435\\u0440\\u0438\\u0435\\u0432\\u043d\\u0430\",\"\\u041a\\u043e\\u0432\\u0430\\u043b\\u0435\\u043d\\u043a\\u043e \\u041e\\u043b\\u044c\\u0433\\u0430 \\u042d\\u0434\\u0443\\u0430\\u0440\\u0434\\u043e\\u0432\\u043d\\u0430\",\"\\u041a\\u043e\\u0432\\u0448\\u043e\\u0432 \\u0410\\u043b\\u0435\\u043a\\u0441\\u0430\\u043d\\u0434\\u0440 \\u0410\\u043b\\u0435\\u043a\\u0441\\u0430\\u043d\\u0434\\u0440\\u043e\\u0432\\u0438\\u0447\",\"\\u041a\\u0443\\u043a\\u0443\\u0448\\u043a\\u0438\\u043d\\u0430 \\u041b\\u0430\\u0440\\u0438\\u0441\\u0430 \\u0420\\u0430\\u043c\\u0437\\u0430\\u043d\\u043e\\u0432\\u043d\\u0430\",\"\\u041b\\u0438\\u0442\\u0432\\u0438\\u043d\\u043e\\u0432\\u0430 \\u041d\\u0438\\u043d\\u0430 \\u0410\\u043b\\u0435\\u043a\\u0441\\u0435\\u0435\\u0432\\u043d\\u0430\",\"\\u041b\\u043e\\u043f\\u0430\\u0442\\u043a\\u0438\\u043d\\u0430 \\u0410\\u043b\\u0451\\u043d\\u0430 \\u0421\\u0435\\u0440\\u0433\\u0435\\u0435\\u0432\\u043d\\u0430\",\"\\u041c\\u0430\\u043a\\u0441\\u0438\\u043c\\u0435\\u0446 \\u0418\\u0440\\u0438\\u043d\\u0430 \\u0418\\u0432\\u0430\\u043d\\u043e\\u0432\\u043d\\u0430\",\"\\u041c\\u043a\\u0440\\u0442\\u0447\\u044f\\u043d \\u0422\\u0430\\u0440\\u043e\\u043d \\u0410\\u0440\\u0441\\u0435\\u043d\\u043e\\u0432\\u0438\\u0447\",\"\\u041c\\u043e\\u0440\\u043e\\u0448\\u0435\\u043d\\u043a\\u043e\\u0432\\u0430 \\u0413\\u0443\\u043b\\u044c\\u043c\\u0438\\u0440\\u0430 \\u0410\\u0431\\u044b\\u043b\\u043a\\u0430\\u043a\\u043e\\u0432\\u043d\\u0430\",\"\\u041d\\u0438\\u043a\\u043e\\u043b\\u0430\\u0435\\u0432\\u0430 \\u041d\\u0430\\u0434\\u0435\\u0436\\u0434\\u0430 \\u0413\\u0440\\u0438\\u0433\\u043e\\u0440\\u044c\\u0435\\u0432\\u043d\\u0430\",\"\\u041e\\u043b\\u044c\\u0445\\u043e\\u0432\\u0441\\u043a\\u0430\\u044f \\u0410\\u043b\\u044c\\u0431\\u0438\\u043d\\u0430 \\u0412\\u043b\\u0430\\u0434\\u0438\\u043c\\u0438\\u0440\\u043e\\u0432\\u043d\\u0430\",\"\\u041f\\u0443\\u0437\\u0430\\u043d\\u043e\\u0432\\u0430 \\u041b\\u0438\\u0434\\u0438\\u044f \\u0421\\u0435\\u0440\\u0433\\u0435\\u0435\\u0432\\u043d\\u0430\",\"\\u0421\\u043a\\u0430\\u043b\\u043a\\u043e\\u0432\\u0438\\u0447 \\u0418\\u043d\\u043d\\u0430 \\u0412\\u0430\\u043b\\u0435\\u0440\\u044c\\u0435\\u0432\\u043d\\u0430\",\"\\u0427\\u0438\\u0436\\u043e\\u0432\\u0430 \\u0415\\u043b\\u0435\\u043d\\u0430 \\u0412\\u043b\\u0430\\u0434\\u0438\\u043c\\u0438\\u0440\\u043e\\u0432\\u043d\\u0430\"],\"xaxis\":\"x\",\"y\":[1.050420168067227,0.6240601503759399,0.6526315789473685,1.073394495412844,0.7603305785123967,0.8596491228070176,0.8461538461538461,1.5,0.8775510204081632,0.3333333333333333,1.2252252252252251,1.025974025974026,1.981981981981982,0.546875,0.8108108108108109,0.9456521739130435,0.5932203389830508,0.7875,0.75,0.8857142857142857],\"yaxis\":\"y\"},{\"alignmentgroup\":\"True\",\"hovertemplate\":\"\\u041c\\u0435\\u0441\\u044f\\u0446=0222<br>\\u0412\\u0440\\u0430\\u0447=%{x}<br>FPV=%{y}<extra></extra>\",\"legendgroup\":\"0222\",\"marker\":{\"color\":\"#EF553B\",\"pattern\":{\"shape\":\"\"}},\"name\":\"0222\",\"offsetgroup\":\"0222\",\"orientation\":\"v\",\"showlegend\":true,\"textposition\":\"auto\",\"type\":\"bar\",\"x\":[\"\\u0410\\u043b\\u0435\\u043a\\u0441\\u0430\\u043d\\u0434\\u0440\\u043e\\u0432\\u0430 \\u0421\\u0432\\u0435\\u0442\\u043b\\u0430\\u043d\\u0430 \\u0412\\u0438\\u043a\\u0442\\u043e\\u0440\\u043e\\u0432\\u043d\\u0430\",\"\\u0412\\u043b\\u0430\\u0441\\u043e\\u0432\\u0430 \\u0410\\u043b\\u044c\\u0444\\u0438\\u044f \\u041b\\u044f\\u0431\\u0438\\u0431\\u043e\\u0432\\u043d\\u0430\",\"\\u0412\\u043e\\u043b\\u043e\\u0434\\u0438\\u043d \\u041f\\u0430\\u0432\\u0435\\u043b \\u042e\\u0440\\u044c\\u0435\\u0432\\u0438\\u0447\",\"\\u0413\\u0432\\u043e\\u0437\\u0434\\u0435\\u0432\\u0430 \\u0422\\u0430\\u0442\\u044c\\u044f\\u043d\\u0430 \\u0410\\u043d\\u0430\\u0442\\u043e\\u043b\\u044c\\u0435\\u0432\\u043d\\u0430\",\"\\u0413\\u043e\\u0440\\u0431\\u0438\\u043a\\u043e\\u0432\\u0430 \\u042d\\u043b\\u044c\\u0444\\u0438\\u044f \\u0420\\u0430\\u0448\\u0438\\u0442\\u043e\\u0432\\u043d\\u0430\",\"\\u0417\\u0430\\u0445\\u0430\\u0440\\u043e\\u0432 \\u0418\\u0432\\u0430\\u043d \\u0412\\u043b\\u0430\\u0434\\u0438\\u043c\\u0438\\u0440\\u043e\\u0432\\u0438\\u0447\",\"\\u041a\\u0430\\u043c\\u044b\\u043d\\u043e\\u0432\\u0430 \\u041d\\u0430\\u0442\\u0430\\u043b\\u0438\\u044f \\u0412\\u0430\\u043b\\u0435\\u0440\\u0438\\u0435\\u0432\\u043d\\u0430\",\"\\u041a\\u043e\\u0432\\u0430\\u043b\\u0435\\u043d\\u043a\\u043e \\u041e\\u043b\\u044c\\u0433\\u0430 \\u042d\\u0434\\u0443\\u0430\\u0440\\u0434\\u043e\\u0432\\u043d\\u0430\",\"\\u041a\\u043e\\u0432\\u0448\\u043e\\u0432 \\u0410\\u043b\\u0435\\u043a\\u0441\\u0430\\u043d\\u0434\\u0440 \\u0410\\u043b\\u0435\\u043a\\u0441\\u0430\\u043d\\u0434\\u0440\\u043e\\u0432\\u0438\\u0447\",\"\\u041a\\u0443\\u043a\\u0443\\u0448\\u043a\\u0438\\u043d\\u0430 \\u041b\\u0430\\u0440\\u0438\\u0441\\u0430 \\u0420\\u0430\\u043c\\u0437\\u0430\\u043d\\u043e\\u0432\\u043d\\u0430\",\"\\u041b\\u0438\\u0442\\u0432\\u0438\\u043d\\u043e\\u0432\\u0430 \\u041d\\u0438\\u043d\\u0430 \\u0410\\u043b\\u0435\\u043a\\u0441\\u0435\\u0435\\u0432\\u043d\\u0430\",\"\\u041b\\u043e\\u043f\\u0430\\u0442\\u043a\\u0438\\u043d\\u0430 \\u0410\\u043b\\u0451\\u043d\\u0430 \\u0421\\u0435\\u0440\\u0433\\u0435\\u0435\\u0432\\u043d\\u0430\",\"\\u041c\\u0430\\u043a\\u0441\\u0438\\u043c\\u0435\\u0446 \\u0418\\u0440\\u0438\\u043d\\u0430 \\u0418\\u0432\\u0430\\u043d\\u043e\\u0432\\u043d\\u0430\",\"\\u041c\\u043a\\u0440\\u0442\\u0447\\u044f\\u043d \\u0422\\u0430\\u0440\\u043e\\u043d \\u0410\\u0440\\u0441\\u0435\\u043d\\u043e\\u0432\\u0438\\u0447\",\"\\u041c\\u043e\\u0440\\u043e\\u0448\\u0435\\u043d\\u043a\\u043e\\u0432\\u0430 \\u0413\\u0443\\u043b\\u044c\\u043c\\u0438\\u0440\\u0430 \\u0410\\u0431\\u044b\\u043b\\u043a\\u0430\\u043a\\u043e\\u0432\\u043d\\u0430\",\"\\u041d\\u0438\\u043a\\u043e\\u043b\\u0430\\u0435\\u0432\\u0430 \\u041d\\u0430\\u0434\\u0435\\u0436\\u0434\\u0430 \\u0413\\u0440\\u0438\\u0433\\u043e\\u0440\\u044c\\u0435\\u0432\\u043d\\u0430\",\"\\u041e\\u043b\\u044c\\u0445\\u043e\\u0432\\u0441\\u043a\\u0430\\u044f \\u0410\\u043b\\u044c\\u0431\\u0438\\u043d\\u0430 \\u0412\\u043b\\u0430\\u0434\\u0438\\u043c\\u0438\\u0440\\u043e\\u0432\\u043d\\u0430\",\"\\u041f\\u0443\\u0437\\u0430\\u043d\\u043e\\u0432\\u0430 \\u041b\\u0438\\u0434\\u0438\\u044f \\u0421\\u0435\\u0440\\u0433\\u0435\\u0435\\u0432\\u043d\\u0430\",\"\\u0421\\u043a\\u0430\\u043b\\u043a\\u043e\\u0432\\u0438\\u0447 \\u0418\\u043d\\u043d\\u0430 \\u0412\\u0430\\u043b\\u0435\\u0440\\u044c\\u0435\\u0432\\u043d\\u0430\",\"\\u0427\\u0438\\u0436\\u043e\\u0432\\u0430 \\u0415\\u043b\\u0435\\u043d\\u0430 \\u0412\\u043b\\u0430\\u0434\\u0438\\u043c\\u0438\\u0440\\u043e\\u0432\\u043d\\u0430\"],\"xaxis\":\"x\",\"y\":[1.2338709677419355,0.7,1.5217391304347827,1.1744186046511629,0.890625,0.8135593220338984,1.043956043956044,1.6097560975609757,0.9090909090909091,0.39759036144578314,1.2540983606557377,1.053763440860215,1.6643835616438356,0.8783783783783784,0.8468468468468469,1.4026845637583893,0.9051094890510949,0.832,1.56,0.8559322033898306],\"yaxis\":\"y\"},{\"alignmentgroup\":\"True\",\"hovertemplate\":\"\\u041c\\u0435\\u0441\\u044f\\u0446=0322<br>\\u0412\\u0440\\u0430\\u0447=%{x}<br>FPV=%{y}<extra></extra>\",\"legendgroup\":\"0322\",\"marker\":{\"color\":\"#00cc96\",\"pattern\":{\"shape\":\"\"}},\"name\":\"0322\",\"offsetgroup\":\"0322\",\"orientation\":\"v\",\"showlegend\":true,\"textposition\":\"auto\",\"type\":\"bar\",\"x\":[\"\\u0410\\u043b\\u0435\\u043a\\u0441\\u0430\\u043d\\u0434\\u0440\\u043e\\u0432\\u0430 \\u0421\\u0432\\u0435\\u0442\\u043b\\u0430\\u043d\\u0430 \\u0412\\u0438\\u043a\\u0442\\u043e\\u0440\\u043e\\u0432\\u043d\\u0430\",\"\\u0412\\u043b\\u0430\\u0441\\u043e\\u0432\\u0430 \\u0410\\u043b\\u044c\\u0444\\u0438\\u044f \\u041b\\u044f\\u0431\\u0438\\u0431\\u043e\\u0432\\u043d\\u0430\",\"\\u0412\\u043e\\u043b\\u043e\\u0434\\u0438\\u043d \\u041f\\u0430\\u0432\\u0435\\u043b \\u042e\\u0440\\u044c\\u0435\\u0432\\u0438\\u0447\",\"\\u0413\\u0432\\u043e\\u0437\\u0434\\u0435\\u0432\\u0430 \\u0422\\u0430\\u0442\\u044c\\u044f\\u043d\\u0430 \\u0410\\u043d\\u0430\\u0442\\u043e\\u043b\\u044c\\u0435\\u0432\\u043d\\u0430\",\"\\u0413\\u043e\\u0440\\u0431\\u0438\\u043a\\u043e\\u0432\\u0430 \\u042d\\u043b\\u044c\\u0444\\u0438\\u044f \\u0420\\u0430\\u0448\\u0438\\u0442\\u043e\\u0432\\u043d\\u0430\",\"\\u0417\\u0430\\u0445\\u0430\\u0440\\u043e\\u0432 \\u0418\\u0432\\u0430\\u043d \\u0412\\u043b\\u0430\\u0434\\u0438\\u043c\\u0438\\u0440\\u043e\\u0432\\u0438\\u0447\",\"\\u041a\\u0430\\u043c\\u044b\\u043d\\u043e\\u0432\\u0430 \\u041d\\u0430\\u0442\\u0430\\u043b\\u0438\\u044f \\u0412\\u0430\\u043b\\u0435\\u0440\\u0438\\u0435\\u0432\\u043d\\u0430\",\"\\u041a\\u043e\\u0432\\u0430\\u043b\\u0435\\u043d\\u043a\\u043e \\u041e\\u043b\\u044c\\u0433\\u0430 \\u042d\\u0434\\u0443\\u0430\\u0440\\u0434\\u043e\\u0432\\u043d\\u0430\",\"\\u041a\\u043e\\u0432\\u0430\\u043b\\u0435\\u043d\\u043a\\u043e \\u041e\\u043b\\u044c\\u0433\\u0430 \\u042d\\u0434\\u0443\\u0430\\u0440\\u0434\\u043e\\u0432\\u043d\\u0430 \\u0444\\u0438\\u0437\\u0438\\u043e\",\"\\u041a\\u043e\\u0432\\u0448\\u043e\\u0432 \\u0410\\u043b\\u0435\\u043a\\u0441\\u0430\\u043d\\u0434\\u0440 \\u0410\\u043b\\u0435\\u043a\\u0441\\u0430\\u043d\\u0434\\u0440\\u043e\\u0432\\u0438\\u0447\",\"\\u041a\\u0443\\u043a\\u0443\\u0448\\u043a\\u0438\\u043d\\u0430 \\u041b\\u0430\\u0440\\u0438\\u0441\\u0430 \\u0420\\u0430\\u043c\\u0437\\u0430\\u043d\\u043e\\u0432\\u043d\\u0430\",\"\\u041b\\u0438\\u0442\\u0432\\u0438\\u043d\\u043e\\u0432\\u0430 \\u041d\\u0438\\u043d\\u0430 \\u0410\\u043b\\u0435\\u043a\\u0441\\u0435\\u0435\\u0432\\u043d\\u0430\",\"\\u041b\\u043e\\u043f\\u0430\\u0442\\u043a\\u0438\\u043d\\u0430 \\u0410\\u043b\\u0451\\u043d\\u0430 \\u0421\\u0435\\u0440\\u0433\\u0435\\u0435\\u0432\\u043d\\u0430\",\"\\u041c\\u0430\\u043a\\u0441\\u0438\\u043c\\u0435\\u0446 \\u0418\\u0440\\u0438\\u043d\\u0430 \\u0418\\u0432\\u0430\\u043d\\u043e\\u0432\\u043d\\u0430\",\"\\u041c\\u043a\\u0440\\u0442\\u0447\\u044f\\u043d \\u0422\\u0430\\u0440\\u043e\\u043d \\u0410\\u0440\\u0441\\u0435\\u043d\\u043e\\u0432\\u0438\\u0447\",\"\\u041c\\u043e\\u0440\\u043e\\u0448\\u0435\\u043d\\u043a\\u043e\\u0432\\u0430 \\u0413\\u0443\\u043b\\u044c\\u043c\\u0438\\u0440\\u0430 \\u0410\\u0431\\u044b\\u043b\\u043a\\u0430\\u043a\\u043e\\u0432\\u043d\\u0430\",\"\\u041d\\u0438\\u043a\\u043e\\u043b\\u0430\\u0435\\u0432\\u0430 \\u041d\\u0430\\u0434\\u0435\\u0436\\u0434\\u0430 \\u0413\\u0440\\u0438\\u0433\\u043e\\u0440\\u044c\\u0435\\u0432\\u043d\\u0430\",\"\\u041e\\u043b\\u044c\\u0445\\u043e\\u0432\\u0441\\u043a\\u0430\\u044f \\u0410\\u043b\\u044c\\u0431\\u0438\\u043d\\u0430 \\u0412\\u043b\\u0430\\u0434\\u0438\\u043c\\u0438\\u0440\\u043e\\u0432\\u043d\\u0430\",\"\\u041f\\u0443\\u0437\\u0430\\u043d\\u043e\\u0432\\u0430 \\u041b\\u0438\\u0434\\u0438\\u044f \\u0421\\u0435\\u0440\\u0433\\u0435\\u0435\\u0432\\u043d\\u0430\",\"\\u0421\\u043a\\u0430\\u043b\\u043a\\u043e\\u0432\\u0438\\u0447 \\u0418\\u043d\\u043d\\u0430 \\u0412\\u0430\\u043b\\u0435\\u0440\\u044c\\u0435\\u0432\\u043d\\u0430\",\"\\u0427\\u0438\\u0436\\u043e\\u0432\\u0430 \\u0415\\u043b\\u0435\\u043d\\u0430 \\u0412\\u043b\\u0430\\u0434\\u0438\\u043c\\u0438\\u0440\\u043e\\u0432\\u043d\\u0430\"],\"xaxis\":\"x\",\"y\":[0.884393063583815,0.8071428571428572,1.5583333333333333,0.934640522875817,0.8466666666666667,0.740506329113924,1.186046511627907,1.7444444444444445,0.0028169014084507044,0.8387096774193549,0.39473684210526316,1.1812080536912752,1.010752688172043,1.3571428571428572,0.5759493670886076,0.9130434782608695,1.3738317757009346,0.7368421052631579,0.576,1.1904761904761905,0.8661971830985915],\"yaxis\":\"y\"},{\"alignmentgroup\":\"True\",\"hovertemplate\":\"\\u041c\\u0435\\u0441\\u044f\\u0446=0422<br>\\u0412\\u0440\\u0430\\u0447=%{x}<br>FPV=%{y}<extra></extra>\",\"legendgroup\":\"0422\",\"marker\":{\"color\":\"#ab63fa\",\"pattern\":{\"shape\":\"\"}},\"name\":\"0422\",\"offsetgroup\":\"0422\",\"orientation\":\"v\",\"showlegend\":true,\"textposition\":\"auto\",\"type\":\"bar\",\"x\":[\"\\u0410\\u043b\\u0435\\u043a\\u0441\\u0430\\u043d\\u0434\\u0440\\u043e\\u0432\\u0430 \\u0421\\u0432\\u0435\\u0442\\u043b\\u0430\\u043d\\u0430 \\u0412\\u0438\\u043a\\u0442\\u043e\\u0440\\u043e\\u0432\\u043d\\u0430\",\"\\u0412\\u043b\\u0430\\u0441\\u043e\\u0432\\u0430 \\u0410\\u043b\\u044c\\u0444\\u0438\\u044f \\u041b\\u044f\\u0431\\u0438\\u0431\\u043e\\u0432\\u043d\\u0430\",\"\\u0412\\u043e\\u043b\\u043e\\u0434\\u0438\\u043d \\u041f\\u0430\\u0432\\u0435\\u043b \\u042e\\u0440\\u044c\\u0435\\u0432\\u0438\\u0447\",\"\\u0413\\u0432\\u043e\\u0437\\u0434\\u0435\\u0432\\u0430 \\u0422\\u0430\\u0442\\u044c\\u044f\\u043d\\u0430 \\u0410\\u043d\\u0430\\u0442\\u043e\\u043b\\u044c\\u0435\\u0432\\u043d\\u0430\",\"\\u0413\\u043e\\u0440\\u0431\\u0438\\u043a\\u043e\\u0432\\u0430 \\u042d\\u043b\\u044c\\u0444\\u0438\\u044f \\u0420\\u0430\\u0448\\u0438\\u0442\\u043e\\u0432\\u043d\\u0430\",\"\\u0417\\u0430\\u0445\\u0430\\u0440\\u043e\\u0432 \\u0418\\u0432\\u0430\\u043d \\u0412\\u043b\\u0430\\u0434\\u0438\\u043c\\u0438\\u0440\\u043e\\u0432\\u0438\\u0447\",\"\\u041a\\u0430\\u043c\\u044b\\u043d\\u043e\\u0432\\u0430 \\u041d\\u0430\\u0442\\u0430\\u043b\\u0438\\u044f \\u0412\\u0430\\u043b\\u0435\\u0440\\u0438\\u0435\\u0432\\u043d\\u0430\",\"\\u041a\\u043e\\u0432\\u0430\\u043b\\u0435\\u043d\\u043a\\u043e \\u041e\\u043b\\u044c\\u0433\\u0430 \\u042d\\u0434\\u0443\\u0430\\u0440\\u0434\\u043e\\u0432\\u043d\\u0430\",\"\\u041a\\u043e\\u0432\\u0448\\u043e\\u0432 \\u0410\\u043b\\u0435\\u043a\\u0441\\u0430\\u043d\\u0434\\u0440 \\u0410\\u043b\\u0435\\u043a\\u0441\\u0430\\u043d\\u0434\\u0440\\u043e\\u0432\\u0438\\u0447\",\"\\u041a\\u0443\\u043a\\u0443\\u0448\\u043a\\u0438\\u043d\\u0430 \\u041b\\u0430\\u0440\\u0438\\u0441\\u0430 \\u0420\\u0430\\u043c\\u0437\\u0430\\u043d\\u043e\\u0432\\u043d\\u0430\",\"\\u041b\\u0438\\u0442\\u0432\\u0438\\u043d\\u043e\\u0432\\u0430 \\u041d\\u0438\\u043d\\u0430 \\u0410\\u043b\\u0435\\u043a\\u0441\\u0435\\u0435\\u0432\\u043d\\u0430\",\"\\u041b\\u043e\\u043f\\u0430\\u0442\\u043a\\u0438\\u043d\\u0430 \\u0410\\u043b\\u0451\\u043d\\u0430 \\u0421\\u0435\\u0440\\u0433\\u0435\\u0435\\u0432\\u043d\\u0430\",\"\\u041c\\u0430\\u043a\\u0441\\u0438\\u043c\\u0435\\u0446 \\u0418\\u0440\\u0438\\u043d\\u0430 \\u0418\\u0432\\u0430\\u043d\\u043e\\u0432\\u043d\\u0430\",\"\\u041c\\u043a\\u0440\\u0442\\u0447\\u044f\\u043d \\u0422\\u0430\\u0440\\u043e\\u043d \\u0410\\u0440\\u0441\\u0435\\u043d\\u043e\\u0432\\u0438\\u0447\",\"\\u041c\\u043e\\u0440\\u043e\\u0448\\u0435\\u043d\\u043a\\u043e\\u0432\\u0430 \\u0413\\u0443\\u043b\\u044c\\u043c\\u0438\\u0440\\u0430 \\u0410\\u0431\\u044b\\u043b\\u043a\\u0430\\u043a\\u043e\\u0432\\u043d\\u0430\",\"\\u041d\\u0438\\u043a\\u043e\\u043b\\u0430\\u0435\\u0432\\u0430 \\u041d\\u0430\\u0434\\u0435\\u0436\\u0434\\u0430 \\u0413\\u0440\\u0438\\u0433\\u043e\\u0440\\u044c\\u0435\\u0432\\u043d\\u0430\",\"\\u041e\\u043b\\u044c\\u0445\\u043e\\u0432\\u0441\\u043a\\u0430\\u044f \\u0410\\u043b\\u044c\\u0431\\u0438\\u043d\\u0430 \\u0412\\u043b\\u0430\\u0434\\u0438\\u043c\\u0438\\u0440\\u043e\\u0432\\u043d\\u0430\",\"\\u041f\\u0443\\u0437\\u0430\\u043d\\u043e\\u0432\\u0430 \\u041b\\u0438\\u0434\\u0438\\u044f \\u0421\\u0435\\u0440\\u0433\\u0435\\u0435\\u0432\\u043d\\u0430\",\"\\u0421\\u043a\\u0430\\u043b\\u043a\\u043e\\u0432\\u0438\\u0447 \\u0418\\u043d\\u043d\\u0430 \\u0412\\u0430\\u043b\\u0435\\u0440\\u044c\\u0435\\u0432\\u043d\\u0430\",\"\\u0427\\u0438\\u0436\\u043e\\u0432\\u0430 \\u0415\\u043b\\u0435\\u043d\\u0430 \\u0412\\u043b\\u0430\\u0434\\u0438\\u043c\\u0438\\u0440\\u043e\\u0432\\u043d\\u0430\"],\"xaxis\":\"x\",\"y\":[0.9302325581395349,0.6852791878172588,1.3866666666666667,0.8433734939759037,0.7307692307692307,0.6838709677419355,0.9791666666666666,1.316831683168317,0.8571428571428571,0.70625,0.9861111111111112,0.9867549668874173,1.2826086956521738,0.4585987261146497,0.7784431137724551,1.3244444444444445,0.6206896551724138,0.5354330708661418,1.75,0.8285714285714286],\"yaxis\":\"y\"},{\"alignmentgroup\":\"True\",\"hovertemplate\":\"\\u041c\\u0435\\u0441\\u044f\\u0446=0522<br>\\u0412\\u0440\\u0430\\u0447=%{x}<br>FPV=%{y}<extra></extra>\",\"legendgroup\":\"0522\",\"marker\":{\"color\":\"#FFA15A\",\"pattern\":{\"shape\":\"\"}},\"name\":\"0522\",\"offsetgroup\":\"0522\",\"orientation\":\"v\",\"showlegend\":true,\"textposition\":\"auto\",\"type\":\"bar\",\"x\":[\"\\u0410\\u043b\\u0435\\u043a\\u0441\\u0430\\u043d\\u0434\\u0440\\u043e\\u0432\\u0430 \\u0421\\u0432\\u0435\\u0442\\u043b\\u0430\\u043d\\u0430 \\u0412\\u0438\\u043a\\u0442\\u043e\\u0440\\u043e\\u0432\\u043d\\u0430\",\"\\u0412\\u043b\\u0430\\u0441\\u043e\\u0432\\u0430 \\u0410\\u043b\\u044c\\u0444\\u0438\\u044f \\u041b\\u044f\\u0431\\u0438\\u0431\\u043e\\u0432\\u043d\\u0430\",\"\\u0412\\u043e\\u043b\\u043e\\u0434\\u0438\\u043d \\u041f\\u0430\\u0432\\u0435\\u043b \\u042e\\u0440\\u044c\\u0435\\u0432\\u0438\\u0447\",\"\\u0413\\u043e\\u0440\\u0431\\u0438\\u043a\\u043e\\u0432\\u0430 \\u042d\\u043b\\u044c\\u0444\\u0438\\u044f \\u0420\\u0430\\u0448\\u0438\\u0442\\u043e\\u0432\\u043d\\u0430\",\"\\u0417\\u0430\\u0445\\u0430\\u0440\\u043e\\u0432 \\u0418\\u0432\\u0430\\u043d \\u0412\\u043b\\u0430\\u0434\\u0438\\u043c\\u0438\\u0440\\u043e\\u0432\\u0438\\u0447\",\"\\u041a\\u0430\\u043c\\u044b\\u043d\\u043e\\u0432\\u0430 \\u041d\\u0430\\u0442\\u0430\\u043b\\u0438\\u044f \\u0412\\u0430\\u043b\\u0435\\u0440\\u0438\\u0435\\u0432\\u043d\\u0430\",\"\\u041a\\u043e\\u0432\\u0430\\u043b\\u0435\\u043d\\u043a\\u043e \\u041e\\u043b\\u044c\\u0433\\u0430 \\u042d\\u0434\\u0443\\u0430\\u0440\\u0434\\u043e\\u0432\\u043d\\u0430\",\"\\u041a\\u043e\\u0432\\u0448\\u043e\\u0432 \\u0410\\u043b\\u0435\\u043a\\u0441\\u0430\\u043d\\u0434\\u0440 \\u0410\\u043b\\u0435\\u043a\\u0441\\u0430\\u043d\\u0434\\u0440\\u043e\\u0432\\u0438\\u0447\",\"\\u041a\\u0443\\u043a\\u0443\\u0448\\u043a\\u0438\\u043d\\u0430 \\u041b\\u0430\\u0440\\u0438\\u0441\\u0430 \\u0420\\u0430\\u043c\\u0437\\u0430\\u043d\\u043e\\u0432\\u043d\\u0430\",\"\\u041b\\u0438\\u0442\\u0432\\u0438\\u043d\\u043e\\u0432\\u0430 \\u041d\\u0438\\u043d\\u0430 \\u0410\\u043b\\u0435\\u043a\\u0441\\u0435\\u0435\\u0432\\u043d\\u0430\",\"\\u041b\\u043e\\u043f\\u0430\\u0442\\u043a\\u0438\\u043d\\u0430 \\u0410\\u043b\\u0451\\u043d\\u0430 \\u0421\\u0435\\u0440\\u0433\\u0435\\u0435\\u0432\\u043d\\u0430\",\"\\u041c\\u0430\\u043a\\u0441\\u0438\\u043c\\u0435\\u0446 \\u0418\\u0440\\u0438\\u043d\\u0430 \\u0418\\u0432\\u0430\\u043d\\u043e\\u0432\\u043d\\u0430\",\"\\u041c\\u043a\\u0440\\u0442\\u0447\\u044f\\u043d \\u0422\\u0430\\u0440\\u043e\\u043d \\u0410\\u0440\\u0441\\u0435\\u043d\\u043e\\u0432\\u0438\\u0447\",\"\\u041c\\u043e\\u0440\\u043e\\u0448\\u0435\\u043d\\u043a\\u043e\\u0432\\u0430 \\u0413\\u0443\\u043b\\u044c\\u043c\\u0438\\u0440\\u0430 \\u0410\\u0431\\u044b\\u043b\\u043a\\u0430\\u043a\\u043e\\u0432\\u043d\\u0430\",\"\\u041d\\u0438\\u043a\\u043e\\u043b\\u0430\\u0435\\u0432\\u0430 \\u041d\\u0430\\u0434\\u0435\\u0436\\u0434\\u0430 \\u0413\\u0440\\u0438\\u0433\\u043e\\u0440\\u044c\\u0435\\u0432\\u043d\\u0430\",\"\\u041e\\u043b\\u044c\\u0445\\u043e\\u0432\\u0441\\u043a\\u0430\\u044f \\u0410\\u043b\\u044c\\u0431\\u0438\\u043d\\u0430 \\u0412\\u043b\\u0430\\u0434\\u0438\\u043c\\u0438\\u0440\\u043e\\u0432\\u043d\\u0430\",\"\\u041f\\u0443\\u0437\\u0430\\u043d\\u043e\\u0432\\u0430 \\u041b\\u0438\\u0434\\u0438\\u044f \\u0421\\u0435\\u0440\\u0433\\u0435\\u0435\\u0432\\u043d\\u0430\",\"\\u0421\\u043a\\u0430\\u043b\\u043a\\u043e\\u0432\\u0438\\u0447 \\u0418\\u043d\\u043d\\u0430 \\u0412\\u0430\\u043b\\u0435\\u0440\\u044c\\u0435\\u0432\\u043d\\u0430\",\"\\u0427\\u0438\\u0436\\u043e\\u0432\\u0430 \\u0415\\u043b\\u0435\\u043d\\u0430 \\u0412\\u043b\\u0430\\u0434\\u0438\\u043c\\u0438\\u0440\\u043e\\u0432\\u043d\\u0430\"],\"xaxis\":\"x\",\"y\":[0.9516129032258065,1.2,2.1363636363636362,0.7222222222222222,1.069767441860465,1.2093023255813953,0.9444444444444444,0.75,0.5737704918032787,1.2972972972972974,1.0555555555555556,1.08,0.43859649122807015,0.6086956521739131,1.1720430107526882,0.43137254901960786,0.6111111111111112,1.3333333333333333,0.7407407407407407],\"yaxis\":\"y\"}],                        {\"barmode\":\"group\",\"legend\":{\"title\":{\"text\":\"\\u041c\\u0435\\u0441\\u044f\\u0446\"},\"tracegroupgap\":0},\"template\":{\"data\":{\"bar\":[{\"error_x\":{\"color\":\"#2a3f5f\"},\"error_y\":{\"color\":\"#2a3f5f\"},\"marker\":{\"line\":{\"color\":\"#E5ECF6\",\"width\":0.5},\"pattern\":{\"fillmode\":\"overlay\",\"size\":10,\"solidity\":0.2}},\"type\":\"bar\"}],\"barpolar\":[{\"marker\":{\"line\":{\"color\":\"#E5ECF6\",\"width\":0.5},\"pattern\":{\"fillmode\":\"overlay\",\"size\":10,\"solidity\":0.2}},\"type\":\"barpolar\"}],\"carpet\":[{\"aaxis\":{\"endlinecolor\":\"#2a3f5f\",\"gridcolor\":\"white\",\"linecolor\":\"white\",\"minorgridcolor\":\"white\",\"startlinecolor\":\"#2a3f5f\"},\"baxis\":{\"endlinecolor\":\"#2a3f5f\",\"gridcolor\":\"white\",\"linecolor\":\"white\",\"minorgridcolor\":\"white\",\"startlinecolor\":\"#2a3f5f\"},\"type\":\"carpet\"}],\"choropleth\":[{\"colorbar\":{\"outlinewidth\":0,\"ticks\":\"\"},\"type\":\"choropleth\"}],\"contour\":[{\"colorbar\":{\"outlinewidth\":0,\"ticks\":\"\"},\"colorscale\":[[0.0,\"#0d0887\"],[0.1111111111111111,\"#46039f\"],[0.2222222222222222,\"#7201a8\"],[0.3333333333333333,\"#9c179e\"],[0.4444444444444444,\"#bd3786\"],[0.5555555555555556,\"#d8576b\"],[0.6666666666666666,\"#ed7953\"],[0.7777777777777778,\"#fb9f3a\"],[0.8888888888888888,\"#fdca26\"],[1.0,\"#f0f921\"]],\"type\":\"contour\"}],\"contourcarpet\":[{\"colorbar\":{\"outlinewidth\":0,\"ticks\":\"\"},\"type\":\"contourcarpet\"}],\"heatmap\":[{\"colorbar\":{\"outlinewidth\":0,\"ticks\":\"\"},\"colorscale\":[[0.0,\"#0d0887\"],[0.1111111111111111,\"#46039f\"],[0.2222222222222222,\"#7201a8\"],[0.3333333333333333,\"#9c179e\"],[0.4444444444444444,\"#bd3786\"],[0.5555555555555556,\"#d8576b\"],[0.6666666666666666,\"#ed7953\"],[0.7777777777777778,\"#fb9f3a\"],[0.8888888888888888,\"#fdca26\"],[1.0,\"#f0f921\"]],\"type\":\"heatmap\"}],\"heatmapgl\":[{\"colorbar\":{\"outlinewidth\":0,\"ticks\":\"\"},\"colorscale\":[[0.0,\"#0d0887\"],[0.1111111111111111,\"#46039f\"],[0.2222222222222222,\"#7201a8\"],[0.3333333333333333,\"#9c179e\"],[0.4444444444444444,\"#bd3786\"],[0.5555555555555556,\"#d8576b\"],[0.6666666666666666,\"#ed7953\"],[0.7777777777777778,\"#fb9f3a\"],[0.8888888888888888,\"#fdca26\"],[1.0,\"#f0f921\"]],\"type\":\"heatmapgl\"}],\"histogram\":[{\"marker\":{\"pattern\":{\"fillmode\":\"overlay\",\"size\":10,\"solidity\":0.2}},\"type\":\"histogram\"}],\"histogram2d\":[{\"colorbar\":{\"outlinewidth\":0,\"ticks\":\"\"},\"colorscale\":[[0.0,\"#0d0887\"],[0.1111111111111111,\"#46039f\"],[0.2222222222222222,\"#7201a8\"],[0.3333333333333333,\"#9c179e\"],[0.4444444444444444,\"#bd3786\"],[0.5555555555555556,\"#d8576b\"],[0.6666666666666666,\"#ed7953\"],[0.7777777777777778,\"#fb9f3a\"],[0.8888888888888888,\"#fdca26\"],[1.0,\"#f0f921\"]],\"type\":\"histogram2d\"}],\"histogram2dcontour\":[{\"colorbar\":{\"outlinewidth\":0,\"ticks\":\"\"},\"colorscale\":[[0.0,\"#0d0887\"],[0.1111111111111111,\"#46039f\"],[0.2222222222222222,\"#7201a8\"],[0.3333333333333333,\"#9c179e\"],[0.4444444444444444,\"#bd3786\"],[0.5555555555555556,\"#d8576b\"],[0.6666666666666666,\"#ed7953\"],[0.7777777777777778,\"#fb9f3a\"],[0.8888888888888888,\"#fdca26\"],[1.0,\"#f0f921\"]],\"type\":\"histogram2dcontour\"}],\"mesh3d\":[{\"colorbar\":{\"outlinewidth\":0,\"ticks\":\"\"},\"type\":\"mesh3d\"}],\"parcoords\":[{\"line\":{\"colorbar\":{\"outlinewidth\":0,\"ticks\":\"\"}},\"type\":\"parcoords\"}],\"pie\":[{\"automargin\":true,\"type\":\"pie\"}],\"scatter\":[{\"marker\":{\"colorbar\":{\"outlinewidth\":0,\"ticks\":\"\"}},\"type\":\"scatter\"}],\"scatter3d\":[{\"line\":{\"colorbar\":{\"outlinewidth\":0,\"ticks\":\"\"}},\"marker\":{\"colorbar\":{\"outlinewidth\":0,\"ticks\":\"\"}},\"type\":\"scatter3d\"}],\"scattercarpet\":[{\"marker\":{\"colorbar\":{\"outlinewidth\":0,\"ticks\":\"\"}},\"type\":\"scattercarpet\"}],\"scattergeo\":[{\"marker\":{\"colorbar\":{\"outlinewidth\":0,\"ticks\":\"\"}},\"type\":\"scattergeo\"}],\"scattergl\":[{\"marker\":{\"colorbar\":{\"outlinewidth\":0,\"ticks\":\"\"}},\"type\":\"scattergl\"}],\"scattermapbox\":[{\"marker\":{\"colorbar\":{\"outlinewidth\":0,\"ticks\":\"\"}},\"type\":\"scattermapbox\"}],\"scatterpolar\":[{\"marker\":{\"colorbar\":{\"outlinewidth\":0,\"ticks\":\"\"}},\"type\":\"scatterpolar\"}],\"scatterpolargl\":[{\"marker\":{\"colorbar\":{\"outlinewidth\":0,\"ticks\":\"\"}},\"type\":\"scatterpolargl\"}],\"scatterternary\":[{\"marker\":{\"colorbar\":{\"outlinewidth\":0,\"ticks\":\"\"}},\"type\":\"scatterternary\"}],\"surface\":[{\"colorbar\":{\"outlinewidth\":0,\"ticks\":\"\"},\"colorscale\":[[0.0,\"#0d0887\"],[0.1111111111111111,\"#46039f\"],[0.2222222222222222,\"#7201a8\"],[0.3333333333333333,\"#9c179e\"],[0.4444444444444444,\"#bd3786\"],[0.5555555555555556,\"#d8576b\"],[0.6666666666666666,\"#ed7953\"],[0.7777777777777778,\"#fb9f3a\"],[0.8888888888888888,\"#fdca26\"],[1.0,\"#f0f921\"]],\"type\":\"surface\"}],\"table\":[{\"cells\":{\"fill\":{\"color\":\"#EBF0F8\"},\"line\":{\"color\":\"white\"}},\"header\":{\"fill\":{\"color\":\"#C8D4E3\"},\"line\":{\"color\":\"white\"}},\"type\":\"table\"}]},\"layout\":{\"annotationdefaults\":{\"arrowcolor\":\"#2a3f5f\",\"arrowhead\":0,\"arrowwidth\":1},\"autotypenumbers\":\"strict\",\"coloraxis\":{\"colorbar\":{\"outlinewidth\":0,\"ticks\":\"\"}},\"colorscale\":{\"diverging\":[[0,\"#8e0152\"],[0.1,\"#c51b7d\"],[0.2,\"#de77ae\"],[0.3,\"#f1b6da\"],[0.4,\"#fde0ef\"],[0.5,\"#f7f7f7\"],[0.6,\"#e6f5d0\"],[0.7,\"#b8e186\"],[0.8,\"#7fbc41\"],[0.9,\"#4d9221\"],[1,\"#276419\"]],\"sequential\":[[0.0,\"#0d0887\"],[0.1111111111111111,\"#46039f\"],[0.2222222222222222,\"#7201a8\"],[0.3333333333333333,\"#9c179e\"],[0.4444444444444444,\"#bd3786\"],[0.5555555555555556,\"#d8576b\"],[0.6666666666666666,\"#ed7953\"],[0.7777777777777778,\"#fb9f3a\"],[0.8888888888888888,\"#fdca26\"],[1.0,\"#f0f921\"]],\"sequentialminus\":[[0.0,\"#0d0887\"],[0.1111111111111111,\"#46039f\"],[0.2222222222222222,\"#7201a8\"],[0.3333333333333333,\"#9c179e\"],[0.4444444444444444,\"#bd3786\"],[0.5555555555555556,\"#d8576b\"],[0.6666666666666666,\"#ed7953\"],[0.7777777777777778,\"#fb9f3a\"],[0.8888888888888888,\"#fdca26\"],[1.0,\"#f0f921\"]]},\"colorway\":[\"#636efa\",\"#EF553B\",\"#00cc96\",\"#ab63fa\",\"#FFA15A\",\"#19d3f3\",\"#FF6692\",\"#B6E880\",\"#FF97FF\",\"#FECB52\"],\"font\":{\"color\":\"#2a3f5f\"},\"geo\":{\"bgcolor\":\"white\",\"lakecolor\":\"white\",\"landcolor\":\"#E5ECF6\",\"showlakes\":true,\"showland\":true,\"subunitcolor\":\"white\"},\"hoverlabel\":{\"align\":\"left\"},\"hovermode\":\"closest\",\"mapbox\":{\"style\":\"light\"},\"paper_bgcolor\":\"white\",\"plot_bgcolor\":\"#E5ECF6\",\"polar\":{\"angularaxis\":{\"gridcolor\":\"white\",\"linecolor\":\"white\",\"ticks\":\"\"},\"bgcolor\":\"#E5ECF6\",\"radialaxis\":{\"gridcolor\":\"white\",\"linecolor\":\"white\",\"ticks\":\"\"}},\"scene\":{\"xaxis\":{\"backgroundcolor\":\"#E5ECF6\",\"gridcolor\":\"white\",\"gridwidth\":2,\"linecolor\":\"white\",\"showbackground\":true,\"ticks\":\"\",\"zerolinecolor\":\"white\"},\"yaxis\":{\"backgroundcolor\":\"#E5ECF6\",\"gridcolor\":\"white\",\"gridwidth\":2,\"linecolor\":\"white\",\"showbackground\":true,\"ticks\":\"\",\"zerolinecolor\":\"white\"},\"zaxis\":{\"backgroundcolor\":\"#E5ECF6\",\"gridcolor\":\"white\",\"gridwidth\":2,\"linecolor\":\"white\",\"showbackground\":true,\"ticks\":\"\",\"zerolinecolor\":\"white\"}},\"shapedefaults\":{\"line\":{\"color\":\"#2a3f5f\"}},\"ternary\":{\"aaxis\":{\"gridcolor\":\"white\",\"linecolor\":\"white\",\"ticks\":\"\"},\"baxis\":{\"gridcolor\":\"white\",\"linecolor\":\"white\",\"ticks\":\"\"},\"bgcolor\":\"#E5ECF6\",\"caxis\":{\"gridcolor\":\"white\",\"linecolor\":\"white\",\"ticks\":\"\"}},\"title\":{\"x\":0.05},\"xaxis\":{\"automargin\":true,\"gridcolor\":\"white\",\"linecolor\":\"white\",\"ticks\":\"\",\"title\":{\"standoff\":15},\"zerolinecolor\":\"white\",\"zerolinewidth\":2},\"yaxis\":{\"automargin\":true,\"gridcolor\":\"white\",\"linecolor\":\"white\",\"ticks\":\"\",\"title\":{\"standoff\":15},\"zerolinecolor\":\"white\",\"zerolinewidth\":2}}},\"title\":{\"text\":\"\\u0427\\u0438\\u0441\\u043b\\u043e \\u043f\\u043b\\u043e\\u043c\\u0431 \\u043d\\u0430 \\u043f\\u0440\\u0438\\u0435\\u043c\\u0435 \\u0432 2022 \\u0433\\u043e\\u0434\\u0443\"},\"xaxis\":{\"anchor\":\"y\",\"categoryorder\":\"total descending\",\"domain\":[0.0,1.0],\"title\":{\"text\":\"\\u0412\\u0440\\u0430\\u0447\"}},\"yaxis\":{\"anchor\":\"x\",\"domain\":[0.0,1.0],\"title\":{\"text\":\"FPV\"}}},                        {\"responsive\": true}                    ).then(function(){\n",
       "                            \n",
       "var gd = document.getElementById('e3eb463f-1904-4588-8764-8d022e5e9d21');\n",
       "var x = new MutationObserver(function (mutations, observer) {{\n",
       "        var display = window.getComputedStyle(gd).display;\n",
       "        if (!display || display === 'none') {{\n",
       "            console.log([gd, 'removed!']);\n",
       "            Plotly.purge(gd);\n",
       "            observer.disconnect();\n",
       "        }}\n",
       "}});\n",
       "\n",
       "// Listen for the removal of the full notebook cells\n",
       "var notebookContainer = gd.closest('#notebook-container');\n",
       "if (notebookContainer) {{\n",
       "    x.observe(notebookContainer, {childList: true});\n",
       "}}\n",
       "\n",
       "// Listen for the clearing of the current output cell\n",
       "var outputEl = gd.closest('.output');\n",
       "if (outputEl) {{\n",
       "    x.observe(outputEl, {childList: true});\n",
       "}}\n",
       "\n",
       "                        })                };                });            </script>        </div>"
      ]
     },
     "metadata": {},
     "output_type": "display_data"
    }
   ],
   "source": [
    "# Средний FPV по месяцам и врачу (цвет)\n",
    "\n",
    "px.bar(df_result_by_month.query('(FPV > 0) & (Врач != \"Коваленко Ольга Эдуардовна физио\")'), \n",
    "       x='Врач',\n",
    "       y='FPV',\n",
    "       color='Месяц',\n",
    "       barmode='group',\n",
    "       title=f\"Число пломб на приеме в {year} году\").update_xaxes(categoryorder='total descending')"
   ]
  },
  {
   "cell_type": "code",
   "execution_count": 228,
   "metadata": {},
   "outputs": [
    {
     "data": {
      "application/vnd.plotly.v1+json": {
       "config": {
        "plotlyServerURL": "https://plot.ly"
       },
       "data": [
        {
         "alignmentgroup": "True",
         "hovertemplate": "Врач=%{x}<br>DPV %=%{y}<extra></extra>",
         "legendgroup": "",
         "marker": {
          "color": "#636efa",
          "pattern": {
           "shape": ""
          }
         },
         "name": "",
         "offsetgroup": "",
         "orientation": "v",
         "showlegend": false,
         "textposition": "auto",
         "type": "bar",
         "x": [
          "Володин Павел Юрьевич",
          "Морошенкова Гульмира Абылкаковна",
          "Камынова Наталия Валериевна",
          "Кукушкина Лариса Рамзановна",
          "Лопаткина Алёна Сергеевна",
          "Николаева Надежда Григорьевна",
          "Гвоздева Татьяна Анатольевна",
          "Пузанова Лидия Сергеевна",
          "Ольховская Альбина Владимировна",
          "Максимец Ирина Ивановна",
          "Горбикова Эльфия Рашитовна",
          "Ковшов Александр Александрович",
          "Чижова Елена Владимировна",
          "Мкртчян Тарон Арсенович",
          "Захаров Иван Владимирович",
          "Власова Альфия Лябибовна",
          "Скалкович Инна Валерьевна",
          "Александрова Светлана Викторовна"
         ],
         "xaxis": "x",
         "y": [
          13.346613545816732,
          7.4074074074074066,
          7.264957264957266,
          7.095343680709535,
          7.051282051282051,
          6.985769728331177,
          5.56844547563805,
          5.088062622309197,
          4.770642201834862,
          4.356060606060606,
          4.143126177024483,
          4.13625304136253,
          3.816793893129771,
          3.7254901960784315,
          2.9661016949152543,
          1.8333333333333333,
          1.8018018018018018,
          0.8865248226950355
         ],
         "yaxis": "y"
        }
       ],
       "layout": {
        "barmode": "relative",
        "legend": {
         "tracegroupgap": 0
        },
        "template": {
         "data": {
          "bar": [
           {
            "error_x": {
             "color": "#2a3f5f"
            },
            "error_y": {
             "color": "#2a3f5f"
            },
            "marker": {
             "line": {
              "color": "#E5ECF6",
              "width": 0.5
             },
             "pattern": {
              "fillmode": "overlay",
              "size": 10,
              "solidity": 0.2
             }
            },
            "type": "bar"
           }
          ],
          "barpolar": [
           {
            "marker": {
             "line": {
              "color": "#E5ECF6",
              "width": 0.5
             },
             "pattern": {
              "fillmode": "overlay",
              "size": 10,
              "solidity": 0.2
             }
            },
            "type": "barpolar"
           }
          ],
          "carpet": [
           {
            "aaxis": {
             "endlinecolor": "#2a3f5f",
             "gridcolor": "white",
             "linecolor": "white",
             "minorgridcolor": "white",
             "startlinecolor": "#2a3f5f"
            },
            "baxis": {
             "endlinecolor": "#2a3f5f",
             "gridcolor": "white",
             "linecolor": "white",
             "minorgridcolor": "white",
             "startlinecolor": "#2a3f5f"
            },
            "type": "carpet"
           }
          ],
          "choropleth": [
           {
            "colorbar": {
             "outlinewidth": 0,
             "ticks": ""
            },
            "type": "choropleth"
           }
          ],
          "contour": [
           {
            "colorbar": {
             "outlinewidth": 0,
             "ticks": ""
            },
            "colorscale": [
             [
              0,
              "#0d0887"
             ],
             [
              0.1111111111111111,
              "#46039f"
             ],
             [
              0.2222222222222222,
              "#7201a8"
             ],
             [
              0.3333333333333333,
              "#9c179e"
             ],
             [
              0.4444444444444444,
              "#bd3786"
             ],
             [
              0.5555555555555556,
              "#d8576b"
             ],
             [
              0.6666666666666666,
              "#ed7953"
             ],
             [
              0.7777777777777778,
              "#fb9f3a"
             ],
             [
              0.8888888888888888,
              "#fdca26"
             ],
             [
              1,
              "#f0f921"
             ]
            ],
            "type": "contour"
           }
          ],
          "contourcarpet": [
           {
            "colorbar": {
             "outlinewidth": 0,
             "ticks": ""
            },
            "type": "contourcarpet"
           }
          ],
          "heatmap": [
           {
            "colorbar": {
             "outlinewidth": 0,
             "ticks": ""
            },
            "colorscale": [
             [
              0,
              "#0d0887"
             ],
             [
              0.1111111111111111,
              "#46039f"
             ],
             [
              0.2222222222222222,
              "#7201a8"
             ],
             [
              0.3333333333333333,
              "#9c179e"
             ],
             [
              0.4444444444444444,
              "#bd3786"
             ],
             [
              0.5555555555555556,
              "#d8576b"
             ],
             [
              0.6666666666666666,
              "#ed7953"
             ],
             [
              0.7777777777777778,
              "#fb9f3a"
             ],
             [
              0.8888888888888888,
              "#fdca26"
             ],
             [
              1,
              "#f0f921"
             ]
            ],
            "type": "heatmap"
           }
          ],
          "heatmapgl": [
           {
            "colorbar": {
             "outlinewidth": 0,
             "ticks": ""
            },
            "colorscale": [
             [
              0,
              "#0d0887"
             ],
             [
              0.1111111111111111,
              "#46039f"
             ],
             [
              0.2222222222222222,
              "#7201a8"
             ],
             [
              0.3333333333333333,
              "#9c179e"
             ],
             [
              0.4444444444444444,
              "#bd3786"
             ],
             [
              0.5555555555555556,
              "#d8576b"
             ],
             [
              0.6666666666666666,
              "#ed7953"
             ],
             [
              0.7777777777777778,
              "#fb9f3a"
             ],
             [
              0.8888888888888888,
              "#fdca26"
             ],
             [
              1,
              "#f0f921"
             ]
            ],
            "type": "heatmapgl"
           }
          ],
          "histogram": [
           {
            "marker": {
             "pattern": {
              "fillmode": "overlay",
              "size": 10,
              "solidity": 0.2
             }
            },
            "type": "histogram"
           }
          ],
          "histogram2d": [
           {
            "colorbar": {
             "outlinewidth": 0,
             "ticks": ""
            },
            "colorscale": [
             [
              0,
              "#0d0887"
             ],
             [
              0.1111111111111111,
              "#46039f"
             ],
             [
              0.2222222222222222,
              "#7201a8"
             ],
             [
              0.3333333333333333,
              "#9c179e"
             ],
             [
              0.4444444444444444,
              "#bd3786"
             ],
             [
              0.5555555555555556,
              "#d8576b"
             ],
             [
              0.6666666666666666,
              "#ed7953"
             ],
             [
              0.7777777777777778,
              "#fb9f3a"
             ],
             [
              0.8888888888888888,
              "#fdca26"
             ],
             [
              1,
              "#f0f921"
             ]
            ],
            "type": "histogram2d"
           }
          ],
          "histogram2dcontour": [
           {
            "colorbar": {
             "outlinewidth": 0,
             "ticks": ""
            },
            "colorscale": [
             [
              0,
              "#0d0887"
             ],
             [
              0.1111111111111111,
              "#46039f"
             ],
             [
              0.2222222222222222,
              "#7201a8"
             ],
             [
              0.3333333333333333,
              "#9c179e"
             ],
             [
              0.4444444444444444,
              "#bd3786"
             ],
             [
              0.5555555555555556,
              "#d8576b"
             ],
             [
              0.6666666666666666,
              "#ed7953"
             ],
             [
              0.7777777777777778,
              "#fb9f3a"
             ],
             [
              0.8888888888888888,
              "#fdca26"
             ],
             [
              1,
              "#f0f921"
             ]
            ],
            "type": "histogram2dcontour"
           }
          ],
          "mesh3d": [
           {
            "colorbar": {
             "outlinewidth": 0,
             "ticks": ""
            },
            "type": "mesh3d"
           }
          ],
          "parcoords": [
           {
            "line": {
             "colorbar": {
              "outlinewidth": 0,
              "ticks": ""
             }
            },
            "type": "parcoords"
           }
          ],
          "pie": [
           {
            "automargin": true,
            "type": "pie"
           }
          ],
          "scatter": [
           {
            "marker": {
             "colorbar": {
              "outlinewidth": 0,
              "ticks": ""
             }
            },
            "type": "scatter"
           }
          ],
          "scatter3d": [
           {
            "line": {
             "colorbar": {
              "outlinewidth": 0,
              "ticks": ""
             }
            },
            "marker": {
             "colorbar": {
              "outlinewidth": 0,
              "ticks": ""
             }
            },
            "type": "scatter3d"
           }
          ],
          "scattercarpet": [
           {
            "marker": {
             "colorbar": {
              "outlinewidth": 0,
              "ticks": ""
             }
            },
            "type": "scattercarpet"
           }
          ],
          "scattergeo": [
           {
            "marker": {
             "colorbar": {
              "outlinewidth": 0,
              "ticks": ""
             }
            },
            "type": "scattergeo"
           }
          ],
          "scattergl": [
           {
            "marker": {
             "colorbar": {
              "outlinewidth": 0,
              "ticks": ""
             }
            },
            "type": "scattergl"
           }
          ],
          "scattermapbox": [
           {
            "marker": {
             "colorbar": {
              "outlinewidth": 0,
              "ticks": ""
             }
            },
            "type": "scattermapbox"
           }
          ],
          "scatterpolar": [
           {
            "marker": {
             "colorbar": {
              "outlinewidth": 0,
              "ticks": ""
             }
            },
            "type": "scatterpolar"
           }
          ],
          "scatterpolargl": [
           {
            "marker": {
             "colorbar": {
              "outlinewidth": 0,
              "ticks": ""
             }
            },
            "type": "scatterpolargl"
           }
          ],
          "scatterternary": [
           {
            "marker": {
             "colorbar": {
              "outlinewidth": 0,
              "ticks": ""
             }
            },
            "type": "scatterternary"
           }
          ],
          "surface": [
           {
            "colorbar": {
             "outlinewidth": 0,
             "ticks": ""
            },
            "colorscale": [
             [
              0,
              "#0d0887"
             ],
             [
              0.1111111111111111,
              "#46039f"
             ],
             [
              0.2222222222222222,
              "#7201a8"
             ],
             [
              0.3333333333333333,
              "#9c179e"
             ],
             [
              0.4444444444444444,
              "#bd3786"
             ],
             [
              0.5555555555555556,
              "#d8576b"
             ],
             [
              0.6666666666666666,
              "#ed7953"
             ],
             [
              0.7777777777777778,
              "#fb9f3a"
             ],
             [
              0.8888888888888888,
              "#fdca26"
             ],
             [
              1,
              "#f0f921"
             ]
            ],
            "type": "surface"
           }
          ],
          "table": [
           {
            "cells": {
             "fill": {
              "color": "#EBF0F8"
             },
             "line": {
              "color": "white"
             }
            },
            "header": {
             "fill": {
              "color": "#C8D4E3"
             },
             "line": {
              "color": "white"
             }
            },
            "type": "table"
           }
          ]
         },
         "layout": {
          "annotationdefaults": {
           "arrowcolor": "#2a3f5f",
           "arrowhead": 0,
           "arrowwidth": 1
          },
          "autotypenumbers": "strict",
          "coloraxis": {
           "colorbar": {
            "outlinewidth": 0,
            "ticks": ""
           }
          },
          "colorscale": {
           "diverging": [
            [
             0,
             "#8e0152"
            ],
            [
             0.1,
             "#c51b7d"
            ],
            [
             0.2,
             "#de77ae"
            ],
            [
             0.3,
             "#f1b6da"
            ],
            [
             0.4,
             "#fde0ef"
            ],
            [
             0.5,
             "#f7f7f7"
            ],
            [
             0.6,
             "#e6f5d0"
            ],
            [
             0.7,
             "#b8e186"
            ],
            [
             0.8,
             "#7fbc41"
            ],
            [
             0.9,
             "#4d9221"
            ],
            [
             1,
             "#276419"
            ]
           ],
           "sequential": [
            [
             0,
             "#0d0887"
            ],
            [
             0.1111111111111111,
             "#46039f"
            ],
            [
             0.2222222222222222,
             "#7201a8"
            ],
            [
             0.3333333333333333,
             "#9c179e"
            ],
            [
             0.4444444444444444,
             "#bd3786"
            ],
            [
             0.5555555555555556,
             "#d8576b"
            ],
            [
             0.6666666666666666,
             "#ed7953"
            ],
            [
             0.7777777777777778,
             "#fb9f3a"
            ],
            [
             0.8888888888888888,
             "#fdca26"
            ],
            [
             1,
             "#f0f921"
            ]
           ],
           "sequentialminus": [
            [
             0,
             "#0d0887"
            ],
            [
             0.1111111111111111,
             "#46039f"
            ],
            [
             0.2222222222222222,
             "#7201a8"
            ],
            [
             0.3333333333333333,
             "#9c179e"
            ],
            [
             0.4444444444444444,
             "#bd3786"
            ],
            [
             0.5555555555555556,
             "#d8576b"
            ],
            [
             0.6666666666666666,
             "#ed7953"
            ],
            [
             0.7777777777777778,
             "#fb9f3a"
            ],
            [
             0.8888888888888888,
             "#fdca26"
            ],
            [
             1,
             "#f0f921"
            ]
           ]
          },
          "colorway": [
           "#636efa",
           "#EF553B",
           "#00cc96",
           "#ab63fa",
           "#FFA15A",
           "#19d3f3",
           "#FF6692",
           "#B6E880",
           "#FF97FF",
           "#FECB52"
          ],
          "font": {
           "color": "#2a3f5f"
          },
          "geo": {
           "bgcolor": "white",
           "lakecolor": "white",
           "landcolor": "#E5ECF6",
           "showlakes": true,
           "showland": true,
           "subunitcolor": "white"
          },
          "hoverlabel": {
           "align": "left"
          },
          "hovermode": "closest",
          "mapbox": {
           "style": "light"
          },
          "paper_bgcolor": "white",
          "plot_bgcolor": "#E5ECF6",
          "polar": {
           "angularaxis": {
            "gridcolor": "white",
            "linecolor": "white",
            "ticks": ""
           },
           "bgcolor": "#E5ECF6",
           "radialaxis": {
            "gridcolor": "white",
            "linecolor": "white",
            "ticks": ""
           }
          },
          "scene": {
           "xaxis": {
            "backgroundcolor": "#E5ECF6",
            "gridcolor": "white",
            "gridwidth": 2,
            "linecolor": "white",
            "showbackground": true,
            "ticks": "",
            "zerolinecolor": "white"
           },
           "yaxis": {
            "backgroundcolor": "#E5ECF6",
            "gridcolor": "white",
            "gridwidth": 2,
            "linecolor": "white",
            "showbackground": true,
            "ticks": "",
            "zerolinecolor": "white"
           },
           "zaxis": {
            "backgroundcolor": "#E5ECF6",
            "gridcolor": "white",
            "gridwidth": 2,
            "linecolor": "white",
            "showbackground": true,
            "ticks": "",
            "zerolinecolor": "white"
           }
          },
          "shapedefaults": {
           "line": {
            "color": "#2a3f5f"
           }
          },
          "ternary": {
           "aaxis": {
            "gridcolor": "white",
            "linecolor": "white",
            "ticks": ""
           },
           "baxis": {
            "gridcolor": "white",
            "linecolor": "white",
            "ticks": ""
           },
           "bgcolor": "#E5ECF6",
           "caxis": {
            "gridcolor": "white",
            "linecolor": "white",
            "ticks": ""
           }
          },
          "title": {
           "x": 0.05
          },
          "xaxis": {
           "automargin": true,
           "gridcolor": "white",
           "linecolor": "white",
           "ticks": "",
           "title": {
            "standoff": 15
           },
           "zerolinecolor": "white",
           "zerolinewidth": 2
          },
          "yaxis": {
           "automargin": true,
           "gridcolor": "white",
           "linecolor": "white",
           "ticks": "",
           "title": {
            "standoff": 15
           },
           "zerolinecolor": "white",
           "zerolinewidth": 2
          }
         }
        },
        "title": {
         "text": "Процент приемов с мышьяком в 2022 году"
        },
        "xaxis": {
         "anchor": "y",
         "domain": [
          0,
          1
         ],
         "title": {
          "text": "Врач"
         }
        },
        "yaxis": {
         "anchor": "x",
         "domain": [
          0,
          1
         ],
         "title": {
          "text": "DPV %"
         }
        }
       }
      },
      "text/html": [
       "<div>                            <div id=\"ffafc9ef-d0cd-46a4-970b-5c0f893e186d\" class=\"plotly-graph-div\" style=\"height:525px; width:100%;\"></div>            <script type=\"text/javascript\">                require([\"plotly\"], function(Plotly) {                    window.PLOTLYENV=window.PLOTLYENV || {};                                    if (document.getElementById(\"ffafc9ef-d0cd-46a4-970b-5c0f893e186d\")) {                    Plotly.newPlot(                        \"ffafc9ef-d0cd-46a4-970b-5c0f893e186d\",                        [{\"alignmentgroup\":\"True\",\"hovertemplate\":\"\\u0412\\u0440\\u0430\\u0447=%{x}<br>DPV %=%{y}<extra></extra>\",\"legendgroup\":\"\",\"marker\":{\"color\":\"#636efa\",\"pattern\":{\"shape\":\"\"}},\"name\":\"\",\"offsetgroup\":\"\",\"orientation\":\"v\",\"showlegend\":false,\"textposition\":\"auto\",\"type\":\"bar\",\"x\":[\"\\u0412\\u043e\\u043b\\u043e\\u0434\\u0438\\u043d \\u041f\\u0430\\u0432\\u0435\\u043b \\u042e\\u0440\\u044c\\u0435\\u0432\\u0438\\u0447\",\"\\u041c\\u043e\\u0440\\u043e\\u0448\\u0435\\u043d\\u043a\\u043e\\u0432\\u0430 \\u0413\\u0443\\u043b\\u044c\\u043c\\u0438\\u0440\\u0430 \\u0410\\u0431\\u044b\\u043b\\u043a\\u0430\\u043a\\u043e\\u0432\\u043d\\u0430\",\"\\u041a\\u0430\\u043c\\u044b\\u043d\\u043e\\u0432\\u0430 \\u041d\\u0430\\u0442\\u0430\\u043b\\u0438\\u044f \\u0412\\u0430\\u043b\\u0435\\u0440\\u0438\\u0435\\u0432\\u043d\\u0430\",\"\\u041a\\u0443\\u043a\\u0443\\u0448\\u043a\\u0438\\u043d\\u0430 \\u041b\\u0430\\u0440\\u0438\\u0441\\u0430 \\u0420\\u0430\\u043c\\u0437\\u0430\\u043d\\u043e\\u0432\\u043d\\u0430\",\"\\u041b\\u043e\\u043f\\u0430\\u0442\\u043a\\u0438\\u043d\\u0430 \\u0410\\u043b\\u0451\\u043d\\u0430 \\u0421\\u0435\\u0440\\u0433\\u0435\\u0435\\u0432\\u043d\\u0430\",\"\\u041d\\u0438\\u043a\\u043e\\u043b\\u0430\\u0435\\u0432\\u0430 \\u041d\\u0430\\u0434\\u0435\\u0436\\u0434\\u0430 \\u0413\\u0440\\u0438\\u0433\\u043e\\u0440\\u044c\\u0435\\u0432\\u043d\\u0430\",\"\\u0413\\u0432\\u043e\\u0437\\u0434\\u0435\\u0432\\u0430 \\u0422\\u0430\\u0442\\u044c\\u044f\\u043d\\u0430 \\u0410\\u043d\\u0430\\u0442\\u043e\\u043b\\u044c\\u0435\\u0432\\u043d\\u0430\",\"\\u041f\\u0443\\u0437\\u0430\\u043d\\u043e\\u0432\\u0430 \\u041b\\u0438\\u0434\\u0438\\u044f \\u0421\\u0435\\u0440\\u0433\\u0435\\u0435\\u0432\\u043d\\u0430\",\"\\u041e\\u043b\\u044c\\u0445\\u043e\\u0432\\u0441\\u043a\\u0430\\u044f \\u0410\\u043b\\u044c\\u0431\\u0438\\u043d\\u0430 \\u0412\\u043b\\u0430\\u0434\\u0438\\u043c\\u0438\\u0440\\u043e\\u0432\\u043d\\u0430\",\"\\u041c\\u0430\\u043a\\u0441\\u0438\\u043c\\u0435\\u0446 \\u0418\\u0440\\u0438\\u043d\\u0430 \\u0418\\u0432\\u0430\\u043d\\u043e\\u0432\\u043d\\u0430\",\"\\u0413\\u043e\\u0440\\u0431\\u0438\\u043a\\u043e\\u0432\\u0430 \\u042d\\u043b\\u044c\\u0444\\u0438\\u044f \\u0420\\u0430\\u0448\\u0438\\u0442\\u043e\\u0432\\u043d\\u0430\",\"\\u041a\\u043e\\u0432\\u0448\\u043e\\u0432 \\u0410\\u043b\\u0435\\u043a\\u0441\\u0430\\u043d\\u0434\\u0440 \\u0410\\u043b\\u0435\\u043a\\u0441\\u0430\\u043d\\u0434\\u0440\\u043e\\u0432\\u0438\\u0447\",\"\\u0427\\u0438\\u0436\\u043e\\u0432\\u0430 \\u0415\\u043b\\u0435\\u043d\\u0430 \\u0412\\u043b\\u0430\\u0434\\u0438\\u043c\\u0438\\u0440\\u043e\\u0432\\u043d\\u0430\",\"\\u041c\\u043a\\u0440\\u0442\\u0447\\u044f\\u043d \\u0422\\u0430\\u0440\\u043e\\u043d \\u0410\\u0440\\u0441\\u0435\\u043d\\u043e\\u0432\\u0438\\u0447\",\"\\u0417\\u0430\\u0445\\u0430\\u0440\\u043e\\u0432 \\u0418\\u0432\\u0430\\u043d \\u0412\\u043b\\u0430\\u0434\\u0438\\u043c\\u0438\\u0440\\u043e\\u0432\\u0438\\u0447\",\"\\u0412\\u043b\\u0430\\u0441\\u043e\\u0432\\u0430 \\u0410\\u043b\\u044c\\u0444\\u0438\\u044f \\u041b\\u044f\\u0431\\u0438\\u0431\\u043e\\u0432\\u043d\\u0430\",\"\\u0421\\u043a\\u0430\\u043b\\u043a\\u043e\\u0432\\u0438\\u0447 \\u0418\\u043d\\u043d\\u0430 \\u0412\\u0430\\u043b\\u0435\\u0440\\u044c\\u0435\\u0432\\u043d\\u0430\",\"\\u0410\\u043b\\u0435\\u043a\\u0441\\u0430\\u043d\\u0434\\u0440\\u043e\\u0432\\u0430 \\u0421\\u0432\\u0435\\u0442\\u043b\\u0430\\u043d\\u0430 \\u0412\\u0438\\u043a\\u0442\\u043e\\u0440\\u043e\\u0432\\u043d\\u0430\"],\"xaxis\":\"x\",\"y\":[13.346613545816732,7.4074074074074066,7.264957264957266,7.095343680709535,7.051282051282051,6.985769728331177,5.56844547563805,5.088062622309197,4.770642201834862,4.356060606060606,4.143126177024483,4.13625304136253,3.816793893129771,3.7254901960784315,2.9661016949152543,1.8333333333333333,1.8018018018018018,0.8865248226950355],\"yaxis\":\"y\"}],                        {\"barmode\":\"relative\",\"legend\":{\"tracegroupgap\":0},\"template\":{\"data\":{\"bar\":[{\"error_x\":{\"color\":\"#2a3f5f\"},\"error_y\":{\"color\":\"#2a3f5f\"},\"marker\":{\"line\":{\"color\":\"#E5ECF6\",\"width\":0.5},\"pattern\":{\"fillmode\":\"overlay\",\"size\":10,\"solidity\":0.2}},\"type\":\"bar\"}],\"barpolar\":[{\"marker\":{\"line\":{\"color\":\"#E5ECF6\",\"width\":0.5},\"pattern\":{\"fillmode\":\"overlay\",\"size\":10,\"solidity\":0.2}},\"type\":\"barpolar\"}],\"carpet\":[{\"aaxis\":{\"endlinecolor\":\"#2a3f5f\",\"gridcolor\":\"white\",\"linecolor\":\"white\",\"minorgridcolor\":\"white\",\"startlinecolor\":\"#2a3f5f\"},\"baxis\":{\"endlinecolor\":\"#2a3f5f\",\"gridcolor\":\"white\",\"linecolor\":\"white\",\"minorgridcolor\":\"white\",\"startlinecolor\":\"#2a3f5f\"},\"type\":\"carpet\"}],\"choropleth\":[{\"colorbar\":{\"outlinewidth\":0,\"ticks\":\"\"},\"type\":\"choropleth\"}],\"contour\":[{\"colorbar\":{\"outlinewidth\":0,\"ticks\":\"\"},\"colorscale\":[[0.0,\"#0d0887\"],[0.1111111111111111,\"#46039f\"],[0.2222222222222222,\"#7201a8\"],[0.3333333333333333,\"#9c179e\"],[0.4444444444444444,\"#bd3786\"],[0.5555555555555556,\"#d8576b\"],[0.6666666666666666,\"#ed7953\"],[0.7777777777777778,\"#fb9f3a\"],[0.8888888888888888,\"#fdca26\"],[1.0,\"#f0f921\"]],\"type\":\"contour\"}],\"contourcarpet\":[{\"colorbar\":{\"outlinewidth\":0,\"ticks\":\"\"},\"type\":\"contourcarpet\"}],\"heatmap\":[{\"colorbar\":{\"outlinewidth\":0,\"ticks\":\"\"},\"colorscale\":[[0.0,\"#0d0887\"],[0.1111111111111111,\"#46039f\"],[0.2222222222222222,\"#7201a8\"],[0.3333333333333333,\"#9c179e\"],[0.4444444444444444,\"#bd3786\"],[0.5555555555555556,\"#d8576b\"],[0.6666666666666666,\"#ed7953\"],[0.7777777777777778,\"#fb9f3a\"],[0.8888888888888888,\"#fdca26\"],[1.0,\"#f0f921\"]],\"type\":\"heatmap\"}],\"heatmapgl\":[{\"colorbar\":{\"outlinewidth\":0,\"ticks\":\"\"},\"colorscale\":[[0.0,\"#0d0887\"],[0.1111111111111111,\"#46039f\"],[0.2222222222222222,\"#7201a8\"],[0.3333333333333333,\"#9c179e\"],[0.4444444444444444,\"#bd3786\"],[0.5555555555555556,\"#d8576b\"],[0.6666666666666666,\"#ed7953\"],[0.7777777777777778,\"#fb9f3a\"],[0.8888888888888888,\"#fdca26\"],[1.0,\"#f0f921\"]],\"type\":\"heatmapgl\"}],\"histogram\":[{\"marker\":{\"pattern\":{\"fillmode\":\"overlay\",\"size\":10,\"solidity\":0.2}},\"type\":\"histogram\"}],\"histogram2d\":[{\"colorbar\":{\"outlinewidth\":0,\"ticks\":\"\"},\"colorscale\":[[0.0,\"#0d0887\"],[0.1111111111111111,\"#46039f\"],[0.2222222222222222,\"#7201a8\"],[0.3333333333333333,\"#9c179e\"],[0.4444444444444444,\"#bd3786\"],[0.5555555555555556,\"#d8576b\"],[0.6666666666666666,\"#ed7953\"],[0.7777777777777778,\"#fb9f3a\"],[0.8888888888888888,\"#fdca26\"],[1.0,\"#f0f921\"]],\"type\":\"histogram2d\"}],\"histogram2dcontour\":[{\"colorbar\":{\"outlinewidth\":0,\"ticks\":\"\"},\"colorscale\":[[0.0,\"#0d0887\"],[0.1111111111111111,\"#46039f\"],[0.2222222222222222,\"#7201a8\"],[0.3333333333333333,\"#9c179e\"],[0.4444444444444444,\"#bd3786\"],[0.5555555555555556,\"#d8576b\"],[0.6666666666666666,\"#ed7953\"],[0.7777777777777778,\"#fb9f3a\"],[0.8888888888888888,\"#fdca26\"],[1.0,\"#f0f921\"]],\"type\":\"histogram2dcontour\"}],\"mesh3d\":[{\"colorbar\":{\"outlinewidth\":0,\"ticks\":\"\"},\"type\":\"mesh3d\"}],\"parcoords\":[{\"line\":{\"colorbar\":{\"outlinewidth\":0,\"ticks\":\"\"}},\"type\":\"parcoords\"}],\"pie\":[{\"automargin\":true,\"type\":\"pie\"}],\"scatter\":[{\"marker\":{\"colorbar\":{\"outlinewidth\":0,\"ticks\":\"\"}},\"type\":\"scatter\"}],\"scatter3d\":[{\"line\":{\"colorbar\":{\"outlinewidth\":0,\"ticks\":\"\"}},\"marker\":{\"colorbar\":{\"outlinewidth\":0,\"ticks\":\"\"}},\"type\":\"scatter3d\"}],\"scattercarpet\":[{\"marker\":{\"colorbar\":{\"outlinewidth\":0,\"ticks\":\"\"}},\"type\":\"scattercarpet\"}],\"scattergeo\":[{\"marker\":{\"colorbar\":{\"outlinewidth\":0,\"ticks\":\"\"}},\"type\":\"scattergeo\"}],\"scattergl\":[{\"marker\":{\"colorbar\":{\"outlinewidth\":0,\"ticks\":\"\"}},\"type\":\"scattergl\"}],\"scattermapbox\":[{\"marker\":{\"colorbar\":{\"outlinewidth\":0,\"ticks\":\"\"}},\"type\":\"scattermapbox\"}],\"scatterpolar\":[{\"marker\":{\"colorbar\":{\"outlinewidth\":0,\"ticks\":\"\"}},\"type\":\"scatterpolar\"}],\"scatterpolargl\":[{\"marker\":{\"colorbar\":{\"outlinewidth\":0,\"ticks\":\"\"}},\"type\":\"scatterpolargl\"}],\"scatterternary\":[{\"marker\":{\"colorbar\":{\"outlinewidth\":0,\"ticks\":\"\"}},\"type\":\"scatterternary\"}],\"surface\":[{\"colorbar\":{\"outlinewidth\":0,\"ticks\":\"\"},\"colorscale\":[[0.0,\"#0d0887\"],[0.1111111111111111,\"#46039f\"],[0.2222222222222222,\"#7201a8\"],[0.3333333333333333,\"#9c179e\"],[0.4444444444444444,\"#bd3786\"],[0.5555555555555556,\"#d8576b\"],[0.6666666666666666,\"#ed7953\"],[0.7777777777777778,\"#fb9f3a\"],[0.8888888888888888,\"#fdca26\"],[1.0,\"#f0f921\"]],\"type\":\"surface\"}],\"table\":[{\"cells\":{\"fill\":{\"color\":\"#EBF0F8\"},\"line\":{\"color\":\"white\"}},\"header\":{\"fill\":{\"color\":\"#C8D4E3\"},\"line\":{\"color\":\"white\"}},\"type\":\"table\"}]},\"layout\":{\"annotationdefaults\":{\"arrowcolor\":\"#2a3f5f\",\"arrowhead\":0,\"arrowwidth\":1},\"autotypenumbers\":\"strict\",\"coloraxis\":{\"colorbar\":{\"outlinewidth\":0,\"ticks\":\"\"}},\"colorscale\":{\"diverging\":[[0,\"#8e0152\"],[0.1,\"#c51b7d\"],[0.2,\"#de77ae\"],[0.3,\"#f1b6da\"],[0.4,\"#fde0ef\"],[0.5,\"#f7f7f7\"],[0.6,\"#e6f5d0\"],[0.7,\"#b8e186\"],[0.8,\"#7fbc41\"],[0.9,\"#4d9221\"],[1,\"#276419\"]],\"sequential\":[[0.0,\"#0d0887\"],[0.1111111111111111,\"#46039f\"],[0.2222222222222222,\"#7201a8\"],[0.3333333333333333,\"#9c179e\"],[0.4444444444444444,\"#bd3786\"],[0.5555555555555556,\"#d8576b\"],[0.6666666666666666,\"#ed7953\"],[0.7777777777777778,\"#fb9f3a\"],[0.8888888888888888,\"#fdca26\"],[1.0,\"#f0f921\"]],\"sequentialminus\":[[0.0,\"#0d0887\"],[0.1111111111111111,\"#46039f\"],[0.2222222222222222,\"#7201a8\"],[0.3333333333333333,\"#9c179e\"],[0.4444444444444444,\"#bd3786\"],[0.5555555555555556,\"#d8576b\"],[0.6666666666666666,\"#ed7953\"],[0.7777777777777778,\"#fb9f3a\"],[0.8888888888888888,\"#fdca26\"],[1.0,\"#f0f921\"]]},\"colorway\":[\"#636efa\",\"#EF553B\",\"#00cc96\",\"#ab63fa\",\"#FFA15A\",\"#19d3f3\",\"#FF6692\",\"#B6E880\",\"#FF97FF\",\"#FECB52\"],\"font\":{\"color\":\"#2a3f5f\"},\"geo\":{\"bgcolor\":\"white\",\"lakecolor\":\"white\",\"landcolor\":\"#E5ECF6\",\"showlakes\":true,\"showland\":true,\"subunitcolor\":\"white\"},\"hoverlabel\":{\"align\":\"left\"},\"hovermode\":\"closest\",\"mapbox\":{\"style\":\"light\"},\"paper_bgcolor\":\"white\",\"plot_bgcolor\":\"#E5ECF6\",\"polar\":{\"angularaxis\":{\"gridcolor\":\"white\",\"linecolor\":\"white\",\"ticks\":\"\"},\"bgcolor\":\"#E5ECF6\",\"radialaxis\":{\"gridcolor\":\"white\",\"linecolor\":\"white\",\"ticks\":\"\"}},\"scene\":{\"xaxis\":{\"backgroundcolor\":\"#E5ECF6\",\"gridcolor\":\"white\",\"gridwidth\":2,\"linecolor\":\"white\",\"showbackground\":true,\"ticks\":\"\",\"zerolinecolor\":\"white\"},\"yaxis\":{\"backgroundcolor\":\"#E5ECF6\",\"gridcolor\":\"white\",\"gridwidth\":2,\"linecolor\":\"white\",\"showbackground\":true,\"ticks\":\"\",\"zerolinecolor\":\"white\"},\"zaxis\":{\"backgroundcolor\":\"#E5ECF6\",\"gridcolor\":\"white\",\"gridwidth\":2,\"linecolor\":\"white\",\"showbackground\":true,\"ticks\":\"\",\"zerolinecolor\":\"white\"}},\"shapedefaults\":{\"line\":{\"color\":\"#2a3f5f\"}},\"ternary\":{\"aaxis\":{\"gridcolor\":\"white\",\"linecolor\":\"white\",\"ticks\":\"\"},\"baxis\":{\"gridcolor\":\"white\",\"linecolor\":\"white\",\"ticks\":\"\"},\"bgcolor\":\"#E5ECF6\",\"caxis\":{\"gridcolor\":\"white\",\"linecolor\":\"white\",\"ticks\":\"\"}},\"title\":{\"x\":0.05},\"xaxis\":{\"automargin\":true,\"gridcolor\":\"white\",\"linecolor\":\"white\",\"ticks\":\"\",\"title\":{\"standoff\":15},\"zerolinecolor\":\"white\",\"zerolinewidth\":2},\"yaxis\":{\"automargin\":true,\"gridcolor\":\"white\",\"linecolor\":\"white\",\"ticks\":\"\",\"title\":{\"standoff\":15},\"zerolinecolor\":\"white\",\"zerolinewidth\":2}}},\"title\":{\"text\":\"\\u041f\\u0440\\u043e\\u0446\\u0435\\u043d\\u0442 \\u043f\\u0440\\u0438\\u0435\\u043c\\u043e\\u0432 \\u0441 \\u043c\\u044b\\u0448\\u044c\\u044f\\u043a\\u043e\\u043c \\u0432 2022 \\u0433\\u043e\\u0434\\u0443\"},\"xaxis\":{\"anchor\":\"y\",\"domain\":[0.0,1.0],\"title\":{\"text\":\"\\u0412\\u0440\\u0430\\u0447\"}},\"yaxis\":{\"anchor\":\"x\",\"domain\":[0.0,1.0],\"title\":{\"text\":\"DPV %\"}}},                        {\"responsive\": true}                    ).then(function(){\n",
       "                            \n",
       "var gd = document.getElementById('ffafc9ef-d0cd-46a4-970b-5c0f893e186d');\n",
       "var x = new MutationObserver(function (mutations, observer) {{\n",
       "        var display = window.getComputedStyle(gd).display;\n",
       "        if (!display || display === 'none') {{\n",
       "            console.log([gd, 'removed!']);\n",
       "            Plotly.purge(gd);\n",
       "            observer.disconnect();\n",
       "        }}\n",
       "}});\n",
       "\n",
       "// Listen for the removal of the full notebook cells\n",
       "var notebookContainer = gd.closest('#notebook-container');\n",
       "if (notebookContainer) {{\n",
       "    x.observe(notebookContainer, {childList: true});\n",
       "}}\n",
       "\n",
       "// Listen for the clearing of the current output cell\n",
       "var outputEl = gd.closest('.output');\n",
       "if (outputEl) {{\n",
       "    x.observe(outputEl, {childList: true});\n",
       "}}\n",
       "\n",
       "                        })                };                });            </script>        </div>"
      ]
     },
     "metadata": {},
     "output_type": "display_data"
    }
   ],
   "source": [
    "# Средний DPV за год по врачу\n",
    "\n",
    "px.bar(df_result.query('DPV > 0').sort_values('DPV', ascending=False), \n",
    "       x='Врач',\n",
    "       y='DPV %',\n",
    "       title=f\"Процент приемов с мышьяком в {year} году\")"
   ]
  },
  {
   "cell_type": "code",
   "execution_count": 229,
   "metadata": {},
   "outputs": [
    {
     "data": {
      "application/vnd.plotly.v1+json": {
       "config": {
        "plotlyServerURL": "https://plot.ly"
       },
       "data": [
        {
         "alignmentgroup": "True",
         "hovertemplate": "Месяц=0122<br>Врач=%{x}<br>DPV %=%{y}<extra></extra>",
         "legendgroup": "0122",
         "marker": {
          "color": "rgb(100.0, 100.0, 100.0)",
          "pattern": {
           "shape": ""
          }
         },
         "name": "0122",
         "offsetgroup": "0122",
         "orientation": "v",
         "showlegend": true,
         "textposition": "auto",
         "type": "bar",
         "x": [
          "Александрова Светлана Викторовна",
          "Власова Альфия Лябибовна",
          "Володин Павел Юрьевич",
          "Гвоздева Татьяна Анатольевна",
          "Горбикова Эльфия Рашитовна",
          "Захаров Иван Владимирович",
          "Камынова Наталия Валериевна",
          "Ковшов Александр Александрович",
          "Кукушкина Лариса Рамзановна",
          "Лопаткина Алёна Сергеевна",
          "Максимец Ирина Ивановна",
          "Мкртчян Тарон Арсенович",
          "Морошенкова Гульмира Абылкаковна",
          "Николаева Надежда Григорьевна",
          "Ольховская Альбина Владимировна",
          "Пузанова Лидия Сергеевна",
          "Чижова Елена Владимировна"
         ],
         "xaxis": "x",
         "y": [
          0.8403361344537815,
          3.7593984962406015,
          17.894736842105264,
          5.5045871559633035,
          2.479338842975207,
          1.7543859649122806,
          5.769230769230769,
          5.1020408163265305,
          18.181818181818183,
          5.194805194805195,
          1.8018018018018018,
          1.5625,
          4.054054054054054,
          8.695652173913043,
          4.23728813559322,
          3.75,
          3.8095238095238098
         ],
         "yaxis": "y"
        },
        {
         "alignmentgroup": "True",
         "hovertemplate": "Месяц=0322<br>Врач=%{x}<br>DPV %=%{y}<extra></extra>",
         "legendgroup": "0322",
         "marker": {
          "color": "rgb(131.0, 131.0, 131.0)",
          "pattern": {
           "shape": ""
          }
         },
         "name": "0322",
         "offsetgroup": "0322",
         "orientation": "v",
         "showlegend": true,
         "textposition": "auto",
         "type": "bar",
         "x": [
          "Александрова Светлана Викторовна",
          "Власова Альфия Лябибовна",
          "Володин Павел Юрьевич",
          "Гвоздева Татьяна Анатольевна",
          "Горбикова Эльфия Рашитовна",
          "Захаров Иван Владимирович",
          "Камынова Наталия Валериевна",
          "Ковшов Александр Александрович",
          "Кукушкина Лариса Рамзановна",
          "Лопаткина Алёна Сергеевна",
          "Максимец Ирина Ивановна",
          "Мкртчян Тарон Арсенович",
          "Морошенкова Гульмира Абылкаковна",
          "Николаева Надежда Григорьевна",
          "Ольховская Альбина Владимировна",
          "Пузанова Лидия Сергеевна",
          "Чижова Елена Владимировна"
         ],
         "xaxis": "x",
         "y": [
          0.5780346820809248,
          2.142857142857143,
          9.166666666666666,
          6.535947712418301,
          4.666666666666667,
          2.5316455696202533,
          6.976744186046512,
          4.301075268817205,
          7.894736842105263,
          7.526881720430108,
          3.2467532467532463,
          2.5316455696202533,
          7.246376811594203,
          7.009345794392523,
          3.289473684210526,
          5.6000000000000005,
          4.929577464788732
         ],
         "yaxis": "y"
        },
        {
         "alignmentgroup": "True",
         "hovertemplate": "Месяц=0522<br>Врач=%{x}<br>DPV %=%{y}<extra></extra>",
         "legendgroup": "0522",
         "marker": {
          "color": "rgb(162.0, 162.0, 162.0)",
          "pattern": {
           "shape": ""
          }
         },
         "name": "0522",
         "offsetgroup": "0522",
         "orientation": "v",
         "showlegend": true,
         "textposition": "auto",
         "type": "bar",
         "x": [
          "Александрова Светлана Викторовна",
          "Власова Альфия Лябибовна",
          "Володин Павел Юрьевич",
          "Горбикова Эльфия Рашитовна",
          "Захаров Иван Владимирович",
          "Камынова Наталия Валериевна",
          "Кукушкина Лариса Рамзановна",
          "Лопаткина Алёна Сергеевна",
          "Максимец Ирина Ивановна",
          "Мкртчян Тарон Арсенович",
          "Морошенкова Гульмира Абылкаковна",
          "Николаева Надежда Григорьевна",
          "Ольховская Альбина Владимировна",
          "Пузанова Лидия Сергеевна",
          "Скалкович Инна Валерьевна",
          "Чижова Елена Владимировна"
         ],
         "xaxis": "x",
         "y": [
          4.838709677419355,
          3.3333333333333335,
          18.181818181818183,
          5.555555555555555,
          2.3255813953488373,
          6.976744186046512,
          3.278688524590164,
          1.8518518518518516,
          16,
          1.7543859649122806,
          4.3478260869565215,
          7.526881720430108,
          5.88235294117647,
          5.555555555555555,
          8.333333333333332,
          5.555555555555555
         ],
         "yaxis": "y"
        },
        {
         "alignmentgroup": "True",
         "hovertemplate": "Месяц=0422<br>Врач=%{x}<br>DPV %=%{y}<extra></extra>",
         "legendgroup": "0422",
         "marker": {
          "color": "rgb(193.0, 193.0, 193.0)",
          "pattern": {
           "shape": ""
          }
         },
         "name": "0422",
         "offsetgroup": "0422",
         "orientation": "v",
         "showlegend": true,
         "textposition": "auto",
         "type": "bar",
         "x": [
          "Власова Альфия Лябибовна",
          "Володин Павел Юрьевич",
          "Гвоздева Татьяна Анатольевна",
          "Горбикова Эльфия Рашитовна",
          "Захаров Иван Владимирович",
          "Камынова Наталия Валериевна",
          "Ковшов Александр Александрович",
          "Кукушкина Лариса Рамзановна",
          "Лопаткина Алёна Сергеевна",
          "Максимец Ирина Ивановна",
          "Мкртчян Тарон Арсенович",
          "Морошенкова Гульмира Абылкаковна",
          "Николаева Надежда Григорьевна",
          "Ольховская Альбина Владимировна",
          "Пузанова Лидия Сергеевна",
          "Скалкович Инна Валерьевна",
          "Чижова Елена Владимировна"
         ],
         "xaxis": "x",
         "y": [
          0.5076142131979695,
          12.666666666666668,
          4.819277108433735,
          6.41025641025641,
          5.161290322580645,
          8.333333333333332,
          3.361344537815126,
          6.875000000000001,
          9.933774834437086,
          4.3478260869565215,
          8.280254777070063,
          7.18562874251497,
          6.222222222222222,
          8.045977011494253,
          7.086614173228346,
          6.25,
          3.8095238095238098
         ],
         "yaxis": "y"
        },
        {
         "alignmentgroup": "True",
         "hovertemplate": "Месяц=0222<br>Врач=%{x}<br>DPV %=%{y}<extra></extra>",
         "legendgroup": "0222",
         "marker": {
          "color": "rgb(224.0, 224.0, 224.0)",
          "pattern": {
           "shape": ""
          }
         },
         "name": "0222",
         "offsetgroup": "0222",
         "orientation": "v",
         "showlegend": true,
         "textposition": "auto",
         "type": "bar",
         "x": [
          "Володин Павел Юрьевич",
          "Гвоздева Татьяна Анатольевна",
          "Горбикова Эльфия Рашитовна",
          "Камынова Наталия Валериевна",
          "Ковшов Александр Александрович",
          "Кукушкина Лариса Рамзановна",
          "Лопаткина Алёна Сергеевна",
          "Максимец Ирина Ивановна",
          "Морошенкова Гульмира Абылкаковна",
          "Николаева Надежда Григорьевна",
          "Ольховская Альбина Владимировна",
          "Пузанова Лидия Сергеевна",
          "Чижова Елена Владимировна"
         ],
         "xaxis": "x",
         "y": [
          13.91304347826087,
          4.651162790697675,
          3.125,
          7.6923076923076925,
          5.194805194805195,
          4.819277108433735,
          6.451612903225806,
          5.47945205479452,
          10.81081081081081,
          6.7114093959731544,
          4.37956204379562,
          3.2,
          1.694915254237288
         ],
         "yaxis": "y"
        }
       ],
       "layout": {
        "barmode": "group",
        "legend": {
         "title": {
          "text": "Месяц"
         },
         "tracegroupgap": 0
        },
        "plot_bgcolor": "rgb(255,255,255)",
        "template": {
         "data": {
          "bar": [
           {
            "error_x": {
             "color": "#2a3f5f"
            },
            "error_y": {
             "color": "#2a3f5f"
            },
            "marker": {
             "line": {
              "color": "#E5ECF6",
              "width": 0.5
             },
             "pattern": {
              "fillmode": "overlay",
              "size": 10,
              "solidity": 0.2
             }
            },
            "type": "bar"
           }
          ],
          "barpolar": [
           {
            "marker": {
             "line": {
              "color": "#E5ECF6",
              "width": 0.5
             },
             "pattern": {
              "fillmode": "overlay",
              "size": 10,
              "solidity": 0.2
             }
            },
            "type": "barpolar"
           }
          ],
          "carpet": [
           {
            "aaxis": {
             "endlinecolor": "#2a3f5f",
             "gridcolor": "white",
             "linecolor": "white",
             "minorgridcolor": "white",
             "startlinecolor": "#2a3f5f"
            },
            "baxis": {
             "endlinecolor": "#2a3f5f",
             "gridcolor": "white",
             "linecolor": "white",
             "minorgridcolor": "white",
             "startlinecolor": "#2a3f5f"
            },
            "type": "carpet"
           }
          ],
          "choropleth": [
           {
            "colorbar": {
             "outlinewidth": 0,
             "ticks": ""
            },
            "type": "choropleth"
           }
          ],
          "contour": [
           {
            "colorbar": {
             "outlinewidth": 0,
             "ticks": ""
            },
            "colorscale": [
             [
              0,
              "#0d0887"
             ],
             [
              0.1111111111111111,
              "#46039f"
             ],
             [
              0.2222222222222222,
              "#7201a8"
             ],
             [
              0.3333333333333333,
              "#9c179e"
             ],
             [
              0.4444444444444444,
              "#bd3786"
             ],
             [
              0.5555555555555556,
              "#d8576b"
             ],
             [
              0.6666666666666666,
              "#ed7953"
             ],
             [
              0.7777777777777778,
              "#fb9f3a"
             ],
             [
              0.8888888888888888,
              "#fdca26"
             ],
             [
              1,
              "#f0f921"
             ]
            ],
            "type": "contour"
           }
          ],
          "contourcarpet": [
           {
            "colorbar": {
             "outlinewidth": 0,
             "ticks": ""
            },
            "type": "contourcarpet"
           }
          ],
          "heatmap": [
           {
            "colorbar": {
             "outlinewidth": 0,
             "ticks": ""
            },
            "colorscale": [
             [
              0,
              "#0d0887"
             ],
             [
              0.1111111111111111,
              "#46039f"
             ],
             [
              0.2222222222222222,
              "#7201a8"
             ],
             [
              0.3333333333333333,
              "#9c179e"
             ],
             [
              0.4444444444444444,
              "#bd3786"
             ],
             [
              0.5555555555555556,
              "#d8576b"
             ],
             [
              0.6666666666666666,
              "#ed7953"
             ],
             [
              0.7777777777777778,
              "#fb9f3a"
             ],
             [
              0.8888888888888888,
              "#fdca26"
             ],
             [
              1,
              "#f0f921"
             ]
            ],
            "type": "heatmap"
           }
          ],
          "heatmapgl": [
           {
            "colorbar": {
             "outlinewidth": 0,
             "ticks": ""
            },
            "colorscale": [
             [
              0,
              "#0d0887"
             ],
             [
              0.1111111111111111,
              "#46039f"
             ],
             [
              0.2222222222222222,
              "#7201a8"
             ],
             [
              0.3333333333333333,
              "#9c179e"
             ],
             [
              0.4444444444444444,
              "#bd3786"
             ],
             [
              0.5555555555555556,
              "#d8576b"
             ],
             [
              0.6666666666666666,
              "#ed7953"
             ],
             [
              0.7777777777777778,
              "#fb9f3a"
             ],
             [
              0.8888888888888888,
              "#fdca26"
             ],
             [
              1,
              "#f0f921"
             ]
            ],
            "type": "heatmapgl"
           }
          ],
          "histogram": [
           {
            "marker": {
             "pattern": {
              "fillmode": "overlay",
              "size": 10,
              "solidity": 0.2
             }
            },
            "type": "histogram"
           }
          ],
          "histogram2d": [
           {
            "colorbar": {
             "outlinewidth": 0,
             "ticks": ""
            },
            "colorscale": [
             [
              0,
              "#0d0887"
             ],
             [
              0.1111111111111111,
              "#46039f"
             ],
             [
              0.2222222222222222,
              "#7201a8"
             ],
             [
              0.3333333333333333,
              "#9c179e"
             ],
             [
              0.4444444444444444,
              "#bd3786"
             ],
             [
              0.5555555555555556,
              "#d8576b"
             ],
             [
              0.6666666666666666,
              "#ed7953"
             ],
             [
              0.7777777777777778,
              "#fb9f3a"
             ],
             [
              0.8888888888888888,
              "#fdca26"
             ],
             [
              1,
              "#f0f921"
             ]
            ],
            "type": "histogram2d"
           }
          ],
          "histogram2dcontour": [
           {
            "colorbar": {
             "outlinewidth": 0,
             "ticks": ""
            },
            "colorscale": [
             [
              0,
              "#0d0887"
             ],
             [
              0.1111111111111111,
              "#46039f"
             ],
             [
              0.2222222222222222,
              "#7201a8"
             ],
             [
              0.3333333333333333,
              "#9c179e"
             ],
             [
              0.4444444444444444,
              "#bd3786"
             ],
             [
              0.5555555555555556,
              "#d8576b"
             ],
             [
              0.6666666666666666,
              "#ed7953"
             ],
             [
              0.7777777777777778,
              "#fb9f3a"
             ],
             [
              0.8888888888888888,
              "#fdca26"
             ],
             [
              1,
              "#f0f921"
             ]
            ],
            "type": "histogram2dcontour"
           }
          ],
          "mesh3d": [
           {
            "colorbar": {
             "outlinewidth": 0,
             "ticks": ""
            },
            "type": "mesh3d"
           }
          ],
          "parcoords": [
           {
            "line": {
             "colorbar": {
              "outlinewidth": 0,
              "ticks": ""
             }
            },
            "type": "parcoords"
           }
          ],
          "pie": [
           {
            "automargin": true,
            "type": "pie"
           }
          ],
          "scatter": [
           {
            "marker": {
             "colorbar": {
              "outlinewidth": 0,
              "ticks": ""
             }
            },
            "type": "scatter"
           }
          ],
          "scatter3d": [
           {
            "line": {
             "colorbar": {
              "outlinewidth": 0,
              "ticks": ""
             }
            },
            "marker": {
             "colorbar": {
              "outlinewidth": 0,
              "ticks": ""
             }
            },
            "type": "scatter3d"
           }
          ],
          "scattercarpet": [
           {
            "marker": {
             "colorbar": {
              "outlinewidth": 0,
              "ticks": ""
             }
            },
            "type": "scattercarpet"
           }
          ],
          "scattergeo": [
           {
            "marker": {
             "colorbar": {
              "outlinewidth": 0,
              "ticks": ""
             }
            },
            "type": "scattergeo"
           }
          ],
          "scattergl": [
           {
            "marker": {
             "colorbar": {
              "outlinewidth": 0,
              "ticks": ""
             }
            },
            "type": "scattergl"
           }
          ],
          "scattermapbox": [
           {
            "marker": {
             "colorbar": {
              "outlinewidth": 0,
              "ticks": ""
             }
            },
            "type": "scattermapbox"
           }
          ],
          "scatterpolar": [
           {
            "marker": {
             "colorbar": {
              "outlinewidth": 0,
              "ticks": ""
             }
            },
            "type": "scatterpolar"
           }
          ],
          "scatterpolargl": [
           {
            "marker": {
             "colorbar": {
              "outlinewidth": 0,
              "ticks": ""
             }
            },
            "type": "scatterpolargl"
           }
          ],
          "scatterternary": [
           {
            "marker": {
             "colorbar": {
              "outlinewidth": 0,
              "ticks": ""
             }
            },
            "type": "scatterternary"
           }
          ],
          "surface": [
           {
            "colorbar": {
             "outlinewidth": 0,
             "ticks": ""
            },
            "colorscale": [
             [
              0,
              "#0d0887"
             ],
             [
              0.1111111111111111,
              "#46039f"
             ],
             [
              0.2222222222222222,
              "#7201a8"
             ],
             [
              0.3333333333333333,
              "#9c179e"
             ],
             [
              0.4444444444444444,
              "#bd3786"
             ],
             [
              0.5555555555555556,
              "#d8576b"
             ],
             [
              0.6666666666666666,
              "#ed7953"
             ],
             [
              0.7777777777777778,
              "#fb9f3a"
             ],
             [
              0.8888888888888888,
              "#fdca26"
             ],
             [
              1,
              "#f0f921"
             ]
            ],
            "type": "surface"
           }
          ],
          "table": [
           {
            "cells": {
             "fill": {
              "color": "#EBF0F8"
             },
             "line": {
              "color": "white"
             }
            },
            "header": {
             "fill": {
              "color": "#C8D4E3"
             },
             "line": {
              "color": "white"
             }
            },
            "type": "table"
           }
          ]
         },
         "layout": {
          "annotationdefaults": {
           "arrowcolor": "#2a3f5f",
           "arrowhead": 0,
           "arrowwidth": 1
          },
          "autotypenumbers": "strict",
          "coloraxis": {
           "colorbar": {
            "outlinewidth": 0,
            "ticks": ""
           }
          },
          "colorscale": {
           "diverging": [
            [
             0,
             "#8e0152"
            ],
            [
             0.1,
             "#c51b7d"
            ],
            [
             0.2,
             "#de77ae"
            ],
            [
             0.3,
             "#f1b6da"
            ],
            [
             0.4,
             "#fde0ef"
            ],
            [
             0.5,
             "#f7f7f7"
            ],
            [
             0.6,
             "#e6f5d0"
            ],
            [
             0.7,
             "#b8e186"
            ],
            [
             0.8,
             "#7fbc41"
            ],
            [
             0.9,
             "#4d9221"
            ],
            [
             1,
             "#276419"
            ]
           ],
           "sequential": [
            [
             0,
             "#0d0887"
            ],
            [
             0.1111111111111111,
             "#46039f"
            ],
            [
             0.2222222222222222,
             "#7201a8"
            ],
            [
             0.3333333333333333,
             "#9c179e"
            ],
            [
             0.4444444444444444,
             "#bd3786"
            ],
            [
             0.5555555555555556,
             "#d8576b"
            ],
            [
             0.6666666666666666,
             "#ed7953"
            ],
            [
             0.7777777777777778,
             "#fb9f3a"
            ],
            [
             0.8888888888888888,
             "#fdca26"
            ],
            [
             1,
             "#f0f921"
            ]
           ],
           "sequentialminus": [
            [
             0,
             "#0d0887"
            ],
            [
             0.1111111111111111,
             "#46039f"
            ],
            [
             0.2222222222222222,
             "#7201a8"
            ],
            [
             0.3333333333333333,
             "#9c179e"
            ],
            [
             0.4444444444444444,
             "#bd3786"
            ],
            [
             0.5555555555555556,
             "#d8576b"
            ],
            [
             0.6666666666666666,
             "#ed7953"
            ],
            [
             0.7777777777777778,
             "#fb9f3a"
            ],
            [
             0.8888888888888888,
             "#fdca26"
            ],
            [
             1,
             "#f0f921"
            ]
           ]
          },
          "colorway": [
           "#636efa",
           "#EF553B",
           "#00cc96",
           "#ab63fa",
           "#FFA15A",
           "#19d3f3",
           "#FF6692",
           "#B6E880",
           "#FF97FF",
           "#FECB52"
          ],
          "font": {
           "color": "#2a3f5f"
          },
          "geo": {
           "bgcolor": "white",
           "lakecolor": "white",
           "landcolor": "#E5ECF6",
           "showlakes": true,
           "showland": true,
           "subunitcolor": "white"
          },
          "hoverlabel": {
           "align": "left"
          },
          "hovermode": "closest",
          "mapbox": {
           "style": "light"
          },
          "paper_bgcolor": "white",
          "plot_bgcolor": "#E5ECF6",
          "polar": {
           "angularaxis": {
            "gridcolor": "white",
            "linecolor": "white",
            "ticks": ""
           },
           "bgcolor": "#E5ECF6",
           "radialaxis": {
            "gridcolor": "white",
            "linecolor": "white",
            "ticks": ""
           }
          },
          "scene": {
           "xaxis": {
            "backgroundcolor": "#E5ECF6",
            "gridcolor": "white",
            "gridwidth": 2,
            "linecolor": "white",
            "showbackground": true,
            "ticks": "",
            "zerolinecolor": "white"
           },
           "yaxis": {
            "backgroundcolor": "#E5ECF6",
            "gridcolor": "white",
            "gridwidth": 2,
            "linecolor": "white",
            "showbackground": true,
            "ticks": "",
            "zerolinecolor": "white"
           },
           "zaxis": {
            "backgroundcolor": "#E5ECF6",
            "gridcolor": "white",
            "gridwidth": 2,
            "linecolor": "white",
            "showbackground": true,
            "ticks": "",
            "zerolinecolor": "white"
           }
          },
          "shapedefaults": {
           "line": {
            "color": "#2a3f5f"
           }
          },
          "ternary": {
           "aaxis": {
            "gridcolor": "white",
            "linecolor": "white",
            "ticks": ""
           },
           "baxis": {
            "gridcolor": "white",
            "linecolor": "white",
            "ticks": ""
           },
           "bgcolor": "#E5ECF6",
           "caxis": {
            "gridcolor": "white",
            "linecolor": "white",
            "ticks": ""
           }
          },
          "title": {
           "x": 0.05
          },
          "xaxis": {
           "automargin": true,
           "gridcolor": "white",
           "linecolor": "white",
           "ticks": "",
           "title": {
            "standoff": 15
           },
           "zerolinecolor": "white",
           "zerolinewidth": 2
          },
          "yaxis": {
           "automargin": true,
           "gridcolor": "white",
           "linecolor": "white",
           "ticks": "",
           "title": {
            "standoff": 15
           },
           "zerolinecolor": "white",
           "zerolinewidth": 2
          }
         }
        },
        "title": {
         "text": "Процент приемов с мышьяком в 2022 году"
        },
        "xaxis": {
         "anchor": "y",
         "categoryorder": "total descending",
         "domain": [
          0,
          1
         ],
         "title": {
          "text": "Врач"
         }
        },
        "yaxis": {
         "anchor": "x",
         "domain": [
          0,
          1
         ],
         "gridcolor": "grey",
         "title": {
          "text": "DPV %"
         }
        }
       }
      },
      "text/html": [
       "<div>                            <div id=\"f72563eb-3627-4200-9c25-54f561a048f6\" class=\"plotly-graph-div\" style=\"height:525px; width:100%;\"></div>            <script type=\"text/javascript\">                require([\"plotly\"], function(Plotly) {                    window.PLOTLYENV=window.PLOTLYENV || {};                                    if (document.getElementById(\"f72563eb-3627-4200-9c25-54f561a048f6\")) {                    Plotly.newPlot(                        \"f72563eb-3627-4200-9c25-54f561a048f6\",                        [{\"alignmentgroup\":\"True\",\"hovertemplate\":\"\\u041c\\u0435\\u0441\\u044f\\u0446=0122<br>\\u0412\\u0440\\u0430\\u0447=%{x}<br>DPV %=%{y}<extra></extra>\",\"legendgroup\":\"0122\",\"marker\":{\"color\":\"rgb(100.0, 100.0, 100.0)\",\"pattern\":{\"shape\":\"\"}},\"name\":\"0122\",\"offsetgroup\":\"0122\",\"orientation\":\"v\",\"showlegend\":true,\"textposition\":\"auto\",\"type\":\"bar\",\"x\":[\"\\u0410\\u043b\\u0435\\u043a\\u0441\\u0430\\u043d\\u0434\\u0440\\u043e\\u0432\\u0430 \\u0421\\u0432\\u0435\\u0442\\u043b\\u0430\\u043d\\u0430 \\u0412\\u0438\\u043a\\u0442\\u043e\\u0440\\u043e\\u0432\\u043d\\u0430\",\"\\u0412\\u043b\\u0430\\u0441\\u043e\\u0432\\u0430 \\u0410\\u043b\\u044c\\u0444\\u0438\\u044f \\u041b\\u044f\\u0431\\u0438\\u0431\\u043e\\u0432\\u043d\\u0430\",\"\\u0412\\u043e\\u043b\\u043e\\u0434\\u0438\\u043d \\u041f\\u0430\\u0432\\u0435\\u043b \\u042e\\u0440\\u044c\\u0435\\u0432\\u0438\\u0447\",\"\\u0413\\u0432\\u043e\\u0437\\u0434\\u0435\\u0432\\u0430 \\u0422\\u0430\\u0442\\u044c\\u044f\\u043d\\u0430 \\u0410\\u043d\\u0430\\u0442\\u043e\\u043b\\u044c\\u0435\\u0432\\u043d\\u0430\",\"\\u0413\\u043e\\u0440\\u0431\\u0438\\u043a\\u043e\\u0432\\u0430 \\u042d\\u043b\\u044c\\u0444\\u0438\\u044f \\u0420\\u0430\\u0448\\u0438\\u0442\\u043e\\u0432\\u043d\\u0430\",\"\\u0417\\u0430\\u0445\\u0430\\u0440\\u043e\\u0432 \\u0418\\u0432\\u0430\\u043d \\u0412\\u043b\\u0430\\u0434\\u0438\\u043c\\u0438\\u0440\\u043e\\u0432\\u0438\\u0447\",\"\\u041a\\u0430\\u043c\\u044b\\u043d\\u043e\\u0432\\u0430 \\u041d\\u0430\\u0442\\u0430\\u043b\\u0438\\u044f \\u0412\\u0430\\u043b\\u0435\\u0440\\u0438\\u0435\\u0432\\u043d\\u0430\",\"\\u041a\\u043e\\u0432\\u0448\\u043e\\u0432 \\u0410\\u043b\\u0435\\u043a\\u0441\\u0430\\u043d\\u0434\\u0440 \\u0410\\u043b\\u0435\\u043a\\u0441\\u0430\\u043d\\u0434\\u0440\\u043e\\u0432\\u0438\\u0447\",\"\\u041a\\u0443\\u043a\\u0443\\u0448\\u043a\\u0438\\u043d\\u0430 \\u041b\\u0430\\u0440\\u0438\\u0441\\u0430 \\u0420\\u0430\\u043c\\u0437\\u0430\\u043d\\u043e\\u0432\\u043d\\u0430\",\"\\u041b\\u043e\\u043f\\u0430\\u0442\\u043a\\u0438\\u043d\\u0430 \\u0410\\u043b\\u0451\\u043d\\u0430 \\u0421\\u0435\\u0440\\u0433\\u0435\\u0435\\u0432\\u043d\\u0430\",\"\\u041c\\u0430\\u043a\\u0441\\u0438\\u043c\\u0435\\u0446 \\u0418\\u0440\\u0438\\u043d\\u0430 \\u0418\\u0432\\u0430\\u043d\\u043e\\u0432\\u043d\\u0430\",\"\\u041c\\u043a\\u0440\\u0442\\u0447\\u044f\\u043d \\u0422\\u0430\\u0440\\u043e\\u043d \\u0410\\u0440\\u0441\\u0435\\u043d\\u043e\\u0432\\u0438\\u0447\",\"\\u041c\\u043e\\u0440\\u043e\\u0448\\u0435\\u043d\\u043a\\u043e\\u0432\\u0430 \\u0413\\u0443\\u043b\\u044c\\u043c\\u0438\\u0440\\u0430 \\u0410\\u0431\\u044b\\u043b\\u043a\\u0430\\u043a\\u043e\\u0432\\u043d\\u0430\",\"\\u041d\\u0438\\u043a\\u043e\\u043b\\u0430\\u0435\\u0432\\u0430 \\u041d\\u0430\\u0434\\u0435\\u0436\\u0434\\u0430 \\u0413\\u0440\\u0438\\u0433\\u043e\\u0440\\u044c\\u0435\\u0432\\u043d\\u0430\",\"\\u041e\\u043b\\u044c\\u0445\\u043e\\u0432\\u0441\\u043a\\u0430\\u044f \\u0410\\u043b\\u044c\\u0431\\u0438\\u043d\\u0430 \\u0412\\u043b\\u0430\\u0434\\u0438\\u043c\\u0438\\u0440\\u043e\\u0432\\u043d\\u0430\",\"\\u041f\\u0443\\u0437\\u0430\\u043d\\u043e\\u0432\\u0430 \\u041b\\u0438\\u0434\\u0438\\u044f \\u0421\\u0435\\u0440\\u0433\\u0435\\u0435\\u0432\\u043d\\u0430\",\"\\u0427\\u0438\\u0436\\u043e\\u0432\\u0430 \\u0415\\u043b\\u0435\\u043d\\u0430 \\u0412\\u043b\\u0430\\u0434\\u0438\\u043c\\u0438\\u0440\\u043e\\u0432\\u043d\\u0430\"],\"xaxis\":\"x\",\"y\":[0.8403361344537815,3.7593984962406015,17.894736842105264,5.5045871559633035,2.479338842975207,1.7543859649122806,5.769230769230769,5.1020408163265305,18.181818181818183,5.194805194805195,1.8018018018018018,1.5625,4.054054054054054,8.695652173913043,4.23728813559322,3.75,3.8095238095238098],\"yaxis\":\"y\"},{\"alignmentgroup\":\"True\",\"hovertemplate\":\"\\u041c\\u0435\\u0441\\u044f\\u0446=0322<br>\\u0412\\u0440\\u0430\\u0447=%{x}<br>DPV %=%{y}<extra></extra>\",\"legendgroup\":\"0322\",\"marker\":{\"color\":\"rgb(131.0, 131.0, 131.0)\",\"pattern\":{\"shape\":\"\"}},\"name\":\"0322\",\"offsetgroup\":\"0322\",\"orientation\":\"v\",\"showlegend\":true,\"textposition\":\"auto\",\"type\":\"bar\",\"x\":[\"\\u0410\\u043b\\u0435\\u043a\\u0441\\u0430\\u043d\\u0434\\u0440\\u043e\\u0432\\u0430 \\u0421\\u0432\\u0435\\u0442\\u043b\\u0430\\u043d\\u0430 \\u0412\\u0438\\u043a\\u0442\\u043e\\u0440\\u043e\\u0432\\u043d\\u0430\",\"\\u0412\\u043b\\u0430\\u0441\\u043e\\u0432\\u0430 \\u0410\\u043b\\u044c\\u0444\\u0438\\u044f \\u041b\\u044f\\u0431\\u0438\\u0431\\u043e\\u0432\\u043d\\u0430\",\"\\u0412\\u043e\\u043b\\u043e\\u0434\\u0438\\u043d \\u041f\\u0430\\u0432\\u0435\\u043b \\u042e\\u0440\\u044c\\u0435\\u0432\\u0438\\u0447\",\"\\u0413\\u0432\\u043e\\u0437\\u0434\\u0435\\u0432\\u0430 \\u0422\\u0430\\u0442\\u044c\\u044f\\u043d\\u0430 \\u0410\\u043d\\u0430\\u0442\\u043e\\u043b\\u044c\\u0435\\u0432\\u043d\\u0430\",\"\\u0413\\u043e\\u0440\\u0431\\u0438\\u043a\\u043e\\u0432\\u0430 \\u042d\\u043b\\u044c\\u0444\\u0438\\u044f \\u0420\\u0430\\u0448\\u0438\\u0442\\u043e\\u0432\\u043d\\u0430\",\"\\u0417\\u0430\\u0445\\u0430\\u0440\\u043e\\u0432 \\u0418\\u0432\\u0430\\u043d \\u0412\\u043b\\u0430\\u0434\\u0438\\u043c\\u0438\\u0440\\u043e\\u0432\\u0438\\u0447\",\"\\u041a\\u0430\\u043c\\u044b\\u043d\\u043e\\u0432\\u0430 \\u041d\\u0430\\u0442\\u0430\\u043b\\u0438\\u044f \\u0412\\u0430\\u043b\\u0435\\u0440\\u0438\\u0435\\u0432\\u043d\\u0430\",\"\\u041a\\u043e\\u0432\\u0448\\u043e\\u0432 \\u0410\\u043b\\u0435\\u043a\\u0441\\u0430\\u043d\\u0434\\u0440 \\u0410\\u043b\\u0435\\u043a\\u0441\\u0430\\u043d\\u0434\\u0440\\u043e\\u0432\\u0438\\u0447\",\"\\u041a\\u0443\\u043a\\u0443\\u0448\\u043a\\u0438\\u043d\\u0430 \\u041b\\u0430\\u0440\\u0438\\u0441\\u0430 \\u0420\\u0430\\u043c\\u0437\\u0430\\u043d\\u043e\\u0432\\u043d\\u0430\",\"\\u041b\\u043e\\u043f\\u0430\\u0442\\u043a\\u0438\\u043d\\u0430 \\u0410\\u043b\\u0451\\u043d\\u0430 \\u0421\\u0435\\u0440\\u0433\\u0435\\u0435\\u0432\\u043d\\u0430\",\"\\u041c\\u0430\\u043a\\u0441\\u0438\\u043c\\u0435\\u0446 \\u0418\\u0440\\u0438\\u043d\\u0430 \\u0418\\u0432\\u0430\\u043d\\u043e\\u0432\\u043d\\u0430\",\"\\u041c\\u043a\\u0440\\u0442\\u0447\\u044f\\u043d \\u0422\\u0430\\u0440\\u043e\\u043d \\u0410\\u0440\\u0441\\u0435\\u043d\\u043e\\u0432\\u0438\\u0447\",\"\\u041c\\u043e\\u0440\\u043e\\u0448\\u0435\\u043d\\u043a\\u043e\\u0432\\u0430 \\u0413\\u0443\\u043b\\u044c\\u043c\\u0438\\u0440\\u0430 \\u0410\\u0431\\u044b\\u043b\\u043a\\u0430\\u043a\\u043e\\u0432\\u043d\\u0430\",\"\\u041d\\u0438\\u043a\\u043e\\u043b\\u0430\\u0435\\u0432\\u0430 \\u041d\\u0430\\u0434\\u0435\\u0436\\u0434\\u0430 \\u0413\\u0440\\u0438\\u0433\\u043e\\u0440\\u044c\\u0435\\u0432\\u043d\\u0430\",\"\\u041e\\u043b\\u044c\\u0445\\u043e\\u0432\\u0441\\u043a\\u0430\\u044f \\u0410\\u043b\\u044c\\u0431\\u0438\\u043d\\u0430 \\u0412\\u043b\\u0430\\u0434\\u0438\\u043c\\u0438\\u0440\\u043e\\u0432\\u043d\\u0430\",\"\\u041f\\u0443\\u0437\\u0430\\u043d\\u043e\\u0432\\u0430 \\u041b\\u0438\\u0434\\u0438\\u044f \\u0421\\u0435\\u0440\\u0433\\u0435\\u0435\\u0432\\u043d\\u0430\",\"\\u0427\\u0438\\u0436\\u043e\\u0432\\u0430 \\u0415\\u043b\\u0435\\u043d\\u0430 \\u0412\\u043b\\u0430\\u0434\\u0438\\u043c\\u0438\\u0440\\u043e\\u0432\\u043d\\u0430\"],\"xaxis\":\"x\",\"y\":[0.5780346820809248,2.142857142857143,9.166666666666666,6.535947712418301,4.666666666666667,2.5316455696202533,6.976744186046512,4.301075268817205,7.894736842105263,7.526881720430108,3.2467532467532463,2.5316455696202533,7.246376811594203,7.009345794392523,3.289473684210526,5.6000000000000005,4.929577464788732],\"yaxis\":\"y\"},{\"alignmentgroup\":\"True\",\"hovertemplate\":\"\\u041c\\u0435\\u0441\\u044f\\u0446=0522<br>\\u0412\\u0440\\u0430\\u0447=%{x}<br>DPV %=%{y}<extra></extra>\",\"legendgroup\":\"0522\",\"marker\":{\"color\":\"rgb(162.0, 162.0, 162.0)\",\"pattern\":{\"shape\":\"\"}},\"name\":\"0522\",\"offsetgroup\":\"0522\",\"orientation\":\"v\",\"showlegend\":true,\"textposition\":\"auto\",\"type\":\"bar\",\"x\":[\"\\u0410\\u043b\\u0435\\u043a\\u0441\\u0430\\u043d\\u0434\\u0440\\u043e\\u0432\\u0430 \\u0421\\u0432\\u0435\\u0442\\u043b\\u0430\\u043d\\u0430 \\u0412\\u0438\\u043a\\u0442\\u043e\\u0440\\u043e\\u0432\\u043d\\u0430\",\"\\u0412\\u043b\\u0430\\u0441\\u043e\\u0432\\u0430 \\u0410\\u043b\\u044c\\u0444\\u0438\\u044f \\u041b\\u044f\\u0431\\u0438\\u0431\\u043e\\u0432\\u043d\\u0430\",\"\\u0412\\u043e\\u043b\\u043e\\u0434\\u0438\\u043d \\u041f\\u0430\\u0432\\u0435\\u043b \\u042e\\u0440\\u044c\\u0435\\u0432\\u0438\\u0447\",\"\\u0413\\u043e\\u0440\\u0431\\u0438\\u043a\\u043e\\u0432\\u0430 \\u042d\\u043b\\u044c\\u0444\\u0438\\u044f \\u0420\\u0430\\u0448\\u0438\\u0442\\u043e\\u0432\\u043d\\u0430\",\"\\u0417\\u0430\\u0445\\u0430\\u0440\\u043e\\u0432 \\u0418\\u0432\\u0430\\u043d \\u0412\\u043b\\u0430\\u0434\\u0438\\u043c\\u0438\\u0440\\u043e\\u0432\\u0438\\u0447\",\"\\u041a\\u0430\\u043c\\u044b\\u043d\\u043e\\u0432\\u0430 \\u041d\\u0430\\u0442\\u0430\\u043b\\u0438\\u044f \\u0412\\u0430\\u043b\\u0435\\u0440\\u0438\\u0435\\u0432\\u043d\\u0430\",\"\\u041a\\u0443\\u043a\\u0443\\u0448\\u043a\\u0438\\u043d\\u0430 \\u041b\\u0430\\u0440\\u0438\\u0441\\u0430 \\u0420\\u0430\\u043c\\u0437\\u0430\\u043d\\u043e\\u0432\\u043d\\u0430\",\"\\u041b\\u043e\\u043f\\u0430\\u0442\\u043a\\u0438\\u043d\\u0430 \\u0410\\u043b\\u0451\\u043d\\u0430 \\u0421\\u0435\\u0440\\u0433\\u0435\\u0435\\u0432\\u043d\\u0430\",\"\\u041c\\u0430\\u043a\\u0441\\u0438\\u043c\\u0435\\u0446 \\u0418\\u0440\\u0438\\u043d\\u0430 \\u0418\\u0432\\u0430\\u043d\\u043e\\u0432\\u043d\\u0430\",\"\\u041c\\u043a\\u0440\\u0442\\u0447\\u044f\\u043d \\u0422\\u0430\\u0440\\u043e\\u043d \\u0410\\u0440\\u0441\\u0435\\u043d\\u043e\\u0432\\u0438\\u0447\",\"\\u041c\\u043e\\u0440\\u043e\\u0448\\u0435\\u043d\\u043a\\u043e\\u0432\\u0430 \\u0413\\u0443\\u043b\\u044c\\u043c\\u0438\\u0440\\u0430 \\u0410\\u0431\\u044b\\u043b\\u043a\\u0430\\u043a\\u043e\\u0432\\u043d\\u0430\",\"\\u041d\\u0438\\u043a\\u043e\\u043b\\u0430\\u0435\\u0432\\u0430 \\u041d\\u0430\\u0434\\u0435\\u0436\\u0434\\u0430 \\u0413\\u0440\\u0438\\u0433\\u043e\\u0440\\u044c\\u0435\\u0432\\u043d\\u0430\",\"\\u041e\\u043b\\u044c\\u0445\\u043e\\u0432\\u0441\\u043a\\u0430\\u044f \\u0410\\u043b\\u044c\\u0431\\u0438\\u043d\\u0430 \\u0412\\u043b\\u0430\\u0434\\u0438\\u043c\\u0438\\u0440\\u043e\\u0432\\u043d\\u0430\",\"\\u041f\\u0443\\u0437\\u0430\\u043d\\u043e\\u0432\\u0430 \\u041b\\u0438\\u0434\\u0438\\u044f \\u0421\\u0435\\u0440\\u0433\\u0435\\u0435\\u0432\\u043d\\u0430\",\"\\u0421\\u043a\\u0430\\u043b\\u043a\\u043e\\u0432\\u0438\\u0447 \\u0418\\u043d\\u043d\\u0430 \\u0412\\u0430\\u043b\\u0435\\u0440\\u044c\\u0435\\u0432\\u043d\\u0430\",\"\\u0427\\u0438\\u0436\\u043e\\u0432\\u0430 \\u0415\\u043b\\u0435\\u043d\\u0430 \\u0412\\u043b\\u0430\\u0434\\u0438\\u043c\\u0438\\u0440\\u043e\\u0432\\u043d\\u0430\"],\"xaxis\":\"x\",\"y\":[4.838709677419355,3.3333333333333335,18.181818181818183,5.555555555555555,2.3255813953488373,6.976744186046512,3.278688524590164,1.8518518518518516,16.0,1.7543859649122806,4.3478260869565215,7.526881720430108,5.88235294117647,5.555555555555555,8.333333333333332,5.555555555555555],\"yaxis\":\"y\"},{\"alignmentgroup\":\"True\",\"hovertemplate\":\"\\u041c\\u0435\\u0441\\u044f\\u0446=0422<br>\\u0412\\u0440\\u0430\\u0447=%{x}<br>DPV %=%{y}<extra></extra>\",\"legendgroup\":\"0422\",\"marker\":{\"color\":\"rgb(193.0, 193.0, 193.0)\",\"pattern\":{\"shape\":\"\"}},\"name\":\"0422\",\"offsetgroup\":\"0422\",\"orientation\":\"v\",\"showlegend\":true,\"textposition\":\"auto\",\"type\":\"bar\",\"x\":[\"\\u0412\\u043b\\u0430\\u0441\\u043e\\u0432\\u0430 \\u0410\\u043b\\u044c\\u0444\\u0438\\u044f \\u041b\\u044f\\u0431\\u0438\\u0431\\u043e\\u0432\\u043d\\u0430\",\"\\u0412\\u043e\\u043b\\u043e\\u0434\\u0438\\u043d \\u041f\\u0430\\u0432\\u0435\\u043b \\u042e\\u0440\\u044c\\u0435\\u0432\\u0438\\u0447\",\"\\u0413\\u0432\\u043e\\u0437\\u0434\\u0435\\u0432\\u0430 \\u0422\\u0430\\u0442\\u044c\\u044f\\u043d\\u0430 \\u0410\\u043d\\u0430\\u0442\\u043e\\u043b\\u044c\\u0435\\u0432\\u043d\\u0430\",\"\\u0413\\u043e\\u0440\\u0431\\u0438\\u043a\\u043e\\u0432\\u0430 \\u042d\\u043b\\u044c\\u0444\\u0438\\u044f \\u0420\\u0430\\u0448\\u0438\\u0442\\u043e\\u0432\\u043d\\u0430\",\"\\u0417\\u0430\\u0445\\u0430\\u0440\\u043e\\u0432 \\u0418\\u0432\\u0430\\u043d \\u0412\\u043b\\u0430\\u0434\\u0438\\u043c\\u0438\\u0440\\u043e\\u0432\\u0438\\u0447\",\"\\u041a\\u0430\\u043c\\u044b\\u043d\\u043e\\u0432\\u0430 \\u041d\\u0430\\u0442\\u0430\\u043b\\u0438\\u044f \\u0412\\u0430\\u043b\\u0435\\u0440\\u0438\\u0435\\u0432\\u043d\\u0430\",\"\\u041a\\u043e\\u0432\\u0448\\u043e\\u0432 \\u0410\\u043b\\u0435\\u043a\\u0441\\u0430\\u043d\\u0434\\u0440 \\u0410\\u043b\\u0435\\u043a\\u0441\\u0430\\u043d\\u0434\\u0440\\u043e\\u0432\\u0438\\u0447\",\"\\u041a\\u0443\\u043a\\u0443\\u0448\\u043a\\u0438\\u043d\\u0430 \\u041b\\u0430\\u0440\\u0438\\u0441\\u0430 \\u0420\\u0430\\u043c\\u0437\\u0430\\u043d\\u043e\\u0432\\u043d\\u0430\",\"\\u041b\\u043e\\u043f\\u0430\\u0442\\u043a\\u0438\\u043d\\u0430 \\u0410\\u043b\\u0451\\u043d\\u0430 \\u0421\\u0435\\u0440\\u0433\\u0435\\u0435\\u0432\\u043d\\u0430\",\"\\u041c\\u0430\\u043a\\u0441\\u0438\\u043c\\u0435\\u0446 \\u0418\\u0440\\u0438\\u043d\\u0430 \\u0418\\u0432\\u0430\\u043d\\u043e\\u0432\\u043d\\u0430\",\"\\u041c\\u043a\\u0440\\u0442\\u0447\\u044f\\u043d \\u0422\\u0430\\u0440\\u043e\\u043d \\u0410\\u0440\\u0441\\u0435\\u043d\\u043e\\u0432\\u0438\\u0447\",\"\\u041c\\u043e\\u0440\\u043e\\u0448\\u0435\\u043d\\u043a\\u043e\\u0432\\u0430 \\u0413\\u0443\\u043b\\u044c\\u043c\\u0438\\u0440\\u0430 \\u0410\\u0431\\u044b\\u043b\\u043a\\u0430\\u043a\\u043e\\u0432\\u043d\\u0430\",\"\\u041d\\u0438\\u043a\\u043e\\u043b\\u0430\\u0435\\u0432\\u0430 \\u041d\\u0430\\u0434\\u0435\\u0436\\u0434\\u0430 \\u0413\\u0440\\u0438\\u0433\\u043e\\u0440\\u044c\\u0435\\u0432\\u043d\\u0430\",\"\\u041e\\u043b\\u044c\\u0445\\u043e\\u0432\\u0441\\u043a\\u0430\\u044f \\u0410\\u043b\\u044c\\u0431\\u0438\\u043d\\u0430 \\u0412\\u043b\\u0430\\u0434\\u0438\\u043c\\u0438\\u0440\\u043e\\u0432\\u043d\\u0430\",\"\\u041f\\u0443\\u0437\\u0430\\u043d\\u043e\\u0432\\u0430 \\u041b\\u0438\\u0434\\u0438\\u044f \\u0421\\u0435\\u0440\\u0433\\u0435\\u0435\\u0432\\u043d\\u0430\",\"\\u0421\\u043a\\u0430\\u043b\\u043a\\u043e\\u0432\\u0438\\u0447 \\u0418\\u043d\\u043d\\u0430 \\u0412\\u0430\\u043b\\u0435\\u0440\\u044c\\u0435\\u0432\\u043d\\u0430\",\"\\u0427\\u0438\\u0436\\u043e\\u0432\\u0430 \\u0415\\u043b\\u0435\\u043d\\u0430 \\u0412\\u043b\\u0430\\u0434\\u0438\\u043c\\u0438\\u0440\\u043e\\u0432\\u043d\\u0430\"],\"xaxis\":\"x\",\"y\":[0.5076142131979695,12.666666666666668,4.819277108433735,6.41025641025641,5.161290322580645,8.333333333333332,3.361344537815126,6.875000000000001,9.933774834437086,4.3478260869565215,8.280254777070063,7.18562874251497,6.222222222222222,8.045977011494253,7.086614173228346,6.25,3.8095238095238098],\"yaxis\":\"y\"},{\"alignmentgroup\":\"True\",\"hovertemplate\":\"\\u041c\\u0435\\u0441\\u044f\\u0446=0222<br>\\u0412\\u0440\\u0430\\u0447=%{x}<br>DPV %=%{y}<extra></extra>\",\"legendgroup\":\"0222\",\"marker\":{\"color\":\"rgb(224.0, 224.0, 224.0)\",\"pattern\":{\"shape\":\"\"}},\"name\":\"0222\",\"offsetgroup\":\"0222\",\"orientation\":\"v\",\"showlegend\":true,\"textposition\":\"auto\",\"type\":\"bar\",\"x\":[\"\\u0412\\u043e\\u043b\\u043e\\u0434\\u0438\\u043d \\u041f\\u0430\\u0432\\u0435\\u043b \\u042e\\u0440\\u044c\\u0435\\u0432\\u0438\\u0447\",\"\\u0413\\u0432\\u043e\\u0437\\u0434\\u0435\\u0432\\u0430 \\u0422\\u0430\\u0442\\u044c\\u044f\\u043d\\u0430 \\u0410\\u043d\\u0430\\u0442\\u043e\\u043b\\u044c\\u0435\\u0432\\u043d\\u0430\",\"\\u0413\\u043e\\u0440\\u0431\\u0438\\u043a\\u043e\\u0432\\u0430 \\u042d\\u043b\\u044c\\u0444\\u0438\\u044f \\u0420\\u0430\\u0448\\u0438\\u0442\\u043e\\u0432\\u043d\\u0430\",\"\\u041a\\u0430\\u043c\\u044b\\u043d\\u043e\\u0432\\u0430 \\u041d\\u0430\\u0442\\u0430\\u043b\\u0438\\u044f \\u0412\\u0430\\u043b\\u0435\\u0440\\u0438\\u0435\\u0432\\u043d\\u0430\",\"\\u041a\\u043e\\u0432\\u0448\\u043e\\u0432 \\u0410\\u043b\\u0435\\u043a\\u0441\\u0430\\u043d\\u0434\\u0440 \\u0410\\u043b\\u0435\\u043a\\u0441\\u0430\\u043d\\u0434\\u0440\\u043e\\u0432\\u0438\\u0447\",\"\\u041a\\u0443\\u043a\\u0443\\u0448\\u043a\\u0438\\u043d\\u0430 \\u041b\\u0430\\u0440\\u0438\\u0441\\u0430 \\u0420\\u0430\\u043c\\u0437\\u0430\\u043d\\u043e\\u0432\\u043d\\u0430\",\"\\u041b\\u043e\\u043f\\u0430\\u0442\\u043a\\u0438\\u043d\\u0430 \\u0410\\u043b\\u0451\\u043d\\u0430 \\u0421\\u0435\\u0440\\u0433\\u0435\\u0435\\u0432\\u043d\\u0430\",\"\\u041c\\u0430\\u043a\\u0441\\u0438\\u043c\\u0435\\u0446 \\u0418\\u0440\\u0438\\u043d\\u0430 \\u0418\\u0432\\u0430\\u043d\\u043e\\u0432\\u043d\\u0430\",\"\\u041c\\u043e\\u0440\\u043e\\u0448\\u0435\\u043d\\u043a\\u043e\\u0432\\u0430 \\u0413\\u0443\\u043b\\u044c\\u043c\\u0438\\u0440\\u0430 \\u0410\\u0431\\u044b\\u043b\\u043a\\u0430\\u043a\\u043e\\u0432\\u043d\\u0430\",\"\\u041d\\u0438\\u043a\\u043e\\u043b\\u0430\\u0435\\u0432\\u0430 \\u041d\\u0430\\u0434\\u0435\\u0436\\u0434\\u0430 \\u0413\\u0440\\u0438\\u0433\\u043e\\u0440\\u044c\\u0435\\u0432\\u043d\\u0430\",\"\\u041e\\u043b\\u044c\\u0445\\u043e\\u0432\\u0441\\u043a\\u0430\\u044f \\u0410\\u043b\\u044c\\u0431\\u0438\\u043d\\u0430 \\u0412\\u043b\\u0430\\u0434\\u0438\\u043c\\u0438\\u0440\\u043e\\u0432\\u043d\\u0430\",\"\\u041f\\u0443\\u0437\\u0430\\u043d\\u043e\\u0432\\u0430 \\u041b\\u0438\\u0434\\u0438\\u044f \\u0421\\u0435\\u0440\\u0433\\u0435\\u0435\\u0432\\u043d\\u0430\",\"\\u0427\\u0438\\u0436\\u043e\\u0432\\u0430 \\u0415\\u043b\\u0435\\u043d\\u0430 \\u0412\\u043b\\u0430\\u0434\\u0438\\u043c\\u0438\\u0440\\u043e\\u0432\\u043d\\u0430\"],\"xaxis\":\"x\",\"y\":[13.91304347826087,4.651162790697675,3.125,7.6923076923076925,5.194805194805195,4.819277108433735,6.451612903225806,5.47945205479452,10.81081081081081,6.7114093959731544,4.37956204379562,3.2,1.694915254237288],\"yaxis\":\"y\"}],                        {\"barmode\":\"group\",\"legend\":{\"title\":{\"text\":\"\\u041c\\u0435\\u0441\\u044f\\u0446\"},\"tracegroupgap\":0},\"plot_bgcolor\":\"rgb(255,255,255)\",\"template\":{\"data\":{\"bar\":[{\"error_x\":{\"color\":\"#2a3f5f\"},\"error_y\":{\"color\":\"#2a3f5f\"},\"marker\":{\"line\":{\"color\":\"#E5ECF6\",\"width\":0.5},\"pattern\":{\"fillmode\":\"overlay\",\"size\":10,\"solidity\":0.2}},\"type\":\"bar\"}],\"barpolar\":[{\"marker\":{\"line\":{\"color\":\"#E5ECF6\",\"width\":0.5},\"pattern\":{\"fillmode\":\"overlay\",\"size\":10,\"solidity\":0.2}},\"type\":\"barpolar\"}],\"carpet\":[{\"aaxis\":{\"endlinecolor\":\"#2a3f5f\",\"gridcolor\":\"white\",\"linecolor\":\"white\",\"minorgridcolor\":\"white\",\"startlinecolor\":\"#2a3f5f\"},\"baxis\":{\"endlinecolor\":\"#2a3f5f\",\"gridcolor\":\"white\",\"linecolor\":\"white\",\"minorgridcolor\":\"white\",\"startlinecolor\":\"#2a3f5f\"},\"type\":\"carpet\"}],\"choropleth\":[{\"colorbar\":{\"outlinewidth\":0,\"ticks\":\"\"},\"type\":\"choropleth\"}],\"contour\":[{\"colorbar\":{\"outlinewidth\":0,\"ticks\":\"\"},\"colorscale\":[[0.0,\"#0d0887\"],[0.1111111111111111,\"#46039f\"],[0.2222222222222222,\"#7201a8\"],[0.3333333333333333,\"#9c179e\"],[0.4444444444444444,\"#bd3786\"],[0.5555555555555556,\"#d8576b\"],[0.6666666666666666,\"#ed7953\"],[0.7777777777777778,\"#fb9f3a\"],[0.8888888888888888,\"#fdca26\"],[1.0,\"#f0f921\"]],\"type\":\"contour\"}],\"contourcarpet\":[{\"colorbar\":{\"outlinewidth\":0,\"ticks\":\"\"},\"type\":\"contourcarpet\"}],\"heatmap\":[{\"colorbar\":{\"outlinewidth\":0,\"ticks\":\"\"},\"colorscale\":[[0.0,\"#0d0887\"],[0.1111111111111111,\"#46039f\"],[0.2222222222222222,\"#7201a8\"],[0.3333333333333333,\"#9c179e\"],[0.4444444444444444,\"#bd3786\"],[0.5555555555555556,\"#d8576b\"],[0.6666666666666666,\"#ed7953\"],[0.7777777777777778,\"#fb9f3a\"],[0.8888888888888888,\"#fdca26\"],[1.0,\"#f0f921\"]],\"type\":\"heatmap\"}],\"heatmapgl\":[{\"colorbar\":{\"outlinewidth\":0,\"ticks\":\"\"},\"colorscale\":[[0.0,\"#0d0887\"],[0.1111111111111111,\"#46039f\"],[0.2222222222222222,\"#7201a8\"],[0.3333333333333333,\"#9c179e\"],[0.4444444444444444,\"#bd3786\"],[0.5555555555555556,\"#d8576b\"],[0.6666666666666666,\"#ed7953\"],[0.7777777777777778,\"#fb9f3a\"],[0.8888888888888888,\"#fdca26\"],[1.0,\"#f0f921\"]],\"type\":\"heatmapgl\"}],\"histogram\":[{\"marker\":{\"pattern\":{\"fillmode\":\"overlay\",\"size\":10,\"solidity\":0.2}},\"type\":\"histogram\"}],\"histogram2d\":[{\"colorbar\":{\"outlinewidth\":0,\"ticks\":\"\"},\"colorscale\":[[0.0,\"#0d0887\"],[0.1111111111111111,\"#46039f\"],[0.2222222222222222,\"#7201a8\"],[0.3333333333333333,\"#9c179e\"],[0.4444444444444444,\"#bd3786\"],[0.5555555555555556,\"#d8576b\"],[0.6666666666666666,\"#ed7953\"],[0.7777777777777778,\"#fb9f3a\"],[0.8888888888888888,\"#fdca26\"],[1.0,\"#f0f921\"]],\"type\":\"histogram2d\"}],\"histogram2dcontour\":[{\"colorbar\":{\"outlinewidth\":0,\"ticks\":\"\"},\"colorscale\":[[0.0,\"#0d0887\"],[0.1111111111111111,\"#46039f\"],[0.2222222222222222,\"#7201a8\"],[0.3333333333333333,\"#9c179e\"],[0.4444444444444444,\"#bd3786\"],[0.5555555555555556,\"#d8576b\"],[0.6666666666666666,\"#ed7953\"],[0.7777777777777778,\"#fb9f3a\"],[0.8888888888888888,\"#fdca26\"],[1.0,\"#f0f921\"]],\"type\":\"histogram2dcontour\"}],\"mesh3d\":[{\"colorbar\":{\"outlinewidth\":0,\"ticks\":\"\"},\"type\":\"mesh3d\"}],\"parcoords\":[{\"line\":{\"colorbar\":{\"outlinewidth\":0,\"ticks\":\"\"}},\"type\":\"parcoords\"}],\"pie\":[{\"automargin\":true,\"type\":\"pie\"}],\"scatter\":[{\"marker\":{\"colorbar\":{\"outlinewidth\":0,\"ticks\":\"\"}},\"type\":\"scatter\"}],\"scatter3d\":[{\"line\":{\"colorbar\":{\"outlinewidth\":0,\"ticks\":\"\"}},\"marker\":{\"colorbar\":{\"outlinewidth\":0,\"ticks\":\"\"}},\"type\":\"scatter3d\"}],\"scattercarpet\":[{\"marker\":{\"colorbar\":{\"outlinewidth\":0,\"ticks\":\"\"}},\"type\":\"scattercarpet\"}],\"scattergeo\":[{\"marker\":{\"colorbar\":{\"outlinewidth\":0,\"ticks\":\"\"}},\"type\":\"scattergeo\"}],\"scattergl\":[{\"marker\":{\"colorbar\":{\"outlinewidth\":0,\"ticks\":\"\"}},\"type\":\"scattergl\"}],\"scattermapbox\":[{\"marker\":{\"colorbar\":{\"outlinewidth\":0,\"ticks\":\"\"}},\"type\":\"scattermapbox\"}],\"scatterpolar\":[{\"marker\":{\"colorbar\":{\"outlinewidth\":0,\"ticks\":\"\"}},\"type\":\"scatterpolar\"}],\"scatterpolargl\":[{\"marker\":{\"colorbar\":{\"outlinewidth\":0,\"ticks\":\"\"}},\"type\":\"scatterpolargl\"}],\"scatterternary\":[{\"marker\":{\"colorbar\":{\"outlinewidth\":0,\"ticks\":\"\"}},\"type\":\"scatterternary\"}],\"surface\":[{\"colorbar\":{\"outlinewidth\":0,\"ticks\":\"\"},\"colorscale\":[[0.0,\"#0d0887\"],[0.1111111111111111,\"#46039f\"],[0.2222222222222222,\"#7201a8\"],[0.3333333333333333,\"#9c179e\"],[0.4444444444444444,\"#bd3786\"],[0.5555555555555556,\"#d8576b\"],[0.6666666666666666,\"#ed7953\"],[0.7777777777777778,\"#fb9f3a\"],[0.8888888888888888,\"#fdca26\"],[1.0,\"#f0f921\"]],\"type\":\"surface\"}],\"table\":[{\"cells\":{\"fill\":{\"color\":\"#EBF0F8\"},\"line\":{\"color\":\"white\"}},\"header\":{\"fill\":{\"color\":\"#C8D4E3\"},\"line\":{\"color\":\"white\"}},\"type\":\"table\"}]},\"layout\":{\"annotationdefaults\":{\"arrowcolor\":\"#2a3f5f\",\"arrowhead\":0,\"arrowwidth\":1},\"autotypenumbers\":\"strict\",\"coloraxis\":{\"colorbar\":{\"outlinewidth\":0,\"ticks\":\"\"}},\"colorscale\":{\"diverging\":[[0,\"#8e0152\"],[0.1,\"#c51b7d\"],[0.2,\"#de77ae\"],[0.3,\"#f1b6da\"],[0.4,\"#fde0ef\"],[0.5,\"#f7f7f7\"],[0.6,\"#e6f5d0\"],[0.7,\"#b8e186\"],[0.8,\"#7fbc41\"],[0.9,\"#4d9221\"],[1,\"#276419\"]],\"sequential\":[[0.0,\"#0d0887\"],[0.1111111111111111,\"#46039f\"],[0.2222222222222222,\"#7201a8\"],[0.3333333333333333,\"#9c179e\"],[0.4444444444444444,\"#bd3786\"],[0.5555555555555556,\"#d8576b\"],[0.6666666666666666,\"#ed7953\"],[0.7777777777777778,\"#fb9f3a\"],[0.8888888888888888,\"#fdca26\"],[1.0,\"#f0f921\"]],\"sequentialminus\":[[0.0,\"#0d0887\"],[0.1111111111111111,\"#46039f\"],[0.2222222222222222,\"#7201a8\"],[0.3333333333333333,\"#9c179e\"],[0.4444444444444444,\"#bd3786\"],[0.5555555555555556,\"#d8576b\"],[0.6666666666666666,\"#ed7953\"],[0.7777777777777778,\"#fb9f3a\"],[0.8888888888888888,\"#fdca26\"],[1.0,\"#f0f921\"]]},\"colorway\":[\"#636efa\",\"#EF553B\",\"#00cc96\",\"#ab63fa\",\"#FFA15A\",\"#19d3f3\",\"#FF6692\",\"#B6E880\",\"#FF97FF\",\"#FECB52\"],\"font\":{\"color\":\"#2a3f5f\"},\"geo\":{\"bgcolor\":\"white\",\"lakecolor\":\"white\",\"landcolor\":\"#E5ECF6\",\"showlakes\":true,\"showland\":true,\"subunitcolor\":\"white\"},\"hoverlabel\":{\"align\":\"left\"},\"hovermode\":\"closest\",\"mapbox\":{\"style\":\"light\"},\"paper_bgcolor\":\"white\",\"plot_bgcolor\":\"#E5ECF6\",\"polar\":{\"angularaxis\":{\"gridcolor\":\"white\",\"linecolor\":\"white\",\"ticks\":\"\"},\"bgcolor\":\"#E5ECF6\",\"radialaxis\":{\"gridcolor\":\"white\",\"linecolor\":\"white\",\"ticks\":\"\"}},\"scene\":{\"xaxis\":{\"backgroundcolor\":\"#E5ECF6\",\"gridcolor\":\"white\",\"gridwidth\":2,\"linecolor\":\"white\",\"showbackground\":true,\"ticks\":\"\",\"zerolinecolor\":\"white\"},\"yaxis\":{\"backgroundcolor\":\"#E5ECF6\",\"gridcolor\":\"white\",\"gridwidth\":2,\"linecolor\":\"white\",\"showbackground\":true,\"ticks\":\"\",\"zerolinecolor\":\"white\"},\"zaxis\":{\"backgroundcolor\":\"#E5ECF6\",\"gridcolor\":\"white\",\"gridwidth\":2,\"linecolor\":\"white\",\"showbackground\":true,\"ticks\":\"\",\"zerolinecolor\":\"white\"}},\"shapedefaults\":{\"line\":{\"color\":\"#2a3f5f\"}},\"ternary\":{\"aaxis\":{\"gridcolor\":\"white\",\"linecolor\":\"white\",\"ticks\":\"\"},\"baxis\":{\"gridcolor\":\"white\",\"linecolor\":\"white\",\"ticks\":\"\"},\"bgcolor\":\"#E5ECF6\",\"caxis\":{\"gridcolor\":\"white\",\"linecolor\":\"white\",\"ticks\":\"\"}},\"title\":{\"x\":0.05},\"xaxis\":{\"automargin\":true,\"gridcolor\":\"white\",\"linecolor\":\"white\",\"ticks\":\"\",\"title\":{\"standoff\":15},\"zerolinecolor\":\"white\",\"zerolinewidth\":2},\"yaxis\":{\"automargin\":true,\"gridcolor\":\"white\",\"linecolor\":\"white\",\"ticks\":\"\",\"title\":{\"standoff\":15},\"zerolinecolor\":\"white\",\"zerolinewidth\":2}}},\"title\":{\"text\":\"\\u041f\\u0440\\u043e\\u0446\\u0435\\u043d\\u0442 \\u043f\\u0440\\u0438\\u0435\\u043c\\u043e\\u0432 \\u0441 \\u043c\\u044b\\u0448\\u044c\\u044f\\u043a\\u043e\\u043c \\u0432 2022 \\u0433\\u043e\\u0434\\u0443\"},\"xaxis\":{\"anchor\":\"y\",\"categoryorder\":\"total descending\",\"domain\":[0.0,1.0],\"title\":{\"text\":\"\\u0412\\u0440\\u0430\\u0447\"}},\"yaxis\":{\"anchor\":\"x\",\"domain\":[0.0,1.0],\"gridcolor\":\"grey\",\"title\":{\"text\":\"DPV %\"}}},                        {\"responsive\": true}                    ).then(function(){\n",
       "                            \n",
       "var gd = document.getElementById('f72563eb-3627-4200-9c25-54f561a048f6');\n",
       "var x = new MutationObserver(function (mutations, observer) {{\n",
       "        var display = window.getComputedStyle(gd).display;\n",
       "        if (!display || display === 'none') {{\n",
       "            console.log([gd, 'removed!']);\n",
       "            Plotly.purge(gd);\n",
       "            observer.disconnect();\n",
       "        }}\n",
       "}});\n",
       "\n",
       "// Listen for the removal of the full notebook cells\n",
       "var notebookContainer = gd.closest('#notebook-container');\n",
       "if (notebookContainer) {{\n",
       "    x.observe(notebookContainer, {childList: true});\n",
       "}}\n",
       "\n",
       "// Listen for the clearing of the current output cell\n",
       "var outputEl = gd.closest('.output');\n",
       "if (outputEl) {{\n",
       "    x.observe(outputEl, {childList: true});\n",
       "}}\n",
       "\n",
       "                        })                };                });            </script>        </div>"
      ]
     },
     "metadata": {},
     "output_type": "display_data"
    }
   ],
   "source": [
    "# DPV по месяцу и врачу (ч/б)\n",
    "\n",
    "px.bar(df_result_by_month.query('DPV > 0'), \n",
    "       x='Врач',\n",
    "       y='DPV %',\n",
    "       color='Месяц',\n",
    "       barmode='group',\n",
    "       color_discrete_sequence=greys,\n",
    "       title=f\"Процент приемов с мышьяком в {year} году\").update_xaxes(categoryorder='total descending') \\\n",
    "    .update_layout(plot_bgcolor='rgb(255,255,255)') \\\n",
    "    .update_yaxes(gridcolor='grey')"
   ]
  },
  {
   "cell_type": "code",
   "execution_count": 230,
   "metadata": {},
   "outputs": [
    {
     "data": {
      "application/vnd.plotly.v1+json": {
       "config": {
        "plotlyServerURL": "https://plot.ly"
       },
       "data": [
        {
         "alignmentgroup": "True",
         "hovertemplate": "Месяц=0122<br>Врач=%{x}<br>DPV %=%{y}<extra></extra>",
         "legendgroup": "0122",
         "marker": {
          "color": "#636efa",
          "pattern": {
           "shape": ""
          }
         },
         "name": "0122",
         "offsetgroup": "0122",
         "orientation": "v",
         "showlegend": true,
         "textposition": "auto",
         "type": "bar",
         "x": [
          "Александрова Светлана Викторовна",
          "Власова Альфия Лябибовна",
          "Володин Павел Юрьевич",
          "Гвоздева Татьяна Анатольевна",
          "Горбикова Эльфия Рашитовна",
          "Захаров Иван Владимирович",
          "Камынова Наталия Валериевна",
          "Ковшов Александр Александрович",
          "Кукушкина Лариса Рамзановна",
          "Лопаткина Алёна Сергеевна",
          "Максимец Ирина Ивановна",
          "Мкртчян Тарон Арсенович",
          "Морошенкова Гульмира Абылкаковна",
          "Николаева Надежда Григорьевна",
          "Ольховская Альбина Владимировна",
          "Пузанова Лидия Сергеевна",
          "Чижова Елена Владимировна"
         ],
         "xaxis": "x",
         "y": [
          0.8403361344537815,
          3.7593984962406015,
          17.894736842105264,
          5.5045871559633035,
          2.479338842975207,
          1.7543859649122806,
          5.769230769230769,
          5.1020408163265305,
          18.181818181818183,
          5.194805194805195,
          1.8018018018018018,
          1.5625,
          4.054054054054054,
          8.695652173913043,
          4.23728813559322,
          3.75,
          3.8095238095238098
         ],
         "yaxis": "y"
        },
        {
         "alignmentgroup": "True",
         "hovertemplate": "Месяц=0322<br>Врач=%{x}<br>DPV %=%{y}<extra></extra>",
         "legendgroup": "0322",
         "marker": {
          "color": "#EF553B",
          "pattern": {
           "shape": ""
          }
         },
         "name": "0322",
         "offsetgroup": "0322",
         "orientation": "v",
         "showlegend": true,
         "textposition": "auto",
         "type": "bar",
         "x": [
          "Александрова Светлана Викторовна",
          "Власова Альфия Лябибовна",
          "Володин Павел Юрьевич",
          "Гвоздева Татьяна Анатольевна",
          "Горбикова Эльфия Рашитовна",
          "Захаров Иван Владимирович",
          "Камынова Наталия Валериевна",
          "Ковшов Александр Александрович",
          "Кукушкина Лариса Рамзановна",
          "Лопаткина Алёна Сергеевна",
          "Максимец Ирина Ивановна",
          "Мкртчян Тарон Арсенович",
          "Морошенкова Гульмира Абылкаковна",
          "Николаева Надежда Григорьевна",
          "Ольховская Альбина Владимировна",
          "Пузанова Лидия Сергеевна",
          "Чижова Елена Владимировна"
         ],
         "xaxis": "x",
         "y": [
          0.5780346820809248,
          2.142857142857143,
          9.166666666666666,
          6.535947712418301,
          4.666666666666667,
          2.5316455696202533,
          6.976744186046512,
          4.301075268817205,
          7.894736842105263,
          7.526881720430108,
          3.2467532467532463,
          2.5316455696202533,
          7.246376811594203,
          7.009345794392523,
          3.289473684210526,
          5.6000000000000005,
          4.929577464788732
         ],
         "yaxis": "y"
        },
        {
         "alignmentgroup": "True",
         "hovertemplate": "Месяц=0522<br>Врач=%{x}<br>DPV %=%{y}<extra></extra>",
         "legendgroup": "0522",
         "marker": {
          "color": "#00cc96",
          "pattern": {
           "shape": ""
          }
         },
         "name": "0522",
         "offsetgroup": "0522",
         "orientation": "v",
         "showlegend": true,
         "textposition": "auto",
         "type": "bar",
         "x": [
          "Александрова Светлана Викторовна",
          "Власова Альфия Лябибовна",
          "Володин Павел Юрьевич",
          "Горбикова Эльфия Рашитовна",
          "Захаров Иван Владимирович",
          "Камынова Наталия Валериевна",
          "Кукушкина Лариса Рамзановна",
          "Лопаткина Алёна Сергеевна",
          "Максимец Ирина Ивановна",
          "Мкртчян Тарон Арсенович",
          "Морошенкова Гульмира Абылкаковна",
          "Николаева Надежда Григорьевна",
          "Ольховская Альбина Владимировна",
          "Пузанова Лидия Сергеевна",
          "Скалкович Инна Валерьевна",
          "Чижова Елена Владимировна"
         ],
         "xaxis": "x",
         "y": [
          4.838709677419355,
          3.3333333333333335,
          18.181818181818183,
          5.555555555555555,
          2.3255813953488373,
          6.976744186046512,
          3.278688524590164,
          1.8518518518518516,
          16,
          1.7543859649122806,
          4.3478260869565215,
          7.526881720430108,
          5.88235294117647,
          5.555555555555555,
          8.333333333333332,
          5.555555555555555
         ],
         "yaxis": "y"
        },
        {
         "alignmentgroup": "True",
         "hovertemplate": "Месяц=0422<br>Врач=%{x}<br>DPV %=%{y}<extra></extra>",
         "legendgroup": "0422",
         "marker": {
          "color": "#ab63fa",
          "pattern": {
           "shape": ""
          }
         },
         "name": "0422",
         "offsetgroup": "0422",
         "orientation": "v",
         "showlegend": true,
         "textposition": "auto",
         "type": "bar",
         "x": [
          "Власова Альфия Лябибовна",
          "Володин Павел Юрьевич",
          "Гвоздева Татьяна Анатольевна",
          "Горбикова Эльфия Рашитовна",
          "Захаров Иван Владимирович",
          "Камынова Наталия Валериевна",
          "Ковшов Александр Александрович",
          "Кукушкина Лариса Рамзановна",
          "Лопаткина Алёна Сергеевна",
          "Максимец Ирина Ивановна",
          "Мкртчян Тарон Арсенович",
          "Морошенкова Гульмира Абылкаковна",
          "Николаева Надежда Григорьевна",
          "Ольховская Альбина Владимировна",
          "Пузанова Лидия Сергеевна",
          "Скалкович Инна Валерьевна",
          "Чижова Елена Владимировна"
         ],
         "xaxis": "x",
         "y": [
          0.5076142131979695,
          12.666666666666668,
          4.819277108433735,
          6.41025641025641,
          5.161290322580645,
          8.333333333333332,
          3.361344537815126,
          6.875000000000001,
          9.933774834437086,
          4.3478260869565215,
          8.280254777070063,
          7.18562874251497,
          6.222222222222222,
          8.045977011494253,
          7.086614173228346,
          6.25,
          3.8095238095238098
         ],
         "yaxis": "y"
        },
        {
         "alignmentgroup": "True",
         "hovertemplate": "Месяц=0222<br>Врач=%{x}<br>DPV %=%{y}<extra></extra>",
         "legendgroup": "0222",
         "marker": {
          "color": "#FFA15A",
          "pattern": {
           "shape": ""
          }
         },
         "name": "0222",
         "offsetgroup": "0222",
         "orientation": "v",
         "showlegend": true,
         "textposition": "auto",
         "type": "bar",
         "x": [
          "Володин Павел Юрьевич",
          "Гвоздева Татьяна Анатольевна",
          "Горбикова Эльфия Рашитовна",
          "Камынова Наталия Валериевна",
          "Ковшов Александр Александрович",
          "Кукушкина Лариса Рамзановна",
          "Лопаткина Алёна Сергеевна",
          "Максимец Ирина Ивановна",
          "Морошенкова Гульмира Абылкаковна",
          "Николаева Надежда Григорьевна",
          "Ольховская Альбина Владимировна",
          "Пузанова Лидия Сергеевна",
          "Чижова Елена Владимировна"
         ],
         "xaxis": "x",
         "y": [
          13.91304347826087,
          4.651162790697675,
          3.125,
          7.6923076923076925,
          5.194805194805195,
          4.819277108433735,
          6.451612903225806,
          5.47945205479452,
          10.81081081081081,
          6.7114093959731544,
          4.37956204379562,
          3.2,
          1.694915254237288
         ],
         "yaxis": "y"
        }
       ],
       "layout": {
        "barmode": "group",
        "legend": {
         "title": {
          "text": "Месяц"
         },
         "tracegroupgap": 0
        },
        "template": {
         "data": {
          "bar": [
           {
            "error_x": {
             "color": "#2a3f5f"
            },
            "error_y": {
             "color": "#2a3f5f"
            },
            "marker": {
             "line": {
              "color": "#E5ECF6",
              "width": 0.5
             },
             "pattern": {
              "fillmode": "overlay",
              "size": 10,
              "solidity": 0.2
             }
            },
            "type": "bar"
           }
          ],
          "barpolar": [
           {
            "marker": {
             "line": {
              "color": "#E5ECF6",
              "width": 0.5
             },
             "pattern": {
              "fillmode": "overlay",
              "size": 10,
              "solidity": 0.2
             }
            },
            "type": "barpolar"
           }
          ],
          "carpet": [
           {
            "aaxis": {
             "endlinecolor": "#2a3f5f",
             "gridcolor": "white",
             "linecolor": "white",
             "minorgridcolor": "white",
             "startlinecolor": "#2a3f5f"
            },
            "baxis": {
             "endlinecolor": "#2a3f5f",
             "gridcolor": "white",
             "linecolor": "white",
             "minorgridcolor": "white",
             "startlinecolor": "#2a3f5f"
            },
            "type": "carpet"
           }
          ],
          "choropleth": [
           {
            "colorbar": {
             "outlinewidth": 0,
             "ticks": ""
            },
            "type": "choropleth"
           }
          ],
          "contour": [
           {
            "colorbar": {
             "outlinewidth": 0,
             "ticks": ""
            },
            "colorscale": [
             [
              0,
              "#0d0887"
             ],
             [
              0.1111111111111111,
              "#46039f"
             ],
             [
              0.2222222222222222,
              "#7201a8"
             ],
             [
              0.3333333333333333,
              "#9c179e"
             ],
             [
              0.4444444444444444,
              "#bd3786"
             ],
             [
              0.5555555555555556,
              "#d8576b"
             ],
             [
              0.6666666666666666,
              "#ed7953"
             ],
             [
              0.7777777777777778,
              "#fb9f3a"
             ],
             [
              0.8888888888888888,
              "#fdca26"
             ],
             [
              1,
              "#f0f921"
             ]
            ],
            "type": "contour"
           }
          ],
          "contourcarpet": [
           {
            "colorbar": {
             "outlinewidth": 0,
             "ticks": ""
            },
            "type": "contourcarpet"
           }
          ],
          "heatmap": [
           {
            "colorbar": {
             "outlinewidth": 0,
             "ticks": ""
            },
            "colorscale": [
             [
              0,
              "#0d0887"
             ],
             [
              0.1111111111111111,
              "#46039f"
             ],
             [
              0.2222222222222222,
              "#7201a8"
             ],
             [
              0.3333333333333333,
              "#9c179e"
             ],
             [
              0.4444444444444444,
              "#bd3786"
             ],
             [
              0.5555555555555556,
              "#d8576b"
             ],
             [
              0.6666666666666666,
              "#ed7953"
             ],
             [
              0.7777777777777778,
              "#fb9f3a"
             ],
             [
              0.8888888888888888,
              "#fdca26"
             ],
             [
              1,
              "#f0f921"
             ]
            ],
            "type": "heatmap"
           }
          ],
          "heatmapgl": [
           {
            "colorbar": {
             "outlinewidth": 0,
             "ticks": ""
            },
            "colorscale": [
             [
              0,
              "#0d0887"
             ],
             [
              0.1111111111111111,
              "#46039f"
             ],
             [
              0.2222222222222222,
              "#7201a8"
             ],
             [
              0.3333333333333333,
              "#9c179e"
             ],
             [
              0.4444444444444444,
              "#bd3786"
             ],
             [
              0.5555555555555556,
              "#d8576b"
             ],
             [
              0.6666666666666666,
              "#ed7953"
             ],
             [
              0.7777777777777778,
              "#fb9f3a"
             ],
             [
              0.8888888888888888,
              "#fdca26"
             ],
             [
              1,
              "#f0f921"
             ]
            ],
            "type": "heatmapgl"
           }
          ],
          "histogram": [
           {
            "marker": {
             "pattern": {
              "fillmode": "overlay",
              "size": 10,
              "solidity": 0.2
             }
            },
            "type": "histogram"
           }
          ],
          "histogram2d": [
           {
            "colorbar": {
             "outlinewidth": 0,
             "ticks": ""
            },
            "colorscale": [
             [
              0,
              "#0d0887"
             ],
             [
              0.1111111111111111,
              "#46039f"
             ],
             [
              0.2222222222222222,
              "#7201a8"
             ],
             [
              0.3333333333333333,
              "#9c179e"
             ],
             [
              0.4444444444444444,
              "#bd3786"
             ],
             [
              0.5555555555555556,
              "#d8576b"
             ],
             [
              0.6666666666666666,
              "#ed7953"
             ],
             [
              0.7777777777777778,
              "#fb9f3a"
             ],
             [
              0.8888888888888888,
              "#fdca26"
             ],
             [
              1,
              "#f0f921"
             ]
            ],
            "type": "histogram2d"
           }
          ],
          "histogram2dcontour": [
           {
            "colorbar": {
             "outlinewidth": 0,
             "ticks": ""
            },
            "colorscale": [
             [
              0,
              "#0d0887"
             ],
             [
              0.1111111111111111,
              "#46039f"
             ],
             [
              0.2222222222222222,
              "#7201a8"
             ],
             [
              0.3333333333333333,
              "#9c179e"
             ],
             [
              0.4444444444444444,
              "#bd3786"
             ],
             [
              0.5555555555555556,
              "#d8576b"
             ],
             [
              0.6666666666666666,
              "#ed7953"
             ],
             [
              0.7777777777777778,
              "#fb9f3a"
             ],
             [
              0.8888888888888888,
              "#fdca26"
             ],
             [
              1,
              "#f0f921"
             ]
            ],
            "type": "histogram2dcontour"
           }
          ],
          "mesh3d": [
           {
            "colorbar": {
             "outlinewidth": 0,
             "ticks": ""
            },
            "type": "mesh3d"
           }
          ],
          "parcoords": [
           {
            "line": {
             "colorbar": {
              "outlinewidth": 0,
              "ticks": ""
             }
            },
            "type": "parcoords"
           }
          ],
          "pie": [
           {
            "automargin": true,
            "type": "pie"
           }
          ],
          "scatter": [
           {
            "marker": {
             "colorbar": {
              "outlinewidth": 0,
              "ticks": ""
             }
            },
            "type": "scatter"
           }
          ],
          "scatter3d": [
           {
            "line": {
             "colorbar": {
              "outlinewidth": 0,
              "ticks": ""
             }
            },
            "marker": {
             "colorbar": {
              "outlinewidth": 0,
              "ticks": ""
             }
            },
            "type": "scatter3d"
           }
          ],
          "scattercarpet": [
           {
            "marker": {
             "colorbar": {
              "outlinewidth": 0,
              "ticks": ""
             }
            },
            "type": "scattercarpet"
           }
          ],
          "scattergeo": [
           {
            "marker": {
             "colorbar": {
              "outlinewidth": 0,
              "ticks": ""
             }
            },
            "type": "scattergeo"
           }
          ],
          "scattergl": [
           {
            "marker": {
             "colorbar": {
              "outlinewidth": 0,
              "ticks": ""
             }
            },
            "type": "scattergl"
           }
          ],
          "scattermapbox": [
           {
            "marker": {
             "colorbar": {
              "outlinewidth": 0,
              "ticks": ""
             }
            },
            "type": "scattermapbox"
           }
          ],
          "scatterpolar": [
           {
            "marker": {
             "colorbar": {
              "outlinewidth": 0,
              "ticks": ""
             }
            },
            "type": "scatterpolar"
           }
          ],
          "scatterpolargl": [
           {
            "marker": {
             "colorbar": {
              "outlinewidth": 0,
              "ticks": ""
             }
            },
            "type": "scatterpolargl"
           }
          ],
          "scatterternary": [
           {
            "marker": {
             "colorbar": {
              "outlinewidth": 0,
              "ticks": ""
             }
            },
            "type": "scatterternary"
           }
          ],
          "surface": [
           {
            "colorbar": {
             "outlinewidth": 0,
             "ticks": ""
            },
            "colorscale": [
             [
              0,
              "#0d0887"
             ],
             [
              0.1111111111111111,
              "#46039f"
             ],
             [
              0.2222222222222222,
              "#7201a8"
             ],
             [
              0.3333333333333333,
              "#9c179e"
             ],
             [
              0.4444444444444444,
              "#bd3786"
             ],
             [
              0.5555555555555556,
              "#d8576b"
             ],
             [
              0.6666666666666666,
              "#ed7953"
             ],
             [
              0.7777777777777778,
              "#fb9f3a"
             ],
             [
              0.8888888888888888,
              "#fdca26"
             ],
             [
              1,
              "#f0f921"
             ]
            ],
            "type": "surface"
           }
          ],
          "table": [
           {
            "cells": {
             "fill": {
              "color": "#EBF0F8"
             },
             "line": {
              "color": "white"
             }
            },
            "header": {
             "fill": {
              "color": "#C8D4E3"
             },
             "line": {
              "color": "white"
             }
            },
            "type": "table"
           }
          ]
         },
         "layout": {
          "annotationdefaults": {
           "arrowcolor": "#2a3f5f",
           "arrowhead": 0,
           "arrowwidth": 1
          },
          "autotypenumbers": "strict",
          "coloraxis": {
           "colorbar": {
            "outlinewidth": 0,
            "ticks": ""
           }
          },
          "colorscale": {
           "diverging": [
            [
             0,
             "#8e0152"
            ],
            [
             0.1,
             "#c51b7d"
            ],
            [
             0.2,
             "#de77ae"
            ],
            [
             0.3,
             "#f1b6da"
            ],
            [
             0.4,
             "#fde0ef"
            ],
            [
             0.5,
             "#f7f7f7"
            ],
            [
             0.6,
             "#e6f5d0"
            ],
            [
             0.7,
             "#b8e186"
            ],
            [
             0.8,
             "#7fbc41"
            ],
            [
             0.9,
             "#4d9221"
            ],
            [
             1,
             "#276419"
            ]
           ],
           "sequential": [
            [
             0,
             "#0d0887"
            ],
            [
             0.1111111111111111,
             "#46039f"
            ],
            [
             0.2222222222222222,
             "#7201a8"
            ],
            [
             0.3333333333333333,
             "#9c179e"
            ],
            [
             0.4444444444444444,
             "#bd3786"
            ],
            [
             0.5555555555555556,
             "#d8576b"
            ],
            [
             0.6666666666666666,
             "#ed7953"
            ],
            [
             0.7777777777777778,
             "#fb9f3a"
            ],
            [
             0.8888888888888888,
             "#fdca26"
            ],
            [
             1,
             "#f0f921"
            ]
           ],
           "sequentialminus": [
            [
             0,
             "#0d0887"
            ],
            [
             0.1111111111111111,
             "#46039f"
            ],
            [
             0.2222222222222222,
             "#7201a8"
            ],
            [
             0.3333333333333333,
             "#9c179e"
            ],
            [
             0.4444444444444444,
             "#bd3786"
            ],
            [
             0.5555555555555556,
             "#d8576b"
            ],
            [
             0.6666666666666666,
             "#ed7953"
            ],
            [
             0.7777777777777778,
             "#fb9f3a"
            ],
            [
             0.8888888888888888,
             "#fdca26"
            ],
            [
             1,
             "#f0f921"
            ]
           ]
          },
          "colorway": [
           "#636efa",
           "#EF553B",
           "#00cc96",
           "#ab63fa",
           "#FFA15A",
           "#19d3f3",
           "#FF6692",
           "#B6E880",
           "#FF97FF",
           "#FECB52"
          ],
          "font": {
           "color": "#2a3f5f"
          },
          "geo": {
           "bgcolor": "white",
           "lakecolor": "white",
           "landcolor": "#E5ECF6",
           "showlakes": true,
           "showland": true,
           "subunitcolor": "white"
          },
          "hoverlabel": {
           "align": "left"
          },
          "hovermode": "closest",
          "mapbox": {
           "style": "light"
          },
          "paper_bgcolor": "white",
          "plot_bgcolor": "#E5ECF6",
          "polar": {
           "angularaxis": {
            "gridcolor": "white",
            "linecolor": "white",
            "ticks": ""
           },
           "bgcolor": "#E5ECF6",
           "radialaxis": {
            "gridcolor": "white",
            "linecolor": "white",
            "ticks": ""
           }
          },
          "scene": {
           "xaxis": {
            "backgroundcolor": "#E5ECF6",
            "gridcolor": "white",
            "gridwidth": 2,
            "linecolor": "white",
            "showbackground": true,
            "ticks": "",
            "zerolinecolor": "white"
           },
           "yaxis": {
            "backgroundcolor": "#E5ECF6",
            "gridcolor": "white",
            "gridwidth": 2,
            "linecolor": "white",
            "showbackground": true,
            "ticks": "",
            "zerolinecolor": "white"
           },
           "zaxis": {
            "backgroundcolor": "#E5ECF6",
            "gridcolor": "white",
            "gridwidth": 2,
            "linecolor": "white",
            "showbackground": true,
            "ticks": "",
            "zerolinecolor": "white"
           }
          },
          "shapedefaults": {
           "line": {
            "color": "#2a3f5f"
           }
          },
          "ternary": {
           "aaxis": {
            "gridcolor": "white",
            "linecolor": "white",
            "ticks": ""
           },
           "baxis": {
            "gridcolor": "white",
            "linecolor": "white",
            "ticks": ""
           },
           "bgcolor": "#E5ECF6",
           "caxis": {
            "gridcolor": "white",
            "linecolor": "white",
            "ticks": ""
           }
          },
          "title": {
           "x": 0.05
          },
          "xaxis": {
           "automargin": true,
           "gridcolor": "white",
           "linecolor": "white",
           "ticks": "",
           "title": {
            "standoff": 15
           },
           "zerolinecolor": "white",
           "zerolinewidth": 2
          },
          "yaxis": {
           "automargin": true,
           "gridcolor": "white",
           "linecolor": "white",
           "ticks": "",
           "title": {
            "standoff": 15
           },
           "zerolinecolor": "white",
           "zerolinewidth": 2
          }
         }
        },
        "title": {
         "text": "Процент приемов с мышьяком в 2022 году"
        },
        "xaxis": {
         "anchor": "y",
         "categoryorder": "total descending",
         "domain": [
          0,
          1
         ],
         "title": {
          "text": "Врач"
         }
        },
        "yaxis": {
         "anchor": "x",
         "domain": [
          0,
          1
         ],
         "title": {
          "text": "DPV %"
         }
        }
       }
      },
      "text/html": [
       "<div>                            <div id=\"aaee6b44-50e4-4228-8bf9-1030540b2664\" class=\"plotly-graph-div\" style=\"height:525px; width:100%;\"></div>            <script type=\"text/javascript\">                require([\"plotly\"], function(Plotly) {                    window.PLOTLYENV=window.PLOTLYENV || {};                                    if (document.getElementById(\"aaee6b44-50e4-4228-8bf9-1030540b2664\")) {                    Plotly.newPlot(                        \"aaee6b44-50e4-4228-8bf9-1030540b2664\",                        [{\"alignmentgroup\":\"True\",\"hovertemplate\":\"\\u041c\\u0435\\u0441\\u044f\\u0446=0122<br>\\u0412\\u0440\\u0430\\u0447=%{x}<br>DPV %=%{y}<extra></extra>\",\"legendgroup\":\"0122\",\"marker\":{\"color\":\"#636efa\",\"pattern\":{\"shape\":\"\"}},\"name\":\"0122\",\"offsetgroup\":\"0122\",\"orientation\":\"v\",\"showlegend\":true,\"textposition\":\"auto\",\"type\":\"bar\",\"x\":[\"\\u0410\\u043b\\u0435\\u043a\\u0441\\u0430\\u043d\\u0434\\u0440\\u043e\\u0432\\u0430 \\u0421\\u0432\\u0435\\u0442\\u043b\\u0430\\u043d\\u0430 \\u0412\\u0438\\u043a\\u0442\\u043e\\u0440\\u043e\\u0432\\u043d\\u0430\",\"\\u0412\\u043b\\u0430\\u0441\\u043e\\u0432\\u0430 \\u0410\\u043b\\u044c\\u0444\\u0438\\u044f \\u041b\\u044f\\u0431\\u0438\\u0431\\u043e\\u0432\\u043d\\u0430\",\"\\u0412\\u043e\\u043b\\u043e\\u0434\\u0438\\u043d \\u041f\\u0430\\u0432\\u0435\\u043b \\u042e\\u0440\\u044c\\u0435\\u0432\\u0438\\u0447\",\"\\u0413\\u0432\\u043e\\u0437\\u0434\\u0435\\u0432\\u0430 \\u0422\\u0430\\u0442\\u044c\\u044f\\u043d\\u0430 \\u0410\\u043d\\u0430\\u0442\\u043e\\u043b\\u044c\\u0435\\u0432\\u043d\\u0430\",\"\\u0413\\u043e\\u0440\\u0431\\u0438\\u043a\\u043e\\u0432\\u0430 \\u042d\\u043b\\u044c\\u0444\\u0438\\u044f \\u0420\\u0430\\u0448\\u0438\\u0442\\u043e\\u0432\\u043d\\u0430\",\"\\u0417\\u0430\\u0445\\u0430\\u0440\\u043e\\u0432 \\u0418\\u0432\\u0430\\u043d \\u0412\\u043b\\u0430\\u0434\\u0438\\u043c\\u0438\\u0440\\u043e\\u0432\\u0438\\u0447\",\"\\u041a\\u0430\\u043c\\u044b\\u043d\\u043e\\u0432\\u0430 \\u041d\\u0430\\u0442\\u0430\\u043b\\u0438\\u044f \\u0412\\u0430\\u043b\\u0435\\u0440\\u0438\\u0435\\u0432\\u043d\\u0430\",\"\\u041a\\u043e\\u0432\\u0448\\u043e\\u0432 \\u0410\\u043b\\u0435\\u043a\\u0441\\u0430\\u043d\\u0434\\u0440 \\u0410\\u043b\\u0435\\u043a\\u0441\\u0430\\u043d\\u0434\\u0440\\u043e\\u0432\\u0438\\u0447\",\"\\u041a\\u0443\\u043a\\u0443\\u0448\\u043a\\u0438\\u043d\\u0430 \\u041b\\u0430\\u0440\\u0438\\u0441\\u0430 \\u0420\\u0430\\u043c\\u0437\\u0430\\u043d\\u043e\\u0432\\u043d\\u0430\",\"\\u041b\\u043e\\u043f\\u0430\\u0442\\u043a\\u0438\\u043d\\u0430 \\u0410\\u043b\\u0451\\u043d\\u0430 \\u0421\\u0435\\u0440\\u0433\\u0435\\u0435\\u0432\\u043d\\u0430\",\"\\u041c\\u0430\\u043a\\u0441\\u0438\\u043c\\u0435\\u0446 \\u0418\\u0440\\u0438\\u043d\\u0430 \\u0418\\u0432\\u0430\\u043d\\u043e\\u0432\\u043d\\u0430\",\"\\u041c\\u043a\\u0440\\u0442\\u0447\\u044f\\u043d \\u0422\\u0430\\u0440\\u043e\\u043d \\u0410\\u0440\\u0441\\u0435\\u043d\\u043e\\u0432\\u0438\\u0447\",\"\\u041c\\u043e\\u0440\\u043e\\u0448\\u0435\\u043d\\u043a\\u043e\\u0432\\u0430 \\u0413\\u0443\\u043b\\u044c\\u043c\\u0438\\u0440\\u0430 \\u0410\\u0431\\u044b\\u043b\\u043a\\u0430\\u043a\\u043e\\u0432\\u043d\\u0430\",\"\\u041d\\u0438\\u043a\\u043e\\u043b\\u0430\\u0435\\u0432\\u0430 \\u041d\\u0430\\u0434\\u0435\\u0436\\u0434\\u0430 \\u0413\\u0440\\u0438\\u0433\\u043e\\u0440\\u044c\\u0435\\u0432\\u043d\\u0430\",\"\\u041e\\u043b\\u044c\\u0445\\u043e\\u0432\\u0441\\u043a\\u0430\\u044f \\u0410\\u043b\\u044c\\u0431\\u0438\\u043d\\u0430 \\u0412\\u043b\\u0430\\u0434\\u0438\\u043c\\u0438\\u0440\\u043e\\u0432\\u043d\\u0430\",\"\\u041f\\u0443\\u0437\\u0430\\u043d\\u043e\\u0432\\u0430 \\u041b\\u0438\\u0434\\u0438\\u044f \\u0421\\u0435\\u0440\\u0433\\u0435\\u0435\\u0432\\u043d\\u0430\",\"\\u0427\\u0438\\u0436\\u043e\\u0432\\u0430 \\u0415\\u043b\\u0435\\u043d\\u0430 \\u0412\\u043b\\u0430\\u0434\\u0438\\u043c\\u0438\\u0440\\u043e\\u0432\\u043d\\u0430\"],\"xaxis\":\"x\",\"y\":[0.8403361344537815,3.7593984962406015,17.894736842105264,5.5045871559633035,2.479338842975207,1.7543859649122806,5.769230769230769,5.1020408163265305,18.181818181818183,5.194805194805195,1.8018018018018018,1.5625,4.054054054054054,8.695652173913043,4.23728813559322,3.75,3.8095238095238098],\"yaxis\":\"y\"},{\"alignmentgroup\":\"True\",\"hovertemplate\":\"\\u041c\\u0435\\u0441\\u044f\\u0446=0322<br>\\u0412\\u0440\\u0430\\u0447=%{x}<br>DPV %=%{y}<extra></extra>\",\"legendgroup\":\"0322\",\"marker\":{\"color\":\"#EF553B\",\"pattern\":{\"shape\":\"\"}},\"name\":\"0322\",\"offsetgroup\":\"0322\",\"orientation\":\"v\",\"showlegend\":true,\"textposition\":\"auto\",\"type\":\"bar\",\"x\":[\"\\u0410\\u043b\\u0435\\u043a\\u0441\\u0430\\u043d\\u0434\\u0440\\u043e\\u0432\\u0430 \\u0421\\u0432\\u0435\\u0442\\u043b\\u0430\\u043d\\u0430 \\u0412\\u0438\\u043a\\u0442\\u043e\\u0440\\u043e\\u0432\\u043d\\u0430\",\"\\u0412\\u043b\\u0430\\u0441\\u043e\\u0432\\u0430 \\u0410\\u043b\\u044c\\u0444\\u0438\\u044f \\u041b\\u044f\\u0431\\u0438\\u0431\\u043e\\u0432\\u043d\\u0430\",\"\\u0412\\u043e\\u043b\\u043e\\u0434\\u0438\\u043d \\u041f\\u0430\\u0432\\u0435\\u043b \\u042e\\u0440\\u044c\\u0435\\u0432\\u0438\\u0447\",\"\\u0413\\u0432\\u043e\\u0437\\u0434\\u0435\\u0432\\u0430 \\u0422\\u0430\\u0442\\u044c\\u044f\\u043d\\u0430 \\u0410\\u043d\\u0430\\u0442\\u043e\\u043b\\u044c\\u0435\\u0432\\u043d\\u0430\",\"\\u0413\\u043e\\u0440\\u0431\\u0438\\u043a\\u043e\\u0432\\u0430 \\u042d\\u043b\\u044c\\u0444\\u0438\\u044f \\u0420\\u0430\\u0448\\u0438\\u0442\\u043e\\u0432\\u043d\\u0430\",\"\\u0417\\u0430\\u0445\\u0430\\u0440\\u043e\\u0432 \\u0418\\u0432\\u0430\\u043d \\u0412\\u043b\\u0430\\u0434\\u0438\\u043c\\u0438\\u0440\\u043e\\u0432\\u0438\\u0447\",\"\\u041a\\u0430\\u043c\\u044b\\u043d\\u043e\\u0432\\u0430 \\u041d\\u0430\\u0442\\u0430\\u043b\\u0438\\u044f \\u0412\\u0430\\u043b\\u0435\\u0440\\u0438\\u0435\\u0432\\u043d\\u0430\",\"\\u041a\\u043e\\u0432\\u0448\\u043e\\u0432 \\u0410\\u043b\\u0435\\u043a\\u0441\\u0430\\u043d\\u0434\\u0440 \\u0410\\u043b\\u0435\\u043a\\u0441\\u0430\\u043d\\u0434\\u0440\\u043e\\u0432\\u0438\\u0447\",\"\\u041a\\u0443\\u043a\\u0443\\u0448\\u043a\\u0438\\u043d\\u0430 \\u041b\\u0430\\u0440\\u0438\\u0441\\u0430 \\u0420\\u0430\\u043c\\u0437\\u0430\\u043d\\u043e\\u0432\\u043d\\u0430\",\"\\u041b\\u043e\\u043f\\u0430\\u0442\\u043a\\u0438\\u043d\\u0430 \\u0410\\u043b\\u0451\\u043d\\u0430 \\u0421\\u0435\\u0440\\u0433\\u0435\\u0435\\u0432\\u043d\\u0430\",\"\\u041c\\u0430\\u043a\\u0441\\u0438\\u043c\\u0435\\u0446 \\u0418\\u0440\\u0438\\u043d\\u0430 \\u0418\\u0432\\u0430\\u043d\\u043e\\u0432\\u043d\\u0430\",\"\\u041c\\u043a\\u0440\\u0442\\u0447\\u044f\\u043d \\u0422\\u0430\\u0440\\u043e\\u043d \\u0410\\u0440\\u0441\\u0435\\u043d\\u043e\\u0432\\u0438\\u0447\",\"\\u041c\\u043e\\u0440\\u043e\\u0448\\u0435\\u043d\\u043a\\u043e\\u0432\\u0430 \\u0413\\u0443\\u043b\\u044c\\u043c\\u0438\\u0440\\u0430 \\u0410\\u0431\\u044b\\u043b\\u043a\\u0430\\u043a\\u043e\\u0432\\u043d\\u0430\",\"\\u041d\\u0438\\u043a\\u043e\\u043b\\u0430\\u0435\\u0432\\u0430 \\u041d\\u0430\\u0434\\u0435\\u0436\\u0434\\u0430 \\u0413\\u0440\\u0438\\u0433\\u043e\\u0440\\u044c\\u0435\\u0432\\u043d\\u0430\",\"\\u041e\\u043b\\u044c\\u0445\\u043e\\u0432\\u0441\\u043a\\u0430\\u044f \\u0410\\u043b\\u044c\\u0431\\u0438\\u043d\\u0430 \\u0412\\u043b\\u0430\\u0434\\u0438\\u043c\\u0438\\u0440\\u043e\\u0432\\u043d\\u0430\",\"\\u041f\\u0443\\u0437\\u0430\\u043d\\u043e\\u0432\\u0430 \\u041b\\u0438\\u0434\\u0438\\u044f \\u0421\\u0435\\u0440\\u0433\\u0435\\u0435\\u0432\\u043d\\u0430\",\"\\u0427\\u0438\\u0436\\u043e\\u0432\\u0430 \\u0415\\u043b\\u0435\\u043d\\u0430 \\u0412\\u043b\\u0430\\u0434\\u0438\\u043c\\u0438\\u0440\\u043e\\u0432\\u043d\\u0430\"],\"xaxis\":\"x\",\"y\":[0.5780346820809248,2.142857142857143,9.166666666666666,6.535947712418301,4.666666666666667,2.5316455696202533,6.976744186046512,4.301075268817205,7.894736842105263,7.526881720430108,3.2467532467532463,2.5316455696202533,7.246376811594203,7.009345794392523,3.289473684210526,5.6000000000000005,4.929577464788732],\"yaxis\":\"y\"},{\"alignmentgroup\":\"True\",\"hovertemplate\":\"\\u041c\\u0435\\u0441\\u044f\\u0446=0522<br>\\u0412\\u0440\\u0430\\u0447=%{x}<br>DPV %=%{y}<extra></extra>\",\"legendgroup\":\"0522\",\"marker\":{\"color\":\"#00cc96\",\"pattern\":{\"shape\":\"\"}},\"name\":\"0522\",\"offsetgroup\":\"0522\",\"orientation\":\"v\",\"showlegend\":true,\"textposition\":\"auto\",\"type\":\"bar\",\"x\":[\"\\u0410\\u043b\\u0435\\u043a\\u0441\\u0430\\u043d\\u0434\\u0440\\u043e\\u0432\\u0430 \\u0421\\u0432\\u0435\\u0442\\u043b\\u0430\\u043d\\u0430 \\u0412\\u0438\\u043a\\u0442\\u043e\\u0440\\u043e\\u0432\\u043d\\u0430\",\"\\u0412\\u043b\\u0430\\u0441\\u043e\\u0432\\u0430 \\u0410\\u043b\\u044c\\u0444\\u0438\\u044f \\u041b\\u044f\\u0431\\u0438\\u0431\\u043e\\u0432\\u043d\\u0430\",\"\\u0412\\u043e\\u043b\\u043e\\u0434\\u0438\\u043d \\u041f\\u0430\\u0432\\u0435\\u043b \\u042e\\u0440\\u044c\\u0435\\u0432\\u0438\\u0447\",\"\\u0413\\u043e\\u0440\\u0431\\u0438\\u043a\\u043e\\u0432\\u0430 \\u042d\\u043b\\u044c\\u0444\\u0438\\u044f \\u0420\\u0430\\u0448\\u0438\\u0442\\u043e\\u0432\\u043d\\u0430\",\"\\u0417\\u0430\\u0445\\u0430\\u0440\\u043e\\u0432 \\u0418\\u0432\\u0430\\u043d \\u0412\\u043b\\u0430\\u0434\\u0438\\u043c\\u0438\\u0440\\u043e\\u0432\\u0438\\u0447\",\"\\u041a\\u0430\\u043c\\u044b\\u043d\\u043e\\u0432\\u0430 \\u041d\\u0430\\u0442\\u0430\\u043b\\u0438\\u044f \\u0412\\u0430\\u043b\\u0435\\u0440\\u0438\\u0435\\u0432\\u043d\\u0430\",\"\\u041a\\u0443\\u043a\\u0443\\u0448\\u043a\\u0438\\u043d\\u0430 \\u041b\\u0430\\u0440\\u0438\\u0441\\u0430 \\u0420\\u0430\\u043c\\u0437\\u0430\\u043d\\u043e\\u0432\\u043d\\u0430\",\"\\u041b\\u043e\\u043f\\u0430\\u0442\\u043a\\u0438\\u043d\\u0430 \\u0410\\u043b\\u0451\\u043d\\u0430 \\u0421\\u0435\\u0440\\u0433\\u0435\\u0435\\u0432\\u043d\\u0430\",\"\\u041c\\u0430\\u043a\\u0441\\u0438\\u043c\\u0435\\u0446 \\u0418\\u0440\\u0438\\u043d\\u0430 \\u0418\\u0432\\u0430\\u043d\\u043e\\u0432\\u043d\\u0430\",\"\\u041c\\u043a\\u0440\\u0442\\u0447\\u044f\\u043d \\u0422\\u0430\\u0440\\u043e\\u043d \\u0410\\u0440\\u0441\\u0435\\u043d\\u043e\\u0432\\u0438\\u0447\",\"\\u041c\\u043e\\u0440\\u043e\\u0448\\u0435\\u043d\\u043a\\u043e\\u0432\\u0430 \\u0413\\u0443\\u043b\\u044c\\u043c\\u0438\\u0440\\u0430 \\u0410\\u0431\\u044b\\u043b\\u043a\\u0430\\u043a\\u043e\\u0432\\u043d\\u0430\",\"\\u041d\\u0438\\u043a\\u043e\\u043b\\u0430\\u0435\\u0432\\u0430 \\u041d\\u0430\\u0434\\u0435\\u0436\\u0434\\u0430 \\u0413\\u0440\\u0438\\u0433\\u043e\\u0440\\u044c\\u0435\\u0432\\u043d\\u0430\",\"\\u041e\\u043b\\u044c\\u0445\\u043e\\u0432\\u0441\\u043a\\u0430\\u044f \\u0410\\u043b\\u044c\\u0431\\u0438\\u043d\\u0430 \\u0412\\u043b\\u0430\\u0434\\u0438\\u043c\\u0438\\u0440\\u043e\\u0432\\u043d\\u0430\",\"\\u041f\\u0443\\u0437\\u0430\\u043d\\u043e\\u0432\\u0430 \\u041b\\u0438\\u0434\\u0438\\u044f \\u0421\\u0435\\u0440\\u0433\\u0435\\u0435\\u0432\\u043d\\u0430\",\"\\u0421\\u043a\\u0430\\u043b\\u043a\\u043e\\u0432\\u0438\\u0447 \\u0418\\u043d\\u043d\\u0430 \\u0412\\u0430\\u043b\\u0435\\u0440\\u044c\\u0435\\u0432\\u043d\\u0430\",\"\\u0427\\u0438\\u0436\\u043e\\u0432\\u0430 \\u0415\\u043b\\u0435\\u043d\\u0430 \\u0412\\u043b\\u0430\\u0434\\u0438\\u043c\\u0438\\u0440\\u043e\\u0432\\u043d\\u0430\"],\"xaxis\":\"x\",\"y\":[4.838709677419355,3.3333333333333335,18.181818181818183,5.555555555555555,2.3255813953488373,6.976744186046512,3.278688524590164,1.8518518518518516,16.0,1.7543859649122806,4.3478260869565215,7.526881720430108,5.88235294117647,5.555555555555555,8.333333333333332,5.555555555555555],\"yaxis\":\"y\"},{\"alignmentgroup\":\"True\",\"hovertemplate\":\"\\u041c\\u0435\\u0441\\u044f\\u0446=0422<br>\\u0412\\u0440\\u0430\\u0447=%{x}<br>DPV %=%{y}<extra></extra>\",\"legendgroup\":\"0422\",\"marker\":{\"color\":\"#ab63fa\",\"pattern\":{\"shape\":\"\"}},\"name\":\"0422\",\"offsetgroup\":\"0422\",\"orientation\":\"v\",\"showlegend\":true,\"textposition\":\"auto\",\"type\":\"bar\",\"x\":[\"\\u0412\\u043b\\u0430\\u0441\\u043e\\u0432\\u0430 \\u0410\\u043b\\u044c\\u0444\\u0438\\u044f \\u041b\\u044f\\u0431\\u0438\\u0431\\u043e\\u0432\\u043d\\u0430\",\"\\u0412\\u043e\\u043b\\u043e\\u0434\\u0438\\u043d \\u041f\\u0430\\u0432\\u0435\\u043b \\u042e\\u0440\\u044c\\u0435\\u0432\\u0438\\u0447\",\"\\u0413\\u0432\\u043e\\u0437\\u0434\\u0435\\u0432\\u0430 \\u0422\\u0430\\u0442\\u044c\\u044f\\u043d\\u0430 \\u0410\\u043d\\u0430\\u0442\\u043e\\u043b\\u044c\\u0435\\u0432\\u043d\\u0430\",\"\\u0413\\u043e\\u0440\\u0431\\u0438\\u043a\\u043e\\u0432\\u0430 \\u042d\\u043b\\u044c\\u0444\\u0438\\u044f \\u0420\\u0430\\u0448\\u0438\\u0442\\u043e\\u0432\\u043d\\u0430\",\"\\u0417\\u0430\\u0445\\u0430\\u0440\\u043e\\u0432 \\u0418\\u0432\\u0430\\u043d \\u0412\\u043b\\u0430\\u0434\\u0438\\u043c\\u0438\\u0440\\u043e\\u0432\\u0438\\u0447\",\"\\u041a\\u0430\\u043c\\u044b\\u043d\\u043e\\u0432\\u0430 \\u041d\\u0430\\u0442\\u0430\\u043b\\u0438\\u044f \\u0412\\u0430\\u043b\\u0435\\u0440\\u0438\\u0435\\u0432\\u043d\\u0430\",\"\\u041a\\u043e\\u0432\\u0448\\u043e\\u0432 \\u0410\\u043b\\u0435\\u043a\\u0441\\u0430\\u043d\\u0434\\u0440 \\u0410\\u043b\\u0435\\u043a\\u0441\\u0430\\u043d\\u0434\\u0440\\u043e\\u0432\\u0438\\u0447\",\"\\u041a\\u0443\\u043a\\u0443\\u0448\\u043a\\u0438\\u043d\\u0430 \\u041b\\u0430\\u0440\\u0438\\u0441\\u0430 \\u0420\\u0430\\u043c\\u0437\\u0430\\u043d\\u043e\\u0432\\u043d\\u0430\",\"\\u041b\\u043e\\u043f\\u0430\\u0442\\u043a\\u0438\\u043d\\u0430 \\u0410\\u043b\\u0451\\u043d\\u0430 \\u0421\\u0435\\u0440\\u0433\\u0435\\u0435\\u0432\\u043d\\u0430\",\"\\u041c\\u0430\\u043a\\u0441\\u0438\\u043c\\u0435\\u0446 \\u0418\\u0440\\u0438\\u043d\\u0430 \\u0418\\u0432\\u0430\\u043d\\u043e\\u0432\\u043d\\u0430\",\"\\u041c\\u043a\\u0440\\u0442\\u0447\\u044f\\u043d \\u0422\\u0430\\u0440\\u043e\\u043d \\u0410\\u0440\\u0441\\u0435\\u043d\\u043e\\u0432\\u0438\\u0447\",\"\\u041c\\u043e\\u0440\\u043e\\u0448\\u0435\\u043d\\u043a\\u043e\\u0432\\u0430 \\u0413\\u0443\\u043b\\u044c\\u043c\\u0438\\u0440\\u0430 \\u0410\\u0431\\u044b\\u043b\\u043a\\u0430\\u043a\\u043e\\u0432\\u043d\\u0430\",\"\\u041d\\u0438\\u043a\\u043e\\u043b\\u0430\\u0435\\u0432\\u0430 \\u041d\\u0430\\u0434\\u0435\\u0436\\u0434\\u0430 \\u0413\\u0440\\u0438\\u0433\\u043e\\u0440\\u044c\\u0435\\u0432\\u043d\\u0430\",\"\\u041e\\u043b\\u044c\\u0445\\u043e\\u0432\\u0441\\u043a\\u0430\\u044f \\u0410\\u043b\\u044c\\u0431\\u0438\\u043d\\u0430 \\u0412\\u043b\\u0430\\u0434\\u0438\\u043c\\u0438\\u0440\\u043e\\u0432\\u043d\\u0430\",\"\\u041f\\u0443\\u0437\\u0430\\u043d\\u043e\\u0432\\u0430 \\u041b\\u0438\\u0434\\u0438\\u044f \\u0421\\u0435\\u0440\\u0433\\u0435\\u0435\\u0432\\u043d\\u0430\",\"\\u0421\\u043a\\u0430\\u043b\\u043a\\u043e\\u0432\\u0438\\u0447 \\u0418\\u043d\\u043d\\u0430 \\u0412\\u0430\\u043b\\u0435\\u0440\\u044c\\u0435\\u0432\\u043d\\u0430\",\"\\u0427\\u0438\\u0436\\u043e\\u0432\\u0430 \\u0415\\u043b\\u0435\\u043d\\u0430 \\u0412\\u043b\\u0430\\u0434\\u0438\\u043c\\u0438\\u0440\\u043e\\u0432\\u043d\\u0430\"],\"xaxis\":\"x\",\"y\":[0.5076142131979695,12.666666666666668,4.819277108433735,6.41025641025641,5.161290322580645,8.333333333333332,3.361344537815126,6.875000000000001,9.933774834437086,4.3478260869565215,8.280254777070063,7.18562874251497,6.222222222222222,8.045977011494253,7.086614173228346,6.25,3.8095238095238098],\"yaxis\":\"y\"},{\"alignmentgroup\":\"True\",\"hovertemplate\":\"\\u041c\\u0435\\u0441\\u044f\\u0446=0222<br>\\u0412\\u0440\\u0430\\u0447=%{x}<br>DPV %=%{y}<extra></extra>\",\"legendgroup\":\"0222\",\"marker\":{\"color\":\"#FFA15A\",\"pattern\":{\"shape\":\"\"}},\"name\":\"0222\",\"offsetgroup\":\"0222\",\"orientation\":\"v\",\"showlegend\":true,\"textposition\":\"auto\",\"type\":\"bar\",\"x\":[\"\\u0412\\u043e\\u043b\\u043e\\u0434\\u0438\\u043d \\u041f\\u0430\\u0432\\u0435\\u043b \\u042e\\u0440\\u044c\\u0435\\u0432\\u0438\\u0447\",\"\\u0413\\u0432\\u043e\\u0437\\u0434\\u0435\\u0432\\u0430 \\u0422\\u0430\\u0442\\u044c\\u044f\\u043d\\u0430 \\u0410\\u043d\\u0430\\u0442\\u043e\\u043b\\u044c\\u0435\\u0432\\u043d\\u0430\",\"\\u0413\\u043e\\u0440\\u0431\\u0438\\u043a\\u043e\\u0432\\u0430 \\u042d\\u043b\\u044c\\u0444\\u0438\\u044f \\u0420\\u0430\\u0448\\u0438\\u0442\\u043e\\u0432\\u043d\\u0430\",\"\\u041a\\u0430\\u043c\\u044b\\u043d\\u043e\\u0432\\u0430 \\u041d\\u0430\\u0442\\u0430\\u043b\\u0438\\u044f \\u0412\\u0430\\u043b\\u0435\\u0440\\u0438\\u0435\\u0432\\u043d\\u0430\",\"\\u041a\\u043e\\u0432\\u0448\\u043e\\u0432 \\u0410\\u043b\\u0435\\u043a\\u0441\\u0430\\u043d\\u0434\\u0440 \\u0410\\u043b\\u0435\\u043a\\u0441\\u0430\\u043d\\u0434\\u0440\\u043e\\u0432\\u0438\\u0447\",\"\\u041a\\u0443\\u043a\\u0443\\u0448\\u043a\\u0438\\u043d\\u0430 \\u041b\\u0430\\u0440\\u0438\\u0441\\u0430 \\u0420\\u0430\\u043c\\u0437\\u0430\\u043d\\u043e\\u0432\\u043d\\u0430\",\"\\u041b\\u043e\\u043f\\u0430\\u0442\\u043a\\u0438\\u043d\\u0430 \\u0410\\u043b\\u0451\\u043d\\u0430 \\u0421\\u0435\\u0440\\u0433\\u0435\\u0435\\u0432\\u043d\\u0430\",\"\\u041c\\u0430\\u043a\\u0441\\u0438\\u043c\\u0435\\u0446 \\u0418\\u0440\\u0438\\u043d\\u0430 \\u0418\\u0432\\u0430\\u043d\\u043e\\u0432\\u043d\\u0430\",\"\\u041c\\u043e\\u0440\\u043e\\u0448\\u0435\\u043d\\u043a\\u043e\\u0432\\u0430 \\u0413\\u0443\\u043b\\u044c\\u043c\\u0438\\u0440\\u0430 \\u0410\\u0431\\u044b\\u043b\\u043a\\u0430\\u043a\\u043e\\u0432\\u043d\\u0430\",\"\\u041d\\u0438\\u043a\\u043e\\u043b\\u0430\\u0435\\u0432\\u0430 \\u041d\\u0430\\u0434\\u0435\\u0436\\u0434\\u0430 \\u0413\\u0440\\u0438\\u0433\\u043e\\u0440\\u044c\\u0435\\u0432\\u043d\\u0430\",\"\\u041e\\u043b\\u044c\\u0445\\u043e\\u0432\\u0441\\u043a\\u0430\\u044f \\u0410\\u043b\\u044c\\u0431\\u0438\\u043d\\u0430 \\u0412\\u043b\\u0430\\u0434\\u0438\\u043c\\u0438\\u0440\\u043e\\u0432\\u043d\\u0430\",\"\\u041f\\u0443\\u0437\\u0430\\u043d\\u043e\\u0432\\u0430 \\u041b\\u0438\\u0434\\u0438\\u044f \\u0421\\u0435\\u0440\\u0433\\u0435\\u0435\\u0432\\u043d\\u0430\",\"\\u0427\\u0438\\u0436\\u043e\\u0432\\u0430 \\u0415\\u043b\\u0435\\u043d\\u0430 \\u0412\\u043b\\u0430\\u0434\\u0438\\u043c\\u0438\\u0440\\u043e\\u0432\\u043d\\u0430\"],\"xaxis\":\"x\",\"y\":[13.91304347826087,4.651162790697675,3.125,7.6923076923076925,5.194805194805195,4.819277108433735,6.451612903225806,5.47945205479452,10.81081081081081,6.7114093959731544,4.37956204379562,3.2,1.694915254237288],\"yaxis\":\"y\"}],                        {\"barmode\":\"group\",\"legend\":{\"title\":{\"text\":\"\\u041c\\u0435\\u0441\\u044f\\u0446\"},\"tracegroupgap\":0},\"template\":{\"data\":{\"bar\":[{\"error_x\":{\"color\":\"#2a3f5f\"},\"error_y\":{\"color\":\"#2a3f5f\"},\"marker\":{\"line\":{\"color\":\"#E5ECF6\",\"width\":0.5},\"pattern\":{\"fillmode\":\"overlay\",\"size\":10,\"solidity\":0.2}},\"type\":\"bar\"}],\"barpolar\":[{\"marker\":{\"line\":{\"color\":\"#E5ECF6\",\"width\":0.5},\"pattern\":{\"fillmode\":\"overlay\",\"size\":10,\"solidity\":0.2}},\"type\":\"barpolar\"}],\"carpet\":[{\"aaxis\":{\"endlinecolor\":\"#2a3f5f\",\"gridcolor\":\"white\",\"linecolor\":\"white\",\"minorgridcolor\":\"white\",\"startlinecolor\":\"#2a3f5f\"},\"baxis\":{\"endlinecolor\":\"#2a3f5f\",\"gridcolor\":\"white\",\"linecolor\":\"white\",\"minorgridcolor\":\"white\",\"startlinecolor\":\"#2a3f5f\"},\"type\":\"carpet\"}],\"choropleth\":[{\"colorbar\":{\"outlinewidth\":0,\"ticks\":\"\"},\"type\":\"choropleth\"}],\"contour\":[{\"colorbar\":{\"outlinewidth\":0,\"ticks\":\"\"},\"colorscale\":[[0.0,\"#0d0887\"],[0.1111111111111111,\"#46039f\"],[0.2222222222222222,\"#7201a8\"],[0.3333333333333333,\"#9c179e\"],[0.4444444444444444,\"#bd3786\"],[0.5555555555555556,\"#d8576b\"],[0.6666666666666666,\"#ed7953\"],[0.7777777777777778,\"#fb9f3a\"],[0.8888888888888888,\"#fdca26\"],[1.0,\"#f0f921\"]],\"type\":\"contour\"}],\"contourcarpet\":[{\"colorbar\":{\"outlinewidth\":0,\"ticks\":\"\"},\"type\":\"contourcarpet\"}],\"heatmap\":[{\"colorbar\":{\"outlinewidth\":0,\"ticks\":\"\"},\"colorscale\":[[0.0,\"#0d0887\"],[0.1111111111111111,\"#46039f\"],[0.2222222222222222,\"#7201a8\"],[0.3333333333333333,\"#9c179e\"],[0.4444444444444444,\"#bd3786\"],[0.5555555555555556,\"#d8576b\"],[0.6666666666666666,\"#ed7953\"],[0.7777777777777778,\"#fb9f3a\"],[0.8888888888888888,\"#fdca26\"],[1.0,\"#f0f921\"]],\"type\":\"heatmap\"}],\"heatmapgl\":[{\"colorbar\":{\"outlinewidth\":0,\"ticks\":\"\"},\"colorscale\":[[0.0,\"#0d0887\"],[0.1111111111111111,\"#46039f\"],[0.2222222222222222,\"#7201a8\"],[0.3333333333333333,\"#9c179e\"],[0.4444444444444444,\"#bd3786\"],[0.5555555555555556,\"#d8576b\"],[0.6666666666666666,\"#ed7953\"],[0.7777777777777778,\"#fb9f3a\"],[0.8888888888888888,\"#fdca26\"],[1.0,\"#f0f921\"]],\"type\":\"heatmapgl\"}],\"histogram\":[{\"marker\":{\"pattern\":{\"fillmode\":\"overlay\",\"size\":10,\"solidity\":0.2}},\"type\":\"histogram\"}],\"histogram2d\":[{\"colorbar\":{\"outlinewidth\":0,\"ticks\":\"\"},\"colorscale\":[[0.0,\"#0d0887\"],[0.1111111111111111,\"#46039f\"],[0.2222222222222222,\"#7201a8\"],[0.3333333333333333,\"#9c179e\"],[0.4444444444444444,\"#bd3786\"],[0.5555555555555556,\"#d8576b\"],[0.6666666666666666,\"#ed7953\"],[0.7777777777777778,\"#fb9f3a\"],[0.8888888888888888,\"#fdca26\"],[1.0,\"#f0f921\"]],\"type\":\"histogram2d\"}],\"histogram2dcontour\":[{\"colorbar\":{\"outlinewidth\":0,\"ticks\":\"\"},\"colorscale\":[[0.0,\"#0d0887\"],[0.1111111111111111,\"#46039f\"],[0.2222222222222222,\"#7201a8\"],[0.3333333333333333,\"#9c179e\"],[0.4444444444444444,\"#bd3786\"],[0.5555555555555556,\"#d8576b\"],[0.6666666666666666,\"#ed7953\"],[0.7777777777777778,\"#fb9f3a\"],[0.8888888888888888,\"#fdca26\"],[1.0,\"#f0f921\"]],\"type\":\"histogram2dcontour\"}],\"mesh3d\":[{\"colorbar\":{\"outlinewidth\":0,\"ticks\":\"\"},\"type\":\"mesh3d\"}],\"parcoords\":[{\"line\":{\"colorbar\":{\"outlinewidth\":0,\"ticks\":\"\"}},\"type\":\"parcoords\"}],\"pie\":[{\"automargin\":true,\"type\":\"pie\"}],\"scatter\":[{\"marker\":{\"colorbar\":{\"outlinewidth\":0,\"ticks\":\"\"}},\"type\":\"scatter\"}],\"scatter3d\":[{\"line\":{\"colorbar\":{\"outlinewidth\":0,\"ticks\":\"\"}},\"marker\":{\"colorbar\":{\"outlinewidth\":0,\"ticks\":\"\"}},\"type\":\"scatter3d\"}],\"scattercarpet\":[{\"marker\":{\"colorbar\":{\"outlinewidth\":0,\"ticks\":\"\"}},\"type\":\"scattercarpet\"}],\"scattergeo\":[{\"marker\":{\"colorbar\":{\"outlinewidth\":0,\"ticks\":\"\"}},\"type\":\"scattergeo\"}],\"scattergl\":[{\"marker\":{\"colorbar\":{\"outlinewidth\":0,\"ticks\":\"\"}},\"type\":\"scattergl\"}],\"scattermapbox\":[{\"marker\":{\"colorbar\":{\"outlinewidth\":0,\"ticks\":\"\"}},\"type\":\"scattermapbox\"}],\"scatterpolar\":[{\"marker\":{\"colorbar\":{\"outlinewidth\":0,\"ticks\":\"\"}},\"type\":\"scatterpolar\"}],\"scatterpolargl\":[{\"marker\":{\"colorbar\":{\"outlinewidth\":0,\"ticks\":\"\"}},\"type\":\"scatterpolargl\"}],\"scatterternary\":[{\"marker\":{\"colorbar\":{\"outlinewidth\":0,\"ticks\":\"\"}},\"type\":\"scatterternary\"}],\"surface\":[{\"colorbar\":{\"outlinewidth\":0,\"ticks\":\"\"},\"colorscale\":[[0.0,\"#0d0887\"],[0.1111111111111111,\"#46039f\"],[0.2222222222222222,\"#7201a8\"],[0.3333333333333333,\"#9c179e\"],[0.4444444444444444,\"#bd3786\"],[0.5555555555555556,\"#d8576b\"],[0.6666666666666666,\"#ed7953\"],[0.7777777777777778,\"#fb9f3a\"],[0.8888888888888888,\"#fdca26\"],[1.0,\"#f0f921\"]],\"type\":\"surface\"}],\"table\":[{\"cells\":{\"fill\":{\"color\":\"#EBF0F8\"},\"line\":{\"color\":\"white\"}},\"header\":{\"fill\":{\"color\":\"#C8D4E3\"},\"line\":{\"color\":\"white\"}},\"type\":\"table\"}]},\"layout\":{\"annotationdefaults\":{\"arrowcolor\":\"#2a3f5f\",\"arrowhead\":0,\"arrowwidth\":1},\"autotypenumbers\":\"strict\",\"coloraxis\":{\"colorbar\":{\"outlinewidth\":0,\"ticks\":\"\"}},\"colorscale\":{\"diverging\":[[0,\"#8e0152\"],[0.1,\"#c51b7d\"],[0.2,\"#de77ae\"],[0.3,\"#f1b6da\"],[0.4,\"#fde0ef\"],[0.5,\"#f7f7f7\"],[0.6,\"#e6f5d0\"],[0.7,\"#b8e186\"],[0.8,\"#7fbc41\"],[0.9,\"#4d9221\"],[1,\"#276419\"]],\"sequential\":[[0.0,\"#0d0887\"],[0.1111111111111111,\"#46039f\"],[0.2222222222222222,\"#7201a8\"],[0.3333333333333333,\"#9c179e\"],[0.4444444444444444,\"#bd3786\"],[0.5555555555555556,\"#d8576b\"],[0.6666666666666666,\"#ed7953\"],[0.7777777777777778,\"#fb9f3a\"],[0.8888888888888888,\"#fdca26\"],[1.0,\"#f0f921\"]],\"sequentialminus\":[[0.0,\"#0d0887\"],[0.1111111111111111,\"#46039f\"],[0.2222222222222222,\"#7201a8\"],[0.3333333333333333,\"#9c179e\"],[0.4444444444444444,\"#bd3786\"],[0.5555555555555556,\"#d8576b\"],[0.6666666666666666,\"#ed7953\"],[0.7777777777777778,\"#fb9f3a\"],[0.8888888888888888,\"#fdca26\"],[1.0,\"#f0f921\"]]},\"colorway\":[\"#636efa\",\"#EF553B\",\"#00cc96\",\"#ab63fa\",\"#FFA15A\",\"#19d3f3\",\"#FF6692\",\"#B6E880\",\"#FF97FF\",\"#FECB52\"],\"font\":{\"color\":\"#2a3f5f\"},\"geo\":{\"bgcolor\":\"white\",\"lakecolor\":\"white\",\"landcolor\":\"#E5ECF6\",\"showlakes\":true,\"showland\":true,\"subunitcolor\":\"white\"},\"hoverlabel\":{\"align\":\"left\"},\"hovermode\":\"closest\",\"mapbox\":{\"style\":\"light\"},\"paper_bgcolor\":\"white\",\"plot_bgcolor\":\"#E5ECF6\",\"polar\":{\"angularaxis\":{\"gridcolor\":\"white\",\"linecolor\":\"white\",\"ticks\":\"\"},\"bgcolor\":\"#E5ECF6\",\"radialaxis\":{\"gridcolor\":\"white\",\"linecolor\":\"white\",\"ticks\":\"\"}},\"scene\":{\"xaxis\":{\"backgroundcolor\":\"#E5ECF6\",\"gridcolor\":\"white\",\"gridwidth\":2,\"linecolor\":\"white\",\"showbackground\":true,\"ticks\":\"\",\"zerolinecolor\":\"white\"},\"yaxis\":{\"backgroundcolor\":\"#E5ECF6\",\"gridcolor\":\"white\",\"gridwidth\":2,\"linecolor\":\"white\",\"showbackground\":true,\"ticks\":\"\",\"zerolinecolor\":\"white\"},\"zaxis\":{\"backgroundcolor\":\"#E5ECF6\",\"gridcolor\":\"white\",\"gridwidth\":2,\"linecolor\":\"white\",\"showbackground\":true,\"ticks\":\"\",\"zerolinecolor\":\"white\"}},\"shapedefaults\":{\"line\":{\"color\":\"#2a3f5f\"}},\"ternary\":{\"aaxis\":{\"gridcolor\":\"white\",\"linecolor\":\"white\",\"ticks\":\"\"},\"baxis\":{\"gridcolor\":\"white\",\"linecolor\":\"white\",\"ticks\":\"\"},\"bgcolor\":\"#E5ECF6\",\"caxis\":{\"gridcolor\":\"white\",\"linecolor\":\"white\",\"ticks\":\"\"}},\"title\":{\"x\":0.05},\"xaxis\":{\"automargin\":true,\"gridcolor\":\"white\",\"linecolor\":\"white\",\"ticks\":\"\",\"title\":{\"standoff\":15},\"zerolinecolor\":\"white\",\"zerolinewidth\":2},\"yaxis\":{\"automargin\":true,\"gridcolor\":\"white\",\"linecolor\":\"white\",\"ticks\":\"\",\"title\":{\"standoff\":15},\"zerolinecolor\":\"white\",\"zerolinewidth\":2}}},\"title\":{\"text\":\"\\u041f\\u0440\\u043e\\u0446\\u0435\\u043d\\u0442 \\u043f\\u0440\\u0438\\u0435\\u043c\\u043e\\u0432 \\u0441 \\u043c\\u044b\\u0448\\u044c\\u044f\\u043a\\u043e\\u043c \\u0432 2022 \\u0433\\u043e\\u0434\\u0443\"},\"xaxis\":{\"anchor\":\"y\",\"categoryorder\":\"total descending\",\"domain\":[0.0,1.0],\"title\":{\"text\":\"\\u0412\\u0440\\u0430\\u0447\"}},\"yaxis\":{\"anchor\":\"x\",\"domain\":[0.0,1.0],\"title\":{\"text\":\"DPV %\"}}},                        {\"responsive\": true}                    ).then(function(){\n",
       "                            \n",
       "var gd = document.getElementById('aaee6b44-50e4-4228-8bf9-1030540b2664');\n",
       "var x = new MutationObserver(function (mutations, observer) {{\n",
       "        var display = window.getComputedStyle(gd).display;\n",
       "        if (!display || display === 'none') {{\n",
       "            console.log([gd, 'removed!']);\n",
       "            Plotly.purge(gd);\n",
       "            observer.disconnect();\n",
       "        }}\n",
       "}});\n",
       "\n",
       "// Listen for the removal of the full notebook cells\n",
       "var notebookContainer = gd.closest('#notebook-container');\n",
       "if (notebookContainer) {{\n",
       "    x.observe(notebookContainer, {childList: true});\n",
       "}}\n",
       "\n",
       "// Listen for the clearing of the current output cell\n",
       "var outputEl = gd.closest('.output');\n",
       "if (outputEl) {{\n",
       "    x.observe(outputEl, {childList: true});\n",
       "}}\n",
       "\n",
       "                        })                };                });            </script>        </div>"
      ]
     },
     "metadata": {},
     "output_type": "display_data"
    }
   ],
   "source": [
    "# DPV по месяцу и врачу (цвет)\n",
    "\n",
    "px.bar(df_result_by_month.query('DPV > 0'), \n",
    "       x='Врач',\n",
    "       y='DPV %',\n",
    "       color='Месяц',\n",
    "       barmode='group',\n",
    "       title=f\"Процент приемов с мышьяком в {year} году\").update_xaxes(categoryorder='total descending')"
   ]
  },
  {
   "cell_type": "code",
   "execution_count": 231,
   "metadata": {},
   "outputs": [
    {
     "data": {
      "application/vnd.plotly.v1+json": {
       "config": {
        "plotlyServerURL": "https://plot.ly"
       },
       "data": [
        {
         "alignmentgroup": "True",
         "hovertemplate": "Врач=%{x}<br>avg_rub=%{y}<extra></extra>",
         "legendgroup": "",
         "marker": {
          "color": "#636efa",
          "pattern": {
           "shape": ""
          }
         },
         "name": "",
         "offsetgroup": "",
         "orientation": "v",
         "showlegend": false,
         "textposition": "auto",
         "type": "bar",
         "x": [
          "Коваленко Ольга Эдуардовна",
          "Скалкович Инна Валерьевна",
          "Володин Павел Юрьевич",
          "Мкртчян Тарон Арсенович",
          "Чижова Елена Владимировна",
          "Пузанова Лидия Сергеевна",
          "Николаева Надежда Григорьевна",
          "Литвинова Нина Алексеевна",
          "Камынова Наталия Валериевна",
          "Ковшов Александр Александрович",
          "Лопаткина Алёна Сергеевна",
          "Максимец Ирина Ивановна",
          "Власова Альфия Лябибовна",
          "Гвоздева Татьяна Анатольевна",
          "Горбикова Эльфия Рашитовна",
          "Кукушкина Лариса Рамзановна",
          "Захаров Иван Владимирович",
          "Ольховская Альбина Владимировна",
          "Александрова Светлана Викторовна",
          "Морошенкова Гульмира Абылкаковна",
          "Колесова Наталья Викторовна",
          "Завгородный Сергей Валерианович",
          "Володько Валентина Ивановна",
          "Чичикина Галина Павловна",
          "Арутюнян Арутюн Левонович",
          "Рыбак Лилия Сергеевна",
          "Коваленко Ольга Эдуардовна физио"
         ],
         "xaxis": "x",
         "y": [
          2850,
          2620,
          2563,
          2533,
          2511,
          2377,
          2218,
          2211,
          2211,
          2148,
          2148,
          2069,
          2064,
          2005,
          1918,
          1907,
          1895,
          1893,
          1882,
          1858,
          1132,
          921,
          892,
          843,
          791,
          737,
          374
         ],
         "yaxis": "y"
        }
       ],
       "layout": {
        "barmode": "relative",
        "legend": {
         "tracegroupgap": 0
        },
        "template": {
         "data": {
          "bar": [
           {
            "error_x": {
             "color": "#2a3f5f"
            },
            "error_y": {
             "color": "#2a3f5f"
            },
            "marker": {
             "line": {
              "color": "#E5ECF6",
              "width": 0.5
             },
             "pattern": {
              "fillmode": "overlay",
              "size": 10,
              "solidity": 0.2
             }
            },
            "type": "bar"
           }
          ],
          "barpolar": [
           {
            "marker": {
             "line": {
              "color": "#E5ECF6",
              "width": 0.5
             },
             "pattern": {
              "fillmode": "overlay",
              "size": 10,
              "solidity": 0.2
             }
            },
            "type": "barpolar"
           }
          ],
          "carpet": [
           {
            "aaxis": {
             "endlinecolor": "#2a3f5f",
             "gridcolor": "white",
             "linecolor": "white",
             "minorgridcolor": "white",
             "startlinecolor": "#2a3f5f"
            },
            "baxis": {
             "endlinecolor": "#2a3f5f",
             "gridcolor": "white",
             "linecolor": "white",
             "minorgridcolor": "white",
             "startlinecolor": "#2a3f5f"
            },
            "type": "carpet"
           }
          ],
          "choropleth": [
           {
            "colorbar": {
             "outlinewidth": 0,
             "ticks": ""
            },
            "type": "choropleth"
           }
          ],
          "contour": [
           {
            "colorbar": {
             "outlinewidth": 0,
             "ticks": ""
            },
            "colorscale": [
             [
              0,
              "#0d0887"
             ],
             [
              0.1111111111111111,
              "#46039f"
             ],
             [
              0.2222222222222222,
              "#7201a8"
             ],
             [
              0.3333333333333333,
              "#9c179e"
             ],
             [
              0.4444444444444444,
              "#bd3786"
             ],
             [
              0.5555555555555556,
              "#d8576b"
             ],
             [
              0.6666666666666666,
              "#ed7953"
             ],
             [
              0.7777777777777778,
              "#fb9f3a"
             ],
             [
              0.8888888888888888,
              "#fdca26"
             ],
             [
              1,
              "#f0f921"
             ]
            ],
            "type": "contour"
           }
          ],
          "contourcarpet": [
           {
            "colorbar": {
             "outlinewidth": 0,
             "ticks": ""
            },
            "type": "contourcarpet"
           }
          ],
          "heatmap": [
           {
            "colorbar": {
             "outlinewidth": 0,
             "ticks": ""
            },
            "colorscale": [
             [
              0,
              "#0d0887"
             ],
             [
              0.1111111111111111,
              "#46039f"
             ],
             [
              0.2222222222222222,
              "#7201a8"
             ],
             [
              0.3333333333333333,
              "#9c179e"
             ],
             [
              0.4444444444444444,
              "#bd3786"
             ],
             [
              0.5555555555555556,
              "#d8576b"
             ],
             [
              0.6666666666666666,
              "#ed7953"
             ],
             [
              0.7777777777777778,
              "#fb9f3a"
             ],
             [
              0.8888888888888888,
              "#fdca26"
             ],
             [
              1,
              "#f0f921"
             ]
            ],
            "type": "heatmap"
           }
          ],
          "heatmapgl": [
           {
            "colorbar": {
             "outlinewidth": 0,
             "ticks": ""
            },
            "colorscale": [
             [
              0,
              "#0d0887"
             ],
             [
              0.1111111111111111,
              "#46039f"
             ],
             [
              0.2222222222222222,
              "#7201a8"
             ],
             [
              0.3333333333333333,
              "#9c179e"
             ],
             [
              0.4444444444444444,
              "#bd3786"
             ],
             [
              0.5555555555555556,
              "#d8576b"
             ],
             [
              0.6666666666666666,
              "#ed7953"
             ],
             [
              0.7777777777777778,
              "#fb9f3a"
             ],
             [
              0.8888888888888888,
              "#fdca26"
             ],
             [
              1,
              "#f0f921"
             ]
            ],
            "type": "heatmapgl"
           }
          ],
          "histogram": [
           {
            "marker": {
             "pattern": {
              "fillmode": "overlay",
              "size": 10,
              "solidity": 0.2
             }
            },
            "type": "histogram"
           }
          ],
          "histogram2d": [
           {
            "colorbar": {
             "outlinewidth": 0,
             "ticks": ""
            },
            "colorscale": [
             [
              0,
              "#0d0887"
             ],
             [
              0.1111111111111111,
              "#46039f"
             ],
             [
              0.2222222222222222,
              "#7201a8"
             ],
             [
              0.3333333333333333,
              "#9c179e"
             ],
             [
              0.4444444444444444,
              "#bd3786"
             ],
             [
              0.5555555555555556,
              "#d8576b"
             ],
             [
              0.6666666666666666,
              "#ed7953"
             ],
             [
              0.7777777777777778,
              "#fb9f3a"
             ],
             [
              0.8888888888888888,
              "#fdca26"
             ],
             [
              1,
              "#f0f921"
             ]
            ],
            "type": "histogram2d"
           }
          ],
          "histogram2dcontour": [
           {
            "colorbar": {
             "outlinewidth": 0,
             "ticks": ""
            },
            "colorscale": [
             [
              0,
              "#0d0887"
             ],
             [
              0.1111111111111111,
              "#46039f"
             ],
             [
              0.2222222222222222,
              "#7201a8"
             ],
             [
              0.3333333333333333,
              "#9c179e"
             ],
             [
              0.4444444444444444,
              "#bd3786"
             ],
             [
              0.5555555555555556,
              "#d8576b"
             ],
             [
              0.6666666666666666,
              "#ed7953"
             ],
             [
              0.7777777777777778,
              "#fb9f3a"
             ],
             [
              0.8888888888888888,
              "#fdca26"
             ],
             [
              1,
              "#f0f921"
             ]
            ],
            "type": "histogram2dcontour"
           }
          ],
          "mesh3d": [
           {
            "colorbar": {
             "outlinewidth": 0,
             "ticks": ""
            },
            "type": "mesh3d"
           }
          ],
          "parcoords": [
           {
            "line": {
             "colorbar": {
              "outlinewidth": 0,
              "ticks": ""
             }
            },
            "type": "parcoords"
           }
          ],
          "pie": [
           {
            "automargin": true,
            "type": "pie"
           }
          ],
          "scatter": [
           {
            "marker": {
             "colorbar": {
              "outlinewidth": 0,
              "ticks": ""
             }
            },
            "type": "scatter"
           }
          ],
          "scatter3d": [
           {
            "line": {
             "colorbar": {
              "outlinewidth": 0,
              "ticks": ""
             }
            },
            "marker": {
             "colorbar": {
              "outlinewidth": 0,
              "ticks": ""
             }
            },
            "type": "scatter3d"
           }
          ],
          "scattercarpet": [
           {
            "marker": {
             "colorbar": {
              "outlinewidth": 0,
              "ticks": ""
             }
            },
            "type": "scattercarpet"
           }
          ],
          "scattergeo": [
           {
            "marker": {
             "colorbar": {
              "outlinewidth": 0,
              "ticks": ""
             }
            },
            "type": "scattergeo"
           }
          ],
          "scattergl": [
           {
            "marker": {
             "colorbar": {
              "outlinewidth": 0,
              "ticks": ""
             }
            },
            "type": "scattergl"
           }
          ],
          "scattermapbox": [
           {
            "marker": {
             "colorbar": {
              "outlinewidth": 0,
              "ticks": ""
             }
            },
            "type": "scattermapbox"
           }
          ],
          "scatterpolar": [
           {
            "marker": {
             "colorbar": {
              "outlinewidth": 0,
              "ticks": ""
             }
            },
            "type": "scatterpolar"
           }
          ],
          "scatterpolargl": [
           {
            "marker": {
             "colorbar": {
              "outlinewidth": 0,
              "ticks": ""
             }
            },
            "type": "scatterpolargl"
           }
          ],
          "scatterternary": [
           {
            "marker": {
             "colorbar": {
              "outlinewidth": 0,
              "ticks": ""
             }
            },
            "type": "scatterternary"
           }
          ],
          "surface": [
           {
            "colorbar": {
             "outlinewidth": 0,
             "ticks": ""
            },
            "colorscale": [
             [
              0,
              "#0d0887"
             ],
             [
              0.1111111111111111,
              "#46039f"
             ],
             [
              0.2222222222222222,
              "#7201a8"
             ],
             [
              0.3333333333333333,
              "#9c179e"
             ],
             [
              0.4444444444444444,
              "#bd3786"
             ],
             [
              0.5555555555555556,
              "#d8576b"
             ],
             [
              0.6666666666666666,
              "#ed7953"
             ],
             [
              0.7777777777777778,
              "#fb9f3a"
             ],
             [
              0.8888888888888888,
              "#fdca26"
             ],
             [
              1,
              "#f0f921"
             ]
            ],
            "type": "surface"
           }
          ],
          "table": [
           {
            "cells": {
             "fill": {
              "color": "#EBF0F8"
             },
             "line": {
              "color": "white"
             }
            },
            "header": {
             "fill": {
              "color": "#C8D4E3"
             },
             "line": {
              "color": "white"
             }
            },
            "type": "table"
           }
          ]
         },
         "layout": {
          "annotationdefaults": {
           "arrowcolor": "#2a3f5f",
           "arrowhead": 0,
           "arrowwidth": 1
          },
          "autotypenumbers": "strict",
          "coloraxis": {
           "colorbar": {
            "outlinewidth": 0,
            "ticks": ""
           }
          },
          "colorscale": {
           "diverging": [
            [
             0,
             "#8e0152"
            ],
            [
             0.1,
             "#c51b7d"
            ],
            [
             0.2,
             "#de77ae"
            ],
            [
             0.3,
             "#f1b6da"
            ],
            [
             0.4,
             "#fde0ef"
            ],
            [
             0.5,
             "#f7f7f7"
            ],
            [
             0.6,
             "#e6f5d0"
            ],
            [
             0.7,
             "#b8e186"
            ],
            [
             0.8,
             "#7fbc41"
            ],
            [
             0.9,
             "#4d9221"
            ],
            [
             1,
             "#276419"
            ]
           ],
           "sequential": [
            [
             0,
             "#0d0887"
            ],
            [
             0.1111111111111111,
             "#46039f"
            ],
            [
             0.2222222222222222,
             "#7201a8"
            ],
            [
             0.3333333333333333,
             "#9c179e"
            ],
            [
             0.4444444444444444,
             "#bd3786"
            ],
            [
             0.5555555555555556,
             "#d8576b"
            ],
            [
             0.6666666666666666,
             "#ed7953"
            ],
            [
             0.7777777777777778,
             "#fb9f3a"
            ],
            [
             0.8888888888888888,
             "#fdca26"
            ],
            [
             1,
             "#f0f921"
            ]
           ],
           "sequentialminus": [
            [
             0,
             "#0d0887"
            ],
            [
             0.1111111111111111,
             "#46039f"
            ],
            [
             0.2222222222222222,
             "#7201a8"
            ],
            [
             0.3333333333333333,
             "#9c179e"
            ],
            [
             0.4444444444444444,
             "#bd3786"
            ],
            [
             0.5555555555555556,
             "#d8576b"
            ],
            [
             0.6666666666666666,
             "#ed7953"
            ],
            [
             0.7777777777777778,
             "#fb9f3a"
            ],
            [
             0.8888888888888888,
             "#fdca26"
            ],
            [
             1,
             "#f0f921"
            ]
           ]
          },
          "colorway": [
           "#636efa",
           "#EF553B",
           "#00cc96",
           "#ab63fa",
           "#FFA15A",
           "#19d3f3",
           "#FF6692",
           "#B6E880",
           "#FF97FF",
           "#FECB52"
          ],
          "font": {
           "color": "#2a3f5f"
          },
          "geo": {
           "bgcolor": "white",
           "lakecolor": "white",
           "landcolor": "#E5ECF6",
           "showlakes": true,
           "showland": true,
           "subunitcolor": "white"
          },
          "hoverlabel": {
           "align": "left"
          },
          "hovermode": "closest",
          "mapbox": {
           "style": "light"
          },
          "paper_bgcolor": "white",
          "plot_bgcolor": "#E5ECF6",
          "polar": {
           "angularaxis": {
            "gridcolor": "white",
            "linecolor": "white",
            "ticks": ""
           },
           "bgcolor": "#E5ECF6",
           "radialaxis": {
            "gridcolor": "white",
            "linecolor": "white",
            "ticks": ""
           }
          },
          "scene": {
           "xaxis": {
            "backgroundcolor": "#E5ECF6",
            "gridcolor": "white",
            "gridwidth": 2,
            "linecolor": "white",
            "showbackground": true,
            "ticks": "",
            "zerolinecolor": "white"
           },
           "yaxis": {
            "backgroundcolor": "#E5ECF6",
            "gridcolor": "white",
            "gridwidth": 2,
            "linecolor": "white",
            "showbackground": true,
            "ticks": "",
            "zerolinecolor": "white"
           },
           "zaxis": {
            "backgroundcolor": "#E5ECF6",
            "gridcolor": "white",
            "gridwidth": 2,
            "linecolor": "white",
            "showbackground": true,
            "ticks": "",
            "zerolinecolor": "white"
           }
          },
          "shapedefaults": {
           "line": {
            "color": "#2a3f5f"
           }
          },
          "ternary": {
           "aaxis": {
            "gridcolor": "white",
            "linecolor": "white",
            "ticks": ""
           },
           "baxis": {
            "gridcolor": "white",
            "linecolor": "white",
            "ticks": ""
           },
           "bgcolor": "#E5ECF6",
           "caxis": {
            "gridcolor": "white",
            "linecolor": "white",
            "ticks": ""
           }
          },
          "title": {
           "x": 0.05
          },
          "xaxis": {
           "automargin": true,
           "gridcolor": "white",
           "linecolor": "white",
           "ticks": "",
           "title": {
            "standoff": 15
           },
           "zerolinecolor": "white",
           "zerolinewidth": 2
          },
          "yaxis": {
           "automargin": true,
           "gridcolor": "white",
           "linecolor": "white",
           "ticks": "",
           "title": {
            "standoff": 15
           },
           "zerolinecolor": "white",
           "zerolinewidth": 2
          }
         }
        },
        "title": {
         "text": "Средняя стоимость ТАП в руб. за 2022 году"
        },
        "xaxis": {
         "anchor": "y",
         "domain": [
          0,
          1
         ],
         "title": {
          "text": "Врач"
         }
        },
        "yaxis": {
         "anchor": "x",
         "domain": [
          0,
          1
         ],
         "title": {
          "text": "Руб"
         }
        }
       }
      },
      "text/html": [
       "<div>                            <div id=\"86d031c1-434a-490f-9c06-72e72561ef96\" class=\"plotly-graph-div\" style=\"height:525px; width:100%;\"></div>            <script type=\"text/javascript\">                require([\"plotly\"], function(Plotly) {                    window.PLOTLYENV=window.PLOTLYENV || {};                                    if (document.getElementById(\"86d031c1-434a-490f-9c06-72e72561ef96\")) {                    Plotly.newPlot(                        \"86d031c1-434a-490f-9c06-72e72561ef96\",                        [{\"alignmentgroup\":\"True\",\"hovertemplate\":\"\\u0412\\u0440\\u0430\\u0447=%{x}<br>avg_rub=%{y}<extra></extra>\",\"legendgroup\":\"\",\"marker\":{\"color\":\"#636efa\",\"pattern\":{\"shape\":\"\"}},\"name\":\"\",\"offsetgroup\":\"\",\"orientation\":\"v\",\"showlegend\":false,\"textposition\":\"auto\",\"type\":\"bar\",\"x\":[\"\\u041a\\u043e\\u0432\\u0430\\u043b\\u0435\\u043d\\u043a\\u043e \\u041e\\u043b\\u044c\\u0433\\u0430 \\u042d\\u0434\\u0443\\u0430\\u0440\\u0434\\u043e\\u0432\\u043d\\u0430\",\"\\u0421\\u043a\\u0430\\u043b\\u043a\\u043e\\u0432\\u0438\\u0447 \\u0418\\u043d\\u043d\\u0430 \\u0412\\u0430\\u043b\\u0435\\u0440\\u044c\\u0435\\u0432\\u043d\\u0430\",\"\\u0412\\u043e\\u043b\\u043e\\u0434\\u0438\\u043d \\u041f\\u0430\\u0432\\u0435\\u043b \\u042e\\u0440\\u044c\\u0435\\u0432\\u0438\\u0447\",\"\\u041c\\u043a\\u0440\\u0442\\u0447\\u044f\\u043d \\u0422\\u0430\\u0440\\u043e\\u043d \\u0410\\u0440\\u0441\\u0435\\u043d\\u043e\\u0432\\u0438\\u0447\",\"\\u0427\\u0438\\u0436\\u043e\\u0432\\u0430 \\u0415\\u043b\\u0435\\u043d\\u0430 \\u0412\\u043b\\u0430\\u0434\\u0438\\u043c\\u0438\\u0440\\u043e\\u0432\\u043d\\u0430\",\"\\u041f\\u0443\\u0437\\u0430\\u043d\\u043e\\u0432\\u0430 \\u041b\\u0438\\u0434\\u0438\\u044f \\u0421\\u0435\\u0440\\u0433\\u0435\\u0435\\u0432\\u043d\\u0430\",\"\\u041d\\u0438\\u043a\\u043e\\u043b\\u0430\\u0435\\u0432\\u0430 \\u041d\\u0430\\u0434\\u0435\\u0436\\u0434\\u0430 \\u0413\\u0440\\u0438\\u0433\\u043e\\u0440\\u044c\\u0435\\u0432\\u043d\\u0430\",\"\\u041b\\u0438\\u0442\\u0432\\u0438\\u043d\\u043e\\u0432\\u0430 \\u041d\\u0438\\u043d\\u0430 \\u0410\\u043b\\u0435\\u043a\\u0441\\u0435\\u0435\\u0432\\u043d\\u0430\",\"\\u041a\\u0430\\u043c\\u044b\\u043d\\u043e\\u0432\\u0430 \\u041d\\u0430\\u0442\\u0430\\u043b\\u0438\\u044f \\u0412\\u0430\\u043b\\u0435\\u0440\\u0438\\u0435\\u0432\\u043d\\u0430\",\"\\u041a\\u043e\\u0432\\u0448\\u043e\\u0432 \\u0410\\u043b\\u0435\\u043a\\u0441\\u0430\\u043d\\u0434\\u0440 \\u0410\\u043b\\u0435\\u043a\\u0441\\u0430\\u043d\\u0434\\u0440\\u043e\\u0432\\u0438\\u0447\",\"\\u041b\\u043e\\u043f\\u0430\\u0442\\u043a\\u0438\\u043d\\u0430 \\u0410\\u043b\\u0451\\u043d\\u0430 \\u0421\\u0435\\u0440\\u0433\\u0435\\u0435\\u0432\\u043d\\u0430\",\"\\u041c\\u0430\\u043a\\u0441\\u0438\\u043c\\u0435\\u0446 \\u0418\\u0440\\u0438\\u043d\\u0430 \\u0418\\u0432\\u0430\\u043d\\u043e\\u0432\\u043d\\u0430\",\"\\u0412\\u043b\\u0430\\u0441\\u043e\\u0432\\u0430 \\u0410\\u043b\\u044c\\u0444\\u0438\\u044f \\u041b\\u044f\\u0431\\u0438\\u0431\\u043e\\u0432\\u043d\\u0430\",\"\\u0413\\u0432\\u043e\\u0437\\u0434\\u0435\\u0432\\u0430 \\u0422\\u0430\\u0442\\u044c\\u044f\\u043d\\u0430 \\u0410\\u043d\\u0430\\u0442\\u043e\\u043b\\u044c\\u0435\\u0432\\u043d\\u0430\",\"\\u0413\\u043e\\u0440\\u0431\\u0438\\u043a\\u043e\\u0432\\u0430 \\u042d\\u043b\\u044c\\u0444\\u0438\\u044f \\u0420\\u0430\\u0448\\u0438\\u0442\\u043e\\u0432\\u043d\\u0430\",\"\\u041a\\u0443\\u043a\\u0443\\u0448\\u043a\\u0438\\u043d\\u0430 \\u041b\\u0430\\u0440\\u0438\\u0441\\u0430 \\u0420\\u0430\\u043c\\u0437\\u0430\\u043d\\u043e\\u0432\\u043d\\u0430\",\"\\u0417\\u0430\\u0445\\u0430\\u0440\\u043e\\u0432 \\u0418\\u0432\\u0430\\u043d \\u0412\\u043b\\u0430\\u0434\\u0438\\u043c\\u0438\\u0440\\u043e\\u0432\\u0438\\u0447\",\"\\u041e\\u043b\\u044c\\u0445\\u043e\\u0432\\u0441\\u043a\\u0430\\u044f \\u0410\\u043b\\u044c\\u0431\\u0438\\u043d\\u0430 \\u0412\\u043b\\u0430\\u0434\\u0438\\u043c\\u0438\\u0440\\u043e\\u0432\\u043d\\u0430\",\"\\u0410\\u043b\\u0435\\u043a\\u0441\\u0430\\u043d\\u0434\\u0440\\u043e\\u0432\\u0430 \\u0421\\u0432\\u0435\\u0442\\u043b\\u0430\\u043d\\u0430 \\u0412\\u0438\\u043a\\u0442\\u043e\\u0440\\u043e\\u0432\\u043d\\u0430\",\"\\u041c\\u043e\\u0440\\u043e\\u0448\\u0435\\u043d\\u043a\\u043e\\u0432\\u0430 \\u0413\\u0443\\u043b\\u044c\\u043c\\u0438\\u0440\\u0430 \\u0410\\u0431\\u044b\\u043b\\u043a\\u0430\\u043a\\u043e\\u0432\\u043d\\u0430\",\"\\u041a\\u043e\\u043b\\u0435\\u0441\\u043e\\u0432\\u0430 \\u041d\\u0430\\u0442\\u0430\\u043b\\u044c\\u044f \\u0412\\u0438\\u043a\\u0442\\u043e\\u0440\\u043e\\u0432\\u043d\\u0430\",\"\\u0417\\u0430\\u0432\\u0433\\u043e\\u0440\\u043e\\u0434\\u043d\\u044b\\u0439 \\u0421\\u0435\\u0440\\u0433\\u0435\\u0439 \\u0412\\u0430\\u043b\\u0435\\u0440\\u0438\\u0430\\u043d\\u043e\\u0432\\u0438\\u0447\",\"\\u0412\\u043e\\u043b\\u043e\\u0434\\u044c\\u043a\\u043e \\u0412\\u0430\\u043b\\u0435\\u043d\\u0442\\u0438\\u043d\\u0430 \\u0418\\u0432\\u0430\\u043d\\u043e\\u0432\\u043d\\u0430\",\"\\u0427\\u0438\\u0447\\u0438\\u043a\\u0438\\u043d\\u0430 \\u0413\\u0430\\u043b\\u0438\\u043d\\u0430 \\u041f\\u0430\\u0432\\u043b\\u043e\\u0432\\u043d\\u0430\",\"\\u0410\\u0440\\u0443\\u0442\\u044e\\u043d\\u044f\\u043d \\u0410\\u0440\\u0443\\u0442\\u044e\\u043d \\u041b\\u0435\\u0432\\u043e\\u043d\\u043e\\u0432\\u0438\\u0447\",\"\\u0420\\u044b\\u0431\\u0430\\u043a \\u041b\\u0438\\u043b\\u0438\\u044f \\u0421\\u0435\\u0440\\u0433\\u0435\\u0435\\u0432\\u043d\\u0430\",\"\\u041a\\u043e\\u0432\\u0430\\u043b\\u0435\\u043d\\u043a\\u043e \\u041e\\u043b\\u044c\\u0433\\u0430 \\u042d\\u0434\\u0443\\u0430\\u0440\\u0434\\u043e\\u0432\\u043d\\u0430 \\u0444\\u0438\\u0437\\u0438\\u043e\"],\"xaxis\":\"x\",\"y\":[2850,2620,2563,2533,2511,2377,2218,2211,2211,2148,2148,2069,2064,2005,1918,1907,1895,1893,1882,1858,1132,921,892,843,791,737,374],\"yaxis\":\"y\"}],                        {\"barmode\":\"relative\",\"legend\":{\"tracegroupgap\":0},\"template\":{\"data\":{\"bar\":[{\"error_x\":{\"color\":\"#2a3f5f\"},\"error_y\":{\"color\":\"#2a3f5f\"},\"marker\":{\"line\":{\"color\":\"#E5ECF6\",\"width\":0.5},\"pattern\":{\"fillmode\":\"overlay\",\"size\":10,\"solidity\":0.2}},\"type\":\"bar\"}],\"barpolar\":[{\"marker\":{\"line\":{\"color\":\"#E5ECF6\",\"width\":0.5},\"pattern\":{\"fillmode\":\"overlay\",\"size\":10,\"solidity\":0.2}},\"type\":\"barpolar\"}],\"carpet\":[{\"aaxis\":{\"endlinecolor\":\"#2a3f5f\",\"gridcolor\":\"white\",\"linecolor\":\"white\",\"minorgridcolor\":\"white\",\"startlinecolor\":\"#2a3f5f\"},\"baxis\":{\"endlinecolor\":\"#2a3f5f\",\"gridcolor\":\"white\",\"linecolor\":\"white\",\"minorgridcolor\":\"white\",\"startlinecolor\":\"#2a3f5f\"},\"type\":\"carpet\"}],\"choropleth\":[{\"colorbar\":{\"outlinewidth\":0,\"ticks\":\"\"},\"type\":\"choropleth\"}],\"contour\":[{\"colorbar\":{\"outlinewidth\":0,\"ticks\":\"\"},\"colorscale\":[[0.0,\"#0d0887\"],[0.1111111111111111,\"#46039f\"],[0.2222222222222222,\"#7201a8\"],[0.3333333333333333,\"#9c179e\"],[0.4444444444444444,\"#bd3786\"],[0.5555555555555556,\"#d8576b\"],[0.6666666666666666,\"#ed7953\"],[0.7777777777777778,\"#fb9f3a\"],[0.8888888888888888,\"#fdca26\"],[1.0,\"#f0f921\"]],\"type\":\"contour\"}],\"contourcarpet\":[{\"colorbar\":{\"outlinewidth\":0,\"ticks\":\"\"},\"type\":\"contourcarpet\"}],\"heatmap\":[{\"colorbar\":{\"outlinewidth\":0,\"ticks\":\"\"},\"colorscale\":[[0.0,\"#0d0887\"],[0.1111111111111111,\"#46039f\"],[0.2222222222222222,\"#7201a8\"],[0.3333333333333333,\"#9c179e\"],[0.4444444444444444,\"#bd3786\"],[0.5555555555555556,\"#d8576b\"],[0.6666666666666666,\"#ed7953\"],[0.7777777777777778,\"#fb9f3a\"],[0.8888888888888888,\"#fdca26\"],[1.0,\"#f0f921\"]],\"type\":\"heatmap\"}],\"heatmapgl\":[{\"colorbar\":{\"outlinewidth\":0,\"ticks\":\"\"},\"colorscale\":[[0.0,\"#0d0887\"],[0.1111111111111111,\"#46039f\"],[0.2222222222222222,\"#7201a8\"],[0.3333333333333333,\"#9c179e\"],[0.4444444444444444,\"#bd3786\"],[0.5555555555555556,\"#d8576b\"],[0.6666666666666666,\"#ed7953\"],[0.7777777777777778,\"#fb9f3a\"],[0.8888888888888888,\"#fdca26\"],[1.0,\"#f0f921\"]],\"type\":\"heatmapgl\"}],\"histogram\":[{\"marker\":{\"pattern\":{\"fillmode\":\"overlay\",\"size\":10,\"solidity\":0.2}},\"type\":\"histogram\"}],\"histogram2d\":[{\"colorbar\":{\"outlinewidth\":0,\"ticks\":\"\"},\"colorscale\":[[0.0,\"#0d0887\"],[0.1111111111111111,\"#46039f\"],[0.2222222222222222,\"#7201a8\"],[0.3333333333333333,\"#9c179e\"],[0.4444444444444444,\"#bd3786\"],[0.5555555555555556,\"#d8576b\"],[0.6666666666666666,\"#ed7953\"],[0.7777777777777778,\"#fb9f3a\"],[0.8888888888888888,\"#fdca26\"],[1.0,\"#f0f921\"]],\"type\":\"histogram2d\"}],\"histogram2dcontour\":[{\"colorbar\":{\"outlinewidth\":0,\"ticks\":\"\"},\"colorscale\":[[0.0,\"#0d0887\"],[0.1111111111111111,\"#46039f\"],[0.2222222222222222,\"#7201a8\"],[0.3333333333333333,\"#9c179e\"],[0.4444444444444444,\"#bd3786\"],[0.5555555555555556,\"#d8576b\"],[0.6666666666666666,\"#ed7953\"],[0.7777777777777778,\"#fb9f3a\"],[0.8888888888888888,\"#fdca26\"],[1.0,\"#f0f921\"]],\"type\":\"histogram2dcontour\"}],\"mesh3d\":[{\"colorbar\":{\"outlinewidth\":0,\"ticks\":\"\"},\"type\":\"mesh3d\"}],\"parcoords\":[{\"line\":{\"colorbar\":{\"outlinewidth\":0,\"ticks\":\"\"}},\"type\":\"parcoords\"}],\"pie\":[{\"automargin\":true,\"type\":\"pie\"}],\"scatter\":[{\"marker\":{\"colorbar\":{\"outlinewidth\":0,\"ticks\":\"\"}},\"type\":\"scatter\"}],\"scatter3d\":[{\"line\":{\"colorbar\":{\"outlinewidth\":0,\"ticks\":\"\"}},\"marker\":{\"colorbar\":{\"outlinewidth\":0,\"ticks\":\"\"}},\"type\":\"scatter3d\"}],\"scattercarpet\":[{\"marker\":{\"colorbar\":{\"outlinewidth\":0,\"ticks\":\"\"}},\"type\":\"scattercarpet\"}],\"scattergeo\":[{\"marker\":{\"colorbar\":{\"outlinewidth\":0,\"ticks\":\"\"}},\"type\":\"scattergeo\"}],\"scattergl\":[{\"marker\":{\"colorbar\":{\"outlinewidth\":0,\"ticks\":\"\"}},\"type\":\"scattergl\"}],\"scattermapbox\":[{\"marker\":{\"colorbar\":{\"outlinewidth\":0,\"ticks\":\"\"}},\"type\":\"scattermapbox\"}],\"scatterpolar\":[{\"marker\":{\"colorbar\":{\"outlinewidth\":0,\"ticks\":\"\"}},\"type\":\"scatterpolar\"}],\"scatterpolargl\":[{\"marker\":{\"colorbar\":{\"outlinewidth\":0,\"ticks\":\"\"}},\"type\":\"scatterpolargl\"}],\"scatterternary\":[{\"marker\":{\"colorbar\":{\"outlinewidth\":0,\"ticks\":\"\"}},\"type\":\"scatterternary\"}],\"surface\":[{\"colorbar\":{\"outlinewidth\":0,\"ticks\":\"\"},\"colorscale\":[[0.0,\"#0d0887\"],[0.1111111111111111,\"#46039f\"],[0.2222222222222222,\"#7201a8\"],[0.3333333333333333,\"#9c179e\"],[0.4444444444444444,\"#bd3786\"],[0.5555555555555556,\"#d8576b\"],[0.6666666666666666,\"#ed7953\"],[0.7777777777777778,\"#fb9f3a\"],[0.8888888888888888,\"#fdca26\"],[1.0,\"#f0f921\"]],\"type\":\"surface\"}],\"table\":[{\"cells\":{\"fill\":{\"color\":\"#EBF0F8\"},\"line\":{\"color\":\"white\"}},\"header\":{\"fill\":{\"color\":\"#C8D4E3\"},\"line\":{\"color\":\"white\"}},\"type\":\"table\"}]},\"layout\":{\"annotationdefaults\":{\"arrowcolor\":\"#2a3f5f\",\"arrowhead\":0,\"arrowwidth\":1},\"autotypenumbers\":\"strict\",\"coloraxis\":{\"colorbar\":{\"outlinewidth\":0,\"ticks\":\"\"}},\"colorscale\":{\"diverging\":[[0,\"#8e0152\"],[0.1,\"#c51b7d\"],[0.2,\"#de77ae\"],[0.3,\"#f1b6da\"],[0.4,\"#fde0ef\"],[0.5,\"#f7f7f7\"],[0.6,\"#e6f5d0\"],[0.7,\"#b8e186\"],[0.8,\"#7fbc41\"],[0.9,\"#4d9221\"],[1,\"#276419\"]],\"sequential\":[[0.0,\"#0d0887\"],[0.1111111111111111,\"#46039f\"],[0.2222222222222222,\"#7201a8\"],[0.3333333333333333,\"#9c179e\"],[0.4444444444444444,\"#bd3786\"],[0.5555555555555556,\"#d8576b\"],[0.6666666666666666,\"#ed7953\"],[0.7777777777777778,\"#fb9f3a\"],[0.8888888888888888,\"#fdca26\"],[1.0,\"#f0f921\"]],\"sequentialminus\":[[0.0,\"#0d0887\"],[0.1111111111111111,\"#46039f\"],[0.2222222222222222,\"#7201a8\"],[0.3333333333333333,\"#9c179e\"],[0.4444444444444444,\"#bd3786\"],[0.5555555555555556,\"#d8576b\"],[0.6666666666666666,\"#ed7953\"],[0.7777777777777778,\"#fb9f3a\"],[0.8888888888888888,\"#fdca26\"],[1.0,\"#f0f921\"]]},\"colorway\":[\"#636efa\",\"#EF553B\",\"#00cc96\",\"#ab63fa\",\"#FFA15A\",\"#19d3f3\",\"#FF6692\",\"#B6E880\",\"#FF97FF\",\"#FECB52\"],\"font\":{\"color\":\"#2a3f5f\"},\"geo\":{\"bgcolor\":\"white\",\"lakecolor\":\"white\",\"landcolor\":\"#E5ECF6\",\"showlakes\":true,\"showland\":true,\"subunitcolor\":\"white\"},\"hoverlabel\":{\"align\":\"left\"},\"hovermode\":\"closest\",\"mapbox\":{\"style\":\"light\"},\"paper_bgcolor\":\"white\",\"plot_bgcolor\":\"#E5ECF6\",\"polar\":{\"angularaxis\":{\"gridcolor\":\"white\",\"linecolor\":\"white\",\"ticks\":\"\"},\"bgcolor\":\"#E5ECF6\",\"radialaxis\":{\"gridcolor\":\"white\",\"linecolor\":\"white\",\"ticks\":\"\"}},\"scene\":{\"xaxis\":{\"backgroundcolor\":\"#E5ECF6\",\"gridcolor\":\"white\",\"gridwidth\":2,\"linecolor\":\"white\",\"showbackground\":true,\"ticks\":\"\",\"zerolinecolor\":\"white\"},\"yaxis\":{\"backgroundcolor\":\"#E5ECF6\",\"gridcolor\":\"white\",\"gridwidth\":2,\"linecolor\":\"white\",\"showbackground\":true,\"ticks\":\"\",\"zerolinecolor\":\"white\"},\"zaxis\":{\"backgroundcolor\":\"#E5ECF6\",\"gridcolor\":\"white\",\"gridwidth\":2,\"linecolor\":\"white\",\"showbackground\":true,\"ticks\":\"\",\"zerolinecolor\":\"white\"}},\"shapedefaults\":{\"line\":{\"color\":\"#2a3f5f\"}},\"ternary\":{\"aaxis\":{\"gridcolor\":\"white\",\"linecolor\":\"white\",\"ticks\":\"\"},\"baxis\":{\"gridcolor\":\"white\",\"linecolor\":\"white\",\"ticks\":\"\"},\"bgcolor\":\"#E5ECF6\",\"caxis\":{\"gridcolor\":\"white\",\"linecolor\":\"white\",\"ticks\":\"\"}},\"title\":{\"x\":0.05},\"xaxis\":{\"automargin\":true,\"gridcolor\":\"white\",\"linecolor\":\"white\",\"ticks\":\"\",\"title\":{\"standoff\":15},\"zerolinecolor\":\"white\",\"zerolinewidth\":2},\"yaxis\":{\"automargin\":true,\"gridcolor\":\"white\",\"linecolor\":\"white\",\"ticks\":\"\",\"title\":{\"standoff\":15},\"zerolinecolor\":\"white\",\"zerolinewidth\":2}}},\"title\":{\"text\":\"\\u0421\\u0440\\u0435\\u0434\\u043d\\u044f\\u044f \\u0441\\u0442\\u043e\\u0438\\u043c\\u043e\\u0441\\u0442\\u044c \\u0422\\u0410\\u041f \\u0432 \\u0440\\u0443\\u0431. \\u0437\\u0430 2022 \\u0433\\u043e\\u0434\\u0443\"},\"xaxis\":{\"anchor\":\"y\",\"domain\":[0.0,1.0],\"title\":{\"text\":\"\\u0412\\u0440\\u0430\\u0447\"}},\"yaxis\":{\"anchor\":\"x\",\"domain\":[0.0,1.0],\"title\":{\"text\":\"\\u0420\\u0443\\u0431\"}}},                        {\"responsive\": true}                    ).then(function(){\n",
       "                            \n",
       "var gd = document.getElementById('86d031c1-434a-490f-9c06-72e72561ef96');\n",
       "var x = new MutationObserver(function (mutations, observer) {{\n",
       "        var display = window.getComputedStyle(gd).display;\n",
       "        if (!display || display === 'none') {{\n",
       "            console.log([gd, 'removed!']);\n",
       "            Plotly.purge(gd);\n",
       "            observer.disconnect();\n",
       "        }}\n",
       "}});\n",
       "\n",
       "// Listen for the removal of the full notebook cells\n",
       "var notebookContainer = gd.closest('#notebook-container');\n",
       "if (notebookContainer) {{\n",
       "    x.observe(notebookContainer, {childList: true});\n",
       "}}\n",
       "\n",
       "// Listen for the clearing of the current output cell\n",
       "var outputEl = gd.closest('.output');\n",
       "if (outputEl) {{\n",
       "    x.observe(outputEl, {childList: true});\n",
       "}}\n",
       "\n",
       "                        })                };                });            </script>        </div>"
      ]
     },
     "metadata": {},
     "output_type": "display_data"
    }
   ],
   "source": [
    "# Средняя стоимость ТАП в руб по врачу\n",
    "\n",
    "px.bar(df_result.sort_values('avg_rub', ascending=False), \n",
    "       x='Врач',\n",
    "       y='avg_rub',\n",
    "       title=f'Средняя стоимость ТАП в руб. за {year} году') \\\n",
    "    .update_yaxes(title_text = 'Руб')"
   ]
  },
  {
   "cell_type": "code",
   "execution_count": 232,
   "metadata": {},
   "outputs": [
    {
     "data": {
      "application/vnd.plotly.v1+json": {
       "config": {
        "plotlyServerURL": "https://plot.ly"
       },
       "data": [
        {
         "alignmentgroup": "True",
         "hovertemplate": "Месяц=0122<br>Врач=%{x}<br>avg_rub=%{y}<extra></extra>",
         "legendgroup": "0122",
         "marker": {
          "color": "rgb(100.0, 100.0, 100.0)",
          "pattern": {
           "shape": ""
          }
         },
         "name": "0122",
         "offsetgroup": "0122",
         "orientation": "v",
         "showlegend": true,
         "textposition": "auto",
         "type": "bar",
         "x": [
          "Александрова Светлана Викторовна",
          "Арутюнян Арутюн Левонович",
          "Власова Альфия Лябибовна",
          "Володин Павел Юрьевич",
          "Володько Валентина Ивановна",
          "Гвоздева Татьяна Анатольевна",
          "Горбикова Эльфия Рашитовна",
          "Завгородный Сергей Валерианович",
          "Захаров Иван Владимирович",
          "Камынова Наталия Валериевна",
          "Коваленко Ольга Эдуардовна",
          "Коваленко Ольга Эдуардовна физио",
          "Ковшов Александр Александрович",
          "Колесова Наталья Викторовна",
          "Кукушкина Лариса Рамзановна",
          "Литвинова Нина Алексеевна",
          "Лопаткина Алёна Сергеевна",
          "Максимец Ирина Ивановна",
          "Мкртчян Тарон Арсенович",
          "Морошенкова Гульмира Абылкаковна",
          "Николаева Надежда Григорьевна",
          "Ольховская Альбина Владимировна",
          "Пузанова Лидия Сергеевна",
          "Рыбак Лилия Сергеевна",
          "Скалкович Инна Валерьевна",
          "Чижова Елена Владимировна",
          "Чичикина Галина Павловна"
         ],
         "xaxis": "x",
         "y": [
          1930,
          775,
          2040,
          1675,
          906,
          2072,
          1798,
          878,
          1960,
          1926,
          2900,
          389,
          2135,
          1131,
          941,
          2261,
          2182,
          2469,
          2208,
          2055,
          1814,
          1821,
          2527,
          704,
          2488,
          2473,
          852
         ],
         "yaxis": "y"
        },
        {
         "alignmentgroup": "True",
         "hovertemplate": "Месяц=0222<br>Врач=%{x}<br>avg_rub=%{y}<extra></extra>",
         "legendgroup": "0222",
         "marker": {
          "color": "rgb(131.0, 131.0, 131.0)",
          "pattern": {
           "shape": ""
          }
         },
         "name": "0222",
         "offsetgroup": "0222",
         "orientation": "v",
         "showlegend": true,
         "textposition": "auto",
         "type": "bar",
         "x": [
          "Александрова Светлана Викторовна",
          "Арутюнян Арутюн Левонович",
          "Власова Альфия Лябибовна",
          "Володин Павел Юрьевич",
          "Володько Валентина Ивановна",
          "Гвоздева Татьяна Анатольевна",
          "Горбикова Эльфия Рашитовна",
          "Завгородный Сергей Валерианович",
          "Захаров Иван Владимирович",
          "Камынова Наталия Валериевна",
          "Коваленко Ольга Эдуардовна",
          "Коваленко Ольга Эдуардовна физио",
          "Ковшов Александр Александрович",
          "Колесова Наталья Викторовна",
          "Кукушкина Лариса Рамзановна",
          "Литвинова Нина Алексеевна",
          "Лопаткина Алёна Сергеевна",
          "Максимец Ирина Ивановна",
          "Мкртчян Тарон Арсенович",
          "Морошенкова Гульмира Абылкаковна",
          "Николаева Надежда Григорьевна",
          "Ольховская Альбина Владимировна",
          "Пузанова Лидия Сергеевна",
          "Рыбак Лилия Сергеевна",
          "Скалкович Инна Валерьевна",
          "Чижова Елена Владимировна",
          "Чичикина Галина Павловна"
         ],
         "xaxis": "x",
         "y": [
          2102,
          786,
          1549,
          2382,
          832,
          1987,
          1754,
          975,
          1570,
          1838,
          2646,
          374,
          2293,
          1163,
          1351,
          2307,
          2038,
          2180,
          3535,
          1764,
          2245,
          1969,
          2425,
          760,
          2653,
          2793,
          849
         ],
         "yaxis": "y"
        },
        {
         "alignmentgroup": "True",
         "hovertemplate": "Месяц=0322<br>Врач=%{x}<br>avg_rub=%{y}<extra></extra>",
         "legendgroup": "0322",
         "marker": {
          "color": "rgb(162.0, 162.0, 162.0)",
          "pattern": {
           "shape": ""
          }
         },
         "name": "0322",
         "offsetgroup": "0322",
         "orientation": "v",
         "showlegend": true,
         "textposition": "auto",
         "type": "bar",
         "x": [
          "Александрова Светлана Викторовна",
          "Арутюнян Арутюн Левонович",
          "Власова Альфия Лябибовна",
          "Володин Павел Юрьевич",
          "Володько Валентина Ивановна",
          "Гвоздева Татьяна Анатольевна",
          "Горбикова Эльфия Рашитовна",
          "Завгородный Сергей Валерианович",
          "Захаров Иван Владимирович",
          "Камынова Наталия Валериевна",
          "Коваленко Ольга Эдуардовна",
          "Коваленко Ольга Эдуардовна физио",
          "Ковшов Александр Александрович",
          "Колесова Наталья Викторовна",
          "Кукушкина Лариса Рамзановна",
          "Литвинова Нина Алексеевна",
          "Лопаткина Алёна Сергеевна",
          "Максимец Ирина Ивановна",
          "Мкртчян Тарон Арсенович",
          "Морошенкова Гульмира Абылкаковна",
          "Николаева Надежда Григорьевна",
          "Ольховская Альбина Владимировна",
          "Пузанова Лидия Сергеевна",
          "Рыбак Лилия Сергеевна",
          "Скалкович Инна Валерьевна",
          "Чижова Елена Владимировна",
          "Чичикина Галина Павловна"
         ],
         "xaxis": "x",
         "y": [
          1799,
          783,
          2304,
          3078,
          900,
          2029,
          2115,
          932,
          1944,
          2520,
          3085,
          381,
          2172,
          1164,
          1842,
          2219,
          2231,
          1964,
          2735,
          1927,
          2287,
          2021,
          2292,
          754,
          2642,
          2552,
          849
         ],
         "yaxis": "y"
        },
        {
         "alignmentgroup": "True",
         "hovertemplate": "Месяц=0422<br>Врач=%{x}<br>avg_rub=%{y}<extra></extra>",
         "legendgroup": "0422",
         "marker": {
          "color": "rgb(193.0, 193.0, 193.0)",
          "pattern": {
           "shape": ""
          }
         },
         "name": "0422",
         "offsetgroup": "0422",
         "orientation": "v",
         "showlegend": true,
         "textposition": "auto",
         "type": "bar",
         "x": [
          "Александрова Светлана Викторовна",
          "Арутюнян Арутюн Левонович",
          "Власова Альфия Лябибовна",
          "Володин Павел Юрьевич",
          "Володько Валентина Ивановна",
          "Гвоздева Татьяна Анатольевна",
          "Горбикова Эльфия Рашитовна",
          "Завгородный Сергей Валерианович",
          "Захаров Иван Владимирович",
          "Камынова Наталия Валериевна",
          "Коваленко Ольга Эдуардовна",
          "Коваленко Ольга Эдуардовна физио",
          "Ковшов Александр Александрович",
          "Колесова Наталья Викторовна",
          "Кукушкина Лариса Рамзановна",
          "Литвинова Нина Алексеевна",
          "Лопаткина Алёна Сергеевна",
          "Максимец Ирина Ивановна",
          "Мкртчян Тарон Арсенович",
          "Морошенкова Гульмира Абылкаковна",
          "Николаева Надежда Григорьевна",
          "Ольховская Альбина Владимировна",
          "Пузанова Лидия Сергеевна",
          "Рыбак Лилия Сергеевна",
          "Скалкович Инна Валерьевна",
          "Чижова Елена Владимировна",
          "Чичикина Галина Павловна"
         ],
         "xaxis": "x",
         "y": [
          1856,
          759,
          2098,
          2570,
          867,
          1889,
          2051,
          903,
          1841,
          2380,
          2893,
          365,
          2057,
          1094,
          2366,
          1939,
          2041,
          1743,
          2093,
          1835,
          2342,
          1848,
          2304,
          737,
          3302,
          2318,
          796
         ],
         "yaxis": "y"
        },
        {
         "alignmentgroup": "True",
         "hovertemplate": "Месяц=0522<br>Врач=%{x}<br>avg_rub=%{y}<extra></extra>",
         "legendgroup": "0522",
         "marker": {
          "color": "rgb(224.0, 224.0, 224.0)",
          "pattern": {
           "shape": ""
          }
         },
         "name": "0522",
         "offsetgroup": "0522",
         "orientation": "v",
         "showlegend": true,
         "textposition": "auto",
         "type": "bar",
         "x": [
          "Александрова Светлана Викторовна",
          "Арутюнян Арутюн Левонович",
          "Власова Альфия Лябибовна",
          "Володин Павел Юрьевич",
          "Володько Валентина Ивановна",
          "Горбикова Эльфия Рашитовна",
          "Завгородный Сергей Валерианович",
          "Захаров Иван Владимирович",
          "Камынова Наталия Валериевна",
          "Коваленко Ольга Эдуардовна",
          "Коваленко Ольга Эдуардовна физио",
          "Ковшов Александр Александрович",
          "Колесова Наталья Викторовна",
          "Кукушкина Лариса Рамзановна",
          "Литвинова Нина Алексеевна",
          "Лопаткина Алёна Сергеевна",
          "Максимец Ирина Ивановна",
          "Мкртчян Тарон Арсенович",
          "Морошенкова Гульмира Абылкаковна",
          "Николаева Надежда Григорьевна",
          "Ольховская Альбина Владимировна",
          "Пузанова Лидия Сергеевна",
          "Рыбак Лилия Сергеевна",
          "Скалкович Инна Валерьевна",
          "Чижова Елена Владимировна",
          "Чичикина Галина Павловна"
         ],
         "xaxis": "x",
         "y": [
          1615,
          941,
          2046,
          4486,
          1004,
          1841,
          891,
          2265,
          2502,
          2451,
          372,
          2089,
          1082,
          2105,
          2244,
          2449,
          1521,
          2254,
          1433,
          2120,
          1550,
          2410,
          757,
          1744,
          2226,
          899
         ],
         "yaxis": "y"
        }
       ],
       "layout": {
        "barmode": "group",
        "legend": {
         "title": {
          "text": "Месяц"
         },
         "tracegroupgap": 0
        },
        "plot_bgcolor": "rgb(255,255,255)",
        "template": {
         "data": {
          "bar": [
           {
            "error_x": {
             "color": "#2a3f5f"
            },
            "error_y": {
             "color": "#2a3f5f"
            },
            "marker": {
             "line": {
              "color": "#E5ECF6",
              "width": 0.5
             },
             "pattern": {
              "fillmode": "overlay",
              "size": 10,
              "solidity": 0.2
             }
            },
            "type": "bar"
           }
          ],
          "barpolar": [
           {
            "marker": {
             "line": {
              "color": "#E5ECF6",
              "width": 0.5
             },
             "pattern": {
              "fillmode": "overlay",
              "size": 10,
              "solidity": 0.2
             }
            },
            "type": "barpolar"
           }
          ],
          "carpet": [
           {
            "aaxis": {
             "endlinecolor": "#2a3f5f",
             "gridcolor": "white",
             "linecolor": "white",
             "minorgridcolor": "white",
             "startlinecolor": "#2a3f5f"
            },
            "baxis": {
             "endlinecolor": "#2a3f5f",
             "gridcolor": "white",
             "linecolor": "white",
             "minorgridcolor": "white",
             "startlinecolor": "#2a3f5f"
            },
            "type": "carpet"
           }
          ],
          "choropleth": [
           {
            "colorbar": {
             "outlinewidth": 0,
             "ticks": ""
            },
            "type": "choropleth"
           }
          ],
          "contour": [
           {
            "colorbar": {
             "outlinewidth": 0,
             "ticks": ""
            },
            "colorscale": [
             [
              0,
              "#0d0887"
             ],
             [
              0.1111111111111111,
              "#46039f"
             ],
             [
              0.2222222222222222,
              "#7201a8"
             ],
             [
              0.3333333333333333,
              "#9c179e"
             ],
             [
              0.4444444444444444,
              "#bd3786"
             ],
             [
              0.5555555555555556,
              "#d8576b"
             ],
             [
              0.6666666666666666,
              "#ed7953"
             ],
             [
              0.7777777777777778,
              "#fb9f3a"
             ],
             [
              0.8888888888888888,
              "#fdca26"
             ],
             [
              1,
              "#f0f921"
             ]
            ],
            "type": "contour"
           }
          ],
          "contourcarpet": [
           {
            "colorbar": {
             "outlinewidth": 0,
             "ticks": ""
            },
            "type": "contourcarpet"
           }
          ],
          "heatmap": [
           {
            "colorbar": {
             "outlinewidth": 0,
             "ticks": ""
            },
            "colorscale": [
             [
              0,
              "#0d0887"
             ],
             [
              0.1111111111111111,
              "#46039f"
             ],
             [
              0.2222222222222222,
              "#7201a8"
             ],
             [
              0.3333333333333333,
              "#9c179e"
             ],
             [
              0.4444444444444444,
              "#bd3786"
             ],
             [
              0.5555555555555556,
              "#d8576b"
             ],
             [
              0.6666666666666666,
              "#ed7953"
             ],
             [
              0.7777777777777778,
              "#fb9f3a"
             ],
             [
              0.8888888888888888,
              "#fdca26"
             ],
             [
              1,
              "#f0f921"
             ]
            ],
            "type": "heatmap"
           }
          ],
          "heatmapgl": [
           {
            "colorbar": {
             "outlinewidth": 0,
             "ticks": ""
            },
            "colorscale": [
             [
              0,
              "#0d0887"
             ],
             [
              0.1111111111111111,
              "#46039f"
             ],
             [
              0.2222222222222222,
              "#7201a8"
             ],
             [
              0.3333333333333333,
              "#9c179e"
             ],
             [
              0.4444444444444444,
              "#bd3786"
             ],
             [
              0.5555555555555556,
              "#d8576b"
             ],
             [
              0.6666666666666666,
              "#ed7953"
             ],
             [
              0.7777777777777778,
              "#fb9f3a"
             ],
             [
              0.8888888888888888,
              "#fdca26"
             ],
             [
              1,
              "#f0f921"
             ]
            ],
            "type": "heatmapgl"
           }
          ],
          "histogram": [
           {
            "marker": {
             "pattern": {
              "fillmode": "overlay",
              "size": 10,
              "solidity": 0.2
             }
            },
            "type": "histogram"
           }
          ],
          "histogram2d": [
           {
            "colorbar": {
             "outlinewidth": 0,
             "ticks": ""
            },
            "colorscale": [
             [
              0,
              "#0d0887"
             ],
             [
              0.1111111111111111,
              "#46039f"
             ],
             [
              0.2222222222222222,
              "#7201a8"
             ],
             [
              0.3333333333333333,
              "#9c179e"
             ],
             [
              0.4444444444444444,
              "#bd3786"
             ],
             [
              0.5555555555555556,
              "#d8576b"
             ],
             [
              0.6666666666666666,
              "#ed7953"
             ],
             [
              0.7777777777777778,
              "#fb9f3a"
             ],
             [
              0.8888888888888888,
              "#fdca26"
             ],
             [
              1,
              "#f0f921"
             ]
            ],
            "type": "histogram2d"
           }
          ],
          "histogram2dcontour": [
           {
            "colorbar": {
             "outlinewidth": 0,
             "ticks": ""
            },
            "colorscale": [
             [
              0,
              "#0d0887"
             ],
             [
              0.1111111111111111,
              "#46039f"
             ],
             [
              0.2222222222222222,
              "#7201a8"
             ],
             [
              0.3333333333333333,
              "#9c179e"
             ],
             [
              0.4444444444444444,
              "#bd3786"
             ],
             [
              0.5555555555555556,
              "#d8576b"
             ],
             [
              0.6666666666666666,
              "#ed7953"
             ],
             [
              0.7777777777777778,
              "#fb9f3a"
             ],
             [
              0.8888888888888888,
              "#fdca26"
             ],
             [
              1,
              "#f0f921"
             ]
            ],
            "type": "histogram2dcontour"
           }
          ],
          "mesh3d": [
           {
            "colorbar": {
             "outlinewidth": 0,
             "ticks": ""
            },
            "type": "mesh3d"
           }
          ],
          "parcoords": [
           {
            "line": {
             "colorbar": {
              "outlinewidth": 0,
              "ticks": ""
             }
            },
            "type": "parcoords"
           }
          ],
          "pie": [
           {
            "automargin": true,
            "type": "pie"
           }
          ],
          "scatter": [
           {
            "marker": {
             "colorbar": {
              "outlinewidth": 0,
              "ticks": ""
             }
            },
            "type": "scatter"
           }
          ],
          "scatter3d": [
           {
            "line": {
             "colorbar": {
              "outlinewidth": 0,
              "ticks": ""
             }
            },
            "marker": {
             "colorbar": {
              "outlinewidth": 0,
              "ticks": ""
             }
            },
            "type": "scatter3d"
           }
          ],
          "scattercarpet": [
           {
            "marker": {
             "colorbar": {
              "outlinewidth": 0,
              "ticks": ""
             }
            },
            "type": "scattercarpet"
           }
          ],
          "scattergeo": [
           {
            "marker": {
             "colorbar": {
              "outlinewidth": 0,
              "ticks": ""
             }
            },
            "type": "scattergeo"
           }
          ],
          "scattergl": [
           {
            "marker": {
             "colorbar": {
              "outlinewidth": 0,
              "ticks": ""
             }
            },
            "type": "scattergl"
           }
          ],
          "scattermapbox": [
           {
            "marker": {
             "colorbar": {
              "outlinewidth": 0,
              "ticks": ""
             }
            },
            "type": "scattermapbox"
           }
          ],
          "scatterpolar": [
           {
            "marker": {
             "colorbar": {
              "outlinewidth": 0,
              "ticks": ""
             }
            },
            "type": "scatterpolar"
           }
          ],
          "scatterpolargl": [
           {
            "marker": {
             "colorbar": {
              "outlinewidth": 0,
              "ticks": ""
             }
            },
            "type": "scatterpolargl"
           }
          ],
          "scatterternary": [
           {
            "marker": {
             "colorbar": {
              "outlinewidth": 0,
              "ticks": ""
             }
            },
            "type": "scatterternary"
           }
          ],
          "surface": [
           {
            "colorbar": {
             "outlinewidth": 0,
             "ticks": ""
            },
            "colorscale": [
             [
              0,
              "#0d0887"
             ],
             [
              0.1111111111111111,
              "#46039f"
             ],
             [
              0.2222222222222222,
              "#7201a8"
             ],
             [
              0.3333333333333333,
              "#9c179e"
             ],
             [
              0.4444444444444444,
              "#bd3786"
             ],
             [
              0.5555555555555556,
              "#d8576b"
             ],
             [
              0.6666666666666666,
              "#ed7953"
             ],
             [
              0.7777777777777778,
              "#fb9f3a"
             ],
             [
              0.8888888888888888,
              "#fdca26"
             ],
             [
              1,
              "#f0f921"
             ]
            ],
            "type": "surface"
           }
          ],
          "table": [
           {
            "cells": {
             "fill": {
              "color": "#EBF0F8"
             },
             "line": {
              "color": "white"
             }
            },
            "header": {
             "fill": {
              "color": "#C8D4E3"
             },
             "line": {
              "color": "white"
             }
            },
            "type": "table"
           }
          ]
         },
         "layout": {
          "annotationdefaults": {
           "arrowcolor": "#2a3f5f",
           "arrowhead": 0,
           "arrowwidth": 1
          },
          "autotypenumbers": "strict",
          "coloraxis": {
           "colorbar": {
            "outlinewidth": 0,
            "ticks": ""
           }
          },
          "colorscale": {
           "diverging": [
            [
             0,
             "#8e0152"
            ],
            [
             0.1,
             "#c51b7d"
            ],
            [
             0.2,
             "#de77ae"
            ],
            [
             0.3,
             "#f1b6da"
            ],
            [
             0.4,
             "#fde0ef"
            ],
            [
             0.5,
             "#f7f7f7"
            ],
            [
             0.6,
             "#e6f5d0"
            ],
            [
             0.7,
             "#b8e186"
            ],
            [
             0.8,
             "#7fbc41"
            ],
            [
             0.9,
             "#4d9221"
            ],
            [
             1,
             "#276419"
            ]
           ],
           "sequential": [
            [
             0,
             "#0d0887"
            ],
            [
             0.1111111111111111,
             "#46039f"
            ],
            [
             0.2222222222222222,
             "#7201a8"
            ],
            [
             0.3333333333333333,
             "#9c179e"
            ],
            [
             0.4444444444444444,
             "#bd3786"
            ],
            [
             0.5555555555555556,
             "#d8576b"
            ],
            [
             0.6666666666666666,
             "#ed7953"
            ],
            [
             0.7777777777777778,
             "#fb9f3a"
            ],
            [
             0.8888888888888888,
             "#fdca26"
            ],
            [
             1,
             "#f0f921"
            ]
           ],
           "sequentialminus": [
            [
             0,
             "#0d0887"
            ],
            [
             0.1111111111111111,
             "#46039f"
            ],
            [
             0.2222222222222222,
             "#7201a8"
            ],
            [
             0.3333333333333333,
             "#9c179e"
            ],
            [
             0.4444444444444444,
             "#bd3786"
            ],
            [
             0.5555555555555556,
             "#d8576b"
            ],
            [
             0.6666666666666666,
             "#ed7953"
            ],
            [
             0.7777777777777778,
             "#fb9f3a"
            ],
            [
             0.8888888888888888,
             "#fdca26"
            ],
            [
             1,
             "#f0f921"
            ]
           ]
          },
          "colorway": [
           "#636efa",
           "#EF553B",
           "#00cc96",
           "#ab63fa",
           "#FFA15A",
           "#19d3f3",
           "#FF6692",
           "#B6E880",
           "#FF97FF",
           "#FECB52"
          ],
          "font": {
           "color": "#2a3f5f"
          },
          "geo": {
           "bgcolor": "white",
           "lakecolor": "white",
           "landcolor": "#E5ECF6",
           "showlakes": true,
           "showland": true,
           "subunitcolor": "white"
          },
          "hoverlabel": {
           "align": "left"
          },
          "hovermode": "closest",
          "mapbox": {
           "style": "light"
          },
          "paper_bgcolor": "white",
          "plot_bgcolor": "#E5ECF6",
          "polar": {
           "angularaxis": {
            "gridcolor": "white",
            "linecolor": "white",
            "ticks": ""
           },
           "bgcolor": "#E5ECF6",
           "radialaxis": {
            "gridcolor": "white",
            "linecolor": "white",
            "ticks": ""
           }
          },
          "scene": {
           "xaxis": {
            "backgroundcolor": "#E5ECF6",
            "gridcolor": "white",
            "gridwidth": 2,
            "linecolor": "white",
            "showbackground": true,
            "ticks": "",
            "zerolinecolor": "white"
           },
           "yaxis": {
            "backgroundcolor": "#E5ECF6",
            "gridcolor": "white",
            "gridwidth": 2,
            "linecolor": "white",
            "showbackground": true,
            "ticks": "",
            "zerolinecolor": "white"
           },
           "zaxis": {
            "backgroundcolor": "#E5ECF6",
            "gridcolor": "white",
            "gridwidth": 2,
            "linecolor": "white",
            "showbackground": true,
            "ticks": "",
            "zerolinecolor": "white"
           }
          },
          "shapedefaults": {
           "line": {
            "color": "#2a3f5f"
           }
          },
          "ternary": {
           "aaxis": {
            "gridcolor": "white",
            "linecolor": "white",
            "ticks": ""
           },
           "baxis": {
            "gridcolor": "white",
            "linecolor": "white",
            "ticks": ""
           },
           "bgcolor": "#E5ECF6",
           "caxis": {
            "gridcolor": "white",
            "linecolor": "white",
            "ticks": ""
           }
          },
          "title": {
           "x": 0.05
          },
          "xaxis": {
           "automargin": true,
           "gridcolor": "white",
           "linecolor": "white",
           "ticks": "",
           "title": {
            "standoff": 15
           },
           "zerolinecolor": "white",
           "zerolinewidth": 2
          },
          "yaxis": {
           "automargin": true,
           "gridcolor": "white",
           "linecolor": "white",
           "ticks": "",
           "title": {
            "standoff": 15
           },
           "zerolinecolor": "white",
           "zerolinewidth": 2
          }
         }
        },
        "title": {
         "text": "Средняя стоимость ТАП в руб. за 2022 году"
        },
        "width": 1060,
        "xaxis": {
         "anchor": "y",
         "categoryorder": "total descending",
         "domain": [
          0,
          1
         ],
         "title": {
          "text": "Врач"
         }
        },
        "yaxis": {
         "anchor": "x",
         "domain": [
          0,
          1
         ],
         "gridcolor": "grey",
         "title": {
          "text": "Руб"
         }
        }
       }
      },
      "text/html": [
       "<div>                            <div id=\"951388b4-eee2-400c-8f1f-0b0c726f365f\" class=\"plotly-graph-div\" style=\"height:525px; width:1060px;\"></div>            <script type=\"text/javascript\">                require([\"plotly\"], function(Plotly) {                    window.PLOTLYENV=window.PLOTLYENV || {};                                    if (document.getElementById(\"951388b4-eee2-400c-8f1f-0b0c726f365f\")) {                    Plotly.newPlot(                        \"951388b4-eee2-400c-8f1f-0b0c726f365f\",                        [{\"alignmentgroup\":\"True\",\"hovertemplate\":\"\\u041c\\u0435\\u0441\\u044f\\u0446=0122<br>\\u0412\\u0440\\u0430\\u0447=%{x}<br>avg_rub=%{y}<extra></extra>\",\"legendgroup\":\"0122\",\"marker\":{\"color\":\"rgb(100.0, 100.0, 100.0)\",\"pattern\":{\"shape\":\"\"}},\"name\":\"0122\",\"offsetgroup\":\"0122\",\"orientation\":\"v\",\"showlegend\":true,\"textposition\":\"auto\",\"type\":\"bar\",\"x\":[\"\\u0410\\u043b\\u0435\\u043a\\u0441\\u0430\\u043d\\u0434\\u0440\\u043e\\u0432\\u0430 \\u0421\\u0432\\u0435\\u0442\\u043b\\u0430\\u043d\\u0430 \\u0412\\u0438\\u043a\\u0442\\u043e\\u0440\\u043e\\u0432\\u043d\\u0430\",\"\\u0410\\u0440\\u0443\\u0442\\u044e\\u043d\\u044f\\u043d \\u0410\\u0440\\u0443\\u0442\\u044e\\u043d \\u041b\\u0435\\u0432\\u043e\\u043d\\u043e\\u0432\\u0438\\u0447\",\"\\u0412\\u043b\\u0430\\u0441\\u043e\\u0432\\u0430 \\u0410\\u043b\\u044c\\u0444\\u0438\\u044f \\u041b\\u044f\\u0431\\u0438\\u0431\\u043e\\u0432\\u043d\\u0430\",\"\\u0412\\u043e\\u043b\\u043e\\u0434\\u0438\\u043d \\u041f\\u0430\\u0432\\u0435\\u043b \\u042e\\u0440\\u044c\\u0435\\u0432\\u0438\\u0447\",\"\\u0412\\u043e\\u043b\\u043e\\u0434\\u044c\\u043a\\u043e \\u0412\\u0430\\u043b\\u0435\\u043d\\u0442\\u0438\\u043d\\u0430 \\u0418\\u0432\\u0430\\u043d\\u043e\\u0432\\u043d\\u0430\",\"\\u0413\\u0432\\u043e\\u0437\\u0434\\u0435\\u0432\\u0430 \\u0422\\u0430\\u0442\\u044c\\u044f\\u043d\\u0430 \\u0410\\u043d\\u0430\\u0442\\u043e\\u043b\\u044c\\u0435\\u0432\\u043d\\u0430\",\"\\u0413\\u043e\\u0440\\u0431\\u0438\\u043a\\u043e\\u0432\\u0430 \\u042d\\u043b\\u044c\\u0444\\u0438\\u044f \\u0420\\u0430\\u0448\\u0438\\u0442\\u043e\\u0432\\u043d\\u0430\",\"\\u0417\\u0430\\u0432\\u0433\\u043e\\u0440\\u043e\\u0434\\u043d\\u044b\\u0439 \\u0421\\u0435\\u0440\\u0433\\u0435\\u0439 \\u0412\\u0430\\u043b\\u0435\\u0440\\u0438\\u0430\\u043d\\u043e\\u0432\\u0438\\u0447\",\"\\u0417\\u0430\\u0445\\u0430\\u0440\\u043e\\u0432 \\u0418\\u0432\\u0430\\u043d \\u0412\\u043b\\u0430\\u0434\\u0438\\u043c\\u0438\\u0440\\u043e\\u0432\\u0438\\u0447\",\"\\u041a\\u0430\\u043c\\u044b\\u043d\\u043e\\u0432\\u0430 \\u041d\\u0430\\u0442\\u0430\\u043b\\u0438\\u044f \\u0412\\u0430\\u043b\\u0435\\u0440\\u0438\\u0435\\u0432\\u043d\\u0430\",\"\\u041a\\u043e\\u0432\\u0430\\u043b\\u0435\\u043d\\u043a\\u043e \\u041e\\u043b\\u044c\\u0433\\u0430 \\u042d\\u0434\\u0443\\u0430\\u0440\\u0434\\u043e\\u0432\\u043d\\u0430\",\"\\u041a\\u043e\\u0432\\u0430\\u043b\\u0435\\u043d\\u043a\\u043e \\u041e\\u043b\\u044c\\u0433\\u0430 \\u042d\\u0434\\u0443\\u0430\\u0440\\u0434\\u043e\\u0432\\u043d\\u0430 \\u0444\\u0438\\u0437\\u0438\\u043e\",\"\\u041a\\u043e\\u0432\\u0448\\u043e\\u0432 \\u0410\\u043b\\u0435\\u043a\\u0441\\u0430\\u043d\\u0434\\u0440 \\u0410\\u043b\\u0435\\u043a\\u0441\\u0430\\u043d\\u0434\\u0440\\u043e\\u0432\\u0438\\u0447\",\"\\u041a\\u043e\\u043b\\u0435\\u0441\\u043e\\u0432\\u0430 \\u041d\\u0430\\u0442\\u0430\\u043b\\u044c\\u044f \\u0412\\u0438\\u043a\\u0442\\u043e\\u0440\\u043e\\u0432\\u043d\\u0430\",\"\\u041a\\u0443\\u043a\\u0443\\u0448\\u043a\\u0438\\u043d\\u0430 \\u041b\\u0430\\u0440\\u0438\\u0441\\u0430 \\u0420\\u0430\\u043c\\u0437\\u0430\\u043d\\u043e\\u0432\\u043d\\u0430\",\"\\u041b\\u0438\\u0442\\u0432\\u0438\\u043d\\u043e\\u0432\\u0430 \\u041d\\u0438\\u043d\\u0430 \\u0410\\u043b\\u0435\\u043a\\u0441\\u0435\\u0435\\u0432\\u043d\\u0430\",\"\\u041b\\u043e\\u043f\\u0430\\u0442\\u043a\\u0438\\u043d\\u0430 \\u0410\\u043b\\u0451\\u043d\\u0430 \\u0421\\u0435\\u0440\\u0433\\u0435\\u0435\\u0432\\u043d\\u0430\",\"\\u041c\\u0430\\u043a\\u0441\\u0438\\u043c\\u0435\\u0446 \\u0418\\u0440\\u0438\\u043d\\u0430 \\u0418\\u0432\\u0430\\u043d\\u043e\\u0432\\u043d\\u0430\",\"\\u041c\\u043a\\u0440\\u0442\\u0447\\u044f\\u043d \\u0422\\u0430\\u0440\\u043e\\u043d \\u0410\\u0440\\u0441\\u0435\\u043d\\u043e\\u0432\\u0438\\u0447\",\"\\u041c\\u043e\\u0440\\u043e\\u0448\\u0435\\u043d\\u043a\\u043e\\u0432\\u0430 \\u0413\\u0443\\u043b\\u044c\\u043c\\u0438\\u0440\\u0430 \\u0410\\u0431\\u044b\\u043b\\u043a\\u0430\\u043a\\u043e\\u0432\\u043d\\u0430\",\"\\u041d\\u0438\\u043a\\u043e\\u043b\\u0430\\u0435\\u0432\\u0430 \\u041d\\u0430\\u0434\\u0435\\u0436\\u0434\\u0430 \\u0413\\u0440\\u0438\\u0433\\u043e\\u0440\\u044c\\u0435\\u0432\\u043d\\u0430\",\"\\u041e\\u043b\\u044c\\u0445\\u043e\\u0432\\u0441\\u043a\\u0430\\u044f \\u0410\\u043b\\u044c\\u0431\\u0438\\u043d\\u0430 \\u0412\\u043b\\u0430\\u0434\\u0438\\u043c\\u0438\\u0440\\u043e\\u0432\\u043d\\u0430\",\"\\u041f\\u0443\\u0437\\u0430\\u043d\\u043e\\u0432\\u0430 \\u041b\\u0438\\u0434\\u0438\\u044f \\u0421\\u0435\\u0440\\u0433\\u0435\\u0435\\u0432\\u043d\\u0430\",\"\\u0420\\u044b\\u0431\\u0430\\u043a \\u041b\\u0438\\u043b\\u0438\\u044f \\u0421\\u0435\\u0440\\u0433\\u0435\\u0435\\u0432\\u043d\\u0430\",\"\\u0421\\u043a\\u0430\\u043b\\u043a\\u043e\\u0432\\u0438\\u0447 \\u0418\\u043d\\u043d\\u0430 \\u0412\\u0430\\u043b\\u0435\\u0440\\u044c\\u0435\\u0432\\u043d\\u0430\",\"\\u0427\\u0438\\u0436\\u043e\\u0432\\u0430 \\u0415\\u043b\\u0435\\u043d\\u0430 \\u0412\\u043b\\u0430\\u0434\\u0438\\u043c\\u0438\\u0440\\u043e\\u0432\\u043d\\u0430\",\"\\u0427\\u0438\\u0447\\u0438\\u043a\\u0438\\u043d\\u0430 \\u0413\\u0430\\u043b\\u0438\\u043d\\u0430 \\u041f\\u0430\\u0432\\u043b\\u043e\\u0432\\u043d\\u0430\"],\"xaxis\":\"x\",\"y\":[1930,775,2040,1675,906,2072,1798,878,1960,1926,2900,389,2135,1131,941,2261,2182,2469,2208,2055,1814,1821,2527,704,2488,2473,852],\"yaxis\":\"y\"},{\"alignmentgroup\":\"True\",\"hovertemplate\":\"\\u041c\\u0435\\u0441\\u044f\\u0446=0222<br>\\u0412\\u0440\\u0430\\u0447=%{x}<br>avg_rub=%{y}<extra></extra>\",\"legendgroup\":\"0222\",\"marker\":{\"color\":\"rgb(131.0, 131.0, 131.0)\",\"pattern\":{\"shape\":\"\"}},\"name\":\"0222\",\"offsetgroup\":\"0222\",\"orientation\":\"v\",\"showlegend\":true,\"textposition\":\"auto\",\"type\":\"bar\",\"x\":[\"\\u0410\\u043b\\u0435\\u043a\\u0441\\u0430\\u043d\\u0434\\u0440\\u043e\\u0432\\u0430 \\u0421\\u0432\\u0435\\u0442\\u043b\\u0430\\u043d\\u0430 \\u0412\\u0438\\u043a\\u0442\\u043e\\u0440\\u043e\\u0432\\u043d\\u0430\",\"\\u0410\\u0440\\u0443\\u0442\\u044e\\u043d\\u044f\\u043d \\u0410\\u0440\\u0443\\u0442\\u044e\\u043d \\u041b\\u0435\\u0432\\u043e\\u043d\\u043e\\u0432\\u0438\\u0447\",\"\\u0412\\u043b\\u0430\\u0441\\u043e\\u0432\\u0430 \\u0410\\u043b\\u044c\\u0444\\u0438\\u044f \\u041b\\u044f\\u0431\\u0438\\u0431\\u043e\\u0432\\u043d\\u0430\",\"\\u0412\\u043e\\u043b\\u043e\\u0434\\u0438\\u043d \\u041f\\u0430\\u0432\\u0435\\u043b \\u042e\\u0440\\u044c\\u0435\\u0432\\u0438\\u0447\",\"\\u0412\\u043e\\u043b\\u043e\\u0434\\u044c\\u043a\\u043e \\u0412\\u0430\\u043b\\u0435\\u043d\\u0442\\u0438\\u043d\\u0430 \\u0418\\u0432\\u0430\\u043d\\u043e\\u0432\\u043d\\u0430\",\"\\u0413\\u0432\\u043e\\u0437\\u0434\\u0435\\u0432\\u0430 \\u0422\\u0430\\u0442\\u044c\\u044f\\u043d\\u0430 \\u0410\\u043d\\u0430\\u0442\\u043e\\u043b\\u044c\\u0435\\u0432\\u043d\\u0430\",\"\\u0413\\u043e\\u0440\\u0431\\u0438\\u043a\\u043e\\u0432\\u0430 \\u042d\\u043b\\u044c\\u0444\\u0438\\u044f \\u0420\\u0430\\u0448\\u0438\\u0442\\u043e\\u0432\\u043d\\u0430\",\"\\u0417\\u0430\\u0432\\u0433\\u043e\\u0440\\u043e\\u0434\\u043d\\u044b\\u0439 \\u0421\\u0435\\u0440\\u0433\\u0435\\u0439 \\u0412\\u0430\\u043b\\u0435\\u0440\\u0438\\u0430\\u043d\\u043e\\u0432\\u0438\\u0447\",\"\\u0417\\u0430\\u0445\\u0430\\u0440\\u043e\\u0432 \\u0418\\u0432\\u0430\\u043d \\u0412\\u043b\\u0430\\u0434\\u0438\\u043c\\u0438\\u0440\\u043e\\u0432\\u0438\\u0447\",\"\\u041a\\u0430\\u043c\\u044b\\u043d\\u043e\\u0432\\u0430 \\u041d\\u0430\\u0442\\u0430\\u043b\\u0438\\u044f \\u0412\\u0430\\u043b\\u0435\\u0440\\u0438\\u0435\\u0432\\u043d\\u0430\",\"\\u041a\\u043e\\u0432\\u0430\\u043b\\u0435\\u043d\\u043a\\u043e \\u041e\\u043b\\u044c\\u0433\\u0430 \\u042d\\u0434\\u0443\\u0430\\u0440\\u0434\\u043e\\u0432\\u043d\\u0430\",\"\\u041a\\u043e\\u0432\\u0430\\u043b\\u0435\\u043d\\u043a\\u043e \\u041e\\u043b\\u044c\\u0433\\u0430 \\u042d\\u0434\\u0443\\u0430\\u0440\\u0434\\u043e\\u0432\\u043d\\u0430 \\u0444\\u0438\\u0437\\u0438\\u043e\",\"\\u041a\\u043e\\u0432\\u0448\\u043e\\u0432 \\u0410\\u043b\\u0435\\u043a\\u0441\\u0430\\u043d\\u0434\\u0440 \\u0410\\u043b\\u0435\\u043a\\u0441\\u0430\\u043d\\u0434\\u0440\\u043e\\u0432\\u0438\\u0447\",\"\\u041a\\u043e\\u043b\\u0435\\u0441\\u043e\\u0432\\u0430 \\u041d\\u0430\\u0442\\u0430\\u043b\\u044c\\u044f \\u0412\\u0438\\u043a\\u0442\\u043e\\u0440\\u043e\\u0432\\u043d\\u0430\",\"\\u041a\\u0443\\u043a\\u0443\\u0448\\u043a\\u0438\\u043d\\u0430 \\u041b\\u0430\\u0440\\u0438\\u0441\\u0430 \\u0420\\u0430\\u043c\\u0437\\u0430\\u043d\\u043e\\u0432\\u043d\\u0430\",\"\\u041b\\u0438\\u0442\\u0432\\u0438\\u043d\\u043e\\u0432\\u0430 \\u041d\\u0438\\u043d\\u0430 \\u0410\\u043b\\u0435\\u043a\\u0441\\u0435\\u0435\\u0432\\u043d\\u0430\",\"\\u041b\\u043e\\u043f\\u0430\\u0442\\u043a\\u0438\\u043d\\u0430 \\u0410\\u043b\\u0451\\u043d\\u0430 \\u0421\\u0435\\u0440\\u0433\\u0435\\u0435\\u0432\\u043d\\u0430\",\"\\u041c\\u0430\\u043a\\u0441\\u0438\\u043c\\u0435\\u0446 \\u0418\\u0440\\u0438\\u043d\\u0430 \\u0418\\u0432\\u0430\\u043d\\u043e\\u0432\\u043d\\u0430\",\"\\u041c\\u043a\\u0440\\u0442\\u0447\\u044f\\u043d \\u0422\\u0430\\u0440\\u043e\\u043d \\u0410\\u0440\\u0441\\u0435\\u043d\\u043e\\u0432\\u0438\\u0447\",\"\\u041c\\u043e\\u0440\\u043e\\u0448\\u0435\\u043d\\u043a\\u043e\\u0432\\u0430 \\u0413\\u0443\\u043b\\u044c\\u043c\\u0438\\u0440\\u0430 \\u0410\\u0431\\u044b\\u043b\\u043a\\u0430\\u043a\\u043e\\u0432\\u043d\\u0430\",\"\\u041d\\u0438\\u043a\\u043e\\u043b\\u0430\\u0435\\u0432\\u0430 \\u041d\\u0430\\u0434\\u0435\\u0436\\u0434\\u0430 \\u0413\\u0440\\u0438\\u0433\\u043e\\u0440\\u044c\\u0435\\u0432\\u043d\\u0430\",\"\\u041e\\u043b\\u044c\\u0445\\u043e\\u0432\\u0441\\u043a\\u0430\\u044f \\u0410\\u043b\\u044c\\u0431\\u0438\\u043d\\u0430 \\u0412\\u043b\\u0430\\u0434\\u0438\\u043c\\u0438\\u0440\\u043e\\u0432\\u043d\\u0430\",\"\\u041f\\u0443\\u0437\\u0430\\u043d\\u043e\\u0432\\u0430 \\u041b\\u0438\\u0434\\u0438\\u044f \\u0421\\u0435\\u0440\\u0433\\u0435\\u0435\\u0432\\u043d\\u0430\",\"\\u0420\\u044b\\u0431\\u0430\\u043a \\u041b\\u0438\\u043b\\u0438\\u044f \\u0421\\u0435\\u0440\\u0433\\u0435\\u0435\\u0432\\u043d\\u0430\",\"\\u0421\\u043a\\u0430\\u043b\\u043a\\u043e\\u0432\\u0438\\u0447 \\u0418\\u043d\\u043d\\u0430 \\u0412\\u0430\\u043b\\u0435\\u0440\\u044c\\u0435\\u0432\\u043d\\u0430\",\"\\u0427\\u0438\\u0436\\u043e\\u0432\\u0430 \\u0415\\u043b\\u0435\\u043d\\u0430 \\u0412\\u043b\\u0430\\u0434\\u0438\\u043c\\u0438\\u0440\\u043e\\u0432\\u043d\\u0430\",\"\\u0427\\u0438\\u0447\\u0438\\u043a\\u0438\\u043d\\u0430 \\u0413\\u0430\\u043b\\u0438\\u043d\\u0430 \\u041f\\u0430\\u0432\\u043b\\u043e\\u0432\\u043d\\u0430\"],\"xaxis\":\"x\",\"y\":[2102,786,1549,2382,832,1987,1754,975,1570,1838,2646,374,2293,1163,1351,2307,2038,2180,3535,1764,2245,1969,2425,760,2653,2793,849],\"yaxis\":\"y\"},{\"alignmentgroup\":\"True\",\"hovertemplate\":\"\\u041c\\u0435\\u0441\\u044f\\u0446=0322<br>\\u0412\\u0440\\u0430\\u0447=%{x}<br>avg_rub=%{y}<extra></extra>\",\"legendgroup\":\"0322\",\"marker\":{\"color\":\"rgb(162.0, 162.0, 162.0)\",\"pattern\":{\"shape\":\"\"}},\"name\":\"0322\",\"offsetgroup\":\"0322\",\"orientation\":\"v\",\"showlegend\":true,\"textposition\":\"auto\",\"type\":\"bar\",\"x\":[\"\\u0410\\u043b\\u0435\\u043a\\u0441\\u0430\\u043d\\u0434\\u0440\\u043e\\u0432\\u0430 \\u0421\\u0432\\u0435\\u0442\\u043b\\u0430\\u043d\\u0430 \\u0412\\u0438\\u043a\\u0442\\u043e\\u0440\\u043e\\u0432\\u043d\\u0430\",\"\\u0410\\u0440\\u0443\\u0442\\u044e\\u043d\\u044f\\u043d \\u0410\\u0440\\u0443\\u0442\\u044e\\u043d \\u041b\\u0435\\u0432\\u043e\\u043d\\u043e\\u0432\\u0438\\u0447\",\"\\u0412\\u043b\\u0430\\u0441\\u043e\\u0432\\u0430 \\u0410\\u043b\\u044c\\u0444\\u0438\\u044f \\u041b\\u044f\\u0431\\u0438\\u0431\\u043e\\u0432\\u043d\\u0430\",\"\\u0412\\u043e\\u043b\\u043e\\u0434\\u0438\\u043d \\u041f\\u0430\\u0432\\u0435\\u043b \\u042e\\u0440\\u044c\\u0435\\u0432\\u0438\\u0447\",\"\\u0412\\u043e\\u043b\\u043e\\u0434\\u044c\\u043a\\u043e \\u0412\\u0430\\u043b\\u0435\\u043d\\u0442\\u0438\\u043d\\u0430 \\u0418\\u0432\\u0430\\u043d\\u043e\\u0432\\u043d\\u0430\",\"\\u0413\\u0432\\u043e\\u0437\\u0434\\u0435\\u0432\\u0430 \\u0422\\u0430\\u0442\\u044c\\u044f\\u043d\\u0430 \\u0410\\u043d\\u0430\\u0442\\u043e\\u043b\\u044c\\u0435\\u0432\\u043d\\u0430\",\"\\u0413\\u043e\\u0440\\u0431\\u0438\\u043a\\u043e\\u0432\\u0430 \\u042d\\u043b\\u044c\\u0444\\u0438\\u044f \\u0420\\u0430\\u0448\\u0438\\u0442\\u043e\\u0432\\u043d\\u0430\",\"\\u0417\\u0430\\u0432\\u0433\\u043e\\u0440\\u043e\\u0434\\u043d\\u044b\\u0439 \\u0421\\u0435\\u0440\\u0433\\u0435\\u0439 \\u0412\\u0430\\u043b\\u0435\\u0440\\u0438\\u0430\\u043d\\u043e\\u0432\\u0438\\u0447\",\"\\u0417\\u0430\\u0445\\u0430\\u0440\\u043e\\u0432 \\u0418\\u0432\\u0430\\u043d \\u0412\\u043b\\u0430\\u0434\\u0438\\u043c\\u0438\\u0440\\u043e\\u0432\\u0438\\u0447\",\"\\u041a\\u0430\\u043c\\u044b\\u043d\\u043e\\u0432\\u0430 \\u041d\\u0430\\u0442\\u0430\\u043b\\u0438\\u044f \\u0412\\u0430\\u043b\\u0435\\u0440\\u0438\\u0435\\u0432\\u043d\\u0430\",\"\\u041a\\u043e\\u0432\\u0430\\u043b\\u0435\\u043d\\u043a\\u043e \\u041e\\u043b\\u044c\\u0433\\u0430 \\u042d\\u0434\\u0443\\u0430\\u0440\\u0434\\u043e\\u0432\\u043d\\u0430\",\"\\u041a\\u043e\\u0432\\u0430\\u043b\\u0435\\u043d\\u043a\\u043e \\u041e\\u043b\\u044c\\u0433\\u0430 \\u042d\\u0434\\u0443\\u0430\\u0440\\u0434\\u043e\\u0432\\u043d\\u0430 \\u0444\\u0438\\u0437\\u0438\\u043e\",\"\\u041a\\u043e\\u0432\\u0448\\u043e\\u0432 \\u0410\\u043b\\u0435\\u043a\\u0441\\u0430\\u043d\\u0434\\u0440 \\u0410\\u043b\\u0435\\u043a\\u0441\\u0430\\u043d\\u0434\\u0440\\u043e\\u0432\\u0438\\u0447\",\"\\u041a\\u043e\\u043b\\u0435\\u0441\\u043e\\u0432\\u0430 \\u041d\\u0430\\u0442\\u0430\\u043b\\u044c\\u044f \\u0412\\u0438\\u043a\\u0442\\u043e\\u0440\\u043e\\u0432\\u043d\\u0430\",\"\\u041a\\u0443\\u043a\\u0443\\u0448\\u043a\\u0438\\u043d\\u0430 \\u041b\\u0430\\u0440\\u0438\\u0441\\u0430 \\u0420\\u0430\\u043c\\u0437\\u0430\\u043d\\u043e\\u0432\\u043d\\u0430\",\"\\u041b\\u0438\\u0442\\u0432\\u0438\\u043d\\u043e\\u0432\\u0430 \\u041d\\u0438\\u043d\\u0430 \\u0410\\u043b\\u0435\\u043a\\u0441\\u0435\\u0435\\u0432\\u043d\\u0430\",\"\\u041b\\u043e\\u043f\\u0430\\u0442\\u043a\\u0438\\u043d\\u0430 \\u0410\\u043b\\u0451\\u043d\\u0430 \\u0421\\u0435\\u0440\\u0433\\u0435\\u0435\\u0432\\u043d\\u0430\",\"\\u041c\\u0430\\u043a\\u0441\\u0438\\u043c\\u0435\\u0446 \\u0418\\u0440\\u0438\\u043d\\u0430 \\u0418\\u0432\\u0430\\u043d\\u043e\\u0432\\u043d\\u0430\",\"\\u041c\\u043a\\u0440\\u0442\\u0447\\u044f\\u043d \\u0422\\u0430\\u0440\\u043e\\u043d \\u0410\\u0440\\u0441\\u0435\\u043d\\u043e\\u0432\\u0438\\u0447\",\"\\u041c\\u043e\\u0440\\u043e\\u0448\\u0435\\u043d\\u043a\\u043e\\u0432\\u0430 \\u0413\\u0443\\u043b\\u044c\\u043c\\u0438\\u0440\\u0430 \\u0410\\u0431\\u044b\\u043b\\u043a\\u0430\\u043a\\u043e\\u0432\\u043d\\u0430\",\"\\u041d\\u0438\\u043a\\u043e\\u043b\\u0430\\u0435\\u0432\\u0430 \\u041d\\u0430\\u0434\\u0435\\u0436\\u0434\\u0430 \\u0413\\u0440\\u0438\\u0433\\u043e\\u0440\\u044c\\u0435\\u0432\\u043d\\u0430\",\"\\u041e\\u043b\\u044c\\u0445\\u043e\\u0432\\u0441\\u043a\\u0430\\u044f \\u0410\\u043b\\u044c\\u0431\\u0438\\u043d\\u0430 \\u0412\\u043b\\u0430\\u0434\\u0438\\u043c\\u0438\\u0440\\u043e\\u0432\\u043d\\u0430\",\"\\u041f\\u0443\\u0437\\u0430\\u043d\\u043e\\u0432\\u0430 \\u041b\\u0438\\u0434\\u0438\\u044f \\u0421\\u0435\\u0440\\u0433\\u0435\\u0435\\u0432\\u043d\\u0430\",\"\\u0420\\u044b\\u0431\\u0430\\u043a \\u041b\\u0438\\u043b\\u0438\\u044f \\u0421\\u0435\\u0440\\u0433\\u0435\\u0435\\u0432\\u043d\\u0430\",\"\\u0421\\u043a\\u0430\\u043b\\u043a\\u043e\\u0432\\u0438\\u0447 \\u0418\\u043d\\u043d\\u0430 \\u0412\\u0430\\u043b\\u0435\\u0440\\u044c\\u0435\\u0432\\u043d\\u0430\",\"\\u0427\\u0438\\u0436\\u043e\\u0432\\u0430 \\u0415\\u043b\\u0435\\u043d\\u0430 \\u0412\\u043b\\u0430\\u0434\\u0438\\u043c\\u0438\\u0440\\u043e\\u0432\\u043d\\u0430\",\"\\u0427\\u0438\\u0447\\u0438\\u043a\\u0438\\u043d\\u0430 \\u0413\\u0430\\u043b\\u0438\\u043d\\u0430 \\u041f\\u0430\\u0432\\u043b\\u043e\\u0432\\u043d\\u0430\"],\"xaxis\":\"x\",\"y\":[1799,783,2304,3078,900,2029,2115,932,1944,2520,3085,381,2172,1164,1842,2219,2231,1964,2735,1927,2287,2021,2292,754,2642,2552,849],\"yaxis\":\"y\"},{\"alignmentgroup\":\"True\",\"hovertemplate\":\"\\u041c\\u0435\\u0441\\u044f\\u0446=0422<br>\\u0412\\u0440\\u0430\\u0447=%{x}<br>avg_rub=%{y}<extra></extra>\",\"legendgroup\":\"0422\",\"marker\":{\"color\":\"rgb(193.0, 193.0, 193.0)\",\"pattern\":{\"shape\":\"\"}},\"name\":\"0422\",\"offsetgroup\":\"0422\",\"orientation\":\"v\",\"showlegend\":true,\"textposition\":\"auto\",\"type\":\"bar\",\"x\":[\"\\u0410\\u043b\\u0435\\u043a\\u0441\\u0430\\u043d\\u0434\\u0440\\u043e\\u0432\\u0430 \\u0421\\u0432\\u0435\\u0442\\u043b\\u0430\\u043d\\u0430 \\u0412\\u0438\\u043a\\u0442\\u043e\\u0440\\u043e\\u0432\\u043d\\u0430\",\"\\u0410\\u0440\\u0443\\u0442\\u044e\\u043d\\u044f\\u043d \\u0410\\u0440\\u0443\\u0442\\u044e\\u043d \\u041b\\u0435\\u0432\\u043e\\u043d\\u043e\\u0432\\u0438\\u0447\",\"\\u0412\\u043b\\u0430\\u0441\\u043e\\u0432\\u0430 \\u0410\\u043b\\u044c\\u0444\\u0438\\u044f \\u041b\\u044f\\u0431\\u0438\\u0431\\u043e\\u0432\\u043d\\u0430\",\"\\u0412\\u043e\\u043b\\u043e\\u0434\\u0438\\u043d \\u041f\\u0430\\u0432\\u0435\\u043b \\u042e\\u0440\\u044c\\u0435\\u0432\\u0438\\u0447\",\"\\u0412\\u043e\\u043b\\u043e\\u0434\\u044c\\u043a\\u043e \\u0412\\u0430\\u043b\\u0435\\u043d\\u0442\\u0438\\u043d\\u0430 \\u0418\\u0432\\u0430\\u043d\\u043e\\u0432\\u043d\\u0430\",\"\\u0413\\u0432\\u043e\\u0437\\u0434\\u0435\\u0432\\u0430 \\u0422\\u0430\\u0442\\u044c\\u044f\\u043d\\u0430 \\u0410\\u043d\\u0430\\u0442\\u043e\\u043b\\u044c\\u0435\\u0432\\u043d\\u0430\",\"\\u0413\\u043e\\u0440\\u0431\\u0438\\u043a\\u043e\\u0432\\u0430 \\u042d\\u043b\\u044c\\u0444\\u0438\\u044f \\u0420\\u0430\\u0448\\u0438\\u0442\\u043e\\u0432\\u043d\\u0430\",\"\\u0417\\u0430\\u0432\\u0433\\u043e\\u0440\\u043e\\u0434\\u043d\\u044b\\u0439 \\u0421\\u0435\\u0440\\u0433\\u0435\\u0439 \\u0412\\u0430\\u043b\\u0435\\u0440\\u0438\\u0430\\u043d\\u043e\\u0432\\u0438\\u0447\",\"\\u0417\\u0430\\u0445\\u0430\\u0440\\u043e\\u0432 \\u0418\\u0432\\u0430\\u043d \\u0412\\u043b\\u0430\\u0434\\u0438\\u043c\\u0438\\u0440\\u043e\\u0432\\u0438\\u0447\",\"\\u041a\\u0430\\u043c\\u044b\\u043d\\u043e\\u0432\\u0430 \\u041d\\u0430\\u0442\\u0430\\u043b\\u0438\\u044f \\u0412\\u0430\\u043b\\u0435\\u0440\\u0438\\u0435\\u0432\\u043d\\u0430\",\"\\u041a\\u043e\\u0432\\u0430\\u043b\\u0435\\u043d\\u043a\\u043e \\u041e\\u043b\\u044c\\u0433\\u0430 \\u042d\\u0434\\u0443\\u0430\\u0440\\u0434\\u043e\\u0432\\u043d\\u0430\",\"\\u041a\\u043e\\u0432\\u0430\\u043b\\u0435\\u043d\\u043a\\u043e \\u041e\\u043b\\u044c\\u0433\\u0430 \\u042d\\u0434\\u0443\\u0430\\u0440\\u0434\\u043e\\u0432\\u043d\\u0430 \\u0444\\u0438\\u0437\\u0438\\u043e\",\"\\u041a\\u043e\\u0432\\u0448\\u043e\\u0432 \\u0410\\u043b\\u0435\\u043a\\u0441\\u0430\\u043d\\u0434\\u0440 \\u0410\\u043b\\u0435\\u043a\\u0441\\u0430\\u043d\\u0434\\u0440\\u043e\\u0432\\u0438\\u0447\",\"\\u041a\\u043e\\u043b\\u0435\\u0441\\u043e\\u0432\\u0430 \\u041d\\u0430\\u0442\\u0430\\u043b\\u044c\\u044f \\u0412\\u0438\\u043a\\u0442\\u043e\\u0440\\u043e\\u0432\\u043d\\u0430\",\"\\u041a\\u0443\\u043a\\u0443\\u0448\\u043a\\u0438\\u043d\\u0430 \\u041b\\u0430\\u0440\\u0438\\u0441\\u0430 \\u0420\\u0430\\u043c\\u0437\\u0430\\u043d\\u043e\\u0432\\u043d\\u0430\",\"\\u041b\\u0438\\u0442\\u0432\\u0438\\u043d\\u043e\\u0432\\u0430 \\u041d\\u0438\\u043d\\u0430 \\u0410\\u043b\\u0435\\u043a\\u0441\\u0435\\u0435\\u0432\\u043d\\u0430\",\"\\u041b\\u043e\\u043f\\u0430\\u0442\\u043a\\u0438\\u043d\\u0430 \\u0410\\u043b\\u0451\\u043d\\u0430 \\u0421\\u0435\\u0440\\u0433\\u0435\\u0435\\u0432\\u043d\\u0430\",\"\\u041c\\u0430\\u043a\\u0441\\u0438\\u043c\\u0435\\u0446 \\u0418\\u0440\\u0438\\u043d\\u0430 \\u0418\\u0432\\u0430\\u043d\\u043e\\u0432\\u043d\\u0430\",\"\\u041c\\u043a\\u0440\\u0442\\u0447\\u044f\\u043d \\u0422\\u0430\\u0440\\u043e\\u043d \\u0410\\u0440\\u0441\\u0435\\u043d\\u043e\\u0432\\u0438\\u0447\",\"\\u041c\\u043e\\u0440\\u043e\\u0448\\u0435\\u043d\\u043a\\u043e\\u0432\\u0430 \\u0413\\u0443\\u043b\\u044c\\u043c\\u0438\\u0440\\u0430 \\u0410\\u0431\\u044b\\u043b\\u043a\\u0430\\u043a\\u043e\\u0432\\u043d\\u0430\",\"\\u041d\\u0438\\u043a\\u043e\\u043b\\u0430\\u0435\\u0432\\u0430 \\u041d\\u0430\\u0434\\u0435\\u0436\\u0434\\u0430 \\u0413\\u0440\\u0438\\u0433\\u043e\\u0440\\u044c\\u0435\\u0432\\u043d\\u0430\",\"\\u041e\\u043b\\u044c\\u0445\\u043e\\u0432\\u0441\\u043a\\u0430\\u044f \\u0410\\u043b\\u044c\\u0431\\u0438\\u043d\\u0430 \\u0412\\u043b\\u0430\\u0434\\u0438\\u043c\\u0438\\u0440\\u043e\\u0432\\u043d\\u0430\",\"\\u041f\\u0443\\u0437\\u0430\\u043d\\u043e\\u0432\\u0430 \\u041b\\u0438\\u0434\\u0438\\u044f \\u0421\\u0435\\u0440\\u0433\\u0435\\u0435\\u0432\\u043d\\u0430\",\"\\u0420\\u044b\\u0431\\u0430\\u043a \\u041b\\u0438\\u043b\\u0438\\u044f \\u0421\\u0435\\u0440\\u0433\\u0435\\u0435\\u0432\\u043d\\u0430\",\"\\u0421\\u043a\\u0430\\u043b\\u043a\\u043e\\u0432\\u0438\\u0447 \\u0418\\u043d\\u043d\\u0430 \\u0412\\u0430\\u043b\\u0435\\u0440\\u044c\\u0435\\u0432\\u043d\\u0430\",\"\\u0427\\u0438\\u0436\\u043e\\u0432\\u0430 \\u0415\\u043b\\u0435\\u043d\\u0430 \\u0412\\u043b\\u0430\\u0434\\u0438\\u043c\\u0438\\u0440\\u043e\\u0432\\u043d\\u0430\",\"\\u0427\\u0438\\u0447\\u0438\\u043a\\u0438\\u043d\\u0430 \\u0413\\u0430\\u043b\\u0438\\u043d\\u0430 \\u041f\\u0430\\u0432\\u043b\\u043e\\u0432\\u043d\\u0430\"],\"xaxis\":\"x\",\"y\":[1856,759,2098,2570,867,1889,2051,903,1841,2380,2893,365,2057,1094,2366,1939,2041,1743,2093,1835,2342,1848,2304,737,3302,2318,796],\"yaxis\":\"y\"},{\"alignmentgroup\":\"True\",\"hovertemplate\":\"\\u041c\\u0435\\u0441\\u044f\\u0446=0522<br>\\u0412\\u0440\\u0430\\u0447=%{x}<br>avg_rub=%{y}<extra></extra>\",\"legendgroup\":\"0522\",\"marker\":{\"color\":\"rgb(224.0, 224.0, 224.0)\",\"pattern\":{\"shape\":\"\"}},\"name\":\"0522\",\"offsetgroup\":\"0522\",\"orientation\":\"v\",\"showlegend\":true,\"textposition\":\"auto\",\"type\":\"bar\",\"x\":[\"\\u0410\\u043b\\u0435\\u043a\\u0441\\u0430\\u043d\\u0434\\u0440\\u043e\\u0432\\u0430 \\u0421\\u0432\\u0435\\u0442\\u043b\\u0430\\u043d\\u0430 \\u0412\\u0438\\u043a\\u0442\\u043e\\u0440\\u043e\\u0432\\u043d\\u0430\",\"\\u0410\\u0440\\u0443\\u0442\\u044e\\u043d\\u044f\\u043d \\u0410\\u0440\\u0443\\u0442\\u044e\\u043d \\u041b\\u0435\\u0432\\u043e\\u043d\\u043e\\u0432\\u0438\\u0447\",\"\\u0412\\u043b\\u0430\\u0441\\u043e\\u0432\\u0430 \\u0410\\u043b\\u044c\\u0444\\u0438\\u044f \\u041b\\u044f\\u0431\\u0438\\u0431\\u043e\\u0432\\u043d\\u0430\",\"\\u0412\\u043e\\u043b\\u043e\\u0434\\u0438\\u043d \\u041f\\u0430\\u0432\\u0435\\u043b \\u042e\\u0440\\u044c\\u0435\\u0432\\u0438\\u0447\",\"\\u0412\\u043e\\u043b\\u043e\\u0434\\u044c\\u043a\\u043e \\u0412\\u0430\\u043b\\u0435\\u043d\\u0442\\u0438\\u043d\\u0430 \\u0418\\u0432\\u0430\\u043d\\u043e\\u0432\\u043d\\u0430\",\"\\u0413\\u043e\\u0440\\u0431\\u0438\\u043a\\u043e\\u0432\\u0430 \\u042d\\u043b\\u044c\\u0444\\u0438\\u044f \\u0420\\u0430\\u0448\\u0438\\u0442\\u043e\\u0432\\u043d\\u0430\",\"\\u0417\\u0430\\u0432\\u0433\\u043e\\u0440\\u043e\\u0434\\u043d\\u044b\\u0439 \\u0421\\u0435\\u0440\\u0433\\u0435\\u0439 \\u0412\\u0430\\u043b\\u0435\\u0440\\u0438\\u0430\\u043d\\u043e\\u0432\\u0438\\u0447\",\"\\u0417\\u0430\\u0445\\u0430\\u0440\\u043e\\u0432 \\u0418\\u0432\\u0430\\u043d \\u0412\\u043b\\u0430\\u0434\\u0438\\u043c\\u0438\\u0440\\u043e\\u0432\\u0438\\u0447\",\"\\u041a\\u0430\\u043c\\u044b\\u043d\\u043e\\u0432\\u0430 \\u041d\\u0430\\u0442\\u0430\\u043b\\u0438\\u044f \\u0412\\u0430\\u043b\\u0435\\u0440\\u0438\\u0435\\u0432\\u043d\\u0430\",\"\\u041a\\u043e\\u0432\\u0430\\u043b\\u0435\\u043d\\u043a\\u043e \\u041e\\u043b\\u044c\\u0433\\u0430 \\u042d\\u0434\\u0443\\u0430\\u0440\\u0434\\u043e\\u0432\\u043d\\u0430\",\"\\u041a\\u043e\\u0432\\u0430\\u043b\\u0435\\u043d\\u043a\\u043e \\u041e\\u043b\\u044c\\u0433\\u0430 \\u042d\\u0434\\u0443\\u0430\\u0440\\u0434\\u043e\\u0432\\u043d\\u0430 \\u0444\\u0438\\u0437\\u0438\\u043e\",\"\\u041a\\u043e\\u0432\\u0448\\u043e\\u0432 \\u0410\\u043b\\u0435\\u043a\\u0441\\u0430\\u043d\\u0434\\u0440 \\u0410\\u043b\\u0435\\u043a\\u0441\\u0430\\u043d\\u0434\\u0440\\u043e\\u0432\\u0438\\u0447\",\"\\u041a\\u043e\\u043b\\u0435\\u0441\\u043e\\u0432\\u0430 \\u041d\\u0430\\u0442\\u0430\\u043b\\u044c\\u044f \\u0412\\u0438\\u043a\\u0442\\u043e\\u0440\\u043e\\u0432\\u043d\\u0430\",\"\\u041a\\u0443\\u043a\\u0443\\u0448\\u043a\\u0438\\u043d\\u0430 \\u041b\\u0430\\u0440\\u0438\\u0441\\u0430 \\u0420\\u0430\\u043c\\u0437\\u0430\\u043d\\u043e\\u0432\\u043d\\u0430\",\"\\u041b\\u0438\\u0442\\u0432\\u0438\\u043d\\u043e\\u0432\\u0430 \\u041d\\u0438\\u043d\\u0430 \\u0410\\u043b\\u0435\\u043a\\u0441\\u0435\\u0435\\u0432\\u043d\\u0430\",\"\\u041b\\u043e\\u043f\\u0430\\u0442\\u043a\\u0438\\u043d\\u0430 \\u0410\\u043b\\u0451\\u043d\\u0430 \\u0421\\u0435\\u0440\\u0433\\u0435\\u0435\\u0432\\u043d\\u0430\",\"\\u041c\\u0430\\u043a\\u0441\\u0438\\u043c\\u0435\\u0446 \\u0418\\u0440\\u0438\\u043d\\u0430 \\u0418\\u0432\\u0430\\u043d\\u043e\\u0432\\u043d\\u0430\",\"\\u041c\\u043a\\u0440\\u0442\\u0447\\u044f\\u043d \\u0422\\u0430\\u0440\\u043e\\u043d \\u0410\\u0440\\u0441\\u0435\\u043d\\u043e\\u0432\\u0438\\u0447\",\"\\u041c\\u043e\\u0440\\u043e\\u0448\\u0435\\u043d\\u043a\\u043e\\u0432\\u0430 \\u0413\\u0443\\u043b\\u044c\\u043c\\u0438\\u0440\\u0430 \\u0410\\u0431\\u044b\\u043b\\u043a\\u0430\\u043a\\u043e\\u0432\\u043d\\u0430\",\"\\u041d\\u0438\\u043a\\u043e\\u043b\\u0430\\u0435\\u0432\\u0430 \\u041d\\u0430\\u0434\\u0435\\u0436\\u0434\\u0430 \\u0413\\u0440\\u0438\\u0433\\u043e\\u0440\\u044c\\u0435\\u0432\\u043d\\u0430\",\"\\u041e\\u043b\\u044c\\u0445\\u043e\\u0432\\u0441\\u043a\\u0430\\u044f \\u0410\\u043b\\u044c\\u0431\\u0438\\u043d\\u0430 \\u0412\\u043b\\u0430\\u0434\\u0438\\u043c\\u0438\\u0440\\u043e\\u0432\\u043d\\u0430\",\"\\u041f\\u0443\\u0437\\u0430\\u043d\\u043e\\u0432\\u0430 \\u041b\\u0438\\u0434\\u0438\\u044f \\u0421\\u0435\\u0440\\u0433\\u0435\\u0435\\u0432\\u043d\\u0430\",\"\\u0420\\u044b\\u0431\\u0430\\u043a \\u041b\\u0438\\u043b\\u0438\\u044f \\u0421\\u0435\\u0440\\u0433\\u0435\\u0435\\u0432\\u043d\\u0430\",\"\\u0421\\u043a\\u0430\\u043b\\u043a\\u043e\\u0432\\u0438\\u0447 \\u0418\\u043d\\u043d\\u0430 \\u0412\\u0430\\u043b\\u0435\\u0440\\u044c\\u0435\\u0432\\u043d\\u0430\",\"\\u0427\\u0438\\u0436\\u043e\\u0432\\u0430 \\u0415\\u043b\\u0435\\u043d\\u0430 \\u0412\\u043b\\u0430\\u0434\\u0438\\u043c\\u0438\\u0440\\u043e\\u0432\\u043d\\u0430\",\"\\u0427\\u0438\\u0447\\u0438\\u043a\\u0438\\u043d\\u0430 \\u0413\\u0430\\u043b\\u0438\\u043d\\u0430 \\u041f\\u0430\\u0432\\u043b\\u043e\\u0432\\u043d\\u0430\"],\"xaxis\":\"x\",\"y\":[1615,941,2046,4486,1004,1841,891,2265,2502,2451,372,2089,1082,2105,2244,2449,1521,2254,1433,2120,1550,2410,757,1744,2226,899],\"yaxis\":\"y\"}],                        {\"barmode\":\"group\",\"legend\":{\"title\":{\"text\":\"\\u041c\\u0435\\u0441\\u044f\\u0446\"},\"tracegroupgap\":0},\"plot_bgcolor\":\"rgb(255,255,255)\",\"template\":{\"data\":{\"bar\":[{\"error_x\":{\"color\":\"#2a3f5f\"},\"error_y\":{\"color\":\"#2a3f5f\"},\"marker\":{\"line\":{\"color\":\"#E5ECF6\",\"width\":0.5},\"pattern\":{\"fillmode\":\"overlay\",\"size\":10,\"solidity\":0.2}},\"type\":\"bar\"}],\"barpolar\":[{\"marker\":{\"line\":{\"color\":\"#E5ECF6\",\"width\":0.5},\"pattern\":{\"fillmode\":\"overlay\",\"size\":10,\"solidity\":0.2}},\"type\":\"barpolar\"}],\"carpet\":[{\"aaxis\":{\"endlinecolor\":\"#2a3f5f\",\"gridcolor\":\"white\",\"linecolor\":\"white\",\"minorgridcolor\":\"white\",\"startlinecolor\":\"#2a3f5f\"},\"baxis\":{\"endlinecolor\":\"#2a3f5f\",\"gridcolor\":\"white\",\"linecolor\":\"white\",\"minorgridcolor\":\"white\",\"startlinecolor\":\"#2a3f5f\"},\"type\":\"carpet\"}],\"choropleth\":[{\"colorbar\":{\"outlinewidth\":0,\"ticks\":\"\"},\"type\":\"choropleth\"}],\"contour\":[{\"colorbar\":{\"outlinewidth\":0,\"ticks\":\"\"},\"colorscale\":[[0.0,\"#0d0887\"],[0.1111111111111111,\"#46039f\"],[0.2222222222222222,\"#7201a8\"],[0.3333333333333333,\"#9c179e\"],[0.4444444444444444,\"#bd3786\"],[0.5555555555555556,\"#d8576b\"],[0.6666666666666666,\"#ed7953\"],[0.7777777777777778,\"#fb9f3a\"],[0.8888888888888888,\"#fdca26\"],[1.0,\"#f0f921\"]],\"type\":\"contour\"}],\"contourcarpet\":[{\"colorbar\":{\"outlinewidth\":0,\"ticks\":\"\"},\"type\":\"contourcarpet\"}],\"heatmap\":[{\"colorbar\":{\"outlinewidth\":0,\"ticks\":\"\"},\"colorscale\":[[0.0,\"#0d0887\"],[0.1111111111111111,\"#46039f\"],[0.2222222222222222,\"#7201a8\"],[0.3333333333333333,\"#9c179e\"],[0.4444444444444444,\"#bd3786\"],[0.5555555555555556,\"#d8576b\"],[0.6666666666666666,\"#ed7953\"],[0.7777777777777778,\"#fb9f3a\"],[0.8888888888888888,\"#fdca26\"],[1.0,\"#f0f921\"]],\"type\":\"heatmap\"}],\"heatmapgl\":[{\"colorbar\":{\"outlinewidth\":0,\"ticks\":\"\"},\"colorscale\":[[0.0,\"#0d0887\"],[0.1111111111111111,\"#46039f\"],[0.2222222222222222,\"#7201a8\"],[0.3333333333333333,\"#9c179e\"],[0.4444444444444444,\"#bd3786\"],[0.5555555555555556,\"#d8576b\"],[0.6666666666666666,\"#ed7953\"],[0.7777777777777778,\"#fb9f3a\"],[0.8888888888888888,\"#fdca26\"],[1.0,\"#f0f921\"]],\"type\":\"heatmapgl\"}],\"histogram\":[{\"marker\":{\"pattern\":{\"fillmode\":\"overlay\",\"size\":10,\"solidity\":0.2}},\"type\":\"histogram\"}],\"histogram2d\":[{\"colorbar\":{\"outlinewidth\":0,\"ticks\":\"\"},\"colorscale\":[[0.0,\"#0d0887\"],[0.1111111111111111,\"#46039f\"],[0.2222222222222222,\"#7201a8\"],[0.3333333333333333,\"#9c179e\"],[0.4444444444444444,\"#bd3786\"],[0.5555555555555556,\"#d8576b\"],[0.6666666666666666,\"#ed7953\"],[0.7777777777777778,\"#fb9f3a\"],[0.8888888888888888,\"#fdca26\"],[1.0,\"#f0f921\"]],\"type\":\"histogram2d\"}],\"histogram2dcontour\":[{\"colorbar\":{\"outlinewidth\":0,\"ticks\":\"\"},\"colorscale\":[[0.0,\"#0d0887\"],[0.1111111111111111,\"#46039f\"],[0.2222222222222222,\"#7201a8\"],[0.3333333333333333,\"#9c179e\"],[0.4444444444444444,\"#bd3786\"],[0.5555555555555556,\"#d8576b\"],[0.6666666666666666,\"#ed7953\"],[0.7777777777777778,\"#fb9f3a\"],[0.8888888888888888,\"#fdca26\"],[1.0,\"#f0f921\"]],\"type\":\"histogram2dcontour\"}],\"mesh3d\":[{\"colorbar\":{\"outlinewidth\":0,\"ticks\":\"\"},\"type\":\"mesh3d\"}],\"parcoords\":[{\"line\":{\"colorbar\":{\"outlinewidth\":0,\"ticks\":\"\"}},\"type\":\"parcoords\"}],\"pie\":[{\"automargin\":true,\"type\":\"pie\"}],\"scatter\":[{\"marker\":{\"colorbar\":{\"outlinewidth\":0,\"ticks\":\"\"}},\"type\":\"scatter\"}],\"scatter3d\":[{\"line\":{\"colorbar\":{\"outlinewidth\":0,\"ticks\":\"\"}},\"marker\":{\"colorbar\":{\"outlinewidth\":0,\"ticks\":\"\"}},\"type\":\"scatter3d\"}],\"scattercarpet\":[{\"marker\":{\"colorbar\":{\"outlinewidth\":0,\"ticks\":\"\"}},\"type\":\"scattercarpet\"}],\"scattergeo\":[{\"marker\":{\"colorbar\":{\"outlinewidth\":0,\"ticks\":\"\"}},\"type\":\"scattergeo\"}],\"scattergl\":[{\"marker\":{\"colorbar\":{\"outlinewidth\":0,\"ticks\":\"\"}},\"type\":\"scattergl\"}],\"scattermapbox\":[{\"marker\":{\"colorbar\":{\"outlinewidth\":0,\"ticks\":\"\"}},\"type\":\"scattermapbox\"}],\"scatterpolar\":[{\"marker\":{\"colorbar\":{\"outlinewidth\":0,\"ticks\":\"\"}},\"type\":\"scatterpolar\"}],\"scatterpolargl\":[{\"marker\":{\"colorbar\":{\"outlinewidth\":0,\"ticks\":\"\"}},\"type\":\"scatterpolargl\"}],\"scatterternary\":[{\"marker\":{\"colorbar\":{\"outlinewidth\":0,\"ticks\":\"\"}},\"type\":\"scatterternary\"}],\"surface\":[{\"colorbar\":{\"outlinewidth\":0,\"ticks\":\"\"},\"colorscale\":[[0.0,\"#0d0887\"],[0.1111111111111111,\"#46039f\"],[0.2222222222222222,\"#7201a8\"],[0.3333333333333333,\"#9c179e\"],[0.4444444444444444,\"#bd3786\"],[0.5555555555555556,\"#d8576b\"],[0.6666666666666666,\"#ed7953\"],[0.7777777777777778,\"#fb9f3a\"],[0.8888888888888888,\"#fdca26\"],[1.0,\"#f0f921\"]],\"type\":\"surface\"}],\"table\":[{\"cells\":{\"fill\":{\"color\":\"#EBF0F8\"},\"line\":{\"color\":\"white\"}},\"header\":{\"fill\":{\"color\":\"#C8D4E3\"},\"line\":{\"color\":\"white\"}},\"type\":\"table\"}]},\"layout\":{\"annotationdefaults\":{\"arrowcolor\":\"#2a3f5f\",\"arrowhead\":0,\"arrowwidth\":1},\"autotypenumbers\":\"strict\",\"coloraxis\":{\"colorbar\":{\"outlinewidth\":0,\"ticks\":\"\"}},\"colorscale\":{\"diverging\":[[0,\"#8e0152\"],[0.1,\"#c51b7d\"],[0.2,\"#de77ae\"],[0.3,\"#f1b6da\"],[0.4,\"#fde0ef\"],[0.5,\"#f7f7f7\"],[0.6,\"#e6f5d0\"],[0.7,\"#b8e186\"],[0.8,\"#7fbc41\"],[0.9,\"#4d9221\"],[1,\"#276419\"]],\"sequential\":[[0.0,\"#0d0887\"],[0.1111111111111111,\"#46039f\"],[0.2222222222222222,\"#7201a8\"],[0.3333333333333333,\"#9c179e\"],[0.4444444444444444,\"#bd3786\"],[0.5555555555555556,\"#d8576b\"],[0.6666666666666666,\"#ed7953\"],[0.7777777777777778,\"#fb9f3a\"],[0.8888888888888888,\"#fdca26\"],[1.0,\"#f0f921\"]],\"sequentialminus\":[[0.0,\"#0d0887\"],[0.1111111111111111,\"#46039f\"],[0.2222222222222222,\"#7201a8\"],[0.3333333333333333,\"#9c179e\"],[0.4444444444444444,\"#bd3786\"],[0.5555555555555556,\"#d8576b\"],[0.6666666666666666,\"#ed7953\"],[0.7777777777777778,\"#fb9f3a\"],[0.8888888888888888,\"#fdca26\"],[1.0,\"#f0f921\"]]},\"colorway\":[\"#636efa\",\"#EF553B\",\"#00cc96\",\"#ab63fa\",\"#FFA15A\",\"#19d3f3\",\"#FF6692\",\"#B6E880\",\"#FF97FF\",\"#FECB52\"],\"font\":{\"color\":\"#2a3f5f\"},\"geo\":{\"bgcolor\":\"white\",\"lakecolor\":\"white\",\"landcolor\":\"#E5ECF6\",\"showlakes\":true,\"showland\":true,\"subunitcolor\":\"white\"},\"hoverlabel\":{\"align\":\"left\"},\"hovermode\":\"closest\",\"mapbox\":{\"style\":\"light\"},\"paper_bgcolor\":\"white\",\"plot_bgcolor\":\"#E5ECF6\",\"polar\":{\"angularaxis\":{\"gridcolor\":\"white\",\"linecolor\":\"white\",\"ticks\":\"\"},\"bgcolor\":\"#E5ECF6\",\"radialaxis\":{\"gridcolor\":\"white\",\"linecolor\":\"white\",\"ticks\":\"\"}},\"scene\":{\"xaxis\":{\"backgroundcolor\":\"#E5ECF6\",\"gridcolor\":\"white\",\"gridwidth\":2,\"linecolor\":\"white\",\"showbackground\":true,\"ticks\":\"\",\"zerolinecolor\":\"white\"},\"yaxis\":{\"backgroundcolor\":\"#E5ECF6\",\"gridcolor\":\"white\",\"gridwidth\":2,\"linecolor\":\"white\",\"showbackground\":true,\"ticks\":\"\",\"zerolinecolor\":\"white\"},\"zaxis\":{\"backgroundcolor\":\"#E5ECF6\",\"gridcolor\":\"white\",\"gridwidth\":2,\"linecolor\":\"white\",\"showbackground\":true,\"ticks\":\"\",\"zerolinecolor\":\"white\"}},\"shapedefaults\":{\"line\":{\"color\":\"#2a3f5f\"}},\"ternary\":{\"aaxis\":{\"gridcolor\":\"white\",\"linecolor\":\"white\",\"ticks\":\"\"},\"baxis\":{\"gridcolor\":\"white\",\"linecolor\":\"white\",\"ticks\":\"\"},\"bgcolor\":\"#E5ECF6\",\"caxis\":{\"gridcolor\":\"white\",\"linecolor\":\"white\",\"ticks\":\"\"}},\"title\":{\"x\":0.05},\"xaxis\":{\"automargin\":true,\"gridcolor\":\"white\",\"linecolor\":\"white\",\"ticks\":\"\",\"title\":{\"standoff\":15},\"zerolinecolor\":\"white\",\"zerolinewidth\":2},\"yaxis\":{\"automargin\":true,\"gridcolor\":\"white\",\"linecolor\":\"white\",\"ticks\":\"\",\"title\":{\"standoff\":15},\"zerolinecolor\":\"white\",\"zerolinewidth\":2}}},\"title\":{\"text\":\"\\u0421\\u0440\\u0435\\u0434\\u043d\\u044f\\u044f \\u0441\\u0442\\u043e\\u0438\\u043c\\u043e\\u0441\\u0442\\u044c \\u0422\\u0410\\u041f \\u0432 \\u0440\\u0443\\u0431. \\u0437\\u0430 2022 \\u0433\\u043e\\u0434\\u0443\"},\"width\":1060,\"xaxis\":{\"anchor\":\"y\",\"categoryorder\":\"total descending\",\"domain\":[0.0,1.0],\"title\":{\"text\":\"\\u0412\\u0440\\u0430\\u0447\"}},\"yaxis\":{\"anchor\":\"x\",\"domain\":[0.0,1.0],\"gridcolor\":\"grey\",\"title\":{\"text\":\"\\u0420\\u0443\\u0431\"}}},                        {\"responsive\": true}                    ).then(function(){\n",
       "                            \n",
       "var gd = document.getElementById('951388b4-eee2-400c-8f1f-0b0c726f365f');\n",
       "var x = new MutationObserver(function (mutations, observer) {{\n",
       "        var display = window.getComputedStyle(gd).display;\n",
       "        if (!display || display === 'none') {{\n",
       "            console.log([gd, 'removed!']);\n",
       "            Plotly.purge(gd);\n",
       "            observer.disconnect();\n",
       "        }}\n",
       "}});\n",
       "\n",
       "// Listen for the removal of the full notebook cells\n",
       "var notebookContainer = gd.closest('#notebook-container');\n",
       "if (notebookContainer) {{\n",
       "    x.observe(notebookContainer, {childList: true});\n",
       "}}\n",
       "\n",
       "// Listen for the clearing of the current output cell\n",
       "var outputEl = gd.closest('.output');\n",
       "if (outputEl) {{\n",
       "    x.observe(outputEl, {childList: true});\n",
       "}}\n",
       "\n",
       "                        })                };                });            </script>        </div>"
      ]
     },
     "metadata": {},
     "output_type": "display_data"
    }
   ],
   "source": [
    "# Средняя стоимость ТАП в руб по врачу и месяцу (ч/б), вертикальные бары\n",
    "\n",
    "px.bar(df_result_by_month, \n",
    "       x='Врач',\n",
    "       y='avg_rub',\n",
    "       color='Месяц',\n",
    "       barmode='group',\n",
    "       width=1060,\n",
    "       color_discrete_sequence=greys,\n",
    "       title=f'Средняя стоимость ТАП в руб. за {year} году') \\\n",
    "    .update_layout(plot_bgcolor='rgb(255,255,255)') \\\n",
    "    .update_yaxes(title_text = 'Руб', gridcolor='grey') \\\n",
    "    .update_xaxes(categoryorder='total descending')"
   ]
  },
  {
   "cell_type": "code",
   "execution_count": 233,
   "metadata": {
    "scrolled": false
   },
   "outputs": [
    {
     "data": {
      "application/vnd.plotly.v1+json": {
       "config": {
        "plotlyServerURL": "https://plot.ly"
       },
       "data": [
        {
         "alignmentgroup": "True",
         "hovertemplate": "Месяц=0122<br>avg_rub=%{x}<br>Врач=%{y}<extra></extra>",
         "legendgroup": "0122",
         "marker": {
          "color": "#636efa",
          "pattern": {
           "shape": ""
          }
         },
         "name": "0122",
         "offsetgroup": "0122",
         "orientation": "h",
         "showlegend": true,
         "textposition": "auto",
         "type": "bar",
         "x": [
          1930,
          775,
          2040,
          1675,
          906,
          2072,
          1798,
          878,
          1960,
          1926,
          2900,
          389,
          2135,
          1131,
          941,
          2261,
          2182,
          2469,
          2208,
          2055,
          1814,
          1821,
          2527,
          704,
          2488,
          2473,
          852
         ],
         "xaxis": "x",
         "y": [
          "Александрова Светлана Викторовна",
          "Арутюнян Арутюн Левонович",
          "Власова Альфия Лябибовна",
          "Володин Павел Юрьевич",
          "Володько Валентина Ивановна",
          "Гвоздева Татьяна Анатольевна",
          "Горбикова Эльфия Рашитовна",
          "Завгородный Сергей Валерианович",
          "Захаров Иван Владимирович",
          "Камынова Наталия Валериевна",
          "Коваленко Ольга Эдуардовна",
          "Коваленко Ольга Эдуардовна физио",
          "Ковшов Александр Александрович",
          "Колесова Наталья Викторовна",
          "Кукушкина Лариса Рамзановна",
          "Литвинова Нина Алексеевна",
          "Лопаткина Алёна Сергеевна",
          "Максимец Ирина Ивановна",
          "Мкртчян Тарон Арсенович",
          "Морошенкова Гульмира Абылкаковна",
          "Николаева Надежда Григорьевна",
          "Ольховская Альбина Владимировна",
          "Пузанова Лидия Сергеевна",
          "Рыбак Лилия Сергеевна",
          "Скалкович Инна Валерьевна",
          "Чижова Елена Владимировна",
          "Чичикина Галина Павловна"
         ],
         "yaxis": "y"
        },
        {
         "alignmentgroup": "True",
         "hovertemplate": "Месяц=0222<br>avg_rub=%{x}<br>Врач=%{y}<extra></extra>",
         "legendgroup": "0222",
         "marker": {
          "color": "#EF553B",
          "pattern": {
           "shape": ""
          }
         },
         "name": "0222",
         "offsetgroup": "0222",
         "orientation": "h",
         "showlegend": true,
         "textposition": "auto",
         "type": "bar",
         "x": [
          2102,
          786,
          1549,
          2382,
          832,
          1987,
          1754,
          975,
          1570,
          1838,
          2646,
          374,
          2293,
          1163,
          1351,
          2307,
          2038,
          2180,
          3535,
          1764,
          2245,
          1969,
          2425,
          760,
          2653,
          2793,
          849
         ],
         "xaxis": "x",
         "y": [
          "Александрова Светлана Викторовна",
          "Арутюнян Арутюн Левонович",
          "Власова Альфия Лябибовна",
          "Володин Павел Юрьевич",
          "Володько Валентина Ивановна",
          "Гвоздева Татьяна Анатольевна",
          "Горбикова Эльфия Рашитовна",
          "Завгородный Сергей Валерианович",
          "Захаров Иван Владимирович",
          "Камынова Наталия Валериевна",
          "Коваленко Ольга Эдуардовна",
          "Коваленко Ольга Эдуардовна физио",
          "Ковшов Александр Александрович",
          "Колесова Наталья Викторовна",
          "Кукушкина Лариса Рамзановна",
          "Литвинова Нина Алексеевна",
          "Лопаткина Алёна Сергеевна",
          "Максимец Ирина Ивановна",
          "Мкртчян Тарон Арсенович",
          "Морошенкова Гульмира Абылкаковна",
          "Николаева Надежда Григорьевна",
          "Ольховская Альбина Владимировна",
          "Пузанова Лидия Сергеевна",
          "Рыбак Лилия Сергеевна",
          "Скалкович Инна Валерьевна",
          "Чижова Елена Владимировна",
          "Чичикина Галина Павловна"
         ],
         "yaxis": "y"
        },
        {
         "alignmentgroup": "True",
         "hovertemplate": "Месяц=0322<br>avg_rub=%{x}<br>Врач=%{y}<extra></extra>",
         "legendgroup": "0322",
         "marker": {
          "color": "#00cc96",
          "pattern": {
           "shape": ""
          }
         },
         "name": "0322",
         "offsetgroup": "0322",
         "orientation": "h",
         "showlegend": true,
         "textposition": "auto",
         "type": "bar",
         "x": [
          1799,
          783,
          2304,
          3078,
          900,
          2029,
          2115,
          932,
          1944,
          2520,
          3085,
          381,
          2172,
          1164,
          1842,
          2219,
          2231,
          1964,
          2735,
          1927,
          2287,
          2021,
          2292,
          754,
          2642,
          2552,
          849
         ],
         "xaxis": "x",
         "y": [
          "Александрова Светлана Викторовна",
          "Арутюнян Арутюн Левонович",
          "Власова Альфия Лябибовна",
          "Володин Павел Юрьевич",
          "Володько Валентина Ивановна",
          "Гвоздева Татьяна Анатольевна",
          "Горбикова Эльфия Рашитовна",
          "Завгородный Сергей Валерианович",
          "Захаров Иван Владимирович",
          "Камынова Наталия Валериевна",
          "Коваленко Ольга Эдуардовна",
          "Коваленко Ольга Эдуардовна физио",
          "Ковшов Александр Александрович",
          "Колесова Наталья Викторовна",
          "Кукушкина Лариса Рамзановна",
          "Литвинова Нина Алексеевна",
          "Лопаткина Алёна Сергеевна",
          "Максимец Ирина Ивановна",
          "Мкртчян Тарон Арсенович",
          "Морошенкова Гульмира Абылкаковна",
          "Николаева Надежда Григорьевна",
          "Ольховская Альбина Владимировна",
          "Пузанова Лидия Сергеевна",
          "Рыбак Лилия Сергеевна",
          "Скалкович Инна Валерьевна",
          "Чижова Елена Владимировна",
          "Чичикина Галина Павловна"
         ],
         "yaxis": "y"
        },
        {
         "alignmentgroup": "True",
         "hovertemplate": "Месяц=0422<br>avg_rub=%{x}<br>Врач=%{y}<extra></extra>",
         "legendgroup": "0422",
         "marker": {
          "color": "#ab63fa",
          "pattern": {
           "shape": ""
          }
         },
         "name": "0422",
         "offsetgroup": "0422",
         "orientation": "h",
         "showlegend": true,
         "textposition": "auto",
         "type": "bar",
         "x": [
          1856,
          759,
          2098,
          2570,
          867,
          1889,
          2051,
          903,
          1841,
          2380,
          2893,
          365,
          2057,
          1094,
          2366,
          1939,
          2041,
          1743,
          2093,
          1835,
          2342,
          1848,
          2304,
          737,
          3302,
          2318,
          796
         ],
         "xaxis": "x",
         "y": [
          "Александрова Светлана Викторовна",
          "Арутюнян Арутюн Левонович",
          "Власова Альфия Лябибовна",
          "Володин Павел Юрьевич",
          "Володько Валентина Ивановна",
          "Гвоздева Татьяна Анатольевна",
          "Горбикова Эльфия Рашитовна",
          "Завгородный Сергей Валерианович",
          "Захаров Иван Владимирович",
          "Камынова Наталия Валериевна",
          "Коваленко Ольга Эдуардовна",
          "Коваленко Ольга Эдуардовна физио",
          "Ковшов Александр Александрович",
          "Колесова Наталья Викторовна",
          "Кукушкина Лариса Рамзановна",
          "Литвинова Нина Алексеевна",
          "Лопаткина Алёна Сергеевна",
          "Максимец Ирина Ивановна",
          "Мкртчян Тарон Арсенович",
          "Морошенкова Гульмира Абылкаковна",
          "Николаева Надежда Григорьевна",
          "Ольховская Альбина Владимировна",
          "Пузанова Лидия Сергеевна",
          "Рыбак Лилия Сергеевна",
          "Скалкович Инна Валерьевна",
          "Чижова Елена Владимировна",
          "Чичикина Галина Павловна"
         ],
         "yaxis": "y"
        },
        {
         "alignmentgroup": "True",
         "hovertemplate": "Месяц=0522<br>avg_rub=%{x}<br>Врач=%{y}<extra></extra>",
         "legendgroup": "0522",
         "marker": {
          "color": "#FFA15A",
          "pattern": {
           "shape": ""
          }
         },
         "name": "0522",
         "offsetgroup": "0522",
         "orientation": "h",
         "showlegend": true,
         "textposition": "auto",
         "type": "bar",
         "x": [
          1615,
          941,
          2046,
          4486,
          1004,
          1841,
          891,
          2265,
          2502,
          2451,
          372,
          2089,
          1082,
          2105,
          2244,
          2449,
          1521,
          2254,
          1433,
          2120,
          1550,
          2410,
          757,
          1744,
          2226,
          899
         ],
         "xaxis": "x",
         "y": [
          "Александрова Светлана Викторовна",
          "Арутюнян Арутюн Левонович",
          "Власова Альфия Лябибовна",
          "Володин Павел Юрьевич",
          "Володько Валентина Ивановна",
          "Горбикова Эльфия Рашитовна",
          "Завгородный Сергей Валерианович",
          "Захаров Иван Владимирович",
          "Камынова Наталия Валериевна",
          "Коваленко Ольга Эдуардовна",
          "Коваленко Ольга Эдуардовна физио",
          "Ковшов Александр Александрович",
          "Колесова Наталья Викторовна",
          "Кукушкина Лариса Рамзановна",
          "Литвинова Нина Алексеевна",
          "Лопаткина Алёна Сергеевна",
          "Максимец Ирина Ивановна",
          "Мкртчян Тарон Арсенович",
          "Морошенкова Гульмира Абылкаковна",
          "Николаева Надежда Григорьевна",
          "Ольховская Альбина Владимировна",
          "Пузанова Лидия Сергеевна",
          "Рыбак Лилия Сергеевна",
          "Скалкович Инна Валерьевна",
          "Чижова Елена Владимировна",
          "Чичикина Галина Павловна"
         ],
         "yaxis": "y"
        }
       ],
       "layout": {
        "barmode": "group",
        "height": 2000,
        "legend": {
         "title": {
          "text": "Месяц"
         },
         "tracegroupgap": 0
        },
        "template": {
         "data": {
          "bar": [
           {
            "error_x": {
             "color": "#2a3f5f"
            },
            "error_y": {
             "color": "#2a3f5f"
            },
            "marker": {
             "line": {
              "color": "#E5ECF6",
              "width": 0.5
             },
             "pattern": {
              "fillmode": "overlay",
              "size": 10,
              "solidity": 0.2
             }
            },
            "type": "bar"
           }
          ],
          "barpolar": [
           {
            "marker": {
             "line": {
              "color": "#E5ECF6",
              "width": 0.5
             },
             "pattern": {
              "fillmode": "overlay",
              "size": 10,
              "solidity": 0.2
             }
            },
            "type": "barpolar"
           }
          ],
          "carpet": [
           {
            "aaxis": {
             "endlinecolor": "#2a3f5f",
             "gridcolor": "white",
             "linecolor": "white",
             "minorgridcolor": "white",
             "startlinecolor": "#2a3f5f"
            },
            "baxis": {
             "endlinecolor": "#2a3f5f",
             "gridcolor": "white",
             "linecolor": "white",
             "minorgridcolor": "white",
             "startlinecolor": "#2a3f5f"
            },
            "type": "carpet"
           }
          ],
          "choropleth": [
           {
            "colorbar": {
             "outlinewidth": 0,
             "ticks": ""
            },
            "type": "choropleth"
           }
          ],
          "contour": [
           {
            "colorbar": {
             "outlinewidth": 0,
             "ticks": ""
            },
            "colorscale": [
             [
              0,
              "#0d0887"
             ],
             [
              0.1111111111111111,
              "#46039f"
             ],
             [
              0.2222222222222222,
              "#7201a8"
             ],
             [
              0.3333333333333333,
              "#9c179e"
             ],
             [
              0.4444444444444444,
              "#bd3786"
             ],
             [
              0.5555555555555556,
              "#d8576b"
             ],
             [
              0.6666666666666666,
              "#ed7953"
             ],
             [
              0.7777777777777778,
              "#fb9f3a"
             ],
             [
              0.8888888888888888,
              "#fdca26"
             ],
             [
              1,
              "#f0f921"
             ]
            ],
            "type": "contour"
           }
          ],
          "contourcarpet": [
           {
            "colorbar": {
             "outlinewidth": 0,
             "ticks": ""
            },
            "type": "contourcarpet"
           }
          ],
          "heatmap": [
           {
            "colorbar": {
             "outlinewidth": 0,
             "ticks": ""
            },
            "colorscale": [
             [
              0,
              "#0d0887"
             ],
             [
              0.1111111111111111,
              "#46039f"
             ],
             [
              0.2222222222222222,
              "#7201a8"
             ],
             [
              0.3333333333333333,
              "#9c179e"
             ],
             [
              0.4444444444444444,
              "#bd3786"
             ],
             [
              0.5555555555555556,
              "#d8576b"
             ],
             [
              0.6666666666666666,
              "#ed7953"
             ],
             [
              0.7777777777777778,
              "#fb9f3a"
             ],
             [
              0.8888888888888888,
              "#fdca26"
             ],
             [
              1,
              "#f0f921"
             ]
            ],
            "type": "heatmap"
           }
          ],
          "heatmapgl": [
           {
            "colorbar": {
             "outlinewidth": 0,
             "ticks": ""
            },
            "colorscale": [
             [
              0,
              "#0d0887"
             ],
             [
              0.1111111111111111,
              "#46039f"
             ],
             [
              0.2222222222222222,
              "#7201a8"
             ],
             [
              0.3333333333333333,
              "#9c179e"
             ],
             [
              0.4444444444444444,
              "#bd3786"
             ],
             [
              0.5555555555555556,
              "#d8576b"
             ],
             [
              0.6666666666666666,
              "#ed7953"
             ],
             [
              0.7777777777777778,
              "#fb9f3a"
             ],
             [
              0.8888888888888888,
              "#fdca26"
             ],
             [
              1,
              "#f0f921"
             ]
            ],
            "type": "heatmapgl"
           }
          ],
          "histogram": [
           {
            "marker": {
             "pattern": {
              "fillmode": "overlay",
              "size": 10,
              "solidity": 0.2
             }
            },
            "type": "histogram"
           }
          ],
          "histogram2d": [
           {
            "colorbar": {
             "outlinewidth": 0,
             "ticks": ""
            },
            "colorscale": [
             [
              0,
              "#0d0887"
             ],
             [
              0.1111111111111111,
              "#46039f"
             ],
             [
              0.2222222222222222,
              "#7201a8"
             ],
             [
              0.3333333333333333,
              "#9c179e"
             ],
             [
              0.4444444444444444,
              "#bd3786"
             ],
             [
              0.5555555555555556,
              "#d8576b"
             ],
             [
              0.6666666666666666,
              "#ed7953"
             ],
             [
              0.7777777777777778,
              "#fb9f3a"
             ],
             [
              0.8888888888888888,
              "#fdca26"
             ],
             [
              1,
              "#f0f921"
             ]
            ],
            "type": "histogram2d"
           }
          ],
          "histogram2dcontour": [
           {
            "colorbar": {
             "outlinewidth": 0,
             "ticks": ""
            },
            "colorscale": [
             [
              0,
              "#0d0887"
             ],
             [
              0.1111111111111111,
              "#46039f"
             ],
             [
              0.2222222222222222,
              "#7201a8"
             ],
             [
              0.3333333333333333,
              "#9c179e"
             ],
             [
              0.4444444444444444,
              "#bd3786"
             ],
             [
              0.5555555555555556,
              "#d8576b"
             ],
             [
              0.6666666666666666,
              "#ed7953"
             ],
             [
              0.7777777777777778,
              "#fb9f3a"
             ],
             [
              0.8888888888888888,
              "#fdca26"
             ],
             [
              1,
              "#f0f921"
             ]
            ],
            "type": "histogram2dcontour"
           }
          ],
          "mesh3d": [
           {
            "colorbar": {
             "outlinewidth": 0,
             "ticks": ""
            },
            "type": "mesh3d"
           }
          ],
          "parcoords": [
           {
            "line": {
             "colorbar": {
              "outlinewidth": 0,
              "ticks": ""
             }
            },
            "type": "parcoords"
           }
          ],
          "pie": [
           {
            "automargin": true,
            "type": "pie"
           }
          ],
          "scatter": [
           {
            "marker": {
             "colorbar": {
              "outlinewidth": 0,
              "ticks": ""
             }
            },
            "type": "scatter"
           }
          ],
          "scatter3d": [
           {
            "line": {
             "colorbar": {
              "outlinewidth": 0,
              "ticks": ""
             }
            },
            "marker": {
             "colorbar": {
              "outlinewidth": 0,
              "ticks": ""
             }
            },
            "type": "scatter3d"
           }
          ],
          "scattercarpet": [
           {
            "marker": {
             "colorbar": {
              "outlinewidth": 0,
              "ticks": ""
             }
            },
            "type": "scattercarpet"
           }
          ],
          "scattergeo": [
           {
            "marker": {
             "colorbar": {
              "outlinewidth": 0,
              "ticks": ""
             }
            },
            "type": "scattergeo"
           }
          ],
          "scattergl": [
           {
            "marker": {
             "colorbar": {
              "outlinewidth": 0,
              "ticks": ""
             }
            },
            "type": "scattergl"
           }
          ],
          "scattermapbox": [
           {
            "marker": {
             "colorbar": {
              "outlinewidth": 0,
              "ticks": ""
             }
            },
            "type": "scattermapbox"
           }
          ],
          "scatterpolar": [
           {
            "marker": {
             "colorbar": {
              "outlinewidth": 0,
              "ticks": ""
             }
            },
            "type": "scatterpolar"
           }
          ],
          "scatterpolargl": [
           {
            "marker": {
             "colorbar": {
              "outlinewidth": 0,
              "ticks": ""
             }
            },
            "type": "scatterpolargl"
           }
          ],
          "scatterternary": [
           {
            "marker": {
             "colorbar": {
              "outlinewidth": 0,
              "ticks": ""
             }
            },
            "type": "scatterternary"
           }
          ],
          "surface": [
           {
            "colorbar": {
             "outlinewidth": 0,
             "ticks": ""
            },
            "colorscale": [
             [
              0,
              "#0d0887"
             ],
             [
              0.1111111111111111,
              "#46039f"
             ],
             [
              0.2222222222222222,
              "#7201a8"
             ],
             [
              0.3333333333333333,
              "#9c179e"
             ],
             [
              0.4444444444444444,
              "#bd3786"
             ],
             [
              0.5555555555555556,
              "#d8576b"
             ],
             [
              0.6666666666666666,
              "#ed7953"
             ],
             [
              0.7777777777777778,
              "#fb9f3a"
             ],
             [
              0.8888888888888888,
              "#fdca26"
             ],
             [
              1,
              "#f0f921"
             ]
            ],
            "type": "surface"
           }
          ],
          "table": [
           {
            "cells": {
             "fill": {
              "color": "#EBF0F8"
             },
             "line": {
              "color": "white"
             }
            },
            "header": {
             "fill": {
              "color": "#C8D4E3"
             },
             "line": {
              "color": "white"
             }
            },
            "type": "table"
           }
          ]
         },
         "layout": {
          "annotationdefaults": {
           "arrowcolor": "#2a3f5f",
           "arrowhead": 0,
           "arrowwidth": 1
          },
          "autotypenumbers": "strict",
          "coloraxis": {
           "colorbar": {
            "outlinewidth": 0,
            "ticks": ""
           }
          },
          "colorscale": {
           "diverging": [
            [
             0,
             "#8e0152"
            ],
            [
             0.1,
             "#c51b7d"
            ],
            [
             0.2,
             "#de77ae"
            ],
            [
             0.3,
             "#f1b6da"
            ],
            [
             0.4,
             "#fde0ef"
            ],
            [
             0.5,
             "#f7f7f7"
            ],
            [
             0.6,
             "#e6f5d0"
            ],
            [
             0.7,
             "#b8e186"
            ],
            [
             0.8,
             "#7fbc41"
            ],
            [
             0.9,
             "#4d9221"
            ],
            [
             1,
             "#276419"
            ]
           ],
           "sequential": [
            [
             0,
             "#0d0887"
            ],
            [
             0.1111111111111111,
             "#46039f"
            ],
            [
             0.2222222222222222,
             "#7201a8"
            ],
            [
             0.3333333333333333,
             "#9c179e"
            ],
            [
             0.4444444444444444,
             "#bd3786"
            ],
            [
             0.5555555555555556,
             "#d8576b"
            ],
            [
             0.6666666666666666,
             "#ed7953"
            ],
            [
             0.7777777777777778,
             "#fb9f3a"
            ],
            [
             0.8888888888888888,
             "#fdca26"
            ],
            [
             1,
             "#f0f921"
            ]
           ],
           "sequentialminus": [
            [
             0,
             "#0d0887"
            ],
            [
             0.1111111111111111,
             "#46039f"
            ],
            [
             0.2222222222222222,
             "#7201a8"
            ],
            [
             0.3333333333333333,
             "#9c179e"
            ],
            [
             0.4444444444444444,
             "#bd3786"
            ],
            [
             0.5555555555555556,
             "#d8576b"
            ],
            [
             0.6666666666666666,
             "#ed7953"
            ],
            [
             0.7777777777777778,
             "#fb9f3a"
            ],
            [
             0.8888888888888888,
             "#fdca26"
            ],
            [
             1,
             "#f0f921"
            ]
           ]
          },
          "colorway": [
           "#636efa",
           "#EF553B",
           "#00cc96",
           "#ab63fa",
           "#FFA15A",
           "#19d3f3",
           "#FF6692",
           "#B6E880",
           "#FF97FF",
           "#FECB52"
          ],
          "font": {
           "color": "#2a3f5f"
          },
          "geo": {
           "bgcolor": "white",
           "lakecolor": "white",
           "landcolor": "#E5ECF6",
           "showlakes": true,
           "showland": true,
           "subunitcolor": "white"
          },
          "hoverlabel": {
           "align": "left"
          },
          "hovermode": "closest",
          "mapbox": {
           "style": "light"
          },
          "paper_bgcolor": "white",
          "plot_bgcolor": "#E5ECF6",
          "polar": {
           "angularaxis": {
            "gridcolor": "white",
            "linecolor": "white",
            "ticks": ""
           },
           "bgcolor": "#E5ECF6",
           "radialaxis": {
            "gridcolor": "white",
            "linecolor": "white",
            "ticks": ""
           }
          },
          "scene": {
           "xaxis": {
            "backgroundcolor": "#E5ECF6",
            "gridcolor": "white",
            "gridwidth": 2,
            "linecolor": "white",
            "showbackground": true,
            "ticks": "",
            "zerolinecolor": "white"
           },
           "yaxis": {
            "backgroundcolor": "#E5ECF6",
            "gridcolor": "white",
            "gridwidth": 2,
            "linecolor": "white",
            "showbackground": true,
            "ticks": "",
            "zerolinecolor": "white"
           },
           "zaxis": {
            "backgroundcolor": "#E5ECF6",
            "gridcolor": "white",
            "gridwidth": 2,
            "linecolor": "white",
            "showbackground": true,
            "ticks": "",
            "zerolinecolor": "white"
           }
          },
          "shapedefaults": {
           "line": {
            "color": "#2a3f5f"
           }
          },
          "ternary": {
           "aaxis": {
            "gridcolor": "white",
            "linecolor": "white",
            "ticks": ""
           },
           "baxis": {
            "gridcolor": "white",
            "linecolor": "white",
            "ticks": ""
           },
           "bgcolor": "#E5ECF6",
           "caxis": {
            "gridcolor": "white",
            "linecolor": "white",
            "ticks": ""
           }
          },
          "title": {
           "x": 0.05
          },
          "xaxis": {
           "automargin": true,
           "gridcolor": "white",
           "linecolor": "white",
           "ticks": "",
           "title": {
            "standoff": 15
           },
           "zerolinecolor": "white",
           "zerolinewidth": 2
          },
          "yaxis": {
           "automargin": true,
           "gridcolor": "white",
           "linecolor": "white",
           "ticks": "",
           "title": {
            "standoff": 15
           },
           "zerolinecolor": "white",
           "zerolinewidth": 2
          }
         }
        },
        "title": {
         "text": "Средняя стоимость ТАП в руб. за 2022 году"
        },
        "xaxis": {
         "anchor": "y",
         "domain": [
          0,
          1
         ],
         "title": {
          "text": "avg_rub"
         }
        },
        "yaxis": {
         "anchor": "x",
         "categoryorder": "total ascending",
         "domain": [
          0,
          1
         ],
         "title": {
          "text": "Руб"
         }
        }
       }
      },
      "text/html": [
       "<div>                            <div id=\"f6dba746-8571-48a9-b0f5-867417e03bfd\" class=\"plotly-graph-div\" style=\"height:2000px; width:100%;\"></div>            <script type=\"text/javascript\">                require([\"plotly\"], function(Plotly) {                    window.PLOTLYENV=window.PLOTLYENV || {};                                    if (document.getElementById(\"f6dba746-8571-48a9-b0f5-867417e03bfd\")) {                    Plotly.newPlot(                        \"f6dba746-8571-48a9-b0f5-867417e03bfd\",                        [{\"alignmentgroup\":\"True\",\"hovertemplate\":\"\\u041c\\u0435\\u0441\\u044f\\u0446=0122<br>avg_rub=%{x}<br>\\u0412\\u0440\\u0430\\u0447=%{y}<extra></extra>\",\"legendgroup\":\"0122\",\"marker\":{\"color\":\"#636efa\",\"pattern\":{\"shape\":\"\"}},\"name\":\"0122\",\"offsetgroup\":\"0122\",\"orientation\":\"h\",\"showlegend\":true,\"textposition\":\"auto\",\"type\":\"bar\",\"x\":[1930,775,2040,1675,906,2072,1798,878,1960,1926,2900,389,2135,1131,941,2261,2182,2469,2208,2055,1814,1821,2527,704,2488,2473,852],\"xaxis\":\"x\",\"y\":[\"\\u0410\\u043b\\u0435\\u043a\\u0441\\u0430\\u043d\\u0434\\u0440\\u043e\\u0432\\u0430 \\u0421\\u0432\\u0435\\u0442\\u043b\\u0430\\u043d\\u0430 \\u0412\\u0438\\u043a\\u0442\\u043e\\u0440\\u043e\\u0432\\u043d\\u0430\",\"\\u0410\\u0440\\u0443\\u0442\\u044e\\u043d\\u044f\\u043d \\u0410\\u0440\\u0443\\u0442\\u044e\\u043d \\u041b\\u0435\\u0432\\u043e\\u043d\\u043e\\u0432\\u0438\\u0447\",\"\\u0412\\u043b\\u0430\\u0441\\u043e\\u0432\\u0430 \\u0410\\u043b\\u044c\\u0444\\u0438\\u044f \\u041b\\u044f\\u0431\\u0438\\u0431\\u043e\\u0432\\u043d\\u0430\",\"\\u0412\\u043e\\u043b\\u043e\\u0434\\u0438\\u043d \\u041f\\u0430\\u0432\\u0435\\u043b \\u042e\\u0440\\u044c\\u0435\\u0432\\u0438\\u0447\",\"\\u0412\\u043e\\u043b\\u043e\\u0434\\u044c\\u043a\\u043e \\u0412\\u0430\\u043b\\u0435\\u043d\\u0442\\u0438\\u043d\\u0430 \\u0418\\u0432\\u0430\\u043d\\u043e\\u0432\\u043d\\u0430\",\"\\u0413\\u0432\\u043e\\u0437\\u0434\\u0435\\u0432\\u0430 \\u0422\\u0430\\u0442\\u044c\\u044f\\u043d\\u0430 \\u0410\\u043d\\u0430\\u0442\\u043e\\u043b\\u044c\\u0435\\u0432\\u043d\\u0430\",\"\\u0413\\u043e\\u0440\\u0431\\u0438\\u043a\\u043e\\u0432\\u0430 \\u042d\\u043b\\u044c\\u0444\\u0438\\u044f \\u0420\\u0430\\u0448\\u0438\\u0442\\u043e\\u0432\\u043d\\u0430\",\"\\u0417\\u0430\\u0432\\u0433\\u043e\\u0440\\u043e\\u0434\\u043d\\u044b\\u0439 \\u0421\\u0435\\u0440\\u0433\\u0435\\u0439 \\u0412\\u0430\\u043b\\u0435\\u0440\\u0438\\u0430\\u043d\\u043e\\u0432\\u0438\\u0447\",\"\\u0417\\u0430\\u0445\\u0430\\u0440\\u043e\\u0432 \\u0418\\u0432\\u0430\\u043d \\u0412\\u043b\\u0430\\u0434\\u0438\\u043c\\u0438\\u0440\\u043e\\u0432\\u0438\\u0447\",\"\\u041a\\u0430\\u043c\\u044b\\u043d\\u043e\\u0432\\u0430 \\u041d\\u0430\\u0442\\u0430\\u043b\\u0438\\u044f \\u0412\\u0430\\u043b\\u0435\\u0440\\u0438\\u0435\\u0432\\u043d\\u0430\",\"\\u041a\\u043e\\u0432\\u0430\\u043b\\u0435\\u043d\\u043a\\u043e \\u041e\\u043b\\u044c\\u0433\\u0430 \\u042d\\u0434\\u0443\\u0430\\u0440\\u0434\\u043e\\u0432\\u043d\\u0430\",\"\\u041a\\u043e\\u0432\\u0430\\u043b\\u0435\\u043d\\u043a\\u043e \\u041e\\u043b\\u044c\\u0433\\u0430 \\u042d\\u0434\\u0443\\u0430\\u0440\\u0434\\u043e\\u0432\\u043d\\u0430 \\u0444\\u0438\\u0437\\u0438\\u043e\",\"\\u041a\\u043e\\u0432\\u0448\\u043e\\u0432 \\u0410\\u043b\\u0435\\u043a\\u0441\\u0430\\u043d\\u0434\\u0440 \\u0410\\u043b\\u0435\\u043a\\u0441\\u0430\\u043d\\u0434\\u0440\\u043e\\u0432\\u0438\\u0447\",\"\\u041a\\u043e\\u043b\\u0435\\u0441\\u043e\\u0432\\u0430 \\u041d\\u0430\\u0442\\u0430\\u043b\\u044c\\u044f \\u0412\\u0438\\u043a\\u0442\\u043e\\u0440\\u043e\\u0432\\u043d\\u0430\",\"\\u041a\\u0443\\u043a\\u0443\\u0448\\u043a\\u0438\\u043d\\u0430 \\u041b\\u0430\\u0440\\u0438\\u0441\\u0430 \\u0420\\u0430\\u043c\\u0437\\u0430\\u043d\\u043e\\u0432\\u043d\\u0430\",\"\\u041b\\u0438\\u0442\\u0432\\u0438\\u043d\\u043e\\u0432\\u0430 \\u041d\\u0438\\u043d\\u0430 \\u0410\\u043b\\u0435\\u043a\\u0441\\u0435\\u0435\\u0432\\u043d\\u0430\",\"\\u041b\\u043e\\u043f\\u0430\\u0442\\u043a\\u0438\\u043d\\u0430 \\u0410\\u043b\\u0451\\u043d\\u0430 \\u0421\\u0435\\u0440\\u0433\\u0435\\u0435\\u0432\\u043d\\u0430\",\"\\u041c\\u0430\\u043a\\u0441\\u0438\\u043c\\u0435\\u0446 \\u0418\\u0440\\u0438\\u043d\\u0430 \\u0418\\u0432\\u0430\\u043d\\u043e\\u0432\\u043d\\u0430\",\"\\u041c\\u043a\\u0440\\u0442\\u0447\\u044f\\u043d \\u0422\\u0430\\u0440\\u043e\\u043d \\u0410\\u0440\\u0441\\u0435\\u043d\\u043e\\u0432\\u0438\\u0447\",\"\\u041c\\u043e\\u0440\\u043e\\u0448\\u0435\\u043d\\u043a\\u043e\\u0432\\u0430 \\u0413\\u0443\\u043b\\u044c\\u043c\\u0438\\u0440\\u0430 \\u0410\\u0431\\u044b\\u043b\\u043a\\u0430\\u043a\\u043e\\u0432\\u043d\\u0430\",\"\\u041d\\u0438\\u043a\\u043e\\u043b\\u0430\\u0435\\u0432\\u0430 \\u041d\\u0430\\u0434\\u0435\\u0436\\u0434\\u0430 \\u0413\\u0440\\u0438\\u0433\\u043e\\u0440\\u044c\\u0435\\u0432\\u043d\\u0430\",\"\\u041e\\u043b\\u044c\\u0445\\u043e\\u0432\\u0441\\u043a\\u0430\\u044f \\u0410\\u043b\\u044c\\u0431\\u0438\\u043d\\u0430 \\u0412\\u043b\\u0430\\u0434\\u0438\\u043c\\u0438\\u0440\\u043e\\u0432\\u043d\\u0430\",\"\\u041f\\u0443\\u0437\\u0430\\u043d\\u043e\\u0432\\u0430 \\u041b\\u0438\\u0434\\u0438\\u044f \\u0421\\u0435\\u0440\\u0433\\u0435\\u0435\\u0432\\u043d\\u0430\",\"\\u0420\\u044b\\u0431\\u0430\\u043a \\u041b\\u0438\\u043b\\u0438\\u044f \\u0421\\u0435\\u0440\\u0433\\u0435\\u0435\\u0432\\u043d\\u0430\",\"\\u0421\\u043a\\u0430\\u043b\\u043a\\u043e\\u0432\\u0438\\u0447 \\u0418\\u043d\\u043d\\u0430 \\u0412\\u0430\\u043b\\u0435\\u0440\\u044c\\u0435\\u0432\\u043d\\u0430\",\"\\u0427\\u0438\\u0436\\u043e\\u0432\\u0430 \\u0415\\u043b\\u0435\\u043d\\u0430 \\u0412\\u043b\\u0430\\u0434\\u0438\\u043c\\u0438\\u0440\\u043e\\u0432\\u043d\\u0430\",\"\\u0427\\u0438\\u0447\\u0438\\u043a\\u0438\\u043d\\u0430 \\u0413\\u0430\\u043b\\u0438\\u043d\\u0430 \\u041f\\u0430\\u0432\\u043b\\u043e\\u0432\\u043d\\u0430\"],\"yaxis\":\"y\"},{\"alignmentgroup\":\"True\",\"hovertemplate\":\"\\u041c\\u0435\\u0441\\u044f\\u0446=0222<br>avg_rub=%{x}<br>\\u0412\\u0440\\u0430\\u0447=%{y}<extra></extra>\",\"legendgroup\":\"0222\",\"marker\":{\"color\":\"#EF553B\",\"pattern\":{\"shape\":\"\"}},\"name\":\"0222\",\"offsetgroup\":\"0222\",\"orientation\":\"h\",\"showlegend\":true,\"textposition\":\"auto\",\"type\":\"bar\",\"x\":[2102,786,1549,2382,832,1987,1754,975,1570,1838,2646,374,2293,1163,1351,2307,2038,2180,3535,1764,2245,1969,2425,760,2653,2793,849],\"xaxis\":\"x\",\"y\":[\"\\u0410\\u043b\\u0435\\u043a\\u0441\\u0430\\u043d\\u0434\\u0440\\u043e\\u0432\\u0430 \\u0421\\u0432\\u0435\\u0442\\u043b\\u0430\\u043d\\u0430 \\u0412\\u0438\\u043a\\u0442\\u043e\\u0440\\u043e\\u0432\\u043d\\u0430\",\"\\u0410\\u0440\\u0443\\u0442\\u044e\\u043d\\u044f\\u043d \\u0410\\u0440\\u0443\\u0442\\u044e\\u043d \\u041b\\u0435\\u0432\\u043e\\u043d\\u043e\\u0432\\u0438\\u0447\",\"\\u0412\\u043b\\u0430\\u0441\\u043e\\u0432\\u0430 \\u0410\\u043b\\u044c\\u0444\\u0438\\u044f \\u041b\\u044f\\u0431\\u0438\\u0431\\u043e\\u0432\\u043d\\u0430\",\"\\u0412\\u043e\\u043b\\u043e\\u0434\\u0438\\u043d \\u041f\\u0430\\u0432\\u0435\\u043b \\u042e\\u0440\\u044c\\u0435\\u0432\\u0438\\u0447\",\"\\u0412\\u043e\\u043b\\u043e\\u0434\\u044c\\u043a\\u043e \\u0412\\u0430\\u043b\\u0435\\u043d\\u0442\\u0438\\u043d\\u0430 \\u0418\\u0432\\u0430\\u043d\\u043e\\u0432\\u043d\\u0430\",\"\\u0413\\u0432\\u043e\\u0437\\u0434\\u0435\\u0432\\u0430 \\u0422\\u0430\\u0442\\u044c\\u044f\\u043d\\u0430 \\u0410\\u043d\\u0430\\u0442\\u043e\\u043b\\u044c\\u0435\\u0432\\u043d\\u0430\",\"\\u0413\\u043e\\u0440\\u0431\\u0438\\u043a\\u043e\\u0432\\u0430 \\u042d\\u043b\\u044c\\u0444\\u0438\\u044f \\u0420\\u0430\\u0448\\u0438\\u0442\\u043e\\u0432\\u043d\\u0430\",\"\\u0417\\u0430\\u0432\\u0433\\u043e\\u0440\\u043e\\u0434\\u043d\\u044b\\u0439 \\u0421\\u0435\\u0440\\u0433\\u0435\\u0439 \\u0412\\u0430\\u043b\\u0435\\u0440\\u0438\\u0430\\u043d\\u043e\\u0432\\u0438\\u0447\",\"\\u0417\\u0430\\u0445\\u0430\\u0440\\u043e\\u0432 \\u0418\\u0432\\u0430\\u043d \\u0412\\u043b\\u0430\\u0434\\u0438\\u043c\\u0438\\u0440\\u043e\\u0432\\u0438\\u0447\",\"\\u041a\\u0430\\u043c\\u044b\\u043d\\u043e\\u0432\\u0430 \\u041d\\u0430\\u0442\\u0430\\u043b\\u0438\\u044f \\u0412\\u0430\\u043b\\u0435\\u0440\\u0438\\u0435\\u0432\\u043d\\u0430\",\"\\u041a\\u043e\\u0432\\u0430\\u043b\\u0435\\u043d\\u043a\\u043e \\u041e\\u043b\\u044c\\u0433\\u0430 \\u042d\\u0434\\u0443\\u0430\\u0440\\u0434\\u043e\\u0432\\u043d\\u0430\",\"\\u041a\\u043e\\u0432\\u0430\\u043b\\u0435\\u043d\\u043a\\u043e \\u041e\\u043b\\u044c\\u0433\\u0430 \\u042d\\u0434\\u0443\\u0430\\u0440\\u0434\\u043e\\u0432\\u043d\\u0430 \\u0444\\u0438\\u0437\\u0438\\u043e\",\"\\u041a\\u043e\\u0432\\u0448\\u043e\\u0432 \\u0410\\u043b\\u0435\\u043a\\u0441\\u0430\\u043d\\u0434\\u0440 \\u0410\\u043b\\u0435\\u043a\\u0441\\u0430\\u043d\\u0434\\u0440\\u043e\\u0432\\u0438\\u0447\",\"\\u041a\\u043e\\u043b\\u0435\\u0441\\u043e\\u0432\\u0430 \\u041d\\u0430\\u0442\\u0430\\u043b\\u044c\\u044f \\u0412\\u0438\\u043a\\u0442\\u043e\\u0440\\u043e\\u0432\\u043d\\u0430\",\"\\u041a\\u0443\\u043a\\u0443\\u0448\\u043a\\u0438\\u043d\\u0430 \\u041b\\u0430\\u0440\\u0438\\u0441\\u0430 \\u0420\\u0430\\u043c\\u0437\\u0430\\u043d\\u043e\\u0432\\u043d\\u0430\",\"\\u041b\\u0438\\u0442\\u0432\\u0438\\u043d\\u043e\\u0432\\u0430 \\u041d\\u0438\\u043d\\u0430 \\u0410\\u043b\\u0435\\u043a\\u0441\\u0435\\u0435\\u0432\\u043d\\u0430\",\"\\u041b\\u043e\\u043f\\u0430\\u0442\\u043a\\u0438\\u043d\\u0430 \\u0410\\u043b\\u0451\\u043d\\u0430 \\u0421\\u0435\\u0440\\u0433\\u0435\\u0435\\u0432\\u043d\\u0430\",\"\\u041c\\u0430\\u043a\\u0441\\u0438\\u043c\\u0435\\u0446 \\u0418\\u0440\\u0438\\u043d\\u0430 \\u0418\\u0432\\u0430\\u043d\\u043e\\u0432\\u043d\\u0430\",\"\\u041c\\u043a\\u0440\\u0442\\u0447\\u044f\\u043d \\u0422\\u0430\\u0440\\u043e\\u043d \\u0410\\u0440\\u0441\\u0435\\u043d\\u043e\\u0432\\u0438\\u0447\",\"\\u041c\\u043e\\u0440\\u043e\\u0448\\u0435\\u043d\\u043a\\u043e\\u0432\\u0430 \\u0413\\u0443\\u043b\\u044c\\u043c\\u0438\\u0440\\u0430 \\u0410\\u0431\\u044b\\u043b\\u043a\\u0430\\u043a\\u043e\\u0432\\u043d\\u0430\",\"\\u041d\\u0438\\u043a\\u043e\\u043b\\u0430\\u0435\\u0432\\u0430 \\u041d\\u0430\\u0434\\u0435\\u0436\\u0434\\u0430 \\u0413\\u0440\\u0438\\u0433\\u043e\\u0440\\u044c\\u0435\\u0432\\u043d\\u0430\",\"\\u041e\\u043b\\u044c\\u0445\\u043e\\u0432\\u0441\\u043a\\u0430\\u044f \\u0410\\u043b\\u044c\\u0431\\u0438\\u043d\\u0430 \\u0412\\u043b\\u0430\\u0434\\u0438\\u043c\\u0438\\u0440\\u043e\\u0432\\u043d\\u0430\",\"\\u041f\\u0443\\u0437\\u0430\\u043d\\u043e\\u0432\\u0430 \\u041b\\u0438\\u0434\\u0438\\u044f \\u0421\\u0435\\u0440\\u0433\\u0435\\u0435\\u0432\\u043d\\u0430\",\"\\u0420\\u044b\\u0431\\u0430\\u043a \\u041b\\u0438\\u043b\\u0438\\u044f \\u0421\\u0435\\u0440\\u0433\\u0435\\u0435\\u0432\\u043d\\u0430\",\"\\u0421\\u043a\\u0430\\u043b\\u043a\\u043e\\u0432\\u0438\\u0447 \\u0418\\u043d\\u043d\\u0430 \\u0412\\u0430\\u043b\\u0435\\u0440\\u044c\\u0435\\u0432\\u043d\\u0430\",\"\\u0427\\u0438\\u0436\\u043e\\u0432\\u0430 \\u0415\\u043b\\u0435\\u043d\\u0430 \\u0412\\u043b\\u0430\\u0434\\u0438\\u043c\\u0438\\u0440\\u043e\\u0432\\u043d\\u0430\",\"\\u0427\\u0438\\u0447\\u0438\\u043a\\u0438\\u043d\\u0430 \\u0413\\u0430\\u043b\\u0438\\u043d\\u0430 \\u041f\\u0430\\u0432\\u043b\\u043e\\u0432\\u043d\\u0430\"],\"yaxis\":\"y\"},{\"alignmentgroup\":\"True\",\"hovertemplate\":\"\\u041c\\u0435\\u0441\\u044f\\u0446=0322<br>avg_rub=%{x}<br>\\u0412\\u0440\\u0430\\u0447=%{y}<extra></extra>\",\"legendgroup\":\"0322\",\"marker\":{\"color\":\"#00cc96\",\"pattern\":{\"shape\":\"\"}},\"name\":\"0322\",\"offsetgroup\":\"0322\",\"orientation\":\"h\",\"showlegend\":true,\"textposition\":\"auto\",\"type\":\"bar\",\"x\":[1799,783,2304,3078,900,2029,2115,932,1944,2520,3085,381,2172,1164,1842,2219,2231,1964,2735,1927,2287,2021,2292,754,2642,2552,849],\"xaxis\":\"x\",\"y\":[\"\\u0410\\u043b\\u0435\\u043a\\u0441\\u0430\\u043d\\u0434\\u0440\\u043e\\u0432\\u0430 \\u0421\\u0432\\u0435\\u0442\\u043b\\u0430\\u043d\\u0430 \\u0412\\u0438\\u043a\\u0442\\u043e\\u0440\\u043e\\u0432\\u043d\\u0430\",\"\\u0410\\u0440\\u0443\\u0442\\u044e\\u043d\\u044f\\u043d \\u0410\\u0440\\u0443\\u0442\\u044e\\u043d \\u041b\\u0435\\u0432\\u043e\\u043d\\u043e\\u0432\\u0438\\u0447\",\"\\u0412\\u043b\\u0430\\u0441\\u043e\\u0432\\u0430 \\u0410\\u043b\\u044c\\u0444\\u0438\\u044f \\u041b\\u044f\\u0431\\u0438\\u0431\\u043e\\u0432\\u043d\\u0430\",\"\\u0412\\u043e\\u043b\\u043e\\u0434\\u0438\\u043d \\u041f\\u0430\\u0432\\u0435\\u043b \\u042e\\u0440\\u044c\\u0435\\u0432\\u0438\\u0447\",\"\\u0412\\u043e\\u043b\\u043e\\u0434\\u044c\\u043a\\u043e \\u0412\\u0430\\u043b\\u0435\\u043d\\u0442\\u0438\\u043d\\u0430 \\u0418\\u0432\\u0430\\u043d\\u043e\\u0432\\u043d\\u0430\",\"\\u0413\\u0432\\u043e\\u0437\\u0434\\u0435\\u0432\\u0430 \\u0422\\u0430\\u0442\\u044c\\u044f\\u043d\\u0430 \\u0410\\u043d\\u0430\\u0442\\u043e\\u043b\\u044c\\u0435\\u0432\\u043d\\u0430\",\"\\u0413\\u043e\\u0440\\u0431\\u0438\\u043a\\u043e\\u0432\\u0430 \\u042d\\u043b\\u044c\\u0444\\u0438\\u044f \\u0420\\u0430\\u0448\\u0438\\u0442\\u043e\\u0432\\u043d\\u0430\",\"\\u0417\\u0430\\u0432\\u0433\\u043e\\u0440\\u043e\\u0434\\u043d\\u044b\\u0439 \\u0421\\u0435\\u0440\\u0433\\u0435\\u0439 \\u0412\\u0430\\u043b\\u0435\\u0440\\u0438\\u0430\\u043d\\u043e\\u0432\\u0438\\u0447\",\"\\u0417\\u0430\\u0445\\u0430\\u0440\\u043e\\u0432 \\u0418\\u0432\\u0430\\u043d \\u0412\\u043b\\u0430\\u0434\\u0438\\u043c\\u0438\\u0440\\u043e\\u0432\\u0438\\u0447\",\"\\u041a\\u0430\\u043c\\u044b\\u043d\\u043e\\u0432\\u0430 \\u041d\\u0430\\u0442\\u0430\\u043b\\u0438\\u044f \\u0412\\u0430\\u043b\\u0435\\u0440\\u0438\\u0435\\u0432\\u043d\\u0430\",\"\\u041a\\u043e\\u0432\\u0430\\u043b\\u0435\\u043d\\u043a\\u043e \\u041e\\u043b\\u044c\\u0433\\u0430 \\u042d\\u0434\\u0443\\u0430\\u0440\\u0434\\u043e\\u0432\\u043d\\u0430\",\"\\u041a\\u043e\\u0432\\u0430\\u043b\\u0435\\u043d\\u043a\\u043e \\u041e\\u043b\\u044c\\u0433\\u0430 \\u042d\\u0434\\u0443\\u0430\\u0440\\u0434\\u043e\\u0432\\u043d\\u0430 \\u0444\\u0438\\u0437\\u0438\\u043e\",\"\\u041a\\u043e\\u0432\\u0448\\u043e\\u0432 \\u0410\\u043b\\u0435\\u043a\\u0441\\u0430\\u043d\\u0434\\u0440 \\u0410\\u043b\\u0435\\u043a\\u0441\\u0430\\u043d\\u0434\\u0440\\u043e\\u0432\\u0438\\u0447\",\"\\u041a\\u043e\\u043b\\u0435\\u0441\\u043e\\u0432\\u0430 \\u041d\\u0430\\u0442\\u0430\\u043b\\u044c\\u044f \\u0412\\u0438\\u043a\\u0442\\u043e\\u0440\\u043e\\u0432\\u043d\\u0430\",\"\\u041a\\u0443\\u043a\\u0443\\u0448\\u043a\\u0438\\u043d\\u0430 \\u041b\\u0430\\u0440\\u0438\\u0441\\u0430 \\u0420\\u0430\\u043c\\u0437\\u0430\\u043d\\u043e\\u0432\\u043d\\u0430\",\"\\u041b\\u0438\\u0442\\u0432\\u0438\\u043d\\u043e\\u0432\\u0430 \\u041d\\u0438\\u043d\\u0430 \\u0410\\u043b\\u0435\\u043a\\u0441\\u0435\\u0435\\u0432\\u043d\\u0430\",\"\\u041b\\u043e\\u043f\\u0430\\u0442\\u043a\\u0438\\u043d\\u0430 \\u0410\\u043b\\u0451\\u043d\\u0430 \\u0421\\u0435\\u0440\\u0433\\u0435\\u0435\\u0432\\u043d\\u0430\",\"\\u041c\\u0430\\u043a\\u0441\\u0438\\u043c\\u0435\\u0446 \\u0418\\u0440\\u0438\\u043d\\u0430 \\u0418\\u0432\\u0430\\u043d\\u043e\\u0432\\u043d\\u0430\",\"\\u041c\\u043a\\u0440\\u0442\\u0447\\u044f\\u043d \\u0422\\u0430\\u0440\\u043e\\u043d \\u0410\\u0440\\u0441\\u0435\\u043d\\u043e\\u0432\\u0438\\u0447\",\"\\u041c\\u043e\\u0440\\u043e\\u0448\\u0435\\u043d\\u043a\\u043e\\u0432\\u0430 \\u0413\\u0443\\u043b\\u044c\\u043c\\u0438\\u0440\\u0430 \\u0410\\u0431\\u044b\\u043b\\u043a\\u0430\\u043a\\u043e\\u0432\\u043d\\u0430\",\"\\u041d\\u0438\\u043a\\u043e\\u043b\\u0430\\u0435\\u0432\\u0430 \\u041d\\u0430\\u0434\\u0435\\u0436\\u0434\\u0430 \\u0413\\u0440\\u0438\\u0433\\u043e\\u0440\\u044c\\u0435\\u0432\\u043d\\u0430\",\"\\u041e\\u043b\\u044c\\u0445\\u043e\\u0432\\u0441\\u043a\\u0430\\u044f \\u0410\\u043b\\u044c\\u0431\\u0438\\u043d\\u0430 \\u0412\\u043b\\u0430\\u0434\\u0438\\u043c\\u0438\\u0440\\u043e\\u0432\\u043d\\u0430\",\"\\u041f\\u0443\\u0437\\u0430\\u043d\\u043e\\u0432\\u0430 \\u041b\\u0438\\u0434\\u0438\\u044f \\u0421\\u0435\\u0440\\u0433\\u0435\\u0435\\u0432\\u043d\\u0430\",\"\\u0420\\u044b\\u0431\\u0430\\u043a \\u041b\\u0438\\u043b\\u0438\\u044f \\u0421\\u0435\\u0440\\u0433\\u0435\\u0435\\u0432\\u043d\\u0430\",\"\\u0421\\u043a\\u0430\\u043b\\u043a\\u043e\\u0432\\u0438\\u0447 \\u0418\\u043d\\u043d\\u0430 \\u0412\\u0430\\u043b\\u0435\\u0440\\u044c\\u0435\\u0432\\u043d\\u0430\",\"\\u0427\\u0438\\u0436\\u043e\\u0432\\u0430 \\u0415\\u043b\\u0435\\u043d\\u0430 \\u0412\\u043b\\u0430\\u0434\\u0438\\u043c\\u0438\\u0440\\u043e\\u0432\\u043d\\u0430\",\"\\u0427\\u0438\\u0447\\u0438\\u043a\\u0438\\u043d\\u0430 \\u0413\\u0430\\u043b\\u0438\\u043d\\u0430 \\u041f\\u0430\\u0432\\u043b\\u043e\\u0432\\u043d\\u0430\"],\"yaxis\":\"y\"},{\"alignmentgroup\":\"True\",\"hovertemplate\":\"\\u041c\\u0435\\u0441\\u044f\\u0446=0422<br>avg_rub=%{x}<br>\\u0412\\u0440\\u0430\\u0447=%{y}<extra></extra>\",\"legendgroup\":\"0422\",\"marker\":{\"color\":\"#ab63fa\",\"pattern\":{\"shape\":\"\"}},\"name\":\"0422\",\"offsetgroup\":\"0422\",\"orientation\":\"h\",\"showlegend\":true,\"textposition\":\"auto\",\"type\":\"bar\",\"x\":[1856,759,2098,2570,867,1889,2051,903,1841,2380,2893,365,2057,1094,2366,1939,2041,1743,2093,1835,2342,1848,2304,737,3302,2318,796],\"xaxis\":\"x\",\"y\":[\"\\u0410\\u043b\\u0435\\u043a\\u0441\\u0430\\u043d\\u0434\\u0440\\u043e\\u0432\\u0430 \\u0421\\u0432\\u0435\\u0442\\u043b\\u0430\\u043d\\u0430 \\u0412\\u0438\\u043a\\u0442\\u043e\\u0440\\u043e\\u0432\\u043d\\u0430\",\"\\u0410\\u0440\\u0443\\u0442\\u044e\\u043d\\u044f\\u043d \\u0410\\u0440\\u0443\\u0442\\u044e\\u043d \\u041b\\u0435\\u0432\\u043e\\u043d\\u043e\\u0432\\u0438\\u0447\",\"\\u0412\\u043b\\u0430\\u0441\\u043e\\u0432\\u0430 \\u0410\\u043b\\u044c\\u0444\\u0438\\u044f \\u041b\\u044f\\u0431\\u0438\\u0431\\u043e\\u0432\\u043d\\u0430\",\"\\u0412\\u043e\\u043b\\u043e\\u0434\\u0438\\u043d \\u041f\\u0430\\u0432\\u0435\\u043b \\u042e\\u0440\\u044c\\u0435\\u0432\\u0438\\u0447\",\"\\u0412\\u043e\\u043b\\u043e\\u0434\\u044c\\u043a\\u043e \\u0412\\u0430\\u043b\\u0435\\u043d\\u0442\\u0438\\u043d\\u0430 \\u0418\\u0432\\u0430\\u043d\\u043e\\u0432\\u043d\\u0430\",\"\\u0413\\u0432\\u043e\\u0437\\u0434\\u0435\\u0432\\u0430 \\u0422\\u0430\\u0442\\u044c\\u044f\\u043d\\u0430 \\u0410\\u043d\\u0430\\u0442\\u043e\\u043b\\u044c\\u0435\\u0432\\u043d\\u0430\",\"\\u0413\\u043e\\u0440\\u0431\\u0438\\u043a\\u043e\\u0432\\u0430 \\u042d\\u043b\\u044c\\u0444\\u0438\\u044f \\u0420\\u0430\\u0448\\u0438\\u0442\\u043e\\u0432\\u043d\\u0430\",\"\\u0417\\u0430\\u0432\\u0433\\u043e\\u0440\\u043e\\u0434\\u043d\\u044b\\u0439 \\u0421\\u0435\\u0440\\u0433\\u0435\\u0439 \\u0412\\u0430\\u043b\\u0435\\u0440\\u0438\\u0430\\u043d\\u043e\\u0432\\u0438\\u0447\",\"\\u0417\\u0430\\u0445\\u0430\\u0440\\u043e\\u0432 \\u0418\\u0432\\u0430\\u043d \\u0412\\u043b\\u0430\\u0434\\u0438\\u043c\\u0438\\u0440\\u043e\\u0432\\u0438\\u0447\",\"\\u041a\\u0430\\u043c\\u044b\\u043d\\u043e\\u0432\\u0430 \\u041d\\u0430\\u0442\\u0430\\u043b\\u0438\\u044f \\u0412\\u0430\\u043b\\u0435\\u0440\\u0438\\u0435\\u0432\\u043d\\u0430\",\"\\u041a\\u043e\\u0432\\u0430\\u043b\\u0435\\u043d\\u043a\\u043e \\u041e\\u043b\\u044c\\u0433\\u0430 \\u042d\\u0434\\u0443\\u0430\\u0440\\u0434\\u043e\\u0432\\u043d\\u0430\",\"\\u041a\\u043e\\u0432\\u0430\\u043b\\u0435\\u043d\\u043a\\u043e \\u041e\\u043b\\u044c\\u0433\\u0430 \\u042d\\u0434\\u0443\\u0430\\u0440\\u0434\\u043e\\u0432\\u043d\\u0430 \\u0444\\u0438\\u0437\\u0438\\u043e\",\"\\u041a\\u043e\\u0432\\u0448\\u043e\\u0432 \\u0410\\u043b\\u0435\\u043a\\u0441\\u0430\\u043d\\u0434\\u0440 \\u0410\\u043b\\u0435\\u043a\\u0441\\u0430\\u043d\\u0434\\u0440\\u043e\\u0432\\u0438\\u0447\",\"\\u041a\\u043e\\u043b\\u0435\\u0441\\u043e\\u0432\\u0430 \\u041d\\u0430\\u0442\\u0430\\u043b\\u044c\\u044f \\u0412\\u0438\\u043a\\u0442\\u043e\\u0440\\u043e\\u0432\\u043d\\u0430\",\"\\u041a\\u0443\\u043a\\u0443\\u0448\\u043a\\u0438\\u043d\\u0430 \\u041b\\u0430\\u0440\\u0438\\u0441\\u0430 \\u0420\\u0430\\u043c\\u0437\\u0430\\u043d\\u043e\\u0432\\u043d\\u0430\",\"\\u041b\\u0438\\u0442\\u0432\\u0438\\u043d\\u043e\\u0432\\u0430 \\u041d\\u0438\\u043d\\u0430 \\u0410\\u043b\\u0435\\u043a\\u0441\\u0435\\u0435\\u0432\\u043d\\u0430\",\"\\u041b\\u043e\\u043f\\u0430\\u0442\\u043a\\u0438\\u043d\\u0430 \\u0410\\u043b\\u0451\\u043d\\u0430 \\u0421\\u0435\\u0440\\u0433\\u0435\\u0435\\u0432\\u043d\\u0430\",\"\\u041c\\u0430\\u043a\\u0441\\u0438\\u043c\\u0435\\u0446 \\u0418\\u0440\\u0438\\u043d\\u0430 \\u0418\\u0432\\u0430\\u043d\\u043e\\u0432\\u043d\\u0430\",\"\\u041c\\u043a\\u0440\\u0442\\u0447\\u044f\\u043d \\u0422\\u0430\\u0440\\u043e\\u043d \\u0410\\u0440\\u0441\\u0435\\u043d\\u043e\\u0432\\u0438\\u0447\",\"\\u041c\\u043e\\u0440\\u043e\\u0448\\u0435\\u043d\\u043a\\u043e\\u0432\\u0430 \\u0413\\u0443\\u043b\\u044c\\u043c\\u0438\\u0440\\u0430 \\u0410\\u0431\\u044b\\u043b\\u043a\\u0430\\u043a\\u043e\\u0432\\u043d\\u0430\",\"\\u041d\\u0438\\u043a\\u043e\\u043b\\u0430\\u0435\\u0432\\u0430 \\u041d\\u0430\\u0434\\u0435\\u0436\\u0434\\u0430 \\u0413\\u0440\\u0438\\u0433\\u043e\\u0440\\u044c\\u0435\\u0432\\u043d\\u0430\",\"\\u041e\\u043b\\u044c\\u0445\\u043e\\u0432\\u0441\\u043a\\u0430\\u044f \\u0410\\u043b\\u044c\\u0431\\u0438\\u043d\\u0430 \\u0412\\u043b\\u0430\\u0434\\u0438\\u043c\\u0438\\u0440\\u043e\\u0432\\u043d\\u0430\",\"\\u041f\\u0443\\u0437\\u0430\\u043d\\u043e\\u0432\\u0430 \\u041b\\u0438\\u0434\\u0438\\u044f \\u0421\\u0435\\u0440\\u0433\\u0435\\u0435\\u0432\\u043d\\u0430\",\"\\u0420\\u044b\\u0431\\u0430\\u043a \\u041b\\u0438\\u043b\\u0438\\u044f \\u0421\\u0435\\u0440\\u0433\\u0435\\u0435\\u0432\\u043d\\u0430\",\"\\u0421\\u043a\\u0430\\u043b\\u043a\\u043e\\u0432\\u0438\\u0447 \\u0418\\u043d\\u043d\\u0430 \\u0412\\u0430\\u043b\\u0435\\u0440\\u044c\\u0435\\u0432\\u043d\\u0430\",\"\\u0427\\u0438\\u0436\\u043e\\u0432\\u0430 \\u0415\\u043b\\u0435\\u043d\\u0430 \\u0412\\u043b\\u0430\\u0434\\u0438\\u043c\\u0438\\u0440\\u043e\\u0432\\u043d\\u0430\",\"\\u0427\\u0438\\u0447\\u0438\\u043a\\u0438\\u043d\\u0430 \\u0413\\u0430\\u043b\\u0438\\u043d\\u0430 \\u041f\\u0430\\u0432\\u043b\\u043e\\u0432\\u043d\\u0430\"],\"yaxis\":\"y\"},{\"alignmentgroup\":\"True\",\"hovertemplate\":\"\\u041c\\u0435\\u0441\\u044f\\u0446=0522<br>avg_rub=%{x}<br>\\u0412\\u0440\\u0430\\u0447=%{y}<extra></extra>\",\"legendgroup\":\"0522\",\"marker\":{\"color\":\"#FFA15A\",\"pattern\":{\"shape\":\"\"}},\"name\":\"0522\",\"offsetgroup\":\"0522\",\"orientation\":\"h\",\"showlegend\":true,\"textposition\":\"auto\",\"type\":\"bar\",\"x\":[1615,941,2046,4486,1004,1841,891,2265,2502,2451,372,2089,1082,2105,2244,2449,1521,2254,1433,2120,1550,2410,757,1744,2226,899],\"xaxis\":\"x\",\"y\":[\"\\u0410\\u043b\\u0435\\u043a\\u0441\\u0430\\u043d\\u0434\\u0440\\u043e\\u0432\\u0430 \\u0421\\u0432\\u0435\\u0442\\u043b\\u0430\\u043d\\u0430 \\u0412\\u0438\\u043a\\u0442\\u043e\\u0440\\u043e\\u0432\\u043d\\u0430\",\"\\u0410\\u0440\\u0443\\u0442\\u044e\\u043d\\u044f\\u043d \\u0410\\u0440\\u0443\\u0442\\u044e\\u043d \\u041b\\u0435\\u0432\\u043e\\u043d\\u043e\\u0432\\u0438\\u0447\",\"\\u0412\\u043b\\u0430\\u0441\\u043e\\u0432\\u0430 \\u0410\\u043b\\u044c\\u0444\\u0438\\u044f \\u041b\\u044f\\u0431\\u0438\\u0431\\u043e\\u0432\\u043d\\u0430\",\"\\u0412\\u043e\\u043b\\u043e\\u0434\\u0438\\u043d \\u041f\\u0430\\u0432\\u0435\\u043b \\u042e\\u0440\\u044c\\u0435\\u0432\\u0438\\u0447\",\"\\u0412\\u043e\\u043b\\u043e\\u0434\\u044c\\u043a\\u043e \\u0412\\u0430\\u043b\\u0435\\u043d\\u0442\\u0438\\u043d\\u0430 \\u0418\\u0432\\u0430\\u043d\\u043e\\u0432\\u043d\\u0430\",\"\\u0413\\u043e\\u0440\\u0431\\u0438\\u043a\\u043e\\u0432\\u0430 \\u042d\\u043b\\u044c\\u0444\\u0438\\u044f \\u0420\\u0430\\u0448\\u0438\\u0442\\u043e\\u0432\\u043d\\u0430\",\"\\u0417\\u0430\\u0432\\u0433\\u043e\\u0440\\u043e\\u0434\\u043d\\u044b\\u0439 \\u0421\\u0435\\u0440\\u0433\\u0435\\u0439 \\u0412\\u0430\\u043b\\u0435\\u0440\\u0438\\u0430\\u043d\\u043e\\u0432\\u0438\\u0447\",\"\\u0417\\u0430\\u0445\\u0430\\u0440\\u043e\\u0432 \\u0418\\u0432\\u0430\\u043d \\u0412\\u043b\\u0430\\u0434\\u0438\\u043c\\u0438\\u0440\\u043e\\u0432\\u0438\\u0447\",\"\\u041a\\u0430\\u043c\\u044b\\u043d\\u043e\\u0432\\u0430 \\u041d\\u0430\\u0442\\u0430\\u043b\\u0438\\u044f \\u0412\\u0430\\u043b\\u0435\\u0440\\u0438\\u0435\\u0432\\u043d\\u0430\",\"\\u041a\\u043e\\u0432\\u0430\\u043b\\u0435\\u043d\\u043a\\u043e \\u041e\\u043b\\u044c\\u0433\\u0430 \\u042d\\u0434\\u0443\\u0430\\u0440\\u0434\\u043e\\u0432\\u043d\\u0430\",\"\\u041a\\u043e\\u0432\\u0430\\u043b\\u0435\\u043d\\u043a\\u043e \\u041e\\u043b\\u044c\\u0433\\u0430 \\u042d\\u0434\\u0443\\u0430\\u0440\\u0434\\u043e\\u0432\\u043d\\u0430 \\u0444\\u0438\\u0437\\u0438\\u043e\",\"\\u041a\\u043e\\u0432\\u0448\\u043e\\u0432 \\u0410\\u043b\\u0435\\u043a\\u0441\\u0430\\u043d\\u0434\\u0440 \\u0410\\u043b\\u0435\\u043a\\u0441\\u0430\\u043d\\u0434\\u0440\\u043e\\u0432\\u0438\\u0447\",\"\\u041a\\u043e\\u043b\\u0435\\u0441\\u043e\\u0432\\u0430 \\u041d\\u0430\\u0442\\u0430\\u043b\\u044c\\u044f \\u0412\\u0438\\u043a\\u0442\\u043e\\u0440\\u043e\\u0432\\u043d\\u0430\",\"\\u041a\\u0443\\u043a\\u0443\\u0448\\u043a\\u0438\\u043d\\u0430 \\u041b\\u0430\\u0440\\u0438\\u0441\\u0430 \\u0420\\u0430\\u043c\\u0437\\u0430\\u043d\\u043e\\u0432\\u043d\\u0430\",\"\\u041b\\u0438\\u0442\\u0432\\u0438\\u043d\\u043e\\u0432\\u0430 \\u041d\\u0438\\u043d\\u0430 \\u0410\\u043b\\u0435\\u043a\\u0441\\u0435\\u0435\\u0432\\u043d\\u0430\",\"\\u041b\\u043e\\u043f\\u0430\\u0442\\u043a\\u0438\\u043d\\u0430 \\u0410\\u043b\\u0451\\u043d\\u0430 \\u0421\\u0435\\u0440\\u0433\\u0435\\u0435\\u0432\\u043d\\u0430\",\"\\u041c\\u0430\\u043a\\u0441\\u0438\\u043c\\u0435\\u0446 \\u0418\\u0440\\u0438\\u043d\\u0430 \\u0418\\u0432\\u0430\\u043d\\u043e\\u0432\\u043d\\u0430\",\"\\u041c\\u043a\\u0440\\u0442\\u0447\\u044f\\u043d \\u0422\\u0430\\u0440\\u043e\\u043d \\u0410\\u0440\\u0441\\u0435\\u043d\\u043e\\u0432\\u0438\\u0447\",\"\\u041c\\u043e\\u0440\\u043e\\u0448\\u0435\\u043d\\u043a\\u043e\\u0432\\u0430 \\u0413\\u0443\\u043b\\u044c\\u043c\\u0438\\u0440\\u0430 \\u0410\\u0431\\u044b\\u043b\\u043a\\u0430\\u043a\\u043e\\u0432\\u043d\\u0430\",\"\\u041d\\u0438\\u043a\\u043e\\u043b\\u0430\\u0435\\u0432\\u0430 \\u041d\\u0430\\u0434\\u0435\\u0436\\u0434\\u0430 \\u0413\\u0440\\u0438\\u0433\\u043e\\u0440\\u044c\\u0435\\u0432\\u043d\\u0430\",\"\\u041e\\u043b\\u044c\\u0445\\u043e\\u0432\\u0441\\u043a\\u0430\\u044f \\u0410\\u043b\\u044c\\u0431\\u0438\\u043d\\u0430 \\u0412\\u043b\\u0430\\u0434\\u0438\\u043c\\u0438\\u0440\\u043e\\u0432\\u043d\\u0430\",\"\\u041f\\u0443\\u0437\\u0430\\u043d\\u043e\\u0432\\u0430 \\u041b\\u0438\\u0434\\u0438\\u044f \\u0421\\u0435\\u0440\\u0433\\u0435\\u0435\\u0432\\u043d\\u0430\",\"\\u0420\\u044b\\u0431\\u0430\\u043a \\u041b\\u0438\\u043b\\u0438\\u044f \\u0421\\u0435\\u0440\\u0433\\u0435\\u0435\\u0432\\u043d\\u0430\",\"\\u0421\\u043a\\u0430\\u043b\\u043a\\u043e\\u0432\\u0438\\u0447 \\u0418\\u043d\\u043d\\u0430 \\u0412\\u0430\\u043b\\u0435\\u0440\\u044c\\u0435\\u0432\\u043d\\u0430\",\"\\u0427\\u0438\\u0436\\u043e\\u0432\\u0430 \\u0415\\u043b\\u0435\\u043d\\u0430 \\u0412\\u043b\\u0430\\u0434\\u0438\\u043c\\u0438\\u0440\\u043e\\u0432\\u043d\\u0430\",\"\\u0427\\u0438\\u0447\\u0438\\u043a\\u0438\\u043d\\u0430 \\u0413\\u0430\\u043b\\u0438\\u043d\\u0430 \\u041f\\u0430\\u0432\\u043b\\u043e\\u0432\\u043d\\u0430\"],\"yaxis\":\"y\"}],                        {\"barmode\":\"group\",\"height\":2000,\"legend\":{\"title\":{\"text\":\"\\u041c\\u0435\\u0441\\u044f\\u0446\"},\"tracegroupgap\":0},\"template\":{\"data\":{\"bar\":[{\"error_x\":{\"color\":\"#2a3f5f\"},\"error_y\":{\"color\":\"#2a3f5f\"},\"marker\":{\"line\":{\"color\":\"#E5ECF6\",\"width\":0.5},\"pattern\":{\"fillmode\":\"overlay\",\"size\":10,\"solidity\":0.2}},\"type\":\"bar\"}],\"barpolar\":[{\"marker\":{\"line\":{\"color\":\"#E5ECF6\",\"width\":0.5},\"pattern\":{\"fillmode\":\"overlay\",\"size\":10,\"solidity\":0.2}},\"type\":\"barpolar\"}],\"carpet\":[{\"aaxis\":{\"endlinecolor\":\"#2a3f5f\",\"gridcolor\":\"white\",\"linecolor\":\"white\",\"minorgridcolor\":\"white\",\"startlinecolor\":\"#2a3f5f\"},\"baxis\":{\"endlinecolor\":\"#2a3f5f\",\"gridcolor\":\"white\",\"linecolor\":\"white\",\"minorgridcolor\":\"white\",\"startlinecolor\":\"#2a3f5f\"},\"type\":\"carpet\"}],\"choropleth\":[{\"colorbar\":{\"outlinewidth\":0,\"ticks\":\"\"},\"type\":\"choropleth\"}],\"contour\":[{\"colorbar\":{\"outlinewidth\":0,\"ticks\":\"\"},\"colorscale\":[[0.0,\"#0d0887\"],[0.1111111111111111,\"#46039f\"],[0.2222222222222222,\"#7201a8\"],[0.3333333333333333,\"#9c179e\"],[0.4444444444444444,\"#bd3786\"],[0.5555555555555556,\"#d8576b\"],[0.6666666666666666,\"#ed7953\"],[0.7777777777777778,\"#fb9f3a\"],[0.8888888888888888,\"#fdca26\"],[1.0,\"#f0f921\"]],\"type\":\"contour\"}],\"contourcarpet\":[{\"colorbar\":{\"outlinewidth\":0,\"ticks\":\"\"},\"type\":\"contourcarpet\"}],\"heatmap\":[{\"colorbar\":{\"outlinewidth\":0,\"ticks\":\"\"},\"colorscale\":[[0.0,\"#0d0887\"],[0.1111111111111111,\"#46039f\"],[0.2222222222222222,\"#7201a8\"],[0.3333333333333333,\"#9c179e\"],[0.4444444444444444,\"#bd3786\"],[0.5555555555555556,\"#d8576b\"],[0.6666666666666666,\"#ed7953\"],[0.7777777777777778,\"#fb9f3a\"],[0.8888888888888888,\"#fdca26\"],[1.0,\"#f0f921\"]],\"type\":\"heatmap\"}],\"heatmapgl\":[{\"colorbar\":{\"outlinewidth\":0,\"ticks\":\"\"},\"colorscale\":[[0.0,\"#0d0887\"],[0.1111111111111111,\"#46039f\"],[0.2222222222222222,\"#7201a8\"],[0.3333333333333333,\"#9c179e\"],[0.4444444444444444,\"#bd3786\"],[0.5555555555555556,\"#d8576b\"],[0.6666666666666666,\"#ed7953\"],[0.7777777777777778,\"#fb9f3a\"],[0.8888888888888888,\"#fdca26\"],[1.0,\"#f0f921\"]],\"type\":\"heatmapgl\"}],\"histogram\":[{\"marker\":{\"pattern\":{\"fillmode\":\"overlay\",\"size\":10,\"solidity\":0.2}},\"type\":\"histogram\"}],\"histogram2d\":[{\"colorbar\":{\"outlinewidth\":0,\"ticks\":\"\"},\"colorscale\":[[0.0,\"#0d0887\"],[0.1111111111111111,\"#46039f\"],[0.2222222222222222,\"#7201a8\"],[0.3333333333333333,\"#9c179e\"],[0.4444444444444444,\"#bd3786\"],[0.5555555555555556,\"#d8576b\"],[0.6666666666666666,\"#ed7953\"],[0.7777777777777778,\"#fb9f3a\"],[0.8888888888888888,\"#fdca26\"],[1.0,\"#f0f921\"]],\"type\":\"histogram2d\"}],\"histogram2dcontour\":[{\"colorbar\":{\"outlinewidth\":0,\"ticks\":\"\"},\"colorscale\":[[0.0,\"#0d0887\"],[0.1111111111111111,\"#46039f\"],[0.2222222222222222,\"#7201a8\"],[0.3333333333333333,\"#9c179e\"],[0.4444444444444444,\"#bd3786\"],[0.5555555555555556,\"#d8576b\"],[0.6666666666666666,\"#ed7953\"],[0.7777777777777778,\"#fb9f3a\"],[0.8888888888888888,\"#fdca26\"],[1.0,\"#f0f921\"]],\"type\":\"histogram2dcontour\"}],\"mesh3d\":[{\"colorbar\":{\"outlinewidth\":0,\"ticks\":\"\"},\"type\":\"mesh3d\"}],\"parcoords\":[{\"line\":{\"colorbar\":{\"outlinewidth\":0,\"ticks\":\"\"}},\"type\":\"parcoords\"}],\"pie\":[{\"automargin\":true,\"type\":\"pie\"}],\"scatter\":[{\"marker\":{\"colorbar\":{\"outlinewidth\":0,\"ticks\":\"\"}},\"type\":\"scatter\"}],\"scatter3d\":[{\"line\":{\"colorbar\":{\"outlinewidth\":0,\"ticks\":\"\"}},\"marker\":{\"colorbar\":{\"outlinewidth\":0,\"ticks\":\"\"}},\"type\":\"scatter3d\"}],\"scattercarpet\":[{\"marker\":{\"colorbar\":{\"outlinewidth\":0,\"ticks\":\"\"}},\"type\":\"scattercarpet\"}],\"scattergeo\":[{\"marker\":{\"colorbar\":{\"outlinewidth\":0,\"ticks\":\"\"}},\"type\":\"scattergeo\"}],\"scattergl\":[{\"marker\":{\"colorbar\":{\"outlinewidth\":0,\"ticks\":\"\"}},\"type\":\"scattergl\"}],\"scattermapbox\":[{\"marker\":{\"colorbar\":{\"outlinewidth\":0,\"ticks\":\"\"}},\"type\":\"scattermapbox\"}],\"scatterpolar\":[{\"marker\":{\"colorbar\":{\"outlinewidth\":0,\"ticks\":\"\"}},\"type\":\"scatterpolar\"}],\"scatterpolargl\":[{\"marker\":{\"colorbar\":{\"outlinewidth\":0,\"ticks\":\"\"}},\"type\":\"scatterpolargl\"}],\"scatterternary\":[{\"marker\":{\"colorbar\":{\"outlinewidth\":0,\"ticks\":\"\"}},\"type\":\"scatterternary\"}],\"surface\":[{\"colorbar\":{\"outlinewidth\":0,\"ticks\":\"\"},\"colorscale\":[[0.0,\"#0d0887\"],[0.1111111111111111,\"#46039f\"],[0.2222222222222222,\"#7201a8\"],[0.3333333333333333,\"#9c179e\"],[0.4444444444444444,\"#bd3786\"],[0.5555555555555556,\"#d8576b\"],[0.6666666666666666,\"#ed7953\"],[0.7777777777777778,\"#fb9f3a\"],[0.8888888888888888,\"#fdca26\"],[1.0,\"#f0f921\"]],\"type\":\"surface\"}],\"table\":[{\"cells\":{\"fill\":{\"color\":\"#EBF0F8\"},\"line\":{\"color\":\"white\"}},\"header\":{\"fill\":{\"color\":\"#C8D4E3\"},\"line\":{\"color\":\"white\"}},\"type\":\"table\"}]},\"layout\":{\"annotationdefaults\":{\"arrowcolor\":\"#2a3f5f\",\"arrowhead\":0,\"arrowwidth\":1},\"autotypenumbers\":\"strict\",\"coloraxis\":{\"colorbar\":{\"outlinewidth\":0,\"ticks\":\"\"}},\"colorscale\":{\"diverging\":[[0,\"#8e0152\"],[0.1,\"#c51b7d\"],[0.2,\"#de77ae\"],[0.3,\"#f1b6da\"],[0.4,\"#fde0ef\"],[0.5,\"#f7f7f7\"],[0.6,\"#e6f5d0\"],[0.7,\"#b8e186\"],[0.8,\"#7fbc41\"],[0.9,\"#4d9221\"],[1,\"#276419\"]],\"sequential\":[[0.0,\"#0d0887\"],[0.1111111111111111,\"#46039f\"],[0.2222222222222222,\"#7201a8\"],[0.3333333333333333,\"#9c179e\"],[0.4444444444444444,\"#bd3786\"],[0.5555555555555556,\"#d8576b\"],[0.6666666666666666,\"#ed7953\"],[0.7777777777777778,\"#fb9f3a\"],[0.8888888888888888,\"#fdca26\"],[1.0,\"#f0f921\"]],\"sequentialminus\":[[0.0,\"#0d0887\"],[0.1111111111111111,\"#46039f\"],[0.2222222222222222,\"#7201a8\"],[0.3333333333333333,\"#9c179e\"],[0.4444444444444444,\"#bd3786\"],[0.5555555555555556,\"#d8576b\"],[0.6666666666666666,\"#ed7953\"],[0.7777777777777778,\"#fb9f3a\"],[0.8888888888888888,\"#fdca26\"],[1.0,\"#f0f921\"]]},\"colorway\":[\"#636efa\",\"#EF553B\",\"#00cc96\",\"#ab63fa\",\"#FFA15A\",\"#19d3f3\",\"#FF6692\",\"#B6E880\",\"#FF97FF\",\"#FECB52\"],\"font\":{\"color\":\"#2a3f5f\"},\"geo\":{\"bgcolor\":\"white\",\"lakecolor\":\"white\",\"landcolor\":\"#E5ECF6\",\"showlakes\":true,\"showland\":true,\"subunitcolor\":\"white\"},\"hoverlabel\":{\"align\":\"left\"},\"hovermode\":\"closest\",\"mapbox\":{\"style\":\"light\"},\"paper_bgcolor\":\"white\",\"plot_bgcolor\":\"#E5ECF6\",\"polar\":{\"angularaxis\":{\"gridcolor\":\"white\",\"linecolor\":\"white\",\"ticks\":\"\"},\"bgcolor\":\"#E5ECF6\",\"radialaxis\":{\"gridcolor\":\"white\",\"linecolor\":\"white\",\"ticks\":\"\"}},\"scene\":{\"xaxis\":{\"backgroundcolor\":\"#E5ECF6\",\"gridcolor\":\"white\",\"gridwidth\":2,\"linecolor\":\"white\",\"showbackground\":true,\"ticks\":\"\",\"zerolinecolor\":\"white\"},\"yaxis\":{\"backgroundcolor\":\"#E5ECF6\",\"gridcolor\":\"white\",\"gridwidth\":2,\"linecolor\":\"white\",\"showbackground\":true,\"ticks\":\"\",\"zerolinecolor\":\"white\"},\"zaxis\":{\"backgroundcolor\":\"#E5ECF6\",\"gridcolor\":\"white\",\"gridwidth\":2,\"linecolor\":\"white\",\"showbackground\":true,\"ticks\":\"\",\"zerolinecolor\":\"white\"}},\"shapedefaults\":{\"line\":{\"color\":\"#2a3f5f\"}},\"ternary\":{\"aaxis\":{\"gridcolor\":\"white\",\"linecolor\":\"white\",\"ticks\":\"\"},\"baxis\":{\"gridcolor\":\"white\",\"linecolor\":\"white\",\"ticks\":\"\"},\"bgcolor\":\"#E5ECF6\",\"caxis\":{\"gridcolor\":\"white\",\"linecolor\":\"white\",\"ticks\":\"\"}},\"title\":{\"x\":0.05},\"xaxis\":{\"automargin\":true,\"gridcolor\":\"white\",\"linecolor\":\"white\",\"ticks\":\"\",\"title\":{\"standoff\":15},\"zerolinecolor\":\"white\",\"zerolinewidth\":2},\"yaxis\":{\"automargin\":true,\"gridcolor\":\"white\",\"linecolor\":\"white\",\"ticks\":\"\",\"title\":{\"standoff\":15},\"zerolinecolor\":\"white\",\"zerolinewidth\":2}}},\"title\":{\"text\":\"\\u0421\\u0440\\u0435\\u0434\\u043d\\u044f\\u044f \\u0441\\u0442\\u043e\\u0438\\u043c\\u043e\\u0441\\u0442\\u044c \\u0422\\u0410\\u041f \\u0432 \\u0440\\u0443\\u0431. \\u0437\\u0430 2022 \\u0433\\u043e\\u0434\\u0443\"},\"xaxis\":{\"anchor\":\"y\",\"domain\":[0.0,1.0],\"title\":{\"text\":\"avg_rub\"}},\"yaxis\":{\"anchor\":\"x\",\"categoryorder\":\"total ascending\",\"domain\":[0.0,1.0],\"title\":{\"text\":\"\\u0420\\u0443\\u0431\"}}},                        {\"responsive\": true}                    ).then(function(){\n",
       "                            \n",
       "var gd = document.getElementById('f6dba746-8571-48a9-b0f5-867417e03bfd');\n",
       "var x = new MutationObserver(function (mutations, observer) {{\n",
       "        var display = window.getComputedStyle(gd).display;\n",
       "        if (!display || display === 'none') {{\n",
       "            console.log([gd, 'removed!']);\n",
       "            Plotly.purge(gd);\n",
       "            observer.disconnect();\n",
       "        }}\n",
       "}});\n",
       "\n",
       "// Listen for the removal of the full notebook cells\n",
       "var notebookContainer = gd.closest('#notebook-container');\n",
       "if (notebookContainer) {{\n",
       "    x.observe(notebookContainer, {childList: true});\n",
       "}}\n",
       "\n",
       "// Listen for the clearing of the current output cell\n",
       "var outputEl = gd.closest('.output');\n",
       "if (outputEl) {{\n",
       "    x.observe(outputEl, {childList: true});\n",
       "}}\n",
       "\n",
       "                        })                };                });            </script>        </div>"
      ]
     },
     "metadata": {},
     "output_type": "display_data"
    }
   ],
   "source": [
    "# Средняя стоимость ТАП в руб по врачу и месяцу (цв), горизонтальные бары\n",
    "\n",
    "px.bar(df_result_by_month, \n",
    "       y='Врач',\n",
    "       x='avg_rub',\n",
    "       color='Месяц',\n",
    "       barmode='group',\n",
    "#        width=1060,\n",
    "       height = 2000,\n",
    "       orientation = 'h',\n",
    "       title=f'Средняя стоимость ТАП в руб. за {year} году') \\\n",
    "    .update_yaxes(title_text = 'Руб', categoryorder='total ascending') "
   ]
  },
  {
   "cell_type": "code",
   "execution_count": 234,
   "metadata": {},
   "outputs": [
    {
     "data": {
      "application/vnd.plotly.v1+json": {
       "config": {
        "plotlyServerURL": "https://plot.ly"
       },
       "data": [
        {
         "alignmentgroup": "True",
         "hovertemplate": "Врач=%{x}<br>avg_uet=%{y}<extra></extra>",
         "legendgroup": "",
         "marker": {
          "color": "#636efa",
          "pattern": {
           "shape": ""
          }
         },
         "name": "",
         "offsetgroup": "",
         "orientation": "v",
         "showlegend": false,
         "textposition": "auto",
         "type": "bar",
         "x": [
          "Коваленко Ольга Эдуардовна",
          "Чижова Елена Владимировна",
          "Пузанова Лидия Сергеевна",
          "Мкртчян Тарон Арсенович",
          "Володин Павел Юрьевич",
          "Скалкович Инна Валерьевна",
          "Камынова Наталия Валериевна",
          "Ковшов Александр Александрович",
          "Лопаткина Алёна Сергеевна",
          "Власова Альфия Лябибовна",
          "Литвинова Нина Алексеевна",
          "Горбикова Эльфия Рашитовна",
          "Николаева Надежда Григорьевна",
          "Ольховская Альбина Владимировна",
          "Кукушкина Лариса Рамзановна",
          "Гвоздева Татьяна Анатольевна",
          "Захаров Иван Владимирович",
          "Морошенкова Гульмира Абылкаковна",
          "Александрова Светлана Викторовна",
          "Максимец Ирина Ивановна",
          "Колесова Наталья Викторовна",
          "Завгородный Сергей Валерианович",
          "Володько Валентина Ивановна",
          "Чичикина Галина Павловна",
          "Арутюнян Арутюн Левонович",
          "Рыбак Лилия Сергеевна",
          "Коваленко Ольга Эдуардовна физио"
         ],
         "xaxis": "x",
         "y": [
          15.72,
          15.15,
          14.9,
          14.69,
          14.56,
          14.55,
          12.8,
          12.63,
          12.51,
          12.21,
          12.16,
          11.89,
          11.77,
          11.58,
          11.56,
          11.5,
          11.48,
          11.31,
          10.96,
          10.75,
          5.79,
          5.05,
          4.94,
          4.62,
          4.49,
          4.26,
          3.17
         ],
         "yaxis": "y"
        }
       ],
       "layout": {
        "barmode": "relative",
        "legend": {
         "tracegroupgap": 0
        },
        "template": {
         "data": {
          "bar": [
           {
            "error_x": {
             "color": "#2a3f5f"
            },
            "error_y": {
             "color": "#2a3f5f"
            },
            "marker": {
             "line": {
              "color": "#E5ECF6",
              "width": 0.5
             },
             "pattern": {
              "fillmode": "overlay",
              "size": 10,
              "solidity": 0.2
             }
            },
            "type": "bar"
           }
          ],
          "barpolar": [
           {
            "marker": {
             "line": {
              "color": "#E5ECF6",
              "width": 0.5
             },
             "pattern": {
              "fillmode": "overlay",
              "size": 10,
              "solidity": 0.2
             }
            },
            "type": "barpolar"
           }
          ],
          "carpet": [
           {
            "aaxis": {
             "endlinecolor": "#2a3f5f",
             "gridcolor": "white",
             "linecolor": "white",
             "minorgridcolor": "white",
             "startlinecolor": "#2a3f5f"
            },
            "baxis": {
             "endlinecolor": "#2a3f5f",
             "gridcolor": "white",
             "linecolor": "white",
             "minorgridcolor": "white",
             "startlinecolor": "#2a3f5f"
            },
            "type": "carpet"
           }
          ],
          "choropleth": [
           {
            "colorbar": {
             "outlinewidth": 0,
             "ticks": ""
            },
            "type": "choropleth"
           }
          ],
          "contour": [
           {
            "colorbar": {
             "outlinewidth": 0,
             "ticks": ""
            },
            "colorscale": [
             [
              0,
              "#0d0887"
             ],
             [
              0.1111111111111111,
              "#46039f"
             ],
             [
              0.2222222222222222,
              "#7201a8"
             ],
             [
              0.3333333333333333,
              "#9c179e"
             ],
             [
              0.4444444444444444,
              "#bd3786"
             ],
             [
              0.5555555555555556,
              "#d8576b"
             ],
             [
              0.6666666666666666,
              "#ed7953"
             ],
             [
              0.7777777777777778,
              "#fb9f3a"
             ],
             [
              0.8888888888888888,
              "#fdca26"
             ],
             [
              1,
              "#f0f921"
             ]
            ],
            "type": "contour"
           }
          ],
          "contourcarpet": [
           {
            "colorbar": {
             "outlinewidth": 0,
             "ticks": ""
            },
            "type": "contourcarpet"
           }
          ],
          "heatmap": [
           {
            "colorbar": {
             "outlinewidth": 0,
             "ticks": ""
            },
            "colorscale": [
             [
              0,
              "#0d0887"
             ],
             [
              0.1111111111111111,
              "#46039f"
             ],
             [
              0.2222222222222222,
              "#7201a8"
             ],
             [
              0.3333333333333333,
              "#9c179e"
             ],
             [
              0.4444444444444444,
              "#bd3786"
             ],
             [
              0.5555555555555556,
              "#d8576b"
             ],
             [
              0.6666666666666666,
              "#ed7953"
             ],
             [
              0.7777777777777778,
              "#fb9f3a"
             ],
             [
              0.8888888888888888,
              "#fdca26"
             ],
             [
              1,
              "#f0f921"
             ]
            ],
            "type": "heatmap"
           }
          ],
          "heatmapgl": [
           {
            "colorbar": {
             "outlinewidth": 0,
             "ticks": ""
            },
            "colorscale": [
             [
              0,
              "#0d0887"
             ],
             [
              0.1111111111111111,
              "#46039f"
             ],
             [
              0.2222222222222222,
              "#7201a8"
             ],
             [
              0.3333333333333333,
              "#9c179e"
             ],
             [
              0.4444444444444444,
              "#bd3786"
             ],
             [
              0.5555555555555556,
              "#d8576b"
             ],
             [
              0.6666666666666666,
              "#ed7953"
             ],
             [
              0.7777777777777778,
              "#fb9f3a"
             ],
             [
              0.8888888888888888,
              "#fdca26"
             ],
             [
              1,
              "#f0f921"
             ]
            ],
            "type": "heatmapgl"
           }
          ],
          "histogram": [
           {
            "marker": {
             "pattern": {
              "fillmode": "overlay",
              "size": 10,
              "solidity": 0.2
             }
            },
            "type": "histogram"
           }
          ],
          "histogram2d": [
           {
            "colorbar": {
             "outlinewidth": 0,
             "ticks": ""
            },
            "colorscale": [
             [
              0,
              "#0d0887"
             ],
             [
              0.1111111111111111,
              "#46039f"
             ],
             [
              0.2222222222222222,
              "#7201a8"
             ],
             [
              0.3333333333333333,
              "#9c179e"
             ],
             [
              0.4444444444444444,
              "#bd3786"
             ],
             [
              0.5555555555555556,
              "#d8576b"
             ],
             [
              0.6666666666666666,
              "#ed7953"
             ],
             [
              0.7777777777777778,
              "#fb9f3a"
             ],
             [
              0.8888888888888888,
              "#fdca26"
             ],
             [
              1,
              "#f0f921"
             ]
            ],
            "type": "histogram2d"
           }
          ],
          "histogram2dcontour": [
           {
            "colorbar": {
             "outlinewidth": 0,
             "ticks": ""
            },
            "colorscale": [
             [
              0,
              "#0d0887"
             ],
             [
              0.1111111111111111,
              "#46039f"
             ],
             [
              0.2222222222222222,
              "#7201a8"
             ],
             [
              0.3333333333333333,
              "#9c179e"
             ],
             [
              0.4444444444444444,
              "#bd3786"
             ],
             [
              0.5555555555555556,
              "#d8576b"
             ],
             [
              0.6666666666666666,
              "#ed7953"
             ],
             [
              0.7777777777777778,
              "#fb9f3a"
             ],
             [
              0.8888888888888888,
              "#fdca26"
             ],
             [
              1,
              "#f0f921"
             ]
            ],
            "type": "histogram2dcontour"
           }
          ],
          "mesh3d": [
           {
            "colorbar": {
             "outlinewidth": 0,
             "ticks": ""
            },
            "type": "mesh3d"
           }
          ],
          "parcoords": [
           {
            "line": {
             "colorbar": {
              "outlinewidth": 0,
              "ticks": ""
             }
            },
            "type": "parcoords"
           }
          ],
          "pie": [
           {
            "automargin": true,
            "type": "pie"
           }
          ],
          "scatter": [
           {
            "marker": {
             "colorbar": {
              "outlinewidth": 0,
              "ticks": ""
             }
            },
            "type": "scatter"
           }
          ],
          "scatter3d": [
           {
            "line": {
             "colorbar": {
              "outlinewidth": 0,
              "ticks": ""
             }
            },
            "marker": {
             "colorbar": {
              "outlinewidth": 0,
              "ticks": ""
             }
            },
            "type": "scatter3d"
           }
          ],
          "scattercarpet": [
           {
            "marker": {
             "colorbar": {
              "outlinewidth": 0,
              "ticks": ""
             }
            },
            "type": "scattercarpet"
           }
          ],
          "scattergeo": [
           {
            "marker": {
             "colorbar": {
              "outlinewidth": 0,
              "ticks": ""
             }
            },
            "type": "scattergeo"
           }
          ],
          "scattergl": [
           {
            "marker": {
             "colorbar": {
              "outlinewidth": 0,
              "ticks": ""
             }
            },
            "type": "scattergl"
           }
          ],
          "scattermapbox": [
           {
            "marker": {
             "colorbar": {
              "outlinewidth": 0,
              "ticks": ""
             }
            },
            "type": "scattermapbox"
           }
          ],
          "scatterpolar": [
           {
            "marker": {
             "colorbar": {
              "outlinewidth": 0,
              "ticks": ""
             }
            },
            "type": "scatterpolar"
           }
          ],
          "scatterpolargl": [
           {
            "marker": {
             "colorbar": {
              "outlinewidth": 0,
              "ticks": ""
             }
            },
            "type": "scatterpolargl"
           }
          ],
          "scatterternary": [
           {
            "marker": {
             "colorbar": {
              "outlinewidth": 0,
              "ticks": ""
             }
            },
            "type": "scatterternary"
           }
          ],
          "surface": [
           {
            "colorbar": {
             "outlinewidth": 0,
             "ticks": ""
            },
            "colorscale": [
             [
              0,
              "#0d0887"
             ],
             [
              0.1111111111111111,
              "#46039f"
             ],
             [
              0.2222222222222222,
              "#7201a8"
             ],
             [
              0.3333333333333333,
              "#9c179e"
             ],
             [
              0.4444444444444444,
              "#bd3786"
             ],
             [
              0.5555555555555556,
              "#d8576b"
             ],
             [
              0.6666666666666666,
              "#ed7953"
             ],
             [
              0.7777777777777778,
              "#fb9f3a"
             ],
             [
              0.8888888888888888,
              "#fdca26"
             ],
             [
              1,
              "#f0f921"
             ]
            ],
            "type": "surface"
           }
          ],
          "table": [
           {
            "cells": {
             "fill": {
              "color": "#EBF0F8"
             },
             "line": {
              "color": "white"
             }
            },
            "header": {
             "fill": {
              "color": "#C8D4E3"
             },
             "line": {
              "color": "white"
             }
            },
            "type": "table"
           }
          ]
         },
         "layout": {
          "annotationdefaults": {
           "arrowcolor": "#2a3f5f",
           "arrowhead": 0,
           "arrowwidth": 1
          },
          "autotypenumbers": "strict",
          "coloraxis": {
           "colorbar": {
            "outlinewidth": 0,
            "ticks": ""
           }
          },
          "colorscale": {
           "diverging": [
            [
             0,
             "#8e0152"
            ],
            [
             0.1,
             "#c51b7d"
            ],
            [
             0.2,
             "#de77ae"
            ],
            [
             0.3,
             "#f1b6da"
            ],
            [
             0.4,
             "#fde0ef"
            ],
            [
             0.5,
             "#f7f7f7"
            ],
            [
             0.6,
             "#e6f5d0"
            ],
            [
             0.7,
             "#b8e186"
            ],
            [
             0.8,
             "#7fbc41"
            ],
            [
             0.9,
             "#4d9221"
            ],
            [
             1,
             "#276419"
            ]
           ],
           "sequential": [
            [
             0,
             "#0d0887"
            ],
            [
             0.1111111111111111,
             "#46039f"
            ],
            [
             0.2222222222222222,
             "#7201a8"
            ],
            [
             0.3333333333333333,
             "#9c179e"
            ],
            [
             0.4444444444444444,
             "#bd3786"
            ],
            [
             0.5555555555555556,
             "#d8576b"
            ],
            [
             0.6666666666666666,
             "#ed7953"
            ],
            [
             0.7777777777777778,
             "#fb9f3a"
            ],
            [
             0.8888888888888888,
             "#fdca26"
            ],
            [
             1,
             "#f0f921"
            ]
           ],
           "sequentialminus": [
            [
             0,
             "#0d0887"
            ],
            [
             0.1111111111111111,
             "#46039f"
            ],
            [
             0.2222222222222222,
             "#7201a8"
            ],
            [
             0.3333333333333333,
             "#9c179e"
            ],
            [
             0.4444444444444444,
             "#bd3786"
            ],
            [
             0.5555555555555556,
             "#d8576b"
            ],
            [
             0.6666666666666666,
             "#ed7953"
            ],
            [
             0.7777777777777778,
             "#fb9f3a"
            ],
            [
             0.8888888888888888,
             "#fdca26"
            ],
            [
             1,
             "#f0f921"
            ]
           ]
          },
          "colorway": [
           "#636efa",
           "#EF553B",
           "#00cc96",
           "#ab63fa",
           "#FFA15A",
           "#19d3f3",
           "#FF6692",
           "#B6E880",
           "#FF97FF",
           "#FECB52"
          ],
          "font": {
           "color": "#2a3f5f"
          },
          "geo": {
           "bgcolor": "white",
           "lakecolor": "white",
           "landcolor": "#E5ECF6",
           "showlakes": true,
           "showland": true,
           "subunitcolor": "white"
          },
          "hoverlabel": {
           "align": "left"
          },
          "hovermode": "closest",
          "mapbox": {
           "style": "light"
          },
          "paper_bgcolor": "white",
          "plot_bgcolor": "#E5ECF6",
          "polar": {
           "angularaxis": {
            "gridcolor": "white",
            "linecolor": "white",
            "ticks": ""
           },
           "bgcolor": "#E5ECF6",
           "radialaxis": {
            "gridcolor": "white",
            "linecolor": "white",
            "ticks": ""
           }
          },
          "scene": {
           "xaxis": {
            "backgroundcolor": "#E5ECF6",
            "gridcolor": "white",
            "gridwidth": 2,
            "linecolor": "white",
            "showbackground": true,
            "ticks": "",
            "zerolinecolor": "white"
           },
           "yaxis": {
            "backgroundcolor": "#E5ECF6",
            "gridcolor": "white",
            "gridwidth": 2,
            "linecolor": "white",
            "showbackground": true,
            "ticks": "",
            "zerolinecolor": "white"
           },
           "zaxis": {
            "backgroundcolor": "#E5ECF6",
            "gridcolor": "white",
            "gridwidth": 2,
            "linecolor": "white",
            "showbackground": true,
            "ticks": "",
            "zerolinecolor": "white"
           }
          },
          "shapedefaults": {
           "line": {
            "color": "#2a3f5f"
           }
          },
          "ternary": {
           "aaxis": {
            "gridcolor": "white",
            "linecolor": "white",
            "ticks": ""
           },
           "baxis": {
            "gridcolor": "white",
            "linecolor": "white",
            "ticks": ""
           },
           "bgcolor": "#E5ECF6",
           "caxis": {
            "gridcolor": "white",
            "linecolor": "white",
            "ticks": ""
           }
          },
          "title": {
           "x": 0.05
          },
          "xaxis": {
           "automargin": true,
           "gridcolor": "white",
           "linecolor": "white",
           "ticks": "",
           "title": {
            "standoff": 15
           },
           "zerolinecolor": "white",
           "zerolinewidth": 2
          },
          "yaxis": {
           "automargin": true,
           "gridcolor": "white",
           "linecolor": "white",
           "ticks": "",
           "title": {
            "standoff": 15
           },
           "zerolinecolor": "white",
           "zerolinewidth": 2
          }
         }
        },
        "title": {
         "text": "Средняя стоимость ТАП в УЕТ за 2022 год"
        },
        "xaxis": {
         "anchor": "y",
         "domain": [
          0,
          1
         ],
         "title": {
          "text": "Врач"
         }
        },
        "yaxis": {
         "anchor": "x",
         "domain": [
          0,
          1
         ],
         "title": {
          "text": "УЕТ"
         }
        }
       }
      },
      "text/html": [
       "<div>                            <div id=\"e05496e5-35b1-44b3-9645-1a7ab1653506\" class=\"plotly-graph-div\" style=\"height:525px; width:100%;\"></div>            <script type=\"text/javascript\">                require([\"plotly\"], function(Plotly) {                    window.PLOTLYENV=window.PLOTLYENV || {};                                    if (document.getElementById(\"e05496e5-35b1-44b3-9645-1a7ab1653506\")) {                    Plotly.newPlot(                        \"e05496e5-35b1-44b3-9645-1a7ab1653506\",                        [{\"alignmentgroup\":\"True\",\"hovertemplate\":\"\\u0412\\u0440\\u0430\\u0447=%{x}<br>avg_uet=%{y}<extra></extra>\",\"legendgroup\":\"\",\"marker\":{\"color\":\"#636efa\",\"pattern\":{\"shape\":\"\"}},\"name\":\"\",\"offsetgroup\":\"\",\"orientation\":\"v\",\"showlegend\":false,\"textposition\":\"auto\",\"type\":\"bar\",\"x\":[\"\\u041a\\u043e\\u0432\\u0430\\u043b\\u0435\\u043d\\u043a\\u043e \\u041e\\u043b\\u044c\\u0433\\u0430 \\u042d\\u0434\\u0443\\u0430\\u0440\\u0434\\u043e\\u0432\\u043d\\u0430\",\"\\u0427\\u0438\\u0436\\u043e\\u0432\\u0430 \\u0415\\u043b\\u0435\\u043d\\u0430 \\u0412\\u043b\\u0430\\u0434\\u0438\\u043c\\u0438\\u0440\\u043e\\u0432\\u043d\\u0430\",\"\\u041f\\u0443\\u0437\\u0430\\u043d\\u043e\\u0432\\u0430 \\u041b\\u0438\\u0434\\u0438\\u044f \\u0421\\u0435\\u0440\\u0433\\u0435\\u0435\\u0432\\u043d\\u0430\",\"\\u041c\\u043a\\u0440\\u0442\\u0447\\u044f\\u043d \\u0422\\u0430\\u0440\\u043e\\u043d \\u0410\\u0440\\u0441\\u0435\\u043d\\u043e\\u0432\\u0438\\u0447\",\"\\u0412\\u043e\\u043b\\u043e\\u0434\\u0438\\u043d \\u041f\\u0430\\u0432\\u0435\\u043b \\u042e\\u0440\\u044c\\u0435\\u0432\\u0438\\u0447\",\"\\u0421\\u043a\\u0430\\u043b\\u043a\\u043e\\u0432\\u0438\\u0447 \\u0418\\u043d\\u043d\\u0430 \\u0412\\u0430\\u043b\\u0435\\u0440\\u044c\\u0435\\u0432\\u043d\\u0430\",\"\\u041a\\u0430\\u043c\\u044b\\u043d\\u043e\\u0432\\u0430 \\u041d\\u0430\\u0442\\u0430\\u043b\\u0438\\u044f \\u0412\\u0430\\u043b\\u0435\\u0440\\u0438\\u0435\\u0432\\u043d\\u0430\",\"\\u041a\\u043e\\u0432\\u0448\\u043e\\u0432 \\u0410\\u043b\\u0435\\u043a\\u0441\\u0430\\u043d\\u0434\\u0440 \\u0410\\u043b\\u0435\\u043a\\u0441\\u0430\\u043d\\u0434\\u0440\\u043e\\u0432\\u0438\\u0447\",\"\\u041b\\u043e\\u043f\\u0430\\u0442\\u043a\\u0438\\u043d\\u0430 \\u0410\\u043b\\u0451\\u043d\\u0430 \\u0421\\u0435\\u0440\\u0433\\u0435\\u0435\\u0432\\u043d\\u0430\",\"\\u0412\\u043b\\u0430\\u0441\\u043e\\u0432\\u0430 \\u0410\\u043b\\u044c\\u0444\\u0438\\u044f \\u041b\\u044f\\u0431\\u0438\\u0431\\u043e\\u0432\\u043d\\u0430\",\"\\u041b\\u0438\\u0442\\u0432\\u0438\\u043d\\u043e\\u0432\\u0430 \\u041d\\u0438\\u043d\\u0430 \\u0410\\u043b\\u0435\\u043a\\u0441\\u0435\\u0435\\u0432\\u043d\\u0430\",\"\\u0413\\u043e\\u0440\\u0431\\u0438\\u043a\\u043e\\u0432\\u0430 \\u042d\\u043b\\u044c\\u0444\\u0438\\u044f \\u0420\\u0430\\u0448\\u0438\\u0442\\u043e\\u0432\\u043d\\u0430\",\"\\u041d\\u0438\\u043a\\u043e\\u043b\\u0430\\u0435\\u0432\\u0430 \\u041d\\u0430\\u0434\\u0435\\u0436\\u0434\\u0430 \\u0413\\u0440\\u0438\\u0433\\u043e\\u0440\\u044c\\u0435\\u0432\\u043d\\u0430\",\"\\u041e\\u043b\\u044c\\u0445\\u043e\\u0432\\u0441\\u043a\\u0430\\u044f \\u0410\\u043b\\u044c\\u0431\\u0438\\u043d\\u0430 \\u0412\\u043b\\u0430\\u0434\\u0438\\u043c\\u0438\\u0440\\u043e\\u0432\\u043d\\u0430\",\"\\u041a\\u0443\\u043a\\u0443\\u0448\\u043a\\u0438\\u043d\\u0430 \\u041b\\u0430\\u0440\\u0438\\u0441\\u0430 \\u0420\\u0430\\u043c\\u0437\\u0430\\u043d\\u043e\\u0432\\u043d\\u0430\",\"\\u0413\\u0432\\u043e\\u0437\\u0434\\u0435\\u0432\\u0430 \\u0422\\u0430\\u0442\\u044c\\u044f\\u043d\\u0430 \\u0410\\u043d\\u0430\\u0442\\u043e\\u043b\\u044c\\u0435\\u0432\\u043d\\u0430\",\"\\u0417\\u0430\\u0445\\u0430\\u0440\\u043e\\u0432 \\u0418\\u0432\\u0430\\u043d \\u0412\\u043b\\u0430\\u0434\\u0438\\u043c\\u0438\\u0440\\u043e\\u0432\\u0438\\u0447\",\"\\u041c\\u043e\\u0440\\u043e\\u0448\\u0435\\u043d\\u043a\\u043e\\u0432\\u0430 \\u0413\\u0443\\u043b\\u044c\\u043c\\u0438\\u0440\\u0430 \\u0410\\u0431\\u044b\\u043b\\u043a\\u0430\\u043a\\u043e\\u0432\\u043d\\u0430\",\"\\u0410\\u043b\\u0435\\u043a\\u0441\\u0430\\u043d\\u0434\\u0440\\u043e\\u0432\\u0430 \\u0421\\u0432\\u0435\\u0442\\u043b\\u0430\\u043d\\u0430 \\u0412\\u0438\\u043a\\u0442\\u043e\\u0440\\u043e\\u0432\\u043d\\u0430\",\"\\u041c\\u0430\\u043a\\u0441\\u0438\\u043c\\u0435\\u0446 \\u0418\\u0440\\u0438\\u043d\\u0430 \\u0418\\u0432\\u0430\\u043d\\u043e\\u0432\\u043d\\u0430\",\"\\u041a\\u043e\\u043b\\u0435\\u0441\\u043e\\u0432\\u0430 \\u041d\\u0430\\u0442\\u0430\\u043b\\u044c\\u044f \\u0412\\u0438\\u043a\\u0442\\u043e\\u0440\\u043e\\u0432\\u043d\\u0430\",\"\\u0417\\u0430\\u0432\\u0433\\u043e\\u0440\\u043e\\u0434\\u043d\\u044b\\u0439 \\u0421\\u0435\\u0440\\u0433\\u0435\\u0439 \\u0412\\u0430\\u043b\\u0435\\u0440\\u0438\\u0430\\u043d\\u043e\\u0432\\u0438\\u0447\",\"\\u0412\\u043e\\u043b\\u043e\\u0434\\u044c\\u043a\\u043e \\u0412\\u0430\\u043b\\u0435\\u043d\\u0442\\u0438\\u043d\\u0430 \\u0418\\u0432\\u0430\\u043d\\u043e\\u0432\\u043d\\u0430\",\"\\u0427\\u0438\\u0447\\u0438\\u043a\\u0438\\u043d\\u0430 \\u0413\\u0430\\u043b\\u0438\\u043d\\u0430 \\u041f\\u0430\\u0432\\u043b\\u043e\\u0432\\u043d\\u0430\",\"\\u0410\\u0440\\u0443\\u0442\\u044e\\u043d\\u044f\\u043d \\u0410\\u0440\\u0443\\u0442\\u044e\\u043d \\u041b\\u0435\\u0432\\u043e\\u043d\\u043e\\u0432\\u0438\\u0447\",\"\\u0420\\u044b\\u0431\\u0430\\u043a \\u041b\\u0438\\u043b\\u0438\\u044f \\u0421\\u0435\\u0440\\u0433\\u0435\\u0435\\u0432\\u043d\\u0430\",\"\\u041a\\u043e\\u0432\\u0430\\u043b\\u0435\\u043d\\u043a\\u043e \\u041e\\u043b\\u044c\\u0433\\u0430 \\u042d\\u0434\\u0443\\u0430\\u0440\\u0434\\u043e\\u0432\\u043d\\u0430 \\u0444\\u0438\\u0437\\u0438\\u043e\"],\"xaxis\":\"x\",\"y\":[15.72,15.15,14.9,14.69,14.56,14.55,12.8,12.63,12.51,12.21,12.16,11.89,11.77,11.58,11.56,11.5,11.48,11.31,10.96,10.75,5.79,5.05,4.94,4.62,4.49,4.26,3.17],\"yaxis\":\"y\"}],                        {\"barmode\":\"relative\",\"legend\":{\"tracegroupgap\":0},\"template\":{\"data\":{\"bar\":[{\"error_x\":{\"color\":\"#2a3f5f\"},\"error_y\":{\"color\":\"#2a3f5f\"},\"marker\":{\"line\":{\"color\":\"#E5ECF6\",\"width\":0.5},\"pattern\":{\"fillmode\":\"overlay\",\"size\":10,\"solidity\":0.2}},\"type\":\"bar\"}],\"barpolar\":[{\"marker\":{\"line\":{\"color\":\"#E5ECF6\",\"width\":0.5},\"pattern\":{\"fillmode\":\"overlay\",\"size\":10,\"solidity\":0.2}},\"type\":\"barpolar\"}],\"carpet\":[{\"aaxis\":{\"endlinecolor\":\"#2a3f5f\",\"gridcolor\":\"white\",\"linecolor\":\"white\",\"minorgridcolor\":\"white\",\"startlinecolor\":\"#2a3f5f\"},\"baxis\":{\"endlinecolor\":\"#2a3f5f\",\"gridcolor\":\"white\",\"linecolor\":\"white\",\"minorgridcolor\":\"white\",\"startlinecolor\":\"#2a3f5f\"},\"type\":\"carpet\"}],\"choropleth\":[{\"colorbar\":{\"outlinewidth\":0,\"ticks\":\"\"},\"type\":\"choropleth\"}],\"contour\":[{\"colorbar\":{\"outlinewidth\":0,\"ticks\":\"\"},\"colorscale\":[[0.0,\"#0d0887\"],[0.1111111111111111,\"#46039f\"],[0.2222222222222222,\"#7201a8\"],[0.3333333333333333,\"#9c179e\"],[0.4444444444444444,\"#bd3786\"],[0.5555555555555556,\"#d8576b\"],[0.6666666666666666,\"#ed7953\"],[0.7777777777777778,\"#fb9f3a\"],[0.8888888888888888,\"#fdca26\"],[1.0,\"#f0f921\"]],\"type\":\"contour\"}],\"contourcarpet\":[{\"colorbar\":{\"outlinewidth\":0,\"ticks\":\"\"},\"type\":\"contourcarpet\"}],\"heatmap\":[{\"colorbar\":{\"outlinewidth\":0,\"ticks\":\"\"},\"colorscale\":[[0.0,\"#0d0887\"],[0.1111111111111111,\"#46039f\"],[0.2222222222222222,\"#7201a8\"],[0.3333333333333333,\"#9c179e\"],[0.4444444444444444,\"#bd3786\"],[0.5555555555555556,\"#d8576b\"],[0.6666666666666666,\"#ed7953\"],[0.7777777777777778,\"#fb9f3a\"],[0.8888888888888888,\"#fdca26\"],[1.0,\"#f0f921\"]],\"type\":\"heatmap\"}],\"heatmapgl\":[{\"colorbar\":{\"outlinewidth\":0,\"ticks\":\"\"},\"colorscale\":[[0.0,\"#0d0887\"],[0.1111111111111111,\"#46039f\"],[0.2222222222222222,\"#7201a8\"],[0.3333333333333333,\"#9c179e\"],[0.4444444444444444,\"#bd3786\"],[0.5555555555555556,\"#d8576b\"],[0.6666666666666666,\"#ed7953\"],[0.7777777777777778,\"#fb9f3a\"],[0.8888888888888888,\"#fdca26\"],[1.0,\"#f0f921\"]],\"type\":\"heatmapgl\"}],\"histogram\":[{\"marker\":{\"pattern\":{\"fillmode\":\"overlay\",\"size\":10,\"solidity\":0.2}},\"type\":\"histogram\"}],\"histogram2d\":[{\"colorbar\":{\"outlinewidth\":0,\"ticks\":\"\"},\"colorscale\":[[0.0,\"#0d0887\"],[0.1111111111111111,\"#46039f\"],[0.2222222222222222,\"#7201a8\"],[0.3333333333333333,\"#9c179e\"],[0.4444444444444444,\"#bd3786\"],[0.5555555555555556,\"#d8576b\"],[0.6666666666666666,\"#ed7953\"],[0.7777777777777778,\"#fb9f3a\"],[0.8888888888888888,\"#fdca26\"],[1.0,\"#f0f921\"]],\"type\":\"histogram2d\"}],\"histogram2dcontour\":[{\"colorbar\":{\"outlinewidth\":0,\"ticks\":\"\"},\"colorscale\":[[0.0,\"#0d0887\"],[0.1111111111111111,\"#46039f\"],[0.2222222222222222,\"#7201a8\"],[0.3333333333333333,\"#9c179e\"],[0.4444444444444444,\"#bd3786\"],[0.5555555555555556,\"#d8576b\"],[0.6666666666666666,\"#ed7953\"],[0.7777777777777778,\"#fb9f3a\"],[0.8888888888888888,\"#fdca26\"],[1.0,\"#f0f921\"]],\"type\":\"histogram2dcontour\"}],\"mesh3d\":[{\"colorbar\":{\"outlinewidth\":0,\"ticks\":\"\"},\"type\":\"mesh3d\"}],\"parcoords\":[{\"line\":{\"colorbar\":{\"outlinewidth\":0,\"ticks\":\"\"}},\"type\":\"parcoords\"}],\"pie\":[{\"automargin\":true,\"type\":\"pie\"}],\"scatter\":[{\"marker\":{\"colorbar\":{\"outlinewidth\":0,\"ticks\":\"\"}},\"type\":\"scatter\"}],\"scatter3d\":[{\"line\":{\"colorbar\":{\"outlinewidth\":0,\"ticks\":\"\"}},\"marker\":{\"colorbar\":{\"outlinewidth\":0,\"ticks\":\"\"}},\"type\":\"scatter3d\"}],\"scattercarpet\":[{\"marker\":{\"colorbar\":{\"outlinewidth\":0,\"ticks\":\"\"}},\"type\":\"scattercarpet\"}],\"scattergeo\":[{\"marker\":{\"colorbar\":{\"outlinewidth\":0,\"ticks\":\"\"}},\"type\":\"scattergeo\"}],\"scattergl\":[{\"marker\":{\"colorbar\":{\"outlinewidth\":0,\"ticks\":\"\"}},\"type\":\"scattergl\"}],\"scattermapbox\":[{\"marker\":{\"colorbar\":{\"outlinewidth\":0,\"ticks\":\"\"}},\"type\":\"scattermapbox\"}],\"scatterpolar\":[{\"marker\":{\"colorbar\":{\"outlinewidth\":0,\"ticks\":\"\"}},\"type\":\"scatterpolar\"}],\"scatterpolargl\":[{\"marker\":{\"colorbar\":{\"outlinewidth\":0,\"ticks\":\"\"}},\"type\":\"scatterpolargl\"}],\"scatterternary\":[{\"marker\":{\"colorbar\":{\"outlinewidth\":0,\"ticks\":\"\"}},\"type\":\"scatterternary\"}],\"surface\":[{\"colorbar\":{\"outlinewidth\":0,\"ticks\":\"\"},\"colorscale\":[[0.0,\"#0d0887\"],[0.1111111111111111,\"#46039f\"],[0.2222222222222222,\"#7201a8\"],[0.3333333333333333,\"#9c179e\"],[0.4444444444444444,\"#bd3786\"],[0.5555555555555556,\"#d8576b\"],[0.6666666666666666,\"#ed7953\"],[0.7777777777777778,\"#fb9f3a\"],[0.8888888888888888,\"#fdca26\"],[1.0,\"#f0f921\"]],\"type\":\"surface\"}],\"table\":[{\"cells\":{\"fill\":{\"color\":\"#EBF0F8\"},\"line\":{\"color\":\"white\"}},\"header\":{\"fill\":{\"color\":\"#C8D4E3\"},\"line\":{\"color\":\"white\"}},\"type\":\"table\"}]},\"layout\":{\"annotationdefaults\":{\"arrowcolor\":\"#2a3f5f\",\"arrowhead\":0,\"arrowwidth\":1},\"autotypenumbers\":\"strict\",\"coloraxis\":{\"colorbar\":{\"outlinewidth\":0,\"ticks\":\"\"}},\"colorscale\":{\"diverging\":[[0,\"#8e0152\"],[0.1,\"#c51b7d\"],[0.2,\"#de77ae\"],[0.3,\"#f1b6da\"],[0.4,\"#fde0ef\"],[0.5,\"#f7f7f7\"],[0.6,\"#e6f5d0\"],[0.7,\"#b8e186\"],[0.8,\"#7fbc41\"],[0.9,\"#4d9221\"],[1,\"#276419\"]],\"sequential\":[[0.0,\"#0d0887\"],[0.1111111111111111,\"#46039f\"],[0.2222222222222222,\"#7201a8\"],[0.3333333333333333,\"#9c179e\"],[0.4444444444444444,\"#bd3786\"],[0.5555555555555556,\"#d8576b\"],[0.6666666666666666,\"#ed7953\"],[0.7777777777777778,\"#fb9f3a\"],[0.8888888888888888,\"#fdca26\"],[1.0,\"#f0f921\"]],\"sequentialminus\":[[0.0,\"#0d0887\"],[0.1111111111111111,\"#46039f\"],[0.2222222222222222,\"#7201a8\"],[0.3333333333333333,\"#9c179e\"],[0.4444444444444444,\"#bd3786\"],[0.5555555555555556,\"#d8576b\"],[0.6666666666666666,\"#ed7953\"],[0.7777777777777778,\"#fb9f3a\"],[0.8888888888888888,\"#fdca26\"],[1.0,\"#f0f921\"]]},\"colorway\":[\"#636efa\",\"#EF553B\",\"#00cc96\",\"#ab63fa\",\"#FFA15A\",\"#19d3f3\",\"#FF6692\",\"#B6E880\",\"#FF97FF\",\"#FECB52\"],\"font\":{\"color\":\"#2a3f5f\"},\"geo\":{\"bgcolor\":\"white\",\"lakecolor\":\"white\",\"landcolor\":\"#E5ECF6\",\"showlakes\":true,\"showland\":true,\"subunitcolor\":\"white\"},\"hoverlabel\":{\"align\":\"left\"},\"hovermode\":\"closest\",\"mapbox\":{\"style\":\"light\"},\"paper_bgcolor\":\"white\",\"plot_bgcolor\":\"#E5ECF6\",\"polar\":{\"angularaxis\":{\"gridcolor\":\"white\",\"linecolor\":\"white\",\"ticks\":\"\"},\"bgcolor\":\"#E5ECF6\",\"radialaxis\":{\"gridcolor\":\"white\",\"linecolor\":\"white\",\"ticks\":\"\"}},\"scene\":{\"xaxis\":{\"backgroundcolor\":\"#E5ECF6\",\"gridcolor\":\"white\",\"gridwidth\":2,\"linecolor\":\"white\",\"showbackground\":true,\"ticks\":\"\",\"zerolinecolor\":\"white\"},\"yaxis\":{\"backgroundcolor\":\"#E5ECF6\",\"gridcolor\":\"white\",\"gridwidth\":2,\"linecolor\":\"white\",\"showbackground\":true,\"ticks\":\"\",\"zerolinecolor\":\"white\"},\"zaxis\":{\"backgroundcolor\":\"#E5ECF6\",\"gridcolor\":\"white\",\"gridwidth\":2,\"linecolor\":\"white\",\"showbackground\":true,\"ticks\":\"\",\"zerolinecolor\":\"white\"}},\"shapedefaults\":{\"line\":{\"color\":\"#2a3f5f\"}},\"ternary\":{\"aaxis\":{\"gridcolor\":\"white\",\"linecolor\":\"white\",\"ticks\":\"\"},\"baxis\":{\"gridcolor\":\"white\",\"linecolor\":\"white\",\"ticks\":\"\"},\"bgcolor\":\"#E5ECF6\",\"caxis\":{\"gridcolor\":\"white\",\"linecolor\":\"white\",\"ticks\":\"\"}},\"title\":{\"x\":0.05},\"xaxis\":{\"automargin\":true,\"gridcolor\":\"white\",\"linecolor\":\"white\",\"ticks\":\"\",\"title\":{\"standoff\":15},\"zerolinecolor\":\"white\",\"zerolinewidth\":2},\"yaxis\":{\"automargin\":true,\"gridcolor\":\"white\",\"linecolor\":\"white\",\"ticks\":\"\",\"title\":{\"standoff\":15},\"zerolinecolor\":\"white\",\"zerolinewidth\":2}}},\"title\":{\"text\":\"\\u0421\\u0440\\u0435\\u0434\\u043d\\u044f\\u044f \\u0441\\u0442\\u043e\\u0438\\u043c\\u043e\\u0441\\u0442\\u044c \\u0422\\u0410\\u041f \\u0432 \\u0423\\u0415\\u0422 \\u0437\\u0430 2022 \\u0433\\u043e\\u0434\"},\"xaxis\":{\"anchor\":\"y\",\"domain\":[0.0,1.0],\"title\":{\"text\":\"\\u0412\\u0440\\u0430\\u0447\"}},\"yaxis\":{\"anchor\":\"x\",\"domain\":[0.0,1.0],\"title\":{\"text\":\"\\u0423\\u0415\\u0422\"}}},                        {\"responsive\": true}                    ).then(function(){\n",
       "                            \n",
       "var gd = document.getElementById('e05496e5-35b1-44b3-9645-1a7ab1653506');\n",
       "var x = new MutationObserver(function (mutations, observer) {{\n",
       "        var display = window.getComputedStyle(gd).display;\n",
       "        if (!display || display === 'none') {{\n",
       "            console.log([gd, 'removed!']);\n",
       "            Plotly.purge(gd);\n",
       "            observer.disconnect();\n",
       "        }}\n",
       "}});\n",
       "\n",
       "// Listen for the removal of the full notebook cells\n",
       "var notebookContainer = gd.closest('#notebook-container');\n",
       "if (notebookContainer) {{\n",
       "    x.observe(notebookContainer, {childList: true});\n",
       "}}\n",
       "\n",
       "// Listen for the clearing of the current output cell\n",
       "var outputEl = gd.closest('.output');\n",
       "if (outputEl) {{\n",
       "    x.observe(outputEl, {childList: true});\n",
       "}}\n",
       "\n",
       "                        })                };                });            </script>        </div>"
      ]
     },
     "metadata": {},
     "output_type": "display_data"
    }
   ],
   "source": [
    "# Средняя стоимость ТАП в УЕТ по врачу\n",
    "\n",
    "px.bar(df_result.sort_values('avg_uet', ascending=False), \n",
    "       x='Врач',\n",
    "       y='avg_uet',\n",
    "       title=f'Средняя стоимость ТАП в УЕТ за {year} год') \\\n",
    "    .update_yaxes(title_text = 'УЕТ')"
   ]
  },
  {
   "cell_type": "code",
   "execution_count": 235,
   "metadata": {},
   "outputs": [
    {
     "data": {
      "application/vnd.plotly.v1+json": {
       "config": {
        "plotlyServerURL": "https://plot.ly"
       },
       "data": [
        {
         "alignmentgroup": "True",
         "hovertemplate": "Месяц=0122<br>Врач=%{x}<br>avg_uet=%{y}<extra></extra>",
         "legendgroup": "0122",
         "marker": {
          "color": "rgb(100.0, 100.0, 100.0)",
          "pattern": {
           "shape": ""
          }
         },
         "name": "0122",
         "offsetgroup": "0122",
         "orientation": "v",
         "showlegend": true,
         "textposition": "auto",
         "type": "bar",
         "x": [
          "Александрова Светлана Викторовна",
          "Арутюнян Арутюн Левонович",
          "Власова Альфия Лябибовна",
          "Володин Павел Юрьевич",
          "Володько Валентина Ивановна",
          "Гвоздева Татьяна Анатольевна",
          "Горбикова Эльфия Рашитовна",
          "Завгородный Сергей Валерианович",
          "Захаров Иван Владимирович",
          "Камынова Наталия Валериевна",
          "Коваленко Ольга Эдуардовна",
          "Коваленко Ольга Эдуардовна физио",
          "Ковшов Александр Александрович",
          "Колесова Наталья Викторовна",
          "Кукушкина Лариса Рамзановна",
          "Литвинова Нина Алексеевна",
          "Лопаткина Алёна Сергеевна",
          "Максимец Ирина Ивановна",
          "Мкртчян Тарон Арсенович",
          "Морошенкова Гульмира Абылкаковна",
          "Николаева Надежда Григорьевна",
          "Ольховская Альбина Владимировна",
          "Пузанова Лидия Сергеевна",
          "Рыбак Лилия Сергеевна",
          "Скалкович Инна Валерьевна",
          "Чижова Елена Владимировна",
          "Чичикина Галина Павловна"
         ],
         "xaxis": "x",
         "y": [
          11.56,
          4.46,
          11.91,
          10.46,
          5,
          12.01,
          11.41,
          4.9,
          12.16,
          11.37,
          15.98,
          3.31,
          12.53,
          5.8,
          5.44,
          12.61,
          13.43,
          12.33,
          12.31,
          12.97,
          10.23,
          11.47,
          16.29,
          4.13,
          14.22,
          15,
          4.68
         ],
         "yaxis": "y"
        },
        {
         "alignmentgroup": "True",
         "hovertemplate": "Месяц=0222<br>Врач=%{x}<br>avg_uet=%{y}<extra></extra>",
         "legendgroup": "0222",
         "marker": {
          "color": "rgb(131.0, 131.0, 131.0)",
          "pattern": {
           "shape": ""
          }
         },
         "name": "0222",
         "offsetgroup": "0222",
         "orientation": "v",
         "showlegend": true,
         "textposition": "auto",
         "type": "bar",
         "x": [
          "Александрова Светлана Викторовна",
          "Арутюнян Арутюн Левонович",
          "Власова Альфия Лябибовна",
          "Володин Павел Юрьевич",
          "Володько Валентина Ивановна",
          "Гвоздева Татьяна Анатольевна",
          "Горбикова Эльфия Рашитовна",
          "Завгородный Сергей Валерианович",
          "Захаров Иван Владимирович",
          "Камынова Наталия Валериевна",
          "Коваленко Ольга Эдуардовна",
          "Коваленко Ольга Эдуардовна физио",
          "Ковшов Александр Александрович",
          "Колесова Наталья Викторовна",
          "Кукушкина Лариса Рамзановна",
          "Литвинова Нина Алексеевна",
          "Лопаткина Алёна Сергеевна",
          "Максимец Ирина Ивановна",
          "Мкртчян Тарон Арсенович",
          "Морошенкова Гульмира Абылкаковна",
          "Николаева Надежда Григорьевна",
          "Ольховская Альбина Владимировна",
          "Пузанова Лидия Сергеевна",
          "Рыбак Лилия Сергеевна",
          "Скалкович Инна Валерьевна",
          "Чижова Елена Владимировна",
          "Чичикина Галина Павловна"
         ],
         "xaxis": "x",
         "y": [
          11.33,
          4.53,
          9.04,
          12.49,
          4.68,
          10.65,
          10.15,
          5.3,
          9.5,
          10.44,
          14.15,
          3.13,
          12.87,
          5.9,
          7.5,
          12.17,
          11.26,
          11.18,
          18.85,
          10.22,
          11.84,
          11.47,
          14.3,
          4.29,
          13.83,
          15.97,
          4.64
         ],
         "yaxis": "y"
        },
        {
         "alignmentgroup": "True",
         "hovertemplate": "Месяц=0322<br>Врач=%{x}<br>avg_uet=%{y}<extra></extra>",
         "legendgroup": "0322",
         "marker": {
          "color": "rgb(162.0, 162.0, 162.0)",
          "pattern": {
           "shape": ""
          }
         },
         "name": "0322",
         "offsetgroup": "0322",
         "orientation": "v",
         "showlegend": true,
         "textposition": "auto",
         "type": "bar",
         "x": [
          "Александрова Светлана Викторовна",
          "Арутюнян Арутюн Левонович",
          "Власова Альфия Лябибовна",
          "Володин Павел Юрьевич",
          "Володько Валентина Ивановна",
          "Гвоздева Татьяна Анатольевна",
          "Горбикова Эльфия Рашитовна",
          "Завгородный Сергей Валерианович",
          "Захаров Иван Владимирович",
          "Камынова Наталия Валериевна",
          "Коваленко Ольга Эдуардовна",
          "Коваленко Ольга Эдуардовна физио",
          "Ковшов Александр Александрович",
          "Колесова Наталья Викторовна",
          "Кукушкина Лариса Рамзановна",
          "Литвинова Нина Алексеевна",
          "Лопаткина Алёна Сергеевна",
          "Максимец Ирина Ивановна",
          "Мкртчян Тарон Арсенович",
          "Морошенкова Гульмира Абылкаковна",
          "Николаева Надежда Григорьевна",
          "Ольховская Альбина Владимировна",
          "Пузанова Лидия Сергеевна",
          "Рыбак Лилия Сергеевна",
          "Скалкович Инна Валерьевна",
          "Чижова Елена Владимировна",
          "Чичикина Галина Павловна"
         ],
         "xaxis": "x",
         "y": [
          10.71,
          4.45,
          13.87,
          18.05,
          4.96,
          11.88,
          13.25,
          5.11,
          11.96,
          14.73,
          16.95,
          3.2,
          12.74,
          5.92,
          10.94,
          12.56,
          13.13,
          10.61,
          15.85,
          11.65,
          12.25,
          12.56,
          14.69,
          4.32,
          15.01,
          15.76,
          4.64
         ],
         "yaxis": "y"
        },
        {
         "alignmentgroup": "True",
         "hovertemplate": "Месяц=0422<br>Врач=%{x}<br>avg_uet=%{y}<extra></extra>",
         "legendgroup": "0422",
         "marker": {
          "color": "rgb(193.0, 193.0, 193.0)",
          "pattern": {
           "shape": ""
          }
         },
         "name": "0422",
         "offsetgroup": "0422",
         "orientation": "v",
         "showlegend": true,
         "textposition": "auto",
         "type": "bar",
         "x": [
          "Александрова Светлана Викторовна",
          "Арутюнян Арутюн Левонович",
          "Власова Альфия Лябибовна",
          "Володин Павел Юрьевич",
          "Володько Валентина Ивановна",
          "Гвоздева Татьяна Анатольевна",
          "Горбикова Эльфия Рашитовна",
          "Завгородный Сергей Валерианович",
          "Захаров Иван Владимирович",
          "Камынова Наталия Валериевна",
          "Коваленко Ольга Эдуардовна",
          "Коваленко Ольга Эдуардовна физио",
          "Ковшов Александр Александрович",
          "Колесова Наталья Викторовна",
          "Кукушкина Лариса Рамзановна",
          "Литвинова Нина Алексеевна",
          "Лопаткина Алёна Сергеевна",
          "Максимец Ирина Ивановна",
          "Мкртчян Тарон Арсенович",
          "Морошенкова Гульмира Абылкаковна",
          "Николаева Надежда Григорьевна",
          "Ольховская Альбина Владимировна",
          "Пузанова Лидия Сергеевна",
          "Рыбак Лилия Сергеевна",
          "Скалкович Инна Валерьевна",
          "Чижова Елена Владимировна",
          "Чичикина Галина Павловна"
         ],
         "xaxis": "x",
         "y": [
          11.28,
          4.29,
          12.5,
          14.63,
          4.87,
          11,
          12.99,
          4.93,
          11.18,
          13.96,
          16.35,
          3.1,
          12.41,
          5.64,
          14.62,
          10.57,
          11.85,
          9.17,
          13.06,
          11.36,
          12.25,
          11.32,
          14.78,
          4.24,
          18.47,
          14.06,
          4.38
         ],
         "yaxis": "y"
        },
        {
         "alignmentgroup": "True",
         "hovertemplate": "Месяц=0522<br>Врач=%{x}<br>avg_uet=%{y}<extra></extra>",
         "legendgroup": "0522",
         "marker": {
          "color": "rgb(224.0, 224.0, 224.0)",
          "pattern": {
           "shape": ""
          }
         },
         "name": "0522",
         "offsetgroup": "0522",
         "orientation": "v",
         "showlegend": true,
         "textposition": "auto",
         "type": "bar",
         "x": [
          "Александрова Светлана Викторовна",
          "Арутюнян Арутюн Левонович",
          "Власова Альфия Лябибовна",
          "Володин Павел Юрьевич",
          "Володько Валентина Ивановна",
          "Горбикова Эльфия Рашитовна",
          "Завгородный Сергей Валерианович",
          "Захаров Иван Владимирович",
          "Камынова Наталия Валериевна",
          "Коваленко Ольга Эдуардовна",
          "Коваленко Ольга Эдуардовна физио",
          "Ковшов Александр Александрович",
          "Колесова Наталья Викторовна",
          "Кукушкина Лариса Рамзановна",
          "Литвинова Нина Алексеевна",
          "Лопаткина Алёна Сергеевна",
          "Максимец Ирина Ивановна",
          "Мкртчян Тарон Арсенович",
          "Морошенкова Гульмира Абылкаковна",
          "Николаева Надежда Григорьевна",
          "Ольховская Альбина Владимировна",
          "Пузанова Лидия Сергеевна",
          "Рыбак Лилия Сергеевна",
          "Скалкович Инна Валерьевна",
          "Чижова Елена Владимировна",
          "Чичикина Галина Павловна"
         ],
         "xaxis": "x",
         "y": [
          9.32,
          5.15,
          11.73,
          23.63,
          5.44,
          11.74,
          4.92,
          12.69,
          13.52,
          13.64,
          3.16,
          12.88,
          5.6,
          13.54,
          12.31,
          14.15,
          8.08,
          13.23,
          8.93,
          10.93,
          9.68,
          14.99,
          4.38,
          9.69,
          14.11,
          4.93
         ],
         "yaxis": "y"
        }
       ],
       "layout": {
        "barmode": "group",
        "legend": {
         "title": {
          "text": "Месяц"
         },
         "tracegroupgap": 0
        },
        "plot_bgcolor": "rgb(255,255,255)",
        "template": {
         "data": {
          "bar": [
           {
            "error_x": {
             "color": "#2a3f5f"
            },
            "error_y": {
             "color": "#2a3f5f"
            },
            "marker": {
             "line": {
              "color": "#E5ECF6",
              "width": 0.5
             },
             "pattern": {
              "fillmode": "overlay",
              "size": 10,
              "solidity": 0.2
             }
            },
            "type": "bar"
           }
          ],
          "barpolar": [
           {
            "marker": {
             "line": {
              "color": "#E5ECF6",
              "width": 0.5
             },
             "pattern": {
              "fillmode": "overlay",
              "size": 10,
              "solidity": 0.2
             }
            },
            "type": "barpolar"
           }
          ],
          "carpet": [
           {
            "aaxis": {
             "endlinecolor": "#2a3f5f",
             "gridcolor": "white",
             "linecolor": "white",
             "minorgridcolor": "white",
             "startlinecolor": "#2a3f5f"
            },
            "baxis": {
             "endlinecolor": "#2a3f5f",
             "gridcolor": "white",
             "linecolor": "white",
             "minorgridcolor": "white",
             "startlinecolor": "#2a3f5f"
            },
            "type": "carpet"
           }
          ],
          "choropleth": [
           {
            "colorbar": {
             "outlinewidth": 0,
             "ticks": ""
            },
            "type": "choropleth"
           }
          ],
          "contour": [
           {
            "colorbar": {
             "outlinewidth": 0,
             "ticks": ""
            },
            "colorscale": [
             [
              0,
              "#0d0887"
             ],
             [
              0.1111111111111111,
              "#46039f"
             ],
             [
              0.2222222222222222,
              "#7201a8"
             ],
             [
              0.3333333333333333,
              "#9c179e"
             ],
             [
              0.4444444444444444,
              "#bd3786"
             ],
             [
              0.5555555555555556,
              "#d8576b"
             ],
             [
              0.6666666666666666,
              "#ed7953"
             ],
             [
              0.7777777777777778,
              "#fb9f3a"
             ],
             [
              0.8888888888888888,
              "#fdca26"
             ],
             [
              1,
              "#f0f921"
             ]
            ],
            "type": "contour"
           }
          ],
          "contourcarpet": [
           {
            "colorbar": {
             "outlinewidth": 0,
             "ticks": ""
            },
            "type": "contourcarpet"
           }
          ],
          "heatmap": [
           {
            "colorbar": {
             "outlinewidth": 0,
             "ticks": ""
            },
            "colorscale": [
             [
              0,
              "#0d0887"
             ],
             [
              0.1111111111111111,
              "#46039f"
             ],
             [
              0.2222222222222222,
              "#7201a8"
             ],
             [
              0.3333333333333333,
              "#9c179e"
             ],
             [
              0.4444444444444444,
              "#bd3786"
             ],
             [
              0.5555555555555556,
              "#d8576b"
             ],
             [
              0.6666666666666666,
              "#ed7953"
             ],
             [
              0.7777777777777778,
              "#fb9f3a"
             ],
             [
              0.8888888888888888,
              "#fdca26"
             ],
             [
              1,
              "#f0f921"
             ]
            ],
            "type": "heatmap"
           }
          ],
          "heatmapgl": [
           {
            "colorbar": {
             "outlinewidth": 0,
             "ticks": ""
            },
            "colorscale": [
             [
              0,
              "#0d0887"
             ],
             [
              0.1111111111111111,
              "#46039f"
             ],
             [
              0.2222222222222222,
              "#7201a8"
             ],
             [
              0.3333333333333333,
              "#9c179e"
             ],
             [
              0.4444444444444444,
              "#bd3786"
             ],
             [
              0.5555555555555556,
              "#d8576b"
             ],
             [
              0.6666666666666666,
              "#ed7953"
             ],
             [
              0.7777777777777778,
              "#fb9f3a"
             ],
             [
              0.8888888888888888,
              "#fdca26"
             ],
             [
              1,
              "#f0f921"
             ]
            ],
            "type": "heatmapgl"
           }
          ],
          "histogram": [
           {
            "marker": {
             "pattern": {
              "fillmode": "overlay",
              "size": 10,
              "solidity": 0.2
             }
            },
            "type": "histogram"
           }
          ],
          "histogram2d": [
           {
            "colorbar": {
             "outlinewidth": 0,
             "ticks": ""
            },
            "colorscale": [
             [
              0,
              "#0d0887"
             ],
             [
              0.1111111111111111,
              "#46039f"
             ],
             [
              0.2222222222222222,
              "#7201a8"
             ],
             [
              0.3333333333333333,
              "#9c179e"
             ],
             [
              0.4444444444444444,
              "#bd3786"
             ],
             [
              0.5555555555555556,
              "#d8576b"
             ],
             [
              0.6666666666666666,
              "#ed7953"
             ],
             [
              0.7777777777777778,
              "#fb9f3a"
             ],
             [
              0.8888888888888888,
              "#fdca26"
             ],
             [
              1,
              "#f0f921"
             ]
            ],
            "type": "histogram2d"
           }
          ],
          "histogram2dcontour": [
           {
            "colorbar": {
             "outlinewidth": 0,
             "ticks": ""
            },
            "colorscale": [
             [
              0,
              "#0d0887"
             ],
             [
              0.1111111111111111,
              "#46039f"
             ],
             [
              0.2222222222222222,
              "#7201a8"
             ],
             [
              0.3333333333333333,
              "#9c179e"
             ],
             [
              0.4444444444444444,
              "#bd3786"
             ],
             [
              0.5555555555555556,
              "#d8576b"
             ],
             [
              0.6666666666666666,
              "#ed7953"
             ],
             [
              0.7777777777777778,
              "#fb9f3a"
             ],
             [
              0.8888888888888888,
              "#fdca26"
             ],
             [
              1,
              "#f0f921"
             ]
            ],
            "type": "histogram2dcontour"
           }
          ],
          "mesh3d": [
           {
            "colorbar": {
             "outlinewidth": 0,
             "ticks": ""
            },
            "type": "mesh3d"
           }
          ],
          "parcoords": [
           {
            "line": {
             "colorbar": {
              "outlinewidth": 0,
              "ticks": ""
             }
            },
            "type": "parcoords"
           }
          ],
          "pie": [
           {
            "automargin": true,
            "type": "pie"
           }
          ],
          "scatter": [
           {
            "marker": {
             "colorbar": {
              "outlinewidth": 0,
              "ticks": ""
             }
            },
            "type": "scatter"
           }
          ],
          "scatter3d": [
           {
            "line": {
             "colorbar": {
              "outlinewidth": 0,
              "ticks": ""
             }
            },
            "marker": {
             "colorbar": {
              "outlinewidth": 0,
              "ticks": ""
             }
            },
            "type": "scatter3d"
           }
          ],
          "scattercarpet": [
           {
            "marker": {
             "colorbar": {
              "outlinewidth": 0,
              "ticks": ""
             }
            },
            "type": "scattercarpet"
           }
          ],
          "scattergeo": [
           {
            "marker": {
             "colorbar": {
              "outlinewidth": 0,
              "ticks": ""
             }
            },
            "type": "scattergeo"
           }
          ],
          "scattergl": [
           {
            "marker": {
             "colorbar": {
              "outlinewidth": 0,
              "ticks": ""
             }
            },
            "type": "scattergl"
           }
          ],
          "scattermapbox": [
           {
            "marker": {
             "colorbar": {
              "outlinewidth": 0,
              "ticks": ""
             }
            },
            "type": "scattermapbox"
           }
          ],
          "scatterpolar": [
           {
            "marker": {
             "colorbar": {
              "outlinewidth": 0,
              "ticks": ""
             }
            },
            "type": "scatterpolar"
           }
          ],
          "scatterpolargl": [
           {
            "marker": {
             "colorbar": {
              "outlinewidth": 0,
              "ticks": ""
             }
            },
            "type": "scatterpolargl"
           }
          ],
          "scatterternary": [
           {
            "marker": {
             "colorbar": {
              "outlinewidth": 0,
              "ticks": ""
             }
            },
            "type": "scatterternary"
           }
          ],
          "surface": [
           {
            "colorbar": {
             "outlinewidth": 0,
             "ticks": ""
            },
            "colorscale": [
             [
              0,
              "#0d0887"
             ],
             [
              0.1111111111111111,
              "#46039f"
             ],
             [
              0.2222222222222222,
              "#7201a8"
             ],
             [
              0.3333333333333333,
              "#9c179e"
             ],
             [
              0.4444444444444444,
              "#bd3786"
             ],
             [
              0.5555555555555556,
              "#d8576b"
             ],
             [
              0.6666666666666666,
              "#ed7953"
             ],
             [
              0.7777777777777778,
              "#fb9f3a"
             ],
             [
              0.8888888888888888,
              "#fdca26"
             ],
             [
              1,
              "#f0f921"
             ]
            ],
            "type": "surface"
           }
          ],
          "table": [
           {
            "cells": {
             "fill": {
              "color": "#EBF0F8"
             },
             "line": {
              "color": "white"
             }
            },
            "header": {
             "fill": {
              "color": "#C8D4E3"
             },
             "line": {
              "color": "white"
             }
            },
            "type": "table"
           }
          ]
         },
         "layout": {
          "annotationdefaults": {
           "arrowcolor": "#2a3f5f",
           "arrowhead": 0,
           "arrowwidth": 1
          },
          "autotypenumbers": "strict",
          "coloraxis": {
           "colorbar": {
            "outlinewidth": 0,
            "ticks": ""
           }
          },
          "colorscale": {
           "diverging": [
            [
             0,
             "#8e0152"
            ],
            [
             0.1,
             "#c51b7d"
            ],
            [
             0.2,
             "#de77ae"
            ],
            [
             0.3,
             "#f1b6da"
            ],
            [
             0.4,
             "#fde0ef"
            ],
            [
             0.5,
             "#f7f7f7"
            ],
            [
             0.6,
             "#e6f5d0"
            ],
            [
             0.7,
             "#b8e186"
            ],
            [
             0.8,
             "#7fbc41"
            ],
            [
             0.9,
             "#4d9221"
            ],
            [
             1,
             "#276419"
            ]
           ],
           "sequential": [
            [
             0,
             "#0d0887"
            ],
            [
             0.1111111111111111,
             "#46039f"
            ],
            [
             0.2222222222222222,
             "#7201a8"
            ],
            [
             0.3333333333333333,
             "#9c179e"
            ],
            [
             0.4444444444444444,
             "#bd3786"
            ],
            [
             0.5555555555555556,
             "#d8576b"
            ],
            [
             0.6666666666666666,
             "#ed7953"
            ],
            [
             0.7777777777777778,
             "#fb9f3a"
            ],
            [
             0.8888888888888888,
             "#fdca26"
            ],
            [
             1,
             "#f0f921"
            ]
           ],
           "sequentialminus": [
            [
             0,
             "#0d0887"
            ],
            [
             0.1111111111111111,
             "#46039f"
            ],
            [
             0.2222222222222222,
             "#7201a8"
            ],
            [
             0.3333333333333333,
             "#9c179e"
            ],
            [
             0.4444444444444444,
             "#bd3786"
            ],
            [
             0.5555555555555556,
             "#d8576b"
            ],
            [
             0.6666666666666666,
             "#ed7953"
            ],
            [
             0.7777777777777778,
             "#fb9f3a"
            ],
            [
             0.8888888888888888,
             "#fdca26"
            ],
            [
             1,
             "#f0f921"
            ]
           ]
          },
          "colorway": [
           "#636efa",
           "#EF553B",
           "#00cc96",
           "#ab63fa",
           "#FFA15A",
           "#19d3f3",
           "#FF6692",
           "#B6E880",
           "#FF97FF",
           "#FECB52"
          ],
          "font": {
           "color": "#2a3f5f"
          },
          "geo": {
           "bgcolor": "white",
           "lakecolor": "white",
           "landcolor": "#E5ECF6",
           "showlakes": true,
           "showland": true,
           "subunitcolor": "white"
          },
          "hoverlabel": {
           "align": "left"
          },
          "hovermode": "closest",
          "mapbox": {
           "style": "light"
          },
          "paper_bgcolor": "white",
          "plot_bgcolor": "#E5ECF6",
          "polar": {
           "angularaxis": {
            "gridcolor": "white",
            "linecolor": "white",
            "ticks": ""
           },
           "bgcolor": "#E5ECF6",
           "radialaxis": {
            "gridcolor": "white",
            "linecolor": "white",
            "ticks": ""
           }
          },
          "scene": {
           "xaxis": {
            "backgroundcolor": "#E5ECF6",
            "gridcolor": "white",
            "gridwidth": 2,
            "linecolor": "white",
            "showbackground": true,
            "ticks": "",
            "zerolinecolor": "white"
           },
           "yaxis": {
            "backgroundcolor": "#E5ECF6",
            "gridcolor": "white",
            "gridwidth": 2,
            "linecolor": "white",
            "showbackground": true,
            "ticks": "",
            "zerolinecolor": "white"
           },
           "zaxis": {
            "backgroundcolor": "#E5ECF6",
            "gridcolor": "white",
            "gridwidth": 2,
            "linecolor": "white",
            "showbackground": true,
            "ticks": "",
            "zerolinecolor": "white"
           }
          },
          "shapedefaults": {
           "line": {
            "color": "#2a3f5f"
           }
          },
          "ternary": {
           "aaxis": {
            "gridcolor": "white",
            "linecolor": "white",
            "ticks": ""
           },
           "baxis": {
            "gridcolor": "white",
            "linecolor": "white",
            "ticks": ""
           },
           "bgcolor": "#E5ECF6",
           "caxis": {
            "gridcolor": "white",
            "linecolor": "white",
            "ticks": ""
           }
          },
          "title": {
           "x": 0.05
          },
          "xaxis": {
           "automargin": true,
           "gridcolor": "white",
           "linecolor": "white",
           "ticks": "",
           "title": {
            "standoff": 15
           },
           "zerolinecolor": "white",
           "zerolinewidth": 2
          },
          "yaxis": {
           "automargin": true,
           "gridcolor": "white",
           "linecolor": "white",
           "ticks": "",
           "title": {
            "standoff": 15
           },
           "zerolinecolor": "white",
           "zerolinewidth": 2
          }
         }
        },
        "title": {
         "text": "Среднее количество УЕТ в ТАП за 2022 год"
        },
        "width": 1660,
        "xaxis": {
         "anchor": "y",
         "categoryorder": "total descending",
         "domain": [
          0,
          1
         ],
         "title": {
          "text": "Врач"
         }
        },
        "yaxis": {
         "anchor": "x",
         "domain": [
          0,
          1
         ],
         "gridcolor": "grey",
         "title": {
          "text": "УЕТ"
         }
        }
       }
      },
      "text/html": [
       "<div>                            <div id=\"93b025fb-28b6-44de-acee-a23f492380cb\" class=\"plotly-graph-div\" style=\"height:525px; width:1660px;\"></div>            <script type=\"text/javascript\">                require([\"plotly\"], function(Plotly) {                    window.PLOTLYENV=window.PLOTLYENV || {};                                    if (document.getElementById(\"93b025fb-28b6-44de-acee-a23f492380cb\")) {                    Plotly.newPlot(                        \"93b025fb-28b6-44de-acee-a23f492380cb\",                        [{\"alignmentgroup\":\"True\",\"hovertemplate\":\"\\u041c\\u0435\\u0441\\u044f\\u0446=0122<br>\\u0412\\u0440\\u0430\\u0447=%{x}<br>avg_uet=%{y}<extra></extra>\",\"legendgroup\":\"0122\",\"marker\":{\"color\":\"rgb(100.0, 100.0, 100.0)\",\"pattern\":{\"shape\":\"\"}},\"name\":\"0122\",\"offsetgroup\":\"0122\",\"orientation\":\"v\",\"showlegend\":true,\"textposition\":\"auto\",\"type\":\"bar\",\"x\":[\"\\u0410\\u043b\\u0435\\u043a\\u0441\\u0430\\u043d\\u0434\\u0440\\u043e\\u0432\\u0430 \\u0421\\u0432\\u0435\\u0442\\u043b\\u0430\\u043d\\u0430 \\u0412\\u0438\\u043a\\u0442\\u043e\\u0440\\u043e\\u0432\\u043d\\u0430\",\"\\u0410\\u0440\\u0443\\u0442\\u044e\\u043d\\u044f\\u043d \\u0410\\u0440\\u0443\\u0442\\u044e\\u043d \\u041b\\u0435\\u0432\\u043e\\u043d\\u043e\\u0432\\u0438\\u0447\",\"\\u0412\\u043b\\u0430\\u0441\\u043e\\u0432\\u0430 \\u0410\\u043b\\u044c\\u0444\\u0438\\u044f \\u041b\\u044f\\u0431\\u0438\\u0431\\u043e\\u0432\\u043d\\u0430\",\"\\u0412\\u043e\\u043b\\u043e\\u0434\\u0438\\u043d \\u041f\\u0430\\u0432\\u0435\\u043b \\u042e\\u0440\\u044c\\u0435\\u0432\\u0438\\u0447\",\"\\u0412\\u043e\\u043b\\u043e\\u0434\\u044c\\u043a\\u043e \\u0412\\u0430\\u043b\\u0435\\u043d\\u0442\\u0438\\u043d\\u0430 \\u0418\\u0432\\u0430\\u043d\\u043e\\u0432\\u043d\\u0430\",\"\\u0413\\u0432\\u043e\\u0437\\u0434\\u0435\\u0432\\u0430 \\u0422\\u0430\\u0442\\u044c\\u044f\\u043d\\u0430 \\u0410\\u043d\\u0430\\u0442\\u043e\\u043b\\u044c\\u0435\\u0432\\u043d\\u0430\",\"\\u0413\\u043e\\u0440\\u0431\\u0438\\u043a\\u043e\\u0432\\u0430 \\u042d\\u043b\\u044c\\u0444\\u0438\\u044f \\u0420\\u0430\\u0448\\u0438\\u0442\\u043e\\u0432\\u043d\\u0430\",\"\\u0417\\u0430\\u0432\\u0433\\u043e\\u0440\\u043e\\u0434\\u043d\\u044b\\u0439 \\u0421\\u0435\\u0440\\u0433\\u0435\\u0439 \\u0412\\u0430\\u043b\\u0435\\u0440\\u0438\\u0430\\u043d\\u043e\\u0432\\u0438\\u0447\",\"\\u0417\\u0430\\u0445\\u0430\\u0440\\u043e\\u0432 \\u0418\\u0432\\u0430\\u043d \\u0412\\u043b\\u0430\\u0434\\u0438\\u043c\\u0438\\u0440\\u043e\\u0432\\u0438\\u0447\",\"\\u041a\\u0430\\u043c\\u044b\\u043d\\u043e\\u0432\\u0430 \\u041d\\u0430\\u0442\\u0430\\u043b\\u0438\\u044f \\u0412\\u0430\\u043b\\u0435\\u0440\\u0438\\u0435\\u0432\\u043d\\u0430\",\"\\u041a\\u043e\\u0432\\u0430\\u043b\\u0435\\u043d\\u043a\\u043e \\u041e\\u043b\\u044c\\u0433\\u0430 \\u042d\\u0434\\u0443\\u0430\\u0440\\u0434\\u043e\\u0432\\u043d\\u0430\",\"\\u041a\\u043e\\u0432\\u0430\\u043b\\u0435\\u043d\\u043a\\u043e \\u041e\\u043b\\u044c\\u0433\\u0430 \\u042d\\u0434\\u0443\\u0430\\u0440\\u0434\\u043e\\u0432\\u043d\\u0430 \\u0444\\u0438\\u0437\\u0438\\u043e\",\"\\u041a\\u043e\\u0432\\u0448\\u043e\\u0432 \\u0410\\u043b\\u0435\\u043a\\u0441\\u0430\\u043d\\u0434\\u0440 \\u0410\\u043b\\u0435\\u043a\\u0441\\u0430\\u043d\\u0434\\u0440\\u043e\\u0432\\u0438\\u0447\",\"\\u041a\\u043e\\u043b\\u0435\\u0441\\u043e\\u0432\\u0430 \\u041d\\u0430\\u0442\\u0430\\u043b\\u044c\\u044f \\u0412\\u0438\\u043a\\u0442\\u043e\\u0440\\u043e\\u0432\\u043d\\u0430\",\"\\u041a\\u0443\\u043a\\u0443\\u0448\\u043a\\u0438\\u043d\\u0430 \\u041b\\u0430\\u0440\\u0438\\u0441\\u0430 \\u0420\\u0430\\u043c\\u0437\\u0430\\u043d\\u043e\\u0432\\u043d\\u0430\",\"\\u041b\\u0438\\u0442\\u0432\\u0438\\u043d\\u043e\\u0432\\u0430 \\u041d\\u0438\\u043d\\u0430 \\u0410\\u043b\\u0435\\u043a\\u0441\\u0435\\u0435\\u0432\\u043d\\u0430\",\"\\u041b\\u043e\\u043f\\u0430\\u0442\\u043a\\u0438\\u043d\\u0430 \\u0410\\u043b\\u0451\\u043d\\u0430 \\u0421\\u0435\\u0440\\u0433\\u0435\\u0435\\u0432\\u043d\\u0430\",\"\\u041c\\u0430\\u043a\\u0441\\u0438\\u043c\\u0435\\u0446 \\u0418\\u0440\\u0438\\u043d\\u0430 \\u0418\\u0432\\u0430\\u043d\\u043e\\u0432\\u043d\\u0430\",\"\\u041c\\u043a\\u0440\\u0442\\u0447\\u044f\\u043d \\u0422\\u0430\\u0440\\u043e\\u043d \\u0410\\u0440\\u0441\\u0435\\u043d\\u043e\\u0432\\u0438\\u0447\",\"\\u041c\\u043e\\u0440\\u043e\\u0448\\u0435\\u043d\\u043a\\u043e\\u0432\\u0430 \\u0413\\u0443\\u043b\\u044c\\u043c\\u0438\\u0440\\u0430 \\u0410\\u0431\\u044b\\u043b\\u043a\\u0430\\u043a\\u043e\\u0432\\u043d\\u0430\",\"\\u041d\\u0438\\u043a\\u043e\\u043b\\u0430\\u0435\\u0432\\u0430 \\u041d\\u0430\\u0434\\u0435\\u0436\\u0434\\u0430 \\u0413\\u0440\\u0438\\u0433\\u043e\\u0440\\u044c\\u0435\\u0432\\u043d\\u0430\",\"\\u041e\\u043b\\u044c\\u0445\\u043e\\u0432\\u0441\\u043a\\u0430\\u044f \\u0410\\u043b\\u044c\\u0431\\u0438\\u043d\\u0430 \\u0412\\u043b\\u0430\\u0434\\u0438\\u043c\\u0438\\u0440\\u043e\\u0432\\u043d\\u0430\",\"\\u041f\\u0443\\u0437\\u0430\\u043d\\u043e\\u0432\\u0430 \\u041b\\u0438\\u0434\\u0438\\u044f \\u0421\\u0435\\u0440\\u0433\\u0435\\u0435\\u0432\\u043d\\u0430\",\"\\u0420\\u044b\\u0431\\u0430\\u043a \\u041b\\u0438\\u043b\\u0438\\u044f \\u0421\\u0435\\u0440\\u0433\\u0435\\u0435\\u0432\\u043d\\u0430\",\"\\u0421\\u043a\\u0430\\u043b\\u043a\\u043e\\u0432\\u0438\\u0447 \\u0418\\u043d\\u043d\\u0430 \\u0412\\u0430\\u043b\\u0435\\u0440\\u044c\\u0435\\u0432\\u043d\\u0430\",\"\\u0427\\u0438\\u0436\\u043e\\u0432\\u0430 \\u0415\\u043b\\u0435\\u043d\\u0430 \\u0412\\u043b\\u0430\\u0434\\u0438\\u043c\\u0438\\u0440\\u043e\\u0432\\u043d\\u0430\",\"\\u0427\\u0438\\u0447\\u0438\\u043a\\u0438\\u043d\\u0430 \\u0413\\u0430\\u043b\\u0438\\u043d\\u0430 \\u041f\\u0430\\u0432\\u043b\\u043e\\u0432\\u043d\\u0430\"],\"xaxis\":\"x\",\"y\":[11.56,4.46,11.91,10.46,5.0,12.01,11.41,4.9,12.16,11.37,15.98,3.31,12.53,5.8,5.44,12.61,13.43,12.33,12.31,12.97,10.23,11.47,16.29,4.13,14.22,15.0,4.68],\"yaxis\":\"y\"},{\"alignmentgroup\":\"True\",\"hovertemplate\":\"\\u041c\\u0435\\u0441\\u044f\\u0446=0222<br>\\u0412\\u0440\\u0430\\u0447=%{x}<br>avg_uet=%{y}<extra></extra>\",\"legendgroup\":\"0222\",\"marker\":{\"color\":\"rgb(131.0, 131.0, 131.0)\",\"pattern\":{\"shape\":\"\"}},\"name\":\"0222\",\"offsetgroup\":\"0222\",\"orientation\":\"v\",\"showlegend\":true,\"textposition\":\"auto\",\"type\":\"bar\",\"x\":[\"\\u0410\\u043b\\u0435\\u043a\\u0441\\u0430\\u043d\\u0434\\u0440\\u043e\\u0432\\u0430 \\u0421\\u0432\\u0435\\u0442\\u043b\\u0430\\u043d\\u0430 \\u0412\\u0438\\u043a\\u0442\\u043e\\u0440\\u043e\\u0432\\u043d\\u0430\",\"\\u0410\\u0440\\u0443\\u0442\\u044e\\u043d\\u044f\\u043d \\u0410\\u0440\\u0443\\u0442\\u044e\\u043d \\u041b\\u0435\\u0432\\u043e\\u043d\\u043e\\u0432\\u0438\\u0447\",\"\\u0412\\u043b\\u0430\\u0441\\u043e\\u0432\\u0430 \\u0410\\u043b\\u044c\\u0444\\u0438\\u044f \\u041b\\u044f\\u0431\\u0438\\u0431\\u043e\\u0432\\u043d\\u0430\",\"\\u0412\\u043e\\u043b\\u043e\\u0434\\u0438\\u043d \\u041f\\u0430\\u0432\\u0435\\u043b \\u042e\\u0440\\u044c\\u0435\\u0432\\u0438\\u0447\",\"\\u0412\\u043e\\u043b\\u043e\\u0434\\u044c\\u043a\\u043e \\u0412\\u0430\\u043b\\u0435\\u043d\\u0442\\u0438\\u043d\\u0430 \\u0418\\u0432\\u0430\\u043d\\u043e\\u0432\\u043d\\u0430\",\"\\u0413\\u0432\\u043e\\u0437\\u0434\\u0435\\u0432\\u0430 \\u0422\\u0430\\u0442\\u044c\\u044f\\u043d\\u0430 \\u0410\\u043d\\u0430\\u0442\\u043e\\u043b\\u044c\\u0435\\u0432\\u043d\\u0430\",\"\\u0413\\u043e\\u0440\\u0431\\u0438\\u043a\\u043e\\u0432\\u0430 \\u042d\\u043b\\u044c\\u0444\\u0438\\u044f \\u0420\\u0430\\u0448\\u0438\\u0442\\u043e\\u0432\\u043d\\u0430\",\"\\u0417\\u0430\\u0432\\u0433\\u043e\\u0440\\u043e\\u0434\\u043d\\u044b\\u0439 \\u0421\\u0435\\u0440\\u0433\\u0435\\u0439 \\u0412\\u0430\\u043b\\u0435\\u0440\\u0438\\u0430\\u043d\\u043e\\u0432\\u0438\\u0447\",\"\\u0417\\u0430\\u0445\\u0430\\u0440\\u043e\\u0432 \\u0418\\u0432\\u0430\\u043d \\u0412\\u043b\\u0430\\u0434\\u0438\\u043c\\u0438\\u0440\\u043e\\u0432\\u0438\\u0447\",\"\\u041a\\u0430\\u043c\\u044b\\u043d\\u043e\\u0432\\u0430 \\u041d\\u0430\\u0442\\u0430\\u043b\\u0438\\u044f \\u0412\\u0430\\u043b\\u0435\\u0440\\u0438\\u0435\\u0432\\u043d\\u0430\",\"\\u041a\\u043e\\u0432\\u0430\\u043b\\u0435\\u043d\\u043a\\u043e \\u041e\\u043b\\u044c\\u0433\\u0430 \\u042d\\u0434\\u0443\\u0430\\u0440\\u0434\\u043e\\u0432\\u043d\\u0430\",\"\\u041a\\u043e\\u0432\\u0430\\u043b\\u0435\\u043d\\u043a\\u043e \\u041e\\u043b\\u044c\\u0433\\u0430 \\u042d\\u0434\\u0443\\u0430\\u0440\\u0434\\u043e\\u0432\\u043d\\u0430 \\u0444\\u0438\\u0437\\u0438\\u043e\",\"\\u041a\\u043e\\u0432\\u0448\\u043e\\u0432 \\u0410\\u043b\\u0435\\u043a\\u0441\\u0430\\u043d\\u0434\\u0440 \\u0410\\u043b\\u0435\\u043a\\u0441\\u0430\\u043d\\u0434\\u0440\\u043e\\u0432\\u0438\\u0447\",\"\\u041a\\u043e\\u043b\\u0435\\u0441\\u043e\\u0432\\u0430 \\u041d\\u0430\\u0442\\u0430\\u043b\\u044c\\u044f \\u0412\\u0438\\u043a\\u0442\\u043e\\u0440\\u043e\\u0432\\u043d\\u0430\",\"\\u041a\\u0443\\u043a\\u0443\\u0448\\u043a\\u0438\\u043d\\u0430 \\u041b\\u0430\\u0440\\u0438\\u0441\\u0430 \\u0420\\u0430\\u043c\\u0437\\u0430\\u043d\\u043e\\u0432\\u043d\\u0430\",\"\\u041b\\u0438\\u0442\\u0432\\u0438\\u043d\\u043e\\u0432\\u0430 \\u041d\\u0438\\u043d\\u0430 \\u0410\\u043b\\u0435\\u043a\\u0441\\u0435\\u0435\\u0432\\u043d\\u0430\",\"\\u041b\\u043e\\u043f\\u0430\\u0442\\u043a\\u0438\\u043d\\u0430 \\u0410\\u043b\\u0451\\u043d\\u0430 \\u0421\\u0435\\u0440\\u0433\\u0435\\u0435\\u0432\\u043d\\u0430\",\"\\u041c\\u0430\\u043a\\u0441\\u0438\\u043c\\u0435\\u0446 \\u0418\\u0440\\u0438\\u043d\\u0430 \\u0418\\u0432\\u0430\\u043d\\u043e\\u0432\\u043d\\u0430\",\"\\u041c\\u043a\\u0440\\u0442\\u0447\\u044f\\u043d \\u0422\\u0430\\u0440\\u043e\\u043d \\u0410\\u0440\\u0441\\u0435\\u043d\\u043e\\u0432\\u0438\\u0447\",\"\\u041c\\u043e\\u0440\\u043e\\u0448\\u0435\\u043d\\u043a\\u043e\\u0432\\u0430 \\u0413\\u0443\\u043b\\u044c\\u043c\\u0438\\u0440\\u0430 \\u0410\\u0431\\u044b\\u043b\\u043a\\u0430\\u043a\\u043e\\u0432\\u043d\\u0430\",\"\\u041d\\u0438\\u043a\\u043e\\u043b\\u0430\\u0435\\u0432\\u0430 \\u041d\\u0430\\u0434\\u0435\\u0436\\u0434\\u0430 \\u0413\\u0440\\u0438\\u0433\\u043e\\u0440\\u044c\\u0435\\u0432\\u043d\\u0430\",\"\\u041e\\u043b\\u044c\\u0445\\u043e\\u0432\\u0441\\u043a\\u0430\\u044f \\u0410\\u043b\\u044c\\u0431\\u0438\\u043d\\u0430 \\u0412\\u043b\\u0430\\u0434\\u0438\\u043c\\u0438\\u0440\\u043e\\u0432\\u043d\\u0430\",\"\\u041f\\u0443\\u0437\\u0430\\u043d\\u043e\\u0432\\u0430 \\u041b\\u0438\\u0434\\u0438\\u044f \\u0421\\u0435\\u0440\\u0433\\u0435\\u0435\\u0432\\u043d\\u0430\",\"\\u0420\\u044b\\u0431\\u0430\\u043a \\u041b\\u0438\\u043b\\u0438\\u044f \\u0421\\u0435\\u0440\\u0433\\u0435\\u0435\\u0432\\u043d\\u0430\",\"\\u0421\\u043a\\u0430\\u043b\\u043a\\u043e\\u0432\\u0438\\u0447 \\u0418\\u043d\\u043d\\u0430 \\u0412\\u0430\\u043b\\u0435\\u0440\\u044c\\u0435\\u0432\\u043d\\u0430\",\"\\u0427\\u0438\\u0436\\u043e\\u0432\\u0430 \\u0415\\u043b\\u0435\\u043d\\u0430 \\u0412\\u043b\\u0430\\u0434\\u0438\\u043c\\u0438\\u0440\\u043e\\u0432\\u043d\\u0430\",\"\\u0427\\u0438\\u0447\\u0438\\u043a\\u0438\\u043d\\u0430 \\u0413\\u0430\\u043b\\u0438\\u043d\\u0430 \\u041f\\u0430\\u0432\\u043b\\u043e\\u0432\\u043d\\u0430\"],\"xaxis\":\"x\",\"y\":[11.33,4.53,9.04,12.49,4.68,10.65,10.15,5.3,9.5,10.44,14.15,3.13,12.87,5.9,7.5,12.17,11.26,11.18,18.85,10.22,11.84,11.47,14.3,4.29,13.83,15.97,4.64],\"yaxis\":\"y\"},{\"alignmentgroup\":\"True\",\"hovertemplate\":\"\\u041c\\u0435\\u0441\\u044f\\u0446=0322<br>\\u0412\\u0440\\u0430\\u0447=%{x}<br>avg_uet=%{y}<extra></extra>\",\"legendgroup\":\"0322\",\"marker\":{\"color\":\"rgb(162.0, 162.0, 162.0)\",\"pattern\":{\"shape\":\"\"}},\"name\":\"0322\",\"offsetgroup\":\"0322\",\"orientation\":\"v\",\"showlegend\":true,\"textposition\":\"auto\",\"type\":\"bar\",\"x\":[\"\\u0410\\u043b\\u0435\\u043a\\u0441\\u0430\\u043d\\u0434\\u0440\\u043e\\u0432\\u0430 \\u0421\\u0432\\u0435\\u0442\\u043b\\u0430\\u043d\\u0430 \\u0412\\u0438\\u043a\\u0442\\u043e\\u0440\\u043e\\u0432\\u043d\\u0430\",\"\\u0410\\u0440\\u0443\\u0442\\u044e\\u043d\\u044f\\u043d \\u0410\\u0440\\u0443\\u0442\\u044e\\u043d \\u041b\\u0435\\u0432\\u043e\\u043d\\u043e\\u0432\\u0438\\u0447\",\"\\u0412\\u043b\\u0430\\u0441\\u043e\\u0432\\u0430 \\u0410\\u043b\\u044c\\u0444\\u0438\\u044f \\u041b\\u044f\\u0431\\u0438\\u0431\\u043e\\u0432\\u043d\\u0430\",\"\\u0412\\u043e\\u043b\\u043e\\u0434\\u0438\\u043d \\u041f\\u0430\\u0432\\u0435\\u043b \\u042e\\u0440\\u044c\\u0435\\u0432\\u0438\\u0447\",\"\\u0412\\u043e\\u043b\\u043e\\u0434\\u044c\\u043a\\u043e \\u0412\\u0430\\u043b\\u0435\\u043d\\u0442\\u0438\\u043d\\u0430 \\u0418\\u0432\\u0430\\u043d\\u043e\\u0432\\u043d\\u0430\",\"\\u0413\\u0432\\u043e\\u0437\\u0434\\u0435\\u0432\\u0430 \\u0422\\u0430\\u0442\\u044c\\u044f\\u043d\\u0430 \\u0410\\u043d\\u0430\\u0442\\u043e\\u043b\\u044c\\u0435\\u0432\\u043d\\u0430\",\"\\u0413\\u043e\\u0440\\u0431\\u0438\\u043a\\u043e\\u0432\\u0430 \\u042d\\u043b\\u044c\\u0444\\u0438\\u044f \\u0420\\u0430\\u0448\\u0438\\u0442\\u043e\\u0432\\u043d\\u0430\",\"\\u0417\\u0430\\u0432\\u0433\\u043e\\u0440\\u043e\\u0434\\u043d\\u044b\\u0439 \\u0421\\u0435\\u0440\\u0433\\u0435\\u0439 \\u0412\\u0430\\u043b\\u0435\\u0440\\u0438\\u0430\\u043d\\u043e\\u0432\\u0438\\u0447\",\"\\u0417\\u0430\\u0445\\u0430\\u0440\\u043e\\u0432 \\u0418\\u0432\\u0430\\u043d \\u0412\\u043b\\u0430\\u0434\\u0438\\u043c\\u0438\\u0440\\u043e\\u0432\\u0438\\u0447\",\"\\u041a\\u0430\\u043c\\u044b\\u043d\\u043e\\u0432\\u0430 \\u041d\\u0430\\u0442\\u0430\\u043b\\u0438\\u044f \\u0412\\u0430\\u043b\\u0435\\u0440\\u0438\\u0435\\u0432\\u043d\\u0430\",\"\\u041a\\u043e\\u0432\\u0430\\u043b\\u0435\\u043d\\u043a\\u043e \\u041e\\u043b\\u044c\\u0433\\u0430 \\u042d\\u0434\\u0443\\u0430\\u0440\\u0434\\u043e\\u0432\\u043d\\u0430\",\"\\u041a\\u043e\\u0432\\u0430\\u043b\\u0435\\u043d\\u043a\\u043e \\u041e\\u043b\\u044c\\u0433\\u0430 \\u042d\\u0434\\u0443\\u0430\\u0440\\u0434\\u043e\\u0432\\u043d\\u0430 \\u0444\\u0438\\u0437\\u0438\\u043e\",\"\\u041a\\u043e\\u0432\\u0448\\u043e\\u0432 \\u0410\\u043b\\u0435\\u043a\\u0441\\u0430\\u043d\\u0434\\u0440 \\u0410\\u043b\\u0435\\u043a\\u0441\\u0430\\u043d\\u0434\\u0440\\u043e\\u0432\\u0438\\u0447\",\"\\u041a\\u043e\\u043b\\u0435\\u0441\\u043e\\u0432\\u0430 \\u041d\\u0430\\u0442\\u0430\\u043b\\u044c\\u044f \\u0412\\u0438\\u043a\\u0442\\u043e\\u0440\\u043e\\u0432\\u043d\\u0430\",\"\\u041a\\u0443\\u043a\\u0443\\u0448\\u043a\\u0438\\u043d\\u0430 \\u041b\\u0430\\u0440\\u0438\\u0441\\u0430 \\u0420\\u0430\\u043c\\u0437\\u0430\\u043d\\u043e\\u0432\\u043d\\u0430\",\"\\u041b\\u0438\\u0442\\u0432\\u0438\\u043d\\u043e\\u0432\\u0430 \\u041d\\u0438\\u043d\\u0430 \\u0410\\u043b\\u0435\\u043a\\u0441\\u0435\\u0435\\u0432\\u043d\\u0430\",\"\\u041b\\u043e\\u043f\\u0430\\u0442\\u043a\\u0438\\u043d\\u0430 \\u0410\\u043b\\u0451\\u043d\\u0430 \\u0421\\u0435\\u0440\\u0433\\u0435\\u0435\\u0432\\u043d\\u0430\",\"\\u041c\\u0430\\u043a\\u0441\\u0438\\u043c\\u0435\\u0446 \\u0418\\u0440\\u0438\\u043d\\u0430 \\u0418\\u0432\\u0430\\u043d\\u043e\\u0432\\u043d\\u0430\",\"\\u041c\\u043a\\u0440\\u0442\\u0447\\u044f\\u043d \\u0422\\u0430\\u0440\\u043e\\u043d \\u0410\\u0440\\u0441\\u0435\\u043d\\u043e\\u0432\\u0438\\u0447\",\"\\u041c\\u043e\\u0440\\u043e\\u0448\\u0435\\u043d\\u043a\\u043e\\u0432\\u0430 \\u0413\\u0443\\u043b\\u044c\\u043c\\u0438\\u0440\\u0430 \\u0410\\u0431\\u044b\\u043b\\u043a\\u0430\\u043a\\u043e\\u0432\\u043d\\u0430\",\"\\u041d\\u0438\\u043a\\u043e\\u043b\\u0430\\u0435\\u0432\\u0430 \\u041d\\u0430\\u0434\\u0435\\u0436\\u0434\\u0430 \\u0413\\u0440\\u0438\\u0433\\u043e\\u0440\\u044c\\u0435\\u0432\\u043d\\u0430\",\"\\u041e\\u043b\\u044c\\u0445\\u043e\\u0432\\u0441\\u043a\\u0430\\u044f \\u0410\\u043b\\u044c\\u0431\\u0438\\u043d\\u0430 \\u0412\\u043b\\u0430\\u0434\\u0438\\u043c\\u0438\\u0440\\u043e\\u0432\\u043d\\u0430\",\"\\u041f\\u0443\\u0437\\u0430\\u043d\\u043e\\u0432\\u0430 \\u041b\\u0438\\u0434\\u0438\\u044f \\u0421\\u0435\\u0440\\u0433\\u0435\\u0435\\u0432\\u043d\\u0430\",\"\\u0420\\u044b\\u0431\\u0430\\u043a \\u041b\\u0438\\u043b\\u0438\\u044f \\u0421\\u0435\\u0440\\u0433\\u0435\\u0435\\u0432\\u043d\\u0430\",\"\\u0421\\u043a\\u0430\\u043b\\u043a\\u043e\\u0432\\u0438\\u0447 \\u0418\\u043d\\u043d\\u0430 \\u0412\\u0430\\u043b\\u0435\\u0440\\u044c\\u0435\\u0432\\u043d\\u0430\",\"\\u0427\\u0438\\u0436\\u043e\\u0432\\u0430 \\u0415\\u043b\\u0435\\u043d\\u0430 \\u0412\\u043b\\u0430\\u0434\\u0438\\u043c\\u0438\\u0440\\u043e\\u0432\\u043d\\u0430\",\"\\u0427\\u0438\\u0447\\u0438\\u043a\\u0438\\u043d\\u0430 \\u0413\\u0430\\u043b\\u0438\\u043d\\u0430 \\u041f\\u0430\\u0432\\u043b\\u043e\\u0432\\u043d\\u0430\"],\"xaxis\":\"x\",\"y\":[10.71,4.45,13.87,18.05,4.96,11.88,13.25,5.11,11.96,14.73,16.95,3.2,12.74,5.92,10.94,12.56,13.13,10.61,15.85,11.65,12.25,12.56,14.69,4.32,15.01,15.76,4.64],\"yaxis\":\"y\"},{\"alignmentgroup\":\"True\",\"hovertemplate\":\"\\u041c\\u0435\\u0441\\u044f\\u0446=0422<br>\\u0412\\u0440\\u0430\\u0447=%{x}<br>avg_uet=%{y}<extra></extra>\",\"legendgroup\":\"0422\",\"marker\":{\"color\":\"rgb(193.0, 193.0, 193.0)\",\"pattern\":{\"shape\":\"\"}},\"name\":\"0422\",\"offsetgroup\":\"0422\",\"orientation\":\"v\",\"showlegend\":true,\"textposition\":\"auto\",\"type\":\"bar\",\"x\":[\"\\u0410\\u043b\\u0435\\u043a\\u0441\\u0430\\u043d\\u0434\\u0440\\u043e\\u0432\\u0430 \\u0421\\u0432\\u0435\\u0442\\u043b\\u0430\\u043d\\u0430 \\u0412\\u0438\\u043a\\u0442\\u043e\\u0440\\u043e\\u0432\\u043d\\u0430\",\"\\u0410\\u0440\\u0443\\u0442\\u044e\\u043d\\u044f\\u043d \\u0410\\u0440\\u0443\\u0442\\u044e\\u043d \\u041b\\u0435\\u0432\\u043e\\u043d\\u043e\\u0432\\u0438\\u0447\",\"\\u0412\\u043b\\u0430\\u0441\\u043e\\u0432\\u0430 \\u0410\\u043b\\u044c\\u0444\\u0438\\u044f \\u041b\\u044f\\u0431\\u0438\\u0431\\u043e\\u0432\\u043d\\u0430\",\"\\u0412\\u043e\\u043b\\u043e\\u0434\\u0438\\u043d \\u041f\\u0430\\u0432\\u0435\\u043b \\u042e\\u0440\\u044c\\u0435\\u0432\\u0438\\u0447\",\"\\u0412\\u043e\\u043b\\u043e\\u0434\\u044c\\u043a\\u043e \\u0412\\u0430\\u043b\\u0435\\u043d\\u0442\\u0438\\u043d\\u0430 \\u0418\\u0432\\u0430\\u043d\\u043e\\u0432\\u043d\\u0430\",\"\\u0413\\u0432\\u043e\\u0437\\u0434\\u0435\\u0432\\u0430 \\u0422\\u0430\\u0442\\u044c\\u044f\\u043d\\u0430 \\u0410\\u043d\\u0430\\u0442\\u043e\\u043b\\u044c\\u0435\\u0432\\u043d\\u0430\",\"\\u0413\\u043e\\u0440\\u0431\\u0438\\u043a\\u043e\\u0432\\u0430 \\u042d\\u043b\\u044c\\u0444\\u0438\\u044f \\u0420\\u0430\\u0448\\u0438\\u0442\\u043e\\u0432\\u043d\\u0430\",\"\\u0417\\u0430\\u0432\\u0433\\u043e\\u0440\\u043e\\u0434\\u043d\\u044b\\u0439 \\u0421\\u0435\\u0440\\u0433\\u0435\\u0439 \\u0412\\u0430\\u043b\\u0435\\u0440\\u0438\\u0430\\u043d\\u043e\\u0432\\u0438\\u0447\",\"\\u0417\\u0430\\u0445\\u0430\\u0440\\u043e\\u0432 \\u0418\\u0432\\u0430\\u043d \\u0412\\u043b\\u0430\\u0434\\u0438\\u043c\\u0438\\u0440\\u043e\\u0432\\u0438\\u0447\",\"\\u041a\\u0430\\u043c\\u044b\\u043d\\u043e\\u0432\\u0430 \\u041d\\u0430\\u0442\\u0430\\u043b\\u0438\\u044f \\u0412\\u0430\\u043b\\u0435\\u0440\\u0438\\u0435\\u0432\\u043d\\u0430\",\"\\u041a\\u043e\\u0432\\u0430\\u043b\\u0435\\u043d\\u043a\\u043e \\u041e\\u043b\\u044c\\u0433\\u0430 \\u042d\\u0434\\u0443\\u0430\\u0440\\u0434\\u043e\\u0432\\u043d\\u0430\",\"\\u041a\\u043e\\u0432\\u0430\\u043b\\u0435\\u043d\\u043a\\u043e \\u041e\\u043b\\u044c\\u0433\\u0430 \\u042d\\u0434\\u0443\\u0430\\u0440\\u0434\\u043e\\u0432\\u043d\\u0430 \\u0444\\u0438\\u0437\\u0438\\u043e\",\"\\u041a\\u043e\\u0432\\u0448\\u043e\\u0432 \\u0410\\u043b\\u0435\\u043a\\u0441\\u0430\\u043d\\u0434\\u0440 \\u0410\\u043b\\u0435\\u043a\\u0441\\u0430\\u043d\\u0434\\u0440\\u043e\\u0432\\u0438\\u0447\",\"\\u041a\\u043e\\u043b\\u0435\\u0441\\u043e\\u0432\\u0430 \\u041d\\u0430\\u0442\\u0430\\u043b\\u044c\\u044f \\u0412\\u0438\\u043a\\u0442\\u043e\\u0440\\u043e\\u0432\\u043d\\u0430\",\"\\u041a\\u0443\\u043a\\u0443\\u0448\\u043a\\u0438\\u043d\\u0430 \\u041b\\u0430\\u0440\\u0438\\u0441\\u0430 \\u0420\\u0430\\u043c\\u0437\\u0430\\u043d\\u043e\\u0432\\u043d\\u0430\",\"\\u041b\\u0438\\u0442\\u0432\\u0438\\u043d\\u043e\\u0432\\u0430 \\u041d\\u0438\\u043d\\u0430 \\u0410\\u043b\\u0435\\u043a\\u0441\\u0435\\u0435\\u0432\\u043d\\u0430\",\"\\u041b\\u043e\\u043f\\u0430\\u0442\\u043a\\u0438\\u043d\\u0430 \\u0410\\u043b\\u0451\\u043d\\u0430 \\u0421\\u0435\\u0440\\u0433\\u0435\\u0435\\u0432\\u043d\\u0430\",\"\\u041c\\u0430\\u043a\\u0441\\u0438\\u043c\\u0435\\u0446 \\u0418\\u0440\\u0438\\u043d\\u0430 \\u0418\\u0432\\u0430\\u043d\\u043e\\u0432\\u043d\\u0430\",\"\\u041c\\u043a\\u0440\\u0442\\u0447\\u044f\\u043d \\u0422\\u0430\\u0440\\u043e\\u043d \\u0410\\u0440\\u0441\\u0435\\u043d\\u043e\\u0432\\u0438\\u0447\",\"\\u041c\\u043e\\u0440\\u043e\\u0448\\u0435\\u043d\\u043a\\u043e\\u0432\\u0430 \\u0413\\u0443\\u043b\\u044c\\u043c\\u0438\\u0440\\u0430 \\u0410\\u0431\\u044b\\u043b\\u043a\\u0430\\u043a\\u043e\\u0432\\u043d\\u0430\",\"\\u041d\\u0438\\u043a\\u043e\\u043b\\u0430\\u0435\\u0432\\u0430 \\u041d\\u0430\\u0434\\u0435\\u0436\\u0434\\u0430 \\u0413\\u0440\\u0438\\u0433\\u043e\\u0440\\u044c\\u0435\\u0432\\u043d\\u0430\",\"\\u041e\\u043b\\u044c\\u0445\\u043e\\u0432\\u0441\\u043a\\u0430\\u044f \\u0410\\u043b\\u044c\\u0431\\u0438\\u043d\\u0430 \\u0412\\u043b\\u0430\\u0434\\u0438\\u043c\\u0438\\u0440\\u043e\\u0432\\u043d\\u0430\",\"\\u041f\\u0443\\u0437\\u0430\\u043d\\u043e\\u0432\\u0430 \\u041b\\u0438\\u0434\\u0438\\u044f \\u0421\\u0435\\u0440\\u0433\\u0435\\u0435\\u0432\\u043d\\u0430\",\"\\u0420\\u044b\\u0431\\u0430\\u043a \\u041b\\u0438\\u043b\\u0438\\u044f \\u0421\\u0435\\u0440\\u0433\\u0435\\u0435\\u0432\\u043d\\u0430\",\"\\u0421\\u043a\\u0430\\u043b\\u043a\\u043e\\u0432\\u0438\\u0447 \\u0418\\u043d\\u043d\\u0430 \\u0412\\u0430\\u043b\\u0435\\u0440\\u044c\\u0435\\u0432\\u043d\\u0430\",\"\\u0427\\u0438\\u0436\\u043e\\u0432\\u0430 \\u0415\\u043b\\u0435\\u043d\\u0430 \\u0412\\u043b\\u0430\\u0434\\u0438\\u043c\\u0438\\u0440\\u043e\\u0432\\u043d\\u0430\",\"\\u0427\\u0438\\u0447\\u0438\\u043a\\u0438\\u043d\\u0430 \\u0413\\u0430\\u043b\\u0438\\u043d\\u0430 \\u041f\\u0430\\u0432\\u043b\\u043e\\u0432\\u043d\\u0430\"],\"xaxis\":\"x\",\"y\":[11.28,4.29,12.5,14.63,4.87,11.0,12.99,4.93,11.18,13.96,16.35,3.1,12.41,5.64,14.62,10.57,11.85,9.17,13.06,11.36,12.25,11.32,14.78,4.24,18.47,14.06,4.38],\"yaxis\":\"y\"},{\"alignmentgroup\":\"True\",\"hovertemplate\":\"\\u041c\\u0435\\u0441\\u044f\\u0446=0522<br>\\u0412\\u0440\\u0430\\u0447=%{x}<br>avg_uet=%{y}<extra></extra>\",\"legendgroup\":\"0522\",\"marker\":{\"color\":\"rgb(224.0, 224.0, 224.0)\",\"pattern\":{\"shape\":\"\"}},\"name\":\"0522\",\"offsetgroup\":\"0522\",\"orientation\":\"v\",\"showlegend\":true,\"textposition\":\"auto\",\"type\":\"bar\",\"x\":[\"\\u0410\\u043b\\u0435\\u043a\\u0441\\u0430\\u043d\\u0434\\u0440\\u043e\\u0432\\u0430 \\u0421\\u0432\\u0435\\u0442\\u043b\\u0430\\u043d\\u0430 \\u0412\\u0438\\u043a\\u0442\\u043e\\u0440\\u043e\\u0432\\u043d\\u0430\",\"\\u0410\\u0440\\u0443\\u0442\\u044e\\u043d\\u044f\\u043d \\u0410\\u0440\\u0443\\u0442\\u044e\\u043d \\u041b\\u0435\\u0432\\u043e\\u043d\\u043e\\u0432\\u0438\\u0447\",\"\\u0412\\u043b\\u0430\\u0441\\u043e\\u0432\\u0430 \\u0410\\u043b\\u044c\\u0444\\u0438\\u044f \\u041b\\u044f\\u0431\\u0438\\u0431\\u043e\\u0432\\u043d\\u0430\",\"\\u0412\\u043e\\u043b\\u043e\\u0434\\u0438\\u043d \\u041f\\u0430\\u0432\\u0435\\u043b \\u042e\\u0440\\u044c\\u0435\\u0432\\u0438\\u0447\",\"\\u0412\\u043e\\u043b\\u043e\\u0434\\u044c\\u043a\\u043e \\u0412\\u0430\\u043b\\u0435\\u043d\\u0442\\u0438\\u043d\\u0430 \\u0418\\u0432\\u0430\\u043d\\u043e\\u0432\\u043d\\u0430\",\"\\u0413\\u043e\\u0440\\u0431\\u0438\\u043a\\u043e\\u0432\\u0430 \\u042d\\u043b\\u044c\\u0444\\u0438\\u044f \\u0420\\u0430\\u0448\\u0438\\u0442\\u043e\\u0432\\u043d\\u0430\",\"\\u0417\\u0430\\u0432\\u0433\\u043e\\u0440\\u043e\\u0434\\u043d\\u044b\\u0439 \\u0421\\u0435\\u0440\\u0433\\u0435\\u0439 \\u0412\\u0430\\u043b\\u0435\\u0440\\u0438\\u0430\\u043d\\u043e\\u0432\\u0438\\u0447\",\"\\u0417\\u0430\\u0445\\u0430\\u0440\\u043e\\u0432 \\u0418\\u0432\\u0430\\u043d \\u0412\\u043b\\u0430\\u0434\\u0438\\u043c\\u0438\\u0440\\u043e\\u0432\\u0438\\u0447\",\"\\u041a\\u0430\\u043c\\u044b\\u043d\\u043e\\u0432\\u0430 \\u041d\\u0430\\u0442\\u0430\\u043b\\u0438\\u044f \\u0412\\u0430\\u043b\\u0435\\u0440\\u0438\\u0435\\u0432\\u043d\\u0430\",\"\\u041a\\u043e\\u0432\\u0430\\u043b\\u0435\\u043d\\u043a\\u043e \\u041e\\u043b\\u044c\\u0433\\u0430 \\u042d\\u0434\\u0443\\u0430\\u0440\\u0434\\u043e\\u0432\\u043d\\u0430\",\"\\u041a\\u043e\\u0432\\u0430\\u043b\\u0435\\u043d\\u043a\\u043e \\u041e\\u043b\\u044c\\u0433\\u0430 \\u042d\\u0434\\u0443\\u0430\\u0440\\u0434\\u043e\\u0432\\u043d\\u0430 \\u0444\\u0438\\u0437\\u0438\\u043e\",\"\\u041a\\u043e\\u0432\\u0448\\u043e\\u0432 \\u0410\\u043b\\u0435\\u043a\\u0441\\u0430\\u043d\\u0434\\u0440 \\u0410\\u043b\\u0435\\u043a\\u0441\\u0430\\u043d\\u0434\\u0440\\u043e\\u0432\\u0438\\u0447\",\"\\u041a\\u043e\\u043b\\u0435\\u0441\\u043e\\u0432\\u0430 \\u041d\\u0430\\u0442\\u0430\\u043b\\u044c\\u044f \\u0412\\u0438\\u043a\\u0442\\u043e\\u0440\\u043e\\u0432\\u043d\\u0430\",\"\\u041a\\u0443\\u043a\\u0443\\u0448\\u043a\\u0438\\u043d\\u0430 \\u041b\\u0430\\u0440\\u0438\\u0441\\u0430 \\u0420\\u0430\\u043c\\u0437\\u0430\\u043d\\u043e\\u0432\\u043d\\u0430\",\"\\u041b\\u0438\\u0442\\u0432\\u0438\\u043d\\u043e\\u0432\\u0430 \\u041d\\u0438\\u043d\\u0430 \\u0410\\u043b\\u0435\\u043a\\u0441\\u0435\\u0435\\u0432\\u043d\\u0430\",\"\\u041b\\u043e\\u043f\\u0430\\u0442\\u043a\\u0438\\u043d\\u0430 \\u0410\\u043b\\u0451\\u043d\\u0430 \\u0421\\u0435\\u0440\\u0433\\u0435\\u0435\\u0432\\u043d\\u0430\",\"\\u041c\\u0430\\u043a\\u0441\\u0438\\u043c\\u0435\\u0446 \\u0418\\u0440\\u0438\\u043d\\u0430 \\u0418\\u0432\\u0430\\u043d\\u043e\\u0432\\u043d\\u0430\",\"\\u041c\\u043a\\u0440\\u0442\\u0447\\u044f\\u043d \\u0422\\u0430\\u0440\\u043e\\u043d \\u0410\\u0440\\u0441\\u0435\\u043d\\u043e\\u0432\\u0438\\u0447\",\"\\u041c\\u043e\\u0440\\u043e\\u0448\\u0435\\u043d\\u043a\\u043e\\u0432\\u0430 \\u0413\\u0443\\u043b\\u044c\\u043c\\u0438\\u0440\\u0430 \\u0410\\u0431\\u044b\\u043b\\u043a\\u0430\\u043a\\u043e\\u0432\\u043d\\u0430\",\"\\u041d\\u0438\\u043a\\u043e\\u043b\\u0430\\u0435\\u0432\\u0430 \\u041d\\u0430\\u0434\\u0435\\u0436\\u0434\\u0430 \\u0413\\u0440\\u0438\\u0433\\u043e\\u0440\\u044c\\u0435\\u0432\\u043d\\u0430\",\"\\u041e\\u043b\\u044c\\u0445\\u043e\\u0432\\u0441\\u043a\\u0430\\u044f \\u0410\\u043b\\u044c\\u0431\\u0438\\u043d\\u0430 \\u0412\\u043b\\u0430\\u0434\\u0438\\u043c\\u0438\\u0440\\u043e\\u0432\\u043d\\u0430\",\"\\u041f\\u0443\\u0437\\u0430\\u043d\\u043e\\u0432\\u0430 \\u041b\\u0438\\u0434\\u0438\\u044f \\u0421\\u0435\\u0440\\u0433\\u0435\\u0435\\u0432\\u043d\\u0430\",\"\\u0420\\u044b\\u0431\\u0430\\u043a \\u041b\\u0438\\u043b\\u0438\\u044f \\u0421\\u0435\\u0440\\u0433\\u0435\\u0435\\u0432\\u043d\\u0430\",\"\\u0421\\u043a\\u0430\\u043b\\u043a\\u043e\\u0432\\u0438\\u0447 \\u0418\\u043d\\u043d\\u0430 \\u0412\\u0430\\u043b\\u0435\\u0440\\u044c\\u0435\\u0432\\u043d\\u0430\",\"\\u0427\\u0438\\u0436\\u043e\\u0432\\u0430 \\u0415\\u043b\\u0435\\u043d\\u0430 \\u0412\\u043b\\u0430\\u0434\\u0438\\u043c\\u0438\\u0440\\u043e\\u0432\\u043d\\u0430\",\"\\u0427\\u0438\\u0447\\u0438\\u043a\\u0438\\u043d\\u0430 \\u0413\\u0430\\u043b\\u0438\\u043d\\u0430 \\u041f\\u0430\\u0432\\u043b\\u043e\\u0432\\u043d\\u0430\"],\"xaxis\":\"x\",\"y\":[9.32,5.15,11.73,23.63,5.44,11.74,4.92,12.69,13.52,13.64,3.16,12.88,5.6,13.54,12.31,14.15,8.08,13.23,8.93,10.93,9.68,14.99,4.38,9.69,14.11,4.93],\"yaxis\":\"y\"}],                        {\"barmode\":\"group\",\"legend\":{\"title\":{\"text\":\"\\u041c\\u0435\\u0441\\u044f\\u0446\"},\"tracegroupgap\":0},\"plot_bgcolor\":\"rgb(255,255,255)\",\"template\":{\"data\":{\"bar\":[{\"error_x\":{\"color\":\"#2a3f5f\"},\"error_y\":{\"color\":\"#2a3f5f\"},\"marker\":{\"line\":{\"color\":\"#E5ECF6\",\"width\":0.5},\"pattern\":{\"fillmode\":\"overlay\",\"size\":10,\"solidity\":0.2}},\"type\":\"bar\"}],\"barpolar\":[{\"marker\":{\"line\":{\"color\":\"#E5ECF6\",\"width\":0.5},\"pattern\":{\"fillmode\":\"overlay\",\"size\":10,\"solidity\":0.2}},\"type\":\"barpolar\"}],\"carpet\":[{\"aaxis\":{\"endlinecolor\":\"#2a3f5f\",\"gridcolor\":\"white\",\"linecolor\":\"white\",\"minorgridcolor\":\"white\",\"startlinecolor\":\"#2a3f5f\"},\"baxis\":{\"endlinecolor\":\"#2a3f5f\",\"gridcolor\":\"white\",\"linecolor\":\"white\",\"minorgridcolor\":\"white\",\"startlinecolor\":\"#2a3f5f\"},\"type\":\"carpet\"}],\"choropleth\":[{\"colorbar\":{\"outlinewidth\":0,\"ticks\":\"\"},\"type\":\"choropleth\"}],\"contour\":[{\"colorbar\":{\"outlinewidth\":0,\"ticks\":\"\"},\"colorscale\":[[0.0,\"#0d0887\"],[0.1111111111111111,\"#46039f\"],[0.2222222222222222,\"#7201a8\"],[0.3333333333333333,\"#9c179e\"],[0.4444444444444444,\"#bd3786\"],[0.5555555555555556,\"#d8576b\"],[0.6666666666666666,\"#ed7953\"],[0.7777777777777778,\"#fb9f3a\"],[0.8888888888888888,\"#fdca26\"],[1.0,\"#f0f921\"]],\"type\":\"contour\"}],\"contourcarpet\":[{\"colorbar\":{\"outlinewidth\":0,\"ticks\":\"\"},\"type\":\"contourcarpet\"}],\"heatmap\":[{\"colorbar\":{\"outlinewidth\":0,\"ticks\":\"\"},\"colorscale\":[[0.0,\"#0d0887\"],[0.1111111111111111,\"#46039f\"],[0.2222222222222222,\"#7201a8\"],[0.3333333333333333,\"#9c179e\"],[0.4444444444444444,\"#bd3786\"],[0.5555555555555556,\"#d8576b\"],[0.6666666666666666,\"#ed7953\"],[0.7777777777777778,\"#fb9f3a\"],[0.8888888888888888,\"#fdca26\"],[1.0,\"#f0f921\"]],\"type\":\"heatmap\"}],\"heatmapgl\":[{\"colorbar\":{\"outlinewidth\":0,\"ticks\":\"\"},\"colorscale\":[[0.0,\"#0d0887\"],[0.1111111111111111,\"#46039f\"],[0.2222222222222222,\"#7201a8\"],[0.3333333333333333,\"#9c179e\"],[0.4444444444444444,\"#bd3786\"],[0.5555555555555556,\"#d8576b\"],[0.6666666666666666,\"#ed7953\"],[0.7777777777777778,\"#fb9f3a\"],[0.8888888888888888,\"#fdca26\"],[1.0,\"#f0f921\"]],\"type\":\"heatmapgl\"}],\"histogram\":[{\"marker\":{\"pattern\":{\"fillmode\":\"overlay\",\"size\":10,\"solidity\":0.2}},\"type\":\"histogram\"}],\"histogram2d\":[{\"colorbar\":{\"outlinewidth\":0,\"ticks\":\"\"},\"colorscale\":[[0.0,\"#0d0887\"],[0.1111111111111111,\"#46039f\"],[0.2222222222222222,\"#7201a8\"],[0.3333333333333333,\"#9c179e\"],[0.4444444444444444,\"#bd3786\"],[0.5555555555555556,\"#d8576b\"],[0.6666666666666666,\"#ed7953\"],[0.7777777777777778,\"#fb9f3a\"],[0.8888888888888888,\"#fdca26\"],[1.0,\"#f0f921\"]],\"type\":\"histogram2d\"}],\"histogram2dcontour\":[{\"colorbar\":{\"outlinewidth\":0,\"ticks\":\"\"},\"colorscale\":[[0.0,\"#0d0887\"],[0.1111111111111111,\"#46039f\"],[0.2222222222222222,\"#7201a8\"],[0.3333333333333333,\"#9c179e\"],[0.4444444444444444,\"#bd3786\"],[0.5555555555555556,\"#d8576b\"],[0.6666666666666666,\"#ed7953\"],[0.7777777777777778,\"#fb9f3a\"],[0.8888888888888888,\"#fdca26\"],[1.0,\"#f0f921\"]],\"type\":\"histogram2dcontour\"}],\"mesh3d\":[{\"colorbar\":{\"outlinewidth\":0,\"ticks\":\"\"},\"type\":\"mesh3d\"}],\"parcoords\":[{\"line\":{\"colorbar\":{\"outlinewidth\":0,\"ticks\":\"\"}},\"type\":\"parcoords\"}],\"pie\":[{\"automargin\":true,\"type\":\"pie\"}],\"scatter\":[{\"marker\":{\"colorbar\":{\"outlinewidth\":0,\"ticks\":\"\"}},\"type\":\"scatter\"}],\"scatter3d\":[{\"line\":{\"colorbar\":{\"outlinewidth\":0,\"ticks\":\"\"}},\"marker\":{\"colorbar\":{\"outlinewidth\":0,\"ticks\":\"\"}},\"type\":\"scatter3d\"}],\"scattercarpet\":[{\"marker\":{\"colorbar\":{\"outlinewidth\":0,\"ticks\":\"\"}},\"type\":\"scattercarpet\"}],\"scattergeo\":[{\"marker\":{\"colorbar\":{\"outlinewidth\":0,\"ticks\":\"\"}},\"type\":\"scattergeo\"}],\"scattergl\":[{\"marker\":{\"colorbar\":{\"outlinewidth\":0,\"ticks\":\"\"}},\"type\":\"scattergl\"}],\"scattermapbox\":[{\"marker\":{\"colorbar\":{\"outlinewidth\":0,\"ticks\":\"\"}},\"type\":\"scattermapbox\"}],\"scatterpolar\":[{\"marker\":{\"colorbar\":{\"outlinewidth\":0,\"ticks\":\"\"}},\"type\":\"scatterpolar\"}],\"scatterpolargl\":[{\"marker\":{\"colorbar\":{\"outlinewidth\":0,\"ticks\":\"\"}},\"type\":\"scatterpolargl\"}],\"scatterternary\":[{\"marker\":{\"colorbar\":{\"outlinewidth\":0,\"ticks\":\"\"}},\"type\":\"scatterternary\"}],\"surface\":[{\"colorbar\":{\"outlinewidth\":0,\"ticks\":\"\"},\"colorscale\":[[0.0,\"#0d0887\"],[0.1111111111111111,\"#46039f\"],[0.2222222222222222,\"#7201a8\"],[0.3333333333333333,\"#9c179e\"],[0.4444444444444444,\"#bd3786\"],[0.5555555555555556,\"#d8576b\"],[0.6666666666666666,\"#ed7953\"],[0.7777777777777778,\"#fb9f3a\"],[0.8888888888888888,\"#fdca26\"],[1.0,\"#f0f921\"]],\"type\":\"surface\"}],\"table\":[{\"cells\":{\"fill\":{\"color\":\"#EBF0F8\"},\"line\":{\"color\":\"white\"}},\"header\":{\"fill\":{\"color\":\"#C8D4E3\"},\"line\":{\"color\":\"white\"}},\"type\":\"table\"}]},\"layout\":{\"annotationdefaults\":{\"arrowcolor\":\"#2a3f5f\",\"arrowhead\":0,\"arrowwidth\":1},\"autotypenumbers\":\"strict\",\"coloraxis\":{\"colorbar\":{\"outlinewidth\":0,\"ticks\":\"\"}},\"colorscale\":{\"diverging\":[[0,\"#8e0152\"],[0.1,\"#c51b7d\"],[0.2,\"#de77ae\"],[0.3,\"#f1b6da\"],[0.4,\"#fde0ef\"],[0.5,\"#f7f7f7\"],[0.6,\"#e6f5d0\"],[0.7,\"#b8e186\"],[0.8,\"#7fbc41\"],[0.9,\"#4d9221\"],[1,\"#276419\"]],\"sequential\":[[0.0,\"#0d0887\"],[0.1111111111111111,\"#46039f\"],[0.2222222222222222,\"#7201a8\"],[0.3333333333333333,\"#9c179e\"],[0.4444444444444444,\"#bd3786\"],[0.5555555555555556,\"#d8576b\"],[0.6666666666666666,\"#ed7953\"],[0.7777777777777778,\"#fb9f3a\"],[0.8888888888888888,\"#fdca26\"],[1.0,\"#f0f921\"]],\"sequentialminus\":[[0.0,\"#0d0887\"],[0.1111111111111111,\"#46039f\"],[0.2222222222222222,\"#7201a8\"],[0.3333333333333333,\"#9c179e\"],[0.4444444444444444,\"#bd3786\"],[0.5555555555555556,\"#d8576b\"],[0.6666666666666666,\"#ed7953\"],[0.7777777777777778,\"#fb9f3a\"],[0.8888888888888888,\"#fdca26\"],[1.0,\"#f0f921\"]]},\"colorway\":[\"#636efa\",\"#EF553B\",\"#00cc96\",\"#ab63fa\",\"#FFA15A\",\"#19d3f3\",\"#FF6692\",\"#B6E880\",\"#FF97FF\",\"#FECB52\"],\"font\":{\"color\":\"#2a3f5f\"},\"geo\":{\"bgcolor\":\"white\",\"lakecolor\":\"white\",\"landcolor\":\"#E5ECF6\",\"showlakes\":true,\"showland\":true,\"subunitcolor\":\"white\"},\"hoverlabel\":{\"align\":\"left\"},\"hovermode\":\"closest\",\"mapbox\":{\"style\":\"light\"},\"paper_bgcolor\":\"white\",\"plot_bgcolor\":\"#E5ECF6\",\"polar\":{\"angularaxis\":{\"gridcolor\":\"white\",\"linecolor\":\"white\",\"ticks\":\"\"},\"bgcolor\":\"#E5ECF6\",\"radialaxis\":{\"gridcolor\":\"white\",\"linecolor\":\"white\",\"ticks\":\"\"}},\"scene\":{\"xaxis\":{\"backgroundcolor\":\"#E5ECF6\",\"gridcolor\":\"white\",\"gridwidth\":2,\"linecolor\":\"white\",\"showbackground\":true,\"ticks\":\"\",\"zerolinecolor\":\"white\"},\"yaxis\":{\"backgroundcolor\":\"#E5ECF6\",\"gridcolor\":\"white\",\"gridwidth\":2,\"linecolor\":\"white\",\"showbackground\":true,\"ticks\":\"\",\"zerolinecolor\":\"white\"},\"zaxis\":{\"backgroundcolor\":\"#E5ECF6\",\"gridcolor\":\"white\",\"gridwidth\":2,\"linecolor\":\"white\",\"showbackground\":true,\"ticks\":\"\",\"zerolinecolor\":\"white\"}},\"shapedefaults\":{\"line\":{\"color\":\"#2a3f5f\"}},\"ternary\":{\"aaxis\":{\"gridcolor\":\"white\",\"linecolor\":\"white\",\"ticks\":\"\"},\"baxis\":{\"gridcolor\":\"white\",\"linecolor\":\"white\",\"ticks\":\"\"},\"bgcolor\":\"#E5ECF6\",\"caxis\":{\"gridcolor\":\"white\",\"linecolor\":\"white\",\"ticks\":\"\"}},\"title\":{\"x\":0.05},\"xaxis\":{\"automargin\":true,\"gridcolor\":\"white\",\"linecolor\":\"white\",\"ticks\":\"\",\"title\":{\"standoff\":15},\"zerolinecolor\":\"white\",\"zerolinewidth\":2},\"yaxis\":{\"automargin\":true,\"gridcolor\":\"white\",\"linecolor\":\"white\",\"ticks\":\"\",\"title\":{\"standoff\":15},\"zerolinecolor\":\"white\",\"zerolinewidth\":2}}},\"title\":{\"text\":\"\\u0421\\u0440\\u0435\\u0434\\u043d\\u0435\\u0435 \\u043a\\u043e\\u043b\\u0438\\u0447\\u0435\\u0441\\u0442\\u0432\\u043e \\u0423\\u0415\\u0422 \\u0432 \\u0422\\u0410\\u041f \\u0437\\u0430 2022 \\u0433\\u043e\\u0434\"},\"width\":1660,\"xaxis\":{\"anchor\":\"y\",\"categoryorder\":\"total descending\",\"domain\":[0.0,1.0],\"title\":{\"text\":\"\\u0412\\u0440\\u0430\\u0447\"}},\"yaxis\":{\"anchor\":\"x\",\"domain\":[0.0,1.0],\"gridcolor\":\"grey\",\"title\":{\"text\":\"\\u0423\\u0415\\u0422\"}}},                        {\"responsive\": true}                    ).then(function(){\n",
       "                            \n",
       "var gd = document.getElementById('93b025fb-28b6-44de-acee-a23f492380cb');\n",
       "var x = new MutationObserver(function (mutations, observer) {{\n",
       "        var display = window.getComputedStyle(gd).display;\n",
       "        if (!display || display === 'none') {{\n",
       "            console.log([gd, 'removed!']);\n",
       "            Plotly.purge(gd);\n",
       "            observer.disconnect();\n",
       "        }}\n",
       "}});\n",
       "\n",
       "// Listen for the removal of the full notebook cells\n",
       "var notebookContainer = gd.closest('#notebook-container');\n",
       "if (notebookContainer) {{\n",
       "    x.observe(notebookContainer, {childList: true});\n",
       "}}\n",
       "\n",
       "// Listen for the clearing of the current output cell\n",
       "var outputEl = gd.closest('.output');\n",
       "if (outputEl) {{\n",
       "    x.observe(outputEl, {childList: true});\n",
       "}}\n",
       "\n",
       "                        })                };                });            </script>        </div>"
      ]
     },
     "metadata": {},
     "output_type": "display_data"
    }
   ],
   "source": [
    "# Средняя стоимость ТАП в УЕТ по врачу и месяцу (ч/б)\n",
    "\n",
    "px.bar(df_result_by_month, \n",
    "       x='Врач',\n",
    "       y='avg_uet',\n",
    "       color='Месяц',\n",
    "       barmode='group',\n",
    "       width=1660,\n",
    "       color_discrete_sequence=greys,\n",
    "       title=f'Среднее количество УЕТ в ТАП за {year} год') \\\n",
    "    .update_layout(plot_bgcolor='rgb(255,255,255)') \\\n",
    "    .update_yaxes(title_text = 'УЕТ', gridcolor='grey') \\\n",
    "    .update_xaxes(categoryorder='total descending')"
   ]
  },
  {
   "cell_type": "code",
   "execution_count": 238,
   "metadata": {},
   "outputs": [
    {
     "data": {
      "application/vnd.plotly.v1+json": {
       "config": {
        "plotlyServerURL": "https://plot.ly"
       },
       "data": [
        {
         "alignmentgroup": "True",
         "hovertemplate": "Месяц=0122<br>Врач=%{x}<br>avg_uet=%{y}<extra></extra>",
         "legendgroup": "0122",
         "marker": {
          "color": "#636efa",
          "pattern": {
           "shape": ""
          }
         },
         "name": "0122",
         "offsetgroup": "0122",
         "orientation": "v",
         "showlegend": true,
         "textposition": "auto",
         "type": "bar",
         "x": [
          "Александрова Светлана Викторовна",
          "Арутюнян Арутюн Левонович",
          "Власова Альфия Лябибовна",
          "Володин Павел Юрьевич",
          "Володько Валентина Ивановна",
          "Гвоздева Татьяна Анатольевна",
          "Горбикова Эльфия Рашитовна",
          "Завгородный Сергей Валерианович",
          "Захаров Иван Владимирович",
          "Камынова Наталия Валериевна",
          "Коваленко Ольга Эдуардовна",
          "Коваленко Ольга Эдуардовна физио",
          "Ковшов Александр Александрович",
          "Колесова Наталья Викторовна",
          "Кукушкина Лариса Рамзановна",
          "Литвинова Нина Алексеевна",
          "Лопаткина Алёна Сергеевна",
          "Максимец Ирина Ивановна",
          "Мкртчян Тарон Арсенович",
          "Морошенкова Гульмира Абылкаковна",
          "Николаева Надежда Григорьевна",
          "Ольховская Альбина Владимировна",
          "Пузанова Лидия Сергеевна",
          "Рыбак Лилия Сергеевна",
          "Скалкович Инна Валерьевна",
          "Чижова Елена Владимировна",
          "Чичикина Галина Павловна"
         ],
         "xaxis": "x",
         "y": [
          11.56,
          4.46,
          11.91,
          10.46,
          5,
          12.01,
          11.41,
          4.9,
          12.16,
          11.37,
          15.98,
          3.31,
          12.53,
          5.8,
          5.44,
          12.61,
          13.43,
          12.33,
          12.31,
          12.97,
          10.23,
          11.47,
          16.29,
          4.13,
          14.22,
          15,
          4.68
         ],
         "yaxis": "y"
        },
        {
         "alignmentgroup": "True",
         "hovertemplate": "Месяц=0222<br>Врач=%{x}<br>avg_uet=%{y}<extra></extra>",
         "legendgroup": "0222",
         "marker": {
          "color": "#EF553B",
          "pattern": {
           "shape": ""
          }
         },
         "name": "0222",
         "offsetgroup": "0222",
         "orientation": "v",
         "showlegend": true,
         "textposition": "auto",
         "type": "bar",
         "x": [
          "Александрова Светлана Викторовна",
          "Арутюнян Арутюн Левонович",
          "Власова Альфия Лябибовна",
          "Володин Павел Юрьевич",
          "Володько Валентина Ивановна",
          "Гвоздева Татьяна Анатольевна",
          "Горбикова Эльфия Рашитовна",
          "Завгородный Сергей Валерианович",
          "Захаров Иван Владимирович",
          "Камынова Наталия Валериевна",
          "Коваленко Ольга Эдуардовна",
          "Коваленко Ольга Эдуардовна физио",
          "Ковшов Александр Александрович",
          "Колесова Наталья Викторовна",
          "Кукушкина Лариса Рамзановна",
          "Литвинова Нина Алексеевна",
          "Лопаткина Алёна Сергеевна",
          "Максимец Ирина Ивановна",
          "Мкртчян Тарон Арсенович",
          "Морошенкова Гульмира Абылкаковна",
          "Николаева Надежда Григорьевна",
          "Ольховская Альбина Владимировна",
          "Пузанова Лидия Сергеевна",
          "Рыбак Лилия Сергеевна",
          "Скалкович Инна Валерьевна",
          "Чижова Елена Владимировна",
          "Чичикина Галина Павловна"
         ],
         "xaxis": "x",
         "y": [
          11.33,
          4.53,
          9.04,
          12.49,
          4.68,
          10.65,
          10.15,
          5.3,
          9.5,
          10.44,
          14.15,
          3.13,
          12.87,
          5.9,
          7.5,
          12.17,
          11.26,
          11.18,
          18.85,
          10.22,
          11.84,
          11.47,
          14.3,
          4.29,
          13.83,
          15.97,
          4.64
         ],
         "yaxis": "y"
        },
        {
         "alignmentgroup": "True",
         "hovertemplate": "Месяц=0322<br>Врач=%{x}<br>avg_uet=%{y}<extra></extra>",
         "legendgroup": "0322",
         "marker": {
          "color": "#00cc96",
          "pattern": {
           "shape": ""
          }
         },
         "name": "0322",
         "offsetgroup": "0322",
         "orientation": "v",
         "showlegend": true,
         "textposition": "auto",
         "type": "bar",
         "x": [
          "Александрова Светлана Викторовна",
          "Арутюнян Арутюн Левонович",
          "Власова Альфия Лябибовна",
          "Володин Павел Юрьевич",
          "Володько Валентина Ивановна",
          "Гвоздева Татьяна Анатольевна",
          "Горбикова Эльфия Рашитовна",
          "Завгородный Сергей Валерианович",
          "Захаров Иван Владимирович",
          "Камынова Наталия Валериевна",
          "Коваленко Ольга Эдуардовна",
          "Коваленко Ольга Эдуардовна физио",
          "Ковшов Александр Александрович",
          "Колесова Наталья Викторовна",
          "Кукушкина Лариса Рамзановна",
          "Литвинова Нина Алексеевна",
          "Лопаткина Алёна Сергеевна",
          "Максимец Ирина Ивановна",
          "Мкртчян Тарон Арсенович",
          "Морошенкова Гульмира Абылкаковна",
          "Николаева Надежда Григорьевна",
          "Ольховская Альбина Владимировна",
          "Пузанова Лидия Сергеевна",
          "Рыбак Лилия Сергеевна",
          "Скалкович Инна Валерьевна",
          "Чижова Елена Владимировна",
          "Чичикина Галина Павловна"
         ],
         "xaxis": "x",
         "y": [
          10.71,
          4.45,
          13.87,
          18.05,
          4.96,
          11.88,
          13.25,
          5.11,
          11.96,
          14.73,
          16.95,
          3.2,
          12.74,
          5.92,
          10.94,
          12.56,
          13.13,
          10.61,
          15.85,
          11.65,
          12.25,
          12.56,
          14.69,
          4.32,
          15.01,
          15.76,
          4.64
         ],
         "yaxis": "y"
        },
        {
         "alignmentgroup": "True",
         "hovertemplate": "Месяц=0422<br>Врач=%{x}<br>avg_uet=%{y}<extra></extra>",
         "legendgroup": "0422",
         "marker": {
          "color": "#ab63fa",
          "pattern": {
           "shape": ""
          }
         },
         "name": "0422",
         "offsetgroup": "0422",
         "orientation": "v",
         "showlegend": true,
         "textposition": "auto",
         "type": "bar",
         "x": [
          "Александрова Светлана Викторовна",
          "Арутюнян Арутюн Левонович",
          "Власова Альфия Лябибовна",
          "Володин Павел Юрьевич",
          "Володько Валентина Ивановна",
          "Гвоздева Татьяна Анатольевна",
          "Горбикова Эльфия Рашитовна",
          "Завгородный Сергей Валерианович",
          "Захаров Иван Владимирович",
          "Камынова Наталия Валериевна",
          "Коваленко Ольга Эдуардовна",
          "Коваленко Ольга Эдуардовна физио",
          "Ковшов Александр Александрович",
          "Колесова Наталья Викторовна",
          "Кукушкина Лариса Рамзановна",
          "Литвинова Нина Алексеевна",
          "Лопаткина Алёна Сергеевна",
          "Максимец Ирина Ивановна",
          "Мкртчян Тарон Арсенович",
          "Морошенкова Гульмира Абылкаковна",
          "Николаева Надежда Григорьевна",
          "Ольховская Альбина Владимировна",
          "Пузанова Лидия Сергеевна",
          "Рыбак Лилия Сергеевна",
          "Скалкович Инна Валерьевна",
          "Чижова Елена Владимировна",
          "Чичикина Галина Павловна"
         ],
         "xaxis": "x",
         "y": [
          11.28,
          4.29,
          12.5,
          14.63,
          4.87,
          11,
          12.99,
          4.93,
          11.18,
          13.96,
          16.35,
          3.1,
          12.41,
          5.64,
          14.62,
          10.57,
          11.85,
          9.17,
          13.06,
          11.36,
          12.25,
          11.32,
          14.78,
          4.24,
          18.47,
          14.06,
          4.38
         ],
         "yaxis": "y"
        },
        {
         "alignmentgroup": "True",
         "hovertemplate": "Месяц=0522<br>Врач=%{x}<br>avg_uet=%{y}<extra></extra>",
         "legendgroup": "0522",
         "marker": {
          "color": "#FFA15A",
          "pattern": {
           "shape": ""
          }
         },
         "name": "0522",
         "offsetgroup": "0522",
         "orientation": "v",
         "showlegend": true,
         "textposition": "auto",
         "type": "bar",
         "x": [
          "Александрова Светлана Викторовна",
          "Арутюнян Арутюн Левонович",
          "Власова Альфия Лябибовна",
          "Володин Павел Юрьевич",
          "Володько Валентина Ивановна",
          "Горбикова Эльфия Рашитовна",
          "Завгородный Сергей Валерианович",
          "Захаров Иван Владимирович",
          "Камынова Наталия Валериевна",
          "Коваленко Ольга Эдуардовна",
          "Коваленко Ольга Эдуардовна физио",
          "Ковшов Александр Александрович",
          "Колесова Наталья Викторовна",
          "Кукушкина Лариса Рамзановна",
          "Литвинова Нина Алексеевна",
          "Лопаткина Алёна Сергеевна",
          "Максимец Ирина Ивановна",
          "Мкртчян Тарон Арсенович",
          "Морошенкова Гульмира Абылкаковна",
          "Николаева Надежда Григорьевна",
          "Ольховская Альбина Владимировна",
          "Пузанова Лидия Сергеевна",
          "Рыбак Лилия Сергеевна",
          "Скалкович Инна Валерьевна",
          "Чижова Елена Владимировна",
          "Чичикина Галина Павловна"
         ],
         "xaxis": "x",
         "y": [
          9.32,
          5.15,
          11.73,
          23.63,
          5.44,
          11.74,
          4.92,
          12.69,
          13.52,
          13.64,
          3.16,
          12.88,
          5.6,
          13.54,
          12.31,
          14.15,
          8.08,
          13.23,
          8.93,
          10.93,
          9.68,
          14.99,
          4.38,
          9.69,
          14.11,
          4.93
         ],
         "yaxis": "y"
        }
       ],
       "layout": {
        "barmode": "group",
        "legend": {
         "title": {
          "text": "Месяц"
         },
         "tracegroupgap": 0
        },
        "template": {
         "data": {
          "bar": [
           {
            "error_x": {
             "color": "#2a3f5f"
            },
            "error_y": {
             "color": "#2a3f5f"
            },
            "marker": {
             "line": {
              "color": "#E5ECF6",
              "width": 0.5
             },
             "pattern": {
              "fillmode": "overlay",
              "size": 10,
              "solidity": 0.2
             }
            },
            "type": "bar"
           }
          ],
          "barpolar": [
           {
            "marker": {
             "line": {
              "color": "#E5ECF6",
              "width": 0.5
             },
             "pattern": {
              "fillmode": "overlay",
              "size": 10,
              "solidity": 0.2
             }
            },
            "type": "barpolar"
           }
          ],
          "carpet": [
           {
            "aaxis": {
             "endlinecolor": "#2a3f5f",
             "gridcolor": "white",
             "linecolor": "white",
             "minorgridcolor": "white",
             "startlinecolor": "#2a3f5f"
            },
            "baxis": {
             "endlinecolor": "#2a3f5f",
             "gridcolor": "white",
             "linecolor": "white",
             "minorgridcolor": "white",
             "startlinecolor": "#2a3f5f"
            },
            "type": "carpet"
           }
          ],
          "choropleth": [
           {
            "colorbar": {
             "outlinewidth": 0,
             "ticks": ""
            },
            "type": "choropleth"
           }
          ],
          "contour": [
           {
            "colorbar": {
             "outlinewidth": 0,
             "ticks": ""
            },
            "colorscale": [
             [
              0,
              "#0d0887"
             ],
             [
              0.1111111111111111,
              "#46039f"
             ],
             [
              0.2222222222222222,
              "#7201a8"
             ],
             [
              0.3333333333333333,
              "#9c179e"
             ],
             [
              0.4444444444444444,
              "#bd3786"
             ],
             [
              0.5555555555555556,
              "#d8576b"
             ],
             [
              0.6666666666666666,
              "#ed7953"
             ],
             [
              0.7777777777777778,
              "#fb9f3a"
             ],
             [
              0.8888888888888888,
              "#fdca26"
             ],
             [
              1,
              "#f0f921"
             ]
            ],
            "type": "contour"
           }
          ],
          "contourcarpet": [
           {
            "colorbar": {
             "outlinewidth": 0,
             "ticks": ""
            },
            "type": "contourcarpet"
           }
          ],
          "heatmap": [
           {
            "colorbar": {
             "outlinewidth": 0,
             "ticks": ""
            },
            "colorscale": [
             [
              0,
              "#0d0887"
             ],
             [
              0.1111111111111111,
              "#46039f"
             ],
             [
              0.2222222222222222,
              "#7201a8"
             ],
             [
              0.3333333333333333,
              "#9c179e"
             ],
             [
              0.4444444444444444,
              "#bd3786"
             ],
             [
              0.5555555555555556,
              "#d8576b"
             ],
             [
              0.6666666666666666,
              "#ed7953"
             ],
             [
              0.7777777777777778,
              "#fb9f3a"
             ],
             [
              0.8888888888888888,
              "#fdca26"
             ],
             [
              1,
              "#f0f921"
             ]
            ],
            "type": "heatmap"
           }
          ],
          "heatmapgl": [
           {
            "colorbar": {
             "outlinewidth": 0,
             "ticks": ""
            },
            "colorscale": [
             [
              0,
              "#0d0887"
             ],
             [
              0.1111111111111111,
              "#46039f"
             ],
             [
              0.2222222222222222,
              "#7201a8"
             ],
             [
              0.3333333333333333,
              "#9c179e"
             ],
             [
              0.4444444444444444,
              "#bd3786"
             ],
             [
              0.5555555555555556,
              "#d8576b"
             ],
             [
              0.6666666666666666,
              "#ed7953"
             ],
             [
              0.7777777777777778,
              "#fb9f3a"
             ],
             [
              0.8888888888888888,
              "#fdca26"
             ],
             [
              1,
              "#f0f921"
             ]
            ],
            "type": "heatmapgl"
           }
          ],
          "histogram": [
           {
            "marker": {
             "pattern": {
              "fillmode": "overlay",
              "size": 10,
              "solidity": 0.2
             }
            },
            "type": "histogram"
           }
          ],
          "histogram2d": [
           {
            "colorbar": {
             "outlinewidth": 0,
             "ticks": ""
            },
            "colorscale": [
             [
              0,
              "#0d0887"
             ],
             [
              0.1111111111111111,
              "#46039f"
             ],
             [
              0.2222222222222222,
              "#7201a8"
             ],
             [
              0.3333333333333333,
              "#9c179e"
             ],
             [
              0.4444444444444444,
              "#bd3786"
             ],
             [
              0.5555555555555556,
              "#d8576b"
             ],
             [
              0.6666666666666666,
              "#ed7953"
             ],
             [
              0.7777777777777778,
              "#fb9f3a"
             ],
             [
              0.8888888888888888,
              "#fdca26"
             ],
             [
              1,
              "#f0f921"
             ]
            ],
            "type": "histogram2d"
           }
          ],
          "histogram2dcontour": [
           {
            "colorbar": {
             "outlinewidth": 0,
             "ticks": ""
            },
            "colorscale": [
             [
              0,
              "#0d0887"
             ],
             [
              0.1111111111111111,
              "#46039f"
             ],
             [
              0.2222222222222222,
              "#7201a8"
             ],
             [
              0.3333333333333333,
              "#9c179e"
             ],
             [
              0.4444444444444444,
              "#bd3786"
             ],
             [
              0.5555555555555556,
              "#d8576b"
             ],
             [
              0.6666666666666666,
              "#ed7953"
             ],
             [
              0.7777777777777778,
              "#fb9f3a"
             ],
             [
              0.8888888888888888,
              "#fdca26"
             ],
             [
              1,
              "#f0f921"
             ]
            ],
            "type": "histogram2dcontour"
           }
          ],
          "mesh3d": [
           {
            "colorbar": {
             "outlinewidth": 0,
             "ticks": ""
            },
            "type": "mesh3d"
           }
          ],
          "parcoords": [
           {
            "line": {
             "colorbar": {
              "outlinewidth": 0,
              "ticks": ""
             }
            },
            "type": "parcoords"
           }
          ],
          "pie": [
           {
            "automargin": true,
            "type": "pie"
           }
          ],
          "scatter": [
           {
            "marker": {
             "colorbar": {
              "outlinewidth": 0,
              "ticks": ""
             }
            },
            "type": "scatter"
           }
          ],
          "scatter3d": [
           {
            "line": {
             "colorbar": {
              "outlinewidth": 0,
              "ticks": ""
             }
            },
            "marker": {
             "colorbar": {
              "outlinewidth": 0,
              "ticks": ""
             }
            },
            "type": "scatter3d"
           }
          ],
          "scattercarpet": [
           {
            "marker": {
             "colorbar": {
              "outlinewidth": 0,
              "ticks": ""
             }
            },
            "type": "scattercarpet"
           }
          ],
          "scattergeo": [
           {
            "marker": {
             "colorbar": {
              "outlinewidth": 0,
              "ticks": ""
             }
            },
            "type": "scattergeo"
           }
          ],
          "scattergl": [
           {
            "marker": {
             "colorbar": {
              "outlinewidth": 0,
              "ticks": ""
             }
            },
            "type": "scattergl"
           }
          ],
          "scattermapbox": [
           {
            "marker": {
             "colorbar": {
              "outlinewidth": 0,
              "ticks": ""
             }
            },
            "type": "scattermapbox"
           }
          ],
          "scatterpolar": [
           {
            "marker": {
             "colorbar": {
              "outlinewidth": 0,
              "ticks": ""
             }
            },
            "type": "scatterpolar"
           }
          ],
          "scatterpolargl": [
           {
            "marker": {
             "colorbar": {
              "outlinewidth": 0,
              "ticks": ""
             }
            },
            "type": "scatterpolargl"
           }
          ],
          "scatterternary": [
           {
            "marker": {
             "colorbar": {
              "outlinewidth": 0,
              "ticks": ""
             }
            },
            "type": "scatterternary"
           }
          ],
          "surface": [
           {
            "colorbar": {
             "outlinewidth": 0,
             "ticks": ""
            },
            "colorscale": [
             [
              0,
              "#0d0887"
             ],
             [
              0.1111111111111111,
              "#46039f"
             ],
             [
              0.2222222222222222,
              "#7201a8"
             ],
             [
              0.3333333333333333,
              "#9c179e"
             ],
             [
              0.4444444444444444,
              "#bd3786"
             ],
             [
              0.5555555555555556,
              "#d8576b"
             ],
             [
              0.6666666666666666,
              "#ed7953"
             ],
             [
              0.7777777777777778,
              "#fb9f3a"
             ],
             [
              0.8888888888888888,
              "#fdca26"
             ],
             [
              1,
              "#f0f921"
             ]
            ],
            "type": "surface"
           }
          ],
          "table": [
           {
            "cells": {
             "fill": {
              "color": "#EBF0F8"
             },
             "line": {
              "color": "white"
             }
            },
            "header": {
             "fill": {
              "color": "#C8D4E3"
             },
             "line": {
              "color": "white"
             }
            },
            "type": "table"
           }
          ]
         },
         "layout": {
          "annotationdefaults": {
           "arrowcolor": "#2a3f5f",
           "arrowhead": 0,
           "arrowwidth": 1
          },
          "autotypenumbers": "strict",
          "coloraxis": {
           "colorbar": {
            "outlinewidth": 0,
            "ticks": ""
           }
          },
          "colorscale": {
           "diverging": [
            [
             0,
             "#8e0152"
            ],
            [
             0.1,
             "#c51b7d"
            ],
            [
             0.2,
             "#de77ae"
            ],
            [
             0.3,
             "#f1b6da"
            ],
            [
             0.4,
             "#fde0ef"
            ],
            [
             0.5,
             "#f7f7f7"
            ],
            [
             0.6,
             "#e6f5d0"
            ],
            [
             0.7,
             "#b8e186"
            ],
            [
             0.8,
             "#7fbc41"
            ],
            [
             0.9,
             "#4d9221"
            ],
            [
             1,
             "#276419"
            ]
           ],
           "sequential": [
            [
             0,
             "#0d0887"
            ],
            [
             0.1111111111111111,
             "#46039f"
            ],
            [
             0.2222222222222222,
             "#7201a8"
            ],
            [
             0.3333333333333333,
             "#9c179e"
            ],
            [
             0.4444444444444444,
             "#bd3786"
            ],
            [
             0.5555555555555556,
             "#d8576b"
            ],
            [
             0.6666666666666666,
             "#ed7953"
            ],
            [
             0.7777777777777778,
             "#fb9f3a"
            ],
            [
             0.8888888888888888,
             "#fdca26"
            ],
            [
             1,
             "#f0f921"
            ]
           ],
           "sequentialminus": [
            [
             0,
             "#0d0887"
            ],
            [
             0.1111111111111111,
             "#46039f"
            ],
            [
             0.2222222222222222,
             "#7201a8"
            ],
            [
             0.3333333333333333,
             "#9c179e"
            ],
            [
             0.4444444444444444,
             "#bd3786"
            ],
            [
             0.5555555555555556,
             "#d8576b"
            ],
            [
             0.6666666666666666,
             "#ed7953"
            ],
            [
             0.7777777777777778,
             "#fb9f3a"
            ],
            [
             0.8888888888888888,
             "#fdca26"
            ],
            [
             1,
             "#f0f921"
            ]
           ]
          },
          "colorway": [
           "#636efa",
           "#EF553B",
           "#00cc96",
           "#ab63fa",
           "#FFA15A",
           "#19d3f3",
           "#FF6692",
           "#B6E880",
           "#FF97FF",
           "#FECB52"
          ],
          "font": {
           "color": "#2a3f5f"
          },
          "geo": {
           "bgcolor": "white",
           "lakecolor": "white",
           "landcolor": "#E5ECF6",
           "showlakes": true,
           "showland": true,
           "subunitcolor": "white"
          },
          "hoverlabel": {
           "align": "left"
          },
          "hovermode": "closest",
          "mapbox": {
           "style": "light"
          },
          "paper_bgcolor": "white",
          "plot_bgcolor": "#E5ECF6",
          "polar": {
           "angularaxis": {
            "gridcolor": "white",
            "linecolor": "white",
            "ticks": ""
           },
           "bgcolor": "#E5ECF6",
           "radialaxis": {
            "gridcolor": "white",
            "linecolor": "white",
            "ticks": ""
           }
          },
          "scene": {
           "xaxis": {
            "backgroundcolor": "#E5ECF6",
            "gridcolor": "white",
            "gridwidth": 2,
            "linecolor": "white",
            "showbackground": true,
            "ticks": "",
            "zerolinecolor": "white"
           },
           "yaxis": {
            "backgroundcolor": "#E5ECF6",
            "gridcolor": "white",
            "gridwidth": 2,
            "linecolor": "white",
            "showbackground": true,
            "ticks": "",
            "zerolinecolor": "white"
           },
           "zaxis": {
            "backgroundcolor": "#E5ECF6",
            "gridcolor": "white",
            "gridwidth": 2,
            "linecolor": "white",
            "showbackground": true,
            "ticks": "",
            "zerolinecolor": "white"
           }
          },
          "shapedefaults": {
           "line": {
            "color": "#2a3f5f"
           }
          },
          "ternary": {
           "aaxis": {
            "gridcolor": "white",
            "linecolor": "white",
            "ticks": ""
           },
           "baxis": {
            "gridcolor": "white",
            "linecolor": "white",
            "ticks": ""
           },
           "bgcolor": "#E5ECF6",
           "caxis": {
            "gridcolor": "white",
            "linecolor": "white",
            "ticks": ""
           }
          },
          "title": {
           "x": 0.05
          },
          "xaxis": {
           "automargin": true,
           "gridcolor": "white",
           "linecolor": "white",
           "ticks": "",
           "title": {
            "standoff": 15
           },
           "zerolinecolor": "white",
           "zerolinewidth": 2
          },
          "yaxis": {
           "automargin": true,
           "gridcolor": "white",
           "linecolor": "white",
           "ticks": "",
           "title": {
            "standoff": 15
           },
           "zerolinecolor": "white",
           "zerolinewidth": 2
          }
         }
        },
        "title": {
         "text": "Среднее количество УЕТ в ТАП за 2022 год"
        },
        "width": 1660,
        "xaxis": {
         "anchor": "y",
         "categoryorder": "total descending",
         "domain": [
          0,
          1
         ],
         "title": {
          "text": "Врач"
         }
        },
        "yaxis": {
         "anchor": "x",
         "domain": [
          0,
          1
         ],
         "title": {
          "text": "УЕТ"
         }
        }
       }
      },
      "text/html": [
       "<div>                            <div id=\"e316b7eb-019e-4836-943a-a43362e78d0d\" class=\"plotly-graph-div\" style=\"height:525px; width:1660px;\"></div>            <script type=\"text/javascript\">                require([\"plotly\"], function(Plotly) {                    window.PLOTLYENV=window.PLOTLYENV || {};                                    if (document.getElementById(\"e316b7eb-019e-4836-943a-a43362e78d0d\")) {                    Plotly.newPlot(                        \"e316b7eb-019e-4836-943a-a43362e78d0d\",                        [{\"alignmentgroup\":\"True\",\"hovertemplate\":\"\\u041c\\u0435\\u0441\\u044f\\u0446=0122<br>\\u0412\\u0440\\u0430\\u0447=%{x}<br>avg_uet=%{y}<extra></extra>\",\"legendgroup\":\"0122\",\"marker\":{\"color\":\"#636efa\",\"pattern\":{\"shape\":\"\"}},\"name\":\"0122\",\"offsetgroup\":\"0122\",\"orientation\":\"v\",\"showlegend\":true,\"textposition\":\"auto\",\"type\":\"bar\",\"x\":[\"\\u0410\\u043b\\u0435\\u043a\\u0441\\u0430\\u043d\\u0434\\u0440\\u043e\\u0432\\u0430 \\u0421\\u0432\\u0435\\u0442\\u043b\\u0430\\u043d\\u0430 \\u0412\\u0438\\u043a\\u0442\\u043e\\u0440\\u043e\\u0432\\u043d\\u0430\",\"\\u0410\\u0440\\u0443\\u0442\\u044e\\u043d\\u044f\\u043d \\u0410\\u0440\\u0443\\u0442\\u044e\\u043d \\u041b\\u0435\\u0432\\u043e\\u043d\\u043e\\u0432\\u0438\\u0447\",\"\\u0412\\u043b\\u0430\\u0441\\u043e\\u0432\\u0430 \\u0410\\u043b\\u044c\\u0444\\u0438\\u044f \\u041b\\u044f\\u0431\\u0438\\u0431\\u043e\\u0432\\u043d\\u0430\",\"\\u0412\\u043e\\u043b\\u043e\\u0434\\u0438\\u043d \\u041f\\u0430\\u0432\\u0435\\u043b \\u042e\\u0440\\u044c\\u0435\\u0432\\u0438\\u0447\",\"\\u0412\\u043e\\u043b\\u043e\\u0434\\u044c\\u043a\\u043e \\u0412\\u0430\\u043b\\u0435\\u043d\\u0442\\u0438\\u043d\\u0430 \\u0418\\u0432\\u0430\\u043d\\u043e\\u0432\\u043d\\u0430\",\"\\u0413\\u0432\\u043e\\u0437\\u0434\\u0435\\u0432\\u0430 \\u0422\\u0430\\u0442\\u044c\\u044f\\u043d\\u0430 \\u0410\\u043d\\u0430\\u0442\\u043e\\u043b\\u044c\\u0435\\u0432\\u043d\\u0430\",\"\\u0413\\u043e\\u0440\\u0431\\u0438\\u043a\\u043e\\u0432\\u0430 \\u042d\\u043b\\u044c\\u0444\\u0438\\u044f \\u0420\\u0430\\u0448\\u0438\\u0442\\u043e\\u0432\\u043d\\u0430\",\"\\u0417\\u0430\\u0432\\u0433\\u043e\\u0440\\u043e\\u0434\\u043d\\u044b\\u0439 \\u0421\\u0435\\u0440\\u0433\\u0435\\u0439 \\u0412\\u0430\\u043b\\u0435\\u0440\\u0438\\u0430\\u043d\\u043e\\u0432\\u0438\\u0447\",\"\\u0417\\u0430\\u0445\\u0430\\u0440\\u043e\\u0432 \\u0418\\u0432\\u0430\\u043d \\u0412\\u043b\\u0430\\u0434\\u0438\\u043c\\u0438\\u0440\\u043e\\u0432\\u0438\\u0447\",\"\\u041a\\u0430\\u043c\\u044b\\u043d\\u043e\\u0432\\u0430 \\u041d\\u0430\\u0442\\u0430\\u043b\\u0438\\u044f \\u0412\\u0430\\u043b\\u0435\\u0440\\u0438\\u0435\\u0432\\u043d\\u0430\",\"\\u041a\\u043e\\u0432\\u0430\\u043b\\u0435\\u043d\\u043a\\u043e \\u041e\\u043b\\u044c\\u0433\\u0430 \\u042d\\u0434\\u0443\\u0430\\u0440\\u0434\\u043e\\u0432\\u043d\\u0430\",\"\\u041a\\u043e\\u0432\\u0430\\u043b\\u0435\\u043d\\u043a\\u043e \\u041e\\u043b\\u044c\\u0433\\u0430 \\u042d\\u0434\\u0443\\u0430\\u0440\\u0434\\u043e\\u0432\\u043d\\u0430 \\u0444\\u0438\\u0437\\u0438\\u043e\",\"\\u041a\\u043e\\u0432\\u0448\\u043e\\u0432 \\u0410\\u043b\\u0435\\u043a\\u0441\\u0430\\u043d\\u0434\\u0440 \\u0410\\u043b\\u0435\\u043a\\u0441\\u0430\\u043d\\u0434\\u0440\\u043e\\u0432\\u0438\\u0447\",\"\\u041a\\u043e\\u043b\\u0435\\u0441\\u043e\\u0432\\u0430 \\u041d\\u0430\\u0442\\u0430\\u043b\\u044c\\u044f \\u0412\\u0438\\u043a\\u0442\\u043e\\u0440\\u043e\\u0432\\u043d\\u0430\",\"\\u041a\\u0443\\u043a\\u0443\\u0448\\u043a\\u0438\\u043d\\u0430 \\u041b\\u0430\\u0440\\u0438\\u0441\\u0430 \\u0420\\u0430\\u043c\\u0437\\u0430\\u043d\\u043e\\u0432\\u043d\\u0430\",\"\\u041b\\u0438\\u0442\\u0432\\u0438\\u043d\\u043e\\u0432\\u0430 \\u041d\\u0438\\u043d\\u0430 \\u0410\\u043b\\u0435\\u043a\\u0441\\u0435\\u0435\\u0432\\u043d\\u0430\",\"\\u041b\\u043e\\u043f\\u0430\\u0442\\u043a\\u0438\\u043d\\u0430 \\u0410\\u043b\\u0451\\u043d\\u0430 \\u0421\\u0435\\u0440\\u0433\\u0435\\u0435\\u0432\\u043d\\u0430\",\"\\u041c\\u0430\\u043a\\u0441\\u0438\\u043c\\u0435\\u0446 \\u0418\\u0440\\u0438\\u043d\\u0430 \\u0418\\u0432\\u0430\\u043d\\u043e\\u0432\\u043d\\u0430\",\"\\u041c\\u043a\\u0440\\u0442\\u0447\\u044f\\u043d \\u0422\\u0430\\u0440\\u043e\\u043d \\u0410\\u0440\\u0441\\u0435\\u043d\\u043e\\u0432\\u0438\\u0447\",\"\\u041c\\u043e\\u0440\\u043e\\u0448\\u0435\\u043d\\u043a\\u043e\\u0432\\u0430 \\u0413\\u0443\\u043b\\u044c\\u043c\\u0438\\u0440\\u0430 \\u0410\\u0431\\u044b\\u043b\\u043a\\u0430\\u043a\\u043e\\u0432\\u043d\\u0430\",\"\\u041d\\u0438\\u043a\\u043e\\u043b\\u0430\\u0435\\u0432\\u0430 \\u041d\\u0430\\u0434\\u0435\\u0436\\u0434\\u0430 \\u0413\\u0440\\u0438\\u0433\\u043e\\u0440\\u044c\\u0435\\u0432\\u043d\\u0430\",\"\\u041e\\u043b\\u044c\\u0445\\u043e\\u0432\\u0441\\u043a\\u0430\\u044f \\u0410\\u043b\\u044c\\u0431\\u0438\\u043d\\u0430 \\u0412\\u043b\\u0430\\u0434\\u0438\\u043c\\u0438\\u0440\\u043e\\u0432\\u043d\\u0430\",\"\\u041f\\u0443\\u0437\\u0430\\u043d\\u043e\\u0432\\u0430 \\u041b\\u0438\\u0434\\u0438\\u044f \\u0421\\u0435\\u0440\\u0433\\u0435\\u0435\\u0432\\u043d\\u0430\",\"\\u0420\\u044b\\u0431\\u0430\\u043a \\u041b\\u0438\\u043b\\u0438\\u044f \\u0421\\u0435\\u0440\\u0433\\u0435\\u0435\\u0432\\u043d\\u0430\",\"\\u0421\\u043a\\u0430\\u043b\\u043a\\u043e\\u0432\\u0438\\u0447 \\u0418\\u043d\\u043d\\u0430 \\u0412\\u0430\\u043b\\u0435\\u0440\\u044c\\u0435\\u0432\\u043d\\u0430\",\"\\u0427\\u0438\\u0436\\u043e\\u0432\\u0430 \\u0415\\u043b\\u0435\\u043d\\u0430 \\u0412\\u043b\\u0430\\u0434\\u0438\\u043c\\u0438\\u0440\\u043e\\u0432\\u043d\\u0430\",\"\\u0427\\u0438\\u0447\\u0438\\u043a\\u0438\\u043d\\u0430 \\u0413\\u0430\\u043b\\u0438\\u043d\\u0430 \\u041f\\u0430\\u0432\\u043b\\u043e\\u0432\\u043d\\u0430\"],\"xaxis\":\"x\",\"y\":[11.56,4.46,11.91,10.46,5.0,12.01,11.41,4.9,12.16,11.37,15.98,3.31,12.53,5.8,5.44,12.61,13.43,12.33,12.31,12.97,10.23,11.47,16.29,4.13,14.22,15.0,4.68],\"yaxis\":\"y\"},{\"alignmentgroup\":\"True\",\"hovertemplate\":\"\\u041c\\u0435\\u0441\\u044f\\u0446=0222<br>\\u0412\\u0440\\u0430\\u0447=%{x}<br>avg_uet=%{y}<extra></extra>\",\"legendgroup\":\"0222\",\"marker\":{\"color\":\"#EF553B\",\"pattern\":{\"shape\":\"\"}},\"name\":\"0222\",\"offsetgroup\":\"0222\",\"orientation\":\"v\",\"showlegend\":true,\"textposition\":\"auto\",\"type\":\"bar\",\"x\":[\"\\u0410\\u043b\\u0435\\u043a\\u0441\\u0430\\u043d\\u0434\\u0440\\u043e\\u0432\\u0430 \\u0421\\u0432\\u0435\\u0442\\u043b\\u0430\\u043d\\u0430 \\u0412\\u0438\\u043a\\u0442\\u043e\\u0440\\u043e\\u0432\\u043d\\u0430\",\"\\u0410\\u0440\\u0443\\u0442\\u044e\\u043d\\u044f\\u043d \\u0410\\u0440\\u0443\\u0442\\u044e\\u043d \\u041b\\u0435\\u0432\\u043e\\u043d\\u043e\\u0432\\u0438\\u0447\",\"\\u0412\\u043b\\u0430\\u0441\\u043e\\u0432\\u0430 \\u0410\\u043b\\u044c\\u0444\\u0438\\u044f \\u041b\\u044f\\u0431\\u0438\\u0431\\u043e\\u0432\\u043d\\u0430\",\"\\u0412\\u043e\\u043b\\u043e\\u0434\\u0438\\u043d \\u041f\\u0430\\u0432\\u0435\\u043b \\u042e\\u0440\\u044c\\u0435\\u0432\\u0438\\u0447\",\"\\u0412\\u043e\\u043b\\u043e\\u0434\\u044c\\u043a\\u043e \\u0412\\u0430\\u043b\\u0435\\u043d\\u0442\\u0438\\u043d\\u0430 \\u0418\\u0432\\u0430\\u043d\\u043e\\u0432\\u043d\\u0430\",\"\\u0413\\u0432\\u043e\\u0437\\u0434\\u0435\\u0432\\u0430 \\u0422\\u0430\\u0442\\u044c\\u044f\\u043d\\u0430 \\u0410\\u043d\\u0430\\u0442\\u043e\\u043b\\u044c\\u0435\\u0432\\u043d\\u0430\",\"\\u0413\\u043e\\u0440\\u0431\\u0438\\u043a\\u043e\\u0432\\u0430 \\u042d\\u043b\\u044c\\u0444\\u0438\\u044f \\u0420\\u0430\\u0448\\u0438\\u0442\\u043e\\u0432\\u043d\\u0430\",\"\\u0417\\u0430\\u0432\\u0433\\u043e\\u0440\\u043e\\u0434\\u043d\\u044b\\u0439 \\u0421\\u0435\\u0440\\u0433\\u0435\\u0439 \\u0412\\u0430\\u043b\\u0435\\u0440\\u0438\\u0430\\u043d\\u043e\\u0432\\u0438\\u0447\",\"\\u0417\\u0430\\u0445\\u0430\\u0440\\u043e\\u0432 \\u0418\\u0432\\u0430\\u043d \\u0412\\u043b\\u0430\\u0434\\u0438\\u043c\\u0438\\u0440\\u043e\\u0432\\u0438\\u0447\",\"\\u041a\\u0430\\u043c\\u044b\\u043d\\u043e\\u0432\\u0430 \\u041d\\u0430\\u0442\\u0430\\u043b\\u0438\\u044f \\u0412\\u0430\\u043b\\u0435\\u0440\\u0438\\u0435\\u0432\\u043d\\u0430\",\"\\u041a\\u043e\\u0432\\u0430\\u043b\\u0435\\u043d\\u043a\\u043e \\u041e\\u043b\\u044c\\u0433\\u0430 \\u042d\\u0434\\u0443\\u0430\\u0440\\u0434\\u043e\\u0432\\u043d\\u0430\",\"\\u041a\\u043e\\u0432\\u0430\\u043b\\u0435\\u043d\\u043a\\u043e \\u041e\\u043b\\u044c\\u0433\\u0430 \\u042d\\u0434\\u0443\\u0430\\u0440\\u0434\\u043e\\u0432\\u043d\\u0430 \\u0444\\u0438\\u0437\\u0438\\u043e\",\"\\u041a\\u043e\\u0432\\u0448\\u043e\\u0432 \\u0410\\u043b\\u0435\\u043a\\u0441\\u0430\\u043d\\u0434\\u0440 \\u0410\\u043b\\u0435\\u043a\\u0441\\u0430\\u043d\\u0434\\u0440\\u043e\\u0432\\u0438\\u0447\",\"\\u041a\\u043e\\u043b\\u0435\\u0441\\u043e\\u0432\\u0430 \\u041d\\u0430\\u0442\\u0430\\u043b\\u044c\\u044f \\u0412\\u0438\\u043a\\u0442\\u043e\\u0440\\u043e\\u0432\\u043d\\u0430\",\"\\u041a\\u0443\\u043a\\u0443\\u0448\\u043a\\u0438\\u043d\\u0430 \\u041b\\u0430\\u0440\\u0438\\u0441\\u0430 \\u0420\\u0430\\u043c\\u0437\\u0430\\u043d\\u043e\\u0432\\u043d\\u0430\",\"\\u041b\\u0438\\u0442\\u0432\\u0438\\u043d\\u043e\\u0432\\u0430 \\u041d\\u0438\\u043d\\u0430 \\u0410\\u043b\\u0435\\u043a\\u0441\\u0435\\u0435\\u0432\\u043d\\u0430\",\"\\u041b\\u043e\\u043f\\u0430\\u0442\\u043a\\u0438\\u043d\\u0430 \\u0410\\u043b\\u0451\\u043d\\u0430 \\u0421\\u0435\\u0440\\u0433\\u0435\\u0435\\u0432\\u043d\\u0430\",\"\\u041c\\u0430\\u043a\\u0441\\u0438\\u043c\\u0435\\u0446 \\u0418\\u0440\\u0438\\u043d\\u0430 \\u0418\\u0432\\u0430\\u043d\\u043e\\u0432\\u043d\\u0430\",\"\\u041c\\u043a\\u0440\\u0442\\u0447\\u044f\\u043d \\u0422\\u0430\\u0440\\u043e\\u043d \\u0410\\u0440\\u0441\\u0435\\u043d\\u043e\\u0432\\u0438\\u0447\",\"\\u041c\\u043e\\u0440\\u043e\\u0448\\u0435\\u043d\\u043a\\u043e\\u0432\\u0430 \\u0413\\u0443\\u043b\\u044c\\u043c\\u0438\\u0440\\u0430 \\u0410\\u0431\\u044b\\u043b\\u043a\\u0430\\u043a\\u043e\\u0432\\u043d\\u0430\",\"\\u041d\\u0438\\u043a\\u043e\\u043b\\u0430\\u0435\\u0432\\u0430 \\u041d\\u0430\\u0434\\u0435\\u0436\\u0434\\u0430 \\u0413\\u0440\\u0438\\u0433\\u043e\\u0440\\u044c\\u0435\\u0432\\u043d\\u0430\",\"\\u041e\\u043b\\u044c\\u0445\\u043e\\u0432\\u0441\\u043a\\u0430\\u044f \\u0410\\u043b\\u044c\\u0431\\u0438\\u043d\\u0430 \\u0412\\u043b\\u0430\\u0434\\u0438\\u043c\\u0438\\u0440\\u043e\\u0432\\u043d\\u0430\",\"\\u041f\\u0443\\u0437\\u0430\\u043d\\u043e\\u0432\\u0430 \\u041b\\u0438\\u0434\\u0438\\u044f \\u0421\\u0435\\u0440\\u0433\\u0435\\u0435\\u0432\\u043d\\u0430\",\"\\u0420\\u044b\\u0431\\u0430\\u043a \\u041b\\u0438\\u043b\\u0438\\u044f \\u0421\\u0435\\u0440\\u0433\\u0435\\u0435\\u0432\\u043d\\u0430\",\"\\u0421\\u043a\\u0430\\u043b\\u043a\\u043e\\u0432\\u0438\\u0447 \\u0418\\u043d\\u043d\\u0430 \\u0412\\u0430\\u043b\\u0435\\u0440\\u044c\\u0435\\u0432\\u043d\\u0430\",\"\\u0427\\u0438\\u0436\\u043e\\u0432\\u0430 \\u0415\\u043b\\u0435\\u043d\\u0430 \\u0412\\u043b\\u0430\\u0434\\u0438\\u043c\\u0438\\u0440\\u043e\\u0432\\u043d\\u0430\",\"\\u0427\\u0438\\u0447\\u0438\\u043a\\u0438\\u043d\\u0430 \\u0413\\u0430\\u043b\\u0438\\u043d\\u0430 \\u041f\\u0430\\u0432\\u043b\\u043e\\u0432\\u043d\\u0430\"],\"xaxis\":\"x\",\"y\":[11.33,4.53,9.04,12.49,4.68,10.65,10.15,5.3,9.5,10.44,14.15,3.13,12.87,5.9,7.5,12.17,11.26,11.18,18.85,10.22,11.84,11.47,14.3,4.29,13.83,15.97,4.64],\"yaxis\":\"y\"},{\"alignmentgroup\":\"True\",\"hovertemplate\":\"\\u041c\\u0435\\u0441\\u044f\\u0446=0322<br>\\u0412\\u0440\\u0430\\u0447=%{x}<br>avg_uet=%{y}<extra></extra>\",\"legendgroup\":\"0322\",\"marker\":{\"color\":\"#00cc96\",\"pattern\":{\"shape\":\"\"}},\"name\":\"0322\",\"offsetgroup\":\"0322\",\"orientation\":\"v\",\"showlegend\":true,\"textposition\":\"auto\",\"type\":\"bar\",\"x\":[\"\\u0410\\u043b\\u0435\\u043a\\u0441\\u0430\\u043d\\u0434\\u0440\\u043e\\u0432\\u0430 \\u0421\\u0432\\u0435\\u0442\\u043b\\u0430\\u043d\\u0430 \\u0412\\u0438\\u043a\\u0442\\u043e\\u0440\\u043e\\u0432\\u043d\\u0430\",\"\\u0410\\u0440\\u0443\\u0442\\u044e\\u043d\\u044f\\u043d \\u0410\\u0440\\u0443\\u0442\\u044e\\u043d \\u041b\\u0435\\u0432\\u043e\\u043d\\u043e\\u0432\\u0438\\u0447\",\"\\u0412\\u043b\\u0430\\u0441\\u043e\\u0432\\u0430 \\u0410\\u043b\\u044c\\u0444\\u0438\\u044f \\u041b\\u044f\\u0431\\u0438\\u0431\\u043e\\u0432\\u043d\\u0430\",\"\\u0412\\u043e\\u043b\\u043e\\u0434\\u0438\\u043d \\u041f\\u0430\\u0432\\u0435\\u043b \\u042e\\u0440\\u044c\\u0435\\u0432\\u0438\\u0447\",\"\\u0412\\u043e\\u043b\\u043e\\u0434\\u044c\\u043a\\u043e \\u0412\\u0430\\u043b\\u0435\\u043d\\u0442\\u0438\\u043d\\u0430 \\u0418\\u0432\\u0430\\u043d\\u043e\\u0432\\u043d\\u0430\",\"\\u0413\\u0432\\u043e\\u0437\\u0434\\u0435\\u0432\\u0430 \\u0422\\u0430\\u0442\\u044c\\u044f\\u043d\\u0430 \\u0410\\u043d\\u0430\\u0442\\u043e\\u043b\\u044c\\u0435\\u0432\\u043d\\u0430\",\"\\u0413\\u043e\\u0440\\u0431\\u0438\\u043a\\u043e\\u0432\\u0430 \\u042d\\u043b\\u044c\\u0444\\u0438\\u044f \\u0420\\u0430\\u0448\\u0438\\u0442\\u043e\\u0432\\u043d\\u0430\",\"\\u0417\\u0430\\u0432\\u0433\\u043e\\u0440\\u043e\\u0434\\u043d\\u044b\\u0439 \\u0421\\u0435\\u0440\\u0433\\u0435\\u0439 \\u0412\\u0430\\u043b\\u0435\\u0440\\u0438\\u0430\\u043d\\u043e\\u0432\\u0438\\u0447\",\"\\u0417\\u0430\\u0445\\u0430\\u0440\\u043e\\u0432 \\u0418\\u0432\\u0430\\u043d \\u0412\\u043b\\u0430\\u0434\\u0438\\u043c\\u0438\\u0440\\u043e\\u0432\\u0438\\u0447\",\"\\u041a\\u0430\\u043c\\u044b\\u043d\\u043e\\u0432\\u0430 \\u041d\\u0430\\u0442\\u0430\\u043b\\u0438\\u044f \\u0412\\u0430\\u043b\\u0435\\u0440\\u0438\\u0435\\u0432\\u043d\\u0430\",\"\\u041a\\u043e\\u0432\\u0430\\u043b\\u0435\\u043d\\u043a\\u043e \\u041e\\u043b\\u044c\\u0433\\u0430 \\u042d\\u0434\\u0443\\u0430\\u0440\\u0434\\u043e\\u0432\\u043d\\u0430\",\"\\u041a\\u043e\\u0432\\u0430\\u043b\\u0435\\u043d\\u043a\\u043e \\u041e\\u043b\\u044c\\u0433\\u0430 \\u042d\\u0434\\u0443\\u0430\\u0440\\u0434\\u043e\\u0432\\u043d\\u0430 \\u0444\\u0438\\u0437\\u0438\\u043e\",\"\\u041a\\u043e\\u0432\\u0448\\u043e\\u0432 \\u0410\\u043b\\u0435\\u043a\\u0441\\u0430\\u043d\\u0434\\u0440 \\u0410\\u043b\\u0435\\u043a\\u0441\\u0430\\u043d\\u0434\\u0440\\u043e\\u0432\\u0438\\u0447\",\"\\u041a\\u043e\\u043b\\u0435\\u0441\\u043e\\u0432\\u0430 \\u041d\\u0430\\u0442\\u0430\\u043b\\u044c\\u044f \\u0412\\u0438\\u043a\\u0442\\u043e\\u0440\\u043e\\u0432\\u043d\\u0430\",\"\\u041a\\u0443\\u043a\\u0443\\u0448\\u043a\\u0438\\u043d\\u0430 \\u041b\\u0430\\u0440\\u0438\\u0441\\u0430 \\u0420\\u0430\\u043c\\u0437\\u0430\\u043d\\u043e\\u0432\\u043d\\u0430\",\"\\u041b\\u0438\\u0442\\u0432\\u0438\\u043d\\u043e\\u0432\\u0430 \\u041d\\u0438\\u043d\\u0430 \\u0410\\u043b\\u0435\\u043a\\u0441\\u0435\\u0435\\u0432\\u043d\\u0430\",\"\\u041b\\u043e\\u043f\\u0430\\u0442\\u043a\\u0438\\u043d\\u0430 \\u0410\\u043b\\u0451\\u043d\\u0430 \\u0421\\u0435\\u0440\\u0433\\u0435\\u0435\\u0432\\u043d\\u0430\",\"\\u041c\\u0430\\u043a\\u0441\\u0438\\u043c\\u0435\\u0446 \\u0418\\u0440\\u0438\\u043d\\u0430 \\u0418\\u0432\\u0430\\u043d\\u043e\\u0432\\u043d\\u0430\",\"\\u041c\\u043a\\u0440\\u0442\\u0447\\u044f\\u043d \\u0422\\u0430\\u0440\\u043e\\u043d \\u0410\\u0440\\u0441\\u0435\\u043d\\u043e\\u0432\\u0438\\u0447\",\"\\u041c\\u043e\\u0440\\u043e\\u0448\\u0435\\u043d\\u043a\\u043e\\u0432\\u0430 \\u0413\\u0443\\u043b\\u044c\\u043c\\u0438\\u0440\\u0430 \\u0410\\u0431\\u044b\\u043b\\u043a\\u0430\\u043a\\u043e\\u0432\\u043d\\u0430\",\"\\u041d\\u0438\\u043a\\u043e\\u043b\\u0430\\u0435\\u0432\\u0430 \\u041d\\u0430\\u0434\\u0435\\u0436\\u0434\\u0430 \\u0413\\u0440\\u0438\\u0433\\u043e\\u0440\\u044c\\u0435\\u0432\\u043d\\u0430\",\"\\u041e\\u043b\\u044c\\u0445\\u043e\\u0432\\u0441\\u043a\\u0430\\u044f \\u0410\\u043b\\u044c\\u0431\\u0438\\u043d\\u0430 \\u0412\\u043b\\u0430\\u0434\\u0438\\u043c\\u0438\\u0440\\u043e\\u0432\\u043d\\u0430\",\"\\u041f\\u0443\\u0437\\u0430\\u043d\\u043e\\u0432\\u0430 \\u041b\\u0438\\u0434\\u0438\\u044f \\u0421\\u0435\\u0440\\u0433\\u0435\\u0435\\u0432\\u043d\\u0430\",\"\\u0420\\u044b\\u0431\\u0430\\u043a \\u041b\\u0438\\u043b\\u0438\\u044f \\u0421\\u0435\\u0440\\u0433\\u0435\\u0435\\u0432\\u043d\\u0430\",\"\\u0421\\u043a\\u0430\\u043b\\u043a\\u043e\\u0432\\u0438\\u0447 \\u0418\\u043d\\u043d\\u0430 \\u0412\\u0430\\u043b\\u0435\\u0440\\u044c\\u0435\\u0432\\u043d\\u0430\",\"\\u0427\\u0438\\u0436\\u043e\\u0432\\u0430 \\u0415\\u043b\\u0435\\u043d\\u0430 \\u0412\\u043b\\u0430\\u0434\\u0438\\u043c\\u0438\\u0440\\u043e\\u0432\\u043d\\u0430\",\"\\u0427\\u0438\\u0447\\u0438\\u043a\\u0438\\u043d\\u0430 \\u0413\\u0430\\u043b\\u0438\\u043d\\u0430 \\u041f\\u0430\\u0432\\u043b\\u043e\\u0432\\u043d\\u0430\"],\"xaxis\":\"x\",\"y\":[10.71,4.45,13.87,18.05,4.96,11.88,13.25,5.11,11.96,14.73,16.95,3.2,12.74,5.92,10.94,12.56,13.13,10.61,15.85,11.65,12.25,12.56,14.69,4.32,15.01,15.76,4.64],\"yaxis\":\"y\"},{\"alignmentgroup\":\"True\",\"hovertemplate\":\"\\u041c\\u0435\\u0441\\u044f\\u0446=0422<br>\\u0412\\u0440\\u0430\\u0447=%{x}<br>avg_uet=%{y}<extra></extra>\",\"legendgroup\":\"0422\",\"marker\":{\"color\":\"#ab63fa\",\"pattern\":{\"shape\":\"\"}},\"name\":\"0422\",\"offsetgroup\":\"0422\",\"orientation\":\"v\",\"showlegend\":true,\"textposition\":\"auto\",\"type\":\"bar\",\"x\":[\"\\u0410\\u043b\\u0435\\u043a\\u0441\\u0430\\u043d\\u0434\\u0440\\u043e\\u0432\\u0430 \\u0421\\u0432\\u0435\\u0442\\u043b\\u0430\\u043d\\u0430 \\u0412\\u0438\\u043a\\u0442\\u043e\\u0440\\u043e\\u0432\\u043d\\u0430\",\"\\u0410\\u0440\\u0443\\u0442\\u044e\\u043d\\u044f\\u043d \\u0410\\u0440\\u0443\\u0442\\u044e\\u043d \\u041b\\u0435\\u0432\\u043e\\u043d\\u043e\\u0432\\u0438\\u0447\",\"\\u0412\\u043b\\u0430\\u0441\\u043e\\u0432\\u0430 \\u0410\\u043b\\u044c\\u0444\\u0438\\u044f \\u041b\\u044f\\u0431\\u0438\\u0431\\u043e\\u0432\\u043d\\u0430\",\"\\u0412\\u043e\\u043b\\u043e\\u0434\\u0438\\u043d \\u041f\\u0430\\u0432\\u0435\\u043b \\u042e\\u0440\\u044c\\u0435\\u0432\\u0438\\u0447\",\"\\u0412\\u043e\\u043b\\u043e\\u0434\\u044c\\u043a\\u043e \\u0412\\u0430\\u043b\\u0435\\u043d\\u0442\\u0438\\u043d\\u0430 \\u0418\\u0432\\u0430\\u043d\\u043e\\u0432\\u043d\\u0430\",\"\\u0413\\u0432\\u043e\\u0437\\u0434\\u0435\\u0432\\u0430 \\u0422\\u0430\\u0442\\u044c\\u044f\\u043d\\u0430 \\u0410\\u043d\\u0430\\u0442\\u043e\\u043b\\u044c\\u0435\\u0432\\u043d\\u0430\",\"\\u0413\\u043e\\u0440\\u0431\\u0438\\u043a\\u043e\\u0432\\u0430 \\u042d\\u043b\\u044c\\u0444\\u0438\\u044f \\u0420\\u0430\\u0448\\u0438\\u0442\\u043e\\u0432\\u043d\\u0430\",\"\\u0417\\u0430\\u0432\\u0433\\u043e\\u0440\\u043e\\u0434\\u043d\\u044b\\u0439 \\u0421\\u0435\\u0440\\u0433\\u0435\\u0439 \\u0412\\u0430\\u043b\\u0435\\u0440\\u0438\\u0430\\u043d\\u043e\\u0432\\u0438\\u0447\",\"\\u0417\\u0430\\u0445\\u0430\\u0440\\u043e\\u0432 \\u0418\\u0432\\u0430\\u043d \\u0412\\u043b\\u0430\\u0434\\u0438\\u043c\\u0438\\u0440\\u043e\\u0432\\u0438\\u0447\",\"\\u041a\\u0430\\u043c\\u044b\\u043d\\u043e\\u0432\\u0430 \\u041d\\u0430\\u0442\\u0430\\u043b\\u0438\\u044f \\u0412\\u0430\\u043b\\u0435\\u0440\\u0438\\u0435\\u0432\\u043d\\u0430\",\"\\u041a\\u043e\\u0432\\u0430\\u043b\\u0435\\u043d\\u043a\\u043e \\u041e\\u043b\\u044c\\u0433\\u0430 \\u042d\\u0434\\u0443\\u0430\\u0440\\u0434\\u043e\\u0432\\u043d\\u0430\",\"\\u041a\\u043e\\u0432\\u0430\\u043b\\u0435\\u043d\\u043a\\u043e \\u041e\\u043b\\u044c\\u0433\\u0430 \\u042d\\u0434\\u0443\\u0430\\u0440\\u0434\\u043e\\u0432\\u043d\\u0430 \\u0444\\u0438\\u0437\\u0438\\u043e\",\"\\u041a\\u043e\\u0432\\u0448\\u043e\\u0432 \\u0410\\u043b\\u0435\\u043a\\u0441\\u0430\\u043d\\u0434\\u0440 \\u0410\\u043b\\u0435\\u043a\\u0441\\u0430\\u043d\\u0434\\u0440\\u043e\\u0432\\u0438\\u0447\",\"\\u041a\\u043e\\u043b\\u0435\\u0441\\u043e\\u0432\\u0430 \\u041d\\u0430\\u0442\\u0430\\u043b\\u044c\\u044f \\u0412\\u0438\\u043a\\u0442\\u043e\\u0440\\u043e\\u0432\\u043d\\u0430\",\"\\u041a\\u0443\\u043a\\u0443\\u0448\\u043a\\u0438\\u043d\\u0430 \\u041b\\u0430\\u0440\\u0438\\u0441\\u0430 \\u0420\\u0430\\u043c\\u0437\\u0430\\u043d\\u043e\\u0432\\u043d\\u0430\",\"\\u041b\\u0438\\u0442\\u0432\\u0438\\u043d\\u043e\\u0432\\u0430 \\u041d\\u0438\\u043d\\u0430 \\u0410\\u043b\\u0435\\u043a\\u0441\\u0435\\u0435\\u0432\\u043d\\u0430\",\"\\u041b\\u043e\\u043f\\u0430\\u0442\\u043a\\u0438\\u043d\\u0430 \\u0410\\u043b\\u0451\\u043d\\u0430 \\u0421\\u0435\\u0440\\u0433\\u0435\\u0435\\u0432\\u043d\\u0430\",\"\\u041c\\u0430\\u043a\\u0441\\u0438\\u043c\\u0435\\u0446 \\u0418\\u0440\\u0438\\u043d\\u0430 \\u0418\\u0432\\u0430\\u043d\\u043e\\u0432\\u043d\\u0430\",\"\\u041c\\u043a\\u0440\\u0442\\u0447\\u044f\\u043d \\u0422\\u0430\\u0440\\u043e\\u043d \\u0410\\u0440\\u0441\\u0435\\u043d\\u043e\\u0432\\u0438\\u0447\",\"\\u041c\\u043e\\u0440\\u043e\\u0448\\u0435\\u043d\\u043a\\u043e\\u0432\\u0430 \\u0413\\u0443\\u043b\\u044c\\u043c\\u0438\\u0440\\u0430 \\u0410\\u0431\\u044b\\u043b\\u043a\\u0430\\u043a\\u043e\\u0432\\u043d\\u0430\",\"\\u041d\\u0438\\u043a\\u043e\\u043b\\u0430\\u0435\\u0432\\u0430 \\u041d\\u0430\\u0434\\u0435\\u0436\\u0434\\u0430 \\u0413\\u0440\\u0438\\u0433\\u043e\\u0440\\u044c\\u0435\\u0432\\u043d\\u0430\",\"\\u041e\\u043b\\u044c\\u0445\\u043e\\u0432\\u0441\\u043a\\u0430\\u044f \\u0410\\u043b\\u044c\\u0431\\u0438\\u043d\\u0430 \\u0412\\u043b\\u0430\\u0434\\u0438\\u043c\\u0438\\u0440\\u043e\\u0432\\u043d\\u0430\",\"\\u041f\\u0443\\u0437\\u0430\\u043d\\u043e\\u0432\\u0430 \\u041b\\u0438\\u0434\\u0438\\u044f \\u0421\\u0435\\u0440\\u0433\\u0435\\u0435\\u0432\\u043d\\u0430\",\"\\u0420\\u044b\\u0431\\u0430\\u043a \\u041b\\u0438\\u043b\\u0438\\u044f \\u0421\\u0435\\u0440\\u0433\\u0435\\u0435\\u0432\\u043d\\u0430\",\"\\u0421\\u043a\\u0430\\u043b\\u043a\\u043e\\u0432\\u0438\\u0447 \\u0418\\u043d\\u043d\\u0430 \\u0412\\u0430\\u043b\\u0435\\u0440\\u044c\\u0435\\u0432\\u043d\\u0430\",\"\\u0427\\u0438\\u0436\\u043e\\u0432\\u0430 \\u0415\\u043b\\u0435\\u043d\\u0430 \\u0412\\u043b\\u0430\\u0434\\u0438\\u043c\\u0438\\u0440\\u043e\\u0432\\u043d\\u0430\",\"\\u0427\\u0438\\u0447\\u0438\\u043a\\u0438\\u043d\\u0430 \\u0413\\u0430\\u043b\\u0438\\u043d\\u0430 \\u041f\\u0430\\u0432\\u043b\\u043e\\u0432\\u043d\\u0430\"],\"xaxis\":\"x\",\"y\":[11.28,4.29,12.5,14.63,4.87,11.0,12.99,4.93,11.18,13.96,16.35,3.1,12.41,5.64,14.62,10.57,11.85,9.17,13.06,11.36,12.25,11.32,14.78,4.24,18.47,14.06,4.38],\"yaxis\":\"y\"},{\"alignmentgroup\":\"True\",\"hovertemplate\":\"\\u041c\\u0435\\u0441\\u044f\\u0446=0522<br>\\u0412\\u0440\\u0430\\u0447=%{x}<br>avg_uet=%{y}<extra></extra>\",\"legendgroup\":\"0522\",\"marker\":{\"color\":\"#FFA15A\",\"pattern\":{\"shape\":\"\"}},\"name\":\"0522\",\"offsetgroup\":\"0522\",\"orientation\":\"v\",\"showlegend\":true,\"textposition\":\"auto\",\"type\":\"bar\",\"x\":[\"\\u0410\\u043b\\u0435\\u043a\\u0441\\u0430\\u043d\\u0434\\u0440\\u043e\\u0432\\u0430 \\u0421\\u0432\\u0435\\u0442\\u043b\\u0430\\u043d\\u0430 \\u0412\\u0438\\u043a\\u0442\\u043e\\u0440\\u043e\\u0432\\u043d\\u0430\",\"\\u0410\\u0440\\u0443\\u0442\\u044e\\u043d\\u044f\\u043d \\u0410\\u0440\\u0443\\u0442\\u044e\\u043d \\u041b\\u0435\\u0432\\u043e\\u043d\\u043e\\u0432\\u0438\\u0447\",\"\\u0412\\u043b\\u0430\\u0441\\u043e\\u0432\\u0430 \\u0410\\u043b\\u044c\\u0444\\u0438\\u044f \\u041b\\u044f\\u0431\\u0438\\u0431\\u043e\\u0432\\u043d\\u0430\",\"\\u0412\\u043e\\u043b\\u043e\\u0434\\u0438\\u043d \\u041f\\u0430\\u0432\\u0435\\u043b \\u042e\\u0440\\u044c\\u0435\\u0432\\u0438\\u0447\",\"\\u0412\\u043e\\u043b\\u043e\\u0434\\u044c\\u043a\\u043e \\u0412\\u0430\\u043b\\u0435\\u043d\\u0442\\u0438\\u043d\\u0430 \\u0418\\u0432\\u0430\\u043d\\u043e\\u0432\\u043d\\u0430\",\"\\u0413\\u043e\\u0440\\u0431\\u0438\\u043a\\u043e\\u0432\\u0430 \\u042d\\u043b\\u044c\\u0444\\u0438\\u044f \\u0420\\u0430\\u0448\\u0438\\u0442\\u043e\\u0432\\u043d\\u0430\",\"\\u0417\\u0430\\u0432\\u0433\\u043e\\u0440\\u043e\\u0434\\u043d\\u044b\\u0439 \\u0421\\u0435\\u0440\\u0433\\u0435\\u0439 \\u0412\\u0430\\u043b\\u0435\\u0440\\u0438\\u0430\\u043d\\u043e\\u0432\\u0438\\u0447\",\"\\u0417\\u0430\\u0445\\u0430\\u0440\\u043e\\u0432 \\u0418\\u0432\\u0430\\u043d \\u0412\\u043b\\u0430\\u0434\\u0438\\u043c\\u0438\\u0440\\u043e\\u0432\\u0438\\u0447\",\"\\u041a\\u0430\\u043c\\u044b\\u043d\\u043e\\u0432\\u0430 \\u041d\\u0430\\u0442\\u0430\\u043b\\u0438\\u044f \\u0412\\u0430\\u043b\\u0435\\u0440\\u0438\\u0435\\u0432\\u043d\\u0430\",\"\\u041a\\u043e\\u0432\\u0430\\u043b\\u0435\\u043d\\u043a\\u043e \\u041e\\u043b\\u044c\\u0433\\u0430 \\u042d\\u0434\\u0443\\u0430\\u0440\\u0434\\u043e\\u0432\\u043d\\u0430\",\"\\u041a\\u043e\\u0432\\u0430\\u043b\\u0435\\u043d\\u043a\\u043e \\u041e\\u043b\\u044c\\u0433\\u0430 \\u042d\\u0434\\u0443\\u0430\\u0440\\u0434\\u043e\\u0432\\u043d\\u0430 \\u0444\\u0438\\u0437\\u0438\\u043e\",\"\\u041a\\u043e\\u0432\\u0448\\u043e\\u0432 \\u0410\\u043b\\u0435\\u043a\\u0441\\u0430\\u043d\\u0434\\u0440 \\u0410\\u043b\\u0435\\u043a\\u0441\\u0430\\u043d\\u0434\\u0440\\u043e\\u0432\\u0438\\u0447\",\"\\u041a\\u043e\\u043b\\u0435\\u0441\\u043e\\u0432\\u0430 \\u041d\\u0430\\u0442\\u0430\\u043b\\u044c\\u044f \\u0412\\u0438\\u043a\\u0442\\u043e\\u0440\\u043e\\u0432\\u043d\\u0430\",\"\\u041a\\u0443\\u043a\\u0443\\u0448\\u043a\\u0438\\u043d\\u0430 \\u041b\\u0430\\u0440\\u0438\\u0441\\u0430 \\u0420\\u0430\\u043c\\u0437\\u0430\\u043d\\u043e\\u0432\\u043d\\u0430\",\"\\u041b\\u0438\\u0442\\u0432\\u0438\\u043d\\u043e\\u0432\\u0430 \\u041d\\u0438\\u043d\\u0430 \\u0410\\u043b\\u0435\\u043a\\u0441\\u0435\\u0435\\u0432\\u043d\\u0430\",\"\\u041b\\u043e\\u043f\\u0430\\u0442\\u043a\\u0438\\u043d\\u0430 \\u0410\\u043b\\u0451\\u043d\\u0430 \\u0421\\u0435\\u0440\\u0433\\u0435\\u0435\\u0432\\u043d\\u0430\",\"\\u041c\\u0430\\u043a\\u0441\\u0438\\u043c\\u0435\\u0446 \\u0418\\u0440\\u0438\\u043d\\u0430 \\u0418\\u0432\\u0430\\u043d\\u043e\\u0432\\u043d\\u0430\",\"\\u041c\\u043a\\u0440\\u0442\\u0447\\u044f\\u043d \\u0422\\u0430\\u0440\\u043e\\u043d \\u0410\\u0440\\u0441\\u0435\\u043d\\u043e\\u0432\\u0438\\u0447\",\"\\u041c\\u043e\\u0440\\u043e\\u0448\\u0435\\u043d\\u043a\\u043e\\u0432\\u0430 \\u0413\\u0443\\u043b\\u044c\\u043c\\u0438\\u0440\\u0430 \\u0410\\u0431\\u044b\\u043b\\u043a\\u0430\\u043a\\u043e\\u0432\\u043d\\u0430\",\"\\u041d\\u0438\\u043a\\u043e\\u043b\\u0430\\u0435\\u0432\\u0430 \\u041d\\u0430\\u0434\\u0435\\u0436\\u0434\\u0430 \\u0413\\u0440\\u0438\\u0433\\u043e\\u0440\\u044c\\u0435\\u0432\\u043d\\u0430\",\"\\u041e\\u043b\\u044c\\u0445\\u043e\\u0432\\u0441\\u043a\\u0430\\u044f \\u0410\\u043b\\u044c\\u0431\\u0438\\u043d\\u0430 \\u0412\\u043b\\u0430\\u0434\\u0438\\u043c\\u0438\\u0440\\u043e\\u0432\\u043d\\u0430\",\"\\u041f\\u0443\\u0437\\u0430\\u043d\\u043e\\u0432\\u0430 \\u041b\\u0438\\u0434\\u0438\\u044f \\u0421\\u0435\\u0440\\u0433\\u0435\\u0435\\u0432\\u043d\\u0430\",\"\\u0420\\u044b\\u0431\\u0430\\u043a \\u041b\\u0438\\u043b\\u0438\\u044f \\u0421\\u0435\\u0440\\u0433\\u0435\\u0435\\u0432\\u043d\\u0430\",\"\\u0421\\u043a\\u0430\\u043b\\u043a\\u043e\\u0432\\u0438\\u0447 \\u0418\\u043d\\u043d\\u0430 \\u0412\\u0430\\u043b\\u0435\\u0440\\u044c\\u0435\\u0432\\u043d\\u0430\",\"\\u0427\\u0438\\u0436\\u043e\\u0432\\u0430 \\u0415\\u043b\\u0435\\u043d\\u0430 \\u0412\\u043b\\u0430\\u0434\\u0438\\u043c\\u0438\\u0440\\u043e\\u0432\\u043d\\u0430\",\"\\u0427\\u0438\\u0447\\u0438\\u043a\\u0438\\u043d\\u0430 \\u0413\\u0430\\u043b\\u0438\\u043d\\u0430 \\u041f\\u0430\\u0432\\u043b\\u043e\\u0432\\u043d\\u0430\"],\"xaxis\":\"x\",\"y\":[9.32,5.15,11.73,23.63,5.44,11.74,4.92,12.69,13.52,13.64,3.16,12.88,5.6,13.54,12.31,14.15,8.08,13.23,8.93,10.93,9.68,14.99,4.38,9.69,14.11,4.93],\"yaxis\":\"y\"}],                        {\"barmode\":\"group\",\"legend\":{\"title\":{\"text\":\"\\u041c\\u0435\\u0441\\u044f\\u0446\"},\"tracegroupgap\":0},\"template\":{\"data\":{\"bar\":[{\"error_x\":{\"color\":\"#2a3f5f\"},\"error_y\":{\"color\":\"#2a3f5f\"},\"marker\":{\"line\":{\"color\":\"#E5ECF6\",\"width\":0.5},\"pattern\":{\"fillmode\":\"overlay\",\"size\":10,\"solidity\":0.2}},\"type\":\"bar\"}],\"barpolar\":[{\"marker\":{\"line\":{\"color\":\"#E5ECF6\",\"width\":0.5},\"pattern\":{\"fillmode\":\"overlay\",\"size\":10,\"solidity\":0.2}},\"type\":\"barpolar\"}],\"carpet\":[{\"aaxis\":{\"endlinecolor\":\"#2a3f5f\",\"gridcolor\":\"white\",\"linecolor\":\"white\",\"minorgridcolor\":\"white\",\"startlinecolor\":\"#2a3f5f\"},\"baxis\":{\"endlinecolor\":\"#2a3f5f\",\"gridcolor\":\"white\",\"linecolor\":\"white\",\"minorgridcolor\":\"white\",\"startlinecolor\":\"#2a3f5f\"},\"type\":\"carpet\"}],\"choropleth\":[{\"colorbar\":{\"outlinewidth\":0,\"ticks\":\"\"},\"type\":\"choropleth\"}],\"contour\":[{\"colorbar\":{\"outlinewidth\":0,\"ticks\":\"\"},\"colorscale\":[[0.0,\"#0d0887\"],[0.1111111111111111,\"#46039f\"],[0.2222222222222222,\"#7201a8\"],[0.3333333333333333,\"#9c179e\"],[0.4444444444444444,\"#bd3786\"],[0.5555555555555556,\"#d8576b\"],[0.6666666666666666,\"#ed7953\"],[0.7777777777777778,\"#fb9f3a\"],[0.8888888888888888,\"#fdca26\"],[1.0,\"#f0f921\"]],\"type\":\"contour\"}],\"contourcarpet\":[{\"colorbar\":{\"outlinewidth\":0,\"ticks\":\"\"},\"type\":\"contourcarpet\"}],\"heatmap\":[{\"colorbar\":{\"outlinewidth\":0,\"ticks\":\"\"},\"colorscale\":[[0.0,\"#0d0887\"],[0.1111111111111111,\"#46039f\"],[0.2222222222222222,\"#7201a8\"],[0.3333333333333333,\"#9c179e\"],[0.4444444444444444,\"#bd3786\"],[0.5555555555555556,\"#d8576b\"],[0.6666666666666666,\"#ed7953\"],[0.7777777777777778,\"#fb9f3a\"],[0.8888888888888888,\"#fdca26\"],[1.0,\"#f0f921\"]],\"type\":\"heatmap\"}],\"heatmapgl\":[{\"colorbar\":{\"outlinewidth\":0,\"ticks\":\"\"},\"colorscale\":[[0.0,\"#0d0887\"],[0.1111111111111111,\"#46039f\"],[0.2222222222222222,\"#7201a8\"],[0.3333333333333333,\"#9c179e\"],[0.4444444444444444,\"#bd3786\"],[0.5555555555555556,\"#d8576b\"],[0.6666666666666666,\"#ed7953\"],[0.7777777777777778,\"#fb9f3a\"],[0.8888888888888888,\"#fdca26\"],[1.0,\"#f0f921\"]],\"type\":\"heatmapgl\"}],\"histogram\":[{\"marker\":{\"pattern\":{\"fillmode\":\"overlay\",\"size\":10,\"solidity\":0.2}},\"type\":\"histogram\"}],\"histogram2d\":[{\"colorbar\":{\"outlinewidth\":0,\"ticks\":\"\"},\"colorscale\":[[0.0,\"#0d0887\"],[0.1111111111111111,\"#46039f\"],[0.2222222222222222,\"#7201a8\"],[0.3333333333333333,\"#9c179e\"],[0.4444444444444444,\"#bd3786\"],[0.5555555555555556,\"#d8576b\"],[0.6666666666666666,\"#ed7953\"],[0.7777777777777778,\"#fb9f3a\"],[0.8888888888888888,\"#fdca26\"],[1.0,\"#f0f921\"]],\"type\":\"histogram2d\"}],\"histogram2dcontour\":[{\"colorbar\":{\"outlinewidth\":0,\"ticks\":\"\"},\"colorscale\":[[0.0,\"#0d0887\"],[0.1111111111111111,\"#46039f\"],[0.2222222222222222,\"#7201a8\"],[0.3333333333333333,\"#9c179e\"],[0.4444444444444444,\"#bd3786\"],[0.5555555555555556,\"#d8576b\"],[0.6666666666666666,\"#ed7953\"],[0.7777777777777778,\"#fb9f3a\"],[0.8888888888888888,\"#fdca26\"],[1.0,\"#f0f921\"]],\"type\":\"histogram2dcontour\"}],\"mesh3d\":[{\"colorbar\":{\"outlinewidth\":0,\"ticks\":\"\"},\"type\":\"mesh3d\"}],\"parcoords\":[{\"line\":{\"colorbar\":{\"outlinewidth\":0,\"ticks\":\"\"}},\"type\":\"parcoords\"}],\"pie\":[{\"automargin\":true,\"type\":\"pie\"}],\"scatter\":[{\"marker\":{\"colorbar\":{\"outlinewidth\":0,\"ticks\":\"\"}},\"type\":\"scatter\"}],\"scatter3d\":[{\"line\":{\"colorbar\":{\"outlinewidth\":0,\"ticks\":\"\"}},\"marker\":{\"colorbar\":{\"outlinewidth\":0,\"ticks\":\"\"}},\"type\":\"scatter3d\"}],\"scattercarpet\":[{\"marker\":{\"colorbar\":{\"outlinewidth\":0,\"ticks\":\"\"}},\"type\":\"scattercarpet\"}],\"scattergeo\":[{\"marker\":{\"colorbar\":{\"outlinewidth\":0,\"ticks\":\"\"}},\"type\":\"scattergeo\"}],\"scattergl\":[{\"marker\":{\"colorbar\":{\"outlinewidth\":0,\"ticks\":\"\"}},\"type\":\"scattergl\"}],\"scattermapbox\":[{\"marker\":{\"colorbar\":{\"outlinewidth\":0,\"ticks\":\"\"}},\"type\":\"scattermapbox\"}],\"scatterpolar\":[{\"marker\":{\"colorbar\":{\"outlinewidth\":0,\"ticks\":\"\"}},\"type\":\"scatterpolar\"}],\"scatterpolargl\":[{\"marker\":{\"colorbar\":{\"outlinewidth\":0,\"ticks\":\"\"}},\"type\":\"scatterpolargl\"}],\"scatterternary\":[{\"marker\":{\"colorbar\":{\"outlinewidth\":0,\"ticks\":\"\"}},\"type\":\"scatterternary\"}],\"surface\":[{\"colorbar\":{\"outlinewidth\":0,\"ticks\":\"\"},\"colorscale\":[[0.0,\"#0d0887\"],[0.1111111111111111,\"#46039f\"],[0.2222222222222222,\"#7201a8\"],[0.3333333333333333,\"#9c179e\"],[0.4444444444444444,\"#bd3786\"],[0.5555555555555556,\"#d8576b\"],[0.6666666666666666,\"#ed7953\"],[0.7777777777777778,\"#fb9f3a\"],[0.8888888888888888,\"#fdca26\"],[1.0,\"#f0f921\"]],\"type\":\"surface\"}],\"table\":[{\"cells\":{\"fill\":{\"color\":\"#EBF0F8\"},\"line\":{\"color\":\"white\"}},\"header\":{\"fill\":{\"color\":\"#C8D4E3\"},\"line\":{\"color\":\"white\"}},\"type\":\"table\"}]},\"layout\":{\"annotationdefaults\":{\"arrowcolor\":\"#2a3f5f\",\"arrowhead\":0,\"arrowwidth\":1},\"autotypenumbers\":\"strict\",\"coloraxis\":{\"colorbar\":{\"outlinewidth\":0,\"ticks\":\"\"}},\"colorscale\":{\"diverging\":[[0,\"#8e0152\"],[0.1,\"#c51b7d\"],[0.2,\"#de77ae\"],[0.3,\"#f1b6da\"],[0.4,\"#fde0ef\"],[0.5,\"#f7f7f7\"],[0.6,\"#e6f5d0\"],[0.7,\"#b8e186\"],[0.8,\"#7fbc41\"],[0.9,\"#4d9221\"],[1,\"#276419\"]],\"sequential\":[[0.0,\"#0d0887\"],[0.1111111111111111,\"#46039f\"],[0.2222222222222222,\"#7201a8\"],[0.3333333333333333,\"#9c179e\"],[0.4444444444444444,\"#bd3786\"],[0.5555555555555556,\"#d8576b\"],[0.6666666666666666,\"#ed7953\"],[0.7777777777777778,\"#fb9f3a\"],[0.8888888888888888,\"#fdca26\"],[1.0,\"#f0f921\"]],\"sequentialminus\":[[0.0,\"#0d0887\"],[0.1111111111111111,\"#46039f\"],[0.2222222222222222,\"#7201a8\"],[0.3333333333333333,\"#9c179e\"],[0.4444444444444444,\"#bd3786\"],[0.5555555555555556,\"#d8576b\"],[0.6666666666666666,\"#ed7953\"],[0.7777777777777778,\"#fb9f3a\"],[0.8888888888888888,\"#fdca26\"],[1.0,\"#f0f921\"]]},\"colorway\":[\"#636efa\",\"#EF553B\",\"#00cc96\",\"#ab63fa\",\"#FFA15A\",\"#19d3f3\",\"#FF6692\",\"#B6E880\",\"#FF97FF\",\"#FECB52\"],\"font\":{\"color\":\"#2a3f5f\"},\"geo\":{\"bgcolor\":\"white\",\"lakecolor\":\"white\",\"landcolor\":\"#E5ECF6\",\"showlakes\":true,\"showland\":true,\"subunitcolor\":\"white\"},\"hoverlabel\":{\"align\":\"left\"},\"hovermode\":\"closest\",\"mapbox\":{\"style\":\"light\"},\"paper_bgcolor\":\"white\",\"plot_bgcolor\":\"#E5ECF6\",\"polar\":{\"angularaxis\":{\"gridcolor\":\"white\",\"linecolor\":\"white\",\"ticks\":\"\"},\"bgcolor\":\"#E5ECF6\",\"radialaxis\":{\"gridcolor\":\"white\",\"linecolor\":\"white\",\"ticks\":\"\"}},\"scene\":{\"xaxis\":{\"backgroundcolor\":\"#E5ECF6\",\"gridcolor\":\"white\",\"gridwidth\":2,\"linecolor\":\"white\",\"showbackground\":true,\"ticks\":\"\",\"zerolinecolor\":\"white\"},\"yaxis\":{\"backgroundcolor\":\"#E5ECF6\",\"gridcolor\":\"white\",\"gridwidth\":2,\"linecolor\":\"white\",\"showbackground\":true,\"ticks\":\"\",\"zerolinecolor\":\"white\"},\"zaxis\":{\"backgroundcolor\":\"#E5ECF6\",\"gridcolor\":\"white\",\"gridwidth\":2,\"linecolor\":\"white\",\"showbackground\":true,\"ticks\":\"\",\"zerolinecolor\":\"white\"}},\"shapedefaults\":{\"line\":{\"color\":\"#2a3f5f\"}},\"ternary\":{\"aaxis\":{\"gridcolor\":\"white\",\"linecolor\":\"white\",\"ticks\":\"\"},\"baxis\":{\"gridcolor\":\"white\",\"linecolor\":\"white\",\"ticks\":\"\"},\"bgcolor\":\"#E5ECF6\",\"caxis\":{\"gridcolor\":\"white\",\"linecolor\":\"white\",\"ticks\":\"\"}},\"title\":{\"x\":0.05},\"xaxis\":{\"automargin\":true,\"gridcolor\":\"white\",\"linecolor\":\"white\",\"ticks\":\"\",\"title\":{\"standoff\":15},\"zerolinecolor\":\"white\",\"zerolinewidth\":2},\"yaxis\":{\"automargin\":true,\"gridcolor\":\"white\",\"linecolor\":\"white\",\"ticks\":\"\",\"title\":{\"standoff\":15},\"zerolinecolor\":\"white\",\"zerolinewidth\":2}}},\"title\":{\"text\":\"\\u0421\\u0440\\u0435\\u0434\\u043d\\u0435\\u0435 \\u043a\\u043e\\u043b\\u0438\\u0447\\u0435\\u0441\\u0442\\u0432\\u043e \\u0423\\u0415\\u0422 \\u0432 \\u0422\\u0410\\u041f \\u0437\\u0430 2022 \\u0433\\u043e\\u0434\"},\"width\":1660,\"xaxis\":{\"anchor\":\"y\",\"categoryorder\":\"total descending\",\"domain\":[0.0,1.0],\"title\":{\"text\":\"\\u0412\\u0440\\u0430\\u0447\"}},\"yaxis\":{\"anchor\":\"x\",\"domain\":[0.0,1.0],\"title\":{\"text\":\"\\u0423\\u0415\\u0422\"}}},                        {\"responsive\": true}                    ).then(function(){\n",
       "                            \n",
       "var gd = document.getElementById('e316b7eb-019e-4836-943a-a43362e78d0d');\n",
       "var x = new MutationObserver(function (mutations, observer) {{\n",
       "        var display = window.getComputedStyle(gd).display;\n",
       "        if (!display || display === 'none') {{\n",
       "            console.log([gd, 'removed!']);\n",
       "            Plotly.purge(gd);\n",
       "            observer.disconnect();\n",
       "        }}\n",
       "}});\n",
       "\n",
       "// Listen for the removal of the full notebook cells\n",
       "var notebookContainer = gd.closest('#notebook-container');\n",
       "if (notebookContainer) {{\n",
       "    x.observe(notebookContainer, {childList: true});\n",
       "}}\n",
       "\n",
       "// Listen for the clearing of the current output cell\n",
       "var outputEl = gd.closest('.output');\n",
       "if (outputEl) {{\n",
       "    x.observe(outputEl, {childList: true});\n",
       "}}\n",
       "\n",
       "                        })                };                });            </script>        </div>"
      ]
     },
     "metadata": {},
     "output_type": "display_data"
    }
   ],
   "source": [
    "# Средняя стоимость ТАП в УЕТ по врачу и месяцу (цв)\n",
    "\n",
    "px.bar(df_result_by_month, \n",
    "       x='Врач',\n",
    "       y='avg_uet',\n",
    "       color='Месяц',\n",
    "       barmode='group',\n",
    "       width=1660,\n",
    "       title=f'Среднее количество УЕТ в ТАП за {year} год') \\\n",
    "    .update_yaxes(title_text = 'УЕТ') \\\n",
    "    .update_xaxes(categoryorder='total descending')"
   ]
  },
  {
   "cell_type": "code",
   "execution_count": 239,
   "metadata": {},
   "outputs": [
    {
     "data": {
      "application/vnd.plotly.v1+json": {
       "config": {
        "plotlyServerURL": "https://plot.ly"
       },
       "data": [
        {
         "alignmentgroup": "True",
         "cliponaxis": false,
         "hovertemplate": "Врач=%{x}<br>RPU=%{text}<extra></extra>",
         "legendgroup": "",
         "marker": {
          "color": "#636efa",
          "pattern": {
           "shape": ""
          }
         },
         "name": "",
         "offsetgroup": "",
         "orientation": "v",
         "showlegend": false,
         "text": [
          "195.4",
          "192.4",
          "188.4",
          "182.5",
          "182.4",
          "181.8",
          "181.3",
          "180.4",
          "180.1",
          "176.1",
          "176.0",
          "174.4",
          "173.3",
          "172.7",
          "172.5",
          "171.7",
          "171.7",
          "170.1",
          "169.1",
          "165.8",
          "165.0",
          "165.0",
          "164.2",
          "163.4",
          "161.3",
          "159.5"
         ],
         "textangle": -45,
         "textfont": {
          "size": 20
         },
         "textposition": "outside",
         "type": "bar",
         "x": [
          "Колесова Наталья Викторовна",
          "Максимец Ирина Ивановна",
          "Николаева Надежда Григорьевна",
          "Чичикина Галина Павловна",
          "Завгородный Сергей Валерианович",
          "Литвинова Нина Алексеевна",
          "Коваленко Ольга Эдуардовна",
          "Володько Валентина Ивановна",
          "Скалкович Инна Валерьевна",
          "Арутюнян Арутюн Левонович",
          "Володин Павел Юрьевич",
          "Гвоздева Татьяна Анатольевна",
          "Рыбак Лилия Сергеевна",
          "Камынова Наталия Валериевна",
          "Мкртчян Тарон Арсенович",
          "Александрова Светлана Викторовна",
          "Лопаткина Алёна Сергеевна",
          "Ковшов Александр Александрович",
          "Власова Альфия Лябибовна",
          "Чижова Елена Владимировна",
          "Захаров Иван Владимирович",
          "Кукушкина Лариса Рамзановна",
          "Морошенкова Гульмира Абылкаковна",
          "Ольховская Альбина Владимировна",
          "Горбикова Эльфия Рашитовна",
          "Пузанова Лидия Сергеевна"
         ],
         "xaxis": "x",
         "y": [
          195.4,
          192.4,
          188.4,
          182.5,
          182.4,
          181.8,
          181.3,
          180.4,
          180.1,
          176.1,
          176,
          174.4,
          173.3,
          172.7,
          172.5,
          171.7,
          171.7,
          170.1,
          169.1,
          165.8,
          165,
          165,
          164.2,
          163.4,
          161.3,
          159.5
         ],
         "yaxis": "y"
        }
       ],
       "layout": {
        "barmode": "relative",
        "legend": {
         "tracegroupgap": 0
        },
        "plot_bgcolor": "rgb(255,255,255)",
        "template": {
         "data": {
          "bar": [
           {
            "error_x": {
             "color": "#2a3f5f"
            },
            "error_y": {
             "color": "#2a3f5f"
            },
            "marker": {
             "line": {
              "color": "#E5ECF6",
              "width": 0.5
             },
             "pattern": {
              "fillmode": "overlay",
              "size": 10,
              "solidity": 0.2
             }
            },
            "type": "bar"
           }
          ],
          "barpolar": [
           {
            "marker": {
             "line": {
              "color": "#E5ECF6",
              "width": 0.5
             },
             "pattern": {
              "fillmode": "overlay",
              "size": 10,
              "solidity": 0.2
             }
            },
            "type": "barpolar"
           }
          ],
          "carpet": [
           {
            "aaxis": {
             "endlinecolor": "#2a3f5f",
             "gridcolor": "white",
             "linecolor": "white",
             "minorgridcolor": "white",
             "startlinecolor": "#2a3f5f"
            },
            "baxis": {
             "endlinecolor": "#2a3f5f",
             "gridcolor": "white",
             "linecolor": "white",
             "minorgridcolor": "white",
             "startlinecolor": "#2a3f5f"
            },
            "type": "carpet"
           }
          ],
          "choropleth": [
           {
            "colorbar": {
             "outlinewidth": 0,
             "ticks": ""
            },
            "type": "choropleth"
           }
          ],
          "contour": [
           {
            "colorbar": {
             "outlinewidth": 0,
             "ticks": ""
            },
            "colorscale": [
             [
              0,
              "#0d0887"
             ],
             [
              0.1111111111111111,
              "#46039f"
             ],
             [
              0.2222222222222222,
              "#7201a8"
             ],
             [
              0.3333333333333333,
              "#9c179e"
             ],
             [
              0.4444444444444444,
              "#bd3786"
             ],
             [
              0.5555555555555556,
              "#d8576b"
             ],
             [
              0.6666666666666666,
              "#ed7953"
             ],
             [
              0.7777777777777778,
              "#fb9f3a"
             ],
             [
              0.8888888888888888,
              "#fdca26"
             ],
             [
              1,
              "#f0f921"
             ]
            ],
            "type": "contour"
           }
          ],
          "contourcarpet": [
           {
            "colorbar": {
             "outlinewidth": 0,
             "ticks": ""
            },
            "type": "contourcarpet"
           }
          ],
          "heatmap": [
           {
            "colorbar": {
             "outlinewidth": 0,
             "ticks": ""
            },
            "colorscale": [
             [
              0,
              "#0d0887"
             ],
             [
              0.1111111111111111,
              "#46039f"
             ],
             [
              0.2222222222222222,
              "#7201a8"
             ],
             [
              0.3333333333333333,
              "#9c179e"
             ],
             [
              0.4444444444444444,
              "#bd3786"
             ],
             [
              0.5555555555555556,
              "#d8576b"
             ],
             [
              0.6666666666666666,
              "#ed7953"
             ],
             [
              0.7777777777777778,
              "#fb9f3a"
             ],
             [
              0.8888888888888888,
              "#fdca26"
             ],
             [
              1,
              "#f0f921"
             ]
            ],
            "type": "heatmap"
           }
          ],
          "heatmapgl": [
           {
            "colorbar": {
             "outlinewidth": 0,
             "ticks": ""
            },
            "colorscale": [
             [
              0,
              "#0d0887"
             ],
             [
              0.1111111111111111,
              "#46039f"
             ],
             [
              0.2222222222222222,
              "#7201a8"
             ],
             [
              0.3333333333333333,
              "#9c179e"
             ],
             [
              0.4444444444444444,
              "#bd3786"
             ],
             [
              0.5555555555555556,
              "#d8576b"
             ],
             [
              0.6666666666666666,
              "#ed7953"
             ],
             [
              0.7777777777777778,
              "#fb9f3a"
             ],
             [
              0.8888888888888888,
              "#fdca26"
             ],
             [
              1,
              "#f0f921"
             ]
            ],
            "type": "heatmapgl"
           }
          ],
          "histogram": [
           {
            "marker": {
             "pattern": {
              "fillmode": "overlay",
              "size": 10,
              "solidity": 0.2
             }
            },
            "type": "histogram"
           }
          ],
          "histogram2d": [
           {
            "colorbar": {
             "outlinewidth": 0,
             "ticks": ""
            },
            "colorscale": [
             [
              0,
              "#0d0887"
             ],
             [
              0.1111111111111111,
              "#46039f"
             ],
             [
              0.2222222222222222,
              "#7201a8"
             ],
             [
              0.3333333333333333,
              "#9c179e"
             ],
             [
              0.4444444444444444,
              "#bd3786"
             ],
             [
              0.5555555555555556,
              "#d8576b"
             ],
             [
              0.6666666666666666,
              "#ed7953"
             ],
             [
              0.7777777777777778,
              "#fb9f3a"
             ],
             [
              0.8888888888888888,
              "#fdca26"
             ],
             [
              1,
              "#f0f921"
             ]
            ],
            "type": "histogram2d"
           }
          ],
          "histogram2dcontour": [
           {
            "colorbar": {
             "outlinewidth": 0,
             "ticks": ""
            },
            "colorscale": [
             [
              0,
              "#0d0887"
             ],
             [
              0.1111111111111111,
              "#46039f"
             ],
             [
              0.2222222222222222,
              "#7201a8"
             ],
             [
              0.3333333333333333,
              "#9c179e"
             ],
             [
              0.4444444444444444,
              "#bd3786"
             ],
             [
              0.5555555555555556,
              "#d8576b"
             ],
             [
              0.6666666666666666,
              "#ed7953"
             ],
             [
              0.7777777777777778,
              "#fb9f3a"
             ],
             [
              0.8888888888888888,
              "#fdca26"
             ],
             [
              1,
              "#f0f921"
             ]
            ],
            "type": "histogram2dcontour"
           }
          ],
          "mesh3d": [
           {
            "colorbar": {
             "outlinewidth": 0,
             "ticks": ""
            },
            "type": "mesh3d"
           }
          ],
          "parcoords": [
           {
            "line": {
             "colorbar": {
              "outlinewidth": 0,
              "ticks": ""
             }
            },
            "type": "parcoords"
           }
          ],
          "pie": [
           {
            "automargin": true,
            "type": "pie"
           }
          ],
          "scatter": [
           {
            "marker": {
             "colorbar": {
              "outlinewidth": 0,
              "ticks": ""
             }
            },
            "type": "scatter"
           }
          ],
          "scatter3d": [
           {
            "line": {
             "colorbar": {
              "outlinewidth": 0,
              "ticks": ""
             }
            },
            "marker": {
             "colorbar": {
              "outlinewidth": 0,
              "ticks": ""
             }
            },
            "type": "scatter3d"
           }
          ],
          "scattercarpet": [
           {
            "marker": {
             "colorbar": {
              "outlinewidth": 0,
              "ticks": ""
             }
            },
            "type": "scattercarpet"
           }
          ],
          "scattergeo": [
           {
            "marker": {
             "colorbar": {
              "outlinewidth": 0,
              "ticks": ""
             }
            },
            "type": "scattergeo"
           }
          ],
          "scattergl": [
           {
            "marker": {
             "colorbar": {
              "outlinewidth": 0,
              "ticks": ""
             }
            },
            "type": "scattergl"
           }
          ],
          "scattermapbox": [
           {
            "marker": {
             "colorbar": {
              "outlinewidth": 0,
              "ticks": ""
             }
            },
            "type": "scattermapbox"
           }
          ],
          "scatterpolar": [
           {
            "marker": {
             "colorbar": {
              "outlinewidth": 0,
              "ticks": ""
             }
            },
            "type": "scatterpolar"
           }
          ],
          "scatterpolargl": [
           {
            "marker": {
             "colorbar": {
              "outlinewidth": 0,
              "ticks": ""
             }
            },
            "type": "scatterpolargl"
           }
          ],
          "scatterternary": [
           {
            "marker": {
             "colorbar": {
              "outlinewidth": 0,
              "ticks": ""
             }
            },
            "type": "scatterternary"
           }
          ],
          "surface": [
           {
            "colorbar": {
             "outlinewidth": 0,
             "ticks": ""
            },
            "colorscale": [
             [
              0,
              "#0d0887"
             ],
             [
              0.1111111111111111,
              "#46039f"
             ],
             [
              0.2222222222222222,
              "#7201a8"
             ],
             [
              0.3333333333333333,
              "#9c179e"
             ],
             [
              0.4444444444444444,
              "#bd3786"
             ],
             [
              0.5555555555555556,
              "#d8576b"
             ],
             [
              0.6666666666666666,
              "#ed7953"
             ],
             [
              0.7777777777777778,
              "#fb9f3a"
             ],
             [
              0.8888888888888888,
              "#fdca26"
             ],
             [
              1,
              "#f0f921"
             ]
            ],
            "type": "surface"
           }
          ],
          "table": [
           {
            "cells": {
             "fill": {
              "color": "#EBF0F8"
             },
             "line": {
              "color": "white"
             }
            },
            "header": {
             "fill": {
              "color": "#C8D4E3"
             },
             "line": {
              "color": "white"
             }
            },
            "type": "table"
           }
          ]
         },
         "layout": {
          "annotationdefaults": {
           "arrowcolor": "#2a3f5f",
           "arrowhead": 0,
           "arrowwidth": 1
          },
          "autotypenumbers": "strict",
          "coloraxis": {
           "colorbar": {
            "outlinewidth": 0,
            "ticks": ""
           }
          },
          "colorscale": {
           "diverging": [
            [
             0,
             "#8e0152"
            ],
            [
             0.1,
             "#c51b7d"
            ],
            [
             0.2,
             "#de77ae"
            ],
            [
             0.3,
             "#f1b6da"
            ],
            [
             0.4,
             "#fde0ef"
            ],
            [
             0.5,
             "#f7f7f7"
            ],
            [
             0.6,
             "#e6f5d0"
            ],
            [
             0.7,
             "#b8e186"
            ],
            [
             0.8,
             "#7fbc41"
            ],
            [
             0.9,
             "#4d9221"
            ],
            [
             1,
             "#276419"
            ]
           ],
           "sequential": [
            [
             0,
             "#0d0887"
            ],
            [
             0.1111111111111111,
             "#46039f"
            ],
            [
             0.2222222222222222,
             "#7201a8"
            ],
            [
             0.3333333333333333,
             "#9c179e"
            ],
            [
             0.4444444444444444,
             "#bd3786"
            ],
            [
             0.5555555555555556,
             "#d8576b"
            ],
            [
             0.6666666666666666,
             "#ed7953"
            ],
            [
             0.7777777777777778,
             "#fb9f3a"
            ],
            [
             0.8888888888888888,
             "#fdca26"
            ],
            [
             1,
             "#f0f921"
            ]
           ],
           "sequentialminus": [
            [
             0,
             "#0d0887"
            ],
            [
             0.1111111111111111,
             "#46039f"
            ],
            [
             0.2222222222222222,
             "#7201a8"
            ],
            [
             0.3333333333333333,
             "#9c179e"
            ],
            [
             0.4444444444444444,
             "#bd3786"
            ],
            [
             0.5555555555555556,
             "#d8576b"
            ],
            [
             0.6666666666666666,
             "#ed7953"
            ],
            [
             0.7777777777777778,
             "#fb9f3a"
            ],
            [
             0.8888888888888888,
             "#fdca26"
            ],
            [
             1,
             "#f0f921"
            ]
           ]
          },
          "colorway": [
           "#636efa",
           "#EF553B",
           "#00cc96",
           "#ab63fa",
           "#FFA15A",
           "#19d3f3",
           "#FF6692",
           "#B6E880",
           "#FF97FF",
           "#FECB52"
          ],
          "font": {
           "color": "#2a3f5f"
          },
          "geo": {
           "bgcolor": "white",
           "lakecolor": "white",
           "landcolor": "#E5ECF6",
           "showlakes": true,
           "showland": true,
           "subunitcolor": "white"
          },
          "hoverlabel": {
           "align": "left"
          },
          "hovermode": "closest",
          "mapbox": {
           "style": "light"
          },
          "paper_bgcolor": "white",
          "plot_bgcolor": "#E5ECF6",
          "polar": {
           "angularaxis": {
            "gridcolor": "white",
            "linecolor": "white",
            "ticks": ""
           },
           "bgcolor": "#E5ECF6",
           "radialaxis": {
            "gridcolor": "white",
            "linecolor": "white",
            "ticks": ""
           }
          },
          "scene": {
           "xaxis": {
            "backgroundcolor": "#E5ECF6",
            "gridcolor": "white",
            "gridwidth": 2,
            "linecolor": "white",
            "showbackground": true,
            "ticks": "",
            "zerolinecolor": "white"
           },
           "yaxis": {
            "backgroundcolor": "#E5ECF6",
            "gridcolor": "white",
            "gridwidth": 2,
            "linecolor": "white",
            "showbackground": true,
            "ticks": "",
            "zerolinecolor": "white"
           },
           "zaxis": {
            "backgroundcolor": "#E5ECF6",
            "gridcolor": "white",
            "gridwidth": 2,
            "linecolor": "white",
            "showbackground": true,
            "ticks": "",
            "zerolinecolor": "white"
           }
          },
          "shapedefaults": {
           "line": {
            "color": "#2a3f5f"
           }
          },
          "ternary": {
           "aaxis": {
            "gridcolor": "white",
            "linecolor": "white",
            "ticks": ""
           },
           "baxis": {
            "gridcolor": "white",
            "linecolor": "white",
            "ticks": ""
           },
           "bgcolor": "#E5ECF6",
           "caxis": {
            "gridcolor": "white",
            "linecolor": "white",
            "ticks": ""
           }
          },
          "title": {
           "x": 0.05
          },
          "xaxis": {
           "automargin": true,
           "gridcolor": "white",
           "linecolor": "white",
           "ticks": "",
           "title": {
            "standoff": 15
           },
           "zerolinecolor": "white",
           "zerolinewidth": 2
          },
          "yaxis": {
           "automargin": true,
           "gridcolor": "white",
           "linecolor": "white",
           "ticks": "",
           "title": {
            "standoff": 15
           },
           "zerolinecolor": "white",
           "zerolinewidth": 2
          }
         }
        },
        "title": {
         "text": "Средняя стоимость 1 УЕТ в руб за 2022 год (план: 167.7)"
        },
        "width": 1360,
        "xaxis": {
         "anchor": "y",
         "domain": [
          0,
          1
         ],
         "title": {
          "text": "Врач"
         }
        },
        "yaxis": {
         "anchor": "x",
         "domain": [
          0,
          1
         ],
         "title": {
          "text": "RPU"
         }
        }
       }
      },
      "text/html": [
       "<div>                            <div id=\"0caaaf89-a47f-4f09-9b26-46341737d719\" class=\"plotly-graph-div\" style=\"height:525px; width:1360px;\"></div>            <script type=\"text/javascript\">                require([\"plotly\"], function(Plotly) {                    window.PLOTLYENV=window.PLOTLYENV || {};                                    if (document.getElementById(\"0caaaf89-a47f-4f09-9b26-46341737d719\")) {                    Plotly.newPlot(                        \"0caaaf89-a47f-4f09-9b26-46341737d719\",                        [{\"alignmentgroup\":\"True\",\"cliponaxis\":false,\"hovertemplate\":\"\\u0412\\u0440\\u0430\\u0447=%{x}<br>RPU=%{text}<extra></extra>\",\"legendgroup\":\"\",\"marker\":{\"color\":\"#636efa\",\"pattern\":{\"shape\":\"\"}},\"name\":\"\",\"offsetgroup\":\"\",\"orientation\":\"v\",\"showlegend\":false,\"text\":[\"195.4\",\"192.4\",\"188.4\",\"182.5\",\"182.4\",\"181.8\",\"181.3\",\"180.4\",\"180.1\",\"176.1\",\"176.0\",\"174.4\",\"173.3\",\"172.7\",\"172.5\",\"171.7\",\"171.7\",\"170.1\",\"169.1\",\"165.8\",\"165.0\",\"165.0\",\"164.2\",\"163.4\",\"161.3\",\"159.5\"],\"textangle\":-45,\"textfont\":{\"size\":20},\"textposition\":\"outside\",\"type\":\"bar\",\"x\":[\"\\u041a\\u043e\\u043b\\u0435\\u0441\\u043e\\u0432\\u0430 \\u041d\\u0430\\u0442\\u0430\\u043b\\u044c\\u044f \\u0412\\u0438\\u043a\\u0442\\u043e\\u0440\\u043e\\u0432\\u043d\\u0430\",\"\\u041c\\u0430\\u043a\\u0441\\u0438\\u043c\\u0435\\u0446 \\u0418\\u0440\\u0438\\u043d\\u0430 \\u0418\\u0432\\u0430\\u043d\\u043e\\u0432\\u043d\\u0430\",\"\\u041d\\u0438\\u043a\\u043e\\u043b\\u0430\\u0435\\u0432\\u0430 \\u041d\\u0430\\u0434\\u0435\\u0436\\u0434\\u0430 \\u0413\\u0440\\u0438\\u0433\\u043e\\u0440\\u044c\\u0435\\u0432\\u043d\\u0430\",\"\\u0427\\u0438\\u0447\\u0438\\u043a\\u0438\\u043d\\u0430 \\u0413\\u0430\\u043b\\u0438\\u043d\\u0430 \\u041f\\u0430\\u0432\\u043b\\u043e\\u0432\\u043d\\u0430\",\"\\u0417\\u0430\\u0432\\u0433\\u043e\\u0440\\u043e\\u0434\\u043d\\u044b\\u0439 \\u0421\\u0435\\u0440\\u0433\\u0435\\u0439 \\u0412\\u0430\\u043b\\u0435\\u0440\\u0438\\u0430\\u043d\\u043e\\u0432\\u0438\\u0447\",\"\\u041b\\u0438\\u0442\\u0432\\u0438\\u043d\\u043e\\u0432\\u0430 \\u041d\\u0438\\u043d\\u0430 \\u0410\\u043b\\u0435\\u043a\\u0441\\u0435\\u0435\\u0432\\u043d\\u0430\",\"\\u041a\\u043e\\u0432\\u0430\\u043b\\u0435\\u043d\\u043a\\u043e \\u041e\\u043b\\u044c\\u0433\\u0430 \\u042d\\u0434\\u0443\\u0430\\u0440\\u0434\\u043e\\u0432\\u043d\\u0430\",\"\\u0412\\u043e\\u043b\\u043e\\u0434\\u044c\\u043a\\u043e \\u0412\\u0430\\u043b\\u0435\\u043d\\u0442\\u0438\\u043d\\u0430 \\u0418\\u0432\\u0430\\u043d\\u043e\\u0432\\u043d\\u0430\",\"\\u0421\\u043a\\u0430\\u043b\\u043a\\u043e\\u0432\\u0438\\u0447 \\u0418\\u043d\\u043d\\u0430 \\u0412\\u0430\\u043b\\u0435\\u0440\\u044c\\u0435\\u0432\\u043d\\u0430\",\"\\u0410\\u0440\\u0443\\u0442\\u044e\\u043d\\u044f\\u043d \\u0410\\u0440\\u0443\\u0442\\u044e\\u043d \\u041b\\u0435\\u0432\\u043e\\u043d\\u043e\\u0432\\u0438\\u0447\",\"\\u0412\\u043e\\u043b\\u043e\\u0434\\u0438\\u043d \\u041f\\u0430\\u0432\\u0435\\u043b \\u042e\\u0440\\u044c\\u0435\\u0432\\u0438\\u0447\",\"\\u0413\\u0432\\u043e\\u0437\\u0434\\u0435\\u0432\\u0430 \\u0422\\u0430\\u0442\\u044c\\u044f\\u043d\\u0430 \\u0410\\u043d\\u0430\\u0442\\u043e\\u043b\\u044c\\u0435\\u0432\\u043d\\u0430\",\"\\u0420\\u044b\\u0431\\u0430\\u043a \\u041b\\u0438\\u043b\\u0438\\u044f \\u0421\\u0435\\u0440\\u0433\\u0435\\u0435\\u0432\\u043d\\u0430\",\"\\u041a\\u0430\\u043c\\u044b\\u043d\\u043e\\u0432\\u0430 \\u041d\\u0430\\u0442\\u0430\\u043b\\u0438\\u044f \\u0412\\u0430\\u043b\\u0435\\u0440\\u0438\\u0435\\u0432\\u043d\\u0430\",\"\\u041c\\u043a\\u0440\\u0442\\u0447\\u044f\\u043d \\u0422\\u0430\\u0440\\u043e\\u043d \\u0410\\u0440\\u0441\\u0435\\u043d\\u043e\\u0432\\u0438\\u0447\",\"\\u0410\\u043b\\u0435\\u043a\\u0441\\u0430\\u043d\\u0434\\u0440\\u043e\\u0432\\u0430 \\u0421\\u0432\\u0435\\u0442\\u043b\\u0430\\u043d\\u0430 \\u0412\\u0438\\u043a\\u0442\\u043e\\u0440\\u043e\\u0432\\u043d\\u0430\",\"\\u041b\\u043e\\u043f\\u0430\\u0442\\u043a\\u0438\\u043d\\u0430 \\u0410\\u043b\\u0451\\u043d\\u0430 \\u0421\\u0435\\u0440\\u0433\\u0435\\u0435\\u0432\\u043d\\u0430\",\"\\u041a\\u043e\\u0432\\u0448\\u043e\\u0432 \\u0410\\u043b\\u0435\\u043a\\u0441\\u0430\\u043d\\u0434\\u0440 \\u0410\\u043b\\u0435\\u043a\\u0441\\u0430\\u043d\\u0434\\u0440\\u043e\\u0432\\u0438\\u0447\",\"\\u0412\\u043b\\u0430\\u0441\\u043e\\u0432\\u0430 \\u0410\\u043b\\u044c\\u0444\\u0438\\u044f \\u041b\\u044f\\u0431\\u0438\\u0431\\u043e\\u0432\\u043d\\u0430\",\"\\u0427\\u0438\\u0436\\u043e\\u0432\\u0430 \\u0415\\u043b\\u0435\\u043d\\u0430 \\u0412\\u043b\\u0430\\u0434\\u0438\\u043c\\u0438\\u0440\\u043e\\u0432\\u043d\\u0430\",\"\\u0417\\u0430\\u0445\\u0430\\u0440\\u043e\\u0432 \\u0418\\u0432\\u0430\\u043d \\u0412\\u043b\\u0430\\u0434\\u0438\\u043c\\u0438\\u0440\\u043e\\u0432\\u0438\\u0447\",\"\\u041a\\u0443\\u043a\\u0443\\u0448\\u043a\\u0438\\u043d\\u0430 \\u041b\\u0430\\u0440\\u0438\\u0441\\u0430 \\u0420\\u0430\\u043c\\u0437\\u0430\\u043d\\u043e\\u0432\\u043d\\u0430\",\"\\u041c\\u043e\\u0440\\u043e\\u0448\\u0435\\u043d\\u043a\\u043e\\u0432\\u0430 \\u0413\\u0443\\u043b\\u044c\\u043c\\u0438\\u0440\\u0430 \\u0410\\u0431\\u044b\\u043b\\u043a\\u0430\\u043a\\u043e\\u0432\\u043d\\u0430\",\"\\u041e\\u043b\\u044c\\u0445\\u043e\\u0432\\u0441\\u043a\\u0430\\u044f \\u0410\\u043b\\u044c\\u0431\\u0438\\u043d\\u0430 \\u0412\\u043b\\u0430\\u0434\\u0438\\u043c\\u0438\\u0440\\u043e\\u0432\\u043d\\u0430\",\"\\u0413\\u043e\\u0440\\u0431\\u0438\\u043a\\u043e\\u0432\\u0430 \\u042d\\u043b\\u044c\\u0444\\u0438\\u044f \\u0420\\u0430\\u0448\\u0438\\u0442\\u043e\\u0432\\u043d\\u0430\",\"\\u041f\\u0443\\u0437\\u0430\\u043d\\u043e\\u0432\\u0430 \\u041b\\u0438\\u0434\\u0438\\u044f \\u0421\\u0435\\u0440\\u0433\\u0435\\u0435\\u0432\\u043d\\u0430\"],\"xaxis\":\"x\",\"y\":[195.4,192.4,188.4,182.5,182.4,181.8,181.3,180.4,180.1,176.1,176.0,174.4,173.3,172.7,172.5,171.7,171.7,170.1,169.1,165.8,165.0,165.0,164.2,163.4,161.3,159.5],\"yaxis\":\"y\"}],                        {\"barmode\":\"relative\",\"legend\":{\"tracegroupgap\":0},\"plot_bgcolor\":\"rgb(255,255,255)\",\"template\":{\"data\":{\"bar\":[{\"error_x\":{\"color\":\"#2a3f5f\"},\"error_y\":{\"color\":\"#2a3f5f\"},\"marker\":{\"line\":{\"color\":\"#E5ECF6\",\"width\":0.5},\"pattern\":{\"fillmode\":\"overlay\",\"size\":10,\"solidity\":0.2}},\"type\":\"bar\"}],\"barpolar\":[{\"marker\":{\"line\":{\"color\":\"#E5ECF6\",\"width\":0.5},\"pattern\":{\"fillmode\":\"overlay\",\"size\":10,\"solidity\":0.2}},\"type\":\"barpolar\"}],\"carpet\":[{\"aaxis\":{\"endlinecolor\":\"#2a3f5f\",\"gridcolor\":\"white\",\"linecolor\":\"white\",\"minorgridcolor\":\"white\",\"startlinecolor\":\"#2a3f5f\"},\"baxis\":{\"endlinecolor\":\"#2a3f5f\",\"gridcolor\":\"white\",\"linecolor\":\"white\",\"minorgridcolor\":\"white\",\"startlinecolor\":\"#2a3f5f\"},\"type\":\"carpet\"}],\"choropleth\":[{\"colorbar\":{\"outlinewidth\":0,\"ticks\":\"\"},\"type\":\"choropleth\"}],\"contour\":[{\"colorbar\":{\"outlinewidth\":0,\"ticks\":\"\"},\"colorscale\":[[0.0,\"#0d0887\"],[0.1111111111111111,\"#46039f\"],[0.2222222222222222,\"#7201a8\"],[0.3333333333333333,\"#9c179e\"],[0.4444444444444444,\"#bd3786\"],[0.5555555555555556,\"#d8576b\"],[0.6666666666666666,\"#ed7953\"],[0.7777777777777778,\"#fb9f3a\"],[0.8888888888888888,\"#fdca26\"],[1.0,\"#f0f921\"]],\"type\":\"contour\"}],\"contourcarpet\":[{\"colorbar\":{\"outlinewidth\":0,\"ticks\":\"\"},\"type\":\"contourcarpet\"}],\"heatmap\":[{\"colorbar\":{\"outlinewidth\":0,\"ticks\":\"\"},\"colorscale\":[[0.0,\"#0d0887\"],[0.1111111111111111,\"#46039f\"],[0.2222222222222222,\"#7201a8\"],[0.3333333333333333,\"#9c179e\"],[0.4444444444444444,\"#bd3786\"],[0.5555555555555556,\"#d8576b\"],[0.6666666666666666,\"#ed7953\"],[0.7777777777777778,\"#fb9f3a\"],[0.8888888888888888,\"#fdca26\"],[1.0,\"#f0f921\"]],\"type\":\"heatmap\"}],\"heatmapgl\":[{\"colorbar\":{\"outlinewidth\":0,\"ticks\":\"\"},\"colorscale\":[[0.0,\"#0d0887\"],[0.1111111111111111,\"#46039f\"],[0.2222222222222222,\"#7201a8\"],[0.3333333333333333,\"#9c179e\"],[0.4444444444444444,\"#bd3786\"],[0.5555555555555556,\"#d8576b\"],[0.6666666666666666,\"#ed7953\"],[0.7777777777777778,\"#fb9f3a\"],[0.8888888888888888,\"#fdca26\"],[1.0,\"#f0f921\"]],\"type\":\"heatmapgl\"}],\"histogram\":[{\"marker\":{\"pattern\":{\"fillmode\":\"overlay\",\"size\":10,\"solidity\":0.2}},\"type\":\"histogram\"}],\"histogram2d\":[{\"colorbar\":{\"outlinewidth\":0,\"ticks\":\"\"},\"colorscale\":[[0.0,\"#0d0887\"],[0.1111111111111111,\"#46039f\"],[0.2222222222222222,\"#7201a8\"],[0.3333333333333333,\"#9c179e\"],[0.4444444444444444,\"#bd3786\"],[0.5555555555555556,\"#d8576b\"],[0.6666666666666666,\"#ed7953\"],[0.7777777777777778,\"#fb9f3a\"],[0.8888888888888888,\"#fdca26\"],[1.0,\"#f0f921\"]],\"type\":\"histogram2d\"}],\"histogram2dcontour\":[{\"colorbar\":{\"outlinewidth\":0,\"ticks\":\"\"},\"colorscale\":[[0.0,\"#0d0887\"],[0.1111111111111111,\"#46039f\"],[0.2222222222222222,\"#7201a8\"],[0.3333333333333333,\"#9c179e\"],[0.4444444444444444,\"#bd3786\"],[0.5555555555555556,\"#d8576b\"],[0.6666666666666666,\"#ed7953\"],[0.7777777777777778,\"#fb9f3a\"],[0.8888888888888888,\"#fdca26\"],[1.0,\"#f0f921\"]],\"type\":\"histogram2dcontour\"}],\"mesh3d\":[{\"colorbar\":{\"outlinewidth\":0,\"ticks\":\"\"},\"type\":\"mesh3d\"}],\"parcoords\":[{\"line\":{\"colorbar\":{\"outlinewidth\":0,\"ticks\":\"\"}},\"type\":\"parcoords\"}],\"pie\":[{\"automargin\":true,\"type\":\"pie\"}],\"scatter\":[{\"marker\":{\"colorbar\":{\"outlinewidth\":0,\"ticks\":\"\"}},\"type\":\"scatter\"}],\"scatter3d\":[{\"line\":{\"colorbar\":{\"outlinewidth\":0,\"ticks\":\"\"}},\"marker\":{\"colorbar\":{\"outlinewidth\":0,\"ticks\":\"\"}},\"type\":\"scatter3d\"}],\"scattercarpet\":[{\"marker\":{\"colorbar\":{\"outlinewidth\":0,\"ticks\":\"\"}},\"type\":\"scattercarpet\"}],\"scattergeo\":[{\"marker\":{\"colorbar\":{\"outlinewidth\":0,\"ticks\":\"\"}},\"type\":\"scattergeo\"}],\"scattergl\":[{\"marker\":{\"colorbar\":{\"outlinewidth\":0,\"ticks\":\"\"}},\"type\":\"scattergl\"}],\"scattermapbox\":[{\"marker\":{\"colorbar\":{\"outlinewidth\":0,\"ticks\":\"\"}},\"type\":\"scattermapbox\"}],\"scatterpolar\":[{\"marker\":{\"colorbar\":{\"outlinewidth\":0,\"ticks\":\"\"}},\"type\":\"scatterpolar\"}],\"scatterpolargl\":[{\"marker\":{\"colorbar\":{\"outlinewidth\":0,\"ticks\":\"\"}},\"type\":\"scatterpolargl\"}],\"scatterternary\":[{\"marker\":{\"colorbar\":{\"outlinewidth\":0,\"ticks\":\"\"}},\"type\":\"scatterternary\"}],\"surface\":[{\"colorbar\":{\"outlinewidth\":0,\"ticks\":\"\"},\"colorscale\":[[0.0,\"#0d0887\"],[0.1111111111111111,\"#46039f\"],[0.2222222222222222,\"#7201a8\"],[0.3333333333333333,\"#9c179e\"],[0.4444444444444444,\"#bd3786\"],[0.5555555555555556,\"#d8576b\"],[0.6666666666666666,\"#ed7953\"],[0.7777777777777778,\"#fb9f3a\"],[0.8888888888888888,\"#fdca26\"],[1.0,\"#f0f921\"]],\"type\":\"surface\"}],\"table\":[{\"cells\":{\"fill\":{\"color\":\"#EBF0F8\"},\"line\":{\"color\":\"white\"}},\"header\":{\"fill\":{\"color\":\"#C8D4E3\"},\"line\":{\"color\":\"white\"}},\"type\":\"table\"}]},\"layout\":{\"annotationdefaults\":{\"arrowcolor\":\"#2a3f5f\",\"arrowhead\":0,\"arrowwidth\":1},\"autotypenumbers\":\"strict\",\"coloraxis\":{\"colorbar\":{\"outlinewidth\":0,\"ticks\":\"\"}},\"colorscale\":{\"diverging\":[[0,\"#8e0152\"],[0.1,\"#c51b7d\"],[0.2,\"#de77ae\"],[0.3,\"#f1b6da\"],[0.4,\"#fde0ef\"],[0.5,\"#f7f7f7\"],[0.6,\"#e6f5d0\"],[0.7,\"#b8e186\"],[0.8,\"#7fbc41\"],[0.9,\"#4d9221\"],[1,\"#276419\"]],\"sequential\":[[0.0,\"#0d0887\"],[0.1111111111111111,\"#46039f\"],[0.2222222222222222,\"#7201a8\"],[0.3333333333333333,\"#9c179e\"],[0.4444444444444444,\"#bd3786\"],[0.5555555555555556,\"#d8576b\"],[0.6666666666666666,\"#ed7953\"],[0.7777777777777778,\"#fb9f3a\"],[0.8888888888888888,\"#fdca26\"],[1.0,\"#f0f921\"]],\"sequentialminus\":[[0.0,\"#0d0887\"],[0.1111111111111111,\"#46039f\"],[0.2222222222222222,\"#7201a8\"],[0.3333333333333333,\"#9c179e\"],[0.4444444444444444,\"#bd3786\"],[0.5555555555555556,\"#d8576b\"],[0.6666666666666666,\"#ed7953\"],[0.7777777777777778,\"#fb9f3a\"],[0.8888888888888888,\"#fdca26\"],[1.0,\"#f0f921\"]]},\"colorway\":[\"#636efa\",\"#EF553B\",\"#00cc96\",\"#ab63fa\",\"#FFA15A\",\"#19d3f3\",\"#FF6692\",\"#B6E880\",\"#FF97FF\",\"#FECB52\"],\"font\":{\"color\":\"#2a3f5f\"},\"geo\":{\"bgcolor\":\"white\",\"lakecolor\":\"white\",\"landcolor\":\"#E5ECF6\",\"showlakes\":true,\"showland\":true,\"subunitcolor\":\"white\"},\"hoverlabel\":{\"align\":\"left\"},\"hovermode\":\"closest\",\"mapbox\":{\"style\":\"light\"},\"paper_bgcolor\":\"white\",\"plot_bgcolor\":\"#E5ECF6\",\"polar\":{\"angularaxis\":{\"gridcolor\":\"white\",\"linecolor\":\"white\",\"ticks\":\"\"},\"bgcolor\":\"#E5ECF6\",\"radialaxis\":{\"gridcolor\":\"white\",\"linecolor\":\"white\",\"ticks\":\"\"}},\"scene\":{\"xaxis\":{\"backgroundcolor\":\"#E5ECF6\",\"gridcolor\":\"white\",\"gridwidth\":2,\"linecolor\":\"white\",\"showbackground\":true,\"ticks\":\"\",\"zerolinecolor\":\"white\"},\"yaxis\":{\"backgroundcolor\":\"#E5ECF6\",\"gridcolor\":\"white\",\"gridwidth\":2,\"linecolor\":\"white\",\"showbackground\":true,\"ticks\":\"\",\"zerolinecolor\":\"white\"},\"zaxis\":{\"backgroundcolor\":\"#E5ECF6\",\"gridcolor\":\"white\",\"gridwidth\":2,\"linecolor\":\"white\",\"showbackground\":true,\"ticks\":\"\",\"zerolinecolor\":\"white\"}},\"shapedefaults\":{\"line\":{\"color\":\"#2a3f5f\"}},\"ternary\":{\"aaxis\":{\"gridcolor\":\"white\",\"linecolor\":\"white\",\"ticks\":\"\"},\"baxis\":{\"gridcolor\":\"white\",\"linecolor\":\"white\",\"ticks\":\"\"},\"bgcolor\":\"#E5ECF6\",\"caxis\":{\"gridcolor\":\"white\",\"linecolor\":\"white\",\"ticks\":\"\"}},\"title\":{\"x\":0.05},\"xaxis\":{\"automargin\":true,\"gridcolor\":\"white\",\"linecolor\":\"white\",\"ticks\":\"\",\"title\":{\"standoff\":15},\"zerolinecolor\":\"white\",\"zerolinewidth\":2},\"yaxis\":{\"automargin\":true,\"gridcolor\":\"white\",\"linecolor\":\"white\",\"ticks\":\"\",\"title\":{\"standoff\":15},\"zerolinecolor\":\"white\",\"zerolinewidth\":2}}},\"title\":{\"text\":\"\\u0421\\u0440\\u0435\\u0434\\u043d\\u044f\\u044f \\u0441\\u0442\\u043e\\u0438\\u043c\\u043e\\u0441\\u0442\\u044c 1 \\u0423\\u0415\\u0422 \\u0432 \\u0440\\u0443\\u0431 \\u0437\\u0430 2022 \\u0433\\u043e\\u0434 (\\u043f\\u043b\\u0430\\u043d: 167.7)\"},\"width\":1360,\"xaxis\":{\"anchor\":\"y\",\"domain\":[0.0,1.0],\"title\":{\"text\":\"\\u0412\\u0440\\u0430\\u0447\"}},\"yaxis\":{\"anchor\":\"x\",\"domain\":[0.0,1.0],\"title\":{\"text\":\"RPU\"}}},                        {\"responsive\": true}                    ).then(function(){\n",
       "                            \n",
       "var gd = document.getElementById('0caaaf89-a47f-4f09-9b26-46341737d719');\n",
       "var x = new MutationObserver(function (mutations, observer) {{\n",
       "        var display = window.getComputedStyle(gd).display;\n",
       "        if (!display || display === 'none') {{\n",
       "            console.log([gd, 'removed!']);\n",
       "            Plotly.purge(gd);\n",
       "            observer.disconnect();\n",
       "        }}\n",
       "}});\n",
       "\n",
       "// Listen for the removal of the full notebook cells\n",
       "var notebookContainer = gd.closest('#notebook-container');\n",
       "if (notebookContainer) {{\n",
       "    x.observe(notebookContainer, {childList: true});\n",
       "}}\n",
       "\n",
       "// Listen for the clearing of the current output cell\n",
       "var outputEl = gd.closest('.output');\n",
       "if (outputEl) {{\n",
       "    x.observe(outputEl, {childList: true});\n",
       "}}\n",
       "\n",
       "                        })                };                });            </script>        </div>"
      ]
     },
     "metadata": {},
     "output_type": "display_data"
    }
   ],
   "source": [
    "# Средняя стоимость 1 УЕТ в руб по врачу\n",
    "\n",
    "px.bar(df_result.query('Врач != \"Коваленко Ольга Эдуардовна физио\"').sort_values('RPU', ascending=False), \n",
    "                x='Врач',\n",
    "                y='RPU',\n",
    "                title=f'Средняя стоимость 1 УЕТ в руб за {year} год (план: {mean_uet})',\n",
    "                text='RPU',\n",
    "                width=1360) \\\n",
    "    .update_traces(textfont_size=20, textposition=\"outside\", textangle=-45, cliponaxis=False) \\\n",
    "    .update_layout(plot_bgcolor='rgb(255,255,255)')\n",
    "# fig.show(renderer=\"notebook_connected\")"
   ]
  },
  {
   "cell_type": "code",
   "execution_count": 240,
   "metadata": {},
   "outputs": [
    {
     "data": {
      "application/vnd.plotly.v1+json": {
       "config": {
        "plotlyServerURL": "https://plot.ly"
       },
       "data": [
        {
         "alignmentgroup": "True",
         "hovertemplate": "Месяц=0122<br>Врач=%{x}<br>RPU=%{text}<extra></extra>",
         "legendgroup": "0122",
         "marker": {
          "color": "rgb(100.0, 100.0, 100.0)",
          "pattern": {
           "shape": ""
          }
         },
         "name": "0122",
         "offsetgroup": "0122",
         "orientation": "v",
         "showlegend": true,
         "text": [
          "167.0",
          "173.8",
          "171.2",
          "160.2",
          "181.3",
          "172.5",
          "157.6",
          "179.1",
          "161.2",
          "169.5",
          "181.4",
          "170.4",
          "194.9",
          "172.9",
          "179.3",
          "162.5",
          "200.3",
          "179.4",
          "158.5",
          "177.2",
          "158.8",
          "155.1",
          "170.4",
          "174.9",
          "164.9",
          "182.0"
         ],
         "textposition": "auto",
         "type": "bar",
         "x": [
          "Александрова Светлана Викторовна",
          "Арутюнян Арутюн Левонович",
          "Власова Альфия Лябибовна",
          "Володин Павел Юрьевич",
          "Володько Валентина Ивановна",
          "Гвоздева Татьяна Анатольевна",
          "Горбикова Эльфия Рашитовна",
          "Завгородный Сергей Валерианович",
          "Захаров Иван Владимирович",
          "Камынова Наталия Валериевна",
          "Коваленко Ольга Эдуардовна",
          "Ковшов Александр Александрович",
          "Колесова Наталья Викторовна",
          "Кукушкина Лариса Рамзановна",
          "Литвинова Нина Алексеевна",
          "Лопаткина Алёна Сергеевна",
          "Максимец Ирина Ивановна",
          "Мкртчян Тарон Арсенович",
          "Морошенкова Гульмира Абылкаковна",
          "Николаева Надежда Григорьевна",
          "Ольховская Альбина Владимировна",
          "Пузанова Лидия Сергеевна",
          "Рыбак Лилия Сергеевна",
          "Скалкович Инна Валерьевна",
          "Чижова Елена Владимировна",
          "Чичикина Галина Павловна"
         ],
         "xaxis": "x",
         "y": [
          167,
          173.8,
          171.2,
          160.2,
          181.3,
          172.5,
          157.6,
          179.1,
          161.2,
          169.5,
          181.4,
          170.4,
          194.9,
          172.9,
          179.3,
          162.5,
          200.3,
          179.4,
          158.5,
          177.2,
          158.8,
          155.1,
          170.4,
          174.9,
          164.9,
          182
         ],
         "yaxis": "y"
        },
        {
         "alignmentgroup": "True",
         "hovertemplate": "Месяц=0222<br>Врач=%{x}<br>RPU=%{text}<extra></extra>",
         "legendgroup": "0222",
         "marker": {
          "color": "rgb(131.0, 131.0, 131.0)",
          "pattern": {
           "shape": ""
          }
         },
         "name": "0222",
         "offsetgroup": "0222",
         "orientation": "v",
         "showlegend": true,
         "text": [
          "185.6",
          "173.6",
          "171.4",
          "190.7",
          "177.8",
          "186.6",
          "172.8",
          "183.9",
          "165.3",
          "176.2",
          "187.0",
          "178.1",
          "196.9",
          "180.1",
          "189.5",
          "180.9",
          "195.0",
          "187.6",
          "172.5",
          "189.6",
          "171.7",
          "169.6",
          "177.3",
          "191.8",
          "174.9",
          "182.7"
         ],
         "textposition": "auto",
         "type": "bar",
         "x": [
          "Александрова Светлана Викторовна",
          "Арутюнян Арутюн Левонович",
          "Власова Альфия Лябибовна",
          "Володин Павел Юрьевич",
          "Володько Валентина Ивановна",
          "Гвоздева Татьяна Анатольевна",
          "Горбикова Эльфия Рашитовна",
          "Завгородный Сергей Валерианович",
          "Захаров Иван Владимирович",
          "Камынова Наталия Валериевна",
          "Коваленко Ольга Эдуардовна",
          "Ковшов Александр Александрович",
          "Колесова Наталья Викторовна",
          "Кукушкина Лариса Рамзановна",
          "Литвинова Нина Алексеевна",
          "Лопаткина Алёна Сергеевна",
          "Максимец Ирина Ивановна",
          "Мкртчян Тарон Арсенович",
          "Морошенкова Гульмира Абылкаковна",
          "Николаева Надежда Григорьевна",
          "Ольховская Альбина Владимировна",
          "Пузанова Лидия Сергеевна",
          "Рыбак Лилия Сергеевна",
          "Скалкович Инна Валерьевна",
          "Чижова Елена Владимировна",
          "Чичикина Галина Павловна"
         ],
         "xaxis": "x",
         "y": [
          185.6,
          173.6,
          171.4,
          190.7,
          177.8,
          186.6,
          172.8,
          183.9,
          165.3,
          176.2,
          187,
          178.1,
          196.9,
          180.1,
          189.5,
          180.9,
          195,
          187.6,
          172.5,
          189.6,
          171.7,
          169.6,
          177.3,
          191.8,
          174.9,
          182.7
         ],
         "yaxis": "y"
        },
        {
         "alignmentgroup": "True",
         "hovertemplate": "Месяц=0322<br>Врач=%{x}<br>RPU=%{text}<extra></extra>",
         "legendgroup": "0322",
         "marker": {
          "color": "rgb(162.0, 162.0, 162.0)",
          "pattern": {
           "shape": ""
          }
         },
         "name": "0322",
         "offsetgroup": "0322",
         "orientation": "v",
         "showlegend": true,
         "text": [
          "168.0",
          "176.0",
          "166.1",
          "170.5",
          "181.6",
          "170.8",
          "159.6",
          "182.2",
          "162.6",
          "171.0",
          "182.1",
          "170.4",
          "196.5",
          "168.4",
          "176.7",
          "169.8",
          "185.0",
          "172.5",
          "165.5",
          "186.6",
          "160.9",
          "156.0",
          "174.7",
          "176.1",
          "162.0",
          "183.0"
         ],
         "textposition": "auto",
         "type": "bar",
         "x": [
          "Александрова Светлана Викторовна",
          "Арутюнян Арутюн Левонович",
          "Власова Альфия Лябибовна",
          "Володин Павел Юрьевич",
          "Володько Валентина Ивановна",
          "Гвоздева Татьяна Анатольевна",
          "Горбикова Эльфия Рашитовна",
          "Завгородный Сергей Валерианович",
          "Захаров Иван Владимирович",
          "Камынова Наталия Валериевна",
          "Коваленко Ольга Эдуардовна",
          "Ковшов Александр Александрович",
          "Колесова Наталья Викторовна",
          "Кукушкина Лариса Рамзановна",
          "Литвинова Нина Алексеевна",
          "Лопаткина Алёна Сергеевна",
          "Максимец Ирина Ивановна",
          "Мкртчян Тарон Арсенович",
          "Морошенкова Гульмира Абылкаковна",
          "Николаева Надежда Григорьевна",
          "Ольховская Альбина Владимировна",
          "Пузанова Лидия Сергеевна",
          "Рыбак Лилия Сергеевна",
          "Скалкович Инна Валерьевна",
          "Чижова Елена Владимировна",
          "Чичикина Галина Павловна"
         ],
         "xaxis": "x",
         "y": [
          168,
          176,
          166.1,
          170.5,
          181.6,
          170.8,
          159.6,
          182.2,
          162.6,
          171,
          182.1,
          170.4,
          196.5,
          168.4,
          176.7,
          169.8,
          185,
          172.5,
          165.5,
          186.6,
          160.9,
          156,
          174.7,
          176.1,
          162,
          183
         ],
         "yaxis": "y"
        },
        {
         "alignmentgroup": "True",
         "hovertemplate": "Месяц=0422<br>Врач=%{x}<br>RPU=%{text}<extra></extra>",
         "legendgroup": "0422",
         "marker": {
          "color": "rgb(193.0, 193.0, 193.0)",
          "pattern": {
           "shape": ""
          }
         },
         "name": "0422",
         "offsetgroup": "0422",
         "orientation": "v",
         "showlegend": true,
         "text": [
          "164.5",
          "177.1",
          "167.9",
          "175.7",
          "178.2",
          "171.8",
          "157.9",
          "183.1",
          "164.7",
          "170.4",
          "176.9",
          "165.8",
          "194.0",
          "161.8",
          "183.4",
          "172.2",
          "190.1",
          "160.3",
          "161.6",
          "191.3",
          "163.2",
          "155.9",
          "173.7",
          "178.8",
          "164.9",
          "181.7"
         ],
         "textposition": "auto",
         "type": "bar",
         "x": [
          "Александрова Светлана Викторовна",
          "Арутюнян Арутюн Левонович",
          "Власова Альфия Лябибовна",
          "Володин Павел Юрьевич",
          "Володько Валентина Ивановна",
          "Гвоздева Татьяна Анатольевна",
          "Горбикова Эльфия Рашитовна",
          "Завгородный Сергей Валерианович",
          "Захаров Иван Владимирович",
          "Камынова Наталия Валериевна",
          "Коваленко Ольга Эдуардовна",
          "Ковшов Александр Александрович",
          "Колесова Наталья Викторовна",
          "Кукушкина Лариса Рамзановна",
          "Литвинова Нина Алексеевна",
          "Лопаткина Алёна Сергеевна",
          "Максимец Ирина Ивановна",
          "Мкртчян Тарон Арсенович",
          "Морошенкова Гульмира Абылкаковна",
          "Николаева Надежда Григорьевна",
          "Ольховская Альбина Владимировна",
          "Пузанова Лидия Сергеевна",
          "Рыбак Лилия Сергеевна",
          "Скалкович Инна Валерьевна",
          "Чижова Елена Владимировна",
          "Чичикина Галина Павловна"
         ],
         "xaxis": "x",
         "y": [
          164.5,
          177.1,
          167.9,
          175.7,
          178.2,
          171.8,
          157.9,
          183.1,
          164.7,
          170.4,
          176.9,
          165.8,
          194,
          161.8,
          183.4,
          172.2,
          190.1,
          160.3,
          161.6,
          191.3,
          163.2,
          155.9,
          173.7,
          178.8,
          164.9,
          181.7
         ],
         "yaxis": "y"
        },
        {
         "alignmentgroup": "True",
         "hovertemplate": "Месяц=0522<br>Врач=%{x}<br>RPU=%{text}<extra></extra>",
         "legendgroup": "0522",
         "marker": {
          "color": "rgb(224.0, 224.0, 224.0)",
          "pattern": {
           "shape": ""
          }
         },
         "name": "0522",
         "offsetgroup": "0522",
         "orientation": "v",
         "showlegend": true,
         "text": [
          "173.3",
          "182.7",
          "174.4",
          "189.8",
          "184.5",
          "156.8",
          "181.2",
          "178.5",
          "185.1",
          "179.7",
          "162.2",
          "193.3",
          "155.5",
          "182.2",
          "173.1",
          "188.3",
          "170.3",
          "160.4",
          "194.0",
          "160.2",
          "160.8",
          "173.0",
          "180.0",
          "157.8",
          "182.5"
         ],
         "textposition": "auto",
         "type": "bar",
         "x": [
          "Александрова Светлана Викторовна",
          "Арутюнян Арутюн Левонович",
          "Власова Альфия Лябибовна",
          "Володин Павел Юрьевич",
          "Володько Валентина Ивановна",
          "Горбикова Эльфия Рашитовна",
          "Завгородный Сергей Валерианович",
          "Захаров Иван Владимирович",
          "Камынова Наталия Валериевна",
          "Коваленко Ольга Эдуардовна",
          "Ковшов Александр Александрович",
          "Колесова Наталья Викторовна",
          "Кукушкина Лариса Рамзановна",
          "Литвинова Нина Алексеевна",
          "Лопаткина Алёна Сергеевна",
          "Максимец Ирина Ивановна",
          "Мкртчян Тарон Арсенович",
          "Морошенкова Гульмира Абылкаковна",
          "Николаева Надежда Григорьевна",
          "Ольховская Альбина Владимировна",
          "Пузанова Лидия Сергеевна",
          "Рыбак Лилия Сергеевна",
          "Скалкович Инна Валерьевна",
          "Чижова Елена Владимировна",
          "Чичикина Галина Павловна"
         ],
         "xaxis": "x",
         "y": [
          173.3,
          182.7,
          174.4,
          189.8,
          184.5,
          156.8,
          181.2,
          178.5,
          185.1,
          179.7,
          162.2,
          193.3,
          155.5,
          182.2,
          173.1,
          188.3,
          170.3,
          160.4,
          194,
          160.2,
          160.8,
          173,
          180,
          157.8,
          182.5
         ],
         "yaxis": "y"
        }
       ],
       "layout": {
        "barmode": "group",
        "legend": {
         "title": {
          "text": "Месяц"
         },
         "tracegroupgap": 0
        },
        "plot_bgcolor": "rgb(255,255,255)",
        "template": {
         "data": {
          "bar": [
           {
            "error_x": {
             "color": "#2a3f5f"
            },
            "error_y": {
             "color": "#2a3f5f"
            },
            "marker": {
             "line": {
              "color": "#E5ECF6",
              "width": 0.5
             },
             "pattern": {
              "fillmode": "overlay",
              "size": 10,
              "solidity": 0.2
             }
            },
            "type": "bar"
           }
          ],
          "barpolar": [
           {
            "marker": {
             "line": {
              "color": "#E5ECF6",
              "width": 0.5
             },
             "pattern": {
              "fillmode": "overlay",
              "size": 10,
              "solidity": 0.2
             }
            },
            "type": "barpolar"
           }
          ],
          "carpet": [
           {
            "aaxis": {
             "endlinecolor": "#2a3f5f",
             "gridcolor": "white",
             "linecolor": "white",
             "minorgridcolor": "white",
             "startlinecolor": "#2a3f5f"
            },
            "baxis": {
             "endlinecolor": "#2a3f5f",
             "gridcolor": "white",
             "linecolor": "white",
             "minorgridcolor": "white",
             "startlinecolor": "#2a3f5f"
            },
            "type": "carpet"
           }
          ],
          "choropleth": [
           {
            "colorbar": {
             "outlinewidth": 0,
             "ticks": ""
            },
            "type": "choropleth"
           }
          ],
          "contour": [
           {
            "colorbar": {
             "outlinewidth": 0,
             "ticks": ""
            },
            "colorscale": [
             [
              0,
              "#0d0887"
             ],
             [
              0.1111111111111111,
              "#46039f"
             ],
             [
              0.2222222222222222,
              "#7201a8"
             ],
             [
              0.3333333333333333,
              "#9c179e"
             ],
             [
              0.4444444444444444,
              "#bd3786"
             ],
             [
              0.5555555555555556,
              "#d8576b"
             ],
             [
              0.6666666666666666,
              "#ed7953"
             ],
             [
              0.7777777777777778,
              "#fb9f3a"
             ],
             [
              0.8888888888888888,
              "#fdca26"
             ],
             [
              1,
              "#f0f921"
             ]
            ],
            "type": "contour"
           }
          ],
          "contourcarpet": [
           {
            "colorbar": {
             "outlinewidth": 0,
             "ticks": ""
            },
            "type": "contourcarpet"
           }
          ],
          "heatmap": [
           {
            "colorbar": {
             "outlinewidth": 0,
             "ticks": ""
            },
            "colorscale": [
             [
              0,
              "#0d0887"
             ],
             [
              0.1111111111111111,
              "#46039f"
             ],
             [
              0.2222222222222222,
              "#7201a8"
             ],
             [
              0.3333333333333333,
              "#9c179e"
             ],
             [
              0.4444444444444444,
              "#bd3786"
             ],
             [
              0.5555555555555556,
              "#d8576b"
             ],
             [
              0.6666666666666666,
              "#ed7953"
             ],
             [
              0.7777777777777778,
              "#fb9f3a"
             ],
             [
              0.8888888888888888,
              "#fdca26"
             ],
             [
              1,
              "#f0f921"
             ]
            ],
            "type": "heatmap"
           }
          ],
          "heatmapgl": [
           {
            "colorbar": {
             "outlinewidth": 0,
             "ticks": ""
            },
            "colorscale": [
             [
              0,
              "#0d0887"
             ],
             [
              0.1111111111111111,
              "#46039f"
             ],
             [
              0.2222222222222222,
              "#7201a8"
             ],
             [
              0.3333333333333333,
              "#9c179e"
             ],
             [
              0.4444444444444444,
              "#bd3786"
             ],
             [
              0.5555555555555556,
              "#d8576b"
             ],
             [
              0.6666666666666666,
              "#ed7953"
             ],
             [
              0.7777777777777778,
              "#fb9f3a"
             ],
             [
              0.8888888888888888,
              "#fdca26"
             ],
             [
              1,
              "#f0f921"
             ]
            ],
            "type": "heatmapgl"
           }
          ],
          "histogram": [
           {
            "marker": {
             "pattern": {
              "fillmode": "overlay",
              "size": 10,
              "solidity": 0.2
             }
            },
            "type": "histogram"
           }
          ],
          "histogram2d": [
           {
            "colorbar": {
             "outlinewidth": 0,
             "ticks": ""
            },
            "colorscale": [
             [
              0,
              "#0d0887"
             ],
             [
              0.1111111111111111,
              "#46039f"
             ],
             [
              0.2222222222222222,
              "#7201a8"
             ],
             [
              0.3333333333333333,
              "#9c179e"
             ],
             [
              0.4444444444444444,
              "#bd3786"
             ],
             [
              0.5555555555555556,
              "#d8576b"
             ],
             [
              0.6666666666666666,
              "#ed7953"
             ],
             [
              0.7777777777777778,
              "#fb9f3a"
             ],
             [
              0.8888888888888888,
              "#fdca26"
             ],
             [
              1,
              "#f0f921"
             ]
            ],
            "type": "histogram2d"
           }
          ],
          "histogram2dcontour": [
           {
            "colorbar": {
             "outlinewidth": 0,
             "ticks": ""
            },
            "colorscale": [
             [
              0,
              "#0d0887"
             ],
             [
              0.1111111111111111,
              "#46039f"
             ],
             [
              0.2222222222222222,
              "#7201a8"
             ],
             [
              0.3333333333333333,
              "#9c179e"
             ],
             [
              0.4444444444444444,
              "#bd3786"
             ],
             [
              0.5555555555555556,
              "#d8576b"
             ],
             [
              0.6666666666666666,
              "#ed7953"
             ],
             [
              0.7777777777777778,
              "#fb9f3a"
             ],
             [
              0.8888888888888888,
              "#fdca26"
             ],
             [
              1,
              "#f0f921"
             ]
            ],
            "type": "histogram2dcontour"
           }
          ],
          "mesh3d": [
           {
            "colorbar": {
             "outlinewidth": 0,
             "ticks": ""
            },
            "type": "mesh3d"
           }
          ],
          "parcoords": [
           {
            "line": {
             "colorbar": {
              "outlinewidth": 0,
              "ticks": ""
             }
            },
            "type": "parcoords"
           }
          ],
          "pie": [
           {
            "automargin": true,
            "type": "pie"
           }
          ],
          "scatter": [
           {
            "marker": {
             "colorbar": {
              "outlinewidth": 0,
              "ticks": ""
             }
            },
            "type": "scatter"
           }
          ],
          "scatter3d": [
           {
            "line": {
             "colorbar": {
              "outlinewidth": 0,
              "ticks": ""
             }
            },
            "marker": {
             "colorbar": {
              "outlinewidth": 0,
              "ticks": ""
             }
            },
            "type": "scatter3d"
           }
          ],
          "scattercarpet": [
           {
            "marker": {
             "colorbar": {
              "outlinewidth": 0,
              "ticks": ""
             }
            },
            "type": "scattercarpet"
           }
          ],
          "scattergeo": [
           {
            "marker": {
             "colorbar": {
              "outlinewidth": 0,
              "ticks": ""
             }
            },
            "type": "scattergeo"
           }
          ],
          "scattergl": [
           {
            "marker": {
             "colorbar": {
              "outlinewidth": 0,
              "ticks": ""
             }
            },
            "type": "scattergl"
           }
          ],
          "scattermapbox": [
           {
            "marker": {
             "colorbar": {
              "outlinewidth": 0,
              "ticks": ""
             }
            },
            "type": "scattermapbox"
           }
          ],
          "scatterpolar": [
           {
            "marker": {
             "colorbar": {
              "outlinewidth": 0,
              "ticks": ""
             }
            },
            "type": "scatterpolar"
           }
          ],
          "scatterpolargl": [
           {
            "marker": {
             "colorbar": {
              "outlinewidth": 0,
              "ticks": ""
             }
            },
            "type": "scatterpolargl"
           }
          ],
          "scatterternary": [
           {
            "marker": {
             "colorbar": {
              "outlinewidth": 0,
              "ticks": ""
             }
            },
            "type": "scatterternary"
           }
          ],
          "surface": [
           {
            "colorbar": {
             "outlinewidth": 0,
             "ticks": ""
            },
            "colorscale": [
             [
              0,
              "#0d0887"
             ],
             [
              0.1111111111111111,
              "#46039f"
             ],
             [
              0.2222222222222222,
              "#7201a8"
             ],
             [
              0.3333333333333333,
              "#9c179e"
             ],
             [
              0.4444444444444444,
              "#bd3786"
             ],
             [
              0.5555555555555556,
              "#d8576b"
             ],
             [
              0.6666666666666666,
              "#ed7953"
             ],
             [
              0.7777777777777778,
              "#fb9f3a"
             ],
             [
              0.8888888888888888,
              "#fdca26"
             ],
             [
              1,
              "#f0f921"
             ]
            ],
            "type": "surface"
           }
          ],
          "table": [
           {
            "cells": {
             "fill": {
              "color": "#EBF0F8"
             },
             "line": {
              "color": "white"
             }
            },
            "header": {
             "fill": {
              "color": "#C8D4E3"
             },
             "line": {
              "color": "white"
             }
            },
            "type": "table"
           }
          ]
         },
         "layout": {
          "annotationdefaults": {
           "arrowcolor": "#2a3f5f",
           "arrowhead": 0,
           "arrowwidth": 1
          },
          "autotypenumbers": "strict",
          "coloraxis": {
           "colorbar": {
            "outlinewidth": 0,
            "ticks": ""
           }
          },
          "colorscale": {
           "diverging": [
            [
             0,
             "#8e0152"
            ],
            [
             0.1,
             "#c51b7d"
            ],
            [
             0.2,
             "#de77ae"
            ],
            [
             0.3,
             "#f1b6da"
            ],
            [
             0.4,
             "#fde0ef"
            ],
            [
             0.5,
             "#f7f7f7"
            ],
            [
             0.6,
             "#e6f5d0"
            ],
            [
             0.7,
             "#b8e186"
            ],
            [
             0.8,
             "#7fbc41"
            ],
            [
             0.9,
             "#4d9221"
            ],
            [
             1,
             "#276419"
            ]
           ],
           "sequential": [
            [
             0,
             "#0d0887"
            ],
            [
             0.1111111111111111,
             "#46039f"
            ],
            [
             0.2222222222222222,
             "#7201a8"
            ],
            [
             0.3333333333333333,
             "#9c179e"
            ],
            [
             0.4444444444444444,
             "#bd3786"
            ],
            [
             0.5555555555555556,
             "#d8576b"
            ],
            [
             0.6666666666666666,
             "#ed7953"
            ],
            [
             0.7777777777777778,
             "#fb9f3a"
            ],
            [
             0.8888888888888888,
             "#fdca26"
            ],
            [
             1,
             "#f0f921"
            ]
           ],
           "sequentialminus": [
            [
             0,
             "#0d0887"
            ],
            [
             0.1111111111111111,
             "#46039f"
            ],
            [
             0.2222222222222222,
             "#7201a8"
            ],
            [
             0.3333333333333333,
             "#9c179e"
            ],
            [
             0.4444444444444444,
             "#bd3786"
            ],
            [
             0.5555555555555556,
             "#d8576b"
            ],
            [
             0.6666666666666666,
             "#ed7953"
            ],
            [
             0.7777777777777778,
             "#fb9f3a"
            ],
            [
             0.8888888888888888,
             "#fdca26"
            ],
            [
             1,
             "#f0f921"
            ]
           ]
          },
          "colorway": [
           "#636efa",
           "#EF553B",
           "#00cc96",
           "#ab63fa",
           "#FFA15A",
           "#19d3f3",
           "#FF6692",
           "#B6E880",
           "#FF97FF",
           "#FECB52"
          ],
          "font": {
           "color": "#2a3f5f"
          },
          "geo": {
           "bgcolor": "white",
           "lakecolor": "white",
           "landcolor": "#E5ECF6",
           "showlakes": true,
           "showland": true,
           "subunitcolor": "white"
          },
          "hoverlabel": {
           "align": "left"
          },
          "hovermode": "closest",
          "mapbox": {
           "style": "light"
          },
          "paper_bgcolor": "white",
          "plot_bgcolor": "#E5ECF6",
          "polar": {
           "angularaxis": {
            "gridcolor": "white",
            "linecolor": "white",
            "ticks": ""
           },
           "bgcolor": "#E5ECF6",
           "radialaxis": {
            "gridcolor": "white",
            "linecolor": "white",
            "ticks": ""
           }
          },
          "scene": {
           "xaxis": {
            "backgroundcolor": "#E5ECF6",
            "gridcolor": "white",
            "gridwidth": 2,
            "linecolor": "white",
            "showbackground": true,
            "ticks": "",
            "zerolinecolor": "white"
           },
           "yaxis": {
            "backgroundcolor": "#E5ECF6",
            "gridcolor": "white",
            "gridwidth": 2,
            "linecolor": "white",
            "showbackground": true,
            "ticks": "",
            "zerolinecolor": "white"
           },
           "zaxis": {
            "backgroundcolor": "#E5ECF6",
            "gridcolor": "white",
            "gridwidth": 2,
            "linecolor": "white",
            "showbackground": true,
            "ticks": "",
            "zerolinecolor": "white"
           }
          },
          "shapedefaults": {
           "line": {
            "color": "#2a3f5f"
           }
          },
          "ternary": {
           "aaxis": {
            "gridcolor": "white",
            "linecolor": "white",
            "ticks": ""
           },
           "baxis": {
            "gridcolor": "white",
            "linecolor": "white",
            "ticks": ""
           },
           "bgcolor": "#E5ECF6",
           "caxis": {
            "gridcolor": "white",
            "linecolor": "white",
            "ticks": ""
           }
          },
          "title": {
           "x": 0.05
          },
          "xaxis": {
           "automargin": true,
           "gridcolor": "white",
           "linecolor": "white",
           "ticks": "",
           "title": {
            "standoff": 15
           },
           "zerolinecolor": "white",
           "zerolinewidth": 2
          },
          "yaxis": {
           "automargin": true,
           "gridcolor": "white",
           "linecolor": "white",
           "ticks": "",
           "title": {
            "standoff": 15
           },
           "zerolinecolor": "white",
           "zerolinewidth": 2
          }
         }
        },
        "title": {
         "text": "Средняя стоимость 1 УЕТ в руб за 2022 год (план: 167.7)"
        },
        "width": 1360,
        "xaxis": {
         "anchor": "y",
         "categoryorder": "total descending",
         "domain": [
          0,
          1
         ],
         "title": {
          "text": "Врач"
         }
        },
        "yaxis": {
         "anchor": "x",
         "domain": [
          0,
          1
         ],
         "dtick": 167.7,
         "gridcolor": "grey",
         "title": {
          "text": "RPU"
         }
        }
       }
      },
      "text/html": [
       "<div>                            <div id=\"8d680735-d41b-44cb-9013-2f0d12c430c7\" class=\"plotly-graph-div\" style=\"height:525px; width:1360px;\"></div>            <script type=\"text/javascript\">                require([\"plotly\"], function(Plotly) {                    window.PLOTLYENV=window.PLOTLYENV || {};                                    if (document.getElementById(\"8d680735-d41b-44cb-9013-2f0d12c430c7\")) {                    Plotly.newPlot(                        \"8d680735-d41b-44cb-9013-2f0d12c430c7\",                        [{\"alignmentgroup\":\"True\",\"hovertemplate\":\"\\u041c\\u0435\\u0441\\u044f\\u0446=0122<br>\\u0412\\u0440\\u0430\\u0447=%{x}<br>RPU=%{text}<extra></extra>\",\"legendgroup\":\"0122\",\"marker\":{\"color\":\"rgb(100.0, 100.0, 100.0)\",\"pattern\":{\"shape\":\"\"}},\"name\":\"0122\",\"offsetgroup\":\"0122\",\"orientation\":\"v\",\"showlegend\":true,\"text\":[\"167.0\",\"173.8\",\"171.2\",\"160.2\",\"181.3\",\"172.5\",\"157.6\",\"179.1\",\"161.2\",\"169.5\",\"181.4\",\"170.4\",\"194.9\",\"172.9\",\"179.3\",\"162.5\",\"200.3\",\"179.4\",\"158.5\",\"177.2\",\"158.8\",\"155.1\",\"170.4\",\"174.9\",\"164.9\",\"182.0\"],\"textposition\":\"auto\",\"type\":\"bar\",\"x\":[\"\\u0410\\u043b\\u0435\\u043a\\u0441\\u0430\\u043d\\u0434\\u0440\\u043e\\u0432\\u0430 \\u0421\\u0432\\u0435\\u0442\\u043b\\u0430\\u043d\\u0430 \\u0412\\u0438\\u043a\\u0442\\u043e\\u0440\\u043e\\u0432\\u043d\\u0430\",\"\\u0410\\u0440\\u0443\\u0442\\u044e\\u043d\\u044f\\u043d \\u0410\\u0440\\u0443\\u0442\\u044e\\u043d \\u041b\\u0435\\u0432\\u043e\\u043d\\u043e\\u0432\\u0438\\u0447\",\"\\u0412\\u043b\\u0430\\u0441\\u043e\\u0432\\u0430 \\u0410\\u043b\\u044c\\u0444\\u0438\\u044f \\u041b\\u044f\\u0431\\u0438\\u0431\\u043e\\u0432\\u043d\\u0430\",\"\\u0412\\u043e\\u043b\\u043e\\u0434\\u0438\\u043d \\u041f\\u0430\\u0432\\u0435\\u043b \\u042e\\u0440\\u044c\\u0435\\u0432\\u0438\\u0447\",\"\\u0412\\u043e\\u043b\\u043e\\u0434\\u044c\\u043a\\u043e \\u0412\\u0430\\u043b\\u0435\\u043d\\u0442\\u0438\\u043d\\u0430 \\u0418\\u0432\\u0430\\u043d\\u043e\\u0432\\u043d\\u0430\",\"\\u0413\\u0432\\u043e\\u0437\\u0434\\u0435\\u0432\\u0430 \\u0422\\u0430\\u0442\\u044c\\u044f\\u043d\\u0430 \\u0410\\u043d\\u0430\\u0442\\u043e\\u043b\\u044c\\u0435\\u0432\\u043d\\u0430\",\"\\u0413\\u043e\\u0440\\u0431\\u0438\\u043a\\u043e\\u0432\\u0430 \\u042d\\u043b\\u044c\\u0444\\u0438\\u044f \\u0420\\u0430\\u0448\\u0438\\u0442\\u043e\\u0432\\u043d\\u0430\",\"\\u0417\\u0430\\u0432\\u0433\\u043e\\u0440\\u043e\\u0434\\u043d\\u044b\\u0439 \\u0421\\u0435\\u0440\\u0433\\u0435\\u0439 \\u0412\\u0430\\u043b\\u0435\\u0440\\u0438\\u0430\\u043d\\u043e\\u0432\\u0438\\u0447\",\"\\u0417\\u0430\\u0445\\u0430\\u0440\\u043e\\u0432 \\u0418\\u0432\\u0430\\u043d \\u0412\\u043b\\u0430\\u0434\\u0438\\u043c\\u0438\\u0440\\u043e\\u0432\\u0438\\u0447\",\"\\u041a\\u0430\\u043c\\u044b\\u043d\\u043e\\u0432\\u0430 \\u041d\\u0430\\u0442\\u0430\\u043b\\u0438\\u044f \\u0412\\u0430\\u043b\\u0435\\u0440\\u0438\\u0435\\u0432\\u043d\\u0430\",\"\\u041a\\u043e\\u0432\\u0430\\u043b\\u0435\\u043d\\u043a\\u043e \\u041e\\u043b\\u044c\\u0433\\u0430 \\u042d\\u0434\\u0443\\u0430\\u0440\\u0434\\u043e\\u0432\\u043d\\u0430\",\"\\u041a\\u043e\\u0432\\u0448\\u043e\\u0432 \\u0410\\u043b\\u0435\\u043a\\u0441\\u0430\\u043d\\u0434\\u0440 \\u0410\\u043b\\u0435\\u043a\\u0441\\u0430\\u043d\\u0434\\u0440\\u043e\\u0432\\u0438\\u0447\",\"\\u041a\\u043e\\u043b\\u0435\\u0441\\u043e\\u0432\\u0430 \\u041d\\u0430\\u0442\\u0430\\u043b\\u044c\\u044f \\u0412\\u0438\\u043a\\u0442\\u043e\\u0440\\u043e\\u0432\\u043d\\u0430\",\"\\u041a\\u0443\\u043a\\u0443\\u0448\\u043a\\u0438\\u043d\\u0430 \\u041b\\u0430\\u0440\\u0438\\u0441\\u0430 \\u0420\\u0430\\u043c\\u0437\\u0430\\u043d\\u043e\\u0432\\u043d\\u0430\",\"\\u041b\\u0438\\u0442\\u0432\\u0438\\u043d\\u043e\\u0432\\u0430 \\u041d\\u0438\\u043d\\u0430 \\u0410\\u043b\\u0435\\u043a\\u0441\\u0435\\u0435\\u0432\\u043d\\u0430\",\"\\u041b\\u043e\\u043f\\u0430\\u0442\\u043a\\u0438\\u043d\\u0430 \\u0410\\u043b\\u0451\\u043d\\u0430 \\u0421\\u0435\\u0440\\u0433\\u0435\\u0435\\u0432\\u043d\\u0430\",\"\\u041c\\u0430\\u043a\\u0441\\u0438\\u043c\\u0435\\u0446 \\u0418\\u0440\\u0438\\u043d\\u0430 \\u0418\\u0432\\u0430\\u043d\\u043e\\u0432\\u043d\\u0430\",\"\\u041c\\u043a\\u0440\\u0442\\u0447\\u044f\\u043d \\u0422\\u0430\\u0440\\u043e\\u043d \\u0410\\u0440\\u0441\\u0435\\u043d\\u043e\\u0432\\u0438\\u0447\",\"\\u041c\\u043e\\u0440\\u043e\\u0448\\u0435\\u043d\\u043a\\u043e\\u0432\\u0430 \\u0413\\u0443\\u043b\\u044c\\u043c\\u0438\\u0440\\u0430 \\u0410\\u0431\\u044b\\u043b\\u043a\\u0430\\u043a\\u043e\\u0432\\u043d\\u0430\",\"\\u041d\\u0438\\u043a\\u043e\\u043b\\u0430\\u0435\\u0432\\u0430 \\u041d\\u0430\\u0434\\u0435\\u0436\\u0434\\u0430 \\u0413\\u0440\\u0438\\u0433\\u043e\\u0440\\u044c\\u0435\\u0432\\u043d\\u0430\",\"\\u041e\\u043b\\u044c\\u0445\\u043e\\u0432\\u0441\\u043a\\u0430\\u044f \\u0410\\u043b\\u044c\\u0431\\u0438\\u043d\\u0430 \\u0412\\u043b\\u0430\\u0434\\u0438\\u043c\\u0438\\u0440\\u043e\\u0432\\u043d\\u0430\",\"\\u041f\\u0443\\u0437\\u0430\\u043d\\u043e\\u0432\\u0430 \\u041b\\u0438\\u0434\\u0438\\u044f \\u0421\\u0435\\u0440\\u0433\\u0435\\u0435\\u0432\\u043d\\u0430\",\"\\u0420\\u044b\\u0431\\u0430\\u043a \\u041b\\u0438\\u043b\\u0438\\u044f \\u0421\\u0435\\u0440\\u0433\\u0435\\u0435\\u0432\\u043d\\u0430\",\"\\u0421\\u043a\\u0430\\u043b\\u043a\\u043e\\u0432\\u0438\\u0447 \\u0418\\u043d\\u043d\\u0430 \\u0412\\u0430\\u043b\\u0435\\u0440\\u044c\\u0435\\u0432\\u043d\\u0430\",\"\\u0427\\u0438\\u0436\\u043e\\u0432\\u0430 \\u0415\\u043b\\u0435\\u043d\\u0430 \\u0412\\u043b\\u0430\\u0434\\u0438\\u043c\\u0438\\u0440\\u043e\\u0432\\u043d\\u0430\",\"\\u0427\\u0438\\u0447\\u0438\\u043a\\u0438\\u043d\\u0430 \\u0413\\u0430\\u043b\\u0438\\u043d\\u0430 \\u041f\\u0430\\u0432\\u043b\\u043e\\u0432\\u043d\\u0430\"],\"xaxis\":\"x\",\"y\":[167.0,173.8,171.2,160.2,181.3,172.5,157.6,179.1,161.2,169.5,181.4,170.4,194.9,172.9,179.3,162.5,200.3,179.4,158.5,177.2,158.8,155.1,170.4,174.9,164.9,182.0],\"yaxis\":\"y\"},{\"alignmentgroup\":\"True\",\"hovertemplate\":\"\\u041c\\u0435\\u0441\\u044f\\u0446=0222<br>\\u0412\\u0440\\u0430\\u0447=%{x}<br>RPU=%{text}<extra></extra>\",\"legendgroup\":\"0222\",\"marker\":{\"color\":\"rgb(131.0, 131.0, 131.0)\",\"pattern\":{\"shape\":\"\"}},\"name\":\"0222\",\"offsetgroup\":\"0222\",\"orientation\":\"v\",\"showlegend\":true,\"text\":[\"185.6\",\"173.6\",\"171.4\",\"190.7\",\"177.8\",\"186.6\",\"172.8\",\"183.9\",\"165.3\",\"176.2\",\"187.0\",\"178.1\",\"196.9\",\"180.1\",\"189.5\",\"180.9\",\"195.0\",\"187.6\",\"172.5\",\"189.6\",\"171.7\",\"169.6\",\"177.3\",\"191.8\",\"174.9\",\"182.7\"],\"textposition\":\"auto\",\"type\":\"bar\",\"x\":[\"\\u0410\\u043b\\u0435\\u043a\\u0441\\u0430\\u043d\\u0434\\u0440\\u043e\\u0432\\u0430 \\u0421\\u0432\\u0435\\u0442\\u043b\\u0430\\u043d\\u0430 \\u0412\\u0438\\u043a\\u0442\\u043e\\u0440\\u043e\\u0432\\u043d\\u0430\",\"\\u0410\\u0440\\u0443\\u0442\\u044e\\u043d\\u044f\\u043d \\u0410\\u0440\\u0443\\u0442\\u044e\\u043d \\u041b\\u0435\\u0432\\u043e\\u043d\\u043e\\u0432\\u0438\\u0447\",\"\\u0412\\u043b\\u0430\\u0441\\u043e\\u0432\\u0430 \\u0410\\u043b\\u044c\\u0444\\u0438\\u044f \\u041b\\u044f\\u0431\\u0438\\u0431\\u043e\\u0432\\u043d\\u0430\",\"\\u0412\\u043e\\u043b\\u043e\\u0434\\u0438\\u043d \\u041f\\u0430\\u0432\\u0435\\u043b \\u042e\\u0440\\u044c\\u0435\\u0432\\u0438\\u0447\",\"\\u0412\\u043e\\u043b\\u043e\\u0434\\u044c\\u043a\\u043e \\u0412\\u0430\\u043b\\u0435\\u043d\\u0442\\u0438\\u043d\\u0430 \\u0418\\u0432\\u0430\\u043d\\u043e\\u0432\\u043d\\u0430\",\"\\u0413\\u0432\\u043e\\u0437\\u0434\\u0435\\u0432\\u0430 \\u0422\\u0430\\u0442\\u044c\\u044f\\u043d\\u0430 \\u0410\\u043d\\u0430\\u0442\\u043e\\u043b\\u044c\\u0435\\u0432\\u043d\\u0430\",\"\\u0413\\u043e\\u0440\\u0431\\u0438\\u043a\\u043e\\u0432\\u0430 \\u042d\\u043b\\u044c\\u0444\\u0438\\u044f \\u0420\\u0430\\u0448\\u0438\\u0442\\u043e\\u0432\\u043d\\u0430\",\"\\u0417\\u0430\\u0432\\u0433\\u043e\\u0440\\u043e\\u0434\\u043d\\u044b\\u0439 \\u0421\\u0435\\u0440\\u0433\\u0435\\u0439 \\u0412\\u0430\\u043b\\u0435\\u0440\\u0438\\u0430\\u043d\\u043e\\u0432\\u0438\\u0447\",\"\\u0417\\u0430\\u0445\\u0430\\u0440\\u043e\\u0432 \\u0418\\u0432\\u0430\\u043d \\u0412\\u043b\\u0430\\u0434\\u0438\\u043c\\u0438\\u0440\\u043e\\u0432\\u0438\\u0447\",\"\\u041a\\u0430\\u043c\\u044b\\u043d\\u043e\\u0432\\u0430 \\u041d\\u0430\\u0442\\u0430\\u043b\\u0438\\u044f \\u0412\\u0430\\u043b\\u0435\\u0440\\u0438\\u0435\\u0432\\u043d\\u0430\",\"\\u041a\\u043e\\u0432\\u0430\\u043b\\u0435\\u043d\\u043a\\u043e \\u041e\\u043b\\u044c\\u0433\\u0430 \\u042d\\u0434\\u0443\\u0430\\u0440\\u0434\\u043e\\u0432\\u043d\\u0430\",\"\\u041a\\u043e\\u0432\\u0448\\u043e\\u0432 \\u0410\\u043b\\u0435\\u043a\\u0441\\u0430\\u043d\\u0434\\u0440 \\u0410\\u043b\\u0435\\u043a\\u0441\\u0430\\u043d\\u0434\\u0440\\u043e\\u0432\\u0438\\u0447\",\"\\u041a\\u043e\\u043b\\u0435\\u0441\\u043e\\u0432\\u0430 \\u041d\\u0430\\u0442\\u0430\\u043b\\u044c\\u044f \\u0412\\u0438\\u043a\\u0442\\u043e\\u0440\\u043e\\u0432\\u043d\\u0430\",\"\\u041a\\u0443\\u043a\\u0443\\u0448\\u043a\\u0438\\u043d\\u0430 \\u041b\\u0430\\u0440\\u0438\\u0441\\u0430 \\u0420\\u0430\\u043c\\u0437\\u0430\\u043d\\u043e\\u0432\\u043d\\u0430\",\"\\u041b\\u0438\\u0442\\u0432\\u0438\\u043d\\u043e\\u0432\\u0430 \\u041d\\u0438\\u043d\\u0430 \\u0410\\u043b\\u0435\\u043a\\u0441\\u0435\\u0435\\u0432\\u043d\\u0430\",\"\\u041b\\u043e\\u043f\\u0430\\u0442\\u043a\\u0438\\u043d\\u0430 \\u0410\\u043b\\u0451\\u043d\\u0430 \\u0421\\u0435\\u0440\\u0433\\u0435\\u0435\\u0432\\u043d\\u0430\",\"\\u041c\\u0430\\u043a\\u0441\\u0438\\u043c\\u0435\\u0446 \\u0418\\u0440\\u0438\\u043d\\u0430 \\u0418\\u0432\\u0430\\u043d\\u043e\\u0432\\u043d\\u0430\",\"\\u041c\\u043a\\u0440\\u0442\\u0447\\u044f\\u043d \\u0422\\u0430\\u0440\\u043e\\u043d \\u0410\\u0440\\u0441\\u0435\\u043d\\u043e\\u0432\\u0438\\u0447\",\"\\u041c\\u043e\\u0440\\u043e\\u0448\\u0435\\u043d\\u043a\\u043e\\u0432\\u0430 \\u0413\\u0443\\u043b\\u044c\\u043c\\u0438\\u0440\\u0430 \\u0410\\u0431\\u044b\\u043b\\u043a\\u0430\\u043a\\u043e\\u0432\\u043d\\u0430\",\"\\u041d\\u0438\\u043a\\u043e\\u043b\\u0430\\u0435\\u0432\\u0430 \\u041d\\u0430\\u0434\\u0435\\u0436\\u0434\\u0430 \\u0413\\u0440\\u0438\\u0433\\u043e\\u0440\\u044c\\u0435\\u0432\\u043d\\u0430\",\"\\u041e\\u043b\\u044c\\u0445\\u043e\\u0432\\u0441\\u043a\\u0430\\u044f \\u0410\\u043b\\u044c\\u0431\\u0438\\u043d\\u0430 \\u0412\\u043b\\u0430\\u0434\\u0438\\u043c\\u0438\\u0440\\u043e\\u0432\\u043d\\u0430\",\"\\u041f\\u0443\\u0437\\u0430\\u043d\\u043e\\u0432\\u0430 \\u041b\\u0438\\u0434\\u0438\\u044f \\u0421\\u0435\\u0440\\u0433\\u0435\\u0435\\u0432\\u043d\\u0430\",\"\\u0420\\u044b\\u0431\\u0430\\u043a \\u041b\\u0438\\u043b\\u0438\\u044f \\u0421\\u0435\\u0440\\u0433\\u0435\\u0435\\u0432\\u043d\\u0430\",\"\\u0421\\u043a\\u0430\\u043b\\u043a\\u043e\\u0432\\u0438\\u0447 \\u0418\\u043d\\u043d\\u0430 \\u0412\\u0430\\u043b\\u0435\\u0440\\u044c\\u0435\\u0432\\u043d\\u0430\",\"\\u0427\\u0438\\u0436\\u043e\\u0432\\u0430 \\u0415\\u043b\\u0435\\u043d\\u0430 \\u0412\\u043b\\u0430\\u0434\\u0438\\u043c\\u0438\\u0440\\u043e\\u0432\\u043d\\u0430\",\"\\u0427\\u0438\\u0447\\u0438\\u043a\\u0438\\u043d\\u0430 \\u0413\\u0430\\u043b\\u0438\\u043d\\u0430 \\u041f\\u0430\\u0432\\u043b\\u043e\\u0432\\u043d\\u0430\"],\"xaxis\":\"x\",\"y\":[185.6,173.6,171.4,190.7,177.8,186.6,172.8,183.9,165.3,176.2,187.0,178.1,196.9,180.1,189.5,180.9,195.0,187.6,172.5,189.6,171.7,169.6,177.3,191.8,174.9,182.7],\"yaxis\":\"y\"},{\"alignmentgroup\":\"True\",\"hovertemplate\":\"\\u041c\\u0435\\u0441\\u044f\\u0446=0322<br>\\u0412\\u0440\\u0430\\u0447=%{x}<br>RPU=%{text}<extra></extra>\",\"legendgroup\":\"0322\",\"marker\":{\"color\":\"rgb(162.0, 162.0, 162.0)\",\"pattern\":{\"shape\":\"\"}},\"name\":\"0322\",\"offsetgroup\":\"0322\",\"orientation\":\"v\",\"showlegend\":true,\"text\":[\"168.0\",\"176.0\",\"166.1\",\"170.5\",\"181.6\",\"170.8\",\"159.6\",\"182.2\",\"162.6\",\"171.0\",\"182.1\",\"170.4\",\"196.5\",\"168.4\",\"176.7\",\"169.8\",\"185.0\",\"172.5\",\"165.5\",\"186.6\",\"160.9\",\"156.0\",\"174.7\",\"176.1\",\"162.0\",\"183.0\"],\"textposition\":\"auto\",\"type\":\"bar\",\"x\":[\"\\u0410\\u043b\\u0435\\u043a\\u0441\\u0430\\u043d\\u0434\\u0440\\u043e\\u0432\\u0430 \\u0421\\u0432\\u0435\\u0442\\u043b\\u0430\\u043d\\u0430 \\u0412\\u0438\\u043a\\u0442\\u043e\\u0440\\u043e\\u0432\\u043d\\u0430\",\"\\u0410\\u0440\\u0443\\u0442\\u044e\\u043d\\u044f\\u043d \\u0410\\u0440\\u0443\\u0442\\u044e\\u043d \\u041b\\u0435\\u0432\\u043e\\u043d\\u043e\\u0432\\u0438\\u0447\",\"\\u0412\\u043b\\u0430\\u0441\\u043e\\u0432\\u0430 \\u0410\\u043b\\u044c\\u0444\\u0438\\u044f \\u041b\\u044f\\u0431\\u0438\\u0431\\u043e\\u0432\\u043d\\u0430\",\"\\u0412\\u043e\\u043b\\u043e\\u0434\\u0438\\u043d \\u041f\\u0430\\u0432\\u0435\\u043b \\u042e\\u0440\\u044c\\u0435\\u0432\\u0438\\u0447\",\"\\u0412\\u043e\\u043b\\u043e\\u0434\\u044c\\u043a\\u043e \\u0412\\u0430\\u043b\\u0435\\u043d\\u0442\\u0438\\u043d\\u0430 \\u0418\\u0432\\u0430\\u043d\\u043e\\u0432\\u043d\\u0430\",\"\\u0413\\u0432\\u043e\\u0437\\u0434\\u0435\\u0432\\u0430 \\u0422\\u0430\\u0442\\u044c\\u044f\\u043d\\u0430 \\u0410\\u043d\\u0430\\u0442\\u043e\\u043b\\u044c\\u0435\\u0432\\u043d\\u0430\",\"\\u0413\\u043e\\u0440\\u0431\\u0438\\u043a\\u043e\\u0432\\u0430 \\u042d\\u043b\\u044c\\u0444\\u0438\\u044f \\u0420\\u0430\\u0448\\u0438\\u0442\\u043e\\u0432\\u043d\\u0430\",\"\\u0417\\u0430\\u0432\\u0433\\u043e\\u0440\\u043e\\u0434\\u043d\\u044b\\u0439 \\u0421\\u0435\\u0440\\u0433\\u0435\\u0439 \\u0412\\u0430\\u043b\\u0435\\u0440\\u0438\\u0430\\u043d\\u043e\\u0432\\u0438\\u0447\",\"\\u0417\\u0430\\u0445\\u0430\\u0440\\u043e\\u0432 \\u0418\\u0432\\u0430\\u043d \\u0412\\u043b\\u0430\\u0434\\u0438\\u043c\\u0438\\u0440\\u043e\\u0432\\u0438\\u0447\",\"\\u041a\\u0430\\u043c\\u044b\\u043d\\u043e\\u0432\\u0430 \\u041d\\u0430\\u0442\\u0430\\u043b\\u0438\\u044f \\u0412\\u0430\\u043b\\u0435\\u0440\\u0438\\u0435\\u0432\\u043d\\u0430\",\"\\u041a\\u043e\\u0432\\u0430\\u043b\\u0435\\u043d\\u043a\\u043e \\u041e\\u043b\\u044c\\u0433\\u0430 \\u042d\\u0434\\u0443\\u0430\\u0440\\u0434\\u043e\\u0432\\u043d\\u0430\",\"\\u041a\\u043e\\u0432\\u0448\\u043e\\u0432 \\u0410\\u043b\\u0435\\u043a\\u0441\\u0430\\u043d\\u0434\\u0440 \\u0410\\u043b\\u0435\\u043a\\u0441\\u0430\\u043d\\u0434\\u0440\\u043e\\u0432\\u0438\\u0447\",\"\\u041a\\u043e\\u043b\\u0435\\u0441\\u043e\\u0432\\u0430 \\u041d\\u0430\\u0442\\u0430\\u043b\\u044c\\u044f \\u0412\\u0438\\u043a\\u0442\\u043e\\u0440\\u043e\\u0432\\u043d\\u0430\",\"\\u041a\\u0443\\u043a\\u0443\\u0448\\u043a\\u0438\\u043d\\u0430 \\u041b\\u0430\\u0440\\u0438\\u0441\\u0430 \\u0420\\u0430\\u043c\\u0437\\u0430\\u043d\\u043e\\u0432\\u043d\\u0430\",\"\\u041b\\u0438\\u0442\\u0432\\u0438\\u043d\\u043e\\u0432\\u0430 \\u041d\\u0438\\u043d\\u0430 \\u0410\\u043b\\u0435\\u043a\\u0441\\u0435\\u0435\\u0432\\u043d\\u0430\",\"\\u041b\\u043e\\u043f\\u0430\\u0442\\u043a\\u0438\\u043d\\u0430 \\u0410\\u043b\\u0451\\u043d\\u0430 \\u0421\\u0435\\u0440\\u0433\\u0435\\u0435\\u0432\\u043d\\u0430\",\"\\u041c\\u0430\\u043a\\u0441\\u0438\\u043c\\u0435\\u0446 \\u0418\\u0440\\u0438\\u043d\\u0430 \\u0418\\u0432\\u0430\\u043d\\u043e\\u0432\\u043d\\u0430\",\"\\u041c\\u043a\\u0440\\u0442\\u0447\\u044f\\u043d \\u0422\\u0430\\u0440\\u043e\\u043d \\u0410\\u0440\\u0441\\u0435\\u043d\\u043e\\u0432\\u0438\\u0447\",\"\\u041c\\u043e\\u0440\\u043e\\u0448\\u0435\\u043d\\u043a\\u043e\\u0432\\u0430 \\u0413\\u0443\\u043b\\u044c\\u043c\\u0438\\u0440\\u0430 \\u0410\\u0431\\u044b\\u043b\\u043a\\u0430\\u043a\\u043e\\u0432\\u043d\\u0430\",\"\\u041d\\u0438\\u043a\\u043e\\u043b\\u0430\\u0435\\u0432\\u0430 \\u041d\\u0430\\u0434\\u0435\\u0436\\u0434\\u0430 \\u0413\\u0440\\u0438\\u0433\\u043e\\u0440\\u044c\\u0435\\u0432\\u043d\\u0430\",\"\\u041e\\u043b\\u044c\\u0445\\u043e\\u0432\\u0441\\u043a\\u0430\\u044f \\u0410\\u043b\\u044c\\u0431\\u0438\\u043d\\u0430 \\u0412\\u043b\\u0430\\u0434\\u0438\\u043c\\u0438\\u0440\\u043e\\u0432\\u043d\\u0430\",\"\\u041f\\u0443\\u0437\\u0430\\u043d\\u043e\\u0432\\u0430 \\u041b\\u0438\\u0434\\u0438\\u044f \\u0421\\u0435\\u0440\\u0433\\u0435\\u0435\\u0432\\u043d\\u0430\",\"\\u0420\\u044b\\u0431\\u0430\\u043a \\u041b\\u0438\\u043b\\u0438\\u044f \\u0421\\u0435\\u0440\\u0433\\u0435\\u0435\\u0432\\u043d\\u0430\",\"\\u0421\\u043a\\u0430\\u043b\\u043a\\u043e\\u0432\\u0438\\u0447 \\u0418\\u043d\\u043d\\u0430 \\u0412\\u0430\\u043b\\u0435\\u0440\\u044c\\u0435\\u0432\\u043d\\u0430\",\"\\u0427\\u0438\\u0436\\u043e\\u0432\\u0430 \\u0415\\u043b\\u0435\\u043d\\u0430 \\u0412\\u043b\\u0430\\u0434\\u0438\\u043c\\u0438\\u0440\\u043e\\u0432\\u043d\\u0430\",\"\\u0427\\u0438\\u0447\\u0438\\u043a\\u0438\\u043d\\u0430 \\u0413\\u0430\\u043b\\u0438\\u043d\\u0430 \\u041f\\u0430\\u0432\\u043b\\u043e\\u0432\\u043d\\u0430\"],\"xaxis\":\"x\",\"y\":[168.0,176.0,166.1,170.5,181.6,170.8,159.6,182.2,162.6,171.0,182.1,170.4,196.5,168.4,176.7,169.8,185.0,172.5,165.5,186.6,160.9,156.0,174.7,176.1,162.0,183.0],\"yaxis\":\"y\"},{\"alignmentgroup\":\"True\",\"hovertemplate\":\"\\u041c\\u0435\\u0441\\u044f\\u0446=0422<br>\\u0412\\u0440\\u0430\\u0447=%{x}<br>RPU=%{text}<extra></extra>\",\"legendgroup\":\"0422\",\"marker\":{\"color\":\"rgb(193.0, 193.0, 193.0)\",\"pattern\":{\"shape\":\"\"}},\"name\":\"0422\",\"offsetgroup\":\"0422\",\"orientation\":\"v\",\"showlegend\":true,\"text\":[\"164.5\",\"177.1\",\"167.9\",\"175.7\",\"178.2\",\"171.8\",\"157.9\",\"183.1\",\"164.7\",\"170.4\",\"176.9\",\"165.8\",\"194.0\",\"161.8\",\"183.4\",\"172.2\",\"190.1\",\"160.3\",\"161.6\",\"191.3\",\"163.2\",\"155.9\",\"173.7\",\"178.8\",\"164.9\",\"181.7\"],\"textposition\":\"auto\",\"type\":\"bar\",\"x\":[\"\\u0410\\u043b\\u0435\\u043a\\u0441\\u0430\\u043d\\u0434\\u0440\\u043e\\u0432\\u0430 \\u0421\\u0432\\u0435\\u0442\\u043b\\u0430\\u043d\\u0430 \\u0412\\u0438\\u043a\\u0442\\u043e\\u0440\\u043e\\u0432\\u043d\\u0430\",\"\\u0410\\u0440\\u0443\\u0442\\u044e\\u043d\\u044f\\u043d \\u0410\\u0440\\u0443\\u0442\\u044e\\u043d \\u041b\\u0435\\u0432\\u043e\\u043d\\u043e\\u0432\\u0438\\u0447\",\"\\u0412\\u043b\\u0430\\u0441\\u043e\\u0432\\u0430 \\u0410\\u043b\\u044c\\u0444\\u0438\\u044f \\u041b\\u044f\\u0431\\u0438\\u0431\\u043e\\u0432\\u043d\\u0430\",\"\\u0412\\u043e\\u043b\\u043e\\u0434\\u0438\\u043d \\u041f\\u0430\\u0432\\u0435\\u043b \\u042e\\u0440\\u044c\\u0435\\u0432\\u0438\\u0447\",\"\\u0412\\u043e\\u043b\\u043e\\u0434\\u044c\\u043a\\u043e \\u0412\\u0430\\u043b\\u0435\\u043d\\u0442\\u0438\\u043d\\u0430 \\u0418\\u0432\\u0430\\u043d\\u043e\\u0432\\u043d\\u0430\",\"\\u0413\\u0432\\u043e\\u0437\\u0434\\u0435\\u0432\\u0430 \\u0422\\u0430\\u0442\\u044c\\u044f\\u043d\\u0430 \\u0410\\u043d\\u0430\\u0442\\u043e\\u043b\\u044c\\u0435\\u0432\\u043d\\u0430\",\"\\u0413\\u043e\\u0440\\u0431\\u0438\\u043a\\u043e\\u0432\\u0430 \\u042d\\u043b\\u044c\\u0444\\u0438\\u044f \\u0420\\u0430\\u0448\\u0438\\u0442\\u043e\\u0432\\u043d\\u0430\",\"\\u0417\\u0430\\u0432\\u0433\\u043e\\u0440\\u043e\\u0434\\u043d\\u044b\\u0439 \\u0421\\u0435\\u0440\\u0433\\u0435\\u0439 \\u0412\\u0430\\u043b\\u0435\\u0440\\u0438\\u0430\\u043d\\u043e\\u0432\\u0438\\u0447\",\"\\u0417\\u0430\\u0445\\u0430\\u0440\\u043e\\u0432 \\u0418\\u0432\\u0430\\u043d \\u0412\\u043b\\u0430\\u0434\\u0438\\u043c\\u0438\\u0440\\u043e\\u0432\\u0438\\u0447\",\"\\u041a\\u0430\\u043c\\u044b\\u043d\\u043e\\u0432\\u0430 \\u041d\\u0430\\u0442\\u0430\\u043b\\u0438\\u044f \\u0412\\u0430\\u043b\\u0435\\u0440\\u0438\\u0435\\u0432\\u043d\\u0430\",\"\\u041a\\u043e\\u0432\\u0430\\u043b\\u0435\\u043d\\u043a\\u043e \\u041e\\u043b\\u044c\\u0433\\u0430 \\u042d\\u0434\\u0443\\u0430\\u0440\\u0434\\u043e\\u0432\\u043d\\u0430\",\"\\u041a\\u043e\\u0432\\u0448\\u043e\\u0432 \\u0410\\u043b\\u0435\\u043a\\u0441\\u0430\\u043d\\u0434\\u0440 \\u0410\\u043b\\u0435\\u043a\\u0441\\u0430\\u043d\\u0434\\u0440\\u043e\\u0432\\u0438\\u0447\",\"\\u041a\\u043e\\u043b\\u0435\\u0441\\u043e\\u0432\\u0430 \\u041d\\u0430\\u0442\\u0430\\u043b\\u044c\\u044f \\u0412\\u0438\\u043a\\u0442\\u043e\\u0440\\u043e\\u0432\\u043d\\u0430\",\"\\u041a\\u0443\\u043a\\u0443\\u0448\\u043a\\u0438\\u043d\\u0430 \\u041b\\u0430\\u0440\\u0438\\u0441\\u0430 \\u0420\\u0430\\u043c\\u0437\\u0430\\u043d\\u043e\\u0432\\u043d\\u0430\",\"\\u041b\\u0438\\u0442\\u0432\\u0438\\u043d\\u043e\\u0432\\u0430 \\u041d\\u0438\\u043d\\u0430 \\u0410\\u043b\\u0435\\u043a\\u0441\\u0435\\u0435\\u0432\\u043d\\u0430\",\"\\u041b\\u043e\\u043f\\u0430\\u0442\\u043a\\u0438\\u043d\\u0430 \\u0410\\u043b\\u0451\\u043d\\u0430 \\u0421\\u0435\\u0440\\u0433\\u0435\\u0435\\u0432\\u043d\\u0430\",\"\\u041c\\u0430\\u043a\\u0441\\u0438\\u043c\\u0435\\u0446 \\u0418\\u0440\\u0438\\u043d\\u0430 \\u0418\\u0432\\u0430\\u043d\\u043e\\u0432\\u043d\\u0430\",\"\\u041c\\u043a\\u0440\\u0442\\u0447\\u044f\\u043d \\u0422\\u0430\\u0440\\u043e\\u043d \\u0410\\u0440\\u0441\\u0435\\u043d\\u043e\\u0432\\u0438\\u0447\",\"\\u041c\\u043e\\u0440\\u043e\\u0448\\u0435\\u043d\\u043a\\u043e\\u0432\\u0430 \\u0413\\u0443\\u043b\\u044c\\u043c\\u0438\\u0440\\u0430 \\u0410\\u0431\\u044b\\u043b\\u043a\\u0430\\u043a\\u043e\\u0432\\u043d\\u0430\",\"\\u041d\\u0438\\u043a\\u043e\\u043b\\u0430\\u0435\\u0432\\u0430 \\u041d\\u0430\\u0434\\u0435\\u0436\\u0434\\u0430 \\u0413\\u0440\\u0438\\u0433\\u043e\\u0440\\u044c\\u0435\\u0432\\u043d\\u0430\",\"\\u041e\\u043b\\u044c\\u0445\\u043e\\u0432\\u0441\\u043a\\u0430\\u044f \\u0410\\u043b\\u044c\\u0431\\u0438\\u043d\\u0430 \\u0412\\u043b\\u0430\\u0434\\u0438\\u043c\\u0438\\u0440\\u043e\\u0432\\u043d\\u0430\",\"\\u041f\\u0443\\u0437\\u0430\\u043d\\u043e\\u0432\\u0430 \\u041b\\u0438\\u0434\\u0438\\u044f \\u0421\\u0435\\u0440\\u0433\\u0435\\u0435\\u0432\\u043d\\u0430\",\"\\u0420\\u044b\\u0431\\u0430\\u043a \\u041b\\u0438\\u043b\\u0438\\u044f \\u0421\\u0435\\u0440\\u0433\\u0435\\u0435\\u0432\\u043d\\u0430\",\"\\u0421\\u043a\\u0430\\u043b\\u043a\\u043e\\u0432\\u0438\\u0447 \\u0418\\u043d\\u043d\\u0430 \\u0412\\u0430\\u043b\\u0435\\u0440\\u044c\\u0435\\u0432\\u043d\\u0430\",\"\\u0427\\u0438\\u0436\\u043e\\u0432\\u0430 \\u0415\\u043b\\u0435\\u043d\\u0430 \\u0412\\u043b\\u0430\\u0434\\u0438\\u043c\\u0438\\u0440\\u043e\\u0432\\u043d\\u0430\",\"\\u0427\\u0438\\u0447\\u0438\\u043a\\u0438\\u043d\\u0430 \\u0413\\u0430\\u043b\\u0438\\u043d\\u0430 \\u041f\\u0430\\u0432\\u043b\\u043e\\u0432\\u043d\\u0430\"],\"xaxis\":\"x\",\"y\":[164.5,177.1,167.9,175.7,178.2,171.8,157.9,183.1,164.7,170.4,176.9,165.8,194.0,161.8,183.4,172.2,190.1,160.3,161.6,191.3,163.2,155.9,173.7,178.8,164.9,181.7],\"yaxis\":\"y\"},{\"alignmentgroup\":\"True\",\"hovertemplate\":\"\\u041c\\u0435\\u0441\\u044f\\u0446=0522<br>\\u0412\\u0440\\u0430\\u0447=%{x}<br>RPU=%{text}<extra></extra>\",\"legendgroup\":\"0522\",\"marker\":{\"color\":\"rgb(224.0, 224.0, 224.0)\",\"pattern\":{\"shape\":\"\"}},\"name\":\"0522\",\"offsetgroup\":\"0522\",\"orientation\":\"v\",\"showlegend\":true,\"text\":[\"173.3\",\"182.7\",\"174.4\",\"189.8\",\"184.5\",\"156.8\",\"181.2\",\"178.5\",\"185.1\",\"179.7\",\"162.2\",\"193.3\",\"155.5\",\"182.2\",\"173.1\",\"188.3\",\"170.3\",\"160.4\",\"194.0\",\"160.2\",\"160.8\",\"173.0\",\"180.0\",\"157.8\",\"182.5\"],\"textposition\":\"auto\",\"type\":\"bar\",\"x\":[\"\\u0410\\u043b\\u0435\\u043a\\u0441\\u0430\\u043d\\u0434\\u0440\\u043e\\u0432\\u0430 \\u0421\\u0432\\u0435\\u0442\\u043b\\u0430\\u043d\\u0430 \\u0412\\u0438\\u043a\\u0442\\u043e\\u0440\\u043e\\u0432\\u043d\\u0430\",\"\\u0410\\u0440\\u0443\\u0442\\u044e\\u043d\\u044f\\u043d \\u0410\\u0440\\u0443\\u0442\\u044e\\u043d \\u041b\\u0435\\u0432\\u043e\\u043d\\u043e\\u0432\\u0438\\u0447\",\"\\u0412\\u043b\\u0430\\u0441\\u043e\\u0432\\u0430 \\u0410\\u043b\\u044c\\u0444\\u0438\\u044f \\u041b\\u044f\\u0431\\u0438\\u0431\\u043e\\u0432\\u043d\\u0430\",\"\\u0412\\u043e\\u043b\\u043e\\u0434\\u0438\\u043d \\u041f\\u0430\\u0432\\u0435\\u043b \\u042e\\u0440\\u044c\\u0435\\u0432\\u0438\\u0447\",\"\\u0412\\u043e\\u043b\\u043e\\u0434\\u044c\\u043a\\u043e \\u0412\\u0430\\u043b\\u0435\\u043d\\u0442\\u0438\\u043d\\u0430 \\u0418\\u0432\\u0430\\u043d\\u043e\\u0432\\u043d\\u0430\",\"\\u0413\\u043e\\u0440\\u0431\\u0438\\u043a\\u043e\\u0432\\u0430 \\u042d\\u043b\\u044c\\u0444\\u0438\\u044f \\u0420\\u0430\\u0448\\u0438\\u0442\\u043e\\u0432\\u043d\\u0430\",\"\\u0417\\u0430\\u0432\\u0433\\u043e\\u0440\\u043e\\u0434\\u043d\\u044b\\u0439 \\u0421\\u0435\\u0440\\u0433\\u0435\\u0439 \\u0412\\u0430\\u043b\\u0435\\u0440\\u0438\\u0430\\u043d\\u043e\\u0432\\u0438\\u0447\",\"\\u0417\\u0430\\u0445\\u0430\\u0440\\u043e\\u0432 \\u0418\\u0432\\u0430\\u043d \\u0412\\u043b\\u0430\\u0434\\u0438\\u043c\\u0438\\u0440\\u043e\\u0432\\u0438\\u0447\",\"\\u041a\\u0430\\u043c\\u044b\\u043d\\u043e\\u0432\\u0430 \\u041d\\u0430\\u0442\\u0430\\u043b\\u0438\\u044f \\u0412\\u0430\\u043b\\u0435\\u0440\\u0438\\u0435\\u0432\\u043d\\u0430\",\"\\u041a\\u043e\\u0432\\u0430\\u043b\\u0435\\u043d\\u043a\\u043e \\u041e\\u043b\\u044c\\u0433\\u0430 \\u042d\\u0434\\u0443\\u0430\\u0440\\u0434\\u043e\\u0432\\u043d\\u0430\",\"\\u041a\\u043e\\u0432\\u0448\\u043e\\u0432 \\u0410\\u043b\\u0435\\u043a\\u0441\\u0430\\u043d\\u0434\\u0440 \\u0410\\u043b\\u0435\\u043a\\u0441\\u0430\\u043d\\u0434\\u0440\\u043e\\u0432\\u0438\\u0447\",\"\\u041a\\u043e\\u043b\\u0435\\u0441\\u043e\\u0432\\u0430 \\u041d\\u0430\\u0442\\u0430\\u043b\\u044c\\u044f \\u0412\\u0438\\u043a\\u0442\\u043e\\u0440\\u043e\\u0432\\u043d\\u0430\",\"\\u041a\\u0443\\u043a\\u0443\\u0448\\u043a\\u0438\\u043d\\u0430 \\u041b\\u0430\\u0440\\u0438\\u0441\\u0430 \\u0420\\u0430\\u043c\\u0437\\u0430\\u043d\\u043e\\u0432\\u043d\\u0430\",\"\\u041b\\u0438\\u0442\\u0432\\u0438\\u043d\\u043e\\u0432\\u0430 \\u041d\\u0438\\u043d\\u0430 \\u0410\\u043b\\u0435\\u043a\\u0441\\u0435\\u0435\\u0432\\u043d\\u0430\",\"\\u041b\\u043e\\u043f\\u0430\\u0442\\u043a\\u0438\\u043d\\u0430 \\u0410\\u043b\\u0451\\u043d\\u0430 \\u0421\\u0435\\u0440\\u0433\\u0435\\u0435\\u0432\\u043d\\u0430\",\"\\u041c\\u0430\\u043a\\u0441\\u0438\\u043c\\u0435\\u0446 \\u0418\\u0440\\u0438\\u043d\\u0430 \\u0418\\u0432\\u0430\\u043d\\u043e\\u0432\\u043d\\u0430\",\"\\u041c\\u043a\\u0440\\u0442\\u0447\\u044f\\u043d \\u0422\\u0430\\u0440\\u043e\\u043d \\u0410\\u0440\\u0441\\u0435\\u043d\\u043e\\u0432\\u0438\\u0447\",\"\\u041c\\u043e\\u0440\\u043e\\u0448\\u0435\\u043d\\u043a\\u043e\\u0432\\u0430 \\u0413\\u0443\\u043b\\u044c\\u043c\\u0438\\u0440\\u0430 \\u0410\\u0431\\u044b\\u043b\\u043a\\u0430\\u043a\\u043e\\u0432\\u043d\\u0430\",\"\\u041d\\u0438\\u043a\\u043e\\u043b\\u0430\\u0435\\u0432\\u0430 \\u041d\\u0430\\u0434\\u0435\\u0436\\u0434\\u0430 \\u0413\\u0440\\u0438\\u0433\\u043e\\u0440\\u044c\\u0435\\u0432\\u043d\\u0430\",\"\\u041e\\u043b\\u044c\\u0445\\u043e\\u0432\\u0441\\u043a\\u0430\\u044f \\u0410\\u043b\\u044c\\u0431\\u0438\\u043d\\u0430 \\u0412\\u043b\\u0430\\u0434\\u0438\\u043c\\u0438\\u0440\\u043e\\u0432\\u043d\\u0430\",\"\\u041f\\u0443\\u0437\\u0430\\u043d\\u043e\\u0432\\u0430 \\u041b\\u0438\\u0434\\u0438\\u044f \\u0421\\u0435\\u0440\\u0433\\u0435\\u0435\\u0432\\u043d\\u0430\",\"\\u0420\\u044b\\u0431\\u0430\\u043a \\u041b\\u0438\\u043b\\u0438\\u044f \\u0421\\u0435\\u0440\\u0433\\u0435\\u0435\\u0432\\u043d\\u0430\",\"\\u0421\\u043a\\u0430\\u043b\\u043a\\u043e\\u0432\\u0438\\u0447 \\u0418\\u043d\\u043d\\u0430 \\u0412\\u0430\\u043b\\u0435\\u0440\\u044c\\u0435\\u0432\\u043d\\u0430\",\"\\u0427\\u0438\\u0436\\u043e\\u0432\\u0430 \\u0415\\u043b\\u0435\\u043d\\u0430 \\u0412\\u043b\\u0430\\u0434\\u0438\\u043c\\u0438\\u0440\\u043e\\u0432\\u043d\\u0430\",\"\\u0427\\u0438\\u0447\\u0438\\u043a\\u0438\\u043d\\u0430 \\u0413\\u0430\\u043b\\u0438\\u043d\\u0430 \\u041f\\u0430\\u0432\\u043b\\u043e\\u0432\\u043d\\u0430\"],\"xaxis\":\"x\",\"y\":[173.3,182.7,174.4,189.8,184.5,156.8,181.2,178.5,185.1,179.7,162.2,193.3,155.5,182.2,173.1,188.3,170.3,160.4,194.0,160.2,160.8,173.0,180.0,157.8,182.5],\"yaxis\":\"y\"}],                        {\"barmode\":\"group\",\"legend\":{\"title\":{\"text\":\"\\u041c\\u0435\\u0441\\u044f\\u0446\"},\"tracegroupgap\":0},\"plot_bgcolor\":\"rgb(255,255,255)\",\"template\":{\"data\":{\"bar\":[{\"error_x\":{\"color\":\"#2a3f5f\"},\"error_y\":{\"color\":\"#2a3f5f\"},\"marker\":{\"line\":{\"color\":\"#E5ECF6\",\"width\":0.5},\"pattern\":{\"fillmode\":\"overlay\",\"size\":10,\"solidity\":0.2}},\"type\":\"bar\"}],\"barpolar\":[{\"marker\":{\"line\":{\"color\":\"#E5ECF6\",\"width\":0.5},\"pattern\":{\"fillmode\":\"overlay\",\"size\":10,\"solidity\":0.2}},\"type\":\"barpolar\"}],\"carpet\":[{\"aaxis\":{\"endlinecolor\":\"#2a3f5f\",\"gridcolor\":\"white\",\"linecolor\":\"white\",\"minorgridcolor\":\"white\",\"startlinecolor\":\"#2a3f5f\"},\"baxis\":{\"endlinecolor\":\"#2a3f5f\",\"gridcolor\":\"white\",\"linecolor\":\"white\",\"minorgridcolor\":\"white\",\"startlinecolor\":\"#2a3f5f\"},\"type\":\"carpet\"}],\"choropleth\":[{\"colorbar\":{\"outlinewidth\":0,\"ticks\":\"\"},\"type\":\"choropleth\"}],\"contour\":[{\"colorbar\":{\"outlinewidth\":0,\"ticks\":\"\"},\"colorscale\":[[0.0,\"#0d0887\"],[0.1111111111111111,\"#46039f\"],[0.2222222222222222,\"#7201a8\"],[0.3333333333333333,\"#9c179e\"],[0.4444444444444444,\"#bd3786\"],[0.5555555555555556,\"#d8576b\"],[0.6666666666666666,\"#ed7953\"],[0.7777777777777778,\"#fb9f3a\"],[0.8888888888888888,\"#fdca26\"],[1.0,\"#f0f921\"]],\"type\":\"contour\"}],\"contourcarpet\":[{\"colorbar\":{\"outlinewidth\":0,\"ticks\":\"\"},\"type\":\"contourcarpet\"}],\"heatmap\":[{\"colorbar\":{\"outlinewidth\":0,\"ticks\":\"\"},\"colorscale\":[[0.0,\"#0d0887\"],[0.1111111111111111,\"#46039f\"],[0.2222222222222222,\"#7201a8\"],[0.3333333333333333,\"#9c179e\"],[0.4444444444444444,\"#bd3786\"],[0.5555555555555556,\"#d8576b\"],[0.6666666666666666,\"#ed7953\"],[0.7777777777777778,\"#fb9f3a\"],[0.8888888888888888,\"#fdca26\"],[1.0,\"#f0f921\"]],\"type\":\"heatmap\"}],\"heatmapgl\":[{\"colorbar\":{\"outlinewidth\":0,\"ticks\":\"\"},\"colorscale\":[[0.0,\"#0d0887\"],[0.1111111111111111,\"#46039f\"],[0.2222222222222222,\"#7201a8\"],[0.3333333333333333,\"#9c179e\"],[0.4444444444444444,\"#bd3786\"],[0.5555555555555556,\"#d8576b\"],[0.6666666666666666,\"#ed7953\"],[0.7777777777777778,\"#fb9f3a\"],[0.8888888888888888,\"#fdca26\"],[1.0,\"#f0f921\"]],\"type\":\"heatmapgl\"}],\"histogram\":[{\"marker\":{\"pattern\":{\"fillmode\":\"overlay\",\"size\":10,\"solidity\":0.2}},\"type\":\"histogram\"}],\"histogram2d\":[{\"colorbar\":{\"outlinewidth\":0,\"ticks\":\"\"},\"colorscale\":[[0.0,\"#0d0887\"],[0.1111111111111111,\"#46039f\"],[0.2222222222222222,\"#7201a8\"],[0.3333333333333333,\"#9c179e\"],[0.4444444444444444,\"#bd3786\"],[0.5555555555555556,\"#d8576b\"],[0.6666666666666666,\"#ed7953\"],[0.7777777777777778,\"#fb9f3a\"],[0.8888888888888888,\"#fdca26\"],[1.0,\"#f0f921\"]],\"type\":\"histogram2d\"}],\"histogram2dcontour\":[{\"colorbar\":{\"outlinewidth\":0,\"ticks\":\"\"},\"colorscale\":[[0.0,\"#0d0887\"],[0.1111111111111111,\"#46039f\"],[0.2222222222222222,\"#7201a8\"],[0.3333333333333333,\"#9c179e\"],[0.4444444444444444,\"#bd3786\"],[0.5555555555555556,\"#d8576b\"],[0.6666666666666666,\"#ed7953\"],[0.7777777777777778,\"#fb9f3a\"],[0.8888888888888888,\"#fdca26\"],[1.0,\"#f0f921\"]],\"type\":\"histogram2dcontour\"}],\"mesh3d\":[{\"colorbar\":{\"outlinewidth\":0,\"ticks\":\"\"},\"type\":\"mesh3d\"}],\"parcoords\":[{\"line\":{\"colorbar\":{\"outlinewidth\":0,\"ticks\":\"\"}},\"type\":\"parcoords\"}],\"pie\":[{\"automargin\":true,\"type\":\"pie\"}],\"scatter\":[{\"marker\":{\"colorbar\":{\"outlinewidth\":0,\"ticks\":\"\"}},\"type\":\"scatter\"}],\"scatter3d\":[{\"line\":{\"colorbar\":{\"outlinewidth\":0,\"ticks\":\"\"}},\"marker\":{\"colorbar\":{\"outlinewidth\":0,\"ticks\":\"\"}},\"type\":\"scatter3d\"}],\"scattercarpet\":[{\"marker\":{\"colorbar\":{\"outlinewidth\":0,\"ticks\":\"\"}},\"type\":\"scattercarpet\"}],\"scattergeo\":[{\"marker\":{\"colorbar\":{\"outlinewidth\":0,\"ticks\":\"\"}},\"type\":\"scattergeo\"}],\"scattergl\":[{\"marker\":{\"colorbar\":{\"outlinewidth\":0,\"ticks\":\"\"}},\"type\":\"scattergl\"}],\"scattermapbox\":[{\"marker\":{\"colorbar\":{\"outlinewidth\":0,\"ticks\":\"\"}},\"type\":\"scattermapbox\"}],\"scatterpolar\":[{\"marker\":{\"colorbar\":{\"outlinewidth\":0,\"ticks\":\"\"}},\"type\":\"scatterpolar\"}],\"scatterpolargl\":[{\"marker\":{\"colorbar\":{\"outlinewidth\":0,\"ticks\":\"\"}},\"type\":\"scatterpolargl\"}],\"scatterternary\":[{\"marker\":{\"colorbar\":{\"outlinewidth\":0,\"ticks\":\"\"}},\"type\":\"scatterternary\"}],\"surface\":[{\"colorbar\":{\"outlinewidth\":0,\"ticks\":\"\"},\"colorscale\":[[0.0,\"#0d0887\"],[0.1111111111111111,\"#46039f\"],[0.2222222222222222,\"#7201a8\"],[0.3333333333333333,\"#9c179e\"],[0.4444444444444444,\"#bd3786\"],[0.5555555555555556,\"#d8576b\"],[0.6666666666666666,\"#ed7953\"],[0.7777777777777778,\"#fb9f3a\"],[0.8888888888888888,\"#fdca26\"],[1.0,\"#f0f921\"]],\"type\":\"surface\"}],\"table\":[{\"cells\":{\"fill\":{\"color\":\"#EBF0F8\"},\"line\":{\"color\":\"white\"}},\"header\":{\"fill\":{\"color\":\"#C8D4E3\"},\"line\":{\"color\":\"white\"}},\"type\":\"table\"}]},\"layout\":{\"annotationdefaults\":{\"arrowcolor\":\"#2a3f5f\",\"arrowhead\":0,\"arrowwidth\":1},\"autotypenumbers\":\"strict\",\"coloraxis\":{\"colorbar\":{\"outlinewidth\":0,\"ticks\":\"\"}},\"colorscale\":{\"diverging\":[[0,\"#8e0152\"],[0.1,\"#c51b7d\"],[0.2,\"#de77ae\"],[0.3,\"#f1b6da\"],[0.4,\"#fde0ef\"],[0.5,\"#f7f7f7\"],[0.6,\"#e6f5d0\"],[0.7,\"#b8e186\"],[0.8,\"#7fbc41\"],[0.9,\"#4d9221\"],[1,\"#276419\"]],\"sequential\":[[0.0,\"#0d0887\"],[0.1111111111111111,\"#46039f\"],[0.2222222222222222,\"#7201a8\"],[0.3333333333333333,\"#9c179e\"],[0.4444444444444444,\"#bd3786\"],[0.5555555555555556,\"#d8576b\"],[0.6666666666666666,\"#ed7953\"],[0.7777777777777778,\"#fb9f3a\"],[0.8888888888888888,\"#fdca26\"],[1.0,\"#f0f921\"]],\"sequentialminus\":[[0.0,\"#0d0887\"],[0.1111111111111111,\"#46039f\"],[0.2222222222222222,\"#7201a8\"],[0.3333333333333333,\"#9c179e\"],[0.4444444444444444,\"#bd3786\"],[0.5555555555555556,\"#d8576b\"],[0.6666666666666666,\"#ed7953\"],[0.7777777777777778,\"#fb9f3a\"],[0.8888888888888888,\"#fdca26\"],[1.0,\"#f0f921\"]]},\"colorway\":[\"#636efa\",\"#EF553B\",\"#00cc96\",\"#ab63fa\",\"#FFA15A\",\"#19d3f3\",\"#FF6692\",\"#B6E880\",\"#FF97FF\",\"#FECB52\"],\"font\":{\"color\":\"#2a3f5f\"},\"geo\":{\"bgcolor\":\"white\",\"lakecolor\":\"white\",\"landcolor\":\"#E5ECF6\",\"showlakes\":true,\"showland\":true,\"subunitcolor\":\"white\"},\"hoverlabel\":{\"align\":\"left\"},\"hovermode\":\"closest\",\"mapbox\":{\"style\":\"light\"},\"paper_bgcolor\":\"white\",\"plot_bgcolor\":\"#E5ECF6\",\"polar\":{\"angularaxis\":{\"gridcolor\":\"white\",\"linecolor\":\"white\",\"ticks\":\"\"},\"bgcolor\":\"#E5ECF6\",\"radialaxis\":{\"gridcolor\":\"white\",\"linecolor\":\"white\",\"ticks\":\"\"}},\"scene\":{\"xaxis\":{\"backgroundcolor\":\"#E5ECF6\",\"gridcolor\":\"white\",\"gridwidth\":2,\"linecolor\":\"white\",\"showbackground\":true,\"ticks\":\"\",\"zerolinecolor\":\"white\"},\"yaxis\":{\"backgroundcolor\":\"#E5ECF6\",\"gridcolor\":\"white\",\"gridwidth\":2,\"linecolor\":\"white\",\"showbackground\":true,\"ticks\":\"\",\"zerolinecolor\":\"white\"},\"zaxis\":{\"backgroundcolor\":\"#E5ECF6\",\"gridcolor\":\"white\",\"gridwidth\":2,\"linecolor\":\"white\",\"showbackground\":true,\"ticks\":\"\",\"zerolinecolor\":\"white\"}},\"shapedefaults\":{\"line\":{\"color\":\"#2a3f5f\"}},\"ternary\":{\"aaxis\":{\"gridcolor\":\"white\",\"linecolor\":\"white\",\"ticks\":\"\"},\"baxis\":{\"gridcolor\":\"white\",\"linecolor\":\"white\",\"ticks\":\"\"},\"bgcolor\":\"#E5ECF6\",\"caxis\":{\"gridcolor\":\"white\",\"linecolor\":\"white\",\"ticks\":\"\"}},\"title\":{\"x\":0.05},\"xaxis\":{\"automargin\":true,\"gridcolor\":\"white\",\"linecolor\":\"white\",\"ticks\":\"\",\"title\":{\"standoff\":15},\"zerolinecolor\":\"white\",\"zerolinewidth\":2},\"yaxis\":{\"automargin\":true,\"gridcolor\":\"white\",\"linecolor\":\"white\",\"ticks\":\"\",\"title\":{\"standoff\":15},\"zerolinecolor\":\"white\",\"zerolinewidth\":2}}},\"title\":{\"text\":\"\\u0421\\u0440\\u0435\\u0434\\u043d\\u044f\\u044f \\u0441\\u0442\\u043e\\u0438\\u043c\\u043e\\u0441\\u0442\\u044c 1 \\u0423\\u0415\\u0422 \\u0432 \\u0440\\u0443\\u0431 \\u0437\\u0430 2022 \\u0433\\u043e\\u0434 (\\u043f\\u043b\\u0430\\u043d: 167.7)\"},\"width\":1360,\"xaxis\":{\"anchor\":\"y\",\"categoryorder\":\"total descending\",\"domain\":[0.0,1.0],\"title\":{\"text\":\"\\u0412\\u0440\\u0430\\u0447\"}},\"yaxis\":{\"anchor\":\"x\",\"domain\":[0.0,1.0],\"dtick\":167.7,\"gridcolor\":\"grey\",\"title\":{\"text\":\"RPU\"}}},                        {\"responsive\": true}                    ).then(function(){\n",
       "                            \n",
       "var gd = document.getElementById('8d680735-d41b-44cb-9013-2f0d12c430c7');\n",
       "var x = new MutationObserver(function (mutations, observer) {{\n",
       "        var display = window.getComputedStyle(gd).display;\n",
       "        if (!display || display === 'none') {{\n",
       "            console.log([gd, 'removed!']);\n",
       "            Plotly.purge(gd);\n",
       "            observer.disconnect();\n",
       "        }}\n",
       "}});\n",
       "\n",
       "// Listen for the removal of the full notebook cells\n",
       "var notebookContainer = gd.closest('#notebook-container');\n",
       "if (notebookContainer) {{\n",
       "    x.observe(notebookContainer, {childList: true});\n",
       "}}\n",
       "\n",
       "// Listen for the clearing of the current output cell\n",
       "var outputEl = gd.closest('.output');\n",
       "if (outputEl) {{\n",
       "    x.observe(outputEl, {childList: true});\n",
       "}}\n",
       "\n",
       "                        })                };                });            </script>        </div>"
      ]
     },
     "metadata": {},
     "output_type": "display_data"
    }
   ],
   "source": [
    "# Средняя стоимость 1 УЕТ в руб по врачу и месяцу (ч/б)\n",
    "\n",
    "px.bar(df_result_by_month.query('Врач != \"Коваленко Ольга Эдуардовна физио\"'), \n",
    "                x='Врач',\n",
    "                y='RPU',\n",
    "                title=f'Средняя стоимость 1 УЕТ в руб за {year} год (план: {mean_uet})',\n",
    "                text='RPU',\n",
    "                color='Месяц',\n",
    "                barmode='group',\n",
    "                color_discrete_sequence=greys,\n",
    "                width=1360) \\\n",
    "    .update_layout(plot_bgcolor='rgb(255,255,255)') \\\n",
    "    .update_yaxes(gridcolor='grey', dtick = 167.7) \\\n",
    "    .update_xaxes(categoryorder='total descending') \\\n",
    "#     .update_traces(textfont_size=20, textposition=\"outside\", textangle=-45, cliponaxis=False) \\\n",
    "# fig.show(renderer=\"notebook_connected\")"
   ]
  },
  {
   "cell_type": "code",
   "execution_count": 241,
   "metadata": {},
   "outputs": [
    {
     "data": {
      "application/vnd.plotly.v1+json": {
       "config": {
        "plotlyServerURL": "https://plot.ly"
       },
       "data": [
        {
         "alignmentgroup": "True",
         "hovertemplate": "Месяц=0122<br>Врач=%{x}<br>RPU=%{text}<extra></extra>",
         "legendgroup": "0122",
         "marker": {
          "color": "#636efa",
          "pattern": {
           "shape": ""
          }
         },
         "name": "0122",
         "offsetgroup": "0122",
         "orientation": "v",
         "showlegend": true,
         "text": [
          "167.0",
          "173.8",
          "171.2",
          "160.2",
          "181.3",
          "172.5",
          "157.6",
          "179.1",
          "161.2",
          "169.5",
          "181.4",
          "170.4",
          "194.9",
          "172.9",
          "179.3",
          "162.5",
          "200.3",
          "179.4",
          "158.5",
          "177.2",
          "158.8",
          "155.1",
          "170.4",
          "174.9",
          "164.9",
          "182.0"
         ],
         "textposition": "auto",
         "type": "bar",
         "x": [
          "Александрова Светлана Викторовна",
          "Арутюнян Арутюн Левонович",
          "Власова Альфия Лябибовна",
          "Володин Павел Юрьевич",
          "Володько Валентина Ивановна",
          "Гвоздева Татьяна Анатольевна",
          "Горбикова Эльфия Рашитовна",
          "Завгородный Сергей Валерианович",
          "Захаров Иван Владимирович",
          "Камынова Наталия Валериевна",
          "Коваленко Ольга Эдуардовна",
          "Ковшов Александр Александрович",
          "Колесова Наталья Викторовна",
          "Кукушкина Лариса Рамзановна",
          "Литвинова Нина Алексеевна",
          "Лопаткина Алёна Сергеевна",
          "Максимец Ирина Ивановна",
          "Мкртчян Тарон Арсенович",
          "Морошенкова Гульмира Абылкаковна",
          "Николаева Надежда Григорьевна",
          "Ольховская Альбина Владимировна",
          "Пузанова Лидия Сергеевна",
          "Рыбак Лилия Сергеевна",
          "Скалкович Инна Валерьевна",
          "Чижова Елена Владимировна",
          "Чичикина Галина Павловна"
         ],
         "xaxis": "x",
         "y": [
          167,
          173.8,
          171.2,
          160.2,
          181.3,
          172.5,
          157.6,
          179.1,
          161.2,
          169.5,
          181.4,
          170.4,
          194.9,
          172.9,
          179.3,
          162.5,
          200.3,
          179.4,
          158.5,
          177.2,
          158.8,
          155.1,
          170.4,
          174.9,
          164.9,
          182
         ],
         "yaxis": "y"
        },
        {
         "alignmentgroup": "True",
         "hovertemplate": "Месяц=0222<br>Врач=%{x}<br>RPU=%{text}<extra></extra>",
         "legendgroup": "0222",
         "marker": {
          "color": "#EF553B",
          "pattern": {
           "shape": ""
          }
         },
         "name": "0222",
         "offsetgroup": "0222",
         "orientation": "v",
         "showlegend": true,
         "text": [
          "185.6",
          "173.6",
          "171.4",
          "190.7",
          "177.8",
          "186.6",
          "172.8",
          "183.9",
          "165.3",
          "176.2",
          "187.0",
          "178.1",
          "196.9",
          "180.1",
          "189.5",
          "180.9",
          "195.0",
          "187.6",
          "172.5",
          "189.6",
          "171.7",
          "169.6",
          "177.3",
          "191.8",
          "174.9",
          "182.7"
         ],
         "textposition": "auto",
         "type": "bar",
         "x": [
          "Александрова Светлана Викторовна",
          "Арутюнян Арутюн Левонович",
          "Власова Альфия Лябибовна",
          "Володин Павел Юрьевич",
          "Володько Валентина Ивановна",
          "Гвоздева Татьяна Анатольевна",
          "Горбикова Эльфия Рашитовна",
          "Завгородный Сергей Валерианович",
          "Захаров Иван Владимирович",
          "Камынова Наталия Валериевна",
          "Коваленко Ольга Эдуардовна",
          "Ковшов Александр Александрович",
          "Колесова Наталья Викторовна",
          "Кукушкина Лариса Рамзановна",
          "Литвинова Нина Алексеевна",
          "Лопаткина Алёна Сергеевна",
          "Максимец Ирина Ивановна",
          "Мкртчян Тарон Арсенович",
          "Морошенкова Гульмира Абылкаковна",
          "Николаева Надежда Григорьевна",
          "Ольховская Альбина Владимировна",
          "Пузанова Лидия Сергеевна",
          "Рыбак Лилия Сергеевна",
          "Скалкович Инна Валерьевна",
          "Чижова Елена Владимировна",
          "Чичикина Галина Павловна"
         ],
         "xaxis": "x",
         "y": [
          185.6,
          173.6,
          171.4,
          190.7,
          177.8,
          186.6,
          172.8,
          183.9,
          165.3,
          176.2,
          187,
          178.1,
          196.9,
          180.1,
          189.5,
          180.9,
          195,
          187.6,
          172.5,
          189.6,
          171.7,
          169.6,
          177.3,
          191.8,
          174.9,
          182.7
         ],
         "yaxis": "y"
        },
        {
         "alignmentgroup": "True",
         "hovertemplate": "Месяц=0322<br>Врач=%{x}<br>RPU=%{text}<extra></extra>",
         "legendgroup": "0322",
         "marker": {
          "color": "#00cc96",
          "pattern": {
           "shape": ""
          }
         },
         "name": "0322",
         "offsetgroup": "0322",
         "orientation": "v",
         "showlegend": true,
         "text": [
          "168.0",
          "176.0",
          "166.1",
          "170.5",
          "181.6",
          "170.8",
          "159.6",
          "182.2",
          "162.6",
          "171.0",
          "182.1",
          "170.4",
          "196.5",
          "168.4",
          "176.7",
          "169.8",
          "185.0",
          "172.5",
          "165.5",
          "186.6",
          "160.9",
          "156.0",
          "174.7",
          "176.1",
          "162.0",
          "183.0"
         ],
         "textposition": "auto",
         "type": "bar",
         "x": [
          "Александрова Светлана Викторовна",
          "Арутюнян Арутюн Левонович",
          "Власова Альфия Лябибовна",
          "Володин Павел Юрьевич",
          "Володько Валентина Ивановна",
          "Гвоздева Татьяна Анатольевна",
          "Горбикова Эльфия Рашитовна",
          "Завгородный Сергей Валерианович",
          "Захаров Иван Владимирович",
          "Камынова Наталия Валериевна",
          "Коваленко Ольга Эдуардовна",
          "Ковшов Александр Александрович",
          "Колесова Наталья Викторовна",
          "Кукушкина Лариса Рамзановна",
          "Литвинова Нина Алексеевна",
          "Лопаткина Алёна Сергеевна",
          "Максимец Ирина Ивановна",
          "Мкртчян Тарон Арсенович",
          "Морошенкова Гульмира Абылкаковна",
          "Николаева Надежда Григорьевна",
          "Ольховская Альбина Владимировна",
          "Пузанова Лидия Сергеевна",
          "Рыбак Лилия Сергеевна",
          "Скалкович Инна Валерьевна",
          "Чижова Елена Владимировна",
          "Чичикина Галина Павловна"
         ],
         "xaxis": "x",
         "y": [
          168,
          176,
          166.1,
          170.5,
          181.6,
          170.8,
          159.6,
          182.2,
          162.6,
          171,
          182.1,
          170.4,
          196.5,
          168.4,
          176.7,
          169.8,
          185,
          172.5,
          165.5,
          186.6,
          160.9,
          156,
          174.7,
          176.1,
          162,
          183
         ],
         "yaxis": "y"
        },
        {
         "alignmentgroup": "True",
         "hovertemplate": "Месяц=0422<br>Врач=%{x}<br>RPU=%{text}<extra></extra>",
         "legendgroup": "0422",
         "marker": {
          "color": "#ab63fa",
          "pattern": {
           "shape": ""
          }
         },
         "name": "0422",
         "offsetgroup": "0422",
         "orientation": "v",
         "showlegend": true,
         "text": [
          "164.5",
          "177.1",
          "167.9",
          "175.7",
          "178.2",
          "171.8",
          "157.9",
          "183.1",
          "164.7",
          "170.4",
          "176.9",
          "165.8",
          "194.0",
          "161.8",
          "183.4",
          "172.2",
          "190.1",
          "160.3",
          "161.6",
          "191.3",
          "163.2",
          "155.9",
          "173.7",
          "178.8",
          "164.9",
          "181.7"
         ],
         "textposition": "auto",
         "type": "bar",
         "x": [
          "Александрова Светлана Викторовна",
          "Арутюнян Арутюн Левонович",
          "Власова Альфия Лябибовна",
          "Володин Павел Юрьевич",
          "Володько Валентина Ивановна",
          "Гвоздева Татьяна Анатольевна",
          "Горбикова Эльфия Рашитовна",
          "Завгородный Сергей Валерианович",
          "Захаров Иван Владимирович",
          "Камынова Наталия Валериевна",
          "Коваленко Ольга Эдуардовна",
          "Ковшов Александр Александрович",
          "Колесова Наталья Викторовна",
          "Кукушкина Лариса Рамзановна",
          "Литвинова Нина Алексеевна",
          "Лопаткина Алёна Сергеевна",
          "Максимец Ирина Ивановна",
          "Мкртчян Тарон Арсенович",
          "Морошенкова Гульмира Абылкаковна",
          "Николаева Надежда Григорьевна",
          "Ольховская Альбина Владимировна",
          "Пузанова Лидия Сергеевна",
          "Рыбак Лилия Сергеевна",
          "Скалкович Инна Валерьевна",
          "Чижова Елена Владимировна",
          "Чичикина Галина Павловна"
         ],
         "xaxis": "x",
         "y": [
          164.5,
          177.1,
          167.9,
          175.7,
          178.2,
          171.8,
          157.9,
          183.1,
          164.7,
          170.4,
          176.9,
          165.8,
          194,
          161.8,
          183.4,
          172.2,
          190.1,
          160.3,
          161.6,
          191.3,
          163.2,
          155.9,
          173.7,
          178.8,
          164.9,
          181.7
         ],
         "yaxis": "y"
        },
        {
         "alignmentgroup": "True",
         "hovertemplate": "Месяц=0522<br>Врач=%{x}<br>RPU=%{text}<extra></extra>",
         "legendgroup": "0522",
         "marker": {
          "color": "#FFA15A",
          "pattern": {
           "shape": ""
          }
         },
         "name": "0522",
         "offsetgroup": "0522",
         "orientation": "v",
         "showlegend": true,
         "text": [
          "173.3",
          "182.7",
          "174.4",
          "189.8",
          "184.5",
          "156.8",
          "181.2",
          "178.5",
          "185.1",
          "179.7",
          "162.2",
          "193.3",
          "155.5",
          "182.2",
          "173.1",
          "188.3",
          "170.3",
          "160.4",
          "194.0",
          "160.2",
          "160.8",
          "173.0",
          "180.0",
          "157.8",
          "182.5"
         ],
         "textposition": "auto",
         "type": "bar",
         "x": [
          "Александрова Светлана Викторовна",
          "Арутюнян Арутюн Левонович",
          "Власова Альфия Лябибовна",
          "Володин Павел Юрьевич",
          "Володько Валентина Ивановна",
          "Горбикова Эльфия Рашитовна",
          "Завгородный Сергей Валерианович",
          "Захаров Иван Владимирович",
          "Камынова Наталия Валериевна",
          "Коваленко Ольга Эдуардовна",
          "Ковшов Александр Александрович",
          "Колесова Наталья Викторовна",
          "Кукушкина Лариса Рамзановна",
          "Литвинова Нина Алексеевна",
          "Лопаткина Алёна Сергеевна",
          "Максимец Ирина Ивановна",
          "Мкртчян Тарон Арсенович",
          "Морошенкова Гульмира Абылкаковна",
          "Николаева Надежда Григорьевна",
          "Ольховская Альбина Владимировна",
          "Пузанова Лидия Сергеевна",
          "Рыбак Лилия Сергеевна",
          "Скалкович Инна Валерьевна",
          "Чижова Елена Владимировна",
          "Чичикина Галина Павловна"
         ],
         "xaxis": "x",
         "y": [
          173.3,
          182.7,
          174.4,
          189.8,
          184.5,
          156.8,
          181.2,
          178.5,
          185.1,
          179.7,
          162.2,
          193.3,
          155.5,
          182.2,
          173.1,
          188.3,
          170.3,
          160.4,
          194,
          160.2,
          160.8,
          173,
          180,
          157.8,
          182.5
         ],
         "yaxis": "y"
        }
       ],
       "layout": {
        "barmode": "group",
        "legend": {
         "title": {
          "text": "Месяц"
         },
         "tracegroupgap": 0
        },
        "template": {
         "data": {
          "bar": [
           {
            "error_x": {
             "color": "#2a3f5f"
            },
            "error_y": {
             "color": "#2a3f5f"
            },
            "marker": {
             "line": {
              "color": "#E5ECF6",
              "width": 0.5
             },
             "pattern": {
              "fillmode": "overlay",
              "size": 10,
              "solidity": 0.2
             }
            },
            "type": "bar"
           }
          ],
          "barpolar": [
           {
            "marker": {
             "line": {
              "color": "#E5ECF6",
              "width": 0.5
             },
             "pattern": {
              "fillmode": "overlay",
              "size": 10,
              "solidity": 0.2
             }
            },
            "type": "barpolar"
           }
          ],
          "carpet": [
           {
            "aaxis": {
             "endlinecolor": "#2a3f5f",
             "gridcolor": "white",
             "linecolor": "white",
             "minorgridcolor": "white",
             "startlinecolor": "#2a3f5f"
            },
            "baxis": {
             "endlinecolor": "#2a3f5f",
             "gridcolor": "white",
             "linecolor": "white",
             "minorgridcolor": "white",
             "startlinecolor": "#2a3f5f"
            },
            "type": "carpet"
           }
          ],
          "choropleth": [
           {
            "colorbar": {
             "outlinewidth": 0,
             "ticks": ""
            },
            "type": "choropleth"
           }
          ],
          "contour": [
           {
            "colorbar": {
             "outlinewidth": 0,
             "ticks": ""
            },
            "colorscale": [
             [
              0,
              "#0d0887"
             ],
             [
              0.1111111111111111,
              "#46039f"
             ],
             [
              0.2222222222222222,
              "#7201a8"
             ],
             [
              0.3333333333333333,
              "#9c179e"
             ],
             [
              0.4444444444444444,
              "#bd3786"
             ],
             [
              0.5555555555555556,
              "#d8576b"
             ],
             [
              0.6666666666666666,
              "#ed7953"
             ],
             [
              0.7777777777777778,
              "#fb9f3a"
             ],
             [
              0.8888888888888888,
              "#fdca26"
             ],
             [
              1,
              "#f0f921"
             ]
            ],
            "type": "contour"
           }
          ],
          "contourcarpet": [
           {
            "colorbar": {
             "outlinewidth": 0,
             "ticks": ""
            },
            "type": "contourcarpet"
           }
          ],
          "heatmap": [
           {
            "colorbar": {
             "outlinewidth": 0,
             "ticks": ""
            },
            "colorscale": [
             [
              0,
              "#0d0887"
             ],
             [
              0.1111111111111111,
              "#46039f"
             ],
             [
              0.2222222222222222,
              "#7201a8"
             ],
             [
              0.3333333333333333,
              "#9c179e"
             ],
             [
              0.4444444444444444,
              "#bd3786"
             ],
             [
              0.5555555555555556,
              "#d8576b"
             ],
             [
              0.6666666666666666,
              "#ed7953"
             ],
             [
              0.7777777777777778,
              "#fb9f3a"
             ],
             [
              0.8888888888888888,
              "#fdca26"
             ],
             [
              1,
              "#f0f921"
             ]
            ],
            "type": "heatmap"
           }
          ],
          "heatmapgl": [
           {
            "colorbar": {
             "outlinewidth": 0,
             "ticks": ""
            },
            "colorscale": [
             [
              0,
              "#0d0887"
             ],
             [
              0.1111111111111111,
              "#46039f"
             ],
             [
              0.2222222222222222,
              "#7201a8"
             ],
             [
              0.3333333333333333,
              "#9c179e"
             ],
             [
              0.4444444444444444,
              "#bd3786"
             ],
             [
              0.5555555555555556,
              "#d8576b"
             ],
             [
              0.6666666666666666,
              "#ed7953"
             ],
             [
              0.7777777777777778,
              "#fb9f3a"
             ],
             [
              0.8888888888888888,
              "#fdca26"
             ],
             [
              1,
              "#f0f921"
             ]
            ],
            "type": "heatmapgl"
           }
          ],
          "histogram": [
           {
            "marker": {
             "pattern": {
              "fillmode": "overlay",
              "size": 10,
              "solidity": 0.2
             }
            },
            "type": "histogram"
           }
          ],
          "histogram2d": [
           {
            "colorbar": {
             "outlinewidth": 0,
             "ticks": ""
            },
            "colorscale": [
             [
              0,
              "#0d0887"
             ],
             [
              0.1111111111111111,
              "#46039f"
             ],
             [
              0.2222222222222222,
              "#7201a8"
             ],
             [
              0.3333333333333333,
              "#9c179e"
             ],
             [
              0.4444444444444444,
              "#bd3786"
             ],
             [
              0.5555555555555556,
              "#d8576b"
             ],
             [
              0.6666666666666666,
              "#ed7953"
             ],
             [
              0.7777777777777778,
              "#fb9f3a"
             ],
             [
              0.8888888888888888,
              "#fdca26"
             ],
             [
              1,
              "#f0f921"
             ]
            ],
            "type": "histogram2d"
           }
          ],
          "histogram2dcontour": [
           {
            "colorbar": {
             "outlinewidth": 0,
             "ticks": ""
            },
            "colorscale": [
             [
              0,
              "#0d0887"
             ],
             [
              0.1111111111111111,
              "#46039f"
             ],
             [
              0.2222222222222222,
              "#7201a8"
             ],
             [
              0.3333333333333333,
              "#9c179e"
             ],
             [
              0.4444444444444444,
              "#bd3786"
             ],
             [
              0.5555555555555556,
              "#d8576b"
             ],
             [
              0.6666666666666666,
              "#ed7953"
             ],
             [
              0.7777777777777778,
              "#fb9f3a"
             ],
             [
              0.8888888888888888,
              "#fdca26"
             ],
             [
              1,
              "#f0f921"
             ]
            ],
            "type": "histogram2dcontour"
           }
          ],
          "mesh3d": [
           {
            "colorbar": {
             "outlinewidth": 0,
             "ticks": ""
            },
            "type": "mesh3d"
           }
          ],
          "parcoords": [
           {
            "line": {
             "colorbar": {
              "outlinewidth": 0,
              "ticks": ""
             }
            },
            "type": "parcoords"
           }
          ],
          "pie": [
           {
            "automargin": true,
            "type": "pie"
           }
          ],
          "scatter": [
           {
            "marker": {
             "colorbar": {
              "outlinewidth": 0,
              "ticks": ""
             }
            },
            "type": "scatter"
           }
          ],
          "scatter3d": [
           {
            "line": {
             "colorbar": {
              "outlinewidth": 0,
              "ticks": ""
             }
            },
            "marker": {
             "colorbar": {
              "outlinewidth": 0,
              "ticks": ""
             }
            },
            "type": "scatter3d"
           }
          ],
          "scattercarpet": [
           {
            "marker": {
             "colorbar": {
              "outlinewidth": 0,
              "ticks": ""
             }
            },
            "type": "scattercarpet"
           }
          ],
          "scattergeo": [
           {
            "marker": {
             "colorbar": {
              "outlinewidth": 0,
              "ticks": ""
             }
            },
            "type": "scattergeo"
           }
          ],
          "scattergl": [
           {
            "marker": {
             "colorbar": {
              "outlinewidth": 0,
              "ticks": ""
             }
            },
            "type": "scattergl"
           }
          ],
          "scattermapbox": [
           {
            "marker": {
             "colorbar": {
              "outlinewidth": 0,
              "ticks": ""
             }
            },
            "type": "scattermapbox"
           }
          ],
          "scatterpolar": [
           {
            "marker": {
             "colorbar": {
              "outlinewidth": 0,
              "ticks": ""
             }
            },
            "type": "scatterpolar"
           }
          ],
          "scatterpolargl": [
           {
            "marker": {
             "colorbar": {
              "outlinewidth": 0,
              "ticks": ""
             }
            },
            "type": "scatterpolargl"
           }
          ],
          "scatterternary": [
           {
            "marker": {
             "colorbar": {
              "outlinewidth": 0,
              "ticks": ""
             }
            },
            "type": "scatterternary"
           }
          ],
          "surface": [
           {
            "colorbar": {
             "outlinewidth": 0,
             "ticks": ""
            },
            "colorscale": [
             [
              0,
              "#0d0887"
             ],
             [
              0.1111111111111111,
              "#46039f"
             ],
             [
              0.2222222222222222,
              "#7201a8"
             ],
             [
              0.3333333333333333,
              "#9c179e"
             ],
             [
              0.4444444444444444,
              "#bd3786"
             ],
             [
              0.5555555555555556,
              "#d8576b"
             ],
             [
              0.6666666666666666,
              "#ed7953"
             ],
             [
              0.7777777777777778,
              "#fb9f3a"
             ],
             [
              0.8888888888888888,
              "#fdca26"
             ],
             [
              1,
              "#f0f921"
             ]
            ],
            "type": "surface"
           }
          ],
          "table": [
           {
            "cells": {
             "fill": {
              "color": "#EBF0F8"
             },
             "line": {
              "color": "white"
             }
            },
            "header": {
             "fill": {
              "color": "#C8D4E3"
             },
             "line": {
              "color": "white"
             }
            },
            "type": "table"
           }
          ]
         },
         "layout": {
          "annotationdefaults": {
           "arrowcolor": "#2a3f5f",
           "arrowhead": 0,
           "arrowwidth": 1
          },
          "autotypenumbers": "strict",
          "coloraxis": {
           "colorbar": {
            "outlinewidth": 0,
            "ticks": ""
           }
          },
          "colorscale": {
           "diverging": [
            [
             0,
             "#8e0152"
            ],
            [
             0.1,
             "#c51b7d"
            ],
            [
             0.2,
             "#de77ae"
            ],
            [
             0.3,
             "#f1b6da"
            ],
            [
             0.4,
             "#fde0ef"
            ],
            [
             0.5,
             "#f7f7f7"
            ],
            [
             0.6,
             "#e6f5d0"
            ],
            [
             0.7,
             "#b8e186"
            ],
            [
             0.8,
             "#7fbc41"
            ],
            [
             0.9,
             "#4d9221"
            ],
            [
             1,
             "#276419"
            ]
           ],
           "sequential": [
            [
             0,
             "#0d0887"
            ],
            [
             0.1111111111111111,
             "#46039f"
            ],
            [
             0.2222222222222222,
             "#7201a8"
            ],
            [
             0.3333333333333333,
             "#9c179e"
            ],
            [
             0.4444444444444444,
             "#bd3786"
            ],
            [
             0.5555555555555556,
             "#d8576b"
            ],
            [
             0.6666666666666666,
             "#ed7953"
            ],
            [
             0.7777777777777778,
             "#fb9f3a"
            ],
            [
             0.8888888888888888,
             "#fdca26"
            ],
            [
             1,
             "#f0f921"
            ]
           ],
           "sequentialminus": [
            [
             0,
             "#0d0887"
            ],
            [
             0.1111111111111111,
             "#46039f"
            ],
            [
             0.2222222222222222,
             "#7201a8"
            ],
            [
             0.3333333333333333,
             "#9c179e"
            ],
            [
             0.4444444444444444,
             "#bd3786"
            ],
            [
             0.5555555555555556,
             "#d8576b"
            ],
            [
             0.6666666666666666,
             "#ed7953"
            ],
            [
             0.7777777777777778,
             "#fb9f3a"
            ],
            [
             0.8888888888888888,
             "#fdca26"
            ],
            [
             1,
             "#f0f921"
            ]
           ]
          },
          "colorway": [
           "#636efa",
           "#EF553B",
           "#00cc96",
           "#ab63fa",
           "#FFA15A",
           "#19d3f3",
           "#FF6692",
           "#B6E880",
           "#FF97FF",
           "#FECB52"
          ],
          "font": {
           "color": "#2a3f5f"
          },
          "geo": {
           "bgcolor": "white",
           "lakecolor": "white",
           "landcolor": "#E5ECF6",
           "showlakes": true,
           "showland": true,
           "subunitcolor": "white"
          },
          "hoverlabel": {
           "align": "left"
          },
          "hovermode": "closest",
          "mapbox": {
           "style": "light"
          },
          "paper_bgcolor": "white",
          "plot_bgcolor": "#E5ECF6",
          "polar": {
           "angularaxis": {
            "gridcolor": "white",
            "linecolor": "white",
            "ticks": ""
           },
           "bgcolor": "#E5ECF6",
           "radialaxis": {
            "gridcolor": "white",
            "linecolor": "white",
            "ticks": ""
           }
          },
          "scene": {
           "xaxis": {
            "backgroundcolor": "#E5ECF6",
            "gridcolor": "white",
            "gridwidth": 2,
            "linecolor": "white",
            "showbackground": true,
            "ticks": "",
            "zerolinecolor": "white"
           },
           "yaxis": {
            "backgroundcolor": "#E5ECF6",
            "gridcolor": "white",
            "gridwidth": 2,
            "linecolor": "white",
            "showbackground": true,
            "ticks": "",
            "zerolinecolor": "white"
           },
           "zaxis": {
            "backgroundcolor": "#E5ECF6",
            "gridcolor": "white",
            "gridwidth": 2,
            "linecolor": "white",
            "showbackground": true,
            "ticks": "",
            "zerolinecolor": "white"
           }
          },
          "shapedefaults": {
           "line": {
            "color": "#2a3f5f"
           }
          },
          "ternary": {
           "aaxis": {
            "gridcolor": "white",
            "linecolor": "white",
            "ticks": ""
           },
           "baxis": {
            "gridcolor": "white",
            "linecolor": "white",
            "ticks": ""
           },
           "bgcolor": "#E5ECF6",
           "caxis": {
            "gridcolor": "white",
            "linecolor": "white",
            "ticks": ""
           }
          },
          "title": {
           "x": 0.05
          },
          "xaxis": {
           "automargin": true,
           "gridcolor": "white",
           "linecolor": "white",
           "ticks": "",
           "title": {
            "standoff": 15
           },
           "zerolinecolor": "white",
           "zerolinewidth": 2
          },
          "yaxis": {
           "automargin": true,
           "gridcolor": "white",
           "linecolor": "white",
           "ticks": "",
           "title": {
            "standoff": 15
           },
           "zerolinecolor": "white",
           "zerolinewidth": 2
          }
         }
        },
        "title": {
         "text": "Средняя стоимость 1 УЕТ в руб за 2022 год (план: 167.7)"
        },
        "width": 1360,
        "xaxis": {
         "anchor": "y",
         "categoryorder": "total descending",
         "domain": [
          0,
          1
         ],
         "title": {
          "text": "Врач"
         }
        },
        "yaxis": {
         "anchor": "x",
         "domain": [
          0,
          1
         ],
         "dtick": 167.7,
         "gridcolor": "black",
         "title": {
          "text": "RPU"
         }
        }
       }
      },
      "text/html": [
       "<div>                            <div id=\"9a67f463-2f75-4bd6-90a5-627e390de8c2\" class=\"plotly-graph-div\" style=\"height:525px; width:1360px;\"></div>            <script type=\"text/javascript\">                require([\"plotly\"], function(Plotly) {                    window.PLOTLYENV=window.PLOTLYENV || {};                                    if (document.getElementById(\"9a67f463-2f75-4bd6-90a5-627e390de8c2\")) {                    Plotly.newPlot(                        \"9a67f463-2f75-4bd6-90a5-627e390de8c2\",                        [{\"alignmentgroup\":\"True\",\"hovertemplate\":\"\\u041c\\u0435\\u0441\\u044f\\u0446=0122<br>\\u0412\\u0440\\u0430\\u0447=%{x}<br>RPU=%{text}<extra></extra>\",\"legendgroup\":\"0122\",\"marker\":{\"color\":\"#636efa\",\"pattern\":{\"shape\":\"\"}},\"name\":\"0122\",\"offsetgroup\":\"0122\",\"orientation\":\"v\",\"showlegend\":true,\"text\":[\"167.0\",\"173.8\",\"171.2\",\"160.2\",\"181.3\",\"172.5\",\"157.6\",\"179.1\",\"161.2\",\"169.5\",\"181.4\",\"170.4\",\"194.9\",\"172.9\",\"179.3\",\"162.5\",\"200.3\",\"179.4\",\"158.5\",\"177.2\",\"158.8\",\"155.1\",\"170.4\",\"174.9\",\"164.9\",\"182.0\"],\"textposition\":\"auto\",\"type\":\"bar\",\"x\":[\"\\u0410\\u043b\\u0435\\u043a\\u0441\\u0430\\u043d\\u0434\\u0440\\u043e\\u0432\\u0430 \\u0421\\u0432\\u0435\\u0442\\u043b\\u0430\\u043d\\u0430 \\u0412\\u0438\\u043a\\u0442\\u043e\\u0440\\u043e\\u0432\\u043d\\u0430\",\"\\u0410\\u0440\\u0443\\u0442\\u044e\\u043d\\u044f\\u043d \\u0410\\u0440\\u0443\\u0442\\u044e\\u043d \\u041b\\u0435\\u0432\\u043e\\u043d\\u043e\\u0432\\u0438\\u0447\",\"\\u0412\\u043b\\u0430\\u0441\\u043e\\u0432\\u0430 \\u0410\\u043b\\u044c\\u0444\\u0438\\u044f \\u041b\\u044f\\u0431\\u0438\\u0431\\u043e\\u0432\\u043d\\u0430\",\"\\u0412\\u043e\\u043b\\u043e\\u0434\\u0438\\u043d \\u041f\\u0430\\u0432\\u0435\\u043b \\u042e\\u0440\\u044c\\u0435\\u0432\\u0438\\u0447\",\"\\u0412\\u043e\\u043b\\u043e\\u0434\\u044c\\u043a\\u043e \\u0412\\u0430\\u043b\\u0435\\u043d\\u0442\\u0438\\u043d\\u0430 \\u0418\\u0432\\u0430\\u043d\\u043e\\u0432\\u043d\\u0430\",\"\\u0413\\u0432\\u043e\\u0437\\u0434\\u0435\\u0432\\u0430 \\u0422\\u0430\\u0442\\u044c\\u044f\\u043d\\u0430 \\u0410\\u043d\\u0430\\u0442\\u043e\\u043b\\u044c\\u0435\\u0432\\u043d\\u0430\",\"\\u0413\\u043e\\u0440\\u0431\\u0438\\u043a\\u043e\\u0432\\u0430 \\u042d\\u043b\\u044c\\u0444\\u0438\\u044f \\u0420\\u0430\\u0448\\u0438\\u0442\\u043e\\u0432\\u043d\\u0430\",\"\\u0417\\u0430\\u0432\\u0433\\u043e\\u0440\\u043e\\u0434\\u043d\\u044b\\u0439 \\u0421\\u0435\\u0440\\u0433\\u0435\\u0439 \\u0412\\u0430\\u043b\\u0435\\u0440\\u0438\\u0430\\u043d\\u043e\\u0432\\u0438\\u0447\",\"\\u0417\\u0430\\u0445\\u0430\\u0440\\u043e\\u0432 \\u0418\\u0432\\u0430\\u043d \\u0412\\u043b\\u0430\\u0434\\u0438\\u043c\\u0438\\u0440\\u043e\\u0432\\u0438\\u0447\",\"\\u041a\\u0430\\u043c\\u044b\\u043d\\u043e\\u0432\\u0430 \\u041d\\u0430\\u0442\\u0430\\u043b\\u0438\\u044f \\u0412\\u0430\\u043b\\u0435\\u0440\\u0438\\u0435\\u0432\\u043d\\u0430\",\"\\u041a\\u043e\\u0432\\u0430\\u043b\\u0435\\u043d\\u043a\\u043e \\u041e\\u043b\\u044c\\u0433\\u0430 \\u042d\\u0434\\u0443\\u0430\\u0440\\u0434\\u043e\\u0432\\u043d\\u0430\",\"\\u041a\\u043e\\u0432\\u0448\\u043e\\u0432 \\u0410\\u043b\\u0435\\u043a\\u0441\\u0430\\u043d\\u0434\\u0440 \\u0410\\u043b\\u0435\\u043a\\u0441\\u0430\\u043d\\u0434\\u0440\\u043e\\u0432\\u0438\\u0447\",\"\\u041a\\u043e\\u043b\\u0435\\u0441\\u043e\\u0432\\u0430 \\u041d\\u0430\\u0442\\u0430\\u043b\\u044c\\u044f \\u0412\\u0438\\u043a\\u0442\\u043e\\u0440\\u043e\\u0432\\u043d\\u0430\",\"\\u041a\\u0443\\u043a\\u0443\\u0448\\u043a\\u0438\\u043d\\u0430 \\u041b\\u0430\\u0440\\u0438\\u0441\\u0430 \\u0420\\u0430\\u043c\\u0437\\u0430\\u043d\\u043e\\u0432\\u043d\\u0430\",\"\\u041b\\u0438\\u0442\\u0432\\u0438\\u043d\\u043e\\u0432\\u0430 \\u041d\\u0438\\u043d\\u0430 \\u0410\\u043b\\u0435\\u043a\\u0441\\u0435\\u0435\\u0432\\u043d\\u0430\",\"\\u041b\\u043e\\u043f\\u0430\\u0442\\u043a\\u0438\\u043d\\u0430 \\u0410\\u043b\\u0451\\u043d\\u0430 \\u0421\\u0435\\u0440\\u0433\\u0435\\u0435\\u0432\\u043d\\u0430\",\"\\u041c\\u0430\\u043a\\u0441\\u0438\\u043c\\u0435\\u0446 \\u0418\\u0440\\u0438\\u043d\\u0430 \\u0418\\u0432\\u0430\\u043d\\u043e\\u0432\\u043d\\u0430\",\"\\u041c\\u043a\\u0440\\u0442\\u0447\\u044f\\u043d \\u0422\\u0430\\u0440\\u043e\\u043d \\u0410\\u0440\\u0441\\u0435\\u043d\\u043e\\u0432\\u0438\\u0447\",\"\\u041c\\u043e\\u0440\\u043e\\u0448\\u0435\\u043d\\u043a\\u043e\\u0432\\u0430 \\u0413\\u0443\\u043b\\u044c\\u043c\\u0438\\u0440\\u0430 \\u0410\\u0431\\u044b\\u043b\\u043a\\u0430\\u043a\\u043e\\u0432\\u043d\\u0430\",\"\\u041d\\u0438\\u043a\\u043e\\u043b\\u0430\\u0435\\u0432\\u0430 \\u041d\\u0430\\u0434\\u0435\\u0436\\u0434\\u0430 \\u0413\\u0440\\u0438\\u0433\\u043e\\u0440\\u044c\\u0435\\u0432\\u043d\\u0430\",\"\\u041e\\u043b\\u044c\\u0445\\u043e\\u0432\\u0441\\u043a\\u0430\\u044f \\u0410\\u043b\\u044c\\u0431\\u0438\\u043d\\u0430 \\u0412\\u043b\\u0430\\u0434\\u0438\\u043c\\u0438\\u0440\\u043e\\u0432\\u043d\\u0430\",\"\\u041f\\u0443\\u0437\\u0430\\u043d\\u043e\\u0432\\u0430 \\u041b\\u0438\\u0434\\u0438\\u044f \\u0421\\u0435\\u0440\\u0433\\u0435\\u0435\\u0432\\u043d\\u0430\",\"\\u0420\\u044b\\u0431\\u0430\\u043a \\u041b\\u0438\\u043b\\u0438\\u044f \\u0421\\u0435\\u0440\\u0433\\u0435\\u0435\\u0432\\u043d\\u0430\",\"\\u0421\\u043a\\u0430\\u043b\\u043a\\u043e\\u0432\\u0438\\u0447 \\u0418\\u043d\\u043d\\u0430 \\u0412\\u0430\\u043b\\u0435\\u0440\\u044c\\u0435\\u0432\\u043d\\u0430\",\"\\u0427\\u0438\\u0436\\u043e\\u0432\\u0430 \\u0415\\u043b\\u0435\\u043d\\u0430 \\u0412\\u043b\\u0430\\u0434\\u0438\\u043c\\u0438\\u0440\\u043e\\u0432\\u043d\\u0430\",\"\\u0427\\u0438\\u0447\\u0438\\u043a\\u0438\\u043d\\u0430 \\u0413\\u0430\\u043b\\u0438\\u043d\\u0430 \\u041f\\u0430\\u0432\\u043b\\u043e\\u0432\\u043d\\u0430\"],\"xaxis\":\"x\",\"y\":[167.0,173.8,171.2,160.2,181.3,172.5,157.6,179.1,161.2,169.5,181.4,170.4,194.9,172.9,179.3,162.5,200.3,179.4,158.5,177.2,158.8,155.1,170.4,174.9,164.9,182.0],\"yaxis\":\"y\"},{\"alignmentgroup\":\"True\",\"hovertemplate\":\"\\u041c\\u0435\\u0441\\u044f\\u0446=0222<br>\\u0412\\u0440\\u0430\\u0447=%{x}<br>RPU=%{text}<extra></extra>\",\"legendgroup\":\"0222\",\"marker\":{\"color\":\"#EF553B\",\"pattern\":{\"shape\":\"\"}},\"name\":\"0222\",\"offsetgroup\":\"0222\",\"orientation\":\"v\",\"showlegend\":true,\"text\":[\"185.6\",\"173.6\",\"171.4\",\"190.7\",\"177.8\",\"186.6\",\"172.8\",\"183.9\",\"165.3\",\"176.2\",\"187.0\",\"178.1\",\"196.9\",\"180.1\",\"189.5\",\"180.9\",\"195.0\",\"187.6\",\"172.5\",\"189.6\",\"171.7\",\"169.6\",\"177.3\",\"191.8\",\"174.9\",\"182.7\"],\"textposition\":\"auto\",\"type\":\"bar\",\"x\":[\"\\u0410\\u043b\\u0435\\u043a\\u0441\\u0430\\u043d\\u0434\\u0440\\u043e\\u0432\\u0430 \\u0421\\u0432\\u0435\\u0442\\u043b\\u0430\\u043d\\u0430 \\u0412\\u0438\\u043a\\u0442\\u043e\\u0440\\u043e\\u0432\\u043d\\u0430\",\"\\u0410\\u0440\\u0443\\u0442\\u044e\\u043d\\u044f\\u043d \\u0410\\u0440\\u0443\\u0442\\u044e\\u043d \\u041b\\u0435\\u0432\\u043e\\u043d\\u043e\\u0432\\u0438\\u0447\",\"\\u0412\\u043b\\u0430\\u0441\\u043e\\u0432\\u0430 \\u0410\\u043b\\u044c\\u0444\\u0438\\u044f \\u041b\\u044f\\u0431\\u0438\\u0431\\u043e\\u0432\\u043d\\u0430\",\"\\u0412\\u043e\\u043b\\u043e\\u0434\\u0438\\u043d \\u041f\\u0430\\u0432\\u0435\\u043b \\u042e\\u0440\\u044c\\u0435\\u0432\\u0438\\u0447\",\"\\u0412\\u043e\\u043b\\u043e\\u0434\\u044c\\u043a\\u043e \\u0412\\u0430\\u043b\\u0435\\u043d\\u0442\\u0438\\u043d\\u0430 \\u0418\\u0432\\u0430\\u043d\\u043e\\u0432\\u043d\\u0430\",\"\\u0413\\u0432\\u043e\\u0437\\u0434\\u0435\\u0432\\u0430 \\u0422\\u0430\\u0442\\u044c\\u044f\\u043d\\u0430 \\u0410\\u043d\\u0430\\u0442\\u043e\\u043b\\u044c\\u0435\\u0432\\u043d\\u0430\",\"\\u0413\\u043e\\u0440\\u0431\\u0438\\u043a\\u043e\\u0432\\u0430 \\u042d\\u043b\\u044c\\u0444\\u0438\\u044f \\u0420\\u0430\\u0448\\u0438\\u0442\\u043e\\u0432\\u043d\\u0430\",\"\\u0417\\u0430\\u0432\\u0433\\u043e\\u0440\\u043e\\u0434\\u043d\\u044b\\u0439 \\u0421\\u0435\\u0440\\u0433\\u0435\\u0439 \\u0412\\u0430\\u043b\\u0435\\u0440\\u0438\\u0430\\u043d\\u043e\\u0432\\u0438\\u0447\",\"\\u0417\\u0430\\u0445\\u0430\\u0440\\u043e\\u0432 \\u0418\\u0432\\u0430\\u043d \\u0412\\u043b\\u0430\\u0434\\u0438\\u043c\\u0438\\u0440\\u043e\\u0432\\u0438\\u0447\",\"\\u041a\\u0430\\u043c\\u044b\\u043d\\u043e\\u0432\\u0430 \\u041d\\u0430\\u0442\\u0430\\u043b\\u0438\\u044f \\u0412\\u0430\\u043b\\u0435\\u0440\\u0438\\u0435\\u0432\\u043d\\u0430\",\"\\u041a\\u043e\\u0432\\u0430\\u043b\\u0435\\u043d\\u043a\\u043e \\u041e\\u043b\\u044c\\u0433\\u0430 \\u042d\\u0434\\u0443\\u0430\\u0440\\u0434\\u043e\\u0432\\u043d\\u0430\",\"\\u041a\\u043e\\u0432\\u0448\\u043e\\u0432 \\u0410\\u043b\\u0435\\u043a\\u0441\\u0430\\u043d\\u0434\\u0440 \\u0410\\u043b\\u0435\\u043a\\u0441\\u0430\\u043d\\u0434\\u0440\\u043e\\u0432\\u0438\\u0447\",\"\\u041a\\u043e\\u043b\\u0435\\u0441\\u043e\\u0432\\u0430 \\u041d\\u0430\\u0442\\u0430\\u043b\\u044c\\u044f \\u0412\\u0438\\u043a\\u0442\\u043e\\u0440\\u043e\\u0432\\u043d\\u0430\",\"\\u041a\\u0443\\u043a\\u0443\\u0448\\u043a\\u0438\\u043d\\u0430 \\u041b\\u0430\\u0440\\u0438\\u0441\\u0430 \\u0420\\u0430\\u043c\\u0437\\u0430\\u043d\\u043e\\u0432\\u043d\\u0430\",\"\\u041b\\u0438\\u0442\\u0432\\u0438\\u043d\\u043e\\u0432\\u0430 \\u041d\\u0438\\u043d\\u0430 \\u0410\\u043b\\u0435\\u043a\\u0441\\u0435\\u0435\\u0432\\u043d\\u0430\",\"\\u041b\\u043e\\u043f\\u0430\\u0442\\u043a\\u0438\\u043d\\u0430 \\u0410\\u043b\\u0451\\u043d\\u0430 \\u0421\\u0435\\u0440\\u0433\\u0435\\u0435\\u0432\\u043d\\u0430\",\"\\u041c\\u0430\\u043a\\u0441\\u0438\\u043c\\u0435\\u0446 \\u0418\\u0440\\u0438\\u043d\\u0430 \\u0418\\u0432\\u0430\\u043d\\u043e\\u0432\\u043d\\u0430\",\"\\u041c\\u043a\\u0440\\u0442\\u0447\\u044f\\u043d \\u0422\\u0430\\u0440\\u043e\\u043d \\u0410\\u0440\\u0441\\u0435\\u043d\\u043e\\u0432\\u0438\\u0447\",\"\\u041c\\u043e\\u0440\\u043e\\u0448\\u0435\\u043d\\u043a\\u043e\\u0432\\u0430 \\u0413\\u0443\\u043b\\u044c\\u043c\\u0438\\u0440\\u0430 \\u0410\\u0431\\u044b\\u043b\\u043a\\u0430\\u043a\\u043e\\u0432\\u043d\\u0430\",\"\\u041d\\u0438\\u043a\\u043e\\u043b\\u0430\\u0435\\u0432\\u0430 \\u041d\\u0430\\u0434\\u0435\\u0436\\u0434\\u0430 \\u0413\\u0440\\u0438\\u0433\\u043e\\u0440\\u044c\\u0435\\u0432\\u043d\\u0430\",\"\\u041e\\u043b\\u044c\\u0445\\u043e\\u0432\\u0441\\u043a\\u0430\\u044f \\u0410\\u043b\\u044c\\u0431\\u0438\\u043d\\u0430 \\u0412\\u043b\\u0430\\u0434\\u0438\\u043c\\u0438\\u0440\\u043e\\u0432\\u043d\\u0430\",\"\\u041f\\u0443\\u0437\\u0430\\u043d\\u043e\\u0432\\u0430 \\u041b\\u0438\\u0434\\u0438\\u044f \\u0421\\u0435\\u0440\\u0433\\u0435\\u0435\\u0432\\u043d\\u0430\",\"\\u0420\\u044b\\u0431\\u0430\\u043a \\u041b\\u0438\\u043b\\u0438\\u044f \\u0421\\u0435\\u0440\\u0433\\u0435\\u0435\\u0432\\u043d\\u0430\",\"\\u0421\\u043a\\u0430\\u043b\\u043a\\u043e\\u0432\\u0438\\u0447 \\u0418\\u043d\\u043d\\u0430 \\u0412\\u0430\\u043b\\u0435\\u0440\\u044c\\u0435\\u0432\\u043d\\u0430\",\"\\u0427\\u0438\\u0436\\u043e\\u0432\\u0430 \\u0415\\u043b\\u0435\\u043d\\u0430 \\u0412\\u043b\\u0430\\u0434\\u0438\\u043c\\u0438\\u0440\\u043e\\u0432\\u043d\\u0430\",\"\\u0427\\u0438\\u0447\\u0438\\u043a\\u0438\\u043d\\u0430 \\u0413\\u0430\\u043b\\u0438\\u043d\\u0430 \\u041f\\u0430\\u0432\\u043b\\u043e\\u0432\\u043d\\u0430\"],\"xaxis\":\"x\",\"y\":[185.6,173.6,171.4,190.7,177.8,186.6,172.8,183.9,165.3,176.2,187.0,178.1,196.9,180.1,189.5,180.9,195.0,187.6,172.5,189.6,171.7,169.6,177.3,191.8,174.9,182.7],\"yaxis\":\"y\"},{\"alignmentgroup\":\"True\",\"hovertemplate\":\"\\u041c\\u0435\\u0441\\u044f\\u0446=0322<br>\\u0412\\u0440\\u0430\\u0447=%{x}<br>RPU=%{text}<extra></extra>\",\"legendgroup\":\"0322\",\"marker\":{\"color\":\"#00cc96\",\"pattern\":{\"shape\":\"\"}},\"name\":\"0322\",\"offsetgroup\":\"0322\",\"orientation\":\"v\",\"showlegend\":true,\"text\":[\"168.0\",\"176.0\",\"166.1\",\"170.5\",\"181.6\",\"170.8\",\"159.6\",\"182.2\",\"162.6\",\"171.0\",\"182.1\",\"170.4\",\"196.5\",\"168.4\",\"176.7\",\"169.8\",\"185.0\",\"172.5\",\"165.5\",\"186.6\",\"160.9\",\"156.0\",\"174.7\",\"176.1\",\"162.0\",\"183.0\"],\"textposition\":\"auto\",\"type\":\"bar\",\"x\":[\"\\u0410\\u043b\\u0435\\u043a\\u0441\\u0430\\u043d\\u0434\\u0440\\u043e\\u0432\\u0430 \\u0421\\u0432\\u0435\\u0442\\u043b\\u0430\\u043d\\u0430 \\u0412\\u0438\\u043a\\u0442\\u043e\\u0440\\u043e\\u0432\\u043d\\u0430\",\"\\u0410\\u0440\\u0443\\u0442\\u044e\\u043d\\u044f\\u043d \\u0410\\u0440\\u0443\\u0442\\u044e\\u043d \\u041b\\u0435\\u0432\\u043e\\u043d\\u043e\\u0432\\u0438\\u0447\",\"\\u0412\\u043b\\u0430\\u0441\\u043e\\u0432\\u0430 \\u0410\\u043b\\u044c\\u0444\\u0438\\u044f \\u041b\\u044f\\u0431\\u0438\\u0431\\u043e\\u0432\\u043d\\u0430\",\"\\u0412\\u043e\\u043b\\u043e\\u0434\\u0438\\u043d \\u041f\\u0430\\u0432\\u0435\\u043b \\u042e\\u0440\\u044c\\u0435\\u0432\\u0438\\u0447\",\"\\u0412\\u043e\\u043b\\u043e\\u0434\\u044c\\u043a\\u043e \\u0412\\u0430\\u043b\\u0435\\u043d\\u0442\\u0438\\u043d\\u0430 \\u0418\\u0432\\u0430\\u043d\\u043e\\u0432\\u043d\\u0430\",\"\\u0413\\u0432\\u043e\\u0437\\u0434\\u0435\\u0432\\u0430 \\u0422\\u0430\\u0442\\u044c\\u044f\\u043d\\u0430 \\u0410\\u043d\\u0430\\u0442\\u043e\\u043b\\u044c\\u0435\\u0432\\u043d\\u0430\",\"\\u0413\\u043e\\u0440\\u0431\\u0438\\u043a\\u043e\\u0432\\u0430 \\u042d\\u043b\\u044c\\u0444\\u0438\\u044f \\u0420\\u0430\\u0448\\u0438\\u0442\\u043e\\u0432\\u043d\\u0430\",\"\\u0417\\u0430\\u0432\\u0433\\u043e\\u0440\\u043e\\u0434\\u043d\\u044b\\u0439 \\u0421\\u0435\\u0440\\u0433\\u0435\\u0439 \\u0412\\u0430\\u043b\\u0435\\u0440\\u0438\\u0430\\u043d\\u043e\\u0432\\u0438\\u0447\",\"\\u0417\\u0430\\u0445\\u0430\\u0440\\u043e\\u0432 \\u0418\\u0432\\u0430\\u043d \\u0412\\u043b\\u0430\\u0434\\u0438\\u043c\\u0438\\u0440\\u043e\\u0432\\u0438\\u0447\",\"\\u041a\\u0430\\u043c\\u044b\\u043d\\u043e\\u0432\\u0430 \\u041d\\u0430\\u0442\\u0430\\u043b\\u0438\\u044f \\u0412\\u0430\\u043b\\u0435\\u0440\\u0438\\u0435\\u0432\\u043d\\u0430\",\"\\u041a\\u043e\\u0432\\u0430\\u043b\\u0435\\u043d\\u043a\\u043e \\u041e\\u043b\\u044c\\u0433\\u0430 \\u042d\\u0434\\u0443\\u0430\\u0440\\u0434\\u043e\\u0432\\u043d\\u0430\",\"\\u041a\\u043e\\u0432\\u0448\\u043e\\u0432 \\u0410\\u043b\\u0435\\u043a\\u0441\\u0430\\u043d\\u0434\\u0440 \\u0410\\u043b\\u0435\\u043a\\u0441\\u0430\\u043d\\u0434\\u0440\\u043e\\u0432\\u0438\\u0447\",\"\\u041a\\u043e\\u043b\\u0435\\u0441\\u043e\\u0432\\u0430 \\u041d\\u0430\\u0442\\u0430\\u043b\\u044c\\u044f \\u0412\\u0438\\u043a\\u0442\\u043e\\u0440\\u043e\\u0432\\u043d\\u0430\",\"\\u041a\\u0443\\u043a\\u0443\\u0448\\u043a\\u0438\\u043d\\u0430 \\u041b\\u0430\\u0440\\u0438\\u0441\\u0430 \\u0420\\u0430\\u043c\\u0437\\u0430\\u043d\\u043e\\u0432\\u043d\\u0430\",\"\\u041b\\u0438\\u0442\\u0432\\u0438\\u043d\\u043e\\u0432\\u0430 \\u041d\\u0438\\u043d\\u0430 \\u0410\\u043b\\u0435\\u043a\\u0441\\u0435\\u0435\\u0432\\u043d\\u0430\",\"\\u041b\\u043e\\u043f\\u0430\\u0442\\u043a\\u0438\\u043d\\u0430 \\u0410\\u043b\\u0451\\u043d\\u0430 \\u0421\\u0435\\u0440\\u0433\\u0435\\u0435\\u0432\\u043d\\u0430\",\"\\u041c\\u0430\\u043a\\u0441\\u0438\\u043c\\u0435\\u0446 \\u0418\\u0440\\u0438\\u043d\\u0430 \\u0418\\u0432\\u0430\\u043d\\u043e\\u0432\\u043d\\u0430\",\"\\u041c\\u043a\\u0440\\u0442\\u0447\\u044f\\u043d \\u0422\\u0430\\u0440\\u043e\\u043d \\u0410\\u0440\\u0441\\u0435\\u043d\\u043e\\u0432\\u0438\\u0447\",\"\\u041c\\u043e\\u0440\\u043e\\u0448\\u0435\\u043d\\u043a\\u043e\\u0432\\u0430 \\u0413\\u0443\\u043b\\u044c\\u043c\\u0438\\u0440\\u0430 \\u0410\\u0431\\u044b\\u043b\\u043a\\u0430\\u043a\\u043e\\u0432\\u043d\\u0430\",\"\\u041d\\u0438\\u043a\\u043e\\u043b\\u0430\\u0435\\u0432\\u0430 \\u041d\\u0430\\u0434\\u0435\\u0436\\u0434\\u0430 \\u0413\\u0440\\u0438\\u0433\\u043e\\u0440\\u044c\\u0435\\u0432\\u043d\\u0430\",\"\\u041e\\u043b\\u044c\\u0445\\u043e\\u0432\\u0441\\u043a\\u0430\\u044f \\u0410\\u043b\\u044c\\u0431\\u0438\\u043d\\u0430 \\u0412\\u043b\\u0430\\u0434\\u0438\\u043c\\u0438\\u0440\\u043e\\u0432\\u043d\\u0430\",\"\\u041f\\u0443\\u0437\\u0430\\u043d\\u043e\\u0432\\u0430 \\u041b\\u0438\\u0434\\u0438\\u044f \\u0421\\u0435\\u0440\\u0433\\u0435\\u0435\\u0432\\u043d\\u0430\",\"\\u0420\\u044b\\u0431\\u0430\\u043a \\u041b\\u0438\\u043b\\u0438\\u044f \\u0421\\u0435\\u0440\\u0433\\u0435\\u0435\\u0432\\u043d\\u0430\",\"\\u0421\\u043a\\u0430\\u043b\\u043a\\u043e\\u0432\\u0438\\u0447 \\u0418\\u043d\\u043d\\u0430 \\u0412\\u0430\\u043b\\u0435\\u0440\\u044c\\u0435\\u0432\\u043d\\u0430\",\"\\u0427\\u0438\\u0436\\u043e\\u0432\\u0430 \\u0415\\u043b\\u0435\\u043d\\u0430 \\u0412\\u043b\\u0430\\u0434\\u0438\\u043c\\u0438\\u0440\\u043e\\u0432\\u043d\\u0430\",\"\\u0427\\u0438\\u0447\\u0438\\u043a\\u0438\\u043d\\u0430 \\u0413\\u0430\\u043b\\u0438\\u043d\\u0430 \\u041f\\u0430\\u0432\\u043b\\u043e\\u0432\\u043d\\u0430\"],\"xaxis\":\"x\",\"y\":[168.0,176.0,166.1,170.5,181.6,170.8,159.6,182.2,162.6,171.0,182.1,170.4,196.5,168.4,176.7,169.8,185.0,172.5,165.5,186.6,160.9,156.0,174.7,176.1,162.0,183.0],\"yaxis\":\"y\"},{\"alignmentgroup\":\"True\",\"hovertemplate\":\"\\u041c\\u0435\\u0441\\u044f\\u0446=0422<br>\\u0412\\u0440\\u0430\\u0447=%{x}<br>RPU=%{text}<extra></extra>\",\"legendgroup\":\"0422\",\"marker\":{\"color\":\"#ab63fa\",\"pattern\":{\"shape\":\"\"}},\"name\":\"0422\",\"offsetgroup\":\"0422\",\"orientation\":\"v\",\"showlegend\":true,\"text\":[\"164.5\",\"177.1\",\"167.9\",\"175.7\",\"178.2\",\"171.8\",\"157.9\",\"183.1\",\"164.7\",\"170.4\",\"176.9\",\"165.8\",\"194.0\",\"161.8\",\"183.4\",\"172.2\",\"190.1\",\"160.3\",\"161.6\",\"191.3\",\"163.2\",\"155.9\",\"173.7\",\"178.8\",\"164.9\",\"181.7\"],\"textposition\":\"auto\",\"type\":\"bar\",\"x\":[\"\\u0410\\u043b\\u0435\\u043a\\u0441\\u0430\\u043d\\u0434\\u0440\\u043e\\u0432\\u0430 \\u0421\\u0432\\u0435\\u0442\\u043b\\u0430\\u043d\\u0430 \\u0412\\u0438\\u043a\\u0442\\u043e\\u0440\\u043e\\u0432\\u043d\\u0430\",\"\\u0410\\u0440\\u0443\\u0442\\u044e\\u043d\\u044f\\u043d \\u0410\\u0440\\u0443\\u0442\\u044e\\u043d \\u041b\\u0435\\u0432\\u043e\\u043d\\u043e\\u0432\\u0438\\u0447\",\"\\u0412\\u043b\\u0430\\u0441\\u043e\\u0432\\u0430 \\u0410\\u043b\\u044c\\u0444\\u0438\\u044f \\u041b\\u044f\\u0431\\u0438\\u0431\\u043e\\u0432\\u043d\\u0430\",\"\\u0412\\u043e\\u043b\\u043e\\u0434\\u0438\\u043d \\u041f\\u0430\\u0432\\u0435\\u043b \\u042e\\u0440\\u044c\\u0435\\u0432\\u0438\\u0447\",\"\\u0412\\u043e\\u043b\\u043e\\u0434\\u044c\\u043a\\u043e \\u0412\\u0430\\u043b\\u0435\\u043d\\u0442\\u0438\\u043d\\u0430 \\u0418\\u0432\\u0430\\u043d\\u043e\\u0432\\u043d\\u0430\",\"\\u0413\\u0432\\u043e\\u0437\\u0434\\u0435\\u0432\\u0430 \\u0422\\u0430\\u0442\\u044c\\u044f\\u043d\\u0430 \\u0410\\u043d\\u0430\\u0442\\u043e\\u043b\\u044c\\u0435\\u0432\\u043d\\u0430\",\"\\u0413\\u043e\\u0440\\u0431\\u0438\\u043a\\u043e\\u0432\\u0430 \\u042d\\u043b\\u044c\\u0444\\u0438\\u044f \\u0420\\u0430\\u0448\\u0438\\u0442\\u043e\\u0432\\u043d\\u0430\",\"\\u0417\\u0430\\u0432\\u0433\\u043e\\u0440\\u043e\\u0434\\u043d\\u044b\\u0439 \\u0421\\u0435\\u0440\\u0433\\u0435\\u0439 \\u0412\\u0430\\u043b\\u0435\\u0440\\u0438\\u0430\\u043d\\u043e\\u0432\\u0438\\u0447\",\"\\u0417\\u0430\\u0445\\u0430\\u0440\\u043e\\u0432 \\u0418\\u0432\\u0430\\u043d \\u0412\\u043b\\u0430\\u0434\\u0438\\u043c\\u0438\\u0440\\u043e\\u0432\\u0438\\u0447\",\"\\u041a\\u0430\\u043c\\u044b\\u043d\\u043e\\u0432\\u0430 \\u041d\\u0430\\u0442\\u0430\\u043b\\u0438\\u044f \\u0412\\u0430\\u043b\\u0435\\u0440\\u0438\\u0435\\u0432\\u043d\\u0430\",\"\\u041a\\u043e\\u0432\\u0430\\u043b\\u0435\\u043d\\u043a\\u043e \\u041e\\u043b\\u044c\\u0433\\u0430 \\u042d\\u0434\\u0443\\u0430\\u0440\\u0434\\u043e\\u0432\\u043d\\u0430\",\"\\u041a\\u043e\\u0432\\u0448\\u043e\\u0432 \\u0410\\u043b\\u0435\\u043a\\u0441\\u0430\\u043d\\u0434\\u0440 \\u0410\\u043b\\u0435\\u043a\\u0441\\u0430\\u043d\\u0434\\u0440\\u043e\\u0432\\u0438\\u0447\",\"\\u041a\\u043e\\u043b\\u0435\\u0441\\u043e\\u0432\\u0430 \\u041d\\u0430\\u0442\\u0430\\u043b\\u044c\\u044f \\u0412\\u0438\\u043a\\u0442\\u043e\\u0440\\u043e\\u0432\\u043d\\u0430\",\"\\u041a\\u0443\\u043a\\u0443\\u0448\\u043a\\u0438\\u043d\\u0430 \\u041b\\u0430\\u0440\\u0438\\u0441\\u0430 \\u0420\\u0430\\u043c\\u0437\\u0430\\u043d\\u043e\\u0432\\u043d\\u0430\",\"\\u041b\\u0438\\u0442\\u0432\\u0438\\u043d\\u043e\\u0432\\u0430 \\u041d\\u0438\\u043d\\u0430 \\u0410\\u043b\\u0435\\u043a\\u0441\\u0435\\u0435\\u0432\\u043d\\u0430\",\"\\u041b\\u043e\\u043f\\u0430\\u0442\\u043a\\u0438\\u043d\\u0430 \\u0410\\u043b\\u0451\\u043d\\u0430 \\u0421\\u0435\\u0440\\u0433\\u0435\\u0435\\u0432\\u043d\\u0430\",\"\\u041c\\u0430\\u043a\\u0441\\u0438\\u043c\\u0435\\u0446 \\u0418\\u0440\\u0438\\u043d\\u0430 \\u0418\\u0432\\u0430\\u043d\\u043e\\u0432\\u043d\\u0430\",\"\\u041c\\u043a\\u0440\\u0442\\u0447\\u044f\\u043d \\u0422\\u0430\\u0440\\u043e\\u043d \\u0410\\u0440\\u0441\\u0435\\u043d\\u043e\\u0432\\u0438\\u0447\",\"\\u041c\\u043e\\u0440\\u043e\\u0448\\u0435\\u043d\\u043a\\u043e\\u0432\\u0430 \\u0413\\u0443\\u043b\\u044c\\u043c\\u0438\\u0440\\u0430 \\u0410\\u0431\\u044b\\u043b\\u043a\\u0430\\u043a\\u043e\\u0432\\u043d\\u0430\",\"\\u041d\\u0438\\u043a\\u043e\\u043b\\u0430\\u0435\\u0432\\u0430 \\u041d\\u0430\\u0434\\u0435\\u0436\\u0434\\u0430 \\u0413\\u0440\\u0438\\u0433\\u043e\\u0440\\u044c\\u0435\\u0432\\u043d\\u0430\",\"\\u041e\\u043b\\u044c\\u0445\\u043e\\u0432\\u0441\\u043a\\u0430\\u044f \\u0410\\u043b\\u044c\\u0431\\u0438\\u043d\\u0430 \\u0412\\u043b\\u0430\\u0434\\u0438\\u043c\\u0438\\u0440\\u043e\\u0432\\u043d\\u0430\",\"\\u041f\\u0443\\u0437\\u0430\\u043d\\u043e\\u0432\\u0430 \\u041b\\u0438\\u0434\\u0438\\u044f \\u0421\\u0435\\u0440\\u0433\\u0435\\u0435\\u0432\\u043d\\u0430\",\"\\u0420\\u044b\\u0431\\u0430\\u043a \\u041b\\u0438\\u043b\\u0438\\u044f \\u0421\\u0435\\u0440\\u0433\\u0435\\u0435\\u0432\\u043d\\u0430\",\"\\u0421\\u043a\\u0430\\u043b\\u043a\\u043e\\u0432\\u0438\\u0447 \\u0418\\u043d\\u043d\\u0430 \\u0412\\u0430\\u043b\\u0435\\u0440\\u044c\\u0435\\u0432\\u043d\\u0430\",\"\\u0427\\u0438\\u0436\\u043e\\u0432\\u0430 \\u0415\\u043b\\u0435\\u043d\\u0430 \\u0412\\u043b\\u0430\\u0434\\u0438\\u043c\\u0438\\u0440\\u043e\\u0432\\u043d\\u0430\",\"\\u0427\\u0438\\u0447\\u0438\\u043a\\u0438\\u043d\\u0430 \\u0413\\u0430\\u043b\\u0438\\u043d\\u0430 \\u041f\\u0430\\u0432\\u043b\\u043e\\u0432\\u043d\\u0430\"],\"xaxis\":\"x\",\"y\":[164.5,177.1,167.9,175.7,178.2,171.8,157.9,183.1,164.7,170.4,176.9,165.8,194.0,161.8,183.4,172.2,190.1,160.3,161.6,191.3,163.2,155.9,173.7,178.8,164.9,181.7],\"yaxis\":\"y\"},{\"alignmentgroup\":\"True\",\"hovertemplate\":\"\\u041c\\u0435\\u0441\\u044f\\u0446=0522<br>\\u0412\\u0440\\u0430\\u0447=%{x}<br>RPU=%{text}<extra></extra>\",\"legendgroup\":\"0522\",\"marker\":{\"color\":\"#FFA15A\",\"pattern\":{\"shape\":\"\"}},\"name\":\"0522\",\"offsetgroup\":\"0522\",\"orientation\":\"v\",\"showlegend\":true,\"text\":[\"173.3\",\"182.7\",\"174.4\",\"189.8\",\"184.5\",\"156.8\",\"181.2\",\"178.5\",\"185.1\",\"179.7\",\"162.2\",\"193.3\",\"155.5\",\"182.2\",\"173.1\",\"188.3\",\"170.3\",\"160.4\",\"194.0\",\"160.2\",\"160.8\",\"173.0\",\"180.0\",\"157.8\",\"182.5\"],\"textposition\":\"auto\",\"type\":\"bar\",\"x\":[\"\\u0410\\u043b\\u0435\\u043a\\u0441\\u0430\\u043d\\u0434\\u0440\\u043e\\u0432\\u0430 \\u0421\\u0432\\u0435\\u0442\\u043b\\u0430\\u043d\\u0430 \\u0412\\u0438\\u043a\\u0442\\u043e\\u0440\\u043e\\u0432\\u043d\\u0430\",\"\\u0410\\u0440\\u0443\\u0442\\u044e\\u043d\\u044f\\u043d \\u0410\\u0440\\u0443\\u0442\\u044e\\u043d \\u041b\\u0435\\u0432\\u043e\\u043d\\u043e\\u0432\\u0438\\u0447\",\"\\u0412\\u043b\\u0430\\u0441\\u043e\\u0432\\u0430 \\u0410\\u043b\\u044c\\u0444\\u0438\\u044f \\u041b\\u044f\\u0431\\u0438\\u0431\\u043e\\u0432\\u043d\\u0430\",\"\\u0412\\u043e\\u043b\\u043e\\u0434\\u0438\\u043d \\u041f\\u0430\\u0432\\u0435\\u043b \\u042e\\u0440\\u044c\\u0435\\u0432\\u0438\\u0447\",\"\\u0412\\u043e\\u043b\\u043e\\u0434\\u044c\\u043a\\u043e \\u0412\\u0430\\u043b\\u0435\\u043d\\u0442\\u0438\\u043d\\u0430 \\u0418\\u0432\\u0430\\u043d\\u043e\\u0432\\u043d\\u0430\",\"\\u0413\\u043e\\u0440\\u0431\\u0438\\u043a\\u043e\\u0432\\u0430 \\u042d\\u043b\\u044c\\u0444\\u0438\\u044f \\u0420\\u0430\\u0448\\u0438\\u0442\\u043e\\u0432\\u043d\\u0430\",\"\\u0417\\u0430\\u0432\\u0433\\u043e\\u0440\\u043e\\u0434\\u043d\\u044b\\u0439 \\u0421\\u0435\\u0440\\u0433\\u0435\\u0439 \\u0412\\u0430\\u043b\\u0435\\u0440\\u0438\\u0430\\u043d\\u043e\\u0432\\u0438\\u0447\",\"\\u0417\\u0430\\u0445\\u0430\\u0440\\u043e\\u0432 \\u0418\\u0432\\u0430\\u043d \\u0412\\u043b\\u0430\\u0434\\u0438\\u043c\\u0438\\u0440\\u043e\\u0432\\u0438\\u0447\",\"\\u041a\\u0430\\u043c\\u044b\\u043d\\u043e\\u0432\\u0430 \\u041d\\u0430\\u0442\\u0430\\u043b\\u0438\\u044f \\u0412\\u0430\\u043b\\u0435\\u0440\\u0438\\u0435\\u0432\\u043d\\u0430\",\"\\u041a\\u043e\\u0432\\u0430\\u043b\\u0435\\u043d\\u043a\\u043e \\u041e\\u043b\\u044c\\u0433\\u0430 \\u042d\\u0434\\u0443\\u0430\\u0440\\u0434\\u043e\\u0432\\u043d\\u0430\",\"\\u041a\\u043e\\u0432\\u0448\\u043e\\u0432 \\u0410\\u043b\\u0435\\u043a\\u0441\\u0430\\u043d\\u0434\\u0440 \\u0410\\u043b\\u0435\\u043a\\u0441\\u0430\\u043d\\u0434\\u0440\\u043e\\u0432\\u0438\\u0447\",\"\\u041a\\u043e\\u043b\\u0435\\u0441\\u043e\\u0432\\u0430 \\u041d\\u0430\\u0442\\u0430\\u043b\\u044c\\u044f \\u0412\\u0438\\u043a\\u0442\\u043e\\u0440\\u043e\\u0432\\u043d\\u0430\",\"\\u041a\\u0443\\u043a\\u0443\\u0448\\u043a\\u0438\\u043d\\u0430 \\u041b\\u0430\\u0440\\u0438\\u0441\\u0430 \\u0420\\u0430\\u043c\\u0437\\u0430\\u043d\\u043e\\u0432\\u043d\\u0430\",\"\\u041b\\u0438\\u0442\\u0432\\u0438\\u043d\\u043e\\u0432\\u0430 \\u041d\\u0438\\u043d\\u0430 \\u0410\\u043b\\u0435\\u043a\\u0441\\u0435\\u0435\\u0432\\u043d\\u0430\",\"\\u041b\\u043e\\u043f\\u0430\\u0442\\u043a\\u0438\\u043d\\u0430 \\u0410\\u043b\\u0451\\u043d\\u0430 \\u0421\\u0435\\u0440\\u0433\\u0435\\u0435\\u0432\\u043d\\u0430\",\"\\u041c\\u0430\\u043a\\u0441\\u0438\\u043c\\u0435\\u0446 \\u0418\\u0440\\u0438\\u043d\\u0430 \\u0418\\u0432\\u0430\\u043d\\u043e\\u0432\\u043d\\u0430\",\"\\u041c\\u043a\\u0440\\u0442\\u0447\\u044f\\u043d \\u0422\\u0430\\u0440\\u043e\\u043d \\u0410\\u0440\\u0441\\u0435\\u043d\\u043e\\u0432\\u0438\\u0447\",\"\\u041c\\u043e\\u0440\\u043e\\u0448\\u0435\\u043d\\u043a\\u043e\\u0432\\u0430 \\u0413\\u0443\\u043b\\u044c\\u043c\\u0438\\u0440\\u0430 \\u0410\\u0431\\u044b\\u043b\\u043a\\u0430\\u043a\\u043e\\u0432\\u043d\\u0430\",\"\\u041d\\u0438\\u043a\\u043e\\u043b\\u0430\\u0435\\u0432\\u0430 \\u041d\\u0430\\u0434\\u0435\\u0436\\u0434\\u0430 \\u0413\\u0440\\u0438\\u0433\\u043e\\u0440\\u044c\\u0435\\u0432\\u043d\\u0430\",\"\\u041e\\u043b\\u044c\\u0445\\u043e\\u0432\\u0441\\u043a\\u0430\\u044f \\u0410\\u043b\\u044c\\u0431\\u0438\\u043d\\u0430 \\u0412\\u043b\\u0430\\u0434\\u0438\\u043c\\u0438\\u0440\\u043e\\u0432\\u043d\\u0430\",\"\\u041f\\u0443\\u0437\\u0430\\u043d\\u043e\\u0432\\u0430 \\u041b\\u0438\\u0434\\u0438\\u044f \\u0421\\u0435\\u0440\\u0433\\u0435\\u0435\\u0432\\u043d\\u0430\",\"\\u0420\\u044b\\u0431\\u0430\\u043a \\u041b\\u0438\\u043b\\u0438\\u044f \\u0421\\u0435\\u0440\\u0433\\u0435\\u0435\\u0432\\u043d\\u0430\",\"\\u0421\\u043a\\u0430\\u043b\\u043a\\u043e\\u0432\\u0438\\u0447 \\u0418\\u043d\\u043d\\u0430 \\u0412\\u0430\\u043b\\u0435\\u0440\\u044c\\u0435\\u0432\\u043d\\u0430\",\"\\u0427\\u0438\\u0436\\u043e\\u0432\\u0430 \\u0415\\u043b\\u0435\\u043d\\u0430 \\u0412\\u043b\\u0430\\u0434\\u0438\\u043c\\u0438\\u0440\\u043e\\u0432\\u043d\\u0430\",\"\\u0427\\u0438\\u0447\\u0438\\u043a\\u0438\\u043d\\u0430 \\u0413\\u0430\\u043b\\u0438\\u043d\\u0430 \\u041f\\u0430\\u0432\\u043b\\u043e\\u0432\\u043d\\u0430\"],\"xaxis\":\"x\",\"y\":[173.3,182.7,174.4,189.8,184.5,156.8,181.2,178.5,185.1,179.7,162.2,193.3,155.5,182.2,173.1,188.3,170.3,160.4,194.0,160.2,160.8,173.0,180.0,157.8,182.5],\"yaxis\":\"y\"}],                        {\"barmode\":\"group\",\"legend\":{\"title\":{\"text\":\"\\u041c\\u0435\\u0441\\u044f\\u0446\"},\"tracegroupgap\":0},\"template\":{\"data\":{\"bar\":[{\"error_x\":{\"color\":\"#2a3f5f\"},\"error_y\":{\"color\":\"#2a3f5f\"},\"marker\":{\"line\":{\"color\":\"#E5ECF6\",\"width\":0.5},\"pattern\":{\"fillmode\":\"overlay\",\"size\":10,\"solidity\":0.2}},\"type\":\"bar\"}],\"barpolar\":[{\"marker\":{\"line\":{\"color\":\"#E5ECF6\",\"width\":0.5},\"pattern\":{\"fillmode\":\"overlay\",\"size\":10,\"solidity\":0.2}},\"type\":\"barpolar\"}],\"carpet\":[{\"aaxis\":{\"endlinecolor\":\"#2a3f5f\",\"gridcolor\":\"white\",\"linecolor\":\"white\",\"minorgridcolor\":\"white\",\"startlinecolor\":\"#2a3f5f\"},\"baxis\":{\"endlinecolor\":\"#2a3f5f\",\"gridcolor\":\"white\",\"linecolor\":\"white\",\"minorgridcolor\":\"white\",\"startlinecolor\":\"#2a3f5f\"},\"type\":\"carpet\"}],\"choropleth\":[{\"colorbar\":{\"outlinewidth\":0,\"ticks\":\"\"},\"type\":\"choropleth\"}],\"contour\":[{\"colorbar\":{\"outlinewidth\":0,\"ticks\":\"\"},\"colorscale\":[[0.0,\"#0d0887\"],[0.1111111111111111,\"#46039f\"],[0.2222222222222222,\"#7201a8\"],[0.3333333333333333,\"#9c179e\"],[0.4444444444444444,\"#bd3786\"],[0.5555555555555556,\"#d8576b\"],[0.6666666666666666,\"#ed7953\"],[0.7777777777777778,\"#fb9f3a\"],[0.8888888888888888,\"#fdca26\"],[1.0,\"#f0f921\"]],\"type\":\"contour\"}],\"contourcarpet\":[{\"colorbar\":{\"outlinewidth\":0,\"ticks\":\"\"},\"type\":\"contourcarpet\"}],\"heatmap\":[{\"colorbar\":{\"outlinewidth\":0,\"ticks\":\"\"},\"colorscale\":[[0.0,\"#0d0887\"],[0.1111111111111111,\"#46039f\"],[0.2222222222222222,\"#7201a8\"],[0.3333333333333333,\"#9c179e\"],[0.4444444444444444,\"#bd3786\"],[0.5555555555555556,\"#d8576b\"],[0.6666666666666666,\"#ed7953\"],[0.7777777777777778,\"#fb9f3a\"],[0.8888888888888888,\"#fdca26\"],[1.0,\"#f0f921\"]],\"type\":\"heatmap\"}],\"heatmapgl\":[{\"colorbar\":{\"outlinewidth\":0,\"ticks\":\"\"},\"colorscale\":[[0.0,\"#0d0887\"],[0.1111111111111111,\"#46039f\"],[0.2222222222222222,\"#7201a8\"],[0.3333333333333333,\"#9c179e\"],[0.4444444444444444,\"#bd3786\"],[0.5555555555555556,\"#d8576b\"],[0.6666666666666666,\"#ed7953\"],[0.7777777777777778,\"#fb9f3a\"],[0.8888888888888888,\"#fdca26\"],[1.0,\"#f0f921\"]],\"type\":\"heatmapgl\"}],\"histogram\":[{\"marker\":{\"pattern\":{\"fillmode\":\"overlay\",\"size\":10,\"solidity\":0.2}},\"type\":\"histogram\"}],\"histogram2d\":[{\"colorbar\":{\"outlinewidth\":0,\"ticks\":\"\"},\"colorscale\":[[0.0,\"#0d0887\"],[0.1111111111111111,\"#46039f\"],[0.2222222222222222,\"#7201a8\"],[0.3333333333333333,\"#9c179e\"],[0.4444444444444444,\"#bd3786\"],[0.5555555555555556,\"#d8576b\"],[0.6666666666666666,\"#ed7953\"],[0.7777777777777778,\"#fb9f3a\"],[0.8888888888888888,\"#fdca26\"],[1.0,\"#f0f921\"]],\"type\":\"histogram2d\"}],\"histogram2dcontour\":[{\"colorbar\":{\"outlinewidth\":0,\"ticks\":\"\"},\"colorscale\":[[0.0,\"#0d0887\"],[0.1111111111111111,\"#46039f\"],[0.2222222222222222,\"#7201a8\"],[0.3333333333333333,\"#9c179e\"],[0.4444444444444444,\"#bd3786\"],[0.5555555555555556,\"#d8576b\"],[0.6666666666666666,\"#ed7953\"],[0.7777777777777778,\"#fb9f3a\"],[0.8888888888888888,\"#fdca26\"],[1.0,\"#f0f921\"]],\"type\":\"histogram2dcontour\"}],\"mesh3d\":[{\"colorbar\":{\"outlinewidth\":0,\"ticks\":\"\"},\"type\":\"mesh3d\"}],\"parcoords\":[{\"line\":{\"colorbar\":{\"outlinewidth\":0,\"ticks\":\"\"}},\"type\":\"parcoords\"}],\"pie\":[{\"automargin\":true,\"type\":\"pie\"}],\"scatter\":[{\"marker\":{\"colorbar\":{\"outlinewidth\":0,\"ticks\":\"\"}},\"type\":\"scatter\"}],\"scatter3d\":[{\"line\":{\"colorbar\":{\"outlinewidth\":0,\"ticks\":\"\"}},\"marker\":{\"colorbar\":{\"outlinewidth\":0,\"ticks\":\"\"}},\"type\":\"scatter3d\"}],\"scattercarpet\":[{\"marker\":{\"colorbar\":{\"outlinewidth\":0,\"ticks\":\"\"}},\"type\":\"scattercarpet\"}],\"scattergeo\":[{\"marker\":{\"colorbar\":{\"outlinewidth\":0,\"ticks\":\"\"}},\"type\":\"scattergeo\"}],\"scattergl\":[{\"marker\":{\"colorbar\":{\"outlinewidth\":0,\"ticks\":\"\"}},\"type\":\"scattergl\"}],\"scattermapbox\":[{\"marker\":{\"colorbar\":{\"outlinewidth\":0,\"ticks\":\"\"}},\"type\":\"scattermapbox\"}],\"scatterpolar\":[{\"marker\":{\"colorbar\":{\"outlinewidth\":0,\"ticks\":\"\"}},\"type\":\"scatterpolar\"}],\"scatterpolargl\":[{\"marker\":{\"colorbar\":{\"outlinewidth\":0,\"ticks\":\"\"}},\"type\":\"scatterpolargl\"}],\"scatterternary\":[{\"marker\":{\"colorbar\":{\"outlinewidth\":0,\"ticks\":\"\"}},\"type\":\"scatterternary\"}],\"surface\":[{\"colorbar\":{\"outlinewidth\":0,\"ticks\":\"\"},\"colorscale\":[[0.0,\"#0d0887\"],[0.1111111111111111,\"#46039f\"],[0.2222222222222222,\"#7201a8\"],[0.3333333333333333,\"#9c179e\"],[0.4444444444444444,\"#bd3786\"],[0.5555555555555556,\"#d8576b\"],[0.6666666666666666,\"#ed7953\"],[0.7777777777777778,\"#fb9f3a\"],[0.8888888888888888,\"#fdca26\"],[1.0,\"#f0f921\"]],\"type\":\"surface\"}],\"table\":[{\"cells\":{\"fill\":{\"color\":\"#EBF0F8\"},\"line\":{\"color\":\"white\"}},\"header\":{\"fill\":{\"color\":\"#C8D4E3\"},\"line\":{\"color\":\"white\"}},\"type\":\"table\"}]},\"layout\":{\"annotationdefaults\":{\"arrowcolor\":\"#2a3f5f\",\"arrowhead\":0,\"arrowwidth\":1},\"autotypenumbers\":\"strict\",\"coloraxis\":{\"colorbar\":{\"outlinewidth\":0,\"ticks\":\"\"}},\"colorscale\":{\"diverging\":[[0,\"#8e0152\"],[0.1,\"#c51b7d\"],[0.2,\"#de77ae\"],[0.3,\"#f1b6da\"],[0.4,\"#fde0ef\"],[0.5,\"#f7f7f7\"],[0.6,\"#e6f5d0\"],[0.7,\"#b8e186\"],[0.8,\"#7fbc41\"],[0.9,\"#4d9221\"],[1,\"#276419\"]],\"sequential\":[[0.0,\"#0d0887\"],[0.1111111111111111,\"#46039f\"],[0.2222222222222222,\"#7201a8\"],[0.3333333333333333,\"#9c179e\"],[0.4444444444444444,\"#bd3786\"],[0.5555555555555556,\"#d8576b\"],[0.6666666666666666,\"#ed7953\"],[0.7777777777777778,\"#fb9f3a\"],[0.8888888888888888,\"#fdca26\"],[1.0,\"#f0f921\"]],\"sequentialminus\":[[0.0,\"#0d0887\"],[0.1111111111111111,\"#46039f\"],[0.2222222222222222,\"#7201a8\"],[0.3333333333333333,\"#9c179e\"],[0.4444444444444444,\"#bd3786\"],[0.5555555555555556,\"#d8576b\"],[0.6666666666666666,\"#ed7953\"],[0.7777777777777778,\"#fb9f3a\"],[0.8888888888888888,\"#fdca26\"],[1.0,\"#f0f921\"]]},\"colorway\":[\"#636efa\",\"#EF553B\",\"#00cc96\",\"#ab63fa\",\"#FFA15A\",\"#19d3f3\",\"#FF6692\",\"#B6E880\",\"#FF97FF\",\"#FECB52\"],\"font\":{\"color\":\"#2a3f5f\"},\"geo\":{\"bgcolor\":\"white\",\"lakecolor\":\"white\",\"landcolor\":\"#E5ECF6\",\"showlakes\":true,\"showland\":true,\"subunitcolor\":\"white\"},\"hoverlabel\":{\"align\":\"left\"},\"hovermode\":\"closest\",\"mapbox\":{\"style\":\"light\"},\"paper_bgcolor\":\"white\",\"plot_bgcolor\":\"#E5ECF6\",\"polar\":{\"angularaxis\":{\"gridcolor\":\"white\",\"linecolor\":\"white\",\"ticks\":\"\"},\"bgcolor\":\"#E5ECF6\",\"radialaxis\":{\"gridcolor\":\"white\",\"linecolor\":\"white\",\"ticks\":\"\"}},\"scene\":{\"xaxis\":{\"backgroundcolor\":\"#E5ECF6\",\"gridcolor\":\"white\",\"gridwidth\":2,\"linecolor\":\"white\",\"showbackground\":true,\"ticks\":\"\",\"zerolinecolor\":\"white\"},\"yaxis\":{\"backgroundcolor\":\"#E5ECF6\",\"gridcolor\":\"white\",\"gridwidth\":2,\"linecolor\":\"white\",\"showbackground\":true,\"ticks\":\"\",\"zerolinecolor\":\"white\"},\"zaxis\":{\"backgroundcolor\":\"#E5ECF6\",\"gridcolor\":\"white\",\"gridwidth\":2,\"linecolor\":\"white\",\"showbackground\":true,\"ticks\":\"\",\"zerolinecolor\":\"white\"}},\"shapedefaults\":{\"line\":{\"color\":\"#2a3f5f\"}},\"ternary\":{\"aaxis\":{\"gridcolor\":\"white\",\"linecolor\":\"white\",\"ticks\":\"\"},\"baxis\":{\"gridcolor\":\"white\",\"linecolor\":\"white\",\"ticks\":\"\"},\"bgcolor\":\"#E5ECF6\",\"caxis\":{\"gridcolor\":\"white\",\"linecolor\":\"white\",\"ticks\":\"\"}},\"title\":{\"x\":0.05},\"xaxis\":{\"automargin\":true,\"gridcolor\":\"white\",\"linecolor\":\"white\",\"ticks\":\"\",\"title\":{\"standoff\":15},\"zerolinecolor\":\"white\",\"zerolinewidth\":2},\"yaxis\":{\"automargin\":true,\"gridcolor\":\"white\",\"linecolor\":\"white\",\"ticks\":\"\",\"title\":{\"standoff\":15},\"zerolinecolor\":\"white\",\"zerolinewidth\":2}}},\"title\":{\"text\":\"\\u0421\\u0440\\u0435\\u0434\\u043d\\u044f\\u044f \\u0441\\u0442\\u043e\\u0438\\u043c\\u043e\\u0441\\u0442\\u044c 1 \\u0423\\u0415\\u0422 \\u0432 \\u0440\\u0443\\u0431 \\u0437\\u0430 2022 \\u0433\\u043e\\u0434 (\\u043f\\u043b\\u0430\\u043d: 167.7)\"},\"width\":1360,\"xaxis\":{\"anchor\":\"y\",\"categoryorder\":\"total descending\",\"domain\":[0.0,1.0],\"title\":{\"text\":\"\\u0412\\u0440\\u0430\\u0447\"}},\"yaxis\":{\"anchor\":\"x\",\"domain\":[0.0,1.0],\"dtick\":167.7,\"gridcolor\":\"black\",\"title\":{\"text\":\"RPU\"}}},                        {\"responsive\": true}                    ).then(function(){\n",
       "                            \n",
       "var gd = document.getElementById('9a67f463-2f75-4bd6-90a5-627e390de8c2');\n",
       "var x = new MutationObserver(function (mutations, observer) {{\n",
       "        var display = window.getComputedStyle(gd).display;\n",
       "        if (!display || display === 'none') {{\n",
       "            console.log([gd, 'removed!']);\n",
       "            Plotly.purge(gd);\n",
       "            observer.disconnect();\n",
       "        }}\n",
       "}});\n",
       "\n",
       "// Listen for the removal of the full notebook cells\n",
       "var notebookContainer = gd.closest('#notebook-container');\n",
       "if (notebookContainer) {{\n",
       "    x.observe(notebookContainer, {childList: true});\n",
       "}}\n",
       "\n",
       "// Listen for the clearing of the current output cell\n",
       "var outputEl = gd.closest('.output');\n",
       "if (outputEl) {{\n",
       "    x.observe(outputEl, {childList: true});\n",
       "}}\n",
       "\n",
       "                        })                };                });            </script>        </div>"
      ]
     },
     "metadata": {},
     "output_type": "display_data"
    }
   ],
   "source": [
    "# Средняя стоимость 1 УЕТ в руб по врачу и месяцу (цв)\n",
    "\n",
    "px.bar(df_result_by_month.query('Врач != \"Коваленко Ольга Эдуардовна физио\"'), \n",
    "                x='Врач',\n",
    "                y='RPU',\n",
    "                title=f'Средняя стоимость 1 УЕТ в руб за {year} год (план: {mean_uet})',\n",
    "                text='RPU',\n",
    "                color='Месяц',\n",
    "                barmode='group',\n",
    "                width=1360) \\\n",
    "    .update_yaxes(gridcolor='black', dtick = 167.7) \\\n",
    "    .update_xaxes(categoryorder='total descending')"
   ]
  },
  {
   "cell_type": "code",
   "execution_count": null,
   "metadata": {},
   "outputs": [],
   "source": [
    "# Ниже work in progress"
   ]
  },
  {
   "cell_type": "code",
   "execution_count": null,
   "metadata": {},
   "outputs": [],
   "source": []
  },
  {
   "cell_type": "code",
   "execution_count": null,
   "metadata": {},
   "outputs": [],
   "source": []
  },
  {
   "cell_type": "code",
   "execution_count": null,
   "metadata": {},
   "outputs": [],
   "source": []
  },
  {
   "cell_type": "code",
   "execution_count": null,
   "metadata": {},
   "outputs": [],
   "source": []
  },
  {
   "cell_type": "code",
   "execution_count": null,
   "metadata": {},
   "outputs": [],
   "source": [
    "# Число рабочих дней по врачам с указанием специальности\n",
    "\n",
    "working_days = df_all.groupby(['FIO_MD', 'PRVS', 'DATE_IN'], as_index=False) \\\n",
    "                        .agg({'NHISTORY': 'nunique', 'SUM_UET': 'sum', 'SUM_RUB': 'sum'}) \\\n",
    "                        .groupby('FIO_MD') \\\n",
    "                        .agg({'PRVS': 'min', 'DATE_IN': 'count', 'SUM_UET': 'sum', 'SUM_RUB': 'sum', 'NHISTORY': 'mean'})\n",
    "working_days['spec'] = working_days \\\n",
    "                            .PRVS \\\n",
    "                            .map({208: 'тер', 72: 'хир', 69: 'тер', 71: 'тер', 87: 'физио'})\n",
    "working_days.drop(columns='PRVS', inplace=True)"
   ]
  },
  {
   "cell_type": "code",
   "execution_count": null,
   "metadata": {},
   "outputs": [],
   "source": [
    "working_days.SUM_RUB.sum()"
   ]
  },
  {
   "cell_type": "code",
   "execution_count": null,
   "metadata": {},
   "outputs": [],
   "source": [
    "working_days.SUM_UET.sum()"
   ]
  },
  {
   "cell_type": "code",
   "execution_count": null,
   "metadata": {},
   "outputs": [],
   "source": [
    "working_days"
   ]
  },
  {
   "cell_type": "code",
   "execution_count": null,
   "metadata": {},
   "outputs": [],
   "source": [
    "# Среднедневная выработка УЕТ по специальностям\n",
    "\n",
    "working_days.groupby('spec').agg({'SUM_UET': 'mean'})"
   ]
  },
  {
   "cell_type": "code",
   "execution_count": null,
   "metadata": {
    "scrolled": true
   },
   "outputs": [],
   "source": [
    "# Статистика по талонам в день\n",
    "\n",
    "working_days.query('spec == \"тер\"').NHISTORY.describe()"
   ]
  },
  {
   "cell_type": "code",
   "execution_count": null,
   "metadata": {},
   "outputs": [],
   "source": [
    "# Число рабочих дней в год по специальности (факт)\n",
    "# План по терапевтам 4047 (19 врачей Скалкович+Кукушкина пока принимают условно по 0.5 приема) по средней в 213 дней)\n",
    "# План по терапевтам 3990 (19 врачей Скалкович+Кукушкина пока принимают условно по 0.5 приема) по медиане 210 дней)\n",
    "# План по хирургам 1314 (6 врачей по 219 дней - среднее по факту 2021 года при медиане 223)\n",
    "\n",
    "working_days.groupby('spec').agg({'DATE_IN': 'sum'})"
   ]
  },
  {
   "cell_type": "code",
   "execution_count": null,
   "metadata": {},
   "outputs": [],
   "source": [
    "# Статистика по числу рабочих дней\n",
    "\n",
    "working_days.query('spec == \"тер\"').DATE_IN.describe()"
   ]
  },
  {
   "cell_type": "code",
   "execution_count": null,
   "metadata": {},
   "outputs": [],
   "source": [
    "# Медианное число рабочих дней терапевтов в 2021 (факт) - Медианное число рабочих дней терапевтов в 2022\n",
    "\n",
    "ter_days = 210 - working_days.query('spec == \"тер\"').DATE_IN.median()\n",
    "ter_days"
   ]
  },
  {
   "cell_type": "code",
   "execution_count": null,
   "metadata": {},
   "outputs": [],
   "source": [
    "# Медианное число рабочих дней хирургов в 2021 (факт) - Медианное число рабочих дней хирургов в 2022\n",
    "# Чистая медиана 223\n",
    "# Среднее без Саркисова 219\n",
    "\n",
    "hir_days = 219 - working_days.query('spec == \"хир\"').DATE_IN.median()\n",
    "hir_days"
   ]
  },
  {
   "cell_type": "code",
   "execution_count": null,
   "metadata": {},
   "outputs": [],
   "source": [
    "# Плановые расчеты ниже возможно не завершены (основной расчет был в ноутбуке за 2021 год)\n",
    "\n",
    "# План на 2022 год\n",
    "\n",
    "plan2022_oms = 414548\n",
    "plan2022_total = 414548*100/88\n",
    "plan2022_total"
   ]
  },
  {
   "cell_type": "code",
   "execution_count": null,
   "metadata": {},
   "outputs": [],
   "source": [
    "# План по специальностям на 2022 год\n",
    "\n",
    "ter_plan = plan2022_total*78.8/100\n",
    "hir_plan = plan2022_total*17.9/100\n",
    "fizio_plan = plan2022_total*3.3/100"
   ]
  },
  {
   "cell_type": "code",
   "execution_count": null,
   "metadata": {},
   "outputs": [],
   "source": [
    "# Число врачей по специальностям\n",
    "ter_count = 19\n",
    "hir_count = 6"
   ]
  },
  {
   "cell_type": "code",
   "execution_count": null,
   "metadata": {},
   "outputs": [],
   "source": [
    "# План на 2022 год без января\n",
    "\n",
    "plan2022_corr = plan2022_total - working_days.SUM_UET.sum()"
   ]
  },
  {
   "cell_type": "code",
   "execution_count": null,
   "metadata": {},
   "outputs": [],
   "source": [
    "# План по специальностям на 2022 год без января\n",
    "\n",
    "ter_plan_corr = plan2022_corr*78.8/100\n",
    "hir_plan_corr = plan2022_corr*17.9/100\n",
    "fizio_plan_corr = plan2022_corr*3.3/100"
   ]
  },
  {
   "cell_type": "code",
   "execution_count": null,
   "metadata": {},
   "outputs": [],
   "source": [
    "ter_plan_corr/ter_count/ter_days"
   ]
  },
  {
   "cell_type": "code",
   "execution_count": null,
   "metadata": {
    "scrolled": true
   },
   "outputs": [],
   "source": [
    "hir_plan_corr/hir_count/hir_days"
   ]
  },
  {
   "cell_type": "code",
   "execution_count": null,
   "metadata": {},
   "outputs": [],
   "source": [
    "fizio_plan_corr/1/253"
   ]
  },
  {
   "cell_type": "code",
   "execution_count": null,
   "metadata": {},
   "outputs": [],
   "source": [
    "# \n",
    "\n",
    "plan2022_total/12 - working_days.SUM_UET.sum()"
   ]
  },
  {
   "cell_type": "code",
   "execution_count": null,
   "metadata": {},
   "outputs": [],
   "source": []
  },
  {
   "cell_type": "code",
   "execution_count": null,
   "metadata": {},
   "outputs": [],
   "source": []
  },
  {
   "cell_type": "code",
   "execution_count": null,
   "metadata": {},
   "outputs": [],
   "source": []
  },
  {
   "cell_type": "code",
   "execution_count": null,
   "metadata": {},
   "outputs": [],
   "source": [
    "# Число рабочих дней по врачам с указанием специальности\n",
    "\n",
    "working_days = df_all.groupby(['FIO_MD', 'PRVS', 'DATE_IN'], as_index=False) \\\n",
    "                        .agg({'NHISTORY': 'nunique', 'SUM_UET': 'sum'}) \\\n",
    "                        .groupby('FIO_MD') \\\n",
    "                        .agg({'PRVS': 'min', 'DATE_IN': 'count', 'SUM_UET': 'mean', 'NHISTORY': 'mean'})\n",
    "working_days['spec'] = working_days \\\n",
    "                            .PRVS \\\n",
    "                            .map({208: 'тер', 72: 'хир', 69: 'тер', 71: 'тер', 87: 'физио'})\n",
    "working_days.drop(columns='PRVS', inplace=True)"
   ]
  },
  {
   "cell_type": "code",
   "execution_count": null,
   "metadata": {},
   "outputs": [],
   "source": [
    "df_all['FIO_MD'].unique()"
   ]
  },
  {
   "cell_type": "code",
   "execution_count": null,
   "metadata": {},
   "outputs": [],
   "source": [
    "# Выполнение УЕТ по дням и количество врачей по специальностям в этот день\n",
    "\n",
    "uet_by_day = df_all \\\n",
    "                .groupby(['DATE_IN', 'spec'], as_index=False) \\\n",
    "                .agg({'FIO_MD': 'nunique'}) \\\n",
    "                .pivot(index='DATE_IN', columns='spec', values='FIO_MD') \\\n",
    "                .fillna(0) \\\n",
    "                .astype('int32') \\\n",
    "                .merge(df_all \\\n",
    "                        .groupby('DATE_IN') \\\n",
    "                        .agg({'SUM_UET': 'sum'}),\n",
    "                       on='DATE_IN',\n",
    "                       how='left'\n",
    "                      )"
   ]
  },
  {
   "cell_type": "code",
   "execution_count": null,
   "metadata": {},
   "outputs": [],
   "source": [
    "uet_by_day[uet_by_day.index.dayofweek < 5]"
   ]
  },
  {
   "cell_type": "code",
   "execution_count": null,
   "metadata": {},
   "outputs": [],
   "source": [
    "# Среднее УЕТ в день\n",
    "\n",
    "plt.figure(figsize=(15,10))\n",
    "sns.lineplot(data=uet_by_day[uet_by_day.index.dayofweek < 5], \n",
    "             x='DATE_IN', \n",
    "             y=uet_by_day[uet_by_day.index.dayofweek < 5].SUM_UET,\n",
    "             label='УЕТ')\n",
    "sns.lineplot(data=uet_by_day[uet_by_day.index.dayofweek < 5], \n",
    "             x='DATE_IN', \n",
    "             y=(uet_by_day[uet_by_day.index.dayofweek < 5].тер)*100,\n",
    "             label='Число терапевтов')\n",
    "sns.lineplot(data=uet_by_day[uet_by_day.index.dayofweek < 5], \n",
    "             x='DATE_IN', \n",
    "             y=(uet_by_day[uet_by_day.index.dayofweek < 5].хир)*100,\n",
    "             label='Число хирургов')"
   ]
  },
  {
   "cell_type": "code",
   "execution_count": null,
   "metadata": {},
   "outputs": [],
   "source": [
    "uet_by_day[uet_by_day.index.dayofweek < 5].corr()"
   ]
  },
  {
   "cell_type": "code",
   "execution_count": null,
   "metadata": {},
   "outputs": [],
   "source": [
    "uet_by_day[uet_by_day.index.dayofweek < 5].corr(method='spearman')"
   ]
  },
  {
   "cell_type": "code",
   "execution_count": null,
   "metadata": {},
   "outputs": [],
   "source": [
    "uet_by_day[uet_by_day.index.dayofweek < 5].corr(method='kendall')"
   ]
  },
  {
   "cell_type": "code",
   "execution_count": null,
   "metadata": {},
   "outputs": [],
   "source": []
  },
  {
   "cell_type": "code",
   "execution_count": null,
   "metadata": {},
   "outputs": [],
   "source": []
  },
  {
   "cell_type": "code",
   "execution_count": null,
   "metadata": {},
   "outputs": [],
   "source": []
  },
  {
   "cell_type": "code",
   "execution_count": null,
   "metadata": {},
   "outputs": [],
   "source": []
  },
  {
   "cell_type": "code",
   "execution_count": null,
   "metadata": {},
   "outputs": [],
   "source": []
  },
  {
   "cell_type": "code",
   "execution_count": null,
   "metadata": {},
   "outputs": [],
   "source": []
  }
 ],
 "metadata": {
  "kernelspec": {
   "display_name": "Python 3",
   "language": "python",
   "name": "python3"
  },
  "language_info": {
   "codemirror_mode": {
    "name": "ipython",
    "version": 3
   },
   "file_extension": ".py",
   "mimetype": "text/x-python",
   "name": "python",
   "nbconvert_exporter": "python",
   "pygments_lexer": "ipython3",
   "version": "3.8.5"
  }
 },
 "nbformat": 4,
 "nbformat_minor": 4
}
